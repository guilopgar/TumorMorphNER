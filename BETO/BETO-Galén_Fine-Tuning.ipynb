{
 "cells": [
  {
   "cell_type": "markdown",
   "metadata": {},
   "source": [
    "# Fine-tuning BETO-Galén on Cantemist-NER\n",
    "\n",
    "In this notebook, following a multi-class token classification approach, the BETO-Galén model is fine-tuned on both the training and development sets of the Cantemit-NER corpus. Additionally, the predictions made by the model on the test set are saved, in order to futher evaluate the NER performance of the model (see `results/Evaluation.ipynb`)."
   ]
  },
  {
   "cell_type": "code",
   "execution_count": 1,
   "metadata": {},
   "outputs": [],
   "source": [
    "import tensorflow as tf\n",
    "\n",
    "# Auxiliary components\n",
    "from nlp_utils import *\n",
    "\n",
    "from transformers import BertTokenizerFast\n",
    "model_name = \"BETO-Galen/\"\n",
    "tokenizer = BertTokenizerFast.from_pretrained(model_name, do_lower_case=False)\n",
    "\n",
    "# Hyper-parameters\n",
    "text_col = \"raw_text\"\n",
    "SEQ_LEN = 128\n",
    "BATCH_SIZE = 16\n",
    "EPOCHS = 73\n",
    "LR = 3e-5\n",
    "\n",
    "GREEDY = True\n",
    "IGNORE_VALUE = -100\n",
    "ANN_STRATEGY = \"word-all\"\n",
    "EVAL_STRATEGY = \"word-max\"\n",
    "LOGITS = True\n",
    "\n",
    "random_seed = 0\n",
    "tf.random.set_seed(random_seed)"
   ]
  },
  {
   "cell_type": "markdown",
   "metadata": {},
   "source": [
    "## Load text\n",
    "\n",
    "Firstly, all text files from training and development Cantemist corpora are loaded in different dataframes.\n",
    "\n",
    "Also, NER-annotations are loaded."
   ]
  },
  {
   "cell_type": "code",
   "execution_count": 2,
   "metadata": {},
   "outputs": [],
   "source": [
    "corpus_path = \"../datasets/cantemist_v6/\"\n",
    "sub_task_path = \"cantemist-ner/\""
   ]
  },
  {
   "cell_type": "markdown",
   "metadata": {},
   "source": [
    "### Training corpus"
   ]
  },
  {
   "cell_type": "code",
   "execution_count": 3,
   "metadata": {},
   "outputs": [
    {
     "name": "stdout",
     "output_type": "stream",
     "text": [
      "CPU times: user 9.74 ms, sys: 11.4 ms, total: 21.1 ms\n",
      "Wall time: 19.6 ms\n"
     ]
    }
   ],
   "source": [
    "%%time\n",
    "train_path = corpus_path + \"train-set/\" + sub_task_path\n",
    "train_files = [f for f in os.listdir(train_path) if os.path.isfile(train_path + f) and f.split('.')[-1] == \"txt\"]\n",
    "n_train_files = len(train_files)\n",
    "train_data = load_text_files(train_files, train_path)\n",
    "dev1_path = corpus_path + \"dev-set1/\" + sub_task_path\n",
    "train_files.extend([f for f in os.listdir(dev1_path) if os.path.isfile(dev1_path + f) and f.split('.')[-1] == \"txt\"])\n",
    "train_data.extend(load_text_files(train_files[n_train_files:], dev1_path))\n",
    "df_text_train = pd.DataFrame({'doc_id': [s.split('.txt')[0] for s in train_files], 'raw_text': train_data})"
   ]
  },
  {
   "cell_type": "code",
   "execution_count": 4,
   "metadata": {},
   "outputs": [
    {
     "data": {
      "text/plain": [
       "(751, 2)"
      ]
     },
     "execution_count": 4,
     "metadata": {},
     "output_type": "execute_result"
    }
   ],
   "source": [
    "df_text_train.shape"
   ]
  },
  {
   "cell_type": "code",
   "execution_count": 5,
   "metadata": {},
   "outputs": [
    {
     "data": {
      "text/html": [
       "<div>\n",
       "<style scoped>\n",
       "    .dataframe tbody tr th:only-of-type {\n",
       "        vertical-align: middle;\n",
       "    }\n",
       "\n",
       "    .dataframe tbody tr th {\n",
       "        vertical-align: top;\n",
       "    }\n",
       "\n",
       "    .dataframe thead th {\n",
       "        text-align: right;\n",
       "    }\n",
       "</style>\n",
       "<table border=\"1\" class=\"dataframe\">\n",
       "  <thead>\n",
       "    <tr style=\"text-align: right;\">\n",
       "      <th></th>\n",
       "      <th>doc_id</th>\n",
       "      <th>raw_text</th>\n",
       "    </tr>\n",
       "  </thead>\n",
       "  <tbody>\n",
       "    <tr>\n",
       "      <th>0</th>\n",
       "      <td>cc_onco453</td>\n",
       "      <td>Anamnesis\\nSe trata de un varón de 55 años, ex...</td>\n",
       "    </tr>\n",
       "    <tr>\n",
       "      <th>1</th>\n",
       "      <td>cc_onco962</td>\n",
       "      <td>Anamnesis\\nMujer de 40 años que consulta por l...</td>\n",
       "    </tr>\n",
       "    <tr>\n",
       "      <th>2</th>\n",
       "      <td>cc_onco989</td>\n",
       "      <td>Anamnesis\\nPaciente de 43 años, perimenopáusic...</td>\n",
       "    </tr>\n",
       "    <tr>\n",
       "      <th>3</th>\n",
       "      <td>cc_onco187</td>\n",
       "      <td>Anamnesis\\nVarón de 72 años, exfumador y bebed...</td>\n",
       "    </tr>\n",
       "    <tr>\n",
       "      <th>4</th>\n",
       "      <td>cc_onco164</td>\n",
       "      <td>Anamnesis\\nMujer de 51 años, sin alergias medi...</td>\n",
       "    </tr>\n",
       "  </tbody>\n",
       "</table>\n",
       "</div>"
      ],
      "text/plain": [
       "       doc_id                                           raw_text\n",
       "0  cc_onco453  Anamnesis\\nSe trata de un varón de 55 años, ex...\n",
       "1  cc_onco962  Anamnesis\\nMujer de 40 años que consulta por l...\n",
       "2  cc_onco989  Anamnesis\\nPaciente de 43 años, perimenopáusic...\n",
       "3  cc_onco187  Anamnesis\\nVarón de 72 años, exfumador y bebed...\n",
       "4  cc_onco164  Anamnesis\\nMujer de 51 años, sin alergias medi..."
      ]
     },
     "execution_count": 5,
     "metadata": {},
     "output_type": "execute_result"
    }
   ],
   "source": [
    "df_text_train.head()"
   ]
  },
  {
   "cell_type": "code",
   "execution_count": 6,
   "metadata": {},
   "outputs": [
    {
     "data": {
      "text/plain": [
       "751"
      ]
     },
     "execution_count": 6,
     "metadata": {},
     "output_type": "execute_result"
    }
   ],
   "source": [
    "len(set(df_text_train['doc_id']))"
   ]
  },
  {
   "cell_type": "code",
   "execution_count": 7,
   "metadata": {},
   "outputs": [
    {
     "data": {
      "text/plain": [
       "'Anamnesis\\nSe trata de un varón de 55 años, ex fumador con un índice tabáquico de 40 paquetes-año, HTA, sin antecedentes familiares de interés, en tratamiento con ácido fólico, omeprazol, hierro oral y risperidona.\\nEn junio de 2017, es diagnosticado a raíz de una trombosis iliaca derecha de una masa tumoral pobremente diferenciada que infiltraba tercio distal de apéndice cecal, con obliteración del paquete vascular iliaco, así como infiltración del uréter derecho, condicionando ureterohidronefrosis derecha grado cuatro.\\nSe realiza biopsia de la lesión, con hallazgos anatomopatológicos de neoplasia fusocelular con inmunohistoquímica (IHC) sugerente de origen urotelial con diferenciación sarcomatoide (positividad para p63, p40, GATA3, CD99, EMA CAM 5.2, CK 34, beta E12, CK7, negatividad para CK20, S100, CD34, cKIT y TTF1), con SYT no reordenado.\\nSe lleva a cabo intervención en julio de 2017 con extirpación de la masa tumoral, resección ileocecal, dejando ileostomía terminal y bypass extraanatómico femorofemoral.\\nEn octubre de 2017, se observa en TC toracoabdominopélvica una lesión hepática de nueva aparición que sugiere de metástasis.\\nCon juicio clínico de carcinoma urotelial de alto grado con diferenciación sarcomatoide estadio IV (pT4N2M1) por afectación hepática, se decide iniciar tratamiento sistémico de primera línea en febrero de 2018 dentro de ensayo clínico con antiPD1 y antiCTLA4 hasta julio de 2018, presentando buena tolerancia al tratamiento, pero con progresión de la enfermedad a nivel hepático.\\nInicia entonces segunda línea de tratamiento con carboplatino AUC5 día 1 y gemcitabina 1.000 mg/m2 días 1 y 8 cada 21 días, el 20 de agosto de 2018.\\nEn octubre de 2018, tras cinco ciclos de quimioterapia y una dosis acumulada de gemcitabina de 10.000 mg/m2, el paciente refiere aparición de lesiones ulceradas y dolorosas en regiones acras de dedos de manos.\\nCon sospecha de isquemia digital aguda, es derivado a Urgencias para valoración por Cirugía Vascular.\\n\\nExploración física\\nDurante la exploración física no presenta esclerodactilia, telangiectasias ni otras lesiones sugerentes de conectivopatías. Los pulsos radiales presentes y cubitales ausentes, con relleno capilar sin alteraciones.\\n\\nPruebas complementarias\\nEn analítica destacaba anemia normocítica normocroma grado 1 con Hb 10,2 g/dl (rango 13-15,5), sin otros hallazgos relevantes.\\nSe realiza estudio de autoanticuerpos (ENAS negativos, ANA positivo [1/80], anticuerpo (Ac) anti-P cíclico citrulinado negativo, Ac beta2-glicoproteina IgM e IgG negativos, cardiolipina IgG e IgM negativos, C-ANCAS y P-ANCAS negativos, VSG 137mm [rango 1,00-15] y crioglobulinas débilmente positivas) y estudio serológico con hallazgos de infección pasada de VHE y resto de virus hepatotropos negativos.\\nSe lleva a cabo eco-Doppler de miembros superiores en la que destaca alteración de flujo en arteria cubital derecha, y ecocardiograma transtorácico sin signos de endocarditis infecciosa.\\nEn la capilaroscopia como única alteración, destaca la presencia en segundo dedo de mano izquierda una hemorragia aislada, con distribución y densidad capilar conservada.\\n\\nDiagnóstico\\nCon estas pruebas, el paciente es diagnosticado de isquemia digital con datos de afectación macrovascular en relación al tratamiento de gemcitabina.\\n\\nTratamiento\\nEl paciente inicia tratamiento con prostaglandinas (PG) y anticoagulación con heparina de bajo peso molecular a dosis de 1 mg/kg cada 12 horas, experimentando mejoría progresiva de los síntomas y de las lesiones.\\n\\nEvolución\\nSe decide discontinuar tratamiento de quimioterapia, presentando respuesta parcial de la enfermedad tumoral con disminución de la masa pélvica, adenopatías retroperitoneales y de las metástasis hepáticas en TC de enero de 2019.'"
      ]
     },
     "execution_count": 7,
     "metadata": {},
     "output_type": "execute_result"
    }
   ],
   "source": [
    "df_text_train.raw_text[0]"
   ]
  },
  {
   "cell_type": "markdown",
   "metadata": {},
   "source": [
    "### Development corpus"
   ]
  },
  {
   "cell_type": "code",
   "execution_count": 8,
   "metadata": {},
   "outputs": [
    {
     "name": "stdout",
     "output_type": "stream",
     "text": [
      "CPU times: user 7.02 ms, sys: 0 ns, total: 7.02 ms\n",
      "Wall time: 6.78 ms\n"
     ]
    }
   ],
   "source": [
    "%%time\n",
    "dev_path = corpus_path + \"dev-set2/\" + sub_task_path\n",
    "dev_files = [f for f in os.listdir(dev_path) if os.path.isfile(dev_path + f) and f.split('.')[-1] == \"txt\"]\n",
    "dev_data = load_text_files(dev_files, dev_path)\n",
    "df_text_dev = pd.DataFrame({'doc_id': [s.split('.txt')[0] for s in dev_files], 'raw_text': dev_data})"
   ]
  },
  {
   "cell_type": "code",
   "execution_count": 9,
   "metadata": {},
   "outputs": [
    {
     "data": {
      "text/plain": [
       "(250, 2)"
      ]
     },
     "execution_count": 9,
     "metadata": {},
     "output_type": "execute_result"
    }
   ],
   "source": [
    "df_text_dev.shape"
   ]
  },
  {
   "cell_type": "code",
   "execution_count": 10,
   "metadata": {},
   "outputs": [
    {
     "data": {
      "text/html": [
       "<div>\n",
       "<style scoped>\n",
       "    .dataframe tbody tr th:only-of-type {\n",
       "        vertical-align: middle;\n",
       "    }\n",
       "\n",
       "    .dataframe tbody tr th {\n",
       "        vertical-align: top;\n",
       "    }\n",
       "\n",
       "    .dataframe thead th {\n",
       "        text-align: right;\n",
       "    }\n",
       "</style>\n",
       "<table border=\"1\" class=\"dataframe\">\n",
       "  <thead>\n",
       "    <tr style=\"text-align: right;\">\n",
       "      <th></th>\n",
       "      <th>doc_id</th>\n",
       "      <th>raw_text</th>\n",
       "    </tr>\n",
       "  </thead>\n",
       "  <tbody>\n",
       "    <tr>\n",
       "      <th>0</th>\n",
       "      <td>cc_onco1183</td>\n",
       "      <td>Anamnesis\\nVarón de 48 años que acude en agost...</td>\n",
       "    </tr>\n",
       "    <tr>\n",
       "      <th>1</th>\n",
       "      <td>cc_onco751</td>\n",
       "      <td>Anamnesis\\nHombre de 71 años de edad con antec...</td>\n",
       "    </tr>\n",
       "    <tr>\n",
       "      <th>2</th>\n",
       "      <td>cc_onco1384</td>\n",
       "      <td>Anamnesis\\nVarón de 30 años, sin antecedentes ...</td>\n",
       "    </tr>\n",
       "    <tr>\n",
       "      <th>3</th>\n",
       "      <td>cc_onco1208</td>\n",
       "      <td>Anamnesis\\nVarón de 76 años diagnosticado en a...</td>\n",
       "    </tr>\n",
       "    <tr>\n",
       "      <th>4</th>\n",
       "      <td>cc_onco734</td>\n",
       "      <td>Anamnesis\\nTras canalización del reservorio ce...</td>\n",
       "    </tr>\n",
       "  </tbody>\n",
       "</table>\n",
       "</div>"
      ],
      "text/plain": [
       "        doc_id                                           raw_text\n",
       "0  cc_onco1183  Anamnesis\\nVarón de 48 años que acude en agost...\n",
       "1   cc_onco751  Anamnesis\\nHombre de 71 años de edad con antec...\n",
       "2  cc_onco1384  Anamnesis\\nVarón de 30 años, sin antecedentes ...\n",
       "3  cc_onco1208  Anamnesis\\nVarón de 76 años diagnosticado en a...\n",
       "4   cc_onco734  Anamnesis\\nTras canalización del reservorio ce..."
      ]
     },
     "execution_count": 10,
     "metadata": {},
     "output_type": "execute_result"
    }
   ],
   "source": [
    "df_text_dev.head()"
   ]
  },
  {
   "cell_type": "code",
   "execution_count": 11,
   "metadata": {},
   "outputs": [
    {
     "data": {
      "text/plain": [
       "250"
      ]
     },
     "execution_count": 11,
     "metadata": {},
     "output_type": "execute_result"
    }
   ],
   "source": [
    "len(set(df_text_dev['doc_id']))"
   ]
  },
  {
   "cell_type": "code",
   "execution_count": 12,
   "metadata": {},
   "outputs": [
    {
     "data": {
      "text/plain": [
       "'Anamnesis\\nVarón de 48 años que acude en agosto de 2012 tras la realización de amputación en hallux derecho a la primera valoración por Oncología Médica.\\nAntecedentes: no alérgicos. Patológicos: diabético hace 3 años sin tratamiento. HTA en tratamiento. Enolismo crónico.\\nTrastorno afectivo bipolar. Quirúrgicos: apendicectomizado.\\nEnfermedad actual: desde hace 2 años presentaba una lesión hiperpigmentada en el hallux del pie derecho, que ocasionalmente sangraba.\\n\\nExamen físico\\nMuñón de hallux derecho en buen estado, presencia de adenopatías inguinales derechas. Resto de exploración sin alteraciones.\\n\\nPruebas complementarias\\n- Biopsia cutánea: melanoma ulcerado.\\n- AP de resección de melanoma: melanoma lentiginoso acral en fase de crecimiento vertical, ulcerado. Clark IV. Breslow 6,8 mm, sin infiltración linfovascular.\\n- TC de tórax-abdomen-pelvis: sin signos concluyentes de extensión tóraco-abdómino-pélvica de melanoma.\\nMicronódulos en el lóbulo superior derecho a valorar en controles sucesivos.\\n- Se realiza linfadenectomía inguinal electiva en octubre de 2012.\\n- AP: metástasis de melanoma en 4 de los 13 ganglios aislados.\\n\\nDiagnóstico\\nMelanoma lentiginoso acral en fase de crecimiento vertical ulcerado Clarck IV Breslow6,8 mm pT4b N2a M0 estadio IIIB.\\n\\nTratamiento\\nEn enero de 2013 inicia tratamiento adyuvante con interferón a altas dosis según el esquema Kirkwood, este se basa en el estudio ECOG 1684: interferón alfa-2b 20 millones de unidades i.v. x 20 días, seguido de 10 millones de unidades s.c. 3 veces a la semana durante 48 semanas. El paciente tuvo buena tolerancia a la fase de inducción y a la fase de mantenimiento.\\nEn agosto de 2013 se detecta un nódulo subcutáneo de 1,5 cm en la zona de la cicatriz del hallux derecho y también una lesión en la cara interna de la pierna derecha de 0,5 cm. Se considera recidiva intratratamiento, por lo que se interviene, realizándose exéresis local y ampliación de márgenes.\\nAP: melanoma de 2,4 x 0,7 x 0,8 cm con afectación del margen de resección.\\nSe decide enviar a Oncología Radioterápica por margen afecto.\\n\\nEvolución\\nDe septiembre a octubre de 2013 recibe tratamiento radioterápico \"adyuvante\": PTV en la lesión guiada por cicatriz en el pie derecho más 3 cm de margen, fraccionamiento 2,5 Gy en 24 fracciones hasta adminsitrar una dosis total de 60 Gy.\\nEn noviembre de 2013 presenta progresión cutánea con 4 lesiones hipercrómicas localizadas en el muslo derecho. No hay datos de afectación tóraco-abdominal a distancia.\\nEntre tanto, se realiza determinación del estado mutacional de B-RAF, el cual es nativo.\\nA la progresión cutánea se propone tratamiento con DTIC (1.000 mg/m2 cada 21 días), administrando un primer ciclo en diciembre de 2013. En enero de 2014 acude a consulta con un cuadro de ictericia mucocutánea y coluria. Se detecta bilirrubina total de 7,7 mg/dl, bilirrubina directa de 5,9 mg/dl. ALT 2.022 UI/l, AST 840 UI/l. Se realizan una ecografía hepatobiliar, con resultado normal, y serología de virus de hepatitis, con resultado de perfil de hepatitis B aguda. Se remite al Servicio de Aparato Digestivo, quienes realizan tratamiento conservador, observándose en semanas posteriores un descenso marcado en los valores de bilirrubina, ALT y AST hasta la completa normalidad.\\nEntre tanto, presenta crecimiento de numerosas lesiones subcutáneas distribuidas en la cara anterior e interna del muslo derecho sin datos de afectación a distancia en la TC. Se considera metástasis en tránsito de melanoma, por lo que en marzo de 2014 inicia la administración de interleucina-2 intralesional. Se aplica 1 ml en cada una de las lesiones subcutáneas, cubriendo un total de 20 lesiones por cada ciclo administrado cada 14 días, sin presentar efectos secundarios sistémicos, salvo dolor EVA 3 en los puntos de instilación, que mejoraba con el paracetamol. Con este tratamiento completa 5 ciclos hasta el mayo de 2014, presentando desaparición de la mayoría de las lesiones, persistiendo algunas de localización central.\\nEl 30 de mayo de 2014 acude con una TC de reevaluación, objetivándose progresión inguinal izquierda y una adenopatía en la cadena iliaca externa derecha de 3,3 x 2,3 cm compatible con progresión. Se ha propuesto una nueva línea de tratamiento con ipilimumab, pendiente de iniciar.'"
      ]
     },
     "execution_count": 12,
     "metadata": {},
     "output_type": "execute_result"
    }
   ],
   "source": [
    "df_text_dev.raw_text[0]"
   ]
  },
  {
   "cell_type": "markdown",
   "metadata": {},
   "source": [
    "## Process NER annotations\n",
    "\n",
    "We load and pre-process the NER annotations in BRAT format available for the Cantemist-NER subtask."
   ]
  },
  {
   "cell_type": "code",
   "execution_count": 13,
   "metadata": {},
   "outputs": [],
   "source": [
    "# Training corpus"
   ]
  },
  {
   "cell_type": "code",
   "execution_count": 14,
   "metadata": {},
   "outputs": [],
   "source": [
    "train_ann_files = [train_path + f for f in os.listdir(train_path) if f.split('.')[-1] == \"ann\"]\n",
    "train_ann_files.extend([dev1_path + f for f in os.listdir(dev1_path) if f.split('.')[-1] == \"ann\"])"
   ]
  },
  {
   "cell_type": "code",
   "execution_count": 15,
   "metadata": {},
   "outputs": [
    {
     "data": {
      "text/plain": [
       "751"
      ]
     },
     "execution_count": 15,
     "metadata": {},
     "output_type": "execute_result"
    }
   ],
   "source": [
    "len(train_ann_files)"
   ]
  },
  {
   "cell_type": "code",
   "execution_count": 16,
   "metadata": {},
   "outputs": [],
   "source": [
    "df_codes_train_ner = process_brat_ner(train_ann_files).sort_values([\"doc_id\", \"start\", \"end\"])"
   ]
  },
  {
   "cell_type": "code",
   "execution_count": 17,
   "metadata": {},
   "outputs": [
    {
     "data": {
      "text/plain": [
       "(9737, 4)"
      ]
     },
     "execution_count": 17,
     "metadata": {},
     "output_type": "execute_result"
    }
   ],
   "source": [
    "df_codes_train_ner.shape"
   ]
  },
  {
   "cell_type": "code",
   "execution_count": 18,
   "metadata": {},
   "outputs": [
    {
     "data": {
      "text/html": [
       "<div>\n",
       "<style scoped>\n",
       "    .dataframe tbody tr th:only-of-type {\n",
       "        vertical-align: middle;\n",
       "    }\n",
       "\n",
       "    .dataframe tbody tr th {\n",
       "        vertical-align: top;\n",
       "    }\n",
       "\n",
       "    .dataframe thead th {\n",
       "        text-align: right;\n",
       "    }\n",
       "</style>\n",
       "<table border=\"1\" class=\"dataframe\">\n",
       "  <thead>\n",
       "    <tr style=\"text-align: right;\">\n",
       "      <th></th>\n",
       "      <th>doc_id</th>\n",
       "      <th>text_ref</th>\n",
       "      <th>start</th>\n",
       "      <th>end</th>\n",
       "    </tr>\n",
       "  </thead>\n",
       "  <tbody>\n",
       "    <tr>\n",
       "      <th>5230</th>\n",
       "      <td>cc_onco1</td>\n",
       "      <td>Carcinoma microcítico</td>\n",
       "      <td>2719</td>\n",
       "      <td>2740</td>\n",
       "    </tr>\n",
       "    <tr>\n",
       "      <th>5231</th>\n",
       "      <td>cc_onco1</td>\n",
       "      <td>carcinoma microcítico</td>\n",
       "      <td>2950</td>\n",
       "      <td>2971</td>\n",
       "    </tr>\n",
       "    <tr>\n",
       "      <th>5232</th>\n",
       "      <td>cc_onco1</td>\n",
       "      <td>M0</td>\n",
       "      <td>2988</td>\n",
       "      <td>2990</td>\n",
       "    </tr>\n",
       "    <tr>\n",
       "      <th>97</th>\n",
       "      <td>cc_onco10</td>\n",
       "      <td>tumor</td>\n",
       "      <td>212</td>\n",
       "      <td>217</td>\n",
       "    </tr>\n",
       "    <tr>\n",
       "      <th>95</th>\n",
       "      <td>cc_onco10</td>\n",
       "      <td>neoplasia</td>\n",
       "      <td>976</td>\n",
       "      <td>985</td>\n",
       "    </tr>\n",
       "  </tbody>\n",
       "</table>\n",
       "</div>"
      ],
      "text/plain": [
       "         doc_id               text_ref  start   end\n",
       "5230   cc_onco1  Carcinoma microcítico   2719  2740\n",
       "5231   cc_onco1  carcinoma microcítico   2950  2971\n",
       "5232   cc_onco1                     M0   2988  2990\n",
       "97    cc_onco10                  tumor    212   217\n",
       "95    cc_onco10              neoplasia    976   985"
      ]
     },
     "execution_count": 18,
     "metadata": {},
     "output_type": "execute_result"
    }
   ],
   "source": [
    "df_codes_train_ner.head()"
   ]
  },
  {
   "cell_type": "code",
   "execution_count": 19,
   "metadata": {},
   "outputs": [
    {
     "data": {
      "text/plain": [
       "750"
      ]
     },
     "execution_count": 19,
     "metadata": {},
     "output_type": "execute_result"
    }
   ],
   "source": [
    "len(set(df_codes_train_ner[\"doc_id\"]))"
   ]
  },
  {
   "cell_type": "code",
   "execution_count": 20,
   "metadata": {},
   "outputs": [],
   "source": [
    "assert ~df_codes_train_ner[[\"doc_id\", \"start\", \"end\"]].duplicated().any()"
   ]
  },
  {
   "cell_type": "code",
   "execution_count": 21,
   "metadata": {},
   "outputs": [],
   "source": [
    "# Development corpus"
   ]
  },
  {
   "cell_type": "code",
   "execution_count": 22,
   "metadata": {},
   "outputs": [],
   "source": [
    "dev_ann_files = [dev_path + f for f in os.listdir(dev_path) if f.split('.')[-1] == \"ann\"]"
   ]
  },
  {
   "cell_type": "code",
   "execution_count": 23,
   "metadata": {},
   "outputs": [
    {
     "data": {
      "text/plain": [
       "250"
      ]
     },
     "execution_count": 23,
     "metadata": {},
     "output_type": "execute_result"
    }
   ],
   "source": [
    "len(dev_ann_files)"
   ]
  },
  {
   "cell_type": "code",
   "execution_count": 24,
   "metadata": {},
   "outputs": [],
   "source": [
    "df_codes_dev_ner = process_brat_ner(dev_ann_files).sort_values([\"doc_id\", \"start\", \"end\"])"
   ]
  },
  {
   "cell_type": "code",
   "execution_count": 25,
   "metadata": {},
   "outputs": [
    {
     "data": {
      "text/plain": [
       "(2660, 4)"
      ]
     },
     "execution_count": 25,
     "metadata": {},
     "output_type": "execute_result"
    }
   ],
   "source": [
    "df_codes_dev_ner.shape"
   ]
  },
  {
   "cell_type": "code",
   "execution_count": 26,
   "metadata": {},
   "outputs": [
    {
     "data": {
      "text/html": [
       "<div>\n",
       "<style scoped>\n",
       "    .dataframe tbody tr th:only-of-type {\n",
       "        vertical-align: middle;\n",
       "    }\n",
       "\n",
       "    .dataframe tbody tr th {\n",
       "        vertical-align: top;\n",
       "    }\n",
       "\n",
       "    .dataframe thead th {\n",
       "        text-align: right;\n",
       "    }\n",
       "</style>\n",
       "<table border=\"1\" class=\"dataframe\">\n",
       "  <thead>\n",
       "    <tr style=\"text-align: right;\">\n",
       "      <th></th>\n",
       "      <th>doc_id</th>\n",
       "      <th>text_ref</th>\n",
       "      <th>start</th>\n",
       "      <th>end</th>\n",
       "    </tr>\n",
       "  </thead>\n",
       "  <tbody>\n",
       "    <tr>\n",
       "      <th>1852</th>\n",
       "      <td>cc_onco1001</td>\n",
       "      <td>carcinoma epidermoide</td>\n",
       "      <td>576</td>\n",
       "      <td>597</td>\n",
       "    </tr>\n",
       "    <tr>\n",
       "      <th>1854</th>\n",
       "      <td>cc_onco1001</td>\n",
       "      <td>neoplasia</td>\n",
       "      <td>790</td>\n",
       "      <td>799</td>\n",
       "    </tr>\n",
       "    <tr>\n",
       "      <th>1857</th>\n",
       "      <td>cc_onco1001</td>\n",
       "      <td>adenocarcinoma T4N3M1b</td>\n",
       "      <td>836</td>\n",
       "      <td>858</td>\n",
       "    </tr>\n",
       "    <tr>\n",
       "      <th>1853</th>\n",
       "      <td>cc_onco1001</td>\n",
       "      <td>enfermedad hepática</td>\n",
       "      <td>1205</td>\n",
       "      <td>1224</td>\n",
       "    </tr>\n",
       "    <tr>\n",
       "      <th>1855</th>\n",
       "      <td>cc_onco1001</td>\n",
       "      <td>tumoral</td>\n",
       "      <td>2303</td>\n",
       "      <td>2310</td>\n",
       "    </tr>\n",
       "  </tbody>\n",
       "</table>\n",
       "</div>"
      ],
      "text/plain": [
       "           doc_id                text_ref  start   end\n",
       "1852  cc_onco1001   carcinoma epidermoide    576   597\n",
       "1854  cc_onco1001               neoplasia    790   799\n",
       "1857  cc_onco1001  adenocarcinoma T4N3M1b    836   858\n",
       "1853  cc_onco1001     enfermedad hepática   1205  1224\n",
       "1855  cc_onco1001                 tumoral   2303  2310"
      ]
     },
     "execution_count": 26,
     "metadata": {},
     "output_type": "execute_result"
    }
   ],
   "source": [
    "df_codes_dev_ner.head()"
   ]
  },
  {
   "cell_type": "code",
   "execution_count": 27,
   "metadata": {},
   "outputs": [
    {
     "data": {
      "text/html": [
       "<div>\n",
       "<style scoped>\n",
       "    .dataframe tbody tr th:only-of-type {\n",
       "        vertical-align: middle;\n",
       "    }\n",
       "\n",
       "    .dataframe tbody tr th {\n",
       "        vertical-align: top;\n",
       "    }\n",
       "\n",
       "    .dataframe thead th {\n",
       "        text-align: right;\n",
       "    }\n",
       "</style>\n",
       "<table border=\"1\" class=\"dataframe\">\n",
       "  <thead>\n",
       "    <tr style=\"text-align: right;\">\n",
       "      <th></th>\n",
       "      <th>doc_id</th>\n",
       "      <th>text_ref</th>\n",
       "      <th>start</th>\n",
       "      <th>end</th>\n",
       "    </tr>\n",
       "  </thead>\n",
       "  <tbody>\n",
       "    <tr>\n",
       "      <th>1630</th>\n",
       "      <td>cc_onco994</td>\n",
       "      <td>tumoración</td>\n",
       "      <td>1604</td>\n",
       "      <td>1614</td>\n",
       "    </tr>\n",
       "    <tr>\n",
       "      <th>1629</th>\n",
       "      <td>cc_onco994</td>\n",
       "      <td>metastásica</td>\n",
       "      <td>3064</td>\n",
       "      <td>3075</td>\n",
       "    </tr>\n",
       "    <tr>\n",
       "      <th>1628</th>\n",
       "      <td>cc_onco994</td>\n",
       "      <td>macroadenoma</td>\n",
       "      <td>3752</td>\n",
       "      <td>3764</td>\n",
       "    </tr>\n",
       "    <tr>\n",
       "      <th>1632</th>\n",
       "      <td>cc_onco994</td>\n",
       "      <td>macroadenoma de la hipófisis</td>\n",
       "      <td>4068</td>\n",
       "      <td>4096</td>\n",
       "    </tr>\n",
       "    <tr>\n",
       "      <th>1627</th>\n",
       "      <td>cc_onco994</td>\n",
       "      <td>lesiones hepáticas</td>\n",
       "      <td>5378</td>\n",
       "      <td>5396</td>\n",
       "    </tr>\n",
       "  </tbody>\n",
       "</table>\n",
       "</div>"
      ],
      "text/plain": [
       "          doc_id                      text_ref  start   end\n",
       "1630  cc_onco994                    tumoración   1604  1614\n",
       "1629  cc_onco994                   metastásica   3064  3075\n",
       "1628  cc_onco994                  macroadenoma   3752  3764\n",
       "1632  cc_onco994  macroadenoma de la hipófisis   4068  4096\n",
       "1627  cc_onco994            lesiones hepáticas   5378  5396"
      ]
     },
     "execution_count": 27,
     "metadata": {},
     "output_type": "execute_result"
    }
   ],
   "source": [
    "df_codes_dev_ner.tail()"
   ]
  },
  {
   "cell_type": "code",
   "execution_count": 28,
   "metadata": {},
   "outputs": [],
   "source": [
    "assert ~df_codes_dev_ner[[\"doc_id\", \"start\", \"end\"]].duplicated().any()"
   ]
  },
  {
   "cell_type": "markdown",
   "metadata": {},
   "source": [
    "### Remove overlapping annotations"
   ]
  },
  {
   "cell_type": "code",
   "execution_count": 29,
   "metadata": {},
   "outputs": [],
   "source": [
    "# Training corpus"
   ]
  },
  {
   "cell_type": "code",
   "execution_count": 30,
   "metadata": {},
   "outputs": [
    {
     "name": "stderr",
     "output_type": "stream",
     "text": [
      "100%|██████████| 750/750 [00:21<00:00, 34.63it/s]"
     ]
    },
    {
     "name": "stdout",
     "output_type": "stream",
     "text": [
      "CPU times: user 21.7 s, sys: 16.4 ms, total: 21.7 s\n",
      "Wall time: 21.7 s\n"
     ]
    },
    {
     "name": "stderr",
     "output_type": "stream",
     "text": [
      "\n"
     ]
    }
   ],
   "source": [
    "%%time\n",
    "df_codes_train_ner_final = eliminate_overlap(df_ann=df_codes_train_ner)"
   ]
  },
  {
   "cell_type": "code",
   "execution_count": 31,
   "metadata": {},
   "outputs": [
    {
     "data": {
      "text/plain": [
       "(9605, 4)"
      ]
     },
     "execution_count": 31,
     "metadata": {},
     "output_type": "execute_result"
    }
   ],
   "source": [
    "df_codes_train_ner_final.shape"
   ]
  },
  {
   "cell_type": "code",
   "execution_count": 32,
   "metadata": {},
   "outputs": [],
   "source": [
    "# Development corpus"
   ]
  },
  {
   "cell_type": "code",
   "execution_count": 33,
   "metadata": {},
   "outputs": [
    {
     "name": "stderr",
     "output_type": "stream",
     "text": [
      "100%|██████████| 250/250 [00:04<00:00, 53.73it/s]"
     ]
    },
    {
     "name": "stdout",
     "output_type": "stream",
     "text": [
      "CPU times: user 4.67 s, sys: 8.03 ms, total: 4.67 s\n",
      "Wall time: 4.65 s\n"
     ]
    },
    {
     "name": "stderr",
     "output_type": "stream",
     "text": [
      "\n"
     ]
    }
   ],
   "source": [
    "%%time\n",
    "df_codes_dev_ner_final = eliminate_overlap(df_ann=df_codes_dev_ner)"
   ]
  },
  {
   "cell_type": "code",
   "execution_count": 34,
   "metadata": {},
   "outputs": [
    {
     "data": {
      "text/plain": [
       "(2623, 4)"
      ]
     },
     "execution_count": 34,
     "metadata": {},
     "output_type": "execute_result"
    }
   ],
   "source": [
    "df_codes_dev_ner_final.shape"
   ]
  },
  {
   "cell_type": "markdown",
   "metadata": {},
   "source": [
    "## Creation of annotated sequences\n",
    "\n",
    "We create the corpus used to fine-tune the transformer model on a NER task. In this way, we split the texts into sentences, and convert them into sequences of subtokens. Also, each generated subtoken is assigned a NER label in IOB-2 format."
   ]
  },
  {
   "cell_type": "code",
   "execution_count": 35,
   "metadata": {},
   "outputs": [],
   "source": [
    "# Sentence-Split information\n",
    "ss_corpus_path = \"../datasets/Cantemist-SSplit-text/\""
   ]
  },
  {
   "cell_type": "code",
   "execution_count": 36,
   "metadata": {},
   "outputs": [
    {
     "data": {
      "text/plain": [
       "LabelEncoder()"
      ]
     },
     "execution_count": 36,
     "metadata": {},
     "output_type": "execute_result"
    }
   ],
   "source": [
    "from sklearn.preprocessing import LabelEncoder\n",
    "\n",
    "lab_encoder = LabelEncoder()\n",
    "# IOB-2 format\n",
    "lab_encoder.fit([\"B\", \"I\", \"O\"])"
   ]
  },
  {
   "cell_type": "markdown",
   "metadata": {},
   "source": [
    "### Training corpus"
   ]
  },
  {
   "cell_type": "markdown",
   "metadata": {},
   "source": [
    "Only training texts with NER annotations are considered:"
   ]
  },
  {
   "cell_type": "code",
   "execution_count": 37,
   "metadata": {},
   "outputs": [
    {
     "data": {
      "text/plain": [
       "1"
      ]
     },
     "execution_count": 37,
     "metadata": {},
     "output_type": "execute_result"
    }
   ],
   "source": [
    "# Some train documents (texts) are not annotated \n",
    "len(set(df_text_train[\"doc_id\"]) - set(df_codes_train_ner_final[\"doc_id\"]))"
   ]
  },
  {
   "cell_type": "code",
   "execution_count": 38,
   "metadata": {},
   "outputs": [],
   "source": [
    "train_doc_list = sorted(set(df_codes_train_ner_final[\"doc_id\"]))"
   ]
  },
  {
   "cell_type": "code",
   "execution_count": 39,
   "metadata": {},
   "outputs": [
    {
     "data": {
      "text/plain": [
       "750"
      ]
     },
     "execution_count": 39,
     "metadata": {},
     "output_type": "execute_result"
    }
   ],
   "source": [
    "len(train_doc_list)"
   ]
  },
  {
   "cell_type": "code",
   "execution_count": 40,
   "metadata": {},
   "outputs": [],
   "source": [
    "# Sentence-Split data"
   ]
  },
  {
   "cell_type": "code",
   "execution_count": 41,
   "metadata": {},
   "outputs": [
    {
     "name": "stdout",
     "output_type": "stream",
     "text": [
      "CPU times: user 29 ms, sys: 4.03 ms, total: 33.1 ms\n",
      "Wall time: 32.9 ms\n"
     ]
    }
   ],
   "source": [
    "%%time\n",
    "ss_sub_corpus_path = ss_corpus_path + \"training/\"\n",
    "ss_files = [f for f in os.listdir(ss_sub_corpus_path) if os.path.isfile(ss_sub_corpus_path + f)]\n",
    "ss_dict_train = load_ss_files(ss_files, ss_sub_corpus_path)"
   ]
  },
  {
   "cell_type": "code",
   "execution_count": 42,
   "metadata": {},
   "outputs": [
    {
     "name": "stderr",
     "output_type": "stream",
     "text": [
      "100%|██████████| 750/750 [01:09<00:00, 10.82it/s]\n"
     ]
    },
    {
     "name": "stdout",
     "output_type": "stream",
     "text": [
      "CPU times: user 1min 9s, sys: 180 ms, total: 1min 9s\n",
      "Wall time: 1min 9s\n"
     ]
    }
   ],
   "source": [
    "%%time\n",
    "train_ind, train_att, train_type, train_y, train_frag, train_start_end_frag, train_word_id = ss_create_input_data_ner(df_text=df_text_train, \n",
    "                                                  text_col=text_col, \n",
    "                                                  df_ann=df_codes_train_ner_final, doc_list=train_doc_list, ss_dict=ss_dict_train,\n",
    "                                                  tokenizer=tokenizer, lab_encoder=lab_encoder, seq_len=SEQ_LEN, \n",
    "                                                  ign_value=IGNORE_VALUE, strategy=ANN_STRATEGY, greedy=GREEDY)"
   ]
  },
  {
   "cell_type": "code",
   "execution_count": 43,
   "metadata": {},
   "outputs": [],
   "source": [
    "# Sanity check"
   ]
  },
  {
   "cell_type": "code",
   "execution_count": 43,
   "metadata": {},
   "outputs": [
    {
     "data": {
      "text/plain": [
       "(9326, 128)"
      ]
     },
     "execution_count": 43,
     "metadata": {},
     "output_type": "execute_result"
    }
   ],
   "source": [
    "train_ind.shape"
   ]
  },
  {
   "cell_type": "code",
   "execution_count": 44,
   "metadata": {},
   "outputs": [
    {
     "data": {
      "text/plain": [
       "(9326, 128)"
      ]
     },
     "execution_count": 44,
     "metadata": {},
     "output_type": "execute_result"
    }
   ],
   "source": [
    "train_att.shape"
   ]
  },
  {
   "cell_type": "code",
   "execution_count": 45,
   "metadata": {},
   "outputs": [
    {
     "data": {
      "text/plain": [
       "(9326, 128)"
      ]
     },
     "execution_count": 45,
     "metadata": {},
     "output_type": "execute_result"
    }
   ],
   "source": [
    "train_type.shape"
   ]
  },
  {
   "cell_type": "code",
   "execution_count": 46,
   "metadata": {
    "scrolled": true
   },
   "outputs": [
    {
     "data": {
      "text/plain": [
       "(9326, 128)"
      ]
     },
     "execution_count": 46,
     "metadata": {},
     "output_type": "execute_result"
    }
   ],
   "source": [
    "train_y.shape"
   ]
  },
  {
   "cell_type": "code",
   "execution_count": 47,
   "metadata": {},
   "outputs": [
    {
     "data": {
      "text/plain": [
       "750"
      ]
     },
     "execution_count": 47,
     "metadata": {},
     "output_type": "execute_result"
    }
   ],
   "source": [
    "len(train_frag)"
   ]
  },
  {
   "cell_type": "code",
   "execution_count": 48,
   "metadata": {},
   "outputs": [
    {
     "data": {
      "text/plain": [
       "9326"
      ]
     },
     "execution_count": 48,
     "metadata": {},
     "output_type": "execute_result"
    }
   ],
   "source": [
    "len(train_start_end_frag)"
   ]
  },
  {
   "cell_type": "code",
   "execution_count": 49,
   "metadata": {},
   "outputs": [
    {
     "data": {
      "text/plain": [
       "9326"
      ]
     },
     "execution_count": 49,
     "metadata": {},
     "output_type": "execute_result"
    }
   ],
   "source": [
    "len(train_word_id)"
   ]
  },
  {
   "cell_type": "code",
   "execution_count": 50,
   "metadata": {},
   "outputs": [
    {
     "data": {
      "text/plain": [
       "count    750.000000\n",
       "mean      12.434667\n",
       "std        4.298647\n",
       "min        4.000000\n",
       "25%       10.000000\n",
       "50%       12.000000\n",
       "75%       15.000000\n",
       "max       36.000000\n",
       "dtype: float64"
      ]
     },
     "execution_count": 50,
     "metadata": {},
     "output_type": "execute_result"
    }
   ],
   "source": [
    "# Check n_frag distribution across texts\n",
    "pd.Series(train_frag).describe()"
   ]
  },
  {
   "cell_type": "code",
   "execution_count": 51,
   "metadata": {},
   "outputs": [],
   "source": [
    "# Inspect a randomly selected text and its encoded version\n",
    "check_id = np.random.randint(low=0, high=len(train_doc_list), size=1)[0]"
   ]
  },
  {
   "cell_type": "code",
   "execution_count": 52,
   "metadata": {},
   "outputs": [
    {
     "data": {
      "text/plain": [
       "37"
      ]
     },
     "execution_count": 52,
     "metadata": {},
     "output_type": "execute_result"
    }
   ],
   "source": [
    "check_id"
   ]
  },
  {
   "cell_type": "code",
   "execution_count": 53,
   "metadata": {},
   "outputs": [
    {
     "data": {
      "text/plain": [
       "'cc_onco14'"
      ]
     },
     "execution_count": 53,
     "metadata": {},
     "output_type": "execute_result"
    }
   ],
   "source": [
    "train_doc_list[check_id]"
   ]
  },
  {
   "cell_type": "code",
   "execution_count": 54,
   "metadata": {
    "scrolled": true
   },
   "outputs": [
    {
     "data": {
      "text/plain": [
       "'Anamnesis\\nMujer de 26 años, natural de Rumanía, diagnosticada de carcinoma epidermoide de cérvix, sin otros antecedentes de interés, que refiere cefalea e hipertensión arterial desde hace varias semanas.\\nA raíz de un cuadro de sangrado postcoital, se diagnostica en agosto de 2013 de carcinoma epidermoide de cérvix EIIB (afectación parametrial) con adenopatías patológicas a nivel locorregional.\\nSe inicia tratamiento con QT + RT concurrente, con seis ciclos de cisplatino a dosis de 40 mg/m2 i.v. En la PET-TC de reevaluación de febrero de 2014 se objetiva persistencia de afectación local, con aparición de lesiones a nivel adenopático cervical y mediastínico y metástasis viscerales a nivel pulmonar y óseo. Se remite al Servicio de Oncología Médica y se inicia primera línea de QT paliativa con platino-taxano-bevacizumab a dosis estándar, con un total de seis ciclos completados. En una prueba de imagen de control realizada en mayo de 2014, destaca mejoría de la afectación descrita previamente (sin alcanzar criterios de respuesta RECIST). Por reacción alérgica al platino, se decide mantener a la paciente únicamente con bevacizumab como terapia de mantenimiento. En la PET-TC de control de noviembre de 2014 se confirman hallazgos compatibles con progresión tumoral; la última vez que se administró bevacizumab fue el día 14/10/2014. No presenta otros antecedentes médico-quirúrgicos de interés.\\nLa paciente acude el día 4/11/2014 a control en consultas de Oncología Médica refiriendo cefalea holocraneal opresiva con intensidad en la escala EVA 9/10, asociada a pérdida de visión bilateral y cifras tensionales elevadas (TA: 175/120 mmHg). La paciente refería dificultad para el control de su hipertensión arterial en los últimos días. En este nuevo episodio se inicia tratamiento con captopril 25 mg al día y amlodipino 5 mg al día, orales, sin mejoría de los registros. Se decide finalmente trasladar a la paciente al Servicio de Urgencias, donde persisten la cefalea y la pérdida de visión, asociándose un episodio de crisis tónico-clónica generalizada que cede de manera espontánea con postcrítico posterior.\\n\\nExploración física\\nYa descrita en la anamnesis.\\n\\nPruebas complementarias\\n» En la analítica extraída en el Servicio de Urgencias destaca un hemograma con hemoglobina 10,2 g/dl y plaquetas 43.000/mcl.\\n» En la bioquímica se objetiva Cr 12,4 mg/dl (con cifras previas normales), potasio 6,05 mEq/l, LDH 321 UI/l y bilirrubina 0,27 mg/dl.\\n» Los gases venosos presentan valores compatibles con acidosis metabólica (pH 7,11; bicarbonato 11 mmol/l, pCO2 38 mmHg).\\n» Se realiza una TC craneal, donde se informa de la presencia de un área hipodensa en la región occipital izquierda y otra menos evidente en el lado derecho, sin captación de contraste, correspondientes a zonas de edema con un PRES (síndrome de encefalopatía posterior reversible) como primera posibilidad etiológica.\\n» Se completa el estudio con análisis de orina, donde destaca sodio urinario 80 mEq/l, EFNa > 1%.\\n» Por otro lado, en una TC reciente de reevaluación (3/11/2014) se descartaban signos de uropatía obstructiva a ningún nivel. Ante tales resultados, se consideró inicialmente un origen parenquimatoso del fracaso renal presente en aquel momento, pudiendo ser compatible con microangiopatía trombótica/hipertensión arterial maligna.\\n\\nDiagnóstico\\nComo juicio clínico principal se establece emergencia hipertensiva con datos de daño orgánico (encefalopatía hipertensiva/PRES, fracaso renal agudo con posible componente de microangiopatía trombótica asociada) en el contexto de tratamiento con fármacos antiangiogénicos.\\n\\nTratamiento\\nAnte la inestabilidad clínica presente, la dificultad para el control de la hipertensión arterial con medicación habitual y el deterioro de la función renal, se decide su ingreso en la Unidad de Cuidados Intensivos. Se inicia tratamiento antihipertensivo intravenoso con urapidilo alcanzando TA de 140/90 mmHg, sin clínica cardiogénica ni cambios electrocardiográficos, pasando nuevamente a tratamiento de mantenimiento con amlodipino. Durante su ingreso es valorada por el Servicio de Neurología, considerando la evolución compatible con PRES, con evolución favorable de la clínica tras el control de cifras tensionales, alcanzando remisión completa de la semiología neurológica. Ante el deterioro de función renal, se inicia tratamiento sustitutivo con hemodiafiltración, completando sesiones de plasmaféresis ante la sospecha de una posible microangiopatía trombótica. Durante la evolución presentó descenso de cifras de hemoglobina hasta 7,5 g/dl, sin datos aparentes de sangrado externo, precisando aportes de concentrados de hematíes. Las cifras de plaquetas descendieron hasta valores cercanos a 15.000/mcl, por lo que también se transfundieron pool de plaquetas.\\n\\nEvolución\\nSe completó el estudio etiológico con frotis de sangre periférica, donde no se objetivaron datos compatibles con hemólisis en el seno de microangiopatía trombótica (ausencia de esquistocitos y agregados plaquetarios), con cifras de LDH inferiores en todo momento a 400 UI/l y determinación de haptoglobina 274 mg/dl (35-152 mg/dl). Se determinó valor sérico de ADAMTS13, con resultado normal.\\nNo se tomaron biopsia renal ni a ningún otro nivel. Se realizó estudio de orina de 24 horas con valor de proteinuria de 0,68 g/24 h; sedimento urinario sin alteraciones reseñables. Se realizó una RM cerebral que identificó señal hiperintensa en T2 y FLAIR, predominantemente en la región parietal parasagital posterior izquierda (también en la región frontal izquierda y occipital derecha), con restricción a la difusión, confirmando PRES como primera posibilidad diagnóstica. El examen de fondo de ojo resultó normal, lo que orientó con más fuerza la ceguera cortical bilateral como causa del déficit visual. El EEG no mostró actividad epileptiforme.\\n\\nDada la estabilidad clínica, con control de la tensión arterial tras el empleo de fármacos antihipertensivos intravenosos mantenido tras rotación de la medicación a vía oral, resolución de la clínica neurológica (RM cerebral de control varias semanas después, sin hallazgos relevantes) y normalización de parámetros de función renal, se decide alta hospitalaria con optimización de tratamiento, sin precisar medicación antiepiléptica de mantenimiento.\\n'"
      ]
     },
     "execution_count": 54,
     "metadata": {},
     "output_type": "execute_result"
    }
   ],
   "source": [
    "df_text_train[df_text_train[\"doc_id\"] == train_doc_list[check_id]][text_col].values[0]"
   ]
  },
  {
   "cell_type": "code",
   "execution_count": 55,
   "metadata": {},
   "outputs": [
    {
     "data": {
      "text/html": [
       "<div>\n",
       "<style scoped>\n",
       "    .dataframe tbody tr th:only-of-type {\n",
       "        vertical-align: middle;\n",
       "    }\n",
       "\n",
       "    .dataframe tbody tr th {\n",
       "        vertical-align: top;\n",
       "    }\n",
       "\n",
       "    .dataframe thead th {\n",
       "        text-align: right;\n",
       "    }\n",
       "</style>\n",
       "<table border=\"1\" class=\"dataframe\">\n",
       "  <thead>\n",
       "    <tr style=\"text-align: right;\">\n",
       "      <th></th>\n",
       "      <th>doc_id</th>\n",
       "      <th>text_ref</th>\n",
       "      <th>start</th>\n",
       "      <th>end</th>\n",
       "    </tr>\n",
       "  </thead>\n",
       "  <tbody>\n",
       "    <tr>\n",
       "      <th>135</th>\n",
       "      <td>cc_onco14</td>\n",
       "      <td>carcinoma epidermoide</td>\n",
       "      <td>65</td>\n",
       "      <td>86</td>\n",
       "    </tr>\n",
       "    <tr>\n",
       "      <th>136</th>\n",
       "      <td>cc_onco14</td>\n",
       "      <td>carcinoma epidermoide</td>\n",
       "      <td>284</td>\n",
       "      <td>305</td>\n",
       "    </tr>\n",
       "    <tr>\n",
       "      <th>137</th>\n",
       "      <td>cc_onco14</td>\n",
       "      <td>metástasis</td>\n",
       "      <td>665</td>\n",
       "      <td>675</td>\n",
       "    </tr>\n",
       "    <tr>\n",
       "      <th>139</th>\n",
       "      <td>cc_onco14</td>\n",
       "      <td>tumoral</td>\n",
       "      <td>1268</td>\n",
       "      <td>1275</td>\n",
       "    </tr>\n",
       "    <tr>\n",
       "      <th>138</th>\n",
       "      <td>cc_onco14</td>\n",
       "      <td>maligna</td>\n",
       "      <td>3319</td>\n",
       "      <td>3326</td>\n",
       "    </tr>\n",
       "  </tbody>\n",
       "</table>\n",
       "</div>"
      ],
      "text/plain": [
       "        doc_id               text_ref  start   end\n",
       "135  cc_onco14  carcinoma epidermoide     65    86\n",
       "136  cc_onco14  carcinoma epidermoide    284   305\n",
       "137  cc_onco14             metástasis    665   675\n",
       "139  cc_onco14                tumoral   1268  1275\n",
       "138  cc_onco14                maligna   3319  3326"
      ]
     },
     "execution_count": 55,
     "metadata": {},
     "output_type": "execute_result"
    }
   ],
   "source": [
    "df_codes_train_ner_final[df_codes_train_ner_final[\"doc_id\"] == train_doc_list[check_id]]"
   ]
  },
  {
   "cell_type": "code",
   "execution_count": 56,
   "metadata": {},
   "outputs": [],
   "source": [
    "check_id_frag = sum(train_frag[:check_id])"
   ]
  },
  {
   "cell_type": "code",
   "execution_count": 57,
   "metadata": {},
   "outputs": [
    {
     "name": "stdout",
     "output_type": "stream",
     "text": [
      "[('Ana', (0, 9), 0, 'O'), ('##mne', (0, 9), 0, 'O'), ('##sis', (0, 9), 0, 'O'), ('Mujer', (10, 15), 1, 'O'), ('de', (16, 18), 2, 'O'), ('26', (19, 21), 3, 'O'), ('años', (22, 26), 4, 'O'), (',', (26, 27), 5, 'O'), ('natural', (28, 35), 6, 'O'), ('de', (36, 38), 7, 'O'), ('Rumanía', (39, 46), 8, 'O'), (',', (46, 47), 9, 'O'), ('diagnos', (48, 61), 10, 'O'), ('##tica', (48, 61), 10, 'O'), ('##da', (48, 61), 10, 'O'), ('de', (62, 64), 11, 'O'), ('car', (65, 74), 12, 'B'), ('##cino', (65, 74), 12, 'B'), ('##ma', (65, 74), 12, 'B'), ('epi', (75, 86), 13, 'I'), ('##der', (75, 86), 13, 'I'), ('##mo', (75, 86), 13, 'I'), ('##ide', (75, 86), 13, 'I'), ('de', (87, 89), 14, 'O'), ('cé', (90, 96), 15, 'O'), ('##r', (90, 96), 15, 'O'), ('##vi', (90, 96), 15, 'O'), ('##x', (90, 96), 15, 'O'), (',', (96, 97), 16, 'O'), ('sin', (98, 101), 17, 'O'), ('otros', (102, 107), 18, 'O'), ('antecedentes', (108, 120), 19, 'O'), ('de', (121, 123), 20, 'O'), ('interés', (124, 131), 21, 'O'), (',', (131, 132), 22, 'O'), ('que', (133, 136), 23, 'O'), ('refiere', (137, 144), 24, 'O'), ('ce', (145, 152), 25, 'O'), ('##fal', (145, 152), 25, 'O'), ('##ea', (145, 152), 25, 'O'), ('e', (153, 154), 26, 'O'), ('hiper', (155, 167), 27, 'O'), ('##tensión', (155, 167), 27, 'O'), ('arterial', (168, 176), 28, 'O'), ('desde', (177, 182), 29, 'O'), ('hace', (183, 187), 30, 'O'), ('varias', (188, 194), 31, 'O'), ('semanas', (195, 202), 32, 'O'), ('.', (202, 203), 33, 'O'), ('A', (204, 205), 34, 'O'), ('raíz', (206, 210), 35, 'O'), ('de', (211, 213), 36, 'O'), ('un', (214, 216), 37, 'O'), ('cuadro', (217, 223), 38, 'O'), ('de', (224, 226), 39, 'O'), ('san', (227, 235), 40, 'O'), ('##grado', (227, 235), 40, 'O'), ('post', (236, 246), 41, 'O'), ('##co', (236, 246), 41, 'O'), ('##ital', (236, 246), 41, 'O'), (',', (246, 247), 42, 'O'), ('se', (248, 250), 43, 'O'), ('diagnos', (251, 262), 44, 'O'), ('##tica', (251, 262), 44, 'O'), ('en', (263, 265), 45, 'O'), ('agosto', (266, 272), 46, 'O'), ('de', (273, 275), 47, 'O'), ('2013', (276, 280), 48, 'O'), ('de', (281, 283), 49, 'O'), ('car', (284, 293), 50, 'B'), ('##cino', (284, 293), 50, 'B'), ('##ma', (284, 293), 50, 'B'), ('epi', (294, 305), 51, 'I'), ('##der', (294, 305), 51, 'I'), ('##mo', (294, 305), 51, 'I'), ('##ide', (294, 305), 51, 'I'), ('de', (306, 308), 52, 'O'), ('cé', (309, 315), 53, 'O'), ('##r', (309, 315), 53, 'O'), ('##vi', (309, 315), 53, 'O'), ('##x', (309, 315), 53, 'O'), ('EI', (316, 320), 54, 'O'), ('##IB', (316, 320), 54, 'O'), ('(', (321, 322), 55, 'O'), ('afecta', (322, 332), 56, 'O'), ('##ción', (322, 332), 56, 'O'), ('para', (333, 344), 57, 'O'), ('##met', (333, 344), 57, 'O'), ('##ria', (333, 344), 57, 'O'), ('##l', (333, 344), 57, 'O'), (')', (344, 345), 58, 'O'), ('con', (346, 349), 59, 'O'), ('aden', (350, 361), 60, 'O'), ('##op', (350, 361), 60, 'O'), ('##atía', (350, 361), 60, 'O'), ('##s', (350, 361), 60, 'O'), ('pato', (362, 373), 61, 'O'), ('##lógicas', (362, 373), 61, 'O'), ('a', (374, 375), 62, 'O'), ('nivel', (376, 381), 63, 'O'), ('loco', (382, 395), 64, 'O'), ('##r', (382, 395), 64, 'O'), ('##re', (382, 395), 64, 'O'), ('##gional', (382, 395), 64, 'O'), ('.', (395, 396), 65, 'O')]\n",
      "\n",
      "\n",
      "[('Se', (397, 399), 66, 'O'), ('inicia', (400, 406), 67, 'O'), ('tratamiento', (407, 418), 68, 'O'), ('con', (419, 422), 69, 'O'), ('Q', (423, 425), 70, 'O'), ('##T', (423, 425), 70, 'O'), ('[UNK]', (426, 427), 71, 'O'), ('RT', (428, 430), 72, 'O'), ('concur', (431, 442), 73, 'O'), ('##rente', (431, 442), 73, 'O'), (',', (442, 443), 74, 'O'), ('con', (444, 447), 75, 'O'), ('seis', (448, 452), 76, 'O'), ('ciclos', (453, 459), 77, 'O'), ('de', (460, 462), 78, 'O'), ('cis', (463, 473), 79, 'O'), ('##pla', (463, 473), 79, 'O'), ('##tino', (463, 473), 79, 'O'), ('a', (474, 475), 80, 'O'), ('dosis', (476, 481), 81, 'O'), ('de', (482, 484), 82, 'O'), ('40', (485, 487), 83, 'O'), ('mg', (488, 490), 84, 'O'), ('[UNK]', (490, 491), 85, 'O'), ('m', (491, 493), 86, 'O'), ('##2', (491, 493), 86, 'O'), ('i', (494, 495), 87, 'O'), ('.', (495, 496), 88, 'O'), ('v', (496, 497), 89, 'O'), ('.', (497, 498), 90, 'O'), ('En', (499, 501), 91, 'O'), ('la', (502, 504), 92, 'O'), ('PE', (505, 508), 93, 'O'), ('##T', (505, 508), 93, 'O'), ('-', (508, 509), 94, 'O'), ('TC', (509, 511), 95, 'O'), ('de', (512, 514), 96, 'O'), ('ree', (515, 527), 97, 'O'), ('##valuación', (515, 527), 97, 'O'), ('de', (528, 530), 98, 'O'), ('febrero', (531, 538), 99, 'O'), ('de', (539, 541), 100, 'O'), ('2014', (542, 546), 101, 'O'), ('se', (547, 549), 102, 'O'), ('objetiva', (550, 558), 103, 'O'), ('persistencia', (559, 571), 104, 'O'), ('de', (572, 574), 105, 'O'), ('afecta', (575, 585), 106, 'O'), ('##ción', (575, 585), 106, 'O'), ('local', (586, 591), 107, 'O'), (',', (591, 592), 108, 'O'), ('con', (593, 596), 109, 'O'), ('aparición', (597, 606), 110, 'O'), ('de', (607, 609), 111, 'O'), ('lesiones', (610, 618), 112, 'O'), ('a', (619, 620), 113, 'O'), ('nivel', (621, 626), 114, 'O'), ('aden', (627, 638), 115, 'O'), ('##op', (627, 638), 115, 'O'), ('##ático', (627, 638), 115, 'O'), ('cerv', (639, 647), 116, 'O'), ('##ical', (639, 647), 116, 'O'), ('y', (648, 649), 117, 'O'), ('medias', (650, 662), 118, 'O'), ('##tín', (650, 662), 118, 'O'), ('##ico', (650, 662), 118, 'O'), ('y', (663, 664), 119, 'O'), ('metá', (665, 675), 120, 'B'), ('##stas', (665, 675), 120, 'B'), ('##is', (665, 675), 120, 'B'), ('vis', (676, 686), 121, 'O'), ('##cera', (676, 686), 121, 'O'), ('##les', (676, 686), 121, 'O'), ('a', (687, 688), 122, 'O'), ('nivel', (689, 694), 123, 'O'), ('pulmonar', (695, 703), 124, 'O'), ('y', (704, 705), 125, 'O'), ('ó', (706, 710), 126, 'O'), ('##seo', (706, 710), 126, 'O'), ('.', (710, 711), 127, 'O')]\n",
      "\n",
      "\n",
      "[('Se', (712, 714), 128, 'O'), ('remite', (715, 721), 129, 'O'), ('al', (722, 724), 130, 'O'), ('Servicio', (725, 733), 131, 'O'), ('de', (734, 736), 132, 'O'), ('On', (737, 746), 133, 'O'), ('##col', (737, 746), 133, 'O'), ('##o', (737, 746), 133, 'O'), ('##gía', (737, 746), 133, 'O'), ('Mé', (747, 753), 134, 'O'), ('##dica', (747, 753), 134, 'O'), ('y', (754, 755), 135, 'O'), ('se', (756, 758), 136, 'O'), ('inicia', (759, 765), 137, 'O'), ('primera', (766, 773), 138, 'O'), ('línea', (774, 779), 139, 'O'), ('de', (780, 782), 140, 'O'), ('Q', (783, 785), 141, 'O'), ('##T', (783, 785), 141, 'O'), ('pali', (786, 795), 142, 'O'), ('##ati', (786, 795), 142, 'O'), ('##va', (786, 795), 142, 'O'), ('con', (796, 799), 143, 'O'), ('platino', (800, 807), 144, 'O'), ('-', (807, 808), 145, 'O'), ('tax', (808, 814), 146, 'O'), ('##ano', (808, 814), 146, 'O'), ('-', (814, 815), 147, 'O'), ('be', (815, 826), 148, 'O'), ('##va', (815, 826), 148, 'O'), ('##ci', (815, 826), 148, 'O'), ('##zu', (815, 826), 148, 'O'), ('##ma', (815, 826), 148, 'O'), ('##b', (815, 826), 148, 'O'), ('a', (827, 828), 149, 'O'), ('dosis', (829, 834), 150, 'O'), ('estándar', (835, 843), 151, 'O'), (',', (843, 844), 152, 'O'), ('con', (845, 848), 153, 'O'), ('un', (849, 851), 154, 'O'), ('total', (852, 857), 155, 'O'), ('de', (858, 860), 156, 'O'), ('seis', (861, 865), 157, 'O'), ('ciclos', (866, 872), 158, 'O'), ('completado', (873, 884), 159, 'O'), ('##s', (873, 884), 159, 'O'), ('.', (884, 885), 160, 'O'), ('En', (886, 888), 161, 'O'), ('una', (889, 892), 162, 'O'), ('prueba', (893, 899), 163, 'O'), ('de', (900, 902), 164, 'O'), ('imagen', (903, 909), 165, 'O'), ('de', (910, 912), 166, 'O'), ('control', (913, 920), 167, 'O'), ('realizada', (921, 930), 168, 'O'), ('en', (931, 933), 169, 'O'), ('mayo', (934, 938), 170, 'O'), ('de', (939, 941), 171, 'O'), ('2014', (942, 946), 172, 'O'), (',', (946, 947), 173, 'O'), ('destaca', (948, 955), 174, 'O'), ('mejor', (956, 963), 175, 'O'), ('##ía', (956, 963), 175, 'O'), ('de', (964, 966), 176, 'O'), ('la', (967, 969), 177, 'O'), ('afecta', (970, 980), 178, 'O'), ('##ción', (970, 980), 178, 'O'), ('descrita', (981, 989), 179, 'O'), ('previamente', (990, 1001), 180, 'O'), ('(', (1002, 1003), 181, 'O'), ('sin', (1003, 1006), 182, 'O'), ('alcanzar', (1007, 1015), 183, 'O'), ('criterios', (1016, 1025), 184, 'O'), ('de', (1026, 1028), 185, 'O'), ('respuesta', (1029, 1038), 186, 'O'), ('REC', (1039, 1045), 187, 'O'), ('##IST', (1039, 1045), 187, 'O'), (')', (1045, 1046), 188, 'O'), ('.', (1046, 1047), 189, 'O'), ('Por', (1048, 1051), 190, 'O'), ('reacción', (1052, 1060), 191, 'O'), ('alér', (1061, 1069), 192, 'O'), ('##gica', (1061, 1069), 192, 'O'), ('al', (1070, 1072), 193, 'O'), ('platino', (1073, 1080), 194, 'O'), (',', (1080, 1081), 195, 'O'), ('se', (1082, 1084), 196, 'O'), ('decide', (1085, 1091), 197, 'O'), ('mantener', (1092, 1100), 198, 'O'), ('a', (1101, 1102), 199, 'O'), ('la', (1103, 1105), 200, 'O'), ('paciente', (1106, 1114), 201, 'O'), ('únicamente', (1115, 1125), 202, 'O'), ('con', (1126, 1129), 203, 'O'), ('be', (1130, 1141), 204, 'O'), ('##va', (1130, 1141), 204, 'O'), ('##ci', (1130, 1141), 204, 'O'), ('##zu', (1130, 1141), 204, 'O'), ('##ma', (1130, 1141), 204, 'O'), ('##b', (1130, 1141), 204, 'O'), ('como', (1142, 1146), 205, 'O'), ('terapia', (1147, 1154), 206, 'O'), ('de', (1155, 1157), 207, 'O'), ('mantenimiento', (1158, 1171), 208, 'O'), ('.', (1171, 1172), 209, 'O')]\n",
      "\n",
      "\n",
      "[('En', (1173, 1175), 210, 'O'), ('la', (1176, 1178), 211, 'O'), ('PE', (1179, 1182), 212, 'O'), ('##T', (1179, 1182), 212, 'O'), ('-', (1182, 1183), 213, 'O'), ('TC', (1183, 1185), 214, 'O'), ('de', (1186, 1188), 215, 'O'), ('control', (1189, 1196), 216, 'O'), ('de', (1197, 1199), 217, 'O'), ('noviembre', (1200, 1209), 218, 'O'), ('de', (1210, 1212), 219, 'O'), ('2014', (1213, 1217), 220, 'O'), ('se', (1218, 1220), 221, 'O'), ('confirman', (1221, 1230), 222, 'O'), ('hallazgos', (1231, 1240), 223, 'O'), ('compatibles', (1241, 1252), 224, 'O'), ('con', (1253, 1256), 225, 'O'), ('progresión', (1257, 1267), 226, 'O'), ('tumor', (1268, 1275), 227, 'B'), ('##al', (1268, 1275), 227, 'B'), ('[UNK]', (1275, 1276), 228, 'O'), ('la', (1277, 1279), 229, 'O'), ('última', (1280, 1286), 230, 'O'), ('vez', (1287, 1290), 231, 'O'), ('que', (1291, 1294), 232, 'O'), ('se', (1295, 1297), 233, 'O'), ('administ', (1298, 1308), 234, 'O'), ('##ró', (1298, 1308), 234, 'O'), ('be', (1309, 1320), 235, 'O'), ('##va', (1309, 1320), 235, 'O'), ('##ci', (1309, 1320), 235, 'O'), ('##zu', (1309, 1320), 235, 'O'), ('##ma', (1309, 1320), 235, 'O'), ('##b', (1309, 1320), 235, 'O'), ('fue', (1321, 1324), 236, 'O'), ('el', (1325, 1327), 237, 'O'), ('día', (1328, 1331), 238, 'O'), ('14', (1332, 1334), 239, 'O'), ('[UNK]', (1334, 1335), 240, 'O'), ('10', (1335, 1337), 241, 'O'), ('[UNK]', (1337, 1338), 242, 'O'), ('2014', (1338, 1342), 243, 'O'), ('.', (1342, 1343), 244, 'O'), ('No', (1344, 1346), 245, 'O'), ('presenta', (1347, 1355), 246, 'O'), ('otros', (1356, 1361), 247, 'O'), ('antecedentes', (1362, 1374), 248, 'O'), ('médico', (1375, 1381), 249, 'O'), ('-', (1381, 1382), 250, 'O'), ('quirúr', (1382, 1393), 251, 'O'), ('##gicos', (1382, 1393), 251, 'O'), ('de', (1394, 1396), 252, 'O'), ('interés', (1397, 1404), 253, 'O'), ('.', (1404, 1405), 254, 'O'), ('La', (1406, 1408), 255, 'O'), ('paciente', (1409, 1417), 256, 'O'), ('acu', (1418, 1423), 257, 'O'), ('##de', (1418, 1423), 257, 'O'), ('el', (1424, 1426), 258, 'O'), ('día', (1427, 1430), 259, 'O'), ('4', (1431, 1432), 260, 'O'), ('[UNK]', (1432, 1433), 261, 'O'), ('11', (1433, 1435), 262, 'O'), ('[UNK]', (1435, 1436), 263, 'O'), ('2014', (1436, 1440), 264, 'O'), ('a', (1441, 1442), 265, 'O'), ('control', (1443, 1450), 266, 'O'), ('en', (1451, 1453), 267, 'O'), ('consultas', (1454, 1463), 268, 'O'), ('de', (1464, 1466), 269, 'O'), ('On', (1467, 1476), 270, 'O'), ('##col', (1467, 1476), 270, 'O'), ('##o', (1467, 1476), 270, 'O'), ('##gía', (1467, 1476), 270, 'O'), ('Mé', (1477, 1483), 271, 'O'), ('##dica', (1477, 1483), 271, 'O'), ('refi', (1484, 1494), 272, 'O'), ('##riendo', (1484, 1494), 272, 'O'), ('ce', (1495, 1502), 273, 'O'), ('##fal', (1495, 1502), 273, 'O'), ('##ea', (1495, 1502), 273, 'O'), ('holo', (1503, 1514), 274, 'O'), ('##cran', (1503, 1514), 274, 'O'), ('##eal', (1503, 1514), 274, 'O'), ('op', (1515, 1523), 275, 'O'), ('##res', (1515, 1523), 275, 'O'), ('##iva', (1515, 1523), 275, 'O'), ('con', (1524, 1527), 276, 'O'), ('intensidad', (1528, 1538), 277, 'O'), ('en', (1539, 1541), 278, 'O'), ('la', (1542, 1544), 279, 'O'), ('escala', (1545, 1551), 280, 'O'), ('EV', (1552, 1555), 281, 'O'), ('##A', (1552, 1555), 281, 'O'), ('9', (1556, 1557), 282, 'O'), ('[UNK]', (1557, 1558), 283, 'O'), ('10', (1558, 1560), 284, 'O'), (',', (1560, 1561), 285, 'O'), ('asociada', (1562, 1570), 286, 'O'), ('a', (1571, 1572), 287, 'O'), ('pérdida', (1573, 1580), 288, 'O'), ('de', (1581, 1583), 289, 'O'), ('visión', (1584, 1590), 290, 'O'), ('bilateral', (1591, 1600), 291, 'O'), ('y', (1601, 1602), 292, 'O'), ('cifras', (1603, 1609), 293, 'O'), ('ten', (1610, 1621), 294, 'O'), ('##sional', (1610, 1621), 294, 'O'), ('##es', (1610, 1621), 294, 'O'), ('elevadas', (1622, 1630), 295, 'O'), ('(', (1631, 1632), 296, 'O'), ('TA', (1632, 1634), 297, 'O'), (':', (1634, 1635), 298, 'O'), ('[UNK]', (1636, 1639), 299, 'O'), ('[UNK]', (1639, 1640), 300, 'O'), ('120', (1640, 1643), 301, 'O'), ('mm', (1644, 1648), 302, 'O'), ('##H', (1644, 1648), 302, 'O'), ('##g', (1644, 1648), 302, 'O'), (')', (1648, 1649), 303, 'O'), ('.', (1649, 1650), 304, 'O')]\n",
      "\n",
      "\n",
      "[('La', (1651, 1653), 305, 'O'), ('paciente', (1654, 1662), 306, 'O'), ('refería', (1663, 1670), 307, 'O'), ('dificultad', (1671, 1681), 308, 'O'), ('para', (1682, 1686), 309, 'O'), ('el', (1687, 1689), 310, 'O'), ('control', (1690, 1697), 311, 'O'), ('de', (1698, 1700), 312, 'O'), ('su', (1701, 1703), 313, 'O'), ('hiper', (1704, 1716), 314, 'O'), ('##tensión', (1704, 1716), 314, 'O'), ('arterial', (1717, 1725), 315, 'O'), ('en', (1726, 1728), 316, 'O'), ('los', (1729, 1732), 317, 'O'), ('últimos', (1733, 1740), 318, 'O'), ('días', (1741, 1745), 319, 'O'), ('.', (1745, 1746), 320, 'O'), ('En', (1747, 1749), 321, 'O'), ('este', (1750, 1754), 322, 'O'), ('nuevo', (1755, 1760), 323, 'O'), ('episodio', (1761, 1769), 324, 'O'), ('se', (1770, 1772), 325, 'O'), ('inicia', (1773, 1779), 326, 'O'), ('tratamiento', (1780, 1791), 327, 'O'), ('con', (1792, 1795), 328, 'O'), ('cap', (1796, 1805), 329, 'O'), ('##top', (1796, 1805), 329, 'O'), ('##ril', (1796, 1805), 329, 'O'), ('25', (1806, 1808), 330, 'O'), ('mg', (1809, 1811), 331, 'O'), ('al', (1812, 1814), 332, 'O'), ('día', (1815, 1818), 333, 'O'), ('y', (1819, 1820), 334, 'O'), ('am', (1821, 1831), 335, 'O'), ('##lo', (1821, 1831), 335, 'O'), ('##di', (1821, 1831), 335, 'O'), ('##pino', (1821, 1831), 335, 'O'), ('5', (1832, 1833), 336, 'O'), ('mg', (1834, 1836), 337, 'O'), ('al', (1837, 1839), 338, 'O'), ('día', (1840, 1843), 339, 'O'), (',', (1843, 1844), 340, 'O'), ('orales', (1845, 1851), 341, 'O'), (',', (1851, 1852), 342, 'O'), ('sin', (1853, 1856), 343, 'O'), ('mejor', (1857, 1864), 344, 'O'), ('##ía', (1857, 1864), 344, 'O'), ('de', (1865, 1867), 345, 'O'), ('los', (1868, 1871), 346, 'O'), ('registros', (1872, 1881), 347, 'O'), ('.', (1881, 1882), 348, 'O'), ('Se', (1883, 1885), 349, 'O'), ('decide', (1886, 1892), 350, 'O'), ('finalmente', (1893, 1903), 351, 'O'), ('trasladar', (1904, 1913), 352, 'O'), ('a', (1914, 1915), 353, 'O'), ('la', (1916, 1918), 354, 'O'), ('paciente', (1919, 1927), 355, 'O'), ('al', (1928, 1930), 356, 'O'), ('Servicio', (1931, 1939), 357, 'O'), ('de', (1940, 1942), 358, 'O'), ('Ur', (1943, 1952), 359, 'O'), ('##gencias', (1943, 1952), 359, 'O'), (',', (1952, 1953), 360, 'O'), ('donde', (1954, 1959), 361, 'O'), ('persist', (1960, 1969), 362, 'O'), ('##en', (1960, 1969), 362, 'O'), ('la', (1970, 1972), 363, 'O'), ('ce', (1973, 1980), 364, 'O'), ('##fal', (1973, 1980), 364, 'O'), ('##ea', (1973, 1980), 364, 'O'), ('y', (1981, 1982), 365, 'O'), ('la', (1983, 1985), 366, 'O'), ('pérdida', (1986, 1993), 367, 'O'), ('de', (1994, 1996), 368, 'O'), ('visión', (1997, 2003), 369, 'O'), (',', (2003, 2004), 370, 'O'), ('asoci', (2005, 2016), 371, 'O'), ('##ándose', (2005, 2016), 371, 'O'), ('un', (2017, 2019), 372, 'O'), ('episodio', (2020, 2028), 373, 'O'), ('de', (2029, 2031), 374, 'O'), ('crisis', (2032, 2038), 375, 'O'), ('tó', (2039, 2045), 376, 'O'), ('##nico', (2039, 2045), 376, 'O'), ('-', (2045, 2046), 377, 'O'), ('cl', (2046, 2053), 378, 'O'), ('##ónica', (2046, 2053), 378, 'O'), ('generalizada', (2054, 2066), 379, 'O'), ('que', (2067, 2070), 380, 'O'), ('ce', (2071, 2075), 381, 'O'), ('##de', (2071, 2075), 381, 'O'), ('de', (2076, 2078), 382, 'O'), ('manera', (2079, 2085), 383, 'O'), ('espon', (2086, 2096), 384, 'O'), ('##tánea', (2086, 2096), 384, 'O'), ('con', (2097, 2100), 385, 'O'), ('post', (2101, 2112), 386, 'O'), ('##c', (2101, 2112), 386, 'O'), ('##rí', (2101, 2112), 386, 'O'), ('##tico', (2101, 2112), 386, 'O'), ('posterior', (2113, 2122), 387, 'O'), ('.', (2122, 2123), 388, 'O'), ('Explor', (2125, 2136), 389, 'O'), ('##ación', (2125, 2136), 389, 'O'), ('física', (2137, 2143), 390, 'O'), ('Ya', (2144, 2146), 391, 'O'), ('descrita', (2147, 2155), 392, 'O'), ('en', (2156, 2158), 393, 'O'), ('la', (2159, 2161), 394, 'O'), ('an', (2162, 2171), 395, 'O'), ('##am', (2162, 2171), 395, 'O'), ('##nes', (2162, 2171), 395, 'O'), ('##is', (2162, 2171), 395, 'O'), ('.', (2171, 2172), 396, 'O')]\n",
      "\n",
      "\n",
      "[('Prueba', (2174, 2181), 397, 'O'), ('##s', (2174, 2181), 397, 'O'), ('complementarias', (2182, 2197), 398, 'O'), ('[UNK]', (2198, 2199), 399, 'O'), ('En', (2200, 2202), 400, 'O'), ('la', (2203, 2205), 401, 'O'), ('analí', (2206, 2215), 402, 'O'), ('##tica', (2206, 2215), 402, 'O'), ('extra', (2216, 2224), 403, 'O'), ('##ída', (2216, 2224), 403, 'O'), ('en', (2225, 2227), 404, 'O'), ('el', (2228, 2230), 405, 'O'), ('Servicio', (2231, 2239), 406, 'O'), ('de', (2240, 2242), 407, 'O'), ('Ur', (2243, 2252), 408, 'O'), ('##gencias', (2243, 2252), 408, 'O'), ('destaca', (2253, 2260), 409, 'O'), ('un', (2261, 2263), 410, 'O'), ('hemo', (2264, 2273), 411, 'O'), ('##grama', (2264, 2273), 411, 'O'), ('con', (2274, 2277), 412, 'O'), ('hemoglobina', (2278, 2289), 413, 'O'), ('10', (2290, 2292), 414, 'O'), (',', (2292, 2293), 415, 'O'), ('2', (2293, 2294), 416, 'O'), ('g', (2295, 2296), 417, 'O'), ('[UNK]', (2296, 2297), 418, 'O'), ('d', (2297, 2299), 419, 'O'), ('##l', (2297, 2299), 419, 'O'), ('y', (2300, 2301), 420, 'O'), ('pla', (2302, 2311), 421, 'O'), ('##quetas', (2302, 2311), 421, 'O'), ('43', (2312, 2314), 422, 'O'), ('.', (2314, 2315), 423, 'O'), ('000', (2315, 2318), 424, 'O'), ('[UNK]', (2318, 2319), 425, 'O'), ('m', (2319, 2322), 426, 'O'), ('##cl', (2319, 2322), 426, 'O'), ('.', (2322, 2323), 427, 'O'), ('[UNK]', (2324, 2325), 428, 'O'), ('En', (2326, 2328), 429, 'O'), ('la', (2329, 2331), 430, 'O'), ('bio', (2332, 2342), 431, 'O'), ('##química', (2332, 2342), 431, 'O'), ('se', (2343, 2345), 432, 'O'), ('objetiva', (2346, 2354), 433, 'O'), ('Cr', (2355, 2357), 434, 'O'), ('12', (2358, 2360), 435, 'O'), (',', (2360, 2361), 436, 'O'), ('4', (2361, 2362), 437, 'O'), ('mg', (2363, 2365), 438, 'O'), ('[UNK]', (2365, 2366), 439, 'O'), ('d', (2366, 2368), 440, 'O'), ('##l', (2366, 2368), 440, 'O'), ('(', (2369, 2370), 441, 'O'), ('con', (2370, 2373), 442, 'O'), ('cifras', (2374, 2380), 443, 'O'), ('previas', (2381, 2388), 444, 'O'), ('normales', (2389, 2397), 445, 'O'), (')', (2397, 2398), 446, 'O'), (',', (2398, 2399), 447, 'O'), ('potasio', (2400, 2407), 448, 'O'), ('6', (2408, 2409), 449, 'O'), (',', (2409, 2410), 450, 'O'), ('05', (2410, 2412), 451, 'O'), ('m', (2413, 2416), 452, 'O'), ('##E', (2413, 2416), 452, 'O'), ('##q', (2413, 2416), 452, 'O'), ('[UNK]', (2416, 2417), 453, 'O'), ('l', (2417, 2418), 454, 'O'), (',', (2418, 2419), 455, 'O'), ('L', (2420, 2423), 456, 'O'), ('##DH', (2420, 2423), 456, 'O'), ('321', (2424, 2427), 457, 'O'), ('UI', (2428, 2430), 458, 'O'), ('[UNK]', (2430, 2431), 459, 'O'), ('l', (2431, 2432), 460, 'O'), ('y', (2433, 2434), 461, 'O'), ('bil', (2435, 2446), 462, 'O'), ('##ir', (2435, 2446), 462, 'O'), ('##ru', (2435, 2446), 462, 'O'), ('##bina', (2435, 2446), 462, 'O'), ('0', (2447, 2448), 463, 'O'), (',', (2448, 2449), 464, 'O'), ('[UNK]', (2449, 2451), 465, 'O'), ('mg', (2452, 2454), 466, 'O'), ('[UNK]', (2454, 2455), 467, 'O'), ('d', (2455, 2457), 468, 'O'), ('##l', (2455, 2457), 468, 'O'), ('.', (2457, 2458), 469, 'O')]\n",
      "\n",
      "\n",
      "[('[UNK]', (2459, 2460), 470, 'O'), ('Los', (2461, 2464), 471, 'O'), ('gases', (2465, 2470), 472, 'O'), ('ven', (2471, 2478), 473, 'O'), ('##osos', (2471, 2478), 473, 'O'), ('presentan', (2479, 2488), 474, 'O'), ('valores', (2489, 2496), 475, 'O'), ('compatibles', (2497, 2508), 476, 'O'), ('con', (2509, 2512), 477, 'O'), ('aci', (2513, 2521), 478, 'O'), ('##dosis', (2513, 2521), 478, 'O'), ('metab', (2522, 2532), 479, 'O'), ('##ólica', (2522, 2532), 479, 'O'), ('(', (2533, 2534), 480, 'O'), ('pH', (2534, 2536), 481, 'O'), ('[UNK]', (2537, 2538), 482, 'O'), (',', (2538, 2539), 483, 'O'), ('11', (2539, 2541), 484, 'O'), ('[UNK]', (2541, 2542), 485, 'O'), ('bi', (2543, 2554), 486, 'O'), ('##carb', (2543, 2554), 486, 'O'), ('##onato', (2543, 2554), 486, 'O'), ('11', (2555, 2557), 487, 'O'), ('mm', (2558, 2562), 488, 'O'), ('##ol', (2558, 2562), 488, 'O'), ('[UNK]', (2562, 2563), 489, 'O'), ('l', (2563, 2564), 490, 'O'), (',', (2564, 2565), 491, 'O'), ('p', (2566, 2570), 492, 'O'), ('##CO', (2566, 2570), 492, 'O'), ('##2', (2566, 2570), 492, 'O'), ('38', (2571, 2573), 493, 'O'), ('mm', (2574, 2578), 494, 'O'), ('##H', (2574, 2578), 494, 'O'), ('##g', (2574, 2578), 494, 'O'), (')', (2578, 2579), 495, 'O'), ('.', (2579, 2580), 496, 'O'), ('[UNK]', (2581, 2582), 497, 'O'), ('Se', (2583, 2585), 498, 'O'), ('realiza', (2586, 2593), 499, 'O'), ('una', (2594, 2597), 500, 'O'), ('TC', (2598, 2600), 501, 'O'), ('cr', (2601, 2608), 502, 'O'), ('##ane', (2601, 2608), 502, 'O'), ('##al', (2601, 2608), 502, 'O'), (',', (2608, 2609), 503, 'O'), ('donde', (2610, 2615), 504, 'O'), ('se', (2616, 2618), 505, 'O'), ('informa', (2619, 2626), 506, 'O'), ('de', (2627, 2629), 507, 'O'), ('la', (2630, 2632), 508, 'O'), ('presencia', (2633, 2642), 509, 'O'), ('de', (2643, 2645), 510, 'O'), ('un', (2646, 2648), 511, 'O'), ('área', (2649, 2653), 512, 'O'), ('hipo', (2654, 2663), 513, 'O'), ('##den', (2654, 2663), 513, 'O'), ('##sa', (2654, 2663), 513, 'O'), ('en', (2664, 2666), 514, 'O'), ('la', (2667, 2669), 515, 'O'), ('región', (2670, 2676), 516, 'O'), ('oc', (2677, 2686), 517, 'O'), ('##cip', (2677, 2686), 517, 'O'), ('##ital', (2677, 2686), 517, 'O'), ('izquierda', (2687, 2696), 518, 'O'), ('y', (2697, 2698), 519, 'O'), ('otra', (2699, 2703), 520, 'O'), ('menos', (2704, 2709), 521, 'O'), ('evidente', (2710, 2718), 522, 'O'), ('en', (2719, 2721), 523, 'O'), ('el', (2722, 2724), 524, 'O'), ('lado', (2725, 2729), 525, 'O'), ('derecho', (2730, 2737), 526, 'O'), (',', (2737, 2738), 527, 'O'), ('sin', (2739, 2742), 528, 'O'), ('cap', (2743, 2752), 529, 'O'), ('##tación', (2743, 2752), 529, 'O'), ('de', (2753, 2755), 530, 'O'), ('contraste', (2756, 2765), 531, 'O'), (',', (2765, 2766), 532, 'O'), ('correspondiente', (2767, 2783), 533, 'O'), ('##s', (2767, 2783), 533, 'O'), ('a', (2784, 2785), 534, 'O'), ('zonas', (2786, 2791), 535, 'O'), ('de', (2792, 2794), 536, 'O'), ('ed', (2795, 2800), 537, 'O'), ('##ema', (2795, 2800), 537, 'O'), ('con', (2801, 2804), 538, 'O'), ('un', (2805, 2807), 539, 'O'), ('PRES', (2808, 2812), 540, 'O'), ('(', (2813, 2814), 541, 'O'), ('síndrome', (2814, 2822), 542, 'O'), ('de', (2823, 2825), 543, 'O'), ('enc', (2826, 2839), 544, 'O'), ('##efa', (2826, 2839), 544, 'O'), ('##lo', (2826, 2839), 544, 'O'), ('##patía', (2826, 2839), 544, 'O'), ('posterior', (2840, 2849), 545, 'O'), ('rever', (2850, 2860), 546, 'O'), ('##sible', (2850, 2860), 546, 'O'), (')', (2860, 2861), 547, 'O'), ('como', (2862, 2866), 548, 'O'), ('primera', (2867, 2874), 549, 'O'), ('posibilidad', (2875, 2886), 550, 'O'), ('et', (2887, 2897), 551, 'O'), ('##io', (2887, 2897), 551, 'O'), ('##lógica', (2887, 2897), 551, 'O'), ('.', (2897, 2898), 552, 'O')]\n",
      "\n",
      "\n",
      "[('[UNK]', (2899, 2900), 553, 'O'), ('Se', (2901, 2903), 554, 'O'), ('completa', (2904, 2912), 555, 'O'), ('el', (2913, 2915), 556, 'O'), ('estudio', (2916, 2923), 557, 'O'), ('con', (2924, 2927), 558, 'O'), ('análisis', (2928, 2936), 559, 'O'), ('de', (2937, 2939), 560, 'O'), ('orina', (2940, 2945), 561, 'O'), (',', (2945, 2946), 562, 'O'), ('donde', (2947, 2952), 563, 'O'), ('destaca', (2953, 2960), 564, 'O'), ('sodio', (2961, 2966), 565, 'O'), ('ur', (2967, 2975), 566, 'O'), ('##inario', (2967, 2975), 566, 'O'), ('80', (2976, 2978), 567, 'O'), ('m', (2979, 2982), 568, 'O'), ('##E', (2979, 2982), 568, 'O'), ('##q', (2979, 2982), 568, 'O'), ('[UNK]', (2982, 2983), 569, 'O'), ('l', (2983, 2984), 570, 'O'), (',', (2984, 2985), 571, 'O'), ('EF', (2986, 2990), 572, 'O'), ('##N', (2986, 2990), 572, 'O'), ('##a', (2986, 2990), 572, 'O'), ('[UNK]', (2991, 2992), 573, 'O'), ('1', (2993, 2994), 574, 'O'), ('[UNK]', (2994, 2995), 575, 'O'), ('.', (2995, 2996), 576, 'O'), ('[UNK]', (2997, 2998), 577, 'O'), ('Por', (2999, 3002), 578, 'O'), ('otro', (3003, 3007), 579, 'O'), ('lado', (3008, 3012), 580, 'O'), (',', (3012, 3013), 581, 'O'), ('en', (3014, 3016), 582, 'O'), ('una', (3017, 3020), 583, 'O'), ('TC', (3021, 3023), 584, 'O'), ('reciente', (3024, 3032), 585, 'O'), ('de', (3033, 3035), 586, 'O'), ('ree', (3036, 3048), 587, 'O'), ('##valuación', (3036, 3048), 587, 'O'), ('(', (3049, 3050), 588, 'O'), ('3', (3050, 3051), 589, 'O'), ('[UNK]', (3051, 3052), 590, 'O'), ('11', (3052, 3054), 591, 'O'), ('[UNK]', (3054, 3055), 592, 'O'), ('2014', (3055, 3059), 593, 'O'), (')', (3059, 3060), 594, 'O'), ('se', (3061, 3063), 595, 'O'), ('descar', (3064, 3075), 596, 'O'), ('##taban', (3064, 3075), 596, 'O'), ('signos', (3076, 3082), 597, 'O'), ('de', (3083, 3085), 598, 'O'), ('ur', (3086, 3094), 599, 'O'), ('##op', (3086, 3094), 599, 'O'), ('##atía', (3086, 3094), 599, 'O'), ('obst', (3095, 3106), 600, 'O'), ('##ruc', (3095, 3106), 600, 'O'), ('##tiva', (3095, 3106), 600, 'O'), ('a', (3107, 3108), 601, 'O'), ('ningún', (3109, 3115), 602, 'O'), ('nivel', (3116, 3121), 603, 'O'), ('.', (3121, 3122), 604, 'O'), ('Ante', (3123, 3127), 605, 'O'), ('tales', (3128, 3133), 606, 'O'), ('resultados', (3134, 3144), 607, 'O'), (',', (3144, 3145), 608, 'O'), ('se', (3146, 3148), 609, 'O'), ('consideró', (3149, 3158), 610, 'O'), ('inicialmente', (3159, 3171), 611, 'O'), ('un', (3172, 3174), 612, 'O'), ('origen', (3175, 3181), 613, 'O'), ('pare', (3182, 3196), 614, 'O'), ('##n', (3182, 3196), 614, 'O'), ('##qui', (3182, 3196), 614, 'O'), ('##ma', (3182, 3196), 614, 'O'), ('##toso', (3182, 3196), 614, 'O'), ('del', (3197, 3200), 615, 'O'), ('fracaso', (3201, 3208), 616, 'O'), ('renal', (3209, 3214), 617, 'O'), ('presente', (3215, 3223), 618, 'O'), ('en', (3224, 3226), 619, 'O'), ('aquel', (3227, 3232), 620, 'O'), ('momento', (3233, 3240), 621, 'O'), (',', (3240, 3241), 622, 'O'), ('pudiendo', (3242, 3250), 623, 'O'), ('ser', (3251, 3254), 624, 'O'), ('compatible', (3255, 3265), 625, 'O'), ('con', (3266, 3269), 626, 'O'), ('micro', (3270, 3285), 627, 'O'), ('##ang', (3270, 3285), 627, 'O'), ('##io', (3270, 3285), 627, 'O'), ('##patía', (3270, 3285), 627, 'O'), ('trom', (3286, 3296), 628, 'O'), ('##bó', (3286, 3296), 628, 'O'), ('##tica', (3286, 3296), 628, 'O'), ('[UNK]', (3296, 3297), 629, 'O'), ('hiper', (3297, 3309), 630, 'O'), ('##tensión', (3297, 3309), 630, 'O'), ('arterial', (3310, 3318), 631, 'O'), ('mali', (3319, 3326), 632, 'B'), ('##gna', (3319, 3326), 632, 'B'), ('.', (3326, 3327), 633, 'O')]\n",
      "\n",
      "\n",
      "[('Dia', (3329, 3340), 634, 'O'), ('##gn', (3329, 3340), 634, 'O'), ('##óstico', (3329, 3340), 634, 'O'), ('Como', (3341, 3345), 635, 'O'), ('juicio', (3346, 3352), 636, 'O'), ('clínico', (3353, 3360), 637, 'O'), ('principal', (3361, 3370), 638, 'O'), ('se', (3371, 3373), 639, 'O'), ('establece', (3374, 3383), 640, 'O'), ('emergencia', (3384, 3394), 641, 'O'), ('hiper', (3395, 3407), 642, 'O'), ('##tens', (3395, 3407), 642, 'O'), ('##iva', (3395, 3407), 642, 'O'), ('con', (3408, 3411), 643, 'O'), ('datos', (3412, 3417), 644, 'O'), ('de', (3418, 3420), 645, 'O'), ('daño', (3421, 3425), 646, 'O'), ('orgánico', (3426, 3434), 647, 'O'), ('(', (3435, 3436), 648, 'O'), ('enc', (3436, 3449), 649, 'O'), ('##efa', (3436, 3449), 649, 'O'), ('##lo', (3436, 3449), 649, 'O'), ('##patía', (3436, 3449), 649, 'O'), ('hiper', (3450, 3462), 650, 'O'), ('##tens', (3450, 3462), 650, 'O'), ('##iva', (3450, 3462), 650, 'O'), ('[UNK]', (3462, 3463), 651, 'O'), ('PRES', (3463, 3467), 652, 'O'), (',', (3467, 3468), 653, 'O'), ('fracaso', (3469, 3476), 654, 'O'), ('renal', (3477, 3482), 655, 'O'), ('agudo', (3483, 3488), 656, 'O'), ('con', (3489, 3492), 657, 'O'), ('posible', (3493, 3500), 658, 'O'), ('componente', (3501, 3511), 659, 'O'), ('de', (3512, 3514), 660, 'O'), ('micro', (3515, 3530), 661, 'O'), ('##ang', (3515, 3530), 661, 'O'), ('##io', (3515, 3530), 661, 'O'), ('##patía', (3515, 3530), 661, 'O'), ('trom', (3531, 3541), 662, 'O'), ('##bó', (3531, 3541), 662, 'O'), ('##tica', (3531, 3541), 662, 'O'), ('asociada', (3542, 3550), 663, 'O'), (')', (3550, 3551), 664, 'O'), ('en', (3552, 3554), 665, 'O'), ('el', (3555, 3557), 666, 'O'), ('contexto', (3558, 3566), 667, 'O'), ('de', (3567, 3569), 668, 'O'), ('tratamiento', (3570, 3581), 669, 'O'), ('con', (3582, 3585), 670, 'O'), ('fármacos', (3586, 3594), 671, 'O'), ('anti', (3595, 3611), 672, 'O'), ('##ang', (3595, 3611), 672, 'O'), ('##io', (3595, 3611), 672, 'O'), ('##gén', (3595, 3611), 672, 'O'), ('##icos', (3595, 3611), 672, 'O'), ('.', (3611, 3612), 673, 'O'), ('Tratamiento', (3614, 3625), 674, 'O'), ('Ante', (3626, 3630), 675, 'O'), ('la', (3631, 3633), 676, 'O'), ('inestabilidad', (3634, 3647), 677, 'O'), ('clínica', (3648, 3655), 678, 'O'), ('presente', (3656, 3664), 679, 'O'), (',', (3664, 3665), 680, 'O'), ('la', (3666, 3668), 681, 'O'), ('dificultad', (3669, 3679), 682, 'O'), ('para', (3680, 3684), 683, 'O'), ('el', (3685, 3687), 684, 'O'), ('control', (3688, 3695), 685, 'O'), ('de', (3696, 3698), 686, 'O'), ('la', (3699, 3701), 687, 'O'), ('hiper', (3702, 3714), 688, 'O'), ('##tensión', (3702, 3714), 688, 'O'), ('arterial', (3715, 3723), 689, 'O'), ('con', (3724, 3727), 690, 'O'), ('medicación', (3728, 3738), 691, 'O'), ('habitual', (3739, 3747), 692, 'O'), ('y', (3748, 3749), 693, 'O'), ('el', (3750, 3752), 694, 'O'), ('deterioro', (3753, 3762), 695, 'O'), ('de', (3763, 3765), 696, 'O'), ('la', (3766, 3768), 697, 'O'), ('función', (3769, 3776), 698, 'O'), ('renal', (3777, 3782), 699, 'O'), (',', (3782, 3783), 700, 'O'), ('se', (3784, 3786), 701, 'O'), ('decide', (3787, 3793), 702, 'O'), ('su', (3794, 3796), 703, 'O'), ('ingreso', (3797, 3804), 704, 'O'), ('en', (3805, 3807), 705, 'O'), ('la', (3808, 3810), 706, 'O'), ('Unidad', (3811, 3817), 707, 'O'), ('de', (3818, 3820), 708, 'O'), ('Cuidado', (3821, 3829), 709, 'O'), ('##s', (3821, 3829), 709, 'O'), ('Inten', (3830, 3840), 710, 'O'), ('##sivos', (3830, 3840), 710, 'O'), ('.', (3840, 3841), 711, 'O')]\n",
      "\n",
      "\n",
      "[('Se', (3842, 3844), 712, 'O'), ('inicia', (3845, 3851), 713, 'O'), ('tratamiento', (3852, 3863), 714, 'O'), ('anti', (3864, 3880), 715, 'O'), ('##hip', (3864, 3880), 715, 'O'), ('##erten', (3864, 3880), 715, 'O'), ('##sivo', (3864, 3880), 715, 'O'), ('intraven', (3881, 3892), 716, 'O'), ('##oso', (3881, 3892), 716, 'O'), ('con', (3893, 3896), 717, 'O'), ('ur', (3897, 3906), 718, 'O'), ('##ap', (3897, 3906), 718, 'O'), ('##idi', (3897, 3906), 718, 'O'), ('##lo', (3897, 3906), 718, 'O'), ('alcanzando', (3907, 3917), 719, 'O'), ('TA', (3918, 3920), 720, 'O'), ('de', (3921, 3923), 721, 'O'), ('140', (3924, 3927), 722, 'O'), ('[UNK]', (3927, 3928), 723, 'O'), ('90', (3928, 3930), 724, 'O'), ('mm', (3931, 3935), 725, 'O'), ('##H', (3931, 3935), 725, 'O'), ('##g', (3931, 3935), 725, 'O'), (',', (3935, 3936), 726, 'O'), ('sin', (3937, 3940), 727, 'O'), ('clínica', (3941, 3948), 728, 'O'), ('cardio', (3949, 3961), 729, 'O'), ('##gén', (3949, 3961), 729, 'O'), ('##ica', (3949, 3961), 729, 'O'), ('ni', (3962, 3964), 730, 'O'), ('cambios', (3965, 3972), 731, 'O'), ('electro', (3973, 3994), 732, 'O'), ('##car', (3973, 3994), 732, 'O'), ('##dio', (3973, 3994), 732, 'O'), ('##gráficos', (3973, 3994), 732, 'O'), (',', (3994, 3995), 733, 'O'), ('pasando', (3996, 4003), 734, 'O'), ('nuevamente', (4004, 4014), 735, 'O'), ('a', (4015, 4016), 736, 'O'), ('tratamiento', (4017, 4028), 737, 'O'), ('de', (4029, 4031), 738, 'O'), ('mantenimiento', (4032, 4045), 739, 'O'), ('con', (4046, 4049), 740, 'O'), ('am', (4050, 4060), 741, 'O'), ('##lo', (4050, 4060), 741, 'O'), ('##di', (4050, 4060), 741, 'O'), ('##pino', (4050, 4060), 741, 'O'), ('.', (4060, 4061), 742, 'O'), ('Durante', (4062, 4069), 743, 'O'), ('su', (4070, 4072), 744, 'O'), ('ingreso', (4073, 4080), 745, 'O'), ('es', (4081, 4083), 746, 'O'), ('valora', (4084, 4092), 747, 'O'), ('##da', (4084, 4092), 747, 'O'), ('por', (4093, 4096), 748, 'O'), ('el', (4097, 4099), 749, 'O'), ('Servicio', (4100, 4108), 750, 'O'), ('de', (4109, 4111), 751, 'O'), ('Neu', (4112, 4122), 752, 'O'), ('##ro', (4112, 4122), 752, 'O'), ('##logía', (4112, 4122), 752, 'O'), (',', (4122, 4123), 753, 'O'), ('considerando', (4124, 4136), 754, 'O'), ('la', (4137, 4139), 755, 'O'), ('evolución', (4140, 4149), 756, 'O'), ('compatible', (4150, 4160), 757, 'O'), ('con', (4161, 4164), 758, 'O'), ('PRES', (4165, 4169), 759, 'O'), (',', (4169, 4170), 760, 'O'), ('con', (4171, 4174), 761, 'O'), ('evolución', (4175, 4184), 762, 'O'), ('favorable', (4185, 4194), 763, 'O'), ('de', (4195, 4197), 764, 'O'), ('la', (4198, 4200), 765, 'O'), ('clínica', (4201, 4208), 766, 'O'), ('tras', (4209, 4213), 767, 'O'), ('el', (4214, 4216), 768, 'O'), ('control', (4217, 4224), 769, 'O'), ('de', (4225, 4227), 770, 'O'), ('cifras', (4228, 4234), 771, 'O'), ('ten', (4235, 4246), 772, 'O'), ('##sional', (4235, 4246), 772, 'O'), ('##es', (4235, 4246), 772, 'O'), (',', (4246, 4247), 773, 'O'), ('alcanzando', (4248, 4258), 774, 'O'), ('remisión', (4259, 4267), 775, 'O'), ('completa', (4268, 4276), 776, 'O'), ('de', (4277, 4279), 777, 'O'), ('la', (4280, 4282), 778, 'O'), ('semi', (4283, 4293), 779, 'O'), ('##ología', (4283, 4293), 779, 'O'), ('neuro', (4294, 4305), 780, 'O'), ('##lógica', (4294, 4305), 780, 'O'), ('.', (4305, 4306), 781, 'O')]\n",
      "\n",
      "\n",
      "[('Ante', (4307, 4311), 782, 'O'), ('el', (4312, 4314), 783, 'O'), ('deterioro', (4315, 4324), 784, 'O'), ('de', (4325, 4327), 785, 'O'), ('función', (4328, 4335), 786, 'O'), ('renal', (4336, 4341), 787, 'O'), (',', (4341, 4342), 788, 'O'), ('se', (4343, 4345), 789, 'O'), ('inicia', (4346, 4352), 790, 'O'), ('tratamiento', (4353, 4364), 791, 'O'), ('sustitu', (4365, 4376), 792, 'O'), ('##tivo', (4365, 4376), 792, 'O'), ('con', (4377, 4380), 793, 'O'), ('hemo', (4381, 4398), 794, 'O'), ('##dia', (4381, 4398), 794, 'O'), ('##fil', (4381, 4398), 794, 'O'), ('##tración', (4381, 4398), 794, 'O'), (',', (4398, 4399), 795, 'O'), ('completa', (4400, 4411), 796, 'O'), ('##n', (4400, 4411), 796, 'O'), ('##do', (4400, 4411), 796, 'O'), ('sesiones', (4412, 4420), 797, 'O'), ('de', (4421, 4423), 798, 'O'), ('plasma', (4424, 4437), 799, 'O'), ('##fé', (4424, 4437), 799, 'O'), ('##res', (4424, 4437), 799, 'O'), ('##is', (4424, 4437), 799, 'O'), ('ante', (4438, 4442), 800, 'O'), ('la', (4443, 4445), 801, 'O'), ('sospecha', (4446, 4454), 802, 'O'), ('de', (4455, 4457), 803, 'O'), ('una', (4458, 4461), 804, 'O'), ('posible', (4462, 4469), 805, 'O'), ('micro', (4470, 4485), 806, 'O'), ('##ang', (4470, 4485), 806, 'O'), ('##io', (4470, 4485), 806, 'O'), ('##patía', (4470, 4485), 806, 'O'), ('trom', (4486, 4496), 807, 'O'), ('##bó', (4486, 4496), 807, 'O'), ('##tica', (4486, 4496), 807, 'O'), ('.', (4496, 4497), 808, 'O'), ('Durante', (4498, 4505), 809, 'O'), ('la', (4506, 4508), 810, 'O'), ('evolución', (4509, 4518), 811, 'O'), ('presentó', (4519, 4527), 812, 'O'), ('descenso', (4528, 4536), 813, 'O'), ('de', (4537, 4539), 814, 'O'), ('cifras', (4540, 4546), 815, 'O'), ('de', (4547, 4549), 816, 'O'), ('hemoglobina', (4550, 4561), 817, 'O'), ('hasta', (4562, 4567), 818, 'O'), ('[UNK]', (4568, 4569), 819, 'O'), (',', (4569, 4570), 820, 'O'), ('5', (4570, 4571), 821, 'O'), ('g', (4572, 4573), 822, 'O'), ('[UNK]', (4573, 4574), 823, 'O'), ('d', (4574, 4576), 824, 'O'), ('##l', (4574, 4576), 824, 'O'), (',', (4576, 4577), 825, 'O'), ('sin', (4578, 4581), 826, 'O'), ('datos', (4582, 4587), 827, 'O'), ('aparente', (4588, 4597), 828, 'O'), ('##s', (4588, 4597), 828, 'O'), ('de', (4598, 4600), 829, 'O'), ('san', (4601, 4609), 830, 'O'), ('##grado', (4601, 4609), 830, 'O'), ('externo', (4610, 4617), 831, 'O'), (',', (4617, 4618), 832, 'O'), ('precisa', (4619, 4629), 833, 'O'), ('##n', (4619, 4629), 833, 'O'), ('##do', (4619, 4629), 833, 'O'), ('aporte', (4630, 4637), 834, 'O'), ('##s', (4630, 4637), 834, 'O'), ('de', (4638, 4640), 835, 'O'), ('concentrado', (4641, 4653), 836, 'O'), ('##s', (4641, 4653), 836, 'O'), ('de', (4654, 4656), 837, 'O'), ('hem', (4657, 4665), 838, 'O'), ('##at', (4657, 4665), 838, 'O'), ('##íes', (4657, 4665), 838, 'O'), ('.', (4665, 4666), 839, 'O'), ('Las', (4667, 4670), 840, 'O'), ('cifras', (4671, 4677), 841, 'O'), ('de', (4678, 4680), 842, 'O'), ('pla', (4681, 4690), 843, 'O'), ('##quetas', (4681, 4690), 843, 'O'), ('descen', (4691, 4703), 844, 'O'), ('##dieron', (4691, 4703), 844, 'O'), ('hasta', (4704, 4709), 845, 'O'), ('valores', (4710, 4717), 846, 'O'), ('cercanos', (4718, 4726), 847, 'O'), ('a', (4727, 4728), 848, 'O'), ('15', (4729, 4731), 849, 'O'), ('.', (4731, 4732), 850, 'O'), ('000', (4732, 4735), 851, 'O'), ('[UNK]', (4735, 4736), 852, 'O'), ('m', (4736, 4739), 853, 'O'), ('##cl', (4736, 4739), 853, 'O'), (',', (4739, 4740), 854, 'O'), ('por', (4741, 4744), 855, 'O'), ('lo', (4745, 4747), 856, 'O'), ('que', (4748, 4751), 857, 'O'), ('también', (4752, 4759), 858, 'O'), ('se', (4760, 4762), 859, 'O'), ('trans', (4763, 4777), 860, 'O'), ('##fun', (4763, 4777), 860, 'O'), ('##dieron', (4763, 4777), 860, 'O'), ('po', (4778, 4782), 861, 'O'), ('##ol', (4778, 4782), 861, 'O'), ('de', (4783, 4785), 862, 'O'), ('pla', (4786, 4795), 863, 'O'), ('##quetas', (4786, 4795), 863, 'O'), ('.', (4795, 4796), 864, 'O')]\n",
      "\n",
      "\n",
      "[('Evolución', (4798, 4807), 865, 'O'), ('Se', (4808, 4810), 866, 'O'), ('completó', (4811, 4819), 867, 'O'), ('el', (4820, 4822), 868, 'O'), ('estudio', (4823, 4830), 869, 'O'), ('et', (4831, 4841), 870, 'O'), ('##io', (4831, 4841), 870, 'O'), ('##lógico', (4831, 4841), 870, 'O'), ('con', (4842, 4845), 871, 'O'), ('fro', (4846, 4852), 872, 'O'), ('##tis', (4846, 4852), 872, 'O'), ('de', (4853, 4855), 873, 'O'), ('sangre', (4856, 4862), 874, 'O'), ('perif', (4863, 4873), 875, 'O'), ('##érica', (4863, 4873), 875, 'O'), (',', (4873, 4874), 876, 'O'), ('donde', (4875, 4880), 877, 'O'), ('no', (4881, 4883), 878, 'O'), ('se', (4884, 4886), 879, 'O'), ('objetiva', (4887, 4898), 880, 'O'), ('##ron', (4887, 4898), 880, 'O'), ('datos', (4899, 4904), 881, 'O'), ('compatibles', (4905, 4916), 882, 'O'), ('con', (4917, 4920), 883, 'O'), ('hem', (4921, 4930), 884, 'O'), ('##ól', (4921, 4930), 884, 'O'), ('##isis', (4921, 4930), 884, 'O'), ('en', (4931, 4933), 885, 'O'), ('el', (4934, 4936), 886, 'O'), ('seno', (4937, 4941), 887, 'O'), ('de', (4942, 4944), 888, 'O'), ('micro', (4945, 4960), 889, 'O'), ('##ang', (4945, 4960), 889, 'O'), ('##io', (4945, 4960), 889, 'O'), ('##patía', (4945, 4960), 889, 'O'), ('trom', (4961, 4971), 890, 'O'), ('##bó', (4961, 4971), 890, 'O'), ('##tica', (4961, 4971), 890, 'O'), ('(', (4972, 4973), 891, 'O'), ('ausencia', (4973, 4981), 892, 'O'), ('de', (4982, 4984), 893, 'O'), ('esqui', (4985, 4998), 894, 'O'), ('##sto', (4985, 4998), 894, 'O'), ('##citos', (4985, 4998), 894, 'O'), ('y', (4999, 5000), 895, 'O'), ('agregados', (5001, 5010), 896, 'O'), ('pla', (5011, 5023), 897, 'O'), ('##queta', (5011, 5023), 897, 'O'), ('##rios', (5011, 5023), 897, 'O'), (')', (5023, 5024), 898, 'O'), (',', (5024, 5025), 899, 'O'), ('con', (5026, 5029), 900, 'O'), ('cifras', (5030, 5036), 901, 'O'), ('de', (5037, 5039), 902, 'O'), ('L', (5040, 5043), 903, 'O'), ('##DH', (5040, 5043), 903, 'O'), ('inferiores', (5044, 5054), 904, 'O'), ('en', (5055, 5057), 905, 'O'), ('todo', (5058, 5062), 906, 'O'), ('momento', (5063, 5070), 907, 'O'), ('a', (5071, 5072), 908, 'O'), ('400', (5073, 5076), 909, 'O'), ('UI', (5077, 5079), 910, 'O'), ('[UNK]', (5079, 5080), 911, 'O'), ('l', (5080, 5081), 912, 'O'), ('y', (5082, 5083), 913, 'O'), ('determinación', (5084, 5097), 914, 'O'), ('de', (5098, 5100), 915, 'O'), ('ha', (5101, 5113), 916, 'O'), ('##pto', (5101, 5113), 916, 'O'), ('##globina', (5101, 5113), 916, 'O'), ('[UNK]', (5114, 5117), 917, 'O'), ('mg', (5118, 5120), 918, 'O'), ('[UNK]', (5120, 5121), 919, 'O'), ('d', (5121, 5123), 920, 'O'), ('##l', (5121, 5123), 920, 'O'), ('(', (5124, 5125), 921, 'O'), ('35', (5125, 5127), 922, 'O'), ('-', (5127, 5128), 923, 'O'), ('152', (5128, 5131), 924, 'O'), ('mg', (5132, 5134), 925, 'O'), ('[UNK]', (5134, 5135), 926, 'O'), ('d', (5135, 5137), 927, 'O'), ('##l', (5135, 5137), 927, 'O'), (')', (5137, 5138), 928, 'O'), ('.', (5138, 5139), 929, 'O'), ('Se', (5140, 5142), 930, 'O'), ('determinó', (5143, 5152), 931, 'O'), ('valor', (5153, 5158), 932, 'O'), ('sé', (5159, 5165), 933, 'O'), ('##rico', (5159, 5165), 933, 'O'), ('de', (5166, 5168), 934, 'O'), ('AD', (5169, 5177), 935, 'O'), ('##AM', (5169, 5177), 935, 'O'), ('##TS', (5169, 5177), 935, 'O'), ('##13', (5169, 5177), 935, 'O'), (',', (5177, 5178), 936, 'O'), ('con', (5179, 5182), 937, 'O'), ('resultado', (5183, 5192), 938, 'O'), ('normal', (5193, 5199), 939, 'O'), ('.', (5199, 5200), 940, 'O'), ('No', (5201, 5203), 941, 'O'), ('se', (5204, 5206), 942, 'O'), ('tomaron', (5207, 5214), 943, 'O'), ('bio', (5215, 5222), 944, 'O'), ('##psia', (5215, 5222), 944, 'O'), ('renal', (5223, 5228), 945, 'O'), ('ni', (5229, 5231), 946, 'O'), ('a', (5232, 5233), 947, 'O'), ('ningún', (5234, 5240), 948, 'O'), ('otro', (5241, 5245), 949, 'O'), ('nivel', (5246, 5251), 950, 'O'), ('.', (5251, 5252), 951, 'O')]\n",
      "\n",
      "\n",
      "[('Se', (5253, 5255), 952, 'O'), ('realizó', (5256, 5263), 953, 'O'), ('estudio', (5264, 5271), 954, 'O'), ('de', (5272, 5274), 955, 'O'), ('orina', (5275, 5280), 956, 'O'), ('de', (5281, 5283), 957, 'O'), ('24', (5284, 5286), 958, 'O'), ('horas', (5287, 5292), 959, 'O'), ('con', (5293, 5296), 960, 'O'), ('valor', (5297, 5302), 961, 'O'), ('de', (5303, 5305), 962, 'O'), ('prote', (5306, 5317), 963, 'O'), ('##in', (5306, 5317), 963, 'O'), ('##uria', (5306, 5317), 963, 'O'), ('de', (5318, 5320), 964, 'O'), ('0', (5321, 5322), 965, 'O'), (',', (5322, 5323), 966, 'O'), ('68', (5323, 5325), 967, 'O'), ('g', (5326, 5327), 968, 'O'), ('[UNK]', (5327, 5328), 969, 'O'), ('24', (5328, 5330), 970, 'O'), ('h', (5331, 5332), 971, 'O'), ('[UNK]', (5332, 5333), 972, 'O'), ('sedi', (5334, 5343), 973, 'O'), ('##mento', (5334, 5343), 973, 'O'), ('ur', (5344, 5352), 974, 'O'), ('##inario', (5344, 5352), 974, 'O'), ('sin', (5353, 5356), 975, 'O'), ('alteraciones', (5357, 5369), 976, 'O'), ('reseña', (5370, 5380), 977, 'O'), ('##bles', (5370, 5380), 977, 'O'), ('.', (5380, 5381), 978, 'O'), ('Se', (5382, 5384), 979, 'O'), ('realizó', (5385, 5392), 980, 'O'), ('una', (5393, 5396), 981, 'O'), ('RM', (5397, 5399), 982, 'O'), ('cerebral', (5400, 5408), 983, 'O'), ('que', (5409, 5412), 984, 'O'), ('identificó', (5413, 5423), 985, 'O'), ('señal', (5424, 5429), 986, 'O'), ('hiper', (5430, 5442), 987, 'O'), ('##inten', (5430, 5442), 987, 'O'), ('##sa', (5430, 5442), 987, 'O'), ('en', (5443, 5445), 988, 'O'), ('T', (5446, 5448), 989, 'O'), ('##2', (5446, 5448), 989, 'O'), ('y', (5449, 5450), 990, 'O'), ('FL', (5451, 5456), 991, 'O'), ('##A', (5451, 5456), 991, 'O'), ('##IR', (5451, 5456), 991, 'O'), (',', (5456, 5457), 992, 'O'), ('predominante', (5458, 5475), 993, 'O'), ('##mente', (5458, 5475), 993, 'O'), ('en', (5476, 5478), 994, 'O'), ('la', (5479, 5481), 995, 'O'), ('región', (5482, 5488), 996, 'O'), ('par', (5489, 5497), 997, 'O'), ('##ie', (5489, 5497), 997, 'O'), ('##tal', (5489, 5497), 997, 'O'), ('paras', (5498, 5509), 998, 'O'), ('##ag', (5498, 5509), 998, 'O'), ('##ital', (5498, 5509), 998, 'O'), ('posterior', (5510, 5519), 999, 'O'), ('izquierda', (5520, 5529), 1000, 'O'), ('(', (5530, 5531), 1001, 'O'), ('también', (5531, 5538), 1002, 'O'), ('en', (5539, 5541), 1003, 'O'), ('la', (5542, 5544), 1004, 'O'), ('región', (5545, 5551), 1005, 'O'), ('frontal', (5552, 5559), 1006, 'O'), ('izquierda', (5560, 5569), 1007, 'O'), ('y', (5570, 5571), 1008, 'O'), ('oc', (5572, 5581), 1009, 'O'), ('##cip', (5572, 5581), 1009, 'O'), ('##ital', (5572, 5581), 1009, 'O'), ('derecha', (5582, 5589), 1010, 'O'), (')', (5589, 5590), 1011, 'O'), (',', (5590, 5591), 1012, 'O'), ('con', (5592, 5595), 1013, 'O'), ('restricción', (5596, 5607), 1014, 'O'), ('a', (5608, 5609), 1015, 'O'), ('la', (5610, 5612), 1016, 'O'), ('difusión', (5613, 5621), 1017, 'O'), (',', (5621, 5622), 1018, 'O'), ('confirman', (5623, 5634), 1019, 'O'), ('##do', (5623, 5634), 1019, 'O'), ('PRES', (5635, 5639), 1020, 'O'), ('como', (5640, 5644), 1021, 'O'), ('primera', (5645, 5652), 1022, 'O'), ('posibilidad', (5653, 5664), 1023, 'O'), ('diagn', (5665, 5676), 1024, 'O'), ('##óst', (5665, 5676), 1024, 'O'), ('##ica', (5665, 5676), 1024, 'O'), ('.', (5676, 5677), 1025, 'O'), ('El', (5678, 5680), 1026, 'O'), ('examen', (5681, 5687), 1027, 'O'), ('de', (5688, 5690), 1028, 'O'), ('fondo', (5691, 5696), 1029, 'O'), ('de', (5697, 5699), 1030, 'O'), ('ojo', (5700, 5703), 1031, 'O'), ('resultó', (5704, 5711), 1032, 'O'), ('normal', (5712, 5718), 1033, 'O'), (',', (5718, 5719), 1034, 'O'), ('lo', (5720, 5722), 1035, 'O'), ('que', (5723, 5726), 1036, 'O'), ('orient', (5727, 5734), 1037, 'O'), ('##ó', (5727, 5734), 1037, 'O'), ('con', (5735, 5738), 1038, 'O'), ('más', (5739, 5742), 1039, 'O'), ('fuerza', (5743, 5749), 1040, 'O'), ('la', (5750, 5752), 1041, 'O'), ('ce', (5753, 5760), 1042, 'O'), ('##guera', (5753, 5760), 1042, 'O'), ('cor', (5761, 5769), 1043, 'O'), ('##tica', (5761, 5769), 1043, 'O'), ('##l', (5761, 5769), 1043, 'O'), ('bilateral', (5770, 5779), 1044, 'O'), ('como', (5780, 5784), 1045, 'O'), ('causa', (5785, 5790), 1046, 'O'), ('del', (5791, 5794), 1047, 'O'), ('déficit', (5795, 5802), 1048, 'O'), ('visual', (5803, 5809), 1049, 'O'), ('.', (5809, 5810), 1050, 'O')]\n",
      "\n",
      "\n",
      "[('El', (5811, 5813), 1051, 'O'), ('EE', (5814, 5817), 1052, 'O'), ('##G', (5814, 5817), 1052, 'O'), ('no', (5818, 5820), 1053, 'O'), ('mostró', (5821, 5827), 1054, 'O'), ('actividad', (5828, 5837), 1055, 'O'), ('epi', (5838, 5851), 1056, 'O'), ('##le', (5838, 5851), 1056, 'O'), ('##pti', (5838, 5851), 1056, 'O'), ('##forme', (5838, 5851), 1056, 'O'), ('.', (5851, 5852), 1057, 'O'), ('Dada', (5854, 5858), 1058, 'O'), ('la', (5859, 5861), 1059, 'O'), ('estabilidad', (5862, 5873), 1060, 'O'), ('clínica', (5874, 5881), 1061, 'O'), (',', (5881, 5882), 1062, 'O'), ('con', (5883, 5886), 1063, 'O'), ('control', (5887, 5894), 1064, 'O'), ('de', (5895, 5897), 1065, 'O'), ('la', (5898, 5900), 1066, 'O'), ('tensión', (5901, 5908), 1067, 'O'), ('arterial', (5909, 5917), 1068, 'O'), ('tras', (5918, 5922), 1069, 'O'), ('el', (5923, 5925), 1070, 'O'), ('empleo', (5926, 5932), 1071, 'O'), ('de', (5933, 5935), 1072, 'O'), ('fármacos', (5936, 5944), 1073, 'O'), ('anti', (5945, 5962), 1074, 'O'), ('##hip', (5945, 5962), 1074, 'O'), ('##erten', (5945, 5962), 1074, 'O'), ('##sivos', (5945, 5962), 1074, 'O'), ('intraven', (5963, 5975), 1075, 'O'), ('##osos', (5963, 5975), 1075, 'O'), ('mantenido', (5976, 5985), 1076, 'O'), ('tras', (5986, 5990), 1077, 'O'), ('rotación', (5991, 5999), 1078, 'O'), ('de', (6000, 6002), 1079, 'O'), ('la', (6003, 6005), 1080, 'O'), ('medicación', (6006, 6016), 1081, 'O'), ('a', (6017, 6018), 1082, 'O'), ('vía', (6019, 6022), 1083, 'O'), ('oral', (6023, 6027), 1084, 'O'), (',', (6027, 6028), 1085, 'O'), ('resolución', (6029, 6039), 1086, 'O'), ('de', (6040, 6042), 1087, 'O'), ('la', (6043, 6045), 1088, 'O'), ('clínica', (6046, 6053), 1089, 'O'), ('neuro', (6054, 6065), 1090, 'O'), ('##lógica', (6054, 6065), 1090, 'O'), ('(', (6066, 6067), 1091, 'O'), ('RM', (6067, 6069), 1092, 'O'), ('cerebral', (6070, 6078), 1093, 'O'), ('de', (6079, 6081), 1094, 'O'), ('control', (6082, 6089), 1095, 'O'), ('varias', (6090, 6096), 1096, 'O'), ('semanas', (6097, 6104), 1097, 'O'), ('después', (6105, 6112), 1098, 'O'), (',', (6112, 6113), 1099, 'O'), ('sin', (6114, 6117), 1100, 'O'), ('hallazgos', (6118, 6127), 1101, 'O'), ('relevantes', (6128, 6138), 1102, 'O'), (')', (6138, 6139), 1103, 'O'), ('y', (6140, 6141), 1104, 'O'), ('normalización', (6142, 6155), 1105, 'O'), ('de', (6156, 6158), 1106, 'O'), ('parámetros', (6159, 6169), 1107, 'O'), ('de', (6170, 6172), 1108, 'O'), ('función', (6173, 6180), 1109, 'O'), ('renal', (6181, 6186), 1110, 'O'), (',', (6186, 6187), 1111, 'O'), ('se', (6188, 6190), 1112, 'O'), ('decide', (6191, 6197), 1113, 'O'), ('alta', (6198, 6202), 1114, 'O'), ('hospital', (6203, 6215), 1115, 'O'), ('##aria', (6203, 6215), 1115, 'O'), ('con', (6216, 6219), 1116, 'O'), ('optimi', (6220, 6232), 1117, 'O'), ('##zación', (6220, 6232), 1117, 'O'), ('de', (6233, 6235), 1118, 'O'), ('tratamiento', (6236, 6247), 1119, 'O'), (',', (6247, 6248), 1120, 'O'), ('sin', (6249, 6252), 1121, 'O'), ('precisar', (6253, 6261), 1122, 'O'), ('medicación', (6262, 6272), 1123, 'O'), ('anti', (6273, 6287), 1124, 'O'), ('##ep', (6273, 6287), 1124, 'O'), ('##il', (6273, 6287), 1124, 'O'), ('##ép', (6273, 6287), 1124, 'O'), ('##tica', (6273, 6287), 1124, 'O'), ('de', (6288, 6290), 1125, 'O'), ('mantenimiento', (6291, 6304), 1126, 'O'), ('.', (6304, 6305), 1127, 'O')]\n",
      "\n",
      "\n"
     ]
    }
   ],
   "source": [
    "for i in range(check_id_frag, check_id_frag + train_frag[check_id]):\n",
    "    print(list(zip([tokenizer._convert_id_to_token(int(ind)) for ind in train_ind[i]][1:len(train_start_end_frag[i])+1], \n",
    "               train_start_end_frag[i], train_word_id[i], \n",
    "               [lab_encoder.inverse_transform([label])[0] if label != IGNORE_VALUE else label \\\n",
    "                for label in train_y[i][1:len(train_start_end_frag[i])+1]])))\n",
    "    print(\"\\n\")"
   ]
  },
  {
   "cell_type": "code",
   "execution_count": 58,
   "metadata": {},
   "outputs": [
    {
     "name": "stdout",
     "output_type": "stream",
     "text": [
      "[CLS] Ana ##mne ##sis Mujer de 26 años , natural de Rumanía , diagnos ##tica ##da de car ##cino ##ma epi ##der ##mo ##ide de cé ##r ##vi ##x , sin otros antecedentes de interés , que refiere ce ##fal ##ea e hiper ##tensión arterial desde hace varias semanas . A raíz de un cuadro de san ##grado post ##co ##ital , se diagnos ##tica en agosto de 2013 de car ##cino ##ma epi ##der ##mo ##ide de cé ##r ##vi ##x EI ##IB ( afecta ##ción para ##met ##ria ##l ) con aden ##op ##atía ##s pato ##lógicas a nivel loco ##r ##re ##gional . [SEP] [PAD] [PAD] [PAD] [PAD] [PAD] [PAD] [PAD] [PAD] [PAD] [PAD] [PAD] [PAD] [PAD] [PAD] [PAD] [PAD] [PAD] [PAD] [PAD] [PAD] [PAD] \n",
      "\n",
      "[CLS] Se inicia tratamiento con Q ##T [UNK] RT concur ##rente , con seis ciclos de cis ##pla ##tino a dosis de 40 mg [UNK] m ##2 i . v . En la PE ##T - TC de ree ##valuación de febrero de 2014 se objetiva persistencia de afecta ##ción local , con aparición de lesiones a nivel aden ##op ##ático cerv ##ical y medias ##tín ##ico y metá ##stas ##is vis ##cera ##les a nivel pulmonar y ó ##seo . [SEP] [PAD] [PAD] [PAD] [PAD] [PAD] [PAD] [PAD] [PAD] [PAD] [PAD] [PAD] [PAD] [PAD] [PAD] [PAD] [PAD] [PAD] [PAD] [PAD] [PAD] [PAD] [PAD] [PAD] [PAD] [PAD] [PAD] [PAD] [PAD] [PAD] [PAD] [PAD] [PAD] [PAD] [PAD] [PAD] [PAD] [PAD] [PAD] [PAD] [PAD] [PAD] [PAD] [PAD] [PAD] [PAD] [PAD] \n",
      "\n",
      "[CLS] Se remite al Servicio de On ##col ##o ##gía Mé ##dica y se inicia primera línea de Q ##T pali ##ati ##va con platino - tax ##ano - be ##va ##ci ##zu ##ma ##b a dosis estándar , con un total de seis ciclos completado ##s . En una prueba de imagen de control realizada en mayo de 2014 , destaca mejor ##ía de la afecta ##ción descrita previamente ( sin alcanzar criterios de respuesta REC ##IST ) . Por reacción alér ##gica al platino , se decide mantener a la paciente únicamente con be ##va ##ci ##zu ##ma ##b como terapia de mantenimiento . [SEP] [PAD] [PAD] [PAD] [PAD] [PAD] [PAD] [PAD] [PAD] [PAD] [PAD] [PAD] [PAD] [PAD] [PAD] [PAD] [PAD] [PAD] [PAD] [PAD] [PAD] [PAD] \n",
      "\n",
      "[CLS] En la PE ##T - TC de control de noviembre de 2014 se confirman hallazgos compatibles con progresión tumor ##al [UNK] la última vez que se administ ##ró be ##va ##ci ##zu ##ma ##b fue el día 14 [UNK] 10 [UNK] 2014 . No presenta otros antecedentes médico - quirúr ##gicos de interés . La paciente acu ##de el día 4 [UNK] 11 [UNK] 2014 a control en consultas de On ##col ##o ##gía Mé ##dica refi ##riendo ce ##fal ##ea holo ##cran ##eal op ##res ##iva con intensidad en la escala EV ##A 9 [UNK] 10 , asociada a pérdida de visión bilateral y cifras ten ##sional ##es elevadas ( TA : [UNK] [UNK] 120 mm ##H ##g ) . [SEP] [PAD] [PAD] [PAD] [PAD] [PAD] \n",
      "\n",
      "[CLS] La paciente refería dificultad para el control de su hiper ##tensión arterial en los últimos días . En este nuevo episodio se inicia tratamiento con cap ##top ##ril 25 mg al día y am ##lo ##di ##pino 5 mg al día , orales , sin mejor ##ía de los registros . Se decide finalmente trasladar a la paciente al Servicio de Ur ##gencias , donde persist ##en la ce ##fal ##ea y la pérdida de visión , asoci ##ándose un episodio de crisis tó ##nico - cl ##ónica generalizada que ce ##de de manera espon ##tánea con post ##c ##rí ##tico posterior . Explor ##ación física Ya descrita en la an ##am ##nes ##is . [SEP] [PAD] [PAD] [PAD] [PAD] [PAD] [PAD] [PAD] [PAD] [PAD] [PAD] [PAD] \n",
      "\n",
      "[CLS] Prueba ##s complementarias [UNK] En la analí ##tica extra ##ída en el Servicio de Ur ##gencias destaca un hemo ##grama con hemoglobina 10 , 2 g [UNK] d ##l y pla ##quetas 43 . 000 [UNK] m ##cl . [UNK] En la bio ##química se objetiva Cr 12 , 4 mg [UNK] d ##l ( con cifras previas normales ) , potasio 6 , 05 m ##E ##q [UNK] l , L ##DH 321 UI [UNK] l y bil ##ir ##ru ##bina 0 , [UNK] mg [UNK] d ##l . [SEP] [PAD] [PAD] [PAD] [PAD] [PAD] [PAD] [PAD] [PAD] [PAD] [PAD] [PAD] [PAD] [PAD] [PAD] [PAD] [PAD] [PAD] [PAD] [PAD] [PAD] [PAD] [PAD] [PAD] [PAD] [PAD] [PAD] [PAD] [PAD] [PAD] [PAD] [PAD] [PAD] [PAD] [PAD] [PAD] [PAD] \n",
      "\n",
      "[CLS] [UNK] Los gases ven ##osos presentan valores compatibles con aci ##dosis metab ##ólica ( pH [UNK] , 11 [UNK] bi ##carb ##onato 11 mm ##ol [UNK] l , p ##CO ##2 38 mm ##H ##g ) . [UNK] Se realiza una TC cr ##ane ##al , donde se informa de la presencia de un área hipo ##den ##sa en la región oc ##cip ##ital izquierda y otra menos evidente en el lado derecho , sin cap ##tación de contraste , correspondiente ##s a zonas de ed ##ema con un PRES ( síndrome de enc ##efa ##lo ##patía posterior rever ##sible ) como primera posibilidad et ##io ##lógica . [SEP] [PAD] [PAD] [PAD] [PAD] [PAD] [PAD] [PAD] [PAD] [PAD] [PAD] [PAD] [PAD] [PAD] [PAD] [PAD] [PAD] [PAD] [PAD] \n",
      "\n",
      "[CLS] [UNK] Se completa el estudio con análisis de orina , donde destaca sodio ur ##inario 80 m ##E ##q [UNK] l , EF ##N ##a [UNK] 1 [UNK] . [UNK] Por otro lado , en una TC reciente de ree ##valuación ( 3 [UNK] 11 [UNK] 2014 ) se descar ##taban signos de ur ##op ##atía obst ##ruc ##tiva a ningún nivel . Ante tales resultados , se consideró inicialmente un origen pare ##n ##qui ##ma ##toso del fracaso renal presente en aquel momento , pudiendo ser compatible con micro ##ang ##io ##patía trom ##bó ##tica [UNK] hiper ##tensión arterial mali ##gna . [SEP] [PAD] [PAD] [PAD] [PAD] [PAD] [PAD] [PAD] [PAD] [PAD] [PAD] [PAD] [PAD] [PAD] [PAD] [PAD] [PAD] [PAD] [PAD] [PAD] [PAD] [PAD] [PAD] [PAD] \n",
      "\n",
      "[CLS] Dia ##gn ##óstico Como juicio clínico principal se establece emergencia hiper ##tens ##iva con datos de daño orgánico ( enc ##efa ##lo ##patía hiper ##tens ##iva [UNK] PRES , fracaso renal agudo con posible componente de micro ##ang ##io ##patía trom ##bó ##tica asociada ) en el contexto de tratamiento con fármacos anti ##ang ##io ##gén ##icos . Tratamiento Ante la inestabilidad clínica presente , la dificultad para el control de la hiper ##tensión arterial con medicación habitual y el deterioro de la función renal , se decide su ingreso en la Unidad de Cuidado ##s Inten ##sivos . [SEP] [PAD] [PAD] [PAD] [PAD] [PAD] [PAD] [PAD] [PAD] [PAD] [PAD] [PAD] [PAD] [PAD] [PAD] [PAD] [PAD] [PAD] [PAD] [PAD] [PAD] [PAD] [PAD] [PAD] [PAD] [PAD] [PAD] [PAD] \n",
      "\n",
      "[CLS] Se inicia tratamiento anti ##hip ##erten ##sivo intraven ##oso con ur ##ap ##idi ##lo alcanzando TA de 140 [UNK] 90 mm ##H ##g , sin clínica cardio ##gén ##ica ni cambios electro ##car ##dio ##gráficos , pasando nuevamente a tratamiento de mantenimiento con am ##lo ##di ##pino . Durante su ingreso es valora ##da por el Servicio de Neu ##ro ##logía , considerando la evolución compatible con PRES , con evolución favorable de la clínica tras el control de cifras ten ##sional ##es , alcanzando remisión completa de la semi ##ología neuro ##lógica . [SEP] [PAD] [PAD] [PAD] [PAD] [PAD] [PAD] [PAD] [PAD] [PAD] [PAD] [PAD] [PAD] [PAD] [PAD] [PAD] [PAD] [PAD] [PAD] [PAD] [PAD] [PAD] [PAD] [PAD] [PAD] [PAD] [PAD] [PAD] [PAD] [PAD] [PAD] [PAD] [PAD] \n",
      "\n",
      "[CLS] Ante el deterioro de función renal , se inicia tratamiento sustitu ##tivo con hemo ##dia ##fil ##tración , completa ##n ##do sesiones de plasma ##fé ##res ##is ante la sospecha de una posible micro ##ang ##io ##patía trom ##bó ##tica . Durante la evolución presentó descenso de cifras de hemoglobina hasta [UNK] , 5 g [UNK] d ##l , sin datos aparente ##s de san ##grado externo , precisa ##n ##do aporte ##s de concentrado ##s de hem ##at ##íes . Las cifras de pla ##quetas descen ##dieron hasta valores cercanos a 15 . 000 [UNK] m ##cl , por lo que también se trans ##fun ##dieron po ##ol de pla ##quetas . [SEP] [PAD] [PAD] [PAD] [PAD] [PAD] [PAD] [PAD] [PAD] [PAD] [PAD] [PAD] [PAD] [PAD] \n",
      "\n",
      "[CLS] Evolución Se completó el estudio et ##io ##lógico con fro ##tis de sangre perif ##érica , donde no se objetiva ##ron datos compatibles con hem ##ól ##isis en el seno de micro ##ang ##io ##patía trom ##bó ##tica ( ausencia de esqui ##sto ##citos y agregados pla ##queta ##rios ) , con cifras de L ##DH inferiores en todo momento a 400 UI [UNK] l y determinación de ha ##pto ##globina [UNK] mg [UNK] d ##l ( 35 - 152 mg [UNK] d ##l ) . Se determinó valor sé ##rico de AD ##AM ##TS ##13 , con resultado normal . No se tomaron bio ##psia renal ni a ningún otro nivel . [SEP] [PAD] [PAD] [PAD] [PAD] [PAD] [PAD] [PAD] [PAD] [PAD] [PAD] [PAD] [PAD] [PAD] \n",
      "\n",
      "[CLS] Se realizó estudio de orina de 24 horas con valor de prote ##in ##uria de 0 , 68 g [UNK] 24 h [UNK] sedi ##mento ur ##inario sin alteraciones reseña ##bles . Se realizó una RM cerebral que identificó señal hiper ##inten ##sa en T ##2 y FL ##A ##IR , predominante ##mente en la región par ##ie ##tal paras ##ag ##ital posterior izquierda ( también en la región frontal izquierda y oc ##cip ##ital derecha ) , con restricción a la difusión , confirman ##do PRES como primera posibilidad diagn ##óst ##ica . El examen de fondo de ojo resultó normal , lo que orient ##ó con más fuerza la ce ##guera cor ##tica ##l bilateral como causa del déficit visual . [SEP] [PAD] [PAD] [PAD] \n",
      "\n",
      "[CLS] El EE ##G no mostró actividad epi ##le ##pti ##forme . Dada la estabilidad clínica , con control de la tensión arterial tras el empleo de fármacos anti ##hip ##erten ##sivos intraven ##osos mantenido tras rotación de la medicación a vía oral , resolución de la clínica neuro ##lógica ( RM cerebral de control varias semanas después , sin hallazgos relevantes ) y normalización de parámetros de función renal , se decide alta hospital ##aria con optimi ##zación de tratamiento , sin precisar medicación anti ##ep ##il ##ép ##tica de mantenimiento . [SEP] [PAD] [PAD] [PAD] [PAD] [PAD] [PAD] [PAD] [PAD] [PAD] [PAD] [PAD] [PAD] [PAD] [PAD] [PAD] [PAD] [PAD] [PAD] [PAD] [PAD] [PAD] [PAD] [PAD] [PAD] [PAD] [PAD] [PAD] [PAD] [PAD] [PAD] [PAD] [PAD] [PAD] [PAD] \n",
      "\n"
     ]
    }
   ],
   "source": [
    "check_id_frag = sum(train_frag[:check_id])\n",
    "for frag in train_ind[check_id_frag:check_id_frag + train_frag[check_id]]:\n",
    "    print(' '.join([tokenizer._convert_id_to_token(int(ind)) for ind in frag]), \"\\n\")"
   ]
  },
  {
   "cell_type": "markdown",
   "metadata": {},
   "source": [
    "### Development corpus\n",
    "\n",
    "Only development texts with NER annotations are considered:"
   ]
  },
  {
   "cell_type": "code",
   "execution_count": 59,
   "metadata": {},
   "outputs": [
    {
     "data": {
      "text/plain": [
       "0"
      ]
     },
     "execution_count": 59,
     "metadata": {},
     "output_type": "execute_result"
    }
   ],
   "source": [
    "# All development documents (texts) are annotated \n",
    "len(set(df_text_dev[\"doc_id\"]) - set(df_codes_dev_ner_final[\"doc_id\"]))"
   ]
  },
  {
   "cell_type": "code",
   "execution_count": 60,
   "metadata": {},
   "outputs": [],
   "source": [
    "dev_doc_list = sorted(set(df_codes_dev_ner_final[\"doc_id\"]))"
   ]
  },
  {
   "cell_type": "code",
   "execution_count": 61,
   "metadata": {},
   "outputs": [
    {
     "data": {
      "text/plain": [
       "250"
      ]
     },
     "execution_count": 61,
     "metadata": {},
     "output_type": "execute_result"
    }
   ],
   "source": [
    "len(dev_doc_list)"
   ]
  },
  {
   "cell_type": "code",
   "execution_count": 62,
   "metadata": {},
   "outputs": [],
   "source": [
    "# Sentence-Split data"
   ]
  },
  {
   "cell_type": "code",
   "execution_count": 63,
   "metadata": {},
   "outputs": [
    {
     "name": "stdout",
     "output_type": "stream",
     "text": [
      "CPU times: user 11.8 ms, sys: 0 ns, total: 11.8 ms\n",
      "Wall time: 11.6 ms\n"
     ]
    }
   ],
   "source": [
    "%%time\n",
    "ss_sub_corpus_path = ss_corpus_path + \"development/\"\n",
    "ss_files = [f for f in os.listdir(ss_sub_corpus_path) if os.path.isfile(ss_sub_corpus_path + f)]\n",
    "ss_dict_dev = load_ss_files(ss_files, ss_sub_corpus_path)"
   ]
  },
  {
   "cell_type": "code",
   "execution_count": 64,
   "metadata": {
    "scrolled": true
   },
   "outputs": [
    {
     "name": "stderr",
     "output_type": "stream",
     "text": [
      " 84%|████████▍ | 210/250 [00:16<00:02, 17.75it/s]"
     ]
    },
    {
     "name": "stdout",
     "output_type": "stream",
     "text": [
      "I\n",
      "doc_id      cc_onco1427\n",
      "text_ref        pT3N2Mx\n",
      "start              1928\n",
      "end                1935\n",
      "Name: 803, dtype: object\n",
      "11\n",
      "11\n",
      "[[1849 1858]\n",
      " [1859 1867]\n",
      " [1868 1872]\n",
      " [1873 1887]\n",
      " [1888 1898]\n",
      " [1899 1900]\n",
      " [1900 1905]\n",
      " [1906 1916]\n",
      " [1917 1918]\n",
      " [1919 1924]\n",
      " [1924 1925]\n",
      " [1926 1935]\n",
      " [1935 1936]\n",
      " [1937 1939]\n",
      " [1940 1948]\n",
      " [1949 1952]\n",
      " [1953 1961]\n",
      " [1962 1963]\n",
      " [1964 1971]\n",
      " [1972 1980]\n",
      " [1981 1985]\n",
      " [1986 1996]\n",
      " [1996 1997]]\n"
     ]
    },
    {
     "name": "stderr",
     "output_type": "stream",
     "text": [
      "100%|██████████| 250/250 [00:19<00:00, 12.71it/s]"
     ]
    },
    {
     "name": "stdout",
     "output_type": "stream",
     "text": [
      "CPU times: user 19.8 s, sys: 12 ms, total: 19.8 s\n",
      "Wall time: 19.7 s\n"
     ]
    },
    {
     "name": "stderr",
     "output_type": "stream",
     "text": [
      "\n"
     ]
    }
   ],
   "source": [
    "%%time\n",
    "dev_ind, dev_att, dev_type, dev_y, dev_frag, dev_start_end_frag, dev_word_id = ss_create_input_data_ner(df_text=df_text_dev, \n",
    "                                                  text_col=text_col, \n",
    "                                                  df_ann=df_codes_dev_ner_final, doc_list=dev_doc_list, ss_dict=ss_dict_dev,\n",
    "                                                  tokenizer=tokenizer, lab_encoder=lab_encoder, seq_len=SEQ_LEN, \n",
    "                                                  ign_value=IGNORE_VALUE, strategy=ANN_STRATEGY, greedy=GREEDY)"
   ]
  },
  {
   "cell_type": "code",
   "execution_count": 65,
   "metadata": {},
   "outputs": [],
   "source": [
    "# Sanity check"
   ]
  },
  {
   "cell_type": "code",
   "execution_count": 66,
   "metadata": {},
   "outputs": [
    {
     "data": {
      "text/plain": [
       "(2541, 128)"
      ]
     },
     "execution_count": 66,
     "metadata": {},
     "output_type": "execute_result"
    }
   ],
   "source": [
    "dev_ind.shape"
   ]
  },
  {
   "cell_type": "code",
   "execution_count": 67,
   "metadata": {},
   "outputs": [
    {
     "data": {
      "text/plain": [
       "(2541, 128)"
      ]
     },
     "execution_count": 67,
     "metadata": {},
     "output_type": "execute_result"
    }
   ],
   "source": [
    "dev_att.shape"
   ]
  },
  {
   "cell_type": "code",
   "execution_count": 68,
   "metadata": {},
   "outputs": [
    {
     "data": {
      "text/plain": [
       "(2541, 128)"
      ]
     },
     "execution_count": 68,
     "metadata": {},
     "output_type": "execute_result"
    }
   ],
   "source": [
    "dev_type.shape"
   ]
  },
  {
   "cell_type": "code",
   "execution_count": 69,
   "metadata": {
    "scrolled": true
   },
   "outputs": [
    {
     "data": {
      "text/plain": [
       "(2541, 128)"
      ]
     },
     "execution_count": 69,
     "metadata": {},
     "output_type": "execute_result"
    }
   ],
   "source": [
    "dev_y.shape"
   ]
  },
  {
   "cell_type": "code",
   "execution_count": 70,
   "metadata": {},
   "outputs": [
    {
     "data": {
      "text/plain": [
       "250"
      ]
     },
     "execution_count": 70,
     "metadata": {},
     "output_type": "execute_result"
    }
   ],
   "source": [
    "len(dev_frag)"
   ]
  },
  {
   "cell_type": "code",
   "execution_count": 71,
   "metadata": {},
   "outputs": [
    {
     "data": {
      "text/plain": [
       "2541"
      ]
     },
     "execution_count": 71,
     "metadata": {},
     "output_type": "execute_result"
    }
   ],
   "source": [
    "len(dev_start_end_frag)"
   ]
  },
  {
   "cell_type": "code",
   "execution_count": 72,
   "metadata": {},
   "outputs": [
    {
     "data": {
      "text/plain": [
       "2541"
      ]
     },
     "execution_count": 72,
     "metadata": {},
     "output_type": "execute_result"
    }
   ],
   "source": [
    "len(dev_word_id)"
   ]
  },
  {
   "cell_type": "code",
   "execution_count": 73,
   "metadata": {},
   "outputs": [
    {
     "data": {
      "text/plain": [
       "count    250.000000\n",
       "mean      10.164000\n",
       "std        4.404395\n",
       "min        3.000000\n",
       "25%        7.000000\n",
       "50%        9.000000\n",
       "75%       13.000000\n",
       "max       32.000000\n",
       "dtype: float64"
      ]
     },
     "execution_count": 73,
     "metadata": {},
     "output_type": "execute_result"
    }
   ],
   "source": [
    "# Check n_frag distribution across texts\n",
    "pd.Series(dev_frag).describe()"
   ]
  },
  {
   "cell_type": "code",
   "execution_count": 74,
   "metadata": {},
   "outputs": [],
   "source": [
    "# Inspect a randomly selected text and its encoded version\n",
    "check_id = np.random.randint(low=0, high=len(dev_doc_list), size=1)[0]"
   ]
  },
  {
   "cell_type": "code",
   "execution_count": 75,
   "metadata": {},
   "outputs": [
    {
     "data": {
      "text/plain": [
       "188"
      ]
     },
     "execution_count": 75,
     "metadata": {},
     "output_type": "execute_result"
    }
   ],
   "source": [
    "check_id"
   ]
  },
  {
   "cell_type": "code",
   "execution_count": 76,
   "metadata": {},
   "outputs": [
    {
     "data": {
      "text/plain": [
       "'cc_onco1382'"
      ]
     },
     "execution_count": 76,
     "metadata": {},
     "output_type": "execute_result"
    }
   ],
   "source": [
    "dev_doc_list[check_id]"
   ]
  },
  {
   "cell_type": "code",
   "execution_count": 77,
   "metadata": {
    "scrolled": true
   },
   "outputs": [
    {
     "data": {
      "text/plain": [
       "'Anamnesis\\nMujer de 55 años, postmenopáusica sin antecedentes médico-quirúrgicos de interés. Consulta en junio de 2008 por notar retracción del pezón de la mama derecha, sin otra clínica asociada. Mamografía previa 12 meses antes sin alteraciones relevantes.\\n\\nExamen físico\\nDestaca asimetría mamaria con marcada retracción del pezón de la mama derecha. Mama izquierda sin alteraciones.\\nNo presenta adenopatías locorregionales palpables. El resto de la exploración es anodina.\\n\\nPruebas complementarias\\nMamografía: área de 4 cm de aumento de densidad, desestructurada con microcalcificaciones dismórficas por detrás del pezón derecho.\\nBiopsia con aguja gruesa (BAG): compatible con carcinoma ductal infiltrante de mama grado II.\\nRadiografía de tórax: normal.\\nMarcadores tumorales: CEA y CA 15.3 normales.\\n\\nDiagnóstico\\nAdenocarcinoma ductal infiltrante de mama por estudio preliminar con biopsia.\\n\\nTratamiento\\nEs intervenida en agosto de 2008, realizándose biopsia selectiva del ganglio centinela (GC) (positiva en 2 ganglios para metástasis) y mastectomía radical modificada con linfadenectomía axilar.\\nLa anatomía patológica definitiva es concordante con carcinoma endocrino de célula pequeña de mama de 4 cm.\\nMicrometástasis en un ganglio linfático de los diez aislados. El estudio inmunohistoquímico muestra expresión de marcadores neuroendocrinos en más del 50 % de las células tumorales (cromogranina, y fundamentalmente sinaptofisina). Receptores de estrógenos +++ y de progesterona -. erb-B2 -. Citoqueratina 5 -.\\nSe descartan lesiones a otros niveles con el estudio de extensión con tomografía computarizada (TC).\\nRecibe 4 ciclos de tratamiento quimioterápico adyuvante con cisplatino y etopósido, radioterapia en pared torácica derecha y hormonoterapia con letrozol.\\n\\nEvolución\\nInicia revisiones regulares. En octubre de 2011, consulta por dolor dorso-lumbar progresivo con incapacidad para la deambulación. La resonancia magnética describe compresión medular a nivel de D12, por lo que se inicia tratamiento con dexametasona y radioterapia local. La TC objetiva progresión hepática, ganglionar y ósea.\\nCon un intervalo libre de progresión de 38 meses, reinicia en noviembre de 2011 tratamiento con carboplatino, etopósido y ácido zoledrónico. Se objetiva enfermedad estable tras 3 ciclos y progresión tras 6, por lo que inicia segunda línea con topotecán,con regular tolerancia. El control radiológico tras 3 ciclos evidencia progresión de las lesiones, y el analítico objetiva elevación de marcadores de daño hepático. Con deterioro progresivo del estado en probable relación con insuficiencia hepática, finalmente fallece en julio de 2012.'"
      ]
     },
     "execution_count": 77,
     "metadata": {},
     "output_type": "execute_result"
    }
   ],
   "source": [
    "df_text_dev[df_text_dev[\"doc_id\"] == dev_doc_list[check_id]][text_col].values[0]"
   ]
  },
  {
   "cell_type": "code",
   "execution_count": 78,
   "metadata": {},
   "outputs": [
    {
     "data": {
      "text/html": [
       "<div>\n",
       "<style scoped>\n",
       "    .dataframe tbody tr th:only-of-type {\n",
       "        vertical-align: middle;\n",
       "    }\n",
       "\n",
       "    .dataframe tbody tr th {\n",
       "        vertical-align: top;\n",
       "    }\n",
       "\n",
       "    .dataframe thead th {\n",
       "        text-align: right;\n",
       "    }\n",
       "</style>\n",
       "<table border=\"1\" class=\"dataframe\">\n",
       "  <thead>\n",
       "    <tr style=\"text-align: right;\">\n",
       "      <th></th>\n",
       "      <th>doc_id</th>\n",
       "      <th>text_ref</th>\n",
       "      <th>start</th>\n",
       "      <th>end</th>\n",
       "    </tr>\n",
       "  </thead>\n",
       "  <tbody>\n",
       "    <tr>\n",
       "      <th>1240</th>\n",
       "      <td>cc_onco1382</td>\n",
       "      <td>carcinoma ductal infiltrante de mama grado II</td>\n",
       "      <td>679</td>\n",
       "      <td>724</td>\n",
       "    </tr>\n",
       "    <tr>\n",
       "      <th>1241</th>\n",
       "      <td>cc_onco1382</td>\n",
       "      <td>Adenocarcinoma ductal infiltrante</td>\n",
       "      <td>815</td>\n",
       "      <td>848</td>\n",
       "    </tr>\n",
       "    <tr>\n",
       "      <th>1238</th>\n",
       "      <td>cc_onco1382</td>\n",
       "      <td>metástasis</td>\n",
       "      <td>1027</td>\n",
       "      <td>1037</td>\n",
       "    </tr>\n",
       "    <tr>\n",
       "      <th>1242</th>\n",
       "      <td>cc_onco1382</td>\n",
       "      <td>carcinoma endocrino de célula pequeña</td>\n",
       "      <td>1153</td>\n",
       "      <td>1190</td>\n",
       "    </tr>\n",
       "    <tr>\n",
       "      <th>1236</th>\n",
       "      <td>cc_onco1382</td>\n",
       "      <td>Micrometástasis</td>\n",
       "      <td>1208</td>\n",
       "      <td>1223</td>\n",
       "    </tr>\n",
       "    <tr>\n",
       "      <th>1237</th>\n",
       "      <td>cc_onco1382</td>\n",
       "      <td>células tumorales</td>\n",
       "      <td>1371</td>\n",
       "      <td>1388</td>\n",
       "    </tr>\n",
       "    <tr>\n",
       "      <th>1239</th>\n",
       "      <td>cc_onco1382</td>\n",
       "      <td>progresión hepática</td>\n",
       "      <td>2069</td>\n",
       "      <td>2088</td>\n",
       "    </tr>\n",
       "  </tbody>\n",
       "</table>\n",
       "</div>"
      ],
      "text/plain": [
       "           doc_id                                       text_ref  start   end\n",
       "1240  cc_onco1382  carcinoma ductal infiltrante de mama grado II    679   724\n",
       "1241  cc_onco1382              Adenocarcinoma ductal infiltrante    815   848\n",
       "1238  cc_onco1382                                     metástasis   1027  1037\n",
       "1242  cc_onco1382          carcinoma endocrino de célula pequeña   1153  1190\n",
       "1236  cc_onco1382                                Micrometástasis   1208  1223\n",
       "1237  cc_onco1382                              células tumorales   1371  1388\n",
       "1239  cc_onco1382                            progresión hepática   2069  2088"
      ]
     },
     "execution_count": 78,
     "metadata": {},
     "output_type": "execute_result"
    }
   ],
   "source": [
    "df_codes_dev_ner_final[df_codes_dev_ner_final[\"doc_id\"] == dev_doc_list[check_id]]"
   ]
  },
  {
   "cell_type": "code",
   "execution_count": 79,
   "metadata": {},
   "outputs": [],
   "source": [
    "check_id_frag = sum(dev_frag[:check_id])"
   ]
  },
  {
   "cell_type": "code",
   "execution_count": 80,
   "metadata": {},
   "outputs": [
    {
     "name": "stdout",
     "output_type": "stream",
     "text": [
      "[('Ana', (0, 9), 0, 'O'), ('##mne', (0, 9), 0, 'O'), ('##sis', (0, 9), 0, 'O'), ('Mujer', (10, 15), 1, 'O'), ('de', (16, 18), 2, 'O'), ('55', (19, 21), 3, 'O'), ('años', (22, 26), 4, 'O'), (',', (26, 27), 5, 'O'), ('post', (28, 43), 6, 'O'), ('##men', (28, 43), 6, 'O'), ('##op', (28, 43), 6, 'O'), ('##áus', (28, 43), 6, 'O'), ('##ica', (28, 43), 6, 'O'), ('sin', (44, 47), 7, 'O'), ('antecedentes', (48, 60), 8, 'O'), ('médico', (61, 67), 9, 'O'), ('-', (67, 68), 10, 'O'), ('quirúr', (68, 79), 11, 'O'), ('##gicos', (68, 79), 11, 'O'), ('de', (80, 82), 12, 'O'), ('interés', (83, 90), 13, 'O'), ('.', (90, 91), 14, 'O'), ('Consul', (92, 100), 15, 'O'), ('##ta', (92, 100), 15, 'O'), ('en', (101, 103), 16, 'O'), ('junio', (104, 109), 17, 'O'), ('de', (110, 112), 18, 'O'), ('2008', (113, 117), 19, 'O'), ('por', (118, 121), 20, 'O'), ('notar', (122, 127), 21, 'O'), ('retra', (128, 138), 22, 'O'), ('##cción', (128, 138), 22, 'O'), ('del', (139, 142), 23, 'O'), ('pez', (143, 148), 24, 'O'), ('##ón', (143, 148), 24, 'O'), ('de', (149, 151), 25, 'O'), ('la', (152, 154), 26, 'O'), ('mama', (155, 159), 27, 'O'), ('derecha', (160, 167), 28, 'O'), (',', (167, 168), 29, 'O'), ('sin', (169, 172), 30, 'O'), ('otra', (173, 177), 31, 'O'), ('clínica', (178, 185), 32, 'O'), ('asociada', (186, 194), 33, 'O'), ('.', (194, 195), 34, 'O'), ('Mam', (196, 206), 35, 'O'), ('##o', (196, 206), 35, 'O'), ('##grafía', (196, 206), 35, 'O'), ('previa', (207, 213), 36, 'O'), ('12', (214, 216), 37, 'O'), ('meses', (217, 222), 38, 'O'), ('antes', (223, 228), 39, 'O'), ('sin', (229, 232), 40, 'O'), ('alteraciones', (233, 245), 41, 'O'), ('relevantes', (246, 256), 42, 'O'), ('.', (256, 257), 43, 'O'), ('Examen', (259, 265), 44, 'O'), ('físico', (266, 272), 45, 'O'), ('Destaca', (273, 280), 46, 'O'), ('asim', (281, 290), 47, 'O'), ('##et', (281, 290), 47, 'O'), ('##ría', (281, 290), 47, 'O'), ('mama', (291, 298), 48, 'O'), ('##ria', (291, 298), 48, 'O'), ('con', (299, 302), 49, 'O'), ('marcada', (303, 310), 50, 'O'), ('retra', (311, 321), 51, 'O'), ('##cción', (311, 321), 51, 'O'), ('del', (322, 325), 52, 'O'), ('pez', (326, 331), 53, 'O'), ('##ón', (326, 331), 53, 'O'), ('de', (332, 334), 54, 'O'), ('la', (335, 337), 55, 'O'), ('mama', (338, 342), 56, 'O'), ('derecha', (343, 350), 57, 'O'), ('.', (350, 351), 58, 'O'), ('Mama', (352, 356), 59, 'O'), ('izquierda', (357, 366), 60, 'O'), ('sin', (367, 370), 61, 'O'), ('alteraciones', (371, 383), 62, 'O'), ('.', (383, 384), 63, 'O'), ('No', (385, 387), 64, 'O'), ('presenta', (388, 396), 65, 'O'), ('aden', (397, 408), 66, 'O'), ('##op', (397, 408), 66, 'O'), ('##atía', (397, 408), 66, 'O'), ('##s', (397, 408), 66, 'O'), ('loco', (409, 424), 67, 'O'), ('##r', (409, 424), 67, 'O'), ('##re', (409, 424), 67, 'O'), ('##gional', (409, 424), 67, 'O'), ('##es', (409, 424), 67, 'O'), ('pal', (425, 434), 68, 'O'), ('##pa', (425, 434), 68, 'O'), ('##bles', (425, 434), 68, 'O'), ('.', (434, 435), 69, 'O'), ('El', (436, 438), 70, 'O'), ('resto', (439, 444), 71, 'O'), ('de', (445, 447), 72, 'O'), ('la', (448, 450), 73, 'O'), ('exploración', (451, 462), 74, 'O'), ('es', (463, 465), 75, 'O'), ('ano', (466, 473), 76, 'O'), ('##dina', (466, 473), 76, 'O'), ('.', (473, 474), 77, 'O')]\n",
      "\n",
      "\n",
      "[('Prueba', (476, 483), 78, 'O'), ('##s', (476, 483), 78, 'O'), ('complementarias', (484, 499), 79, 'O'), ('Mam', (500, 510), 80, 'O'), ('##o', (500, 510), 80, 'O'), ('##grafía', (500, 510), 80, 'O'), (':', (510, 511), 81, 'O'), ('área', (512, 516), 82, 'O'), ('de', (517, 519), 83, 'O'), ('4', (520, 521), 84, 'O'), ('cm', (522, 524), 85, 'O'), ('de', (525, 527), 86, 'O'), ('aumento', (528, 535), 87, 'O'), ('de', (536, 538), 88, 'O'), ('densidad', (539, 547), 89, 'O'), (',', (547, 548), 90, 'O'), ('desest', (549, 564), 91, 'O'), ('##ruc', (549, 564), 91, 'O'), ('##tura', (549, 564), 91, 'O'), ('##da', (549, 564), 91, 'O'), ('con', (565, 568), 92, 'O'), ('micro', (569, 589), 93, 'O'), ('##cal', (569, 589), 93, 'O'), ('##ci', (569, 589), 93, 'O'), ('##ficaciones', (569, 589), 93, 'O'), ('dis', (590, 601), 94, 'O'), ('##mó', (590, 601), 94, 'O'), ('##r', (590, 601), 94, 'O'), ('##ficas', (590, 601), 94, 'O'), ('por', (602, 605), 95, 'O'), ('detrás', (606, 612), 96, 'O'), ('del', (613, 616), 97, 'O'), ('pez', (617, 622), 98, 'O'), ('##ón', (617, 622), 98, 'O'), ('derecho', (623, 630), 99, 'O'), ('.', (630, 631), 100, 'O'), ('Bio', (632, 639), 101, 'O'), ('##psia', (632, 639), 101, 'O'), ('con', (640, 643), 102, 'O'), ('aguja', (644, 649), 103, 'O'), ('grues', (650, 656), 104, 'O'), ('##a', (650, 656), 104, 'O'), ('(', (657, 658), 105, 'O'), ('BA', (658, 661), 106, 'O'), ('##G', (658, 661), 106, 'O'), (')', (661, 662), 107, 'O'), (':', (662, 663), 108, 'O'), ('compatible', (664, 674), 109, 'O'), ('con', (675, 678), 110, 'O'), ('car', (679, 688), 111, 'B'), ('##cino', (679, 688), 111, 'B'), ('##ma', (679, 688), 111, 'B'), ('du', (689, 695), 112, 'I'), ('##cta', (689, 695), 112, 'I'), ('##l', (689, 695), 112, 'I'), ('infil', (696, 707), 113, 'I'), ('##tran', (696, 707), 113, 'I'), ('##te', (696, 707), 113, 'I'), ('de', (708, 710), 114, 'I'), ('mama', (711, 715), 115, 'I'), ('grado', (716, 721), 116, 'I'), ('II', (722, 724), 117, 'I'), ('.', (724, 725), 118, 'O'), ('Radio', (726, 737), 119, 'O'), ('##grafía', (726, 737), 119, 'O'), ('de', (738, 740), 120, 'O'), ('tó', (741, 746), 121, 'O'), ('##ra', (741, 746), 121, 'O'), ('##x', (741, 746), 121, 'O'), (':', (746, 747), 122, 'O'), ('normal', (748, 754), 123, 'O'), ('.', (754, 755), 124, 'O'), ('Marca', (756, 766), 125, 'O'), ('##dores', (756, 766), 125, 'O'), ('tumor', (767, 776), 126, 'O'), ('##ales', (767, 776), 126, 'O'), (':', (776, 777), 127, 'O'), ('CE', (778, 781), 128, 'O'), ('##A', (778, 781), 128, 'O'), ('y', (782, 783), 129, 'O'), ('CA', (784, 786), 130, 'O'), ('15', (787, 789), 131, 'O'), ('.', (789, 790), 132, 'O'), ('3', (790, 791), 133, 'O'), ('normales', (792, 800), 134, 'O'), ('.', (800, 801), 135, 'O'), ('Dia', (803, 814), 136, 'O'), ('##gn', (803, 814), 136, 'O'), ('##óstico', (803, 814), 136, 'O'), ('Aden', (815, 829), 137, 'B'), ('##oc', (815, 829), 137, 'B'), ('##ar', (815, 829), 137, 'B'), ('##cino', (815, 829), 137, 'B'), ('##ma', (815, 829), 137, 'B'), ('du', (830, 836), 138, 'I'), ('##cta', (830, 836), 138, 'I'), ('##l', (830, 836), 138, 'I'), ('infil', (837, 848), 139, 'I'), ('##tran', (837, 848), 139, 'I'), ('##te', (837, 848), 139, 'I'), ('de', (849, 851), 140, 'O'), ('mama', (852, 856), 141, 'O'), ('por', (857, 860), 142, 'O'), ('estudio', (861, 868), 143, 'O'), ('preliminar', (869, 879), 144, 'O'), ('con', (880, 883), 145, 'O'), ('bio', (884, 891), 146, 'O'), ('##psia', (884, 891), 146, 'O'), ('.', (891, 892), 147, 'O')]\n",
      "\n",
      "\n",
      "[('Tratamiento', (894, 905), 148, 'O'), ('Es', (906, 908), 149, 'O'), ('interven', (909, 920), 150, 'O'), ('##ida', (909, 920), 150, 'O'), ('en', (921, 923), 151, 'O'), ('agosto', (924, 930), 152, 'O'), ('de', (931, 933), 153, 'O'), ('2008', (934, 938), 154, 'O'), (',', (938, 939), 155, 'O'), ('realiz', (940, 952), 156, 'O'), ('##ándose', (940, 952), 156, 'O'), ('bio', (953, 960), 157, 'O'), ('##psia', (953, 960), 157, 'O'), ('selectiva', (961, 970), 158, 'O'), ('del', (971, 974), 159, 'O'), ('gan', (975, 982), 160, 'O'), ('##gli', (975, 982), 160, 'O'), ('##o', (975, 982), 160, 'O'), ('cent', (983, 992), 161, 'O'), ('##ine', (983, 992), 161, 'O'), ('##la', (983, 992), 161, 'O'), ('(', (993, 994), 162, 'O'), ('GC', (994, 996), 163, 'O'), (')', (996, 997), 164, 'O'), ('(', (998, 999), 165, 'O'), ('positiva', (999, 1007), 166, 'O'), ('en', (1008, 1010), 167, 'O'), ('2', (1011, 1012), 168, 'O'), ('gan', (1013, 1021), 169, 'O'), ('##gli', (1013, 1021), 169, 'O'), ('##os', (1013, 1021), 169, 'O'), ('para', (1022, 1026), 170, 'O'), ('metá', (1027, 1037), 171, 'B'), ('##stas', (1027, 1037), 171, 'B'), ('##is', (1027, 1037), 171, 'B'), (')', (1037, 1038), 172, 'O'), ('y', (1039, 1040), 173, 'O'), ('mas', (1041, 1052), 174, 'O'), ('##tecto', (1041, 1052), 174, 'O'), ('##mí', (1041, 1052), 174, 'O'), ('##a', (1041, 1052), 174, 'O'), ('radical', (1053, 1060), 175, 'O'), ('modificada', (1061, 1071), 176, 'O'), ('con', (1072, 1075), 177, 'O'), ('linf', (1076, 1091), 178, 'O'), ('##aden', (1076, 1091), 178, 'O'), ('##ec', (1076, 1091), 178, 'O'), ('##tomía', (1076, 1091), 178, 'O'), ('a', (1092, 1098), 179, 'O'), ('##xi', (1092, 1098), 179, 'O'), ('##lar', (1092, 1098), 179, 'O'), ('.', (1098, 1099), 180, 'O'), ('La', (1100, 1102), 181, 'O'), ('anat', (1103, 1111), 182, 'O'), ('##omía', (1103, 1111), 182, 'O'), ('pato', (1112, 1122), 183, 'O'), ('##lógica', (1112, 1122), 183, 'O'), ('definitiva', (1123, 1133), 184, 'O'), ('es', (1134, 1136), 185, 'O'), ('concord', (1137, 1148), 186, 'O'), ('##ante', (1137, 1148), 186, 'O'), ('con', (1149, 1152), 187, 'O'), ('car', (1153, 1162), 188, 'B'), ('##cino', (1153, 1162), 188, 'B'), ('##ma', (1153, 1162), 188, 'B'), ('endo', (1163, 1172), 189, 'I'), ('##cri', (1163, 1172), 189, 'I'), ('##no', (1163, 1172), 189, 'I'), ('de', (1173, 1175), 190, 'I'), ('célula', (1176, 1182), 191, 'I'), ('pequeña', (1183, 1190), 192, 'I'), ('de', (1191, 1193), 193, 'O'), ('mama', (1194, 1198), 194, 'O'), ('de', (1199, 1201), 195, 'O'), ('4', (1202, 1203), 196, 'O'), ('cm', (1204, 1206), 197, 'O'), ('.', (1206, 1207), 198, 'O'), ('Micro', (1208, 1223), 199, 'B'), ('##met', (1208, 1223), 199, 'B'), ('##ást', (1208, 1223), 199, 'B'), ('##asis', (1208, 1223), 199, 'B'), ('en', (1224, 1226), 200, 'O'), ('un', (1227, 1229), 201, 'O'), ('gan', (1230, 1237), 202, 'O'), ('##gli', (1230, 1237), 202, 'O'), ('##o', (1230, 1237), 202, 'O'), ('linf', (1238, 1247), 203, 'O'), ('##ático', (1238, 1247), 203, 'O'), ('de', (1248, 1250), 204, 'O'), ('los', (1251, 1254), 205, 'O'), ('diez', (1255, 1259), 206, 'O'), ('aislados', (1260, 1268), 207, 'O'), ('.', (1268, 1269), 208, 'O')]\n",
      "\n",
      "\n",
      "[('El', (1270, 1272), 209, 'O'), ('estudio', (1273, 1280), 210, 'O'), ('inmun', (1281, 1299), 211, 'O'), ('##oh', (1281, 1299), 211, 'O'), ('##isto', (1281, 1299), 211, 'O'), ('##quí', (1281, 1299), 211, 'O'), ('##mico', (1281, 1299), 211, 'O'), ('muestra', (1300, 1307), 212, 'O'), ('expresión', (1308, 1317), 213, 'O'), ('de', (1318, 1320), 214, 'O'), ('marcador', (1321, 1331), 215, 'O'), ('##es', (1321, 1331), 215, 'O'), ('neuro', (1332, 1347), 216, 'O'), ('##endo', (1332, 1347), 216, 'O'), ('##cri', (1332, 1347), 216, 'O'), ('##nos', (1332, 1347), 216, 'O'), ('en', (1348, 1350), 217, 'O'), ('más', (1351, 1354), 218, 'O'), ('del', (1355, 1358), 219, 'O'), ('50', (1359, 1361), 220, 'O'), ('[UNK]', (1362, 1363), 221, 'O'), ('de', (1364, 1366), 222, 'O'), ('las', (1367, 1370), 223, 'O'), ('células', (1371, 1378), 224, 'B'), ('tumor', (1379, 1388), 225, 'I'), ('##ales', (1379, 1388), 225, 'I'), ('(', (1389, 1390), 226, 'O'), ('cro', (1390, 1402), 227, 'O'), ('##mo', (1390, 1402), 227, 'O'), ('##gran', (1390, 1402), 227, 'O'), ('##ina', (1390, 1402), 227, 'O'), (',', (1402, 1403), 228, 'O'), ('y', (1404, 1405), 229, 'O'), ('fundamental', (1406, 1422), 230, 'O'), ('##mente', (1406, 1422), 230, 'O'), ('sin', (1423, 1436), 231, 'O'), ('##ap', (1423, 1436), 231, 'O'), ('##to', (1423, 1436), 231, 'O'), ('##fi', (1423, 1436), 231, 'O'), ('##sin', (1423, 1436), 231, 'O'), ('##a', (1423, 1436), 231, 'O'), (')', (1436, 1437), 232, 'O'), ('.', (1437, 1438), 233, 'O'), ('Rece', (1439, 1449), 234, 'O'), ('##pto', (1439, 1449), 234, 'O'), ('##res', (1439, 1449), 234, 'O'), ('de', (1450, 1452), 235, 'O'), ('est', (1453, 1463), 236, 'O'), ('##ró', (1453, 1463), 236, 'O'), ('##genos', (1453, 1463), 236, 'O'), ('[UNK]', (1464, 1465), 237, 'O'), ('[UNK]', (1465, 1466), 238, 'O'), ('[UNK]', (1466, 1467), 239, 'O'), ('y', (1468, 1469), 240, 'O'), ('de', (1470, 1472), 241, 'O'), ('pro', (1473, 1485), 242, 'O'), ('##ges', (1473, 1485), 242, 'O'), ('##terona', (1473, 1485), 242, 'O'), ('-', (1486, 1487), 243, 'O'), ('.', (1487, 1488), 244, 'O'), ('er', (1489, 1492), 245, 'O'), ('##b', (1489, 1492), 245, 'O'), ('-', (1492, 1493), 246, 'O'), ('B', (1493, 1495), 247, 'O'), ('##2', (1493, 1495), 247, 'O'), ('-', (1496, 1497), 248, 'O'), ('.', (1497, 1498), 249, 'O'), ('Ci', (1499, 1512), 250, 'O'), ('##to', (1499, 1512), 250, 'O'), ('##quera', (1499, 1512), 250, 'O'), ('##tina', (1499, 1512), 250, 'O'), ('5', (1513, 1514), 251, 'O'), ('-', (1515, 1516), 252, 'O'), ('.', (1516, 1517), 253, 'O'), ('Se', (1518, 1520), 254, 'O'), ('descar', (1521, 1530), 255, 'O'), ('##tan', (1521, 1530), 255, 'O'), ('lesiones', (1531, 1539), 256, 'O'), ('a', (1540, 1541), 257, 'O'), ('otros', (1542, 1547), 258, 'O'), ('niveles', (1548, 1555), 259, 'O'), ('con', (1556, 1559), 260, 'O'), ('el', (1560, 1562), 261, 'O'), ('estudio', (1563, 1570), 262, 'O'), ('de', (1571, 1573), 263, 'O'), ('extensión', (1574, 1583), 264, 'O'), ('con', (1584, 1587), 265, 'O'), ('tomo', (1588, 1598), 266, 'O'), ('##grafía', (1588, 1598), 266, 'O'), ('comput', (1599, 1612), 267, 'O'), ('##ariz', (1599, 1612), 267, 'O'), ('##ada', (1599, 1612), 267, 'O'), ('(', (1613, 1614), 268, 'O'), ('TC', (1614, 1616), 269, 'O'), (')', (1616, 1617), 270, 'O'), ('.', (1617, 1618), 271, 'O')]\n",
      "\n",
      "\n",
      "[('Reci', (1619, 1625), 272, 'O'), ('##be', (1619, 1625), 272, 'O'), ('4', (1626, 1627), 273, 'O'), ('ciclos', (1628, 1634), 274, 'O'), ('de', (1635, 1637), 275, 'O'), ('tratamiento', (1638, 1649), 276, 'O'), ('quimio', (1650, 1664), 277, 'O'), ('##ter', (1650, 1664), 277, 'O'), ('##ápi', (1650, 1664), 277, 'O'), ('##co', (1650, 1664), 277, 'O'), ('ad', (1665, 1674), 278, 'O'), ('##yu', (1665, 1674), 278, 'O'), ('##van', (1665, 1674), 278, 'O'), ('##te', (1665, 1674), 278, 'O'), ('con', (1675, 1678), 279, 'O'), ('cis', (1679, 1689), 280, 'O'), ('##pla', (1679, 1689), 280, 'O'), ('##tino', (1679, 1689), 280, 'O'), ('y', (1690, 1691), 281, 'O'), ('et', (1692, 1701), 282, 'O'), ('##op', (1692, 1701), 282, 'O'), ('##ósi', (1692, 1701), 282, 'O'), ('##do', (1692, 1701), 282, 'O'), (',', (1701, 1702), 283, 'O'), ('radio', (1703, 1715), 284, 'O'), ('##terapia', (1703, 1715), 284, 'O'), ('en', (1716, 1718), 285, 'O'), ('pared', (1719, 1724), 286, 'O'), ('tor', (1725, 1733), 287, 'O'), ('##ác', (1725, 1733), 287, 'O'), ('##ica', (1725, 1733), 287, 'O'), ('derecha', (1734, 1741), 288, 'O'), ('y', (1742, 1743), 289, 'O'), ('horm', (1744, 1758), 290, 'O'), ('##ono', (1744, 1758), 290, 'O'), ('##terapia', (1744, 1758), 290, 'O'), ('con', (1759, 1762), 291, 'O'), ('letr', (1763, 1771), 292, 'O'), ('##oz', (1763, 1771), 292, 'O'), ('##ol', (1763, 1771), 292, 'O'), ('.', (1771, 1772), 293, 'O'), ('Evolución', (1774, 1783), 294, 'O'), ('Inicia', (1784, 1790), 295, 'O'), ('revisiones', (1791, 1801), 296, 'O'), ('regulares', (1802, 1811), 297, 'O'), ('.', (1811, 1812), 298, 'O'), ('En', (1813, 1815), 299, 'O'), ('octubre', (1816, 1823), 300, 'O'), ('de', (1824, 1826), 301, 'O'), ('2011', (1827, 1831), 302, 'O'), (',', (1831, 1832), 303, 'O'), ('consulta', (1833, 1841), 304, 'O'), ('por', (1842, 1845), 305, 'O'), ('dolor', (1846, 1851), 306, 'O'), ('dor', (1852, 1857), 307, 'O'), ('##so', (1852, 1857), 307, 'O'), ('-', (1857, 1858), 308, 'O'), ('lu', (1858, 1864), 309, 'O'), ('##mb', (1858, 1864), 309, 'O'), ('##ar', (1858, 1864), 309, 'O'), ('progresivo', (1865, 1875), 310, 'O'), ('con', (1876, 1879), 311, 'O'), ('incapacidad', (1880, 1891), 312, 'O'), ('para', (1892, 1896), 313, 'O'), ('la', (1897, 1899), 314, 'O'), ('de', (1900, 1912), 315, 'O'), ('##ambul', (1900, 1912), 315, 'O'), ('##ación', (1900, 1912), 315, 'O'), ('.', (1912, 1913), 316, 'O'), ('La', (1914, 1916), 317, 'O'), ('resonancia', (1917, 1927), 318, 'O'), ('magnética', (1928, 1937), 319, 'O'), ('describe', (1938, 1946), 320, 'O'), ('compresión', (1947, 1957), 321, 'O'), ('med', (1958, 1965), 322, 'O'), ('##ular', (1958, 1965), 322, 'O'), ('a', (1966, 1967), 323, 'O'), ('nivel', (1968, 1973), 324, 'O'), ('de', (1974, 1976), 325, 'O'), ('D', (1977, 1980), 326, 'O'), ('##12', (1977, 1980), 326, 'O'), (',', (1980, 1981), 327, 'O'), ('por', (1982, 1985), 328, 'O'), ('lo', (1986, 1988), 329, 'O'), ('que', (1989, 1992), 330, 'O'), ('se', (1993, 1995), 331, 'O'), ('inicia', (1996, 2002), 332, 'O'), ('tratamiento', (2003, 2014), 333, 'O'), ('con', (2015, 2018), 334, 'O'), ('de', (2019, 2031), 335, 'O'), ('##xa', (2019, 2031), 335, 'O'), ('##met', (2019, 2031), 335, 'O'), ('##ason', (2019, 2031), 335, 'O'), ('##a', (2019, 2031), 335, 'O'), ('y', (2032, 2033), 336, 'O'), ('radio', (2034, 2046), 337, 'O'), ('##terapia', (2034, 2046), 337, 'O'), ('local', (2047, 2052), 338, 'O'), ('.', (2052, 2053), 339, 'O'), ('La', (2054, 2056), 340, 'O'), ('TC', (2057, 2059), 341, 'O'), ('objetiva', (2060, 2068), 342, 'O'), ('progresión', (2069, 2079), 343, 'B'), ('hepática', (2080, 2088), 344, 'I'), (',', (2088, 2089), 345, 'O'), ('gan', (2090, 2100), 346, 'O'), ('##gli', (2090, 2100), 346, 'O'), ('##ona', (2090, 2100), 346, 'O'), ('##r', (2090, 2100), 346, 'O'), ('y', (2101, 2102), 347, 'O'), ('ósea', (2103, 2107), 348, 'O'), ('.', (2107, 2108), 349, 'O')]\n",
      "\n",
      "\n",
      "[('Con', (2109, 2112), 350, 'O'), ('un', (2113, 2115), 351, 'O'), ('intervalo', (2116, 2125), 352, 'O'), ('libre', (2126, 2131), 353, 'O'), ('de', (2132, 2134), 354, 'O'), ('progresión', (2135, 2145), 355, 'O'), ('de', (2146, 2148), 356, 'O'), ('38', (2149, 2151), 357, 'O'), ('meses', (2152, 2157), 358, 'O'), (',', (2157, 2158), 359, 'O'), ('reinici', (2159, 2167), 360, 'O'), ('##a', (2159, 2167), 360, 'O'), ('en', (2168, 2170), 361, 'O'), ('noviembre', (2171, 2180), 362, 'O'), ('de', (2181, 2183), 363, 'O'), ('2011', (2184, 2188), 364, 'O'), ('tratamiento', (2189, 2200), 365, 'O'), ('con', (2201, 2204), 366, 'O'), ('carb', (2205, 2217), 367, 'O'), ('##op', (2205, 2217), 367, 'O'), ('##la', (2205, 2217), 367, 'O'), ('##tino', (2205, 2217), 367, 'O'), (',', (2217, 2218), 368, 'O'), ('et', (2219, 2228), 369, 'O'), ('##op', (2219, 2228), 369, 'O'), ('##ósi', (2219, 2228), 369, 'O'), ('##do', (2219, 2228), 369, 'O'), ('y', (2229, 2230), 370, 'O'), ('ácido', (2231, 2236), 371, 'O'), ('zo', (2237, 2248), 372, 'O'), ('##le', (2237, 2248), 372, 'O'), ('##dr', (2237, 2248), 372, 'O'), ('##ónico', (2237, 2248), 372, 'O'), ('.', (2248, 2249), 373, 'O'), ('Se', (2250, 2252), 374, 'O'), ('objetiva', (2253, 2261), 375, 'O'), ('enfermedad', (2262, 2272), 376, 'O'), ('estable', (2273, 2280), 377, 'O'), ('tras', (2281, 2285), 378, 'O'), ('3', (2286, 2287), 379, 'O'), ('ciclos', (2288, 2294), 380, 'O'), ('y', (2295, 2296), 381, 'O'), ('progresión', (2297, 2307), 382, 'O'), ('tras', (2308, 2312), 383, 'O'), ('6', (2313, 2314), 384, 'O'), (',', (2314, 2315), 385, 'O'), ('por', (2316, 2319), 386, 'O'), ('lo', (2320, 2322), 387, 'O'), ('que', (2323, 2326), 388, 'O'), ('inicia', (2327, 2333), 389, 'O'), ('segunda', (2334, 2341), 390, 'O'), ('línea', (2342, 2347), 391, 'O'), ('con', (2348, 2351), 392, 'O'), ('topo', (2352, 2361), 393, 'O'), ('##tec', (2352, 2361), 393, 'O'), ('##án', (2352, 2361), 393, 'O'), (',', (2361, 2362), 394, 'O'), ('con', (2362, 2365), 395, 'O'), ('regular', (2366, 2373), 396, 'O'), ('tolerancia', (2374, 2384), 397, 'O'), ('.', (2384, 2385), 398, 'O'), ('El', (2386, 2388), 399, 'O'), ('control', (2389, 2396), 400, 'O'), ('radio', (2397, 2408), 401, 'O'), ('##lógico', (2397, 2408), 401, 'O'), ('tras', (2409, 2413), 402, 'O'), ('3', (2414, 2415), 403, 'O'), ('ciclos', (2416, 2422), 404, 'O'), ('evidencia', (2423, 2432), 405, 'O'), ('progresión', (2433, 2443), 406, 'O'), ('de', (2444, 2446), 407, 'O'), ('las', (2447, 2450), 408, 'O'), ('lesiones', (2451, 2459), 409, 'O'), (',', (2459, 2460), 410, 'O'), ('y', (2461, 2462), 411, 'O'), ('el', (2463, 2465), 412, 'O'), ('analí', (2466, 2475), 413, 'O'), ('##tico', (2466, 2475), 413, 'O'), ('objetiva', (2476, 2484), 414, 'O'), ('elevación', (2485, 2494), 415, 'O'), ('de', (2495, 2497), 416, 'O'), ('marcador', (2498, 2508), 417, 'O'), ('##es', (2498, 2508), 417, 'O'), ('de', (2509, 2511), 418, 'O'), ('daño', (2512, 2516), 419, 'O'), ('hepá', (2517, 2525), 420, 'O'), ('##tico', (2517, 2525), 420, 'O'), ('.', (2525, 2526), 421, 'O'), ('Con', (2527, 2530), 422, 'O'), ('deterioro', (2531, 2540), 423, 'O'), ('progresivo', (2541, 2551), 424, 'O'), ('del', (2552, 2555), 425, 'O'), ('estado', (2556, 2562), 426, 'O'), ('en', (2563, 2565), 427, 'O'), ('probable', (2566, 2574), 428, 'O'), ('relación', (2575, 2583), 429, 'O'), ('con', (2584, 2587), 430, 'O'), ('insuficiencia', (2588, 2601), 431, 'O'), ('hepática', (2602, 2610), 432, 'O'), (',', (2610, 2611), 433, 'O'), ('finalmente', (2612, 2622), 434, 'O'), ('falle', (2623, 2630), 435, 'O'), ('##ce', (2623, 2630), 435, 'O'), ('en', (2631, 2633), 436, 'O'), ('julio', (2634, 2639), 437, 'O'), ('de', (2640, 2642), 438, 'O'), ('2012', (2643, 2647), 439, 'O'), ('.', (2647, 2648), 440, 'O')]\n",
      "\n",
      "\n"
     ]
    }
   ],
   "source": [
    "for i in range(check_id_frag, check_id_frag + dev_frag[check_id]):\n",
    "    print(list(zip([tokenizer._convert_id_to_token(int(ind)) for ind in dev_ind[i]][1:len(dev_start_end_frag[i])+1], \n",
    "               dev_start_end_frag[i], dev_word_id[i],\n",
    "               [lab_encoder.inverse_transform([label])[0] if label != IGNORE_VALUE else label \\\n",
    "                for label in dev_y[i][1:len(dev_start_end_frag[i])+1]])))\n",
    "    print(\"\\n\")"
   ]
  },
  {
   "cell_type": "code",
   "execution_count": 81,
   "metadata": {},
   "outputs": [
    {
     "name": "stdout",
     "output_type": "stream",
     "text": [
      "[CLS] Ana ##mne ##sis Mujer de 55 años , post ##men ##op ##áus ##ica sin antecedentes médico - quirúr ##gicos de interés . Consul ##ta en junio de 2008 por notar retra ##cción del pez ##ón de la mama derecha , sin otra clínica asociada . Mam ##o ##grafía previa 12 meses antes sin alteraciones relevantes . Examen físico Destaca asim ##et ##ría mama ##ria con marcada retra ##cción del pez ##ón de la mama derecha . Mama izquierda sin alteraciones . No presenta aden ##op ##atía ##s loco ##r ##re ##gional ##es pal ##pa ##bles . El resto de la exploración es ano ##dina . [SEP] [PAD] [PAD] [PAD] [PAD] [PAD] [PAD] [PAD] [PAD] [PAD] [PAD] [PAD] [PAD] [PAD] [PAD] [PAD] [PAD] [PAD] [PAD] [PAD] [PAD] [PAD] \n",
      "\n",
      "[CLS] Prueba ##s complementarias Mam ##o ##grafía : área de 4 cm de aumento de densidad , desest ##ruc ##tura ##da con micro ##cal ##ci ##ficaciones dis ##mó ##r ##ficas por detrás del pez ##ón derecho . Bio ##psia con aguja grues ##a ( BA ##G ) : compatible con car ##cino ##ma du ##cta ##l infil ##tran ##te de mama grado II . Radio ##grafía de tó ##ra ##x : normal . Marca ##dores tumor ##ales : CE ##A y CA 15 . 3 normales . Dia ##gn ##óstico Aden ##oc ##ar ##cino ##ma du ##cta ##l infil ##tran ##te de mama por estudio preliminar con bio ##psia . [SEP] [PAD] [PAD] [PAD] [PAD] [PAD] [PAD] [PAD] [PAD] [PAD] [PAD] [PAD] [PAD] [PAD] [PAD] [PAD] [PAD] [PAD] \n",
      "\n",
      "[CLS] Tratamiento Es interven ##ida en agosto de 2008 , realiz ##ándose bio ##psia selectiva del gan ##gli ##o cent ##ine ##la ( GC ) ( positiva en 2 gan ##gli ##os para metá ##stas ##is ) y mas ##tecto ##mí ##a radical modificada con linf ##aden ##ec ##tomía a ##xi ##lar . La anat ##omía pato ##lógica definitiva es concord ##ante con car ##cino ##ma endo ##cri ##no de célula pequeña de mama de 4 cm . Micro ##met ##ást ##asis en un gan ##gli ##o linf ##ático de los diez aislados . [SEP] [PAD] [PAD] [PAD] [PAD] [PAD] [PAD] [PAD] [PAD] [PAD] [PAD] [PAD] [PAD] [PAD] [PAD] [PAD] [PAD] [PAD] [PAD] [PAD] [PAD] [PAD] [PAD] [PAD] [PAD] [PAD] [PAD] [PAD] [PAD] [PAD] [PAD] [PAD] [PAD] [PAD] \n",
      "\n",
      "[CLS] El estudio inmun ##oh ##isto ##quí ##mico muestra expresión de marcador ##es neuro ##endo ##cri ##nos en más del 50 [UNK] de las células tumor ##ales ( cro ##mo ##gran ##ina , y fundamental ##mente sin ##ap ##to ##fi ##sin ##a ) . Rece ##pto ##res de est ##ró ##genos [UNK] [UNK] [UNK] y de pro ##ges ##terona - . er ##b - B ##2 - . Ci ##to ##quera ##tina 5 - . Se descar ##tan lesiones a otros niveles con el estudio de extensión con tomo ##grafía comput ##ariz ##ada ( TC ) . [SEP] [PAD] [PAD] [PAD] [PAD] [PAD] [PAD] [PAD] [PAD] [PAD] [PAD] [PAD] [PAD] [PAD] [PAD] [PAD] [PAD] [PAD] [PAD] [PAD] [PAD] [PAD] [PAD] [PAD] [PAD] [PAD] [PAD] [PAD] [PAD] [PAD] [PAD] \n",
      "\n",
      "[CLS] Reci ##be 4 ciclos de tratamiento quimio ##ter ##ápi ##co ad ##yu ##van ##te con cis ##pla ##tino y et ##op ##ósi ##do , radio ##terapia en pared tor ##ác ##ica derecha y horm ##ono ##terapia con letr ##oz ##ol . Evolución Inicia revisiones regulares . En octubre de 2011 , consulta por dolor dor ##so - lu ##mb ##ar progresivo con incapacidad para la de ##ambul ##ación . La resonancia magnética describe compresión med ##ular a nivel de D ##12 , por lo que se inicia tratamiento con de ##xa ##met ##ason ##a y radio ##terapia local . La TC objetiva progresión hepática , gan ##gli ##ona ##r y ósea . [SEP] [PAD] [PAD] [PAD] [PAD] [PAD] [PAD] [PAD] [PAD] [PAD] [PAD] [PAD] [PAD] [PAD] [PAD] \n",
      "\n",
      "[CLS] Con un intervalo libre de progresión de 38 meses , reinici ##a en noviembre de 2011 tratamiento con carb ##op ##la ##tino , et ##op ##ósi ##do y ácido zo ##le ##dr ##ónico . Se objetiva enfermedad estable tras 3 ciclos y progresión tras 6 , por lo que inicia segunda línea con topo ##tec ##án , con regular tolerancia . El control radio ##lógico tras 3 ciclos evidencia progresión de las lesiones , y el analí ##tico objetiva elevación de marcador ##es de daño hepá ##tico . Con deterioro progresivo del estado en probable relación con insuficiencia hepática , finalmente falle ##ce en julio de 2012 . [SEP] [PAD] [PAD] [PAD] [PAD] [PAD] [PAD] [PAD] [PAD] [PAD] [PAD] [PAD] [PAD] [PAD] [PAD] [PAD] [PAD] [PAD] [PAD] \n",
      "\n"
     ]
    }
   ],
   "source": [
    "check_id_frag = sum(dev_frag[:check_id])\n",
    "for frag in dev_ind[check_id_frag:check_id_frag + dev_frag[check_id]]:\n",
    "    print(' '.join([tokenizer._convert_id_to_token(int(ind)) for ind in frag]), \"\\n\")"
   ]
  },
  {
   "cell_type": "markdown",
   "metadata": {},
   "source": [
    "### Training & Development corpus\n",
    "\n",
    "We merge the previously generated datasets:"
   ]
  },
  {
   "cell_type": "code",
   "execution_count": 82,
   "metadata": {},
   "outputs": [],
   "source": [
    "# Indices\n",
    "train_dev_ind = np.concatenate((train_ind, dev_ind))"
   ]
  },
  {
   "cell_type": "code",
   "execution_count": 83,
   "metadata": {
    "scrolled": true
   },
   "outputs": [
    {
     "data": {
      "text/plain": [
       "(11867, 128)"
      ]
     },
     "execution_count": 83,
     "metadata": {},
     "output_type": "execute_result"
    }
   ],
   "source": [
    "train_dev_ind.shape"
   ]
  },
  {
   "cell_type": "code",
   "execution_count": 84,
   "metadata": {},
   "outputs": [],
   "source": [
    "# Attention\n",
    "train_dev_att = np.concatenate((train_att, dev_att))"
   ]
  },
  {
   "cell_type": "code",
   "execution_count": 85,
   "metadata": {},
   "outputs": [
    {
     "data": {
      "text/plain": [
       "(11867, 128)"
      ]
     },
     "execution_count": 85,
     "metadata": {},
     "output_type": "execute_result"
    }
   ],
   "source": [
    "train_dev_att.shape"
   ]
  },
  {
   "cell_type": "code",
   "execution_count": 86,
   "metadata": {},
   "outputs": [],
   "source": [
    "# Type\n",
    "train_dev_type = np.concatenate((train_type, dev_type))"
   ]
  },
  {
   "cell_type": "code",
   "execution_count": 87,
   "metadata": {},
   "outputs": [
    {
     "data": {
      "text/plain": [
       "(11867, 128)"
      ]
     },
     "execution_count": 87,
     "metadata": {},
     "output_type": "execute_result"
    }
   ],
   "source": [
    "train_dev_type.shape"
   ]
  },
  {
   "cell_type": "code",
   "execution_count": 88,
   "metadata": {},
   "outputs": [],
   "source": [
    "# y\n",
    "train_dev_y = np.concatenate((train_y, dev_y))"
   ]
  },
  {
   "cell_type": "code",
   "execution_count": 89,
   "metadata": {},
   "outputs": [
    {
     "data": {
      "text/plain": [
       "(11867, 128)"
      ]
     },
     "execution_count": 89,
     "metadata": {},
     "output_type": "execute_result"
    }
   ],
   "source": [
    "train_dev_y.shape"
   ]
  },
  {
   "cell_type": "markdown",
   "metadata": {},
   "source": [
    "## Fine-tuning\n",
    "\n",
    "Using the corpus of labeled sentences, we fine-tune the model on a multi-label sentence classification task."
   ]
  },
  {
   "cell_type": "code",
   "execution_count": 90,
   "metadata": {},
   "outputs": [
    {
     "name": "stderr",
     "output_type": "stream",
     "text": [
      "Some weights of the PyTorch model were not used when initializing the TF 2.0 model TFBertForTokenClassification: ['bert.embeddings.position_ids']\n",
      "- This IS expected if you are initializing TFBertForTokenClassification from a PyTorch model trained on another task or with another architecture (e.g. initializing a TFBertForSequenceClassification model from a BertForPreTraining model).\n",
      "- This IS NOT expected if you are initializing TFBertForTokenClassification from a PyTorch model that you expect to be exactly identical (e.g. initializing a TFBertForSequenceClassification model from a BertForSequenceClassification model).\n",
      "Some weights or buffers of the TF 2.0 model TFBertForTokenClassification were not initialized from the PyTorch model and are newly initialized: ['classifier.weight', 'classifier.bias']\n",
      "You should probably TRAIN this model on a down-stream task to be able to use it for predictions and inference.\n"
     ]
    }
   ],
   "source": [
    "from transformers import TFBertForTokenClassification\n",
    "\n",
    "model = TFBertForTokenClassification.from_pretrained(model_name, from_pt=True)"
   ]
  },
  {
   "cell_type": "code",
   "execution_count": 91,
   "metadata": {},
   "outputs": [
    {
     "name": "stdout",
     "output_type": "stream",
     "text": [
      "Model: \"tf_bert_for_token_classification\"\n",
      "_________________________________________________________________\n",
      "Layer (type)                 Output Shape              Param #   \n",
      "=================================================================\n",
      "bert (TFBertMainLayer)       multiple                  109260288 \n",
      "_________________________________________________________________\n",
      "dropout_37 (Dropout)         multiple                  0         \n",
      "_________________________________________________________________\n",
      "classifier (Dense)           multiple                  1538      \n",
      "=================================================================\n",
      "Total params: 109,261,826\n",
      "Trainable params: 109,261,826\n",
      "Non-trainable params: 0\n",
      "_________________________________________________________________\n"
     ]
    }
   ],
   "source": [
    "model.summary()"
   ]
  },
  {
   "cell_type": "code",
   "execution_count": 92,
   "metadata": {},
   "outputs": [
    {
     "data": {
      "text/plain": [
       "[<transformers.models.bert.modeling_tf_bert.TFBertMainLayer at 0x7f45d9c02190>,\n",
       " <tensorflow.python.keras.layers.core.Dropout at 0x7f45cbdfff10>,\n",
       " <tensorflow.python.keras.layers.core.Dense at 0x7f45db981a10>]"
      ]
     },
     "execution_count": 92,
     "metadata": {},
     "output_type": "execute_result"
    }
   ],
   "source": [
    "model.layers"
   ]
  },
  {
   "cell_type": "code",
   "execution_count": 93,
   "metadata": {},
   "outputs": [],
   "source": [
    "from tensorflow.keras import Input, Model\n",
    "from tensorflow.keras.layers import Dense\n",
    "from tensorflow.keras.initializers import GlorotUniform\n",
    "\n",
    "input_ids = Input(shape=(SEQ_LEN,), name='input_ids', dtype='int64')\n",
    "\n",
    "num_labels = len(lab_encoder.classes_)\n",
    "\n",
    "out_seq = model.layers[0](input_ids=input_ids)[0] # take the output sub-token sequence \n",
    "out_logits = Dense(units=num_labels, kernel_initializer=GlorotUniform(seed=random_seed))(out_seq) # Multi-class classification\n",
    "\n",
    "model = Model(inputs=input_ids, outputs=out_logits)"
   ]
  },
  {
   "cell_type": "code",
   "execution_count": 94,
   "metadata": {},
   "outputs": [
    {
     "name": "stdout",
     "output_type": "stream",
     "text": [
      "Model: \"functional_1\"\n",
      "_________________________________________________________________\n",
      "Layer (type)                 Output Shape              Param #   \n",
      "=================================================================\n",
      "input_ids (InputLayer)       [(None, 128)]             0         \n",
      "_________________________________________________________________\n",
      "bert (TFBertMainLayer)       TFBaseModelOutputWithPool 109260288 \n",
      "_________________________________________________________________\n",
      "dense (Dense)                (None, 128, 3)            2307      \n",
      "=================================================================\n",
      "Total params: 109,262,595\n",
      "Trainable params: 109,262,595\n",
      "Non-trainable params: 0\n",
      "_________________________________________________________________\n"
     ]
    }
   ],
   "source": [
    "model.summary()"
   ]
  },
  {
   "cell_type": "code",
   "execution_count": 95,
   "metadata": {},
   "outputs": [
    {
     "data": {
      "text/plain": [
       "<tf.Tensor 'input_ids:0' shape=(None, 128) dtype=int64>"
      ]
     },
     "execution_count": 95,
     "metadata": {},
     "output_type": "execute_result"
    }
   ],
   "source": [
    "model.input"
   ]
  },
  {
   "cell_type": "code",
   "execution_count": 96,
   "metadata": {},
   "outputs": [
    {
     "data": {
      "text/plain": [
       "<tf.Tensor 'dense/BiasAdd:0' shape=(None, 128, 3) dtype=float32>"
      ]
     },
     "execution_count": 96,
     "metadata": {},
     "output_type": "execute_result"
    }
   ],
   "source": [
    "model.output"
   ]
  },
  {
   "cell_type": "code",
   "execution_count": null,
   "metadata": {},
   "outputs": [
    {
     "name": "stdout",
     "output_type": "stream",
     "text": [
      "Epoch 1/73\n",
      "105/742 [===>..........................] - ETA: 2:52 - loss: 0.4232"
     ]
    }
   ],
   "source": [
    "%%time\n",
    "from tensorflow.keras import optimizers, losses\n",
    "import tensorflow_addons as tfa\n",
    "\n",
    "optimizer = tfa.optimizers.RectifiedAdam(learning_rate=LR)\n",
    "loss = TokenClassificationLoss(from_logits=LOGITS, ignore_val=IGNORE_VALUE)\n",
    "model.compile(optimizer=optimizer, loss=loss)\n",
    "\n",
    "history = model.fit(x={'input_ids': train_dev_ind}, \n",
    "                    y=train_dev_y, batch_size=BATCH_SIZE, epochs=EPOCHS, shuffle=True)"
   ]
  },
  {
   "cell_type": "markdown",
   "metadata": {},
   "source": [
    "As a sanity check procedure, we evaluate model predictions on the development set:"
   ]
  },
  {
   "cell_type": "code",
   "execution_count": 101,
   "metadata": {},
   "outputs": [
    {
     "name": "stdout",
     "output_type": "stream",
     "text": [
      "CPU times: user 10.6 s, sys: 1.31 s, total: 11.9 s\n",
      "Wall time: 13 s\n"
     ]
    }
   ],
   "source": [
    "%%time\n",
    "dev_preds = tf.nn.softmax(logits=model.predict({'input_ids': dev_ind}), \n",
    "                           axis=-1).numpy()"
   ]
  },
  {
   "cell_type": "code",
   "execution_count": 102,
   "metadata": {},
   "outputs": [
    {
     "data": {
      "text/plain": [
       "(2856, 128, 3)"
      ]
     },
     "execution_count": 102,
     "metadata": {},
     "output_type": "execute_result"
    }
   ],
   "source": [
    "dev_preds.shape"
   ]
  },
  {
   "cell_type": "code",
   "execution_count": 103,
   "metadata": {},
   "outputs": [],
   "source": [
    "out_dev_path = \"dev_preds/\""
   ]
  },
  {
   "cell_type": "code",
   "execution_count": 104,
   "metadata": {},
   "outputs": [
    {
     "name": "stderr",
     "output_type": "stream",
     "text": [
      "100%|██████████| 250/250 [00:00<00:00, 284.79it/s]\n",
      "100%|██████████| 250/250 [00:00<00:00, 311.27it/s]\n"
     ]
    }
   ],
   "source": [
    "write_ner_ann(df_pred_ann=ner_preds_brat_format(doc_list=dev_doc_list, fragments=dev_frag, preds=dev_preds, \n",
    "                                    start_end=dev_start_end_frag, word_id=dev_word_id, \n",
    "                                    lb_encoder=lab_encoder, df_text=df_text_dev, text_col=text_col, strategy=EVAL_STRATEGY), \n",
    "              out_path=out_dev_path)"
   ]
  },
  {
   "cell_type": "code",
   "execution_count": 105,
   "metadata": {},
   "outputs": [
    {
     "name": "stdout",
     "output_type": "stream",
     "text": [
      "\r\n",
      "-----------------------------------------------------\r\n",
      "Clinical case name\t\t\tPrecision\r\n",
      "-----------------------------------------------------\r\n",
      "cc_onco1001.ann\t\t1.0\r\n",
      "-----------------------------------------------------\r\n",
      "cc_onco1007.ann\t\t1.0\r\n",
      "-----------------------------------------------------\r\n",
      "cc_onco1008.ann\t\t1.0\r\n",
      "-----------------------------------------------------\r\n",
      "cc_onco1009.ann\t\t1.0\r\n",
      "-----------------------------------------------------\r\n",
      "cc_onco1010.ann\t\t1.0\r\n",
      "-----------------------------------------------------\r\n",
      "cc_onco1011.ann\t\t1.0\r\n",
      "-----------------------------------------------------\r\n",
      "cc_onco1012.ann\t\t1.0\r\n",
      "-----------------------------------------------------\r\n",
      "cc_onco1014.ann\t\t1.0\r\n",
      "-----------------------------------------------------\r\n",
      "cc_onco1016.ann\t\t1.0\r\n",
      "-----------------------------------------------------\r\n",
      "cc_onco1018.ann\t\t1.0\r\n",
      "-----------------------------------------------------\r\n",
      "cc_onco1019.ann\t\t0.933\r\n",
      "-----------------------------------------------------\r\n",
      "cc_onco1020.ann\t\t1.0\r\n",
      "-----------------------------------------------------\r\n",
      "cc_onco1021.ann\t\t1.0\r\n",
      "-----------------------------------------------------\r\n",
      "cc_onco1022.ann\t\t1.0\r\n",
      "-----------------------------------------------------\r\n",
      "cc_onco1025.ann\t\t1.0\r\n",
      "-----------------------------------------------------\r\n",
      "cc_onco1028.ann\t\t1.0\r\n",
      "-----------------------------------------------------\r\n",
      "cc_onco1031.ann\t\t1.0\r\n",
      "-----------------------------------------------------\r\n",
      "cc_onco1032.ann\t\t1.0\r\n",
      "-----------------------------------------------------\r\n",
      "cc_onco1033.ann\t\t1.0\r\n",
      "-----------------------------------------------------\r\n",
      "cc_onco1034.ann\t\t1.0\r\n",
      "-----------------------------------------------------\r\n",
      "cc_onco1035.ann\t\t1.0\r\n",
      "-----------------------------------------------------\r\n",
      "cc_onco1036.ann\t\t1.0\r\n",
      "-----------------------------------------------------\r\n",
      "cc_onco1041.ann\t\t1.0\r\n",
      "-----------------------------------------------------\r\n",
      "cc_onco1042.ann\t\t1.0\r\n",
      "-----------------------------------------------------\r\n",
      "cc_onco1043.ann\t\t1.0\r\n",
      "-----------------------------------------------------\r\n",
      "cc_onco1045.ann\t\t1.0\r\n",
      "-----------------------------------------------------\r\n",
      "cc_onco1047.ann\t\t1.0\r\n",
      "-----------------------------------------------------\r\n",
      "cc_onco1048.ann\t\t1.0\r\n",
      "-----------------------------------------------------\r\n",
      "cc_onco1049.ann\t\t1.0\r\n",
      "-----------------------------------------------------\r\n",
      "cc_onco1052.ann\t\t1.0\r\n",
      "-----------------------------------------------------\r\n",
      "cc_onco1054.ann\t\t1.0\r\n",
      "-----------------------------------------------------\r\n",
      "cc_onco1055.ann\t\t1.0\r\n",
      "-----------------------------------------------------\r\n",
      "cc_onco1058.ann\t\t1.0\r\n",
      "-----------------------------------------------------\r\n",
      "cc_onco1061.ann\t\t1.0\r\n",
      "-----------------------------------------------------\r\n",
      "cc_onco1062.ann\t\t1.0\r\n",
      "-----------------------------------------------------\r\n",
      "cc_onco1063.ann\t\t1.0\r\n",
      "-----------------------------------------------------\r\n",
      "cc_onco1067.ann\t\t1.0\r\n",
      "-----------------------------------------------------\r\n",
      "cc_onco1068.ann\t\t1.0\r\n",
      "-----------------------------------------------------\r\n",
      "cc_onco1069.ann\t\t1.0\r\n",
      "-----------------------------------------------------\r\n",
      "cc_onco1070.ann\t\t1.0\r\n",
      "-----------------------------------------------------\r\n",
      "cc_onco1071.ann\t\t1.0\r\n",
      "-----------------------------------------------------\r\n",
      "cc_onco1072.ann\t\t1.0\r\n",
      "-----------------------------------------------------\r\n",
      "cc_onco1073.ann\t\t1.0\r\n",
      "-----------------------------------------------------\r\n",
      "cc_onco1074.ann\t\t1.0\r\n",
      "-----------------------------------------------------\r\n",
      "cc_onco1076.ann\t\t1.0\r\n",
      "-----------------------------------------------------\r\n",
      "cc_onco1077.ann\t\t1.0\r\n",
      "-----------------------------------------------------\r\n",
      "cc_onco1079.ann\t\t1.0\r\n",
      "-----------------------------------------------------\r\n",
      "cc_onco1088.ann\t\t1.0\r\n",
      "-----------------------------------------------------\r\n",
      "cc_onco1089.ann\t\t1.0\r\n",
      "-----------------------------------------------------\r\n",
      "cc_onco1090.ann\t\t0.875\r\n",
      "-----------------------------------------------------\r\n",
      "cc_onco1091.ann\t\t1.0\r\n",
      "-----------------------------------------------------\r\n",
      "cc_onco1093.ann\t\t1.0\r\n",
      "-----------------------------------------------------\r\n",
      "cc_onco1094.ann\t\t1.0\r\n",
      "-----------------------------------------------------\r\n",
      "cc_onco1097.ann\t\t1.0\r\n",
      "-----------------------------------------------------\r\n",
      "cc_onco1098.ann\t\t1.0\r\n",
      "-----------------------------------------------------\r\n",
      "cc_onco1101.ann\t\t1.0\r\n",
      "-----------------------------------------------------\r\n",
      "cc_onco1102.ann\t\t1.0\r\n",
      "-----------------------------------------------------\r\n",
      "cc_onco1104.ann\t\t1.0\r\n",
      "-----------------------------------------------------\r\n",
      "cc_onco1111.ann\t\t1.0\r\n",
      "-----------------------------------------------------\r\n",
      "cc_onco1115.ann\t\t1.0\r\n",
      "-----------------------------------------------------\r\n",
      "cc_onco1117.ann\t\t1.0\r\n",
      "-----------------------------------------------------\r\n",
      "cc_onco1118.ann\t\t1.0\r\n",
      "-----------------------------------------------------\r\n",
      "cc_onco1121.ann\t\t1.0\r\n",
      "-----------------------------------------------------\r\n",
      "cc_onco1123.ann\t\t1.0\r\n",
      "-----------------------------------------------------\r\n",
      "cc_onco1124.ann\t\t1.0\r\n",
      "-----------------------------------------------------\r\n",
      "cc_onco1127.ann\t\t1.0\r\n",
      "-----------------------------------------------------\r\n",
      "cc_onco1130.ann\t\t1.0\r\n",
      "-----------------------------------------------------\r\n",
      "cc_onco1131.ann\t\t1.0\r\n",
      "-----------------------------------------------------\r\n",
      "cc_onco1132.ann\t\t1.0\r\n",
      "-----------------------------------------------------\r\n",
      "cc_onco1133.ann\t\t1.0\r\n",
      "-----------------------------------------------------\r\n",
      "cc_onco1137.ann\t\t1.0\r\n",
      "-----------------------------------------------------\r\n",
      "cc_onco1138.ann\t\t1.0\r\n",
      "-----------------------------------------------------\r\n",
      "cc_onco1141.ann\t\t1.0\r\n",
      "-----------------------------------------------------\r\n",
      "cc_onco1142.ann\t\t1.0\r\n",
      "-----------------------------------------------------\r\n",
      "cc_onco1143.ann\t\t1.0\r\n",
      "-----------------------------------------------------\r\n",
      "cc_onco1145.ann\t\t1.0\r\n",
      "-----------------------------------------------------\r\n",
      "cc_onco1147.ann\t\t1.0\r\n",
      "-----------------------------------------------------\r\n",
      "cc_onco1150.ann\t\t1.0\r\n",
      "-----------------------------------------------------\r\n",
      "cc_onco1151.ann\t\t1.0\r\n",
      "-----------------------------------------------------\r\n",
      "cc_onco1152.ann\t\t1.0\r\n",
      "-----------------------------------------------------\r\n",
      "cc_onco1154.ann\t\t1.0\r\n",
      "-----------------------------------------------------\r\n",
      "cc_onco1159.ann\t\t1.0\r\n",
      "-----------------------------------------------------\r\n",
      "cc_onco1163.ann\t\t1.0\r\n",
      "-----------------------------------------------------\r\n",
      "cc_onco1164.ann\t\t1.0\r\n",
      "-----------------------------------------------------\r\n",
      "cc_onco1166.ann\t\t1.0\r\n",
      "-----------------------------------------------------\r\n",
      "cc_onco1168.ann\t\t1.0\r\n",
      "-----------------------------------------------------\r\n",
      "cc_onco1170.ann\t\t1.0\r\n",
      "-----------------------------------------------------\r\n",
      "cc_onco1171.ann\t\t1.0\r\n",
      "-----------------------------------------------------\r\n",
      "cc_onco1172.ann\t\t1.0\r\n",
      "-----------------------------------------------------\r\n",
      "cc_onco1173.ann\t\t1.0\r\n",
      "-----------------------------------------------------\r\n",
      "cc_onco1175.ann\t\t1.0\r\n",
      "-----------------------------------------------------\r\n",
      "cc_onco1177.ann\t\t1.0\r\n",
      "-----------------------------------------------------\r\n",
      "cc_onco1179.ann\t\t1.0\r\n",
      "-----------------------------------------------------\r\n",
      "cc_onco1181.ann\t\t0.933\r\n",
      "-----------------------------------------------------\r\n",
      "cc_onco1183.ann\t\t1.0\r\n",
      "-----------------------------------------------------\r\n",
      "cc_onco1184.ann\t\t1.0\r\n",
      "-----------------------------------------------------\r\n",
      "cc_onco1186.ann\t\t1.0\r\n",
      "-----------------------------------------------------\r\n",
      "cc_onco1187.ann\t\t1.0\r\n",
      "-----------------------------------------------------\r\n",
      "cc_onco1188.ann\t\t1.0\r\n",
      "-----------------------------------------------------\r\n",
      "cc_onco1189.ann\t\t1.0\r\n",
      "-----------------------------------------------------\r\n",
      "cc_onco1194.ann\t\t1.0\r\n",
      "-----------------------------------------------------\r\n",
      "cc_onco1198.ann\t\t1.0\r\n",
      "-----------------------------------------------------\r\n",
      "cc_onco1199.ann\t\t1.0\r\n",
      "-----------------------------------------------------\r\n",
      "cc_onco1201.ann\t\t1.0\r\n",
      "-----------------------------------------------------\r\n",
      "cc_onco1203.ann\t\t1.0\r\n",
      "-----------------------------------------------------\r\n",
      "cc_onco1208.ann\t\t1.0\r\n",
      "-----------------------------------------------------\r\n",
      "cc_onco1211.ann\t\t1.0\r\n",
      "-----------------------------------------------------\r\n",
      "cc_onco1215.ann\t\t1.0\r\n",
      "-----------------------------------------------------\r\n",
      "cc_onco1217.ann\t\t1.0\r\n",
      "-----------------------------------------------------\r\n",
      "cc_onco1218.ann\t\t1.0\r\n",
      "-----------------------------------------------------\r\n",
      "cc_onco1221.ann\t\t1.0\r\n",
      "-----------------------------------------------------\r\n",
      "cc_onco1222.ann\t\t1.0\r\n",
      "-----------------------------------------------------\r\n",
      "cc_onco1225.ann\t\t0.5\r\n",
      "-----------------------------------------------------\r\n",
      "cc_onco1226.ann\t\t1.0\r\n",
      "-----------------------------------------------------\r\n",
      "cc_onco1227.ann\t\t1.0\r\n",
      "-----------------------------------------------------\r\n",
      "cc_onco1228.ann\t\t1.0\r\n",
      "-----------------------------------------------------\r\n",
      "cc_onco1229.ann\t\t1.0\r\n",
      "-----------------------------------------------------\r\n",
      "cc_onco1230.ann\t\t1.0\r\n",
      "-----------------------------------------------------\r\n",
      "cc_onco1232.ann\t\t1.0\r\n",
      "-----------------------------------------------------\r\n",
      "cc_onco1234.ann\t\t1.0\r\n",
      "-----------------------------------------------------\r\n",
      "cc_onco1235.ann\t\t1.0\r\n",
      "-----------------------------------------------------\r\n",
      "cc_onco1236.ann\t\t1.0\r\n",
      "-----------------------------------------------------\r\n",
      "cc_onco1237.ann\t\t1.0\r\n",
      "-----------------------------------------------------\r\n",
      "cc_onco1239.ann\t\t1.0\r\n",
      "-----------------------------------------------------\r\n",
      "cc_onco1241.ann\t\t1.0\r\n",
      "-----------------------------------------------------\r\n",
      "cc_onco1245.ann\t\t1.0\r\n",
      "-----------------------------------------------------\r\n",
      "cc_onco1253.ann\t\t1.0\r\n",
      "-----------------------------------------------------\r\n",
      "cc_onco1254.ann\t\t0.917\r\n",
      "-----------------------------------------------------\r\n",
      "cc_onco1255.ann\t\t1.0\r\n",
      "-----------------------------------------------------\r\n",
      "cc_onco1256.ann\t\t1.0\r\n",
      "-----------------------------------------------------\r\n",
      "cc_onco1257.ann\t\t1.0\r\n",
      "-----------------------------------------------------\r\n",
      "cc_onco1258.ann\t\t1.0\r\n",
      "-----------------------------------------------------\r\n",
      "cc_onco1260.ann\t\t1.0\r\n",
      "-----------------------------------------------------\r\n",
      "cc_onco1262.ann\t\t1.0\r\n",
      "-----------------------------------------------------\r\n",
      "cc_onco1264.ann\t\t1.0\r\n",
      "-----------------------------------------------------\r\n",
      "cc_onco1267.ann\t\t1.0\r\n",
      "-----------------------------------------------------\r\n",
      "cc_onco1271.ann\t\t1.0\r\n",
      "-----------------------------------------------------\r\n",
      "cc_onco1272.ann\t\t1.0\r\n",
      "-----------------------------------------------------\r\n",
      "cc_onco1273.ann\t\t1.0\r\n",
      "-----------------------------------------------------\r\n",
      "cc_onco1275.ann\t\t0.833\r\n",
      "-----------------------------------------------------\r\n",
      "cc_onco1276.ann\t\t1.0\r\n",
      "-----------------------------------------------------\r\n",
      "cc_onco1277.ann\t\t1.0\r\n",
      "-----------------------------------------------------\r\n",
      "cc_onco1280.ann\t\t1.0\r\n",
      "-----------------------------------------------------\r\n",
      "cc_onco1283.ann\t\t1.0\r\n",
      "-----------------------------------------------------\r\n",
      "cc_onco1286.ann\t\t1.0\r\n",
      "-----------------------------------------------------\r\n",
      "cc_onco1293.ann\t\t1.0\r\n",
      "-----------------------------------------------------\r\n",
      "cc_onco1295.ann\t\t1.0\r\n",
      "-----------------------------------------------------\r\n",
      "cc_onco1296.ann\t\t1.0\r\n",
      "-----------------------------------------------------\r\n",
      "cc_onco1304.ann\t\t1.0\r\n",
      "-----------------------------------------------------\r\n",
      "cc_onco1307.ann\t\t1.0\r\n",
      "-----------------------------------------------------\r\n",
      "cc_onco1308.ann\t\t1.0\r\n",
      "-----------------------------------------------------\r\n",
      "cc_onco1311.ann\t\t1.0\r\n",
      "-----------------------------------------------------\r\n",
      "cc_onco1312.ann\t\t1.0\r\n",
      "-----------------------------------------------------\r\n",
      "cc_onco1314.ann\t\t1.0\r\n",
      "-----------------------------------------------------\r\n",
      "cc_onco1315.ann\t\t1.0\r\n",
      "-----------------------------------------------------\r\n",
      "cc_onco1317.ann\t\t1.0\r\n",
      "-----------------------------------------------------\r\n",
      "cc_onco1318.ann\t\t1.0\r\n",
      "-----------------------------------------------------\r\n",
      "cc_onco1319.ann\t\t1.0\r\n",
      "-----------------------------------------------------\r\n",
      "cc_onco1320.ann\t\t1.0\r\n",
      "-----------------------------------------------------\r\n",
      "cc_onco1323.ann\t\t1.0\r\n",
      "-----------------------------------------------------\r\n",
      "cc_onco1324.ann\t\t1.0\r\n",
      "-----------------------------------------------------\r\n",
      "cc_onco1325.ann\t\t1.0\r\n",
      "-----------------------------------------------------\r\n",
      "cc_onco1326.ann\t\t1.0\r\n",
      "-----------------------------------------------------\r\n",
      "cc_onco1328.ann\t\t1.0\r\n",
      "-----------------------------------------------------\r\n",
      "cc_onco1329.ann\t\t1.0\r\n",
      "-----------------------------------------------------\r\n",
      "cc_onco1330.ann\t\t1.0\r\n",
      "-----------------------------------------------------\r\n",
      "cc_onco1331.ann\t\t1.0\r\n",
      "-----------------------------------------------------\r\n",
      "cc_onco1333.ann\t\t1.0\r\n",
      "-----------------------------------------------------\r\n",
      "cc_onco1336.ann\t\t1.0\r\n",
      "-----------------------------------------------------\r\n",
      "cc_onco1337.ann\t\t1.0\r\n",
      "-----------------------------------------------------\r\n",
      "cc_onco1338.ann\t\t1.0\r\n",
      "-----------------------------------------------------\r\n",
      "cc_onco1339.ann\t\t1.0\r\n",
      "-----------------------------------------------------\r\n",
      "cc_onco1340.ann\t\t1.0\r\n",
      "-----------------------------------------------------\r\n",
      "cc_onco1350.ann\t\t1.0\r\n",
      "-----------------------------------------------------\r\n",
      "cc_onco1351.ann\t\t1.0\r\n",
      "-----------------------------------------------------\r\n",
      "cc_onco1353.ann\t\t1.0\r\n",
      "-----------------------------------------------------\r\n",
      "cc_onco1354.ann\t\t1.0\r\n",
      "-----------------------------------------------------\r\n",
      "cc_onco1355.ann\t\t1.0\r\n",
      "-----------------------------------------------------\r\n",
      "cc_onco1356.ann\t\t1.0\r\n",
      "-----------------------------------------------------\r\n",
      "cc_onco1358.ann\t\t1.0\r\n",
      "-----------------------------------------------------\r\n",
      "cc_onco1359.ann\t\t1.0\r\n",
      "-----------------------------------------------------\r\n",
      "cc_onco1361.ann\t\t1.0\r\n",
      "-----------------------------------------------------\r\n",
      "cc_onco1363.ann\t\t1.0\r\n",
      "-----------------------------------------------------\r\n",
      "cc_onco1368.ann\t\t1.0\r\n",
      "-----------------------------------------------------\r\n",
      "cc_onco1371.ann\t\t1.0\r\n",
      "-----------------------------------------------------\r\n",
      "cc_onco1373.ann\t\t1.0\r\n",
      "-----------------------------------------------------\r\n",
      "cc_onco1376.ann\t\t1.0\r\n",
      "-----------------------------------------------------\r\n",
      "cc_onco1377.ann\t\t1.0\r\n",
      "-----------------------------------------------------\r\n",
      "cc_onco1382.ann\t\t1.0\r\n",
      "-----------------------------------------------------\r\n",
      "cc_onco1383.ann\t\t1.0\r\n",
      "-----------------------------------------------------\r\n",
      "cc_onco1384.ann\t\t1.0\r\n",
      "-----------------------------------------------------\r\n",
      "cc_onco1387.ann\t\t1.0\r\n",
      "-----------------------------------------------------\r\n",
      "cc_onco1388.ann\t\t1.0\r\n",
      "-----------------------------------------------------\r\n",
      "cc_onco1390.ann\t\t1.0\r\n",
      "-----------------------------------------------------\r\n",
      "cc_onco1391.ann\t\t1.0\r\n",
      "-----------------------------------------------------\r\n",
      "cc_onco1392.ann\t\t1.0\r\n",
      "-----------------------------------------------------\r\n",
      "cc_onco1393.ann\t\t1.0\r\n",
      "-----------------------------------------------------\r\n",
      "cc_onco1397.ann\t\t0.889\r\n",
      "-----------------------------------------------------\r\n",
      "cc_onco1402.ann\t\t1.0\r\n",
      "-----------------------------------------------------\r\n",
      "cc_onco1404.ann\t\t1.0\r\n",
      "-----------------------------------------------------\r\n",
      "cc_onco1405.ann\t\t1.0\r\n",
      "-----------------------------------------------------\r\n",
      "cc_onco1412.ann\t\t1.0\r\n",
      "-----------------------------------------------------\r\n",
      "cc_onco1415.ann\t\t1.0\r\n",
      "-----------------------------------------------------\r\n",
      "cc_onco1418.ann\t\t1.0\r\n",
      "-----------------------------------------------------\r\n",
      "cc_onco1419.ann\t\t1.0\r\n",
      "-----------------------------------------------------\r\n",
      "cc_onco1420.ann\t\t1.0\r\n",
      "-----------------------------------------------------\r\n",
      "cc_onco1424.ann\t\t1.0\r\n",
      "-----------------------------------------------------\r\n",
      "cc_onco1427.ann\t\t0.7\r\n",
      "-----------------------------------------------------\r\n",
      "cc_onco1428.ann\t\t1.0\r\n",
      "-----------------------------------------------------\r\n",
      "cc_onco1429.ann\t\t1.0\r\n",
      "-----------------------------------------------------\r\n",
      "cc_onco1432.ann\t\t1.0\r\n",
      "-----------------------------------------------------\r\n",
      "cc_onco1435.ann\t\t1.0\r\n",
      "-----------------------------------------------------\r\n",
      "cc_onco1437.ann\t\t1.0\r\n",
      "-----------------------------------------------------\r\n",
      "cc_onco1438.ann\t\t1.0\r\n",
      "-----------------------------------------------------\r\n",
      "cc_onco1444.ann\t\t1.0\r\n",
      "-----------------------------------------------------\r\n",
      "cc_onco1448.ann\t\t1.0\r\n",
      "-----------------------------------------------------\r\n",
      "cc_onco1449.ann\t\t1.0\r\n",
      "-----------------------------------------------------\r\n",
      "cc_onco1451.ann\t\t1.0\r\n",
      "-----------------------------------------------------\r\n",
      "cc_onco1459.ann\t\t1.0\r\n",
      "-----------------------------------------------------\r\n",
      "cc_onco1461.ann\t\t1.0\r\n",
      "-----------------------------------------------------\r\n",
      "cc_onco1462.ann\t\t1.0\r\n",
      "-----------------------------------------------------\r\n",
      "cc_onco1463.ann\t\t1.0\r\n",
      "-----------------------------------------------------\r\n",
      "cc_onco1467.ann\t\t1.0\r\n",
      "-----------------------------------------------------\r\n",
      "cc_onco1474.ann\t\t1.0\r\n",
      "-----------------------------------------------------\r\n",
      "cc_onco1475.ann\t\t1.0\r\n",
      "-----------------------------------------------------\r\n",
      "cc_onco1478.ann\t\t1.0\r\n",
      "-----------------------------------------------------\r\n",
      "cc_onco1482.ann\t\t1.0\r\n",
      "-----------------------------------------------------\r\n",
      "cc_onco1484.ann\t\t1.0\r\n",
      "-----------------------------------------------------\r\n",
      "cc_onco1487.ann\t\t1.0\r\n",
      "-----------------------------------------------------\r\n",
      "cc_onco1488.ann\t\t1.0\r\n",
      "-----------------------------------------------------\r\n",
      "cc_onco1490.ann\t\t1.0\r\n",
      "-----------------------------------------------------\r\n",
      "cc_onco1492.ann\t\t1.0\r\n",
      "-----------------------------------------------------\r\n",
      "cc_onco1494.ann\t\t1.0\r\n",
      "-----------------------------------------------------\r\n",
      "cc_onco1495.ann\t\t1.0\r\n",
      "-----------------------------------------------------\r\n",
      "cc_onco1497.ann\t\t1.0\r\n",
      "-----------------------------------------------------\r\n",
      "cc_onco1500.ann\t\t1.0\r\n",
      "-----------------------------------------------------\r\n",
      "cc_onco282.ann\t\t1.0\r\n",
      "-----------------------------------------------------\r\n",
      "cc_onco437.ann\t\t1.0\r\n",
      "-----------------------------------------------------\r\n",
      "cc_onco639.ann\t\t1.0\r\n",
      "-----------------------------------------------------\r\n",
      "cc_onco645.ann\t\t1.0\r\n",
      "-----------------------------------------------------\r\n",
      "cc_onco65.ann\t\t1.0\r\n",
      "-----------------------------------------------------\r\n",
      "cc_onco657.ann\t\t1.0\r\n",
      "-----------------------------------------------------\r\n",
      "cc_onco691.ann\t\t1.0\r\n",
      "-----------------------------------------------------\r\n",
      "cc_onco734.ann\t\t1.0\r\n",
      "-----------------------------------------------------\r\n",
      "cc_onco735.ann\t\t1.0\r\n",
      "-----------------------------------------------------\r\n",
      "cc_onco751.ann\t\t1.0\r\n",
      "-----------------------------------------------------\r\n",
      "cc_onco874.ann\t\t1.0\r\n",
      "-----------------------------------------------------\r\n",
      "cc_onco898.ann\t\t1.0\r\n",
      "-----------------------------------------------------\r\n",
      "cc_onco945.ann\t\t1.0\r\n",
      "-----------------------------------------------------\r\n",
      "cc_onco994.ann\t\t1.0\r\n",
      "-----------------------------------------------------\r\n",
      "\r\n",
      "-----------------------------------------------------\r\n",
      "Clinical case name\t\t\tRecall\r\n",
      "-----------------------------------------------------\r\n",
      "cc_onco1001.ann\t\t1.0\r\n",
      "-----------------------------------------------------\r\n",
      "cc_onco1007.ann\t\t1.0\r\n",
      "-----------------------------------------------------\r\n",
      "cc_onco1008.ann\t\t1.0\r\n",
      "-----------------------------------------------------\r\n",
      "cc_onco1009.ann\t\t1.0\r\n",
      "-----------------------------------------------------\r\n",
      "cc_onco1010.ann\t\t1.0\r\n",
      "-----------------------------------------------------\r\n",
      "cc_onco1011.ann\t\t0.923\r\n",
      "-----------------------------------------------------\r\n",
      "cc_onco1012.ann\t\t0.933\r\n",
      "-----------------------------------------------------\r\n",
      "cc_onco1014.ann\t\t1.0\r\n",
      "-----------------------------------------------------\r\n",
      "cc_onco1016.ann\t\t1.0\r\n",
      "-----------------------------------------------------\r\n",
      "cc_onco1018.ann\t\t1.0\r\n",
      "-----------------------------------------------------\r\n",
      "cc_onco1019.ann\t\t0.933\r\n",
      "-----------------------------------------------------\r\n",
      "cc_onco1020.ann\t\t1.0\r\n",
      "-----------------------------------------------------\r\n",
      "cc_onco1021.ann\t\t1.0\r\n",
      "-----------------------------------------------------\r\n",
      "cc_onco1022.ann\t\t1.0\r\n",
      "-----------------------------------------------------\r\n",
      "cc_onco1025.ann\t\t0.917\r\n",
      "-----------------------------------------------------\r\n",
      "cc_onco1028.ann\t\t1.0\r\n",
      "-----------------------------------------------------\r\n",
      "cc_onco1031.ann\t\t1.0\r\n",
      "-----------------------------------------------------\r\n",
      "cc_onco1032.ann\t\t1.0\r\n",
      "-----------------------------------------------------\r\n",
      "cc_onco1033.ann\t\t1.0\r\n",
      "-----------------------------------------------------\r\n",
      "cc_onco1034.ann\t\t1.0\r\n",
      "-----------------------------------------------------\r\n",
      "cc_onco1035.ann\t\t1.0\r\n",
      "-----------------------------------------------------\r\n",
      "cc_onco1036.ann\t\t1.0\r\n",
      "-----------------------------------------------------\r\n",
      "cc_onco1041.ann\t\t1.0\r\n",
      "-----------------------------------------------------\r\n",
      "cc_onco1042.ann\t\t1.0\r\n",
      "-----------------------------------------------------\r\n",
      "cc_onco1043.ann\t\t1.0\r\n",
      "-----------------------------------------------------\r\n",
      "cc_onco1045.ann\t\t1.0\r\n",
      "-----------------------------------------------------\r\n",
      "cc_onco1047.ann\t\t1.0\r\n",
      "-----------------------------------------------------\r\n",
      "cc_onco1048.ann\t\t1.0\r\n",
      "-----------------------------------------------------\r\n",
      "cc_onco1049.ann\t\t1.0\r\n",
      "-----------------------------------------------------\r\n",
      "cc_onco1052.ann\t\t1.0\r\n",
      "-----------------------------------------------------\r\n",
      "cc_onco1054.ann\t\t1.0\r\n",
      "-----------------------------------------------------\r\n",
      "cc_onco1055.ann\t\t0.889\r\n",
      "-----------------------------------------------------\r\n",
      "cc_onco1058.ann\t\t1.0\r\n",
      "-----------------------------------------------------\r\n",
      "cc_onco1061.ann\t\t1.0\r\n",
      "-----------------------------------------------------\r\n",
      "cc_onco1062.ann\t\t1.0\r\n",
      "-----------------------------------------------------\r\n",
      "cc_onco1063.ann\t\t1.0\r\n",
      "-----------------------------------------------------\r\n",
      "cc_onco1067.ann\t\t1.0\r\n",
      "-----------------------------------------------------\r\n",
      "cc_onco1068.ann\t\t1.0\r\n",
      "-----------------------------------------------------\r\n",
      "cc_onco1069.ann\t\t1.0\r\n",
      "-----------------------------------------------------\r\n",
      "cc_onco1070.ann\t\t1.0\r\n",
      "-----------------------------------------------------\r\n",
      "cc_onco1071.ann\t\t1.0\r\n",
      "-----------------------------------------------------\r\n",
      "cc_onco1072.ann\t\t1.0\r\n",
      "-----------------------------------------------------\r\n",
      "cc_onco1073.ann\t\t1.0\r\n",
      "-----------------------------------------------------\r\n",
      "cc_onco1074.ann\t\t1.0\r\n",
      "-----------------------------------------------------\r\n",
      "cc_onco1076.ann\t\t1.0\r\n",
      "-----------------------------------------------------\r\n",
      "cc_onco1077.ann\t\t0.963\r\n",
      "-----------------------------------------------------\r\n",
      "cc_onco1079.ann\t\t1.0\r\n",
      "-----------------------------------------------------\r\n",
      "cc_onco1088.ann\t\t1.0\r\n",
      "-----------------------------------------------------\r\n",
      "cc_onco1089.ann\t\t1.0\r\n",
      "-----------------------------------------------------\r\n",
      "cc_onco1090.ann\t\t0.875\r\n",
      "-----------------------------------------------------\r\n",
      "cc_onco1091.ann\t\t1.0\r\n",
      "-----------------------------------------------------\r\n",
      "cc_onco1093.ann\t\t1.0\r\n",
      "-----------------------------------------------------\r\n",
      "cc_onco1094.ann\t\t1.0\r\n",
      "-----------------------------------------------------\r\n",
      "cc_onco1097.ann\t\t1.0\r\n",
      "-----------------------------------------------------\r\n",
      "cc_onco1098.ann\t\t1.0\r\n",
      "-----------------------------------------------------\r\n",
      "cc_onco1101.ann\t\t0.955\r\n",
      "-----------------------------------------------------\r\n",
      "cc_onco1102.ann\t\t1.0\r\n",
      "-----------------------------------------------------\r\n",
      "cc_onco1104.ann\t\t1.0\r\n",
      "-----------------------------------------------------\r\n",
      "cc_onco1111.ann\t\t1.0\r\n",
      "-----------------------------------------------------\r\n",
      "cc_onco1115.ann\t\t1.0\r\n",
      "-----------------------------------------------------\r\n",
      "cc_onco1117.ann\t\t1.0\r\n",
      "-----------------------------------------------------\r\n",
      "cc_onco1118.ann\t\t1.0\r\n",
      "-----------------------------------------------------\r\n",
      "cc_onco1121.ann\t\t1.0\r\n",
      "-----------------------------------------------------\r\n",
      "cc_onco1123.ann\t\t0.929\r\n",
      "-----------------------------------------------------\r\n",
      "cc_onco1124.ann\t\t0.952\r\n",
      "-----------------------------------------------------\r\n",
      "cc_onco1127.ann\t\t1.0\r\n",
      "-----------------------------------------------------\r\n",
      "cc_onco1130.ann\t\t1.0\r\n",
      "-----------------------------------------------------\r\n",
      "cc_onco1131.ann\t\t1.0\r\n",
      "-----------------------------------------------------\r\n",
      "cc_onco1132.ann\t\t0.833\r\n",
      "-----------------------------------------------------\r\n",
      "cc_onco1133.ann\t\t1.0\r\n",
      "-----------------------------------------------------\r\n",
      "cc_onco1137.ann\t\t1.0\r\n",
      "-----------------------------------------------------\r\n",
      "cc_onco1138.ann\t\t1.0\r\n",
      "-----------------------------------------------------\r\n",
      "cc_onco1141.ann\t\t0.941\r\n",
      "-----------------------------------------------------\r\n",
      "cc_onco1142.ann\t\t1.0\r\n",
      "-----------------------------------------------------\r\n",
      "cc_onco1143.ann\t\t1.0\r\n",
      "-----------------------------------------------------\r\n",
      "cc_onco1145.ann\t\t1.0\r\n",
      "-----------------------------------------------------\r\n",
      "cc_onco1147.ann\t\t1.0\r\n",
      "-----------------------------------------------------\r\n",
      "cc_onco1150.ann\t\t1.0\r\n",
      "-----------------------------------------------------\r\n",
      "cc_onco1151.ann\t\t1.0\r\n",
      "-----------------------------------------------------\r\n",
      "cc_onco1152.ann\t\t1.0\r\n",
      "-----------------------------------------------------\r\n",
      "cc_onco1154.ann\t\t1.0\r\n",
      "-----------------------------------------------------\r\n",
      "cc_onco1159.ann\t\t1.0\r\n",
      "-----------------------------------------------------\r\n",
      "cc_onco1163.ann\t\t1.0\r\n",
      "-----------------------------------------------------\r\n",
      "cc_onco1164.ann\t\t0.962\r\n",
      "-----------------------------------------------------\r\n",
      "cc_onco1166.ann\t\t0.917\r\n",
      "-----------------------------------------------------\r\n",
      "cc_onco1168.ann\t\t1.0\r\n",
      "-----------------------------------------------------\r\n",
      "cc_onco1170.ann\t\t1.0\r\n",
      "-----------------------------------------------------\r\n",
      "cc_onco1171.ann\t\t1.0\r\n",
      "-----------------------------------------------------\r\n",
      "cc_onco1172.ann\t\t1.0\r\n",
      "-----------------------------------------------------\r\n",
      "cc_onco1173.ann\t\t0.9\r\n",
      "-----------------------------------------------------\r\n",
      "cc_onco1175.ann\t\t1.0\r\n",
      "-----------------------------------------------------\r\n",
      "cc_onco1177.ann\t\t1.0\r\n",
      "-----------------------------------------------------\r\n",
      "cc_onco1179.ann\t\t0.941\r\n",
      "-----------------------------------------------------\r\n",
      "cc_onco1181.ann\t\t0.933\r\n",
      "-----------------------------------------------------\r\n",
      "cc_onco1183.ann\t\t1.0\r\n",
      "-----------------------------------------------------\r\n",
      "cc_onco1184.ann\t\t1.0\r\n",
      "-----------------------------------------------------\r\n",
      "cc_onco1186.ann\t\t1.0\r\n",
      "-----------------------------------------------------\r\n",
      "cc_onco1187.ann\t\t1.0\r\n",
      "-----------------------------------------------------\r\n",
      "cc_onco1188.ann\t\t0.857\r\n",
      "-----------------------------------------------------\r\n",
      "cc_onco1189.ann\t\t1.0\r\n",
      "-----------------------------------------------------\r\n",
      "cc_onco1194.ann\t\t1.0\r\n",
      "-----------------------------------------------------\r\n",
      "cc_onco1198.ann\t\t1.0\r\n",
      "-----------------------------------------------------\r\n",
      "cc_onco1199.ann\t\t1.0\r\n",
      "-----------------------------------------------------\r\n",
      "cc_onco1201.ann\t\t0.846\r\n",
      "-----------------------------------------------------\r\n",
      "cc_onco1203.ann\t\t1.0\r\n",
      "-----------------------------------------------------\r\n",
      "cc_onco1208.ann\t\t1.0\r\n",
      "-----------------------------------------------------\r\n",
      "cc_onco1211.ann\t\t1.0\r\n",
      "-----------------------------------------------------\r\n",
      "cc_onco1215.ann\t\t1.0\r\n",
      "-----------------------------------------------------\r\n",
      "cc_onco1217.ann\t\t1.0\r\n",
      "-----------------------------------------------------\r\n",
      "cc_onco1218.ann\t\t0.857\r\n",
      "-----------------------------------------------------\r\n",
      "cc_onco1221.ann\t\t1.0\r\n",
      "-----------------------------------------------------\r\n",
      "cc_onco1222.ann\t\t0.667\r\n",
      "-----------------------------------------------------\r\n",
      "cc_onco1225.ann\t\t0.667\r\n",
      "-----------------------------------------------------\r\n",
      "cc_onco1226.ann\t\t1.0\r\n",
      "-----------------------------------------------------\r\n",
      "cc_onco1227.ann\t\t1.0\r\n",
      "-----------------------------------------------------\r\n",
      "cc_onco1228.ann\t\t1.0\r\n",
      "-----------------------------------------------------\r\n",
      "cc_onco1229.ann\t\t1.0\r\n",
      "-----------------------------------------------------\r\n",
      "cc_onco1230.ann\t\t1.0\r\n",
      "-----------------------------------------------------\r\n",
      "cc_onco1232.ann\t\t1.0\r\n",
      "-----------------------------------------------------\r\n",
      "cc_onco1234.ann\t\t1.0\r\n",
      "-----------------------------------------------------\r\n",
      "cc_onco1235.ann\t\t1.0\r\n",
      "-----------------------------------------------------\r\n",
      "cc_onco1236.ann\t\t1.0\r\n",
      "-----------------------------------------------------\r\n",
      "cc_onco1237.ann\t\t1.0\r\n",
      "-----------------------------------------------------\r\n",
      "cc_onco1239.ann\t\t1.0\r\n",
      "-----------------------------------------------------\r\n",
      "cc_onco1241.ann\t\t1.0\r\n",
      "-----------------------------------------------------\r\n",
      "cc_onco1245.ann\t\t1.0\r\n",
      "-----------------------------------------------------\r\n",
      "cc_onco1253.ann\t\t1.0\r\n",
      "-----------------------------------------------------\r\n",
      "cc_onco1254.ann\t\t0.786\r\n",
      "-----------------------------------------------------\r\n",
      "cc_onco1255.ann\t\t1.0\r\n",
      "-----------------------------------------------------\r\n",
      "cc_onco1256.ann\t\t1.0\r\n",
      "-----------------------------------------------------\r\n",
      "cc_onco1257.ann\t\t1.0\r\n",
      "-----------------------------------------------------\r\n",
      "cc_onco1258.ann\t\t0.929\r\n",
      "-----------------------------------------------------\r\n",
      "cc_onco1260.ann\t\t1.0\r\n",
      "-----------------------------------------------------\r\n",
      "cc_onco1262.ann\t\t1.0\r\n",
      "-----------------------------------------------------\r\n",
      "cc_onco1264.ann\t\t1.0\r\n",
      "-----------------------------------------------------\r\n",
      "cc_onco1267.ann\t\t1.0\r\n",
      "-----------------------------------------------------\r\n",
      "cc_onco1271.ann\t\t1.0\r\n",
      "-----------------------------------------------------\r\n",
      "cc_onco1272.ann\t\t1.0\r\n",
      "-----------------------------------------------------\r\n",
      "cc_onco1273.ann\t\t1.0\r\n",
      "-----------------------------------------------------\r\n",
      "cc_onco1275.ann\t\t0.833\r\n",
      "-----------------------------------------------------\r\n",
      "cc_onco1276.ann\t\t1.0\r\n",
      "-----------------------------------------------------\r\n",
      "cc_onco1277.ann\t\t1.0\r\n",
      "-----------------------------------------------------\r\n",
      "cc_onco1280.ann\t\t1.0\r\n",
      "-----------------------------------------------------\r\n",
      "cc_onco1283.ann\t\t0.947\r\n",
      "-----------------------------------------------------\r\n",
      "cc_onco1286.ann\t\t1.0\r\n",
      "-----------------------------------------------------\r\n",
      "cc_onco1293.ann\t\t1.0\r\n",
      "-----------------------------------------------------\r\n",
      "cc_onco1295.ann\t\t1.0\r\n",
      "-----------------------------------------------------\r\n",
      "cc_onco1296.ann\t\t0.941\r\n",
      "-----------------------------------------------------\r\n",
      "cc_onco1304.ann\t\t1.0\r\n",
      "-----------------------------------------------------\r\n",
      "cc_onco1307.ann\t\t1.0\r\n",
      "-----------------------------------------------------\r\n",
      "cc_onco1308.ann\t\t1.0\r\n",
      "-----------------------------------------------------\r\n",
      "cc_onco1311.ann\t\t0.909\r\n",
      "-----------------------------------------------------\r\n",
      "cc_onco1312.ann\t\t1.0\r\n",
      "-----------------------------------------------------\r\n",
      "cc_onco1314.ann\t\t1.0\r\n",
      "-----------------------------------------------------\r\n",
      "cc_onco1315.ann\t\t1.0\r\n",
      "-----------------------------------------------------\r\n",
      "cc_onco1317.ann\t\t1.0\r\n",
      "-----------------------------------------------------\r\n",
      "cc_onco1318.ann\t\t1.0\r\n",
      "-----------------------------------------------------\r\n",
      "cc_onco1319.ann\t\t1.0\r\n",
      "-----------------------------------------------------\r\n",
      "cc_onco1320.ann\t\t1.0\r\n",
      "-----------------------------------------------------\r\n",
      "cc_onco1323.ann\t\t1.0\r\n",
      "-----------------------------------------------------\r\n",
      "cc_onco1324.ann\t\t1.0\r\n",
      "-----------------------------------------------------\r\n",
      "cc_onco1325.ann\t\t0.917\r\n",
      "-----------------------------------------------------\r\n",
      "cc_onco1326.ann\t\t1.0\r\n",
      "-----------------------------------------------------\r\n",
      "cc_onco1328.ann\t\t1.0\r\n",
      "-----------------------------------------------------\r\n",
      "cc_onco1329.ann\t\t1.0\r\n",
      "-----------------------------------------------------\r\n",
      "cc_onco1330.ann\t\t1.0\r\n",
      "-----------------------------------------------------\r\n",
      "cc_onco1331.ann\t\t0.875\r\n",
      "-----------------------------------------------------\r\n",
      "cc_onco1333.ann\t\t1.0\r\n",
      "-----------------------------------------------------\r\n",
      "cc_onco1336.ann\t\t1.0\r\n",
      "-----------------------------------------------------\r\n",
      "cc_onco1337.ann\t\t1.0\r\n",
      "-----------------------------------------------------\r\n",
      "cc_onco1338.ann\t\t1.0\r\n",
      "-----------------------------------------------------\r\n",
      "cc_onco1339.ann\t\t1.0\r\n",
      "-----------------------------------------------------\r\n",
      "cc_onco1340.ann\t\t1.0\r\n",
      "-----------------------------------------------------\r\n",
      "cc_onco1350.ann\t\t1.0\r\n",
      "-----------------------------------------------------\r\n",
      "cc_onco1351.ann\t\t1.0\r\n",
      "-----------------------------------------------------\r\n",
      "cc_onco1353.ann\t\t1.0\r\n",
      "-----------------------------------------------------\r\n",
      "cc_onco1354.ann\t\t0.938\r\n",
      "-----------------------------------------------------\r\n",
      "cc_onco1355.ann\t\t1.0\r\n",
      "-----------------------------------------------------\r\n",
      "cc_onco1356.ann\t\t1.0\r\n",
      "-----------------------------------------------------\r\n",
      "cc_onco1358.ann\t\t0.9\r\n",
      "-----------------------------------------------------\r\n",
      "cc_onco1359.ann\t\t1.0\r\n",
      "-----------------------------------------------------\r\n",
      "cc_onco1361.ann\t\t1.0\r\n",
      "-----------------------------------------------------\r\n",
      "cc_onco1363.ann\t\t1.0\r\n",
      "-----------------------------------------------------\r\n",
      "cc_onco1368.ann\t\t0.917\r\n",
      "-----------------------------------------------------\r\n",
      "cc_onco1371.ann\t\t1.0\r\n",
      "-----------------------------------------------------\r\n",
      "cc_onco1373.ann\t\t1.0\r\n",
      "-----------------------------------------------------\r\n",
      "cc_onco1376.ann\t\t1.0\r\n",
      "-----------------------------------------------------\r\n",
      "cc_onco1377.ann\t\t1.0\r\n",
      "-----------------------------------------------------\r\n",
      "cc_onco1382.ann\t\t1.0\r\n",
      "-----------------------------------------------------\r\n",
      "cc_onco1383.ann\t\t1.0\r\n",
      "-----------------------------------------------------\r\n",
      "cc_onco1384.ann\t\t1.0\r\n",
      "-----------------------------------------------------\r\n",
      "cc_onco1387.ann\t\t1.0\r\n",
      "-----------------------------------------------------\r\n",
      "cc_onco1388.ann\t\t0.667\r\n",
      "-----------------------------------------------------\r\n",
      "cc_onco1390.ann\t\t1.0\r\n",
      "-----------------------------------------------------\r\n",
      "cc_onco1391.ann\t\t1.0\r\n",
      "-----------------------------------------------------\r\n",
      "cc_onco1392.ann\t\t1.0\r\n",
      "-----------------------------------------------------\r\n",
      "cc_onco1393.ann\t\t1.0\r\n",
      "-----------------------------------------------------\r\n",
      "cc_onco1397.ann\t\t0.889\r\n",
      "-----------------------------------------------------\r\n",
      "cc_onco1402.ann\t\t1.0\r\n",
      "-----------------------------------------------------\r\n",
      "cc_onco1404.ann\t\t1.0\r\n",
      "-----------------------------------------------------\r\n",
      "cc_onco1405.ann\t\t1.0\r\n",
      "-----------------------------------------------------\r\n",
      "cc_onco1412.ann\t\t1.0\r\n",
      "-----------------------------------------------------\r\n",
      "cc_onco1415.ann\t\t1.0\r\n",
      "-----------------------------------------------------\r\n",
      "cc_onco1418.ann\t\t1.0\r\n",
      "-----------------------------------------------------\r\n",
      "cc_onco1419.ann\t\t0.917\r\n",
      "-----------------------------------------------------\r\n",
      "cc_onco1420.ann\t\t1.0\r\n",
      "-----------------------------------------------------\r\n",
      "cc_onco1424.ann\t\t1.0\r\n",
      "-----------------------------------------------------\r\n",
      "cc_onco1427.ann\t\t0.7\r\n",
      "-----------------------------------------------------\r\n",
      "cc_onco1428.ann\t\t1.0\r\n",
      "-----------------------------------------------------\r\n",
      "cc_onco1429.ann\t\t1.0\r\n",
      "-----------------------------------------------------\r\n",
      "cc_onco1432.ann\t\t0.933\r\n",
      "-----------------------------------------------------\r\n",
      "cc_onco1435.ann\t\t1.0\r\n",
      "-----------------------------------------------------\r\n",
      "cc_onco1437.ann\t\t1.0\r\n",
      "-----------------------------------------------------\r\n",
      "cc_onco1438.ann\t\t1.0\r\n",
      "-----------------------------------------------------\r\n",
      "cc_onco1444.ann\t\t1.0\r\n",
      "-----------------------------------------------------\r\n",
      "cc_onco1448.ann\t\t1.0\r\n",
      "-----------------------------------------------------\r\n",
      "cc_onco1449.ann\t\t1.0\r\n",
      "-----------------------------------------------------\r\n",
      "cc_onco1451.ann\t\t1.0\r\n",
      "-----------------------------------------------------\r\n",
      "cc_onco1459.ann\t\t1.0\r\n",
      "-----------------------------------------------------\r\n",
      "cc_onco1461.ann\t\t1.0\r\n",
      "-----------------------------------------------------\r\n",
      "cc_onco1462.ann\t\t1.0\r\n",
      "-----------------------------------------------------\r\n",
      "cc_onco1463.ann\t\t1.0\r\n",
      "-----------------------------------------------------\r\n",
      "cc_onco1467.ann\t\t1.0\r\n",
      "-----------------------------------------------------\r\n",
      "cc_onco1474.ann\t\t1.0\r\n",
      "-----------------------------------------------------\r\n",
      "cc_onco1475.ann\t\t0.5\r\n",
      "-----------------------------------------------------\r\n",
      "cc_onco1478.ann\t\t1.0\r\n",
      "-----------------------------------------------------\r\n",
      "cc_onco1482.ann\t\t1.0\r\n",
      "-----------------------------------------------------\r\n",
      "cc_onco1484.ann\t\t1.0\r\n",
      "-----------------------------------------------------\r\n",
      "cc_onco1487.ann\t\t1.0\r\n",
      "-----------------------------------------------------\r\n",
      "cc_onco1488.ann\t\t1.0\r\n",
      "-----------------------------------------------------\r\n",
      "cc_onco1490.ann\t\t1.0\r\n",
      "-----------------------------------------------------\r\n",
      "cc_onco1492.ann\t\t1.0\r\n",
      "-----------------------------------------------------\r\n",
      "cc_onco1494.ann\t\t0.97\r\n",
      "-----------------------------------------------------\r\n",
      "cc_onco1495.ann\t\t1.0\r\n",
      "-----------------------------------------------------\r\n",
      "cc_onco1497.ann\t\t1.0\r\n",
      "-----------------------------------------------------\r\n",
      "cc_onco1500.ann\t\t1.0\r\n",
      "-----------------------------------------------------\r\n",
      "cc_onco282.ann\t\t1.0\r\n",
      "-----------------------------------------------------\r\n",
      "cc_onco437.ann\t\t1.0\r\n",
      "-----------------------------------------------------\r\n",
      "cc_onco639.ann\t\t1.0\r\n",
      "-----------------------------------------------------\r\n",
      "cc_onco645.ann\t\t1.0\r\n",
      "-----------------------------------------------------\r\n",
      "cc_onco65.ann\t\t1.0\r\n",
      "-----------------------------------------------------\r\n",
      "cc_onco657.ann\t\t1.0\r\n",
      "-----------------------------------------------------\r\n",
      "cc_onco691.ann\t\t1.0\r\n",
      "-----------------------------------------------------\r\n",
      "cc_onco734.ann\t\t1.0\r\n",
      "-----------------------------------------------------\r\n",
      "cc_onco735.ann\t\t1.0\r\n",
      "-----------------------------------------------------\r\n",
      "cc_onco751.ann\t\t1.0\r\n",
      "-----------------------------------------------------\r\n",
      "cc_onco874.ann\t\t1.0\r\n",
      "-----------------------------------------------------\r\n",
      "cc_onco898.ann\t\t1.0\r\n",
      "-----------------------------------------------------\r\n",
      "cc_onco945.ann\t\t0.923\r\n",
      "-----------------------------------------------------\r\n",
      "cc_onco994.ann\t\t1.0\r\n",
      "-----------------------------------------------------\r\n",
      "\r\n",
      "-----------------------------------------------------\r\n",
      "Clinical case name\t\t\tF-score\r\n",
      "-----------------------------------------------------\r\n",
      "cc_onco1001.ann\t\t1.0\r\n",
      "-----------------------------------------------------\r\n",
      "cc_onco1007.ann\t\t1.0\r\n",
      "-----------------------------------------------------\r\n",
      "cc_onco1008.ann\t\t1.0\r\n",
      "-----------------------------------------------------\r\n",
      "cc_onco1009.ann\t\t1.0\r\n",
      "-----------------------------------------------------\r\n",
      "cc_onco1010.ann\t\t1.0\r\n",
      "-----------------------------------------------------\r\n",
      "cc_onco1011.ann\t\t0.96\r\n",
      "-----------------------------------------------------\r\n",
      "cc_onco1012.ann\t\t0.966\r\n",
      "-----------------------------------------------------\r\n",
      "cc_onco1014.ann\t\t1.0\r\n",
      "-----------------------------------------------------\r\n",
      "cc_onco1016.ann\t\t1.0\r\n",
      "-----------------------------------------------------\r\n",
      "cc_onco1018.ann\t\t1.0\r\n",
      "-----------------------------------------------------\r\n",
      "cc_onco1019.ann\t\t0.933\r\n",
      "-----------------------------------------------------\r\n",
      "cc_onco1020.ann\t\t1.0\r\n",
      "-----------------------------------------------------\r\n",
      "cc_onco1021.ann\t\t1.0\r\n",
      "-----------------------------------------------------\r\n",
      "cc_onco1022.ann\t\t1.0\r\n",
      "-----------------------------------------------------\r\n",
      "cc_onco1025.ann\t\t0.957\r\n",
      "-----------------------------------------------------\r\n",
      "cc_onco1028.ann\t\t1.0\r\n",
      "-----------------------------------------------------\r\n",
      "cc_onco1031.ann\t\t1.0\r\n",
      "-----------------------------------------------------\r\n",
      "cc_onco1032.ann\t\t1.0\r\n",
      "-----------------------------------------------------\r\n",
      "cc_onco1033.ann\t\t1.0\r\n",
      "-----------------------------------------------------\r\n",
      "cc_onco1034.ann\t\t1.0\r\n",
      "-----------------------------------------------------\r\n",
      "cc_onco1035.ann\t\t1.0\r\n",
      "-----------------------------------------------------\r\n",
      "cc_onco1036.ann\t\t1.0\r\n",
      "-----------------------------------------------------\r\n",
      "cc_onco1041.ann\t\t1.0\r\n",
      "-----------------------------------------------------\r\n",
      "cc_onco1042.ann\t\t1.0\r\n",
      "-----------------------------------------------------\r\n",
      "cc_onco1043.ann\t\t1.0\r\n",
      "-----------------------------------------------------\r\n",
      "cc_onco1045.ann\t\t1.0\r\n",
      "-----------------------------------------------------\r\n",
      "cc_onco1047.ann\t\t1.0\r\n",
      "-----------------------------------------------------\r\n",
      "cc_onco1048.ann\t\t1.0\r\n",
      "-----------------------------------------------------\r\n",
      "cc_onco1049.ann\t\t1.0\r\n",
      "-----------------------------------------------------\r\n",
      "cc_onco1052.ann\t\t1.0\r\n",
      "-----------------------------------------------------\r\n",
      "cc_onco1054.ann\t\t1.0\r\n",
      "-----------------------------------------------------\r\n",
      "cc_onco1055.ann\t\t0.941\r\n",
      "-----------------------------------------------------\r\n",
      "cc_onco1058.ann\t\t1.0\r\n",
      "-----------------------------------------------------\r\n",
      "cc_onco1061.ann\t\t1.0\r\n",
      "-----------------------------------------------------\r\n",
      "cc_onco1062.ann\t\t1.0\r\n",
      "-----------------------------------------------------\r\n",
      "cc_onco1063.ann\t\t1.0\r\n",
      "-----------------------------------------------------\r\n",
      "cc_onco1067.ann\t\t1.0\r\n",
      "-----------------------------------------------------\r\n",
      "cc_onco1068.ann\t\t1.0\r\n",
      "-----------------------------------------------------\r\n",
      "cc_onco1069.ann\t\t1.0\r\n",
      "-----------------------------------------------------\r\n",
      "cc_onco1070.ann\t\t1.0\r\n",
      "-----------------------------------------------------\r\n",
      "cc_onco1071.ann\t\t1.0\r\n",
      "-----------------------------------------------------\r\n",
      "cc_onco1072.ann\t\t1.0\r\n",
      "-----------------------------------------------------\r\n",
      "cc_onco1073.ann\t\t1.0\r\n",
      "-----------------------------------------------------\r\n",
      "cc_onco1074.ann\t\t1.0\r\n",
      "-----------------------------------------------------\r\n",
      "cc_onco1076.ann\t\t1.0\r\n",
      "-----------------------------------------------------\r\n",
      "cc_onco1077.ann\t\t0.981\r\n",
      "-----------------------------------------------------\r\n",
      "cc_onco1079.ann\t\t1.0\r\n",
      "-----------------------------------------------------\r\n",
      "cc_onco1088.ann\t\t1.0\r\n",
      "-----------------------------------------------------\r\n",
      "cc_onco1089.ann\t\t1.0\r\n",
      "-----------------------------------------------------\r\n",
      "cc_onco1090.ann\t\t0.875\r\n",
      "-----------------------------------------------------\r\n",
      "cc_onco1091.ann\t\t1.0\r\n",
      "-----------------------------------------------------\r\n",
      "cc_onco1093.ann\t\t1.0\r\n",
      "-----------------------------------------------------\r\n",
      "cc_onco1094.ann\t\t1.0\r\n",
      "-----------------------------------------------------\r\n",
      "cc_onco1097.ann\t\t1.0\r\n",
      "-----------------------------------------------------\r\n",
      "cc_onco1098.ann\t\t1.0\r\n",
      "-----------------------------------------------------\r\n",
      "cc_onco1101.ann\t\t0.977\r\n",
      "-----------------------------------------------------\r\n",
      "cc_onco1102.ann\t\t1.0\r\n",
      "-----------------------------------------------------\r\n",
      "cc_onco1104.ann\t\t1.0\r\n",
      "-----------------------------------------------------\r\n",
      "cc_onco1111.ann\t\t1.0\r\n",
      "-----------------------------------------------------\r\n",
      "cc_onco1115.ann\t\t1.0\r\n",
      "-----------------------------------------------------\r\n",
      "cc_onco1117.ann\t\t1.0\r\n",
      "-----------------------------------------------------\r\n",
      "cc_onco1118.ann\t\t1.0\r\n",
      "-----------------------------------------------------\r\n",
      "cc_onco1121.ann\t\t1.0\r\n",
      "-----------------------------------------------------\r\n",
      "cc_onco1123.ann\t\t0.963\r\n",
      "-----------------------------------------------------\r\n",
      "cc_onco1124.ann\t\t0.976\r\n",
      "-----------------------------------------------------\r\n",
      "cc_onco1127.ann\t\t1.0\r\n",
      "-----------------------------------------------------\r\n",
      "cc_onco1130.ann\t\t1.0\r\n",
      "-----------------------------------------------------\r\n",
      "cc_onco1131.ann\t\t1.0\r\n",
      "-----------------------------------------------------\r\n",
      "cc_onco1132.ann\t\t0.909\r\n",
      "-----------------------------------------------------\r\n",
      "cc_onco1133.ann\t\t1.0\r\n",
      "-----------------------------------------------------\r\n",
      "cc_onco1137.ann\t\t1.0\r\n",
      "-----------------------------------------------------\r\n",
      "cc_onco1138.ann\t\t1.0\r\n",
      "-----------------------------------------------------\r\n",
      "cc_onco1141.ann\t\t0.97\r\n",
      "-----------------------------------------------------\r\n",
      "cc_onco1142.ann\t\t1.0\r\n",
      "-----------------------------------------------------\r\n",
      "cc_onco1143.ann\t\t1.0\r\n",
      "-----------------------------------------------------\r\n",
      "cc_onco1145.ann\t\t1.0\r\n",
      "-----------------------------------------------------\r\n",
      "cc_onco1147.ann\t\t1.0\r\n",
      "-----------------------------------------------------\r\n",
      "cc_onco1150.ann\t\t1.0\r\n",
      "-----------------------------------------------------\r\n",
      "cc_onco1151.ann\t\t1.0\r\n",
      "-----------------------------------------------------\r\n",
      "cc_onco1152.ann\t\t1.0\r\n",
      "-----------------------------------------------------\r\n",
      "cc_onco1154.ann\t\t1.0\r\n",
      "-----------------------------------------------------\r\n",
      "cc_onco1159.ann\t\t1.0\r\n",
      "-----------------------------------------------------\r\n",
      "cc_onco1163.ann\t\t1.0\r\n",
      "-----------------------------------------------------\r\n",
      "cc_onco1164.ann\t\t0.98\r\n",
      "-----------------------------------------------------\r\n",
      "cc_onco1166.ann\t\t0.957\r\n",
      "-----------------------------------------------------\r\n",
      "cc_onco1168.ann\t\t1.0\r\n",
      "-----------------------------------------------------\r\n",
      "cc_onco1170.ann\t\t1.0\r\n",
      "-----------------------------------------------------\r\n",
      "cc_onco1171.ann\t\t1.0\r\n",
      "-----------------------------------------------------\r\n",
      "cc_onco1172.ann\t\t1.0\r\n",
      "-----------------------------------------------------\r\n",
      "cc_onco1173.ann\t\t0.947\r\n",
      "-----------------------------------------------------\r\n",
      "cc_onco1175.ann\t\t1.0\r\n",
      "-----------------------------------------------------\r\n",
      "cc_onco1177.ann\t\t1.0\r\n",
      "-----------------------------------------------------\r\n",
      "cc_onco1179.ann\t\t0.97\r\n",
      "-----------------------------------------------------\r\n",
      "cc_onco1181.ann\t\t0.933\r\n",
      "-----------------------------------------------------\r\n",
      "cc_onco1183.ann\t\t1.0\r\n",
      "-----------------------------------------------------\r\n",
      "cc_onco1184.ann\t\t1.0\r\n",
      "-----------------------------------------------------\r\n",
      "cc_onco1186.ann\t\t1.0\r\n",
      "-----------------------------------------------------\r\n",
      "cc_onco1187.ann\t\t1.0\r\n",
      "-----------------------------------------------------\r\n",
      "cc_onco1188.ann\t\t0.923\r\n",
      "-----------------------------------------------------\r\n",
      "cc_onco1189.ann\t\t1.0\r\n",
      "-----------------------------------------------------\r\n",
      "cc_onco1194.ann\t\t1.0\r\n",
      "-----------------------------------------------------\r\n",
      "cc_onco1198.ann\t\t1.0\r\n",
      "-----------------------------------------------------\r\n",
      "cc_onco1199.ann\t\t1.0\r\n",
      "-----------------------------------------------------\r\n",
      "cc_onco1201.ann\t\t0.917\r\n",
      "-----------------------------------------------------\r\n",
      "cc_onco1203.ann\t\t1.0\r\n",
      "-----------------------------------------------------\r\n",
      "cc_onco1208.ann\t\t1.0\r\n",
      "-----------------------------------------------------\r\n",
      "cc_onco1211.ann\t\t1.0\r\n",
      "-----------------------------------------------------\r\n",
      "cc_onco1215.ann\t\t1.0\r\n",
      "-----------------------------------------------------\r\n",
      "cc_onco1217.ann\t\t1.0\r\n",
      "-----------------------------------------------------\r\n",
      "cc_onco1218.ann\t\t0.923\r\n",
      "-----------------------------------------------------\r\n",
      "cc_onco1221.ann\t\t1.0\r\n",
      "-----------------------------------------------------\r\n",
      "cc_onco1222.ann\t\t0.8\r\n",
      "-----------------------------------------------------\r\n",
      "cc_onco1225.ann\t\t0.571\r\n",
      "-----------------------------------------------------\r\n",
      "cc_onco1226.ann\t\t1.0\r\n",
      "-----------------------------------------------------\r\n",
      "cc_onco1227.ann\t\t1.0\r\n",
      "-----------------------------------------------------\r\n",
      "cc_onco1228.ann\t\t1.0\r\n",
      "-----------------------------------------------------\r\n",
      "cc_onco1229.ann\t\t1.0\r\n",
      "-----------------------------------------------------\r\n",
      "cc_onco1230.ann\t\t1.0\r\n",
      "-----------------------------------------------------\r\n",
      "cc_onco1232.ann\t\t1.0\r\n",
      "-----------------------------------------------------\r\n",
      "cc_onco1234.ann\t\t1.0\r\n",
      "-----------------------------------------------------\r\n",
      "cc_onco1235.ann\t\t1.0\r\n",
      "-----------------------------------------------------\r\n",
      "cc_onco1236.ann\t\t1.0\r\n",
      "-----------------------------------------------------\r\n",
      "cc_onco1237.ann\t\t1.0\r\n",
      "-----------------------------------------------------\r\n",
      "cc_onco1239.ann\t\t1.0\r\n",
      "-----------------------------------------------------\r\n",
      "cc_onco1241.ann\t\t1.0\r\n",
      "-----------------------------------------------------\r\n",
      "cc_onco1245.ann\t\t1.0\r\n",
      "-----------------------------------------------------\r\n",
      "cc_onco1253.ann\t\t1.0\r\n",
      "-----------------------------------------------------\r\n",
      "cc_onco1254.ann\t\t0.846\r\n",
      "-----------------------------------------------------\r\n",
      "cc_onco1255.ann\t\t1.0\r\n",
      "-----------------------------------------------------\r\n",
      "cc_onco1256.ann\t\t1.0\r\n",
      "-----------------------------------------------------\r\n",
      "cc_onco1257.ann\t\t1.0\r\n",
      "-----------------------------------------------------\r\n",
      "cc_onco1258.ann\t\t0.963\r\n",
      "-----------------------------------------------------\r\n",
      "cc_onco1260.ann\t\t1.0\r\n",
      "-----------------------------------------------------\r\n",
      "cc_onco1262.ann\t\t1.0\r\n",
      "-----------------------------------------------------\r\n",
      "cc_onco1264.ann\t\t1.0\r\n",
      "-----------------------------------------------------\r\n",
      "cc_onco1267.ann\t\t1.0\r\n",
      "-----------------------------------------------------\r\n",
      "cc_onco1271.ann\t\t1.0\r\n",
      "-----------------------------------------------------\r\n",
      "cc_onco1272.ann\t\t1.0\r\n",
      "-----------------------------------------------------\r\n",
      "cc_onco1273.ann\t\t1.0\r\n",
      "-----------------------------------------------------\r\n",
      "cc_onco1275.ann\t\t0.833\r\n",
      "-----------------------------------------------------\r\n",
      "cc_onco1276.ann\t\t1.0\r\n",
      "-----------------------------------------------------\r\n",
      "cc_onco1277.ann\t\t1.0\r\n",
      "-----------------------------------------------------\r\n",
      "cc_onco1280.ann\t\t1.0\r\n",
      "-----------------------------------------------------\r\n",
      "cc_onco1283.ann\t\t0.973\r\n",
      "-----------------------------------------------------\r\n",
      "cc_onco1286.ann\t\t1.0\r\n",
      "-----------------------------------------------------\r\n",
      "cc_onco1293.ann\t\t1.0\r\n",
      "-----------------------------------------------------\r\n",
      "cc_onco1295.ann\t\t1.0\r\n",
      "-----------------------------------------------------\r\n",
      "cc_onco1296.ann\t\t0.97\r\n",
      "-----------------------------------------------------\r\n",
      "cc_onco1304.ann\t\t1.0\r\n",
      "-----------------------------------------------------\r\n",
      "cc_onco1307.ann\t\t1.0\r\n",
      "-----------------------------------------------------\r\n",
      "cc_onco1308.ann\t\t1.0\r\n",
      "-----------------------------------------------------\r\n",
      "cc_onco1311.ann\t\t0.952\r\n",
      "-----------------------------------------------------\r\n",
      "cc_onco1312.ann\t\t1.0\r\n",
      "-----------------------------------------------------\r\n",
      "cc_onco1314.ann\t\t1.0\r\n",
      "-----------------------------------------------------\r\n",
      "cc_onco1315.ann\t\t1.0\r\n",
      "-----------------------------------------------------\r\n",
      "cc_onco1317.ann\t\t1.0\r\n",
      "-----------------------------------------------------\r\n",
      "cc_onco1318.ann\t\t1.0\r\n",
      "-----------------------------------------------------\r\n",
      "cc_onco1319.ann\t\t1.0\r\n",
      "-----------------------------------------------------\r\n",
      "cc_onco1320.ann\t\t1.0\r\n",
      "-----------------------------------------------------\r\n",
      "cc_onco1323.ann\t\t1.0\r\n",
      "-----------------------------------------------------\r\n",
      "cc_onco1324.ann\t\t1.0\r\n",
      "-----------------------------------------------------\r\n",
      "cc_onco1325.ann\t\t0.957\r\n",
      "-----------------------------------------------------\r\n",
      "cc_onco1326.ann\t\t1.0\r\n",
      "-----------------------------------------------------\r\n",
      "cc_onco1328.ann\t\t1.0\r\n",
      "-----------------------------------------------------\r\n",
      "cc_onco1329.ann\t\t1.0\r\n",
      "-----------------------------------------------------\r\n",
      "cc_onco1330.ann\t\t1.0\r\n",
      "-----------------------------------------------------\r\n",
      "cc_onco1331.ann\t\t0.933\r\n",
      "-----------------------------------------------------\r\n",
      "cc_onco1333.ann\t\t1.0\r\n",
      "-----------------------------------------------------\r\n",
      "cc_onco1336.ann\t\t1.0\r\n",
      "-----------------------------------------------------\r\n",
      "cc_onco1337.ann\t\t1.0\r\n",
      "-----------------------------------------------------\r\n",
      "cc_onco1338.ann\t\t1.0\r\n",
      "-----------------------------------------------------\r\n",
      "cc_onco1339.ann\t\t1.0\r\n",
      "-----------------------------------------------------\r\n",
      "cc_onco1340.ann\t\t1.0\r\n",
      "-----------------------------------------------------\r\n",
      "cc_onco1350.ann\t\t1.0\r\n",
      "-----------------------------------------------------\r\n",
      "cc_onco1351.ann\t\t1.0\r\n",
      "-----------------------------------------------------\r\n",
      "cc_onco1353.ann\t\t1.0\r\n",
      "-----------------------------------------------------\r\n",
      "cc_onco1354.ann\t\t0.968\r\n",
      "-----------------------------------------------------\r\n",
      "cc_onco1355.ann\t\t1.0\r\n",
      "-----------------------------------------------------\r\n",
      "cc_onco1356.ann\t\t1.0\r\n",
      "-----------------------------------------------------\r\n",
      "cc_onco1358.ann\t\t0.947\r\n",
      "-----------------------------------------------------\r\n",
      "cc_onco1359.ann\t\t1.0\r\n",
      "-----------------------------------------------------\r\n",
      "cc_onco1361.ann\t\t1.0\r\n",
      "-----------------------------------------------------\r\n",
      "cc_onco1363.ann\t\t1.0\r\n",
      "-----------------------------------------------------\r\n",
      "cc_onco1368.ann\t\t0.957\r\n",
      "-----------------------------------------------------\r\n",
      "cc_onco1371.ann\t\t1.0\r\n",
      "-----------------------------------------------------\r\n",
      "cc_onco1373.ann\t\t1.0\r\n",
      "-----------------------------------------------------\r\n",
      "cc_onco1376.ann\t\t1.0\r\n",
      "-----------------------------------------------------\r\n",
      "cc_onco1377.ann\t\t1.0\r\n",
      "-----------------------------------------------------\r\n",
      "cc_onco1382.ann\t\t1.0\r\n",
      "-----------------------------------------------------\r\n",
      "cc_onco1383.ann\t\t1.0\r\n",
      "-----------------------------------------------------\r\n",
      "cc_onco1384.ann\t\t1.0\r\n",
      "-----------------------------------------------------\r\n",
      "cc_onco1387.ann\t\t1.0\r\n",
      "-----------------------------------------------------\r\n",
      "cc_onco1388.ann\t\t0.8\r\n",
      "-----------------------------------------------------\r\n",
      "cc_onco1390.ann\t\t1.0\r\n",
      "-----------------------------------------------------\r\n",
      "cc_onco1391.ann\t\t1.0\r\n",
      "-----------------------------------------------------\r\n",
      "cc_onco1392.ann\t\t1.0\r\n",
      "-----------------------------------------------------\r\n",
      "cc_onco1393.ann\t\t1.0\r\n",
      "-----------------------------------------------------\r\n",
      "cc_onco1397.ann\t\t0.889\r\n",
      "-----------------------------------------------------\r\n",
      "cc_onco1402.ann\t\t1.0\r\n",
      "-----------------------------------------------------\r\n",
      "cc_onco1404.ann\t\t1.0\r\n",
      "-----------------------------------------------------\r\n",
      "cc_onco1405.ann\t\t1.0\r\n",
      "-----------------------------------------------------\r\n",
      "cc_onco1412.ann\t\t1.0\r\n",
      "-----------------------------------------------------\r\n",
      "cc_onco1415.ann\t\t1.0\r\n",
      "-----------------------------------------------------\r\n",
      "cc_onco1418.ann\t\t1.0\r\n",
      "-----------------------------------------------------\r\n",
      "cc_onco1419.ann\t\t0.957\r\n",
      "-----------------------------------------------------\r\n",
      "cc_onco1420.ann\t\t1.0\r\n",
      "-----------------------------------------------------\r\n",
      "cc_onco1424.ann\t\t1.0\r\n",
      "-----------------------------------------------------\r\n",
      "cc_onco1427.ann\t\t0.7\r\n",
      "-----------------------------------------------------\r\n",
      "cc_onco1428.ann\t\t1.0\r\n",
      "-----------------------------------------------------\r\n",
      "cc_onco1429.ann\t\t1.0\r\n",
      "-----------------------------------------------------\r\n",
      "cc_onco1432.ann\t\t0.966\r\n",
      "-----------------------------------------------------\r\n",
      "cc_onco1435.ann\t\t1.0\r\n",
      "-----------------------------------------------------\r\n",
      "cc_onco1437.ann\t\t1.0\r\n",
      "-----------------------------------------------------\r\n",
      "cc_onco1438.ann\t\t1.0\r\n",
      "-----------------------------------------------------\r\n",
      "cc_onco1444.ann\t\t1.0\r\n",
      "-----------------------------------------------------\r\n",
      "cc_onco1448.ann\t\t1.0\r\n",
      "-----------------------------------------------------\r\n",
      "cc_onco1449.ann\t\t1.0\r\n",
      "-----------------------------------------------------\r\n",
      "cc_onco1451.ann\t\t1.0\r\n",
      "-----------------------------------------------------\r\n",
      "cc_onco1459.ann\t\t1.0\r\n",
      "-----------------------------------------------------\r\n",
      "cc_onco1461.ann\t\t1.0\r\n",
      "-----------------------------------------------------\r\n",
      "cc_onco1462.ann\t\t1.0\r\n",
      "-----------------------------------------------------\r\n",
      "cc_onco1463.ann\t\t1.0\r\n",
      "-----------------------------------------------------\r\n",
      "cc_onco1467.ann\t\t1.0\r\n",
      "-----------------------------------------------------\r\n",
      "cc_onco1474.ann\t\t1.0\r\n",
      "-----------------------------------------------------\r\n",
      "cc_onco1475.ann\t\t0.667\r\n",
      "-----------------------------------------------------\r\n",
      "cc_onco1478.ann\t\t1.0\r\n",
      "-----------------------------------------------------\r\n",
      "cc_onco1482.ann\t\t1.0\r\n",
      "-----------------------------------------------------\r\n",
      "cc_onco1484.ann\t\t1.0\r\n",
      "-----------------------------------------------------\r\n",
      "cc_onco1487.ann\t\t1.0\r\n",
      "-----------------------------------------------------\r\n",
      "cc_onco1488.ann\t\t1.0\r\n",
      "-----------------------------------------------------\r\n",
      "cc_onco1490.ann\t\t1.0\r\n",
      "-----------------------------------------------------\r\n",
      "cc_onco1492.ann\t\t1.0\r\n",
      "-----------------------------------------------------\r\n",
      "cc_onco1494.ann\t\t0.985\r\n",
      "-----------------------------------------------------\r\n",
      "cc_onco1495.ann\t\t1.0\r\n",
      "-----------------------------------------------------\r\n",
      "cc_onco1497.ann\t\t1.0\r\n",
      "-----------------------------------------------------\r\n",
      "cc_onco1500.ann\t\t1.0\r\n",
      "-----------------------------------------------------\r\n",
      "cc_onco282.ann\t\t1.0\r\n",
      "-----------------------------------------------------\r\n",
      "cc_onco437.ann\t\t1.0\r\n",
      "-----------------------------------------------------\r\n",
      "cc_onco639.ann\t\t1.0\r\n",
      "-----------------------------------------------------\r\n",
      "cc_onco645.ann\t\t1.0\r\n",
      "-----------------------------------------------------\r\n",
      "cc_onco65.ann\t\t1.0\r\n",
      "-----------------------------------------------------\r\n",
      "cc_onco657.ann\t\t1.0\r\n",
      "-----------------------------------------------------\r\n",
      "cc_onco691.ann\t\t1.0\r\n",
      "-----------------------------------------------------\r\n",
      "cc_onco734.ann\t\t1.0\r\n",
      "-----------------------------------------------------\r\n",
      "cc_onco735.ann\t\t1.0\r\n",
      "-----------------------------------------------------\r\n",
      "cc_onco751.ann\t\t1.0\r\n",
      "-----------------------------------------------------\r\n",
      "cc_onco874.ann\t\t1.0\r\n",
      "-----------------------------------------------------\r\n",
      "cc_onco898.ann\t\t1.0\r\n",
      "-----------------------------------------------------\r\n",
      "cc_onco945.ann\t\t0.96\r\n",
      "-----------------------------------------------------\r\n",
      "cc_onco994.ann\t\t1.0\r\n",
      "-----------------------------------------------------\r\n",
      "\r\n",
      "-----------------------------------------------------\r\n",
      "Micro-average metrics\r\n",
      "-----------------------------------------------------\r\n",
      "\r\n",
      "Micro-average precision = 0.996\r\n",
      "\r\n",
      "\r\n",
      "Micro-average recall = 0.981\r\n",
      "\r\n",
      "\r\n",
      "Micro-average F-score = 0.988\r\n",
      "\r\n",
      "./dev_preds/|0.996|0.981|0.988\r\n"
     ]
    },
    {
     "name": "stdout",
     "output_type": "stream",
     "text": [
      "CPU times: user 28.4 ms, sys: 18.9 ms, total: 47.3 ms\n",
      "Wall time: 988 ms\n"
     ]
    }
   ],
   "source": [
    "%%time\n",
    "!python ../resources/cantemist-evaluation-library/src/main.py -g ../datasets/cantemist_v6/dev-set2/cantemist-ner/ -p ./dev_preds/ -s ner "
   ]
  },
  {
   "cell_type": "markdown",
   "metadata": {},
   "source": [
    "## Test set predictions"
   ]
  },
  {
   "cell_type": "code",
   "execution_count": 106,
   "metadata": {},
   "outputs": [
    {
     "name": "stdout",
     "output_type": "stream",
     "text": [
      "CPU times: user 8.71 ms, sys: 0 ns, total: 8.71 ms\n",
      "Wall time: 7.92 ms\n"
     ]
    }
   ],
   "source": [
    "%%time\n",
    "test_path = corpus_path + \"test-set/\" + sub_task_path\n",
    "test_files = [f for f in os.listdir(test_path) if os.path.isfile(test_path + f) and f.split('.')[-1] == 'txt']\n",
    "test_data = load_text_files(test_files, test_path)\n",
    "df_text_test = pd.DataFrame({'doc_id': [s.split('.txt')[0] for s in test_files], 'raw_text': test_data})"
   ]
  },
  {
   "cell_type": "code",
   "execution_count": 107,
   "metadata": {},
   "outputs": [
    {
     "data": {
      "text/plain": [
       "(300, 2)"
      ]
     },
     "execution_count": 107,
     "metadata": {},
     "output_type": "execute_result"
    }
   ],
   "source": [
    "df_text_test.shape"
   ]
  },
  {
   "cell_type": "code",
   "execution_count": 108,
   "metadata": {},
   "outputs": [
    {
     "data": {
      "text/html": [
       "<div>\n",
       "<style scoped>\n",
       "    .dataframe tbody tr th:only-of-type {\n",
       "        vertical-align: middle;\n",
       "    }\n",
       "\n",
       "    .dataframe tbody tr th {\n",
       "        vertical-align: top;\n",
       "    }\n",
       "\n",
       "    .dataframe thead th {\n",
       "        text-align: right;\n",
       "    }\n",
       "</style>\n",
       "<table border=\"1\" class=\"dataframe\">\n",
       "  <thead>\n",
       "    <tr style=\"text-align: right;\">\n",
       "      <th></th>\n",
       "      <th>doc_id</th>\n",
       "      <th>raw_text</th>\n",
       "    </tr>\n",
       "  </thead>\n",
       "  <tbody>\n",
       "    <tr>\n",
       "      <th>0</th>\n",
       "      <td>cc_onco1446</td>\n",
       "      <td>Anamnesis\\nVarón de 70 años de edad, agriculto...</td>\n",
       "    </tr>\n",
       "    <tr>\n",
       "      <th>1</th>\n",
       "      <td>cc_onco629</td>\n",
       "      <td>Anamnesis\\nMujer de 57 años, sin alergias medi...</td>\n",
       "    </tr>\n",
       "    <tr>\n",
       "      <th>2</th>\n",
       "      <td>cc_onco624</td>\n",
       "      <td>Anamnesis\\nSe trata de un varón de 67 años sin...</td>\n",
       "    </tr>\n",
       "    <tr>\n",
       "      <th>3</th>\n",
       "      <td>cc_onco332</td>\n",
       "      <td>Anamnesis\\nVarón 54 años en la actualidad, sin...</td>\n",
       "    </tr>\n",
       "    <tr>\n",
       "      <th>4</th>\n",
       "      <td>cc_onco441</td>\n",
       "      <td>Anamnesis\\nVarón de 17 años, sin hermanos ni a...</td>\n",
       "    </tr>\n",
       "  </tbody>\n",
       "</table>\n",
       "</div>"
      ],
      "text/plain": [
       "        doc_id                                           raw_text\n",
       "0  cc_onco1446  Anamnesis\\nVarón de 70 años de edad, agriculto...\n",
       "1   cc_onco629  Anamnesis\\nMujer de 57 años, sin alergias medi...\n",
       "2   cc_onco624  Anamnesis\\nSe trata de un varón de 67 años sin...\n",
       "3   cc_onco332  Anamnesis\\nVarón 54 años en la actualidad, sin...\n",
       "4   cc_onco441  Anamnesis\\nVarón de 17 años, sin hermanos ni a..."
      ]
     },
     "execution_count": 108,
     "metadata": {},
     "output_type": "execute_result"
    }
   ],
   "source": [
    "df_text_test.head()"
   ]
  },
  {
   "cell_type": "code",
   "execution_count": 109,
   "metadata": {},
   "outputs": [
    {
     "data": {
      "text/plain": [
       "300"
      ]
     },
     "execution_count": 109,
     "metadata": {},
     "output_type": "execute_result"
    }
   ],
   "source": [
    "len(set(df_text_test['doc_id']))"
   ]
  },
  {
   "cell_type": "code",
   "execution_count": 110,
   "metadata": {},
   "outputs": [
    {
     "data": {
      "text/plain": [
       "'Anamnesis\\nVarón de 70 años de edad, agricultor, sin alergias y fumador de un paquete al día. Padeció brucelosis a los 40 años y bronquitis crónica en la actualidad. Intervenido en 1992 de colesteatoma izquierdo y sometido en 1998 a una mastoidectomía radical izquierda por mastoiditis con absceso cervical y cerebeloso provocado por persistencia de la enfermedad.\\nEn marzo de 2004 consultó por una ulceración en hemiescroto derecho de tres meses de evolución, realizándosele una resección del área afectada. La pieza presentaba un leiomiosarcoma con alto índice mitótico y borde de resección afecto positivo para actina de músculo liso y negativo para queratinas AE1-AE3, S100 y CD34. En mayo de 2004 se ampliaronmárgenes y, al no encontrarse afectación tumoral, el paciente continuó revisiones por el Servicio de Urología.\\nEn febrero de 2005, en el curso del estudio de un tumor deltoideo derecho de 9 cm que presentaba desde hacía ocho años y que parecía un neurofibroma o neurinoma por RM, se apreciaron en la radiografía de tórax nódulos pulmonares y derrame pleural en el hemitórax izquierdo. La TC torácica confirmaba un engrosamiento pleural izquierdo asociado a derrame loculado y la presencia de nódulos de 1 cm en el lóbulo superior izquierdo e inferior derecho sugerentes de metástasis y que se asumen como originadas por el leiomiosarcoma que padeció el año anterior.\\nEn abril de 2005 inició quimioterapia paliativa en régimen doxorrubicina 75 mg/m2 día 1 e IFX 2.500 mg/m2 días 1-3 cada 21 días. Tras el 1.er ciclo, ingresó por neutropenia febril grado IV. En el segundo reingresó por hematuria franca al segundo día de tratamiento, atribuida a una cistitis hemorrágica por IFX y que respondió adecuadamente al tratamiento con mesna 1.400 mg/4 horas. Al 4.º ciclo de tratamiento se apreció una respuesta radiológica parcial, con disminución del derrame pleural y del tamaño de los nódulos pulmonares.\\nFinalizado el 6.º ciclo, se remite al paciente a Urgencias por disminución severa del nivel de conciencia y mioclonías.\\n\\nExploración física\\nEl paciente presentaba un severo deterioro de conciencia, con ausencia de respuesta a estímulos dolorosos y mioclonías sin distribución específica.\\nNo se detectaron signos de focalidad a la exploración neurológica ni alteraciones en la exploración de cuello, auscultación cardiopulmonar, palpación abdominal o estudio de miembros inferiores. No se apreciaron convulsiones previas y la instauración fue subaguda a lo largo de 48 horas.\\n\\nPruebas complementarias\\nLa analítica realizada no reveló alteraciones en la fórmula hematológica ni alteraciones bioquímicas que justificaran un trastorno metabólico. Los niveles de glucosa, iones, así como de calcio y magnesio eran normales y tanto la función hepática como renal estaban conservadas. La TC cerebral no detectó lesiones ocupantes de espacio sugerentes de afectación tumoral o vascular. El paciente ingresa con sospecha de encefalopatía por IFX.\\n\\nDiagnóstico\\nEncefalopatía inducida por ifosfamida.\\n\\nTratamiento y evolución\\nSe instauró tratamiento con azul de metileno al 1% (50 mg diluidos en 100 cc de suero fisiológico a infundir en 15 minutos, cada 4 horas) y el paciente presentó una recuperación neurológica completa en 24 horas. Sin embargo, su estado general se deterioró días después, con la aparición de fiebre de origen respiratorio y probablemente asociada a aspiración, que no mejoró con antibioterapia. Se desestimó continuar tratamiento activo, y el paciente falleció días después de haber instaurado sedación.'"
      ]
     },
     "execution_count": 110,
     "metadata": {},
     "output_type": "execute_result"
    }
   ],
   "source": [
    "df_text_test.raw_text[0]"
   ]
  },
  {
   "cell_type": "code",
   "execution_count": 111,
   "metadata": {},
   "outputs": [],
   "source": [
    "test_doc_list = sorted(set(df_text_test[\"doc_id\"]))"
   ]
  },
  {
   "cell_type": "code",
   "execution_count": 112,
   "metadata": {},
   "outputs": [
    {
     "data": {
      "text/plain": [
       "300"
      ]
     },
     "execution_count": 112,
     "metadata": {},
     "output_type": "execute_result"
    }
   ],
   "source": [
    "len(test_doc_list)"
   ]
  },
  {
   "cell_type": "code",
   "execution_count": 113,
   "metadata": {},
   "outputs": [],
   "source": [
    "# Sentence-Split data"
   ]
  },
  {
   "cell_type": "code",
   "execution_count": 114,
   "metadata": {},
   "outputs": [
    {
     "name": "stdout",
     "output_type": "stream",
     "text": [
      "CPU times: user 127 ms, sys: 22.6 ms, total: 150 ms\n",
      "Wall time: 150 ms\n"
     ]
    }
   ],
   "source": [
    "%%time\n",
    "ss_sub_corpus_path = ss_corpus_path + \"test-background/\"\n",
    "ss_files = [f for f in os.listdir(ss_sub_corpus_path) if os.path.isfile(ss_sub_corpus_path + f)]\n",
    "ss_dict_test = load_ss_files(ss_files, ss_sub_corpus_path)"
   ]
  },
  {
   "cell_type": "code",
   "execution_count": 115,
   "metadata": {},
   "outputs": [
    {
     "name": "stderr",
     "output_type": "stream",
     "text": [
      "100%|██████████| 300/300 [00:26<00:00, 11.50it/s]"
     ]
    },
    {
     "name": "stdout",
     "output_type": "stream",
     "text": [
      "CPU times: user 26.3 s, sys: 0 ns, total: 26.3 s\n",
      "Wall time: 26.2 s\n"
     ]
    },
    {
     "name": "stderr",
     "output_type": "stream",
     "text": [
      "\n"
     ]
    }
   ],
   "source": [
    "%%time\n",
    "test_ind, test_att, test_type, _, test_frag, test_start_end_frag, test_word_id = ss_create_input_data_ner(df_text=df_text_test, \n",
    "                                                  text_col=text_col, \n",
    "                                                  # Since labels are ignored, we pass df_codes_train_ner as df_ann\n",
    "                                                  df_ann=df_codes_train_ner_final, doc_list=test_doc_list, ss_dict=ss_dict_test,\n",
    "                                                  tokenizer=tokenizer, lab_encoder=lab_encoder, seq_len=SEQ_LEN, \n",
    "                                                  ign_value=IGNORE_VALUE, strategy=ANN_STRATEGY, greedy=GREEDY)"
   ]
  },
  {
   "cell_type": "code",
   "execution_count": 116,
   "metadata": {},
   "outputs": [],
   "source": [
    "# Sanity check"
   ]
  },
  {
   "cell_type": "code",
   "execution_count": 117,
   "metadata": {},
   "outputs": [
    {
     "data": {
      "text/plain": [
       "(3853, 128)"
      ]
     },
     "execution_count": 117,
     "metadata": {},
     "output_type": "execute_result"
    }
   ],
   "source": [
    "test_ind.shape"
   ]
  },
  {
   "cell_type": "code",
   "execution_count": 118,
   "metadata": {},
   "outputs": [
    {
     "data": {
      "text/plain": [
       "(3853, 128)"
      ]
     },
     "execution_count": 118,
     "metadata": {},
     "output_type": "execute_result"
    }
   ],
   "source": [
    "test_att.shape"
   ]
  },
  {
   "cell_type": "code",
   "execution_count": 119,
   "metadata": {},
   "outputs": [
    {
     "data": {
      "text/plain": [
       "(3853, 128)"
      ]
     },
     "execution_count": 119,
     "metadata": {},
     "output_type": "execute_result"
    }
   ],
   "source": [
    "test_type.shape"
   ]
  },
  {
   "cell_type": "code",
   "execution_count": 120,
   "metadata": {},
   "outputs": [
    {
     "data": {
      "text/plain": [
       "300"
      ]
     },
     "execution_count": 120,
     "metadata": {},
     "output_type": "execute_result"
    }
   ],
   "source": [
    "len(test_frag)"
   ]
  },
  {
   "cell_type": "code",
   "execution_count": 121,
   "metadata": {},
   "outputs": [
    {
     "data": {
      "text/plain": [
       "3853"
      ]
     },
     "execution_count": 121,
     "metadata": {},
     "output_type": "execute_result"
    }
   ],
   "source": [
    "len(test_start_end_frag)"
   ]
  },
  {
   "cell_type": "code",
   "execution_count": 122,
   "metadata": {},
   "outputs": [
    {
     "data": {
      "text/plain": [
       "3853"
      ]
     },
     "execution_count": 122,
     "metadata": {},
     "output_type": "execute_result"
    }
   ],
   "source": [
    "len(test_word_id)"
   ]
  },
  {
   "cell_type": "code",
   "execution_count": 123,
   "metadata": {},
   "outputs": [
    {
     "name": "stdout",
     "output_type": "stream",
     "text": [
      "CPU times: user 12.7 s, sys: 1.52 s, total: 14.2 s\n",
      "Wall time: 15.5 s\n"
     ]
    }
   ],
   "source": [
    "%%time\n",
    "test_preds = tf.nn.softmax(logits=model.predict({'input_ids': test_ind}), \n",
    "                           axis=-1).numpy()"
   ]
  },
  {
   "cell_type": "code",
   "execution_count": 124,
   "metadata": {},
   "outputs": [
    {
     "data": {
      "text/plain": [
       "(3853, 128, 3)"
      ]
     },
     "execution_count": 124,
     "metadata": {},
     "output_type": "execute_result"
    }
   ],
   "source": [
    "test_preds.shape"
   ]
  },
  {
   "cell_type": "code",
   "execution_count": 125,
   "metadata": {},
   "outputs": [],
   "source": [
    "out_test_path = \"test_preds/\""
   ]
  },
  {
   "cell_type": "code",
   "execution_count": 126,
   "metadata": {},
   "outputs": [
    {
     "name": "stderr",
     "output_type": "stream",
     "text": [
      "100%|██████████| 300/300 [00:01<00:00, 256.75it/s]\n",
      "100%|██████████| 300/300 [00:01<00:00, 268.22it/s]\n"
     ]
    }
   ],
   "source": [
    "write_ner_ann(df_pred_ann=ner_preds_brat_format(doc_list=test_doc_list, fragments=test_frag, preds=test_preds, \n",
    "                                    start_end=test_start_end_frag, word_id=test_word_id, lb_encoder=lab_encoder, \n",
    "                                    df_text=df_text_test, text_col=text_col, strategy=EVAL_STRATEGY), \n",
    "              out_path=out_test_path)"
   ]
  },
  {
   "cell_type": "code",
   "execution_count": null,
   "metadata": {},
   "outputs": [],
   "source": [
    "%%time\n",
    "!python ../resources/cantemist-evaluation-library/src/main.py -g ../datasets/cantemist_v6/test-set/cantemist-ner/ -p ./test_preds/ -s ner "
   ]
  },
  {
   "cell_type": "code",
   "execution_count": null,
   "metadata": {},
   "outputs": [],
   "source": [
    "# Save predictions on the test set"
   ]
  },
  {
   "cell_type": "code",
   "execution_count": 128,
   "metadata": {},
   "outputs": [],
   "source": [
    "model_name = \"beto_galen_\" + str(random_seed)"
   ]
  },
  {
   "cell_type": "code",
   "execution_count": 129,
   "metadata": {},
   "outputs": [],
   "source": [
    "np.save(file=\"test_preds_\" + model_name + \".npy\", arr=test_preds)"
   ]
  },
  {
   "cell_type": "code",
   "execution_count": 133,
   "metadata": {},
   "outputs": [
    {
     "name": "stderr",
     "output_type": "stream",
     "text": [
      "100%|██████████| 300/300 [00:01<00:00, 244.53it/s]\n"
     ]
    }
   ],
   "source": [
    "doc_word_preds, doc_word_start_end = seq_ner_preds_brat_format(doc_list=test_doc_list, fragments=test_frag, \n",
    "                           arr_start_end=test_start_end_frag, arr_word_id=test_word_id, arr_preds=test_preds, \n",
    "                           strategy=EVAL_STRATEGY)"
   ]
  },
  {
   "cell_type": "code",
   "execution_count": 134,
   "metadata": {},
   "outputs": [],
   "source": [
    "import pickle\n",
    "\n",
    "with open(\"test_doc_word_preds_\" + model_name + \".pck\", \"wb\") as f:\n",
    "    pickle.dump(doc_word_preds, f)\n",
    "\n",
    "with open(\"test_doc_word_start_end_\" + model_name + \".pck\", \"wb\") as f:\n",
    "    pickle.dump(doc_word_start_end, f)"
   ]
  }
 ],
 "metadata": {
  "kernelspec": {
   "display_name": "Python 3",
   "language": "python",
   "name": "python3"
  },
  "language_info": {
   "codemirror_mode": {
    "name": "ipython",
    "version": 3
   },
   "file_extension": ".py",
   "mimetype": "text/x-python",
   "name": "python",
   "nbconvert_exporter": "python",
   "pygments_lexer": "ipython3",
   "version": "3.7.10"
  }
 },
 "nbformat": 4,
 "nbformat_minor": 4
}
