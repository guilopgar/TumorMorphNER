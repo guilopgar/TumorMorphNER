{
 "cells": [
  {
   "cell_type": "markdown",
   "metadata": {},
   "source": [
    "# Fine-tuning XLM-R-Galén on Cantemist-NER\n",
    "\n",
    "In this notebook, following a multi-class token classification approach, the XLM-R-Galén model is fine-tuned on both the training and development sets of the Cantemit-NER corpus. Additionally, the predictions made by the model on the test set are saved, in order to futher evaluate the NER performance of the model (see `results/Evaluation.ipynb`)."
   ]
  },
  {
   "cell_type": "code",
   "execution_count": 1,
   "metadata": {},
   "outputs": [],
   "source": [
    "import tensorflow as tf\n",
    "\n",
    "# Auxiliary components\n",
    "from nlp_utils import *\n",
    "\n",
    "from transformers import XLMRobertaTokenizerFast\n",
    "model_name = \"XLM-R-Galen/\"\n",
    "tokenizer = XLMRobertaTokenizerFast.from_pretrained(model_name)\n",
    "\n",
    "# Hyper-parameters\n",
    "text_col = \"raw_text\"\n",
    "SEQ_LEN = 128\n",
    "BATCH_SIZE = 16\n",
    "EPOCHS = 71\n",
    "LR = 3e-5\n",
    "\n",
    "GREEDY = True\n",
    "IGNORE_VALUE = -100\n",
    "ANN_STRATEGY = \"word-all\"\n",
    "EVAL_STRATEGY = \"word-max\"\n",
    "LOGITS = True\n",
    "\n",
    "random_seed = 0\n",
    "tf.random.set_seed(random_seed)"
   ]
  },
  {
   "cell_type": "markdown",
   "metadata": {},
   "source": [
    "## Load text\n",
    "\n",
    "Firstly, all text files from training and development Cantemist corpora are loaded in different dataframes.\n",
    "\n",
    "Also, NER-annotations are loaded."
   ]
  },
  {
   "cell_type": "code",
   "execution_count": 2,
   "metadata": {},
   "outputs": [],
   "source": [
    "corpus_path = \"../datasets/cantemist_v6/\"\n",
    "sub_task_path = \"cantemist-ner/\""
   ]
  },
  {
   "cell_type": "markdown",
   "metadata": {},
   "source": [
    "### Training corpus"
   ]
  },
  {
   "cell_type": "code",
   "execution_count": 3,
   "metadata": {},
   "outputs": [
    {
     "name": "stdout",
     "output_type": "stream",
     "text": [
      "CPU times: user 5.12 ms, sys: 15.9 ms, total: 21.1 ms\n",
      "Wall time: 20.2 ms\n"
     ]
    }
   ],
   "source": [
    "%%time\n",
    "train_path = corpus_path + \"train-set/\" + sub_task_path\n",
    "train_files = [f for f in os.listdir(train_path) if os.path.isfile(train_path + f) and f.split('.')[-1] == \"txt\"]\n",
    "n_train_files = len(train_files)\n",
    "train_data = load_text_files(train_files, train_path)\n",
    "dev1_path = corpus_path + \"dev-set1/\" + sub_task_path\n",
    "train_files.extend([f for f in os.listdir(dev1_path) if os.path.isfile(dev1_path + f) and f.split('.')[-1] == \"txt\"])\n",
    "train_data.extend(load_text_files(train_files[n_train_files:], dev1_path))\n",
    "df_text_train = pd.DataFrame({'doc_id': [s.split('.txt')[0] for s in train_files], 'raw_text': train_data})"
   ]
  },
  {
   "cell_type": "code",
   "execution_count": 4,
   "metadata": {},
   "outputs": [
    {
     "data": {
      "text/plain": [
       "(751, 2)"
      ]
     },
     "execution_count": 4,
     "metadata": {},
     "output_type": "execute_result"
    }
   ],
   "source": [
    "df_text_train.shape"
   ]
  },
  {
   "cell_type": "code",
   "execution_count": 5,
   "metadata": {},
   "outputs": [
    {
     "data": {
      "text/html": [
       "<div>\n",
       "<style scoped>\n",
       "    .dataframe tbody tr th:only-of-type {\n",
       "        vertical-align: middle;\n",
       "    }\n",
       "\n",
       "    .dataframe tbody tr th {\n",
       "        vertical-align: top;\n",
       "    }\n",
       "\n",
       "    .dataframe thead th {\n",
       "        text-align: right;\n",
       "    }\n",
       "</style>\n",
       "<table border=\"1\" class=\"dataframe\">\n",
       "  <thead>\n",
       "    <tr style=\"text-align: right;\">\n",
       "      <th></th>\n",
       "      <th>doc_id</th>\n",
       "      <th>raw_text</th>\n",
       "    </tr>\n",
       "  </thead>\n",
       "  <tbody>\n",
       "    <tr>\n",
       "      <th>0</th>\n",
       "      <td>cc_onco453</td>\n",
       "      <td>Anamnesis\\nSe trata de un varón de 55 años, ex...</td>\n",
       "    </tr>\n",
       "    <tr>\n",
       "      <th>1</th>\n",
       "      <td>cc_onco962</td>\n",
       "      <td>Anamnesis\\nMujer de 40 años que consulta por l...</td>\n",
       "    </tr>\n",
       "    <tr>\n",
       "      <th>2</th>\n",
       "      <td>cc_onco989</td>\n",
       "      <td>Anamnesis\\nPaciente de 43 años, perimenopáusic...</td>\n",
       "    </tr>\n",
       "    <tr>\n",
       "      <th>3</th>\n",
       "      <td>cc_onco187</td>\n",
       "      <td>Anamnesis\\nVarón de 72 años, exfumador y bebed...</td>\n",
       "    </tr>\n",
       "    <tr>\n",
       "      <th>4</th>\n",
       "      <td>cc_onco164</td>\n",
       "      <td>Anamnesis\\nMujer de 51 años, sin alergias medi...</td>\n",
       "    </tr>\n",
       "  </tbody>\n",
       "</table>\n",
       "</div>"
      ],
      "text/plain": [
       "       doc_id                                           raw_text\n",
       "0  cc_onco453  Anamnesis\\nSe trata de un varón de 55 años, ex...\n",
       "1  cc_onco962  Anamnesis\\nMujer de 40 años que consulta por l...\n",
       "2  cc_onco989  Anamnesis\\nPaciente de 43 años, perimenopáusic...\n",
       "3  cc_onco187  Anamnesis\\nVarón de 72 años, exfumador y bebed...\n",
       "4  cc_onco164  Anamnesis\\nMujer de 51 años, sin alergias medi..."
      ]
     },
     "execution_count": 5,
     "metadata": {},
     "output_type": "execute_result"
    }
   ],
   "source": [
    "df_text_train.head()"
   ]
  },
  {
   "cell_type": "code",
   "execution_count": 6,
   "metadata": {},
   "outputs": [
    {
     "data": {
      "text/plain": [
       "751"
      ]
     },
     "execution_count": 6,
     "metadata": {},
     "output_type": "execute_result"
    }
   ],
   "source": [
    "len(set(df_text_train['doc_id']))"
   ]
  },
  {
   "cell_type": "code",
   "execution_count": 7,
   "metadata": {},
   "outputs": [
    {
     "data": {
      "text/plain": [
       "'Anamnesis\\nSe trata de un varón de 55 años, ex fumador con un índice tabáquico de 40 paquetes-año, HTA, sin antecedentes familiares de interés, en tratamiento con ácido fólico, omeprazol, hierro oral y risperidona.\\nEn junio de 2017, es diagnosticado a raíz de una trombosis iliaca derecha de una masa tumoral pobremente diferenciada que infiltraba tercio distal de apéndice cecal, con obliteración del paquete vascular iliaco, así como infiltración del uréter derecho, condicionando ureterohidronefrosis derecha grado cuatro.\\nSe realiza biopsia de la lesión, con hallazgos anatomopatológicos de neoplasia fusocelular con inmunohistoquímica (IHC) sugerente de origen urotelial con diferenciación sarcomatoide (positividad para p63, p40, GATA3, CD99, EMA CAM 5.2, CK 34, beta E12, CK7, negatividad para CK20, S100, CD34, cKIT y TTF1), con SYT no reordenado.\\nSe lleva a cabo intervención en julio de 2017 con extirpación de la masa tumoral, resección ileocecal, dejando ileostomía terminal y bypass extraanatómico femorofemoral.\\nEn octubre de 2017, se observa en TC toracoabdominopélvica una lesión hepática de nueva aparición que sugiere de metástasis.\\nCon juicio clínico de carcinoma urotelial de alto grado con diferenciación sarcomatoide estadio IV (pT4N2M1) por afectación hepática, se decide iniciar tratamiento sistémico de primera línea en febrero de 2018 dentro de ensayo clínico con antiPD1 y antiCTLA4 hasta julio de 2018, presentando buena tolerancia al tratamiento, pero con progresión de la enfermedad a nivel hepático.\\nInicia entonces segunda línea de tratamiento con carboplatino AUC5 día 1 y gemcitabina 1.000 mg/m2 días 1 y 8 cada 21 días, el 20 de agosto de 2018.\\nEn octubre de 2018, tras cinco ciclos de quimioterapia y una dosis acumulada de gemcitabina de 10.000 mg/m2, el paciente refiere aparición de lesiones ulceradas y dolorosas en regiones acras de dedos de manos.\\nCon sospecha de isquemia digital aguda, es derivado a Urgencias para valoración por Cirugía Vascular.\\n\\nExploración física\\nDurante la exploración física no presenta esclerodactilia, telangiectasias ni otras lesiones sugerentes de conectivopatías. Los pulsos radiales presentes y cubitales ausentes, con relleno capilar sin alteraciones.\\n\\nPruebas complementarias\\nEn analítica destacaba anemia normocítica normocroma grado 1 con Hb 10,2 g/dl (rango 13-15,5), sin otros hallazgos relevantes.\\nSe realiza estudio de autoanticuerpos (ENAS negativos, ANA positivo [1/80], anticuerpo (Ac) anti-P cíclico citrulinado negativo, Ac beta2-glicoproteina IgM e IgG negativos, cardiolipina IgG e IgM negativos, C-ANCAS y P-ANCAS negativos, VSG 137mm [rango 1,00-15] y crioglobulinas débilmente positivas) y estudio serológico con hallazgos de infección pasada de VHE y resto de virus hepatotropos negativos.\\nSe lleva a cabo eco-Doppler de miembros superiores en la que destaca alteración de flujo en arteria cubital derecha, y ecocardiograma transtorácico sin signos de endocarditis infecciosa.\\nEn la capilaroscopia como única alteración, destaca la presencia en segundo dedo de mano izquierda una hemorragia aislada, con distribución y densidad capilar conservada.\\n\\nDiagnóstico\\nCon estas pruebas, el paciente es diagnosticado de isquemia digital con datos de afectación macrovascular en relación al tratamiento de gemcitabina.\\n\\nTratamiento\\nEl paciente inicia tratamiento con prostaglandinas (PG) y anticoagulación con heparina de bajo peso molecular a dosis de 1 mg/kg cada 12 horas, experimentando mejoría progresiva de los síntomas y de las lesiones.\\n\\nEvolución\\nSe decide discontinuar tratamiento de quimioterapia, presentando respuesta parcial de la enfermedad tumoral con disminución de la masa pélvica, adenopatías retroperitoneales y de las metástasis hepáticas en TC de enero de 2019.'"
      ]
     },
     "execution_count": 7,
     "metadata": {},
     "output_type": "execute_result"
    }
   ],
   "source": [
    "df_text_train.raw_text[0]"
   ]
  },
  {
   "cell_type": "markdown",
   "metadata": {},
   "source": [
    "### Development corpus"
   ]
  },
  {
   "cell_type": "code",
   "execution_count": 8,
   "metadata": {},
   "outputs": [
    {
     "name": "stdout",
     "output_type": "stream",
     "text": [
      "CPU times: user 22.1 ms, sys: 11.4 ms, total: 33.5 ms\n",
      "Wall time: 31 ms\n"
     ]
    }
   ],
   "source": [
    "%%time\n",
    "dev_path = corpus_path + \"dev-set2/\" + sub_task_path\n",
    "dev_files = [f for f in os.listdir(dev_path) if os.path.isfile(dev_path + f) and f.split('.')[-1] == \"txt\"]\n",
    "dev_data = load_text_files(dev_files, dev_path)\n",
    "df_text_dev = pd.DataFrame({'doc_id': [s.split('.txt')[0] for s in dev_files], 'raw_text': dev_data})"
   ]
  },
  {
   "cell_type": "code",
   "execution_count": 9,
   "metadata": {},
   "outputs": [
    {
     "data": {
      "text/plain": [
       "(250, 2)"
      ]
     },
     "execution_count": 9,
     "metadata": {},
     "output_type": "execute_result"
    }
   ],
   "source": [
    "df_text_dev.shape"
   ]
  },
  {
   "cell_type": "code",
   "execution_count": 10,
   "metadata": {},
   "outputs": [
    {
     "data": {
      "text/html": [
       "<div>\n",
       "<style scoped>\n",
       "    .dataframe tbody tr th:only-of-type {\n",
       "        vertical-align: middle;\n",
       "    }\n",
       "\n",
       "    .dataframe tbody tr th {\n",
       "        vertical-align: top;\n",
       "    }\n",
       "\n",
       "    .dataframe thead th {\n",
       "        text-align: right;\n",
       "    }\n",
       "</style>\n",
       "<table border=\"1\" class=\"dataframe\">\n",
       "  <thead>\n",
       "    <tr style=\"text-align: right;\">\n",
       "      <th></th>\n",
       "      <th>doc_id</th>\n",
       "      <th>raw_text</th>\n",
       "    </tr>\n",
       "  </thead>\n",
       "  <tbody>\n",
       "    <tr>\n",
       "      <th>0</th>\n",
       "      <td>cc_onco1183</td>\n",
       "      <td>Anamnesis\\nVarón de 48 años que acude en agost...</td>\n",
       "    </tr>\n",
       "    <tr>\n",
       "      <th>1</th>\n",
       "      <td>cc_onco751</td>\n",
       "      <td>Anamnesis\\nHombre de 71 años de edad con antec...</td>\n",
       "    </tr>\n",
       "    <tr>\n",
       "      <th>2</th>\n",
       "      <td>cc_onco1384</td>\n",
       "      <td>Anamnesis\\nVarón de 30 años, sin antecedentes ...</td>\n",
       "    </tr>\n",
       "    <tr>\n",
       "      <th>3</th>\n",
       "      <td>cc_onco1208</td>\n",
       "      <td>Anamnesis\\nVarón de 76 años diagnosticado en a...</td>\n",
       "    </tr>\n",
       "    <tr>\n",
       "      <th>4</th>\n",
       "      <td>cc_onco734</td>\n",
       "      <td>Anamnesis\\nTras canalización del reservorio ce...</td>\n",
       "    </tr>\n",
       "  </tbody>\n",
       "</table>\n",
       "</div>"
      ],
      "text/plain": [
       "        doc_id                                           raw_text\n",
       "0  cc_onco1183  Anamnesis\\nVarón de 48 años que acude en agost...\n",
       "1   cc_onco751  Anamnesis\\nHombre de 71 años de edad con antec...\n",
       "2  cc_onco1384  Anamnesis\\nVarón de 30 años, sin antecedentes ...\n",
       "3  cc_onco1208  Anamnesis\\nVarón de 76 años diagnosticado en a...\n",
       "4   cc_onco734  Anamnesis\\nTras canalización del reservorio ce..."
      ]
     },
     "execution_count": 10,
     "metadata": {},
     "output_type": "execute_result"
    }
   ],
   "source": [
    "df_text_dev.head()"
   ]
  },
  {
   "cell_type": "code",
   "execution_count": 11,
   "metadata": {},
   "outputs": [
    {
     "data": {
      "text/plain": [
       "250"
      ]
     },
     "execution_count": 11,
     "metadata": {},
     "output_type": "execute_result"
    }
   ],
   "source": [
    "len(set(df_text_dev['doc_id']))"
   ]
  },
  {
   "cell_type": "code",
   "execution_count": 12,
   "metadata": {},
   "outputs": [
    {
     "data": {
      "text/plain": [
       "'Anamnesis\\nVarón de 48 años que acude en agosto de 2012 tras la realización de amputación en hallux derecho a la primera valoración por Oncología Médica.\\nAntecedentes: no alérgicos. Patológicos: diabético hace 3 años sin tratamiento. HTA en tratamiento. Enolismo crónico.\\nTrastorno afectivo bipolar. Quirúrgicos: apendicectomizado.\\nEnfermedad actual: desde hace 2 años presentaba una lesión hiperpigmentada en el hallux del pie derecho, que ocasionalmente sangraba.\\n\\nExamen físico\\nMuñón de hallux derecho en buen estado, presencia de adenopatías inguinales derechas. Resto de exploración sin alteraciones.\\n\\nPruebas complementarias\\n- Biopsia cutánea: melanoma ulcerado.\\n- AP de resección de melanoma: melanoma lentiginoso acral en fase de crecimiento vertical, ulcerado. Clark IV. Breslow 6,8 mm, sin infiltración linfovascular.\\n- TC de tórax-abdomen-pelvis: sin signos concluyentes de extensión tóraco-abdómino-pélvica de melanoma.\\nMicronódulos en el lóbulo superior derecho a valorar en controles sucesivos.\\n- Se realiza linfadenectomía inguinal electiva en octubre de 2012.\\n- AP: metástasis de melanoma en 4 de los 13 ganglios aislados.\\n\\nDiagnóstico\\nMelanoma lentiginoso acral en fase de crecimiento vertical ulcerado Clarck IV Breslow6,8 mm pT4b N2a M0 estadio IIIB.\\n\\nTratamiento\\nEn enero de 2013 inicia tratamiento adyuvante con interferón a altas dosis según el esquema Kirkwood, este se basa en el estudio ECOG 1684: interferón alfa-2b 20 millones de unidades i.v. x 20 días, seguido de 10 millones de unidades s.c. 3 veces a la semana durante 48 semanas. El paciente tuvo buena tolerancia a la fase de inducción y a la fase de mantenimiento.\\nEn agosto de 2013 se detecta un nódulo subcutáneo de 1,5 cm en la zona de la cicatriz del hallux derecho y también una lesión en la cara interna de la pierna derecha de 0,5 cm. Se considera recidiva intratratamiento, por lo que se interviene, realizándose exéresis local y ampliación de márgenes.\\nAP: melanoma de 2,4 x 0,7 x 0,8 cm con afectación del margen de resección.\\nSe decide enviar a Oncología Radioterápica por margen afecto.\\n\\nEvolución\\nDe septiembre a octubre de 2013 recibe tratamiento radioterápico \"adyuvante\": PTV en la lesión guiada por cicatriz en el pie derecho más 3 cm de margen, fraccionamiento 2,5 Gy en 24 fracciones hasta adminsitrar una dosis total de 60 Gy.\\nEn noviembre de 2013 presenta progresión cutánea con 4 lesiones hipercrómicas localizadas en el muslo derecho. No hay datos de afectación tóraco-abdominal a distancia.\\nEntre tanto, se realiza determinación del estado mutacional de B-RAF, el cual es nativo.\\nA la progresión cutánea se propone tratamiento con DTIC (1.000 mg/m2 cada 21 días), administrando un primer ciclo en diciembre de 2013. En enero de 2014 acude a consulta con un cuadro de ictericia mucocutánea y coluria. Se detecta bilirrubina total de 7,7 mg/dl, bilirrubina directa de 5,9 mg/dl. ALT 2.022 UI/l, AST 840 UI/l. Se realizan una ecografía hepatobiliar, con resultado normal, y serología de virus de hepatitis, con resultado de perfil de hepatitis B aguda. Se remite al Servicio de Aparato Digestivo, quienes realizan tratamiento conservador, observándose en semanas posteriores un descenso marcado en los valores de bilirrubina, ALT y AST hasta la completa normalidad.\\nEntre tanto, presenta crecimiento de numerosas lesiones subcutáneas distribuidas en la cara anterior e interna del muslo derecho sin datos de afectación a distancia en la TC. Se considera metástasis en tránsito de melanoma, por lo que en marzo de 2014 inicia la administración de interleucina-2 intralesional. Se aplica 1 ml en cada una de las lesiones subcutáneas, cubriendo un total de 20 lesiones por cada ciclo administrado cada 14 días, sin presentar efectos secundarios sistémicos, salvo dolor EVA 3 en los puntos de instilación, que mejoraba con el paracetamol. Con este tratamiento completa 5 ciclos hasta el mayo de 2014, presentando desaparición de la mayoría de las lesiones, persistiendo algunas de localización central.\\nEl 30 de mayo de 2014 acude con una TC de reevaluación, objetivándose progresión inguinal izquierda y una adenopatía en la cadena iliaca externa derecha de 3,3 x 2,3 cm compatible con progresión. Se ha propuesto una nueva línea de tratamiento con ipilimumab, pendiente de iniciar.'"
      ]
     },
     "execution_count": 12,
     "metadata": {},
     "output_type": "execute_result"
    }
   ],
   "source": [
    "df_text_dev.raw_text[0]"
   ]
  },
  {
   "cell_type": "markdown",
   "metadata": {},
   "source": [
    "## Process NER annotations\n",
    "\n",
    "We load and pre-process the NER annotations in BRAT format available for the Cantemist-NER subtask."
   ]
  },
  {
   "cell_type": "code",
   "execution_count": 13,
   "metadata": {},
   "outputs": [],
   "source": [
    "# Training corpus"
   ]
  },
  {
   "cell_type": "code",
   "execution_count": 13,
   "metadata": {},
   "outputs": [],
   "source": [
    "train_ann_files = [train_path + f for f in os.listdir(train_path) if f.split('.')[-1] == \"ann\"]\n",
    "train_ann_files.extend([dev1_path + f for f in os.listdir(dev1_path) if f.split('.')[-1] == \"ann\"])"
   ]
  },
  {
   "cell_type": "code",
   "execution_count": 14,
   "metadata": {},
   "outputs": [
    {
     "data": {
      "text/plain": [
       "751"
      ]
     },
     "execution_count": 14,
     "metadata": {},
     "output_type": "execute_result"
    }
   ],
   "source": [
    "len(train_ann_files)"
   ]
  },
  {
   "cell_type": "code",
   "execution_count": 15,
   "metadata": {},
   "outputs": [],
   "source": [
    "df_codes_train_ner = process_brat_ner(train_ann_files).sort_values([\"doc_id\", \"start\", \"end\"])"
   ]
  },
  {
   "cell_type": "code",
   "execution_count": 16,
   "metadata": {},
   "outputs": [
    {
     "data": {
      "text/plain": [
       "(9737, 4)"
      ]
     },
     "execution_count": 16,
     "metadata": {},
     "output_type": "execute_result"
    }
   ],
   "source": [
    "df_codes_train_ner.shape"
   ]
  },
  {
   "cell_type": "code",
   "execution_count": 17,
   "metadata": {},
   "outputs": [
    {
     "data": {
      "text/html": [
       "<div>\n",
       "<style scoped>\n",
       "    .dataframe tbody tr th:only-of-type {\n",
       "        vertical-align: middle;\n",
       "    }\n",
       "\n",
       "    .dataframe tbody tr th {\n",
       "        vertical-align: top;\n",
       "    }\n",
       "\n",
       "    .dataframe thead th {\n",
       "        text-align: right;\n",
       "    }\n",
       "</style>\n",
       "<table border=\"1\" class=\"dataframe\">\n",
       "  <thead>\n",
       "    <tr style=\"text-align: right;\">\n",
       "      <th></th>\n",
       "      <th>doc_id</th>\n",
       "      <th>text_ref</th>\n",
       "      <th>start</th>\n",
       "      <th>end</th>\n",
       "    </tr>\n",
       "  </thead>\n",
       "  <tbody>\n",
       "    <tr>\n",
       "      <th>5230</th>\n",
       "      <td>cc_onco1</td>\n",
       "      <td>Carcinoma microcítico</td>\n",
       "      <td>2719</td>\n",
       "      <td>2740</td>\n",
       "    </tr>\n",
       "    <tr>\n",
       "      <th>5231</th>\n",
       "      <td>cc_onco1</td>\n",
       "      <td>carcinoma microcítico</td>\n",
       "      <td>2950</td>\n",
       "      <td>2971</td>\n",
       "    </tr>\n",
       "    <tr>\n",
       "      <th>5232</th>\n",
       "      <td>cc_onco1</td>\n",
       "      <td>M0</td>\n",
       "      <td>2988</td>\n",
       "      <td>2990</td>\n",
       "    </tr>\n",
       "    <tr>\n",
       "      <th>97</th>\n",
       "      <td>cc_onco10</td>\n",
       "      <td>tumor</td>\n",
       "      <td>212</td>\n",
       "      <td>217</td>\n",
       "    </tr>\n",
       "    <tr>\n",
       "      <th>95</th>\n",
       "      <td>cc_onco10</td>\n",
       "      <td>neoplasia</td>\n",
       "      <td>976</td>\n",
       "      <td>985</td>\n",
       "    </tr>\n",
       "  </tbody>\n",
       "</table>\n",
       "</div>"
      ],
      "text/plain": [
       "         doc_id               text_ref  start   end\n",
       "5230   cc_onco1  Carcinoma microcítico   2719  2740\n",
       "5231   cc_onco1  carcinoma microcítico   2950  2971\n",
       "5232   cc_onco1                     M0   2988  2990\n",
       "97    cc_onco10                  tumor    212   217\n",
       "95    cc_onco10              neoplasia    976   985"
      ]
     },
     "execution_count": 17,
     "metadata": {},
     "output_type": "execute_result"
    }
   ],
   "source": [
    "df_codes_train_ner.head()"
   ]
  },
  {
   "cell_type": "code",
   "execution_count": 18,
   "metadata": {},
   "outputs": [
    {
     "data": {
      "text/plain": [
       "750"
      ]
     },
     "execution_count": 18,
     "metadata": {},
     "output_type": "execute_result"
    }
   ],
   "source": [
    "len(set(df_codes_train_ner[\"doc_id\"]))"
   ]
  },
  {
   "cell_type": "code",
   "execution_count": 19,
   "metadata": {},
   "outputs": [],
   "source": [
    "assert ~df_codes_train_ner[[\"doc_id\", \"start\", \"end\"]].duplicated().any()"
   ]
  },
  {
   "cell_type": "code",
   "execution_count": 21,
   "metadata": {},
   "outputs": [],
   "source": [
    "# Development corpus"
   ]
  },
  {
   "cell_type": "code",
   "execution_count": 20,
   "metadata": {},
   "outputs": [],
   "source": [
    "dev_ann_files = [dev_path + f for f in os.listdir(dev_path) if f.split('.')[-1] == \"ann\"]"
   ]
  },
  {
   "cell_type": "code",
   "execution_count": 21,
   "metadata": {},
   "outputs": [
    {
     "data": {
      "text/plain": [
       "250"
      ]
     },
     "execution_count": 21,
     "metadata": {},
     "output_type": "execute_result"
    }
   ],
   "source": [
    "len(dev_ann_files)"
   ]
  },
  {
   "cell_type": "code",
   "execution_count": 22,
   "metadata": {},
   "outputs": [],
   "source": [
    "df_codes_dev_ner = process_brat_ner(dev_ann_files).sort_values([\"doc_id\", \"start\", \"end\"])"
   ]
  },
  {
   "cell_type": "code",
   "execution_count": 23,
   "metadata": {},
   "outputs": [
    {
     "data": {
      "text/plain": [
       "(2660, 4)"
      ]
     },
     "execution_count": 23,
     "metadata": {},
     "output_type": "execute_result"
    }
   ],
   "source": [
    "df_codes_dev_ner.shape"
   ]
  },
  {
   "cell_type": "code",
   "execution_count": 24,
   "metadata": {},
   "outputs": [
    {
     "data": {
      "text/html": [
       "<div>\n",
       "<style scoped>\n",
       "    .dataframe tbody tr th:only-of-type {\n",
       "        vertical-align: middle;\n",
       "    }\n",
       "\n",
       "    .dataframe tbody tr th {\n",
       "        vertical-align: top;\n",
       "    }\n",
       "\n",
       "    .dataframe thead th {\n",
       "        text-align: right;\n",
       "    }\n",
       "</style>\n",
       "<table border=\"1\" class=\"dataframe\">\n",
       "  <thead>\n",
       "    <tr style=\"text-align: right;\">\n",
       "      <th></th>\n",
       "      <th>doc_id</th>\n",
       "      <th>text_ref</th>\n",
       "      <th>start</th>\n",
       "      <th>end</th>\n",
       "    </tr>\n",
       "  </thead>\n",
       "  <tbody>\n",
       "    <tr>\n",
       "      <th>1852</th>\n",
       "      <td>cc_onco1001</td>\n",
       "      <td>carcinoma epidermoide</td>\n",
       "      <td>576</td>\n",
       "      <td>597</td>\n",
       "    </tr>\n",
       "    <tr>\n",
       "      <th>1854</th>\n",
       "      <td>cc_onco1001</td>\n",
       "      <td>neoplasia</td>\n",
       "      <td>790</td>\n",
       "      <td>799</td>\n",
       "    </tr>\n",
       "    <tr>\n",
       "      <th>1857</th>\n",
       "      <td>cc_onco1001</td>\n",
       "      <td>adenocarcinoma T4N3M1b</td>\n",
       "      <td>836</td>\n",
       "      <td>858</td>\n",
       "    </tr>\n",
       "    <tr>\n",
       "      <th>1853</th>\n",
       "      <td>cc_onco1001</td>\n",
       "      <td>enfermedad hepática</td>\n",
       "      <td>1205</td>\n",
       "      <td>1224</td>\n",
       "    </tr>\n",
       "    <tr>\n",
       "      <th>1855</th>\n",
       "      <td>cc_onco1001</td>\n",
       "      <td>tumoral</td>\n",
       "      <td>2303</td>\n",
       "      <td>2310</td>\n",
       "    </tr>\n",
       "  </tbody>\n",
       "</table>\n",
       "</div>"
      ],
      "text/plain": [
       "           doc_id                text_ref  start   end\n",
       "1852  cc_onco1001   carcinoma epidermoide    576   597\n",
       "1854  cc_onco1001               neoplasia    790   799\n",
       "1857  cc_onco1001  adenocarcinoma T4N3M1b    836   858\n",
       "1853  cc_onco1001     enfermedad hepática   1205  1224\n",
       "1855  cc_onco1001                 tumoral   2303  2310"
      ]
     },
     "execution_count": 24,
     "metadata": {},
     "output_type": "execute_result"
    }
   ],
   "source": [
    "df_codes_dev_ner.head()"
   ]
  },
  {
   "cell_type": "code",
   "execution_count": 25,
   "metadata": {},
   "outputs": [
    {
     "data": {
      "text/html": [
       "<div>\n",
       "<style scoped>\n",
       "    .dataframe tbody tr th:only-of-type {\n",
       "        vertical-align: middle;\n",
       "    }\n",
       "\n",
       "    .dataframe tbody tr th {\n",
       "        vertical-align: top;\n",
       "    }\n",
       "\n",
       "    .dataframe thead th {\n",
       "        text-align: right;\n",
       "    }\n",
       "</style>\n",
       "<table border=\"1\" class=\"dataframe\">\n",
       "  <thead>\n",
       "    <tr style=\"text-align: right;\">\n",
       "      <th></th>\n",
       "      <th>doc_id</th>\n",
       "      <th>text_ref</th>\n",
       "      <th>start</th>\n",
       "      <th>end</th>\n",
       "    </tr>\n",
       "  </thead>\n",
       "  <tbody>\n",
       "    <tr>\n",
       "      <th>1630</th>\n",
       "      <td>cc_onco994</td>\n",
       "      <td>tumoración</td>\n",
       "      <td>1604</td>\n",
       "      <td>1614</td>\n",
       "    </tr>\n",
       "    <tr>\n",
       "      <th>1629</th>\n",
       "      <td>cc_onco994</td>\n",
       "      <td>metastásica</td>\n",
       "      <td>3064</td>\n",
       "      <td>3075</td>\n",
       "    </tr>\n",
       "    <tr>\n",
       "      <th>1628</th>\n",
       "      <td>cc_onco994</td>\n",
       "      <td>macroadenoma</td>\n",
       "      <td>3752</td>\n",
       "      <td>3764</td>\n",
       "    </tr>\n",
       "    <tr>\n",
       "      <th>1632</th>\n",
       "      <td>cc_onco994</td>\n",
       "      <td>macroadenoma de la hipófisis</td>\n",
       "      <td>4068</td>\n",
       "      <td>4096</td>\n",
       "    </tr>\n",
       "    <tr>\n",
       "      <th>1627</th>\n",
       "      <td>cc_onco994</td>\n",
       "      <td>lesiones hepáticas</td>\n",
       "      <td>5378</td>\n",
       "      <td>5396</td>\n",
       "    </tr>\n",
       "  </tbody>\n",
       "</table>\n",
       "</div>"
      ],
      "text/plain": [
       "          doc_id                      text_ref  start   end\n",
       "1630  cc_onco994                    tumoración   1604  1614\n",
       "1629  cc_onco994                   metastásica   3064  3075\n",
       "1628  cc_onco994                  macroadenoma   3752  3764\n",
       "1632  cc_onco994  macroadenoma de la hipófisis   4068  4096\n",
       "1627  cc_onco994            lesiones hepáticas   5378  5396"
      ]
     },
     "execution_count": 25,
     "metadata": {},
     "output_type": "execute_result"
    }
   ],
   "source": [
    "df_codes_dev_ner.tail()"
   ]
  },
  {
   "cell_type": "code",
   "execution_count": 26,
   "metadata": {},
   "outputs": [],
   "source": [
    "assert ~df_codes_dev_ner[[\"doc_id\", \"start\", \"end\"]].duplicated().any()"
   ]
  },
  {
   "cell_type": "markdown",
   "metadata": {},
   "source": [
    "### Remove overlapping annotations"
   ]
  },
  {
   "cell_type": "code",
   "execution_count": 29,
   "metadata": {},
   "outputs": [],
   "source": [
    "# Training corpus"
   ]
  },
  {
   "cell_type": "code",
   "execution_count": 27,
   "metadata": {},
   "outputs": [
    {
     "name": "stderr",
     "output_type": "stream",
     "text": [
      "100%|██████████| 750/750 [00:21<00:00, 34.17it/s]"
     ]
    },
    {
     "name": "stdout",
     "output_type": "stream",
     "text": [
      "CPU times: user 22 s, sys: 22.3 ms, total: 22 s\n",
      "Wall time: 22 s\n"
     ]
    },
    {
     "name": "stderr",
     "output_type": "stream",
     "text": [
      "\n"
     ]
    }
   ],
   "source": [
    "%%time\n",
    "df_codes_train_ner_final = eliminate_overlap(df_ann=df_codes_train_ner)"
   ]
  },
  {
   "cell_type": "code",
   "execution_count": 28,
   "metadata": {},
   "outputs": [
    {
     "data": {
      "text/plain": [
       "(9605, 4)"
      ]
     },
     "execution_count": 28,
     "metadata": {},
     "output_type": "execute_result"
    }
   ],
   "source": [
    "df_codes_train_ner_final.shape"
   ]
  },
  {
   "cell_type": "code",
   "execution_count": 32,
   "metadata": {},
   "outputs": [],
   "source": [
    "# Development corpus"
   ]
  },
  {
   "cell_type": "code",
   "execution_count": 29,
   "metadata": {},
   "outputs": [
    {
     "name": "stderr",
     "output_type": "stream",
     "text": [
      "100%|██████████| 250/250 [00:04<00:00, 53.06it/s]"
     ]
    },
    {
     "name": "stdout",
     "output_type": "stream",
     "text": [
      "CPU times: user 4.72 s, sys: 15.8 ms, total: 4.73 s\n",
      "Wall time: 4.71 s\n"
     ]
    },
    {
     "name": "stderr",
     "output_type": "stream",
     "text": [
      "\n"
     ]
    }
   ],
   "source": [
    "%%time\n",
    "df_codes_dev_ner_final = eliminate_overlap(df_ann=df_codes_dev_ner)"
   ]
  },
  {
   "cell_type": "code",
   "execution_count": 30,
   "metadata": {},
   "outputs": [
    {
     "data": {
      "text/plain": [
       "(2623, 4)"
      ]
     },
     "execution_count": 30,
     "metadata": {},
     "output_type": "execute_result"
    }
   ],
   "source": [
    "df_codes_dev_ner_final.shape"
   ]
  },
  {
   "cell_type": "markdown",
   "metadata": {},
   "source": [
    "## Creation of annotated sequences\n",
    "\n",
    "We create the corpus used to fine-tune the transformer model on a NER task. In this way, we split the texts into sentences, and convert them into sequences of subtokens. Also, each generated subtoken is assigned a NER label in IOB-2 format."
   ]
  },
  {
   "cell_type": "code",
   "execution_count": 31,
   "metadata": {},
   "outputs": [],
   "source": [
    "# Sentence-Split information\n",
    "ss_corpus_path = \"../datasets/Cantemist-SSplit-text/\""
   ]
  },
  {
   "cell_type": "code",
   "execution_count": 32,
   "metadata": {},
   "outputs": [
    {
     "data": {
      "text/plain": [
       "LabelEncoder()"
      ]
     },
     "execution_count": 32,
     "metadata": {},
     "output_type": "execute_result"
    }
   ],
   "source": [
    "from sklearn.preprocessing import LabelEncoder\n",
    "\n",
    "lab_encoder = LabelEncoder()\n",
    "# IOB-2 format\n",
    "lab_encoder.fit([\"B\", \"I\", \"O\"])"
   ]
  },
  {
   "cell_type": "markdown",
   "metadata": {},
   "source": [
    "### Training corpus"
   ]
  },
  {
   "cell_type": "markdown",
   "metadata": {},
   "source": [
    "Only training texts with NER annotations are considered:"
   ]
  },
  {
   "cell_type": "code",
   "execution_count": 33,
   "metadata": {},
   "outputs": [
    {
     "data": {
      "text/plain": [
       "1"
      ]
     },
     "execution_count": 33,
     "metadata": {},
     "output_type": "execute_result"
    }
   ],
   "source": [
    "# Some train documents (texts) are not annotated \n",
    "len(set(df_text_train[\"doc_id\"]) - set(df_codes_train_ner_final[\"doc_id\"]))"
   ]
  },
  {
   "cell_type": "code",
   "execution_count": 34,
   "metadata": {},
   "outputs": [],
   "source": [
    "train_doc_list = sorted(set(df_codes_train_ner_final[\"doc_id\"]))"
   ]
  },
  {
   "cell_type": "code",
   "execution_count": 35,
   "metadata": {},
   "outputs": [
    {
     "data": {
      "text/plain": [
       "750"
      ]
     },
     "execution_count": 35,
     "metadata": {},
     "output_type": "execute_result"
    }
   ],
   "source": [
    "len(train_doc_list)"
   ]
  },
  {
   "cell_type": "code",
   "execution_count": 40,
   "metadata": {},
   "outputs": [],
   "source": [
    "# Sentence-Split data"
   ]
  },
  {
   "cell_type": "code",
   "execution_count": 36,
   "metadata": {},
   "outputs": [
    {
     "name": "stdout",
     "output_type": "stream",
     "text": [
      "CPU times: user 21.2 ms, sys: 19.7 ms, total: 40.9 ms\n",
      "Wall time: 38.1 ms\n"
     ]
    }
   ],
   "source": [
    "%%time\n",
    "ss_sub_corpus_path = ss_corpus_path + \"training/\"\n",
    "ss_files = [f for f in os.listdir(ss_sub_corpus_path) if os.path.isfile(ss_sub_corpus_path + f)]\n",
    "ss_dict_train = load_ss_files(ss_files, ss_sub_corpus_path)"
   ]
  },
  {
   "cell_type": "code",
   "execution_count": 37,
   "metadata": {},
   "outputs": [
    {
     "name": "stderr",
     "output_type": "stream",
     "text": [
      "100%|██████████| 750/750 [01:09<00:00, 10.76it/s]"
     ]
    },
    {
     "name": "stdout",
     "output_type": "stream",
     "text": [
      "CPU times: user 1min 9s, sys: 156 ms, total: 1min 10s\n",
      "Wall time: 1min 9s\n"
     ]
    },
    {
     "name": "stderr",
     "output_type": "stream",
     "text": [
      "\n"
     ]
    }
   ],
   "source": [
    "%%time\n",
    "train_ind, train_att, train_type, train_y, train_frag, train_start_end_frag, train_word_id = ss_create_input_data_ner(df_text=df_text_train, \n",
    "                                                  text_col=text_col, \n",
    "                                                  df_ann=df_codes_train_ner_final, doc_list=train_doc_list, ss_dict=ss_dict_train,\n",
    "                                                  tokenizer=tokenizer, lab_encoder=lab_encoder, seq_len=SEQ_LEN, \n",
    "                                                  ign_value=IGNORE_VALUE, strategy=ANN_STRATEGY, greedy=GREEDY)"
   ]
  },
  {
   "cell_type": "code",
   "execution_count": 43,
   "metadata": {},
   "outputs": [],
   "source": [
    "# Sanity check"
   ]
  },
  {
   "cell_type": "code",
   "execution_count": 38,
   "metadata": {},
   "outputs": [
    {
     "data": {
      "text/plain": [
       "(10914, 128)"
      ]
     },
     "execution_count": 38,
     "metadata": {},
     "output_type": "execute_result"
    }
   ],
   "source": [
    "train_ind.shape"
   ]
  },
  {
   "cell_type": "code",
   "execution_count": 39,
   "metadata": {},
   "outputs": [
    {
     "data": {
      "text/plain": [
       "(10914, 128)"
      ]
     },
     "execution_count": 39,
     "metadata": {},
     "output_type": "execute_result"
    }
   ],
   "source": [
    "train_att.shape"
   ]
  },
  {
   "cell_type": "code",
   "execution_count": 40,
   "metadata": {},
   "outputs": [
    {
     "data": {
      "text/plain": [
       "(10914, 128)"
      ]
     },
     "execution_count": 40,
     "metadata": {},
     "output_type": "execute_result"
    }
   ],
   "source": [
    "train_type.shape"
   ]
  },
  {
   "cell_type": "code",
   "execution_count": 41,
   "metadata": {
    "scrolled": true
   },
   "outputs": [
    {
     "data": {
      "text/plain": [
       "(10914, 128)"
      ]
     },
     "execution_count": 41,
     "metadata": {},
     "output_type": "execute_result"
    }
   ],
   "source": [
    "train_y.shape"
   ]
  },
  {
   "cell_type": "code",
   "execution_count": 42,
   "metadata": {},
   "outputs": [
    {
     "data": {
      "text/plain": [
       "750"
      ]
     },
     "execution_count": 42,
     "metadata": {},
     "output_type": "execute_result"
    }
   ],
   "source": [
    "len(train_frag)"
   ]
  },
  {
   "cell_type": "code",
   "execution_count": 43,
   "metadata": {},
   "outputs": [
    {
     "data": {
      "text/plain": [
       "10914"
      ]
     },
     "execution_count": 43,
     "metadata": {},
     "output_type": "execute_result"
    }
   ],
   "source": [
    "len(train_start_end_frag)"
   ]
  },
  {
   "cell_type": "code",
   "execution_count": 44,
   "metadata": {},
   "outputs": [
    {
     "data": {
      "text/plain": [
       "10914"
      ]
     },
     "execution_count": 44,
     "metadata": {},
     "output_type": "execute_result"
    }
   ],
   "source": [
    "len(train_word_id)"
   ]
  },
  {
   "cell_type": "code",
   "execution_count": 45,
   "metadata": {},
   "outputs": [
    {
     "data": {
      "text/plain": [
       "count    750.000000\n",
       "mean      14.552000\n",
       "std        5.020315\n",
       "min        4.000000\n",
       "25%       11.000000\n",
       "50%       14.000000\n",
       "75%       17.000000\n",
       "max       44.000000\n",
       "dtype: float64"
      ]
     },
     "execution_count": 45,
     "metadata": {},
     "output_type": "execute_result"
    }
   ],
   "source": [
    "# Check n_frag distribution across texts\n",
    "pd.Series(train_frag).describe()"
   ]
  },
  {
   "cell_type": "code",
   "execution_count": 46,
   "metadata": {},
   "outputs": [],
   "source": [
    "# Inspect a randomly selected text and its encoded version\n",
    "check_id = np.random.randint(low=0, high=len(train_doc_list), size=1)[0]"
   ]
  },
  {
   "cell_type": "code",
   "execution_count": 47,
   "metadata": {},
   "outputs": [
    {
     "data": {
      "text/plain": [
       "347"
      ]
     },
     "execution_count": 47,
     "metadata": {},
     "output_type": "execute_result"
    }
   ],
   "source": [
    "check_id"
   ]
  },
  {
   "cell_type": "code",
   "execution_count": 48,
   "metadata": {},
   "outputs": [
    {
     "data": {
      "text/plain": [
       "'cc_onco493'"
      ]
     },
     "execution_count": 48,
     "metadata": {},
     "output_type": "execute_result"
    }
   ],
   "source": [
    "train_doc_list[check_id]"
   ]
  },
  {
   "cell_type": "code",
   "execution_count": 49,
   "metadata": {
    "scrolled": true
   },
   "outputs": [
    {
     "data": {
      "text/plain": [
       "'Anamnesis\\nMujer de 73 años con antecedentes de hipertensión arterial, dislipemia, diabetes mellitus no insulinodependiente y nunca fumadora, aunque sí fumadora pasiva (marido fumador activo fallecido por cáncer de pulmón). Intervenida de prótesis de rodilla bilateral. Tratamiento crónico con atorvastatina 20mg, glimepirida 4 mg y ramipril 2,5 mg. No tiene alergias medicamentosas. Está jubilada tras trabajar como panadera. Antecedente oncológico familiar de hermano con cáncer no microcítico de pulmón.\\nPresenta en junio de 2018 episodio de derrame pericárdico, por lo que estuvo ingresada en Cardiología donde se realizó pericardiocentesis de 1.500 l de líquido serohemático, con citología negativa para malignidad. Actualmente vuelve a presentar dolor torácico y disnea.\\n\\nExploración física\\nRegular estado general, hipotensión, taquicardia, taquipnea, regurgitación yugular, pulso paradójico. Ruidos cardiacos apagados.\\n\\nPruebas complementarias\\n» Radiografía de tórax: aumento silueta cardiomediastínica.\\n» Ecocardiograma: derrame pericárdico grave.\\n» Citología y biopsia pericárdica de ventana pericárdica: adenocarcinoma con muestra insuficiente para determinaciones moleculares\\n» Tomografía computarizada (TC) toracoabdominopélvica: masa en lóbulo superior izquierdo de 80 x 20 mm, nódulo en lóbulo medio y adenopatías hiliares bilaterales y subcarinal.\\n» Fibrobroncoscopia y biopsia: adenocarcinoma de pulmón EGFR negativo, ALK y ROS-1 negativos, PDL-1 5 %.\\n\\nDiagnóstico\\nTaponamiento cardiaco. Adenocarcinoma de pulmón E-IVa (c T4N3M1a), EGFR, ALK, ROS-1 negativos, PDL-1 5 %.\\n\\nTratamiento\\nDado paciente con performance status (PS) 0 tras resolución del derrame, se decide inicio de tratamiento con carboplatino-pemetrexed, que inició el 15/9/2018.\\n\\nEvolución\\nTras 3 ciclos, presenta enfermedad estable, completando 4 ciclos y posteriormente pemetrexed de mantenimiento, con buena tolerancia al tratamiento, sin presentar toxicidades secundarias. Tras 7 ciclos de mantenimiento, en febrero de 2019, se objetiva progresión de enfermedad pulmonar y hepática y empeoramiento clínico, con reaparición de la disnea y tos, dolor torácico y síndrome constitucional. En ese momento, se hace una secuenciación masiva en biopsia líquida que muestra la presencia de una mutación driver BRAF V600E positiva. Dado que la paciente presenta mutación de BRAF, se solicita tratamiento con dabrafenib + trametinib, y se inicia tratamiento el 15/3/2019. Desde inicio del tratamiento, la paciente presenta mejoría clínica, con desaparición de la tos y dolor torácico, mejoría de la disnea y del apetito, con ganancia de peso, sin toxicidades derivadas de tratamiento. En la última visita, en junio de 2019, tras 3 ciclos se objetiva respuesta parcial. Actualmente, la paciente ha recibido el cuarto ciclo, con excelente estado general, PS0 y buena tolerancia al tratamiento.'"
      ]
     },
     "execution_count": 49,
     "metadata": {},
     "output_type": "execute_result"
    }
   ],
   "source": [
    "df_text_train[df_text_train[\"doc_id\"] == train_doc_list[check_id]][text_col].values[0]"
   ]
  },
  {
   "cell_type": "code",
   "execution_count": 50,
   "metadata": {},
   "outputs": [
    {
     "data": {
      "text/html": [
       "<div>\n",
       "<style scoped>\n",
       "    .dataframe tbody tr th:only-of-type {\n",
       "        vertical-align: middle;\n",
       "    }\n",
       "\n",
       "    .dataframe tbody tr th {\n",
       "        vertical-align: top;\n",
       "    }\n",
       "\n",
       "    .dataframe thead th {\n",
       "        text-align: right;\n",
       "    }\n",
       "</style>\n",
       "<table border=\"1\" class=\"dataframe\">\n",
       "  <thead>\n",
       "    <tr style=\"text-align: right;\">\n",
       "      <th></th>\n",
       "      <th>doc_id</th>\n",
       "      <th>text_ref</th>\n",
       "      <th>start</th>\n",
       "      <th>end</th>\n",
       "    </tr>\n",
       "  </thead>\n",
       "  <tbody>\n",
       "    <tr>\n",
       "      <th>4489</th>\n",
       "      <td>cc_onco493</td>\n",
       "      <td>cáncer</td>\n",
       "      <td>204</td>\n",
       "      <td>210</td>\n",
       "    </tr>\n",
       "    <tr>\n",
       "      <th>4490</th>\n",
       "      <td>cc_onco493</td>\n",
       "      <td>cáncer no microcítico</td>\n",
       "      <td>473</td>\n",
       "      <td>494</td>\n",
       "    </tr>\n",
       "    <tr>\n",
       "      <th>4492</th>\n",
       "      <td>cc_onco493</td>\n",
       "      <td>malignidad</td>\n",
       "      <td>708</td>\n",
       "      <td>718</td>\n",
       "    </tr>\n",
       "    <tr>\n",
       "      <th>4487</th>\n",
       "      <td>cc_onco493</td>\n",
       "      <td>adenocarcinoma</td>\n",
       "      <td>1113</td>\n",
       "      <td>1127</td>\n",
       "    </tr>\n",
       "    <tr>\n",
       "      <th>4488</th>\n",
       "      <td>cc_onco493</td>\n",
       "      <td>adenocarcinoma</td>\n",
       "      <td>1393</td>\n",
       "      <td>1407</td>\n",
       "    </tr>\n",
       "    <tr>\n",
       "      <th>4493</th>\n",
       "      <td>cc_onco493</td>\n",
       "      <td>Adenocarcinoma de pulmón E-IVa (c T4N3M1a)</td>\n",
       "      <td>1503</td>\n",
       "      <td>1545</td>\n",
       "    </tr>\n",
       "    <tr>\n",
       "      <th>4491</th>\n",
       "      <td>cc_onco493</td>\n",
       "      <td>enfermedad pulmonar y hepática</td>\n",
       "      <td>2034</td>\n",
       "      <td>2064</td>\n",
       "    </tr>\n",
       "  </tbody>\n",
       "</table>\n",
       "</div>"
      ],
      "text/plain": [
       "          doc_id                                    text_ref  start   end\n",
       "4489  cc_onco493                                      cáncer    204   210\n",
       "4490  cc_onco493                       cáncer no microcítico    473   494\n",
       "4492  cc_onco493                                  malignidad    708   718\n",
       "4487  cc_onco493                              adenocarcinoma   1113  1127\n",
       "4488  cc_onco493                              adenocarcinoma   1393  1407\n",
       "4493  cc_onco493  Adenocarcinoma de pulmón E-IVa (c T4N3M1a)   1503  1545\n",
       "4491  cc_onco493              enfermedad pulmonar y hepática   2034  2064"
      ]
     },
     "execution_count": 50,
     "metadata": {},
     "output_type": "execute_result"
    }
   ],
   "source": [
    "df_codes_train_ner_final[df_codes_train_ner_final[\"doc_id\"] == train_doc_list[check_id]]"
   ]
  },
  {
   "cell_type": "code",
   "execution_count": 51,
   "metadata": {},
   "outputs": [],
   "source": [
    "check_id_frag = sum(train_frag[:check_id])"
   ]
  },
  {
   "cell_type": "code",
   "execution_count": 52,
   "metadata": {},
   "outputs": [
    {
     "name": "stdout",
     "output_type": "stream",
     "text": [
      "[('▁Ana', (0, 9), 0, 'O'), ('m', (0, 9), 0, 'O'), ('nesi', (0, 9), 0, 'O'), ('s', (0, 9), 0, 'O'), ('▁Mu', (10, 15), 1, 'O'), ('jer', (10, 15), 1, 'O'), ('▁de', (16, 18), 2, 'O'), ('▁73', (19, 21), 3, 'O'), ('▁años', (22, 26), 4, 'O'), ('▁con', (27, 30), 5, 'O'), ('▁antecede', (31, 43), 6, 'O'), ('ntes', (31, 43), 6, 'O'), ('▁de', (44, 46), 7, 'O'), ('▁hipertensi', (47, 59), 8, 'O'), ('ón', (47, 59), 8, 'O'), ('▁arterial', (60, 68), 9, 'O'), ('▁', (68, 69), 10, 'O'), (',', (68, 69), 10, 'O'), ('▁dis', (70, 80), 11, 'O'), ('lip', (70, 80), 11, 'O'), ('emia', (70, 80), 11, 'O'), ('▁', (80, 81), 12, 'O'), (',', (80, 81), 12, 'O'), ('▁diabetes', (82, 90), 13, 'O'), ('▁mell', (91, 99), 14, 'O'), ('itus', (91, 99), 14, 'O'), ('▁no', (100, 102), 15, 'O'), ('▁insulin', (103, 122), 16, 'O'), ('o', (103, 122), 16, 'O'), ('depend', (103, 122), 16, 'O'), ('i', (103, 122), 16, 'O'), ('ente', (103, 122), 16, 'O'), ('▁y', (123, 124), 17, 'O'), ('▁nunca', (125, 130), 18, 'O'), ('▁fum', (131, 139), 19, 'O'), ('adora', (131, 139), 19, 'O'), ('▁', (139, 140), 20, 'O'), (',', (139, 140), 20, 'O'), ('▁aunque', (141, 147), 21, 'O'), ('▁sí', (148, 150), 22, 'O'), ('▁fum', (151, 159), 23, 'O'), ('adora', (151, 159), 23, 'O'), ('▁pasi', (160, 166), 24, 'O'), ('va', (160, 166), 24, 'O'), ('▁(', (167, 168), 25, 'O'), ('▁marido', (168, 174), 26, 'O'), ('▁fum', (175, 182), 27, 'O'), ('ador', (175, 182), 27, 'O'), ('▁activo', (183, 189), 28, 'O'), ('▁fall', (190, 199), 29, 'O'), ('ecido', (190, 199), 29, 'O'), ('▁por', (200, 203), 30, 'O'), ('▁cáncer', (204, 210), 31, 'B'), ('▁de', (211, 213), 32, 'O'), ('▁pul', (214, 220), 33, 'O'), ('món', (214, 220), 33, 'O'), ('▁)', (220, 221), 34, 'O'), ('▁', (221, 222), 35, 'O'), ('.', (221, 222), 35, 'O'), ('▁Interven', (223, 234), 36, 'O'), ('ida', (223, 234), 36, 'O'), ('▁de', (235, 237), 37, 'O'), ('▁pró', (238, 246), 38, 'O'), ('tes', (238, 246), 38, 'O'), ('is', (238, 246), 38, 'O'), ('▁de', (247, 249), 39, 'O'), ('▁rodil', (250, 257), 40, 'O'), ('la', (250, 257), 40, 'O'), ('▁bilateral', (258, 267), 41, 'O'), ('▁', (267, 268), 42, 'O'), ('.', (267, 268), 42, 'O'), ('▁Trata', (269, 280), 43, 'O'), ('miento', (269, 280), 43, 'O'), ('▁cr', (281, 288), 44, 'O'), ('ónico', (281, 288), 44, 'O'), ('▁con', (289, 292), 45, 'O'), ('▁', (293, 306), 46, 'O'), ('ator', (293, 306), 46, 'O'), ('vasta', (293, 306), 46, 'O'), ('tina', (293, 306), 46, 'O'), ('▁20', (307, 311), 47, 'O'), ('mg', (307, 311), 47, 'O'), ('▁', (311, 312), 48, 'O'), (',', (311, 312), 48, 'O'), ('▁gli', (313, 324), 49, 'O'), ('me', (313, 324), 49, 'O'), ('piri', (313, 324), 49, 'O'), ('da', (313, 324), 49, 'O'), ('▁4', (325, 326), 50, 'O'), ('▁mg', (327, 329), 51, 'O'), ('▁y', (330, 331), 52, 'O'), ('▁rami', (332, 340), 53, 'O'), ('pri', (332, 340), 53, 'O'), ('l', (332, 340), 53, 'O'), ('▁2', (341, 342), 54, 'O'), ('▁', (342, 343), 55, 'O'), (',', (342, 343), 55, 'O'), ('▁5', (343, 344), 56, 'O'), ('▁mg', (345, 347), 57, 'O'), ('▁', (347, 348), 58, 'O'), ('.', (347, 348), 58, 'O'), ('▁No', (349, 351), 59, 'O'), ('▁tiene', (352, 357), 60, 'O'), ('▁alergi', (358, 366), 61, 'O'), ('as', (358, 366), 61, 'O'), ('▁medicamentos', (367, 381), 62, 'O'), ('as', (367, 381), 62, 'O'), ('▁', (381, 382), 63, 'O'), ('.', (381, 382), 63, 'O'), ('▁Está', (383, 387), 64, 'O'), ('▁jubila', (388, 396), 65, 'O'), ('da', (388, 396), 65, 'O'), ('▁tras', (397, 401), 66, 'O'), ('▁trabajar', (402, 410), 67, 'O'), ('▁como', (411, 415), 68, 'O'), ('▁pana', (416, 424), 69, 'O'), ('dera', (416, 424), 69, 'O'), ('▁', (424, 425), 70, 'O'), ('.', (424, 425), 70, 'O')]\n",
      "\n",
      "\n",
      "[('▁Ante', (426, 437), 71, 'O'), ('ce', (426, 437), 71, 'O'), ('dente', (426, 437), 71, 'O'), ('▁on', (438, 448), 72, 'O'), ('c', (438, 448), 72, 'O'), ('ológico', (438, 448), 72, 'O'), ('▁familiar', (449, 457), 73, 'O'), ('▁de', (458, 460), 74, 'O'), ('▁hermano', (461, 468), 75, 'O'), ('▁con', (469, 472), 76, 'O'), ('▁cáncer', (473, 479), 77, 'B'), ('▁no', (480, 482), 78, 'I'), ('▁micro', (483, 494), 79, 'I'), ('cí', (483, 494), 79, 'I'), ('tico', (483, 494), 79, 'I'), ('▁de', (495, 497), 80, 'O'), ('▁pul', (498, 504), 81, 'O'), ('món', (498, 504), 81, 'O'), ('▁', (504, 505), 82, 'O'), ('.', (504, 505), 82, 'O'), ('▁Presenta', (506, 514), 83, 'O'), ('▁en', (515, 517), 84, 'O'), ('▁junio', (518, 523), 85, 'O'), ('▁de', (524, 526), 86, 'O'), ('▁2018', (527, 531), 87, 'O'), ('▁episodio', (532, 540), 88, 'O'), ('▁de', (541, 543), 89, 'O'), ('▁der', (544, 551), 90, 'O'), ('ram', (544, 551), 90, 'O'), ('e', (544, 551), 90, 'O'), ('▁per', (552, 563), 91, 'O'), ('ic', (552, 563), 91, 'O'), ('ár', (552, 563), 91, 'O'), ('dico', (552, 563), 91, 'O'), ('▁', (563, 564), 92, 'O'), (',', (563, 564), 92, 'O'), ('▁por', (565, 568), 93, 'O'), ('▁lo', (569, 571), 94, 'O'), ('▁que', (572, 575), 95, 'O'), ('▁estuvo', (576, 582), 96, 'O'), ('▁in', (583, 592), 97, 'O'), ('gres', (583, 592), 97, 'O'), ('ada', (583, 592), 97, 'O'), ('▁en', (593, 595), 98, 'O'), ('▁Card', (596, 607), 99, 'O'), ('i', (596, 607), 99, 'O'), ('ología', (596, 607), 99, 'O'), ('▁donde', (608, 613), 100, 'O'), ('▁se', (614, 616), 101, 'O'), ('▁realizó', (617, 624), 102, 'O'), ('▁per', (625, 643), 103, 'O'), ('i', (625, 643), 103, 'O'), ('car', (625, 643), 103, 'O'), ('dio', (625, 643), 103, 'O'), ('centes', (625, 643), 103, 'O'), ('is', (625, 643), 103, 'O'), ('▁de', (644, 646), 104, 'O'), ('▁1', (647, 648), 105, 'O'), ('▁', (648, 649), 106, 'O'), ('.', (648, 649), 106, 'O'), ('▁500', (649, 652), 107, 'O'), ('▁l', (653, 654), 108, 'O'), ('▁de', (655, 657), 109, 'O'), ('▁líquido', (658, 665), 110, 'O'), ('▁ser', (666, 678), 111, 'O'), ('o', (666, 678), 111, 'O'), ('he', (666, 678), 111, 'O'), ('mático', (666, 678), 111, 'O'), ('▁', (678, 679), 112, 'O'), (',', (678, 679), 112, 'O'), ('▁con', (680, 683), 113, 'O'), ('▁cit', (684, 693), 114, 'O'), ('ología', (684, 693), 114, 'O'), ('▁negativa', (694, 702), 115, 'O'), ('▁para', (703, 707), 116, 'O'), ('▁malign', (708, 718), 117, 'B'), ('idad', (708, 718), 117, 'B'), ('▁', (718, 719), 118, 'O'), ('.', (718, 719), 118, 'O'), ('▁Actualmente', (720, 731), 119, 'O'), ('▁vuelve', (732, 738), 120, 'O'), ('▁a', (739, 740), 121, 'O'), ('▁presentar', (741, 750), 122, 'O'), ('▁dolor', (751, 756), 123, 'O'), ('▁to', (757, 765), 124, 'O'), ('rác', (757, 765), 124, 'O'), ('ico', (757, 765), 124, 'O'), ('▁y', (766, 767), 125, 'O'), ('▁dis', (768, 774), 126, 'O'), ('ne', (768, 774), 126, 'O'), ('a', (768, 774), 126, 'O'), ('▁', (774, 775), 127, 'O'), ('.', (774, 775), 127, 'O')]\n",
      "\n",
      "\n",
      "[('▁Explo', (777, 788), 128, 'O'), ('r', (777, 788), 128, 'O'), ('ación', (777, 788), 128, 'O'), ('▁física', (789, 795), 129, 'O'), ('▁Regula', (796, 803), 130, 'O'), ('r', (796, 803), 130, 'O'), ('▁estado', (804, 810), 131, 'O'), ('▁general', (811, 818), 132, 'O'), ('▁', (818, 819), 133, 'O'), (',', (818, 819), 133, 'O'), ('▁hipo', (820, 831), 134, 'O'), ('ten', (820, 831), 134, 'O'), ('sión', (820, 831), 134, 'O'), ('▁', (831, 832), 135, 'O'), (',', (831, 832), 135, 'O'), ('▁ta', (833, 844), 136, 'O'), ('qui', (833, 844), 136, 'O'), ('car', (833, 844), 136, 'O'), ('dia', (833, 844), 136, 'O'), ('▁', (844, 845), 137, 'O'), (',', (844, 845), 137, 'O'), ('▁ta', (846, 855), 138, 'O'), ('qui', (846, 855), 138, 'O'), ('pne', (846, 855), 138, 'O'), ('a', (846, 855), 138, 'O'), ('▁', (855, 856), 139, 'O'), (',', (855, 856), 139, 'O'), ('▁re', (857, 870), 140, 'O'), ('gur', (857, 870), 140, 'O'), ('git', (857, 870), 140, 'O'), ('ación', (857, 870), 140, 'O'), ('▁y', (871, 878), 141, 'O'), ('ugu', (871, 878), 141, 'O'), ('lar', (871, 878), 141, 'O'), ('▁', (878, 879), 142, 'O'), (',', (878, 879), 142, 'O'), ('▁puls', (880, 885), 143, 'O'), ('o', (880, 885), 143, 'O'), ('▁para', (886, 896), 144, 'O'), ('dó', (886, 896), 144, 'O'), ('ji', (886, 896), 144, 'O'), ('co', (886, 896), 144, 'O'), ('▁', (896, 897), 145, 'O'), ('.', (896, 897), 145, 'O'), ('▁Ru', (898, 904), 146, 'O'), ('idos', (898, 904), 146, 'O'), ('▁cardiac', (905, 914), 147, 'O'), ('os', (905, 914), 147, 'O'), ('▁apa', (915, 923), 148, 'O'), ('gados', (915, 923), 148, 'O'), ('▁', (923, 924), 149, 'O'), ('.', (923, 924), 149, 'O'), ('▁Pru', (926, 933), 150, 'O'), ('e', (926, 933), 150, 'O'), ('bas', (926, 933), 150, 'O'), ('▁complementar', (934, 949), 151, 'O'), ('ias', (934, 949), 151, 'O'), ('▁»', (950, 951), 152, 'O'), ('▁Radi', (952, 963), 153, 'O'), ('ografía', (952, 963), 153, 'O'), ('▁de', (964, 966), 154, 'O'), ('▁tó', (967, 972), 155, 'O'), ('ra', (967, 972), 155, 'O'), ('x', (967, 972), 155, 'O'), ('▁:', (972, 973), 156, 'O'), ('▁aumento', (974, 981), 157, 'O'), ('▁siluet', (982, 989), 158, 'O'), ('a', (982, 989), 158, 'O'), ('▁cardio', (990, 1008), 159, 'O'), ('media', (990, 1008), 159, 'O'), ('stí', (990, 1008), 159, 'O'), ('nica', (990, 1008), 159, 'O'), ('▁', (1008, 1009), 160, 'O'), ('.', (1008, 1009), 160, 'O'), ('▁»', (1010, 1011), 161, 'O'), ('▁Eco', (1012, 1026), 162, 'O'), ('car', (1012, 1026), 162, 'O'), ('dio', (1012, 1026), 162, 'O'), ('grama', (1012, 1026), 162, 'O'), ('▁:', (1026, 1027), 163, 'O'), ('▁der', (1028, 1035), 164, 'O'), ('ram', (1028, 1035), 164, 'O'), ('e', (1028, 1035), 164, 'O'), ('▁per', (1036, 1047), 165, 'O'), ('ic', (1036, 1047), 165, 'O'), ('ár', (1036, 1047), 165, 'O'), ('dico', (1036, 1047), 165, 'O'), ('▁grave', (1048, 1053), 166, 'O'), ('▁', (1053, 1054), 167, 'O'), ('.', (1053, 1054), 167, 'O')]\n",
      "\n",
      "\n",
      "[('▁»', (1055, 1056), 168, 'O'), ('▁Cit', (1057, 1066), 169, 'O'), ('ología', (1057, 1066), 169, 'O'), ('▁y', (1067, 1068), 170, 'O'), ('▁bio', (1069, 1076), 171, 'O'), ('psi', (1069, 1076), 171, 'O'), ('a', (1069, 1076), 171, 'O'), ('▁per', (1077, 1088), 172, 'O'), ('ic', (1077, 1088), 172, 'O'), ('ár', (1077, 1088), 172, 'O'), ('dica', (1077, 1088), 172, 'O'), ('▁de', (1089, 1091), 173, 'O'), ('▁ventana', (1092, 1099), 174, 'O'), ('▁per', (1100, 1111), 175, 'O'), ('ic', (1100, 1111), 175, 'O'), ('ár', (1100, 1111), 175, 'O'), ('dica', (1100, 1111), 175, 'O'), ('▁:', (1111, 1112), 176, 'O'), ('▁a', (1113, 1127), 177, 'B'), ('den', (1113, 1127), 177, 'B'), ('oca', (1113, 1127), 177, 'B'), ('rci', (1113, 1127), 177, 'B'), ('noma', (1113, 1127), 177, 'B'), ('▁con', (1128, 1131), 178, 'O'), ('▁muestra', (1132, 1139), 179, 'O'), ('▁insuficient', (1140, 1152), 180, 'O'), ('e', (1140, 1152), 180, 'O'), ('▁para', (1153, 1157), 181, 'O'), ('▁determina', (1158, 1173), 182, 'O'), ('ciones', (1158, 1173), 182, 'O'), ('▁molecular', (1174, 1185), 183, 'O'), ('es', (1174, 1185), 183, 'O'), ('▁»', (1186, 1187), 184, 'O'), ('▁Tom', (1188, 1198), 185, 'O'), ('ografía', (1188, 1198), 185, 'O'), ('▁computa', (1199, 1212), 186, 'O'), ('r', (1199, 1212), 186, 'O'), ('izada', (1199, 1212), 186, 'O'), ('▁(', (1213, 1214), 187, 'O'), ('▁TC', (1214, 1216), 188, 'O'), ('▁)', (1216, 1217), 189, 'O'), ('▁to', (1218, 1239), 190, 'O'), ('ra', (1218, 1239), 190, 'O'), ('co', (1218, 1239), 190, 'O'), ('ab', (1218, 1239), 190, 'O'), ('domin', (1218, 1239), 190, 'O'), ('op', (1218, 1239), 190, 'O'), ('él', (1218, 1239), 190, 'O'), ('vica', (1218, 1239), 190, 'O'), ('▁:', (1239, 1240), 191, 'O'), ('▁masa', (1241, 1245), 192, 'O'), ('▁en', (1246, 1248), 193, 'O'), ('▁ló', (1249, 1255), 194, 'O'), ('bulo', (1249, 1255), 194, 'O'), ('▁superior', (1256, 1264), 195, 'O'), ('▁iz', (1265, 1274), 196, 'O'), ('quier', (1265, 1274), 196, 'O'), ('do', (1265, 1274), 196, 'O'), ('▁de', (1275, 1277), 197, 'O'), ('▁80', (1278, 1280), 198, 'O'), ('▁x', (1281, 1282), 199, 'O'), ('▁20', (1283, 1285), 200, 'O'), ('▁mm', (1286, 1288), 201, 'O'), ('▁', (1288, 1289), 202, 'O'), (',', (1288, 1289), 202, 'O'), ('▁nó', (1290, 1296), 203, 'O'), ('du', (1290, 1296), 203, 'O'), ('lo', (1290, 1296), 203, 'O'), ('▁en', (1297, 1299), 204, 'O'), ('▁ló', (1300, 1306), 205, 'O'), ('bulo', (1300, 1306), 205, 'O'), ('▁medio', (1307, 1312), 206, 'O'), ('▁y', (1313, 1314), 207, 'O'), ('▁ade', (1315, 1326), 208, 'O'), ('no', (1315, 1326), 208, 'O'), ('pat', (1315, 1326), 208, 'O'), ('ías', (1315, 1326), 208, 'O'), ('▁hili', (1327, 1335), 209, 'O'), ('ares', (1327, 1335), 209, 'O'), ('▁bilateral', (1336, 1347), 210, 'O'), ('es', (1336, 1347), 210, 'O'), ('▁y', (1348, 1349), 211, 'O'), ('▁sub', (1350, 1360), 212, 'O'), ('cari', (1350, 1360), 212, 'O'), ('nal', (1350, 1360), 212, 'O'), ('▁', (1360, 1361), 213, 'O'), ('.', (1360, 1361), 213, 'O')]\n",
      "\n",
      "\n",
      "[('▁»', (1362, 1363), 214, 'O'), ('▁Fi', (1364, 1381), 215, 'O'), ('bro', (1364, 1381), 215, 'O'), ('bron', (1364, 1381), 215, 'O'), ('cos', (1364, 1381), 215, 'O'), ('copi', (1364, 1381), 215, 'O'), ('a', (1364, 1381), 215, 'O'), ('▁y', (1382, 1383), 216, 'O'), ('▁bio', (1384, 1391), 217, 'O'), ('psi', (1384, 1391), 217, 'O'), ('a', (1384, 1391), 217, 'O'), ('▁:', (1391, 1392), 218, 'O'), ('▁a', (1393, 1407), 219, 'B'), ('den', (1393, 1407), 219, 'B'), ('oca', (1393, 1407), 219, 'B'), ('rci', (1393, 1407), 219, 'B'), ('noma', (1393, 1407), 219, 'B'), ('▁de', (1408, 1410), 220, 'O'), ('▁pul', (1411, 1417), 221, 'O'), ('món', (1411, 1417), 221, 'O'), ('▁EG', (1418, 1422), 222, 'O'), ('FR', (1418, 1422), 222, 'O'), ('▁negativo', (1423, 1431), 223, 'O'), ('▁', (1431, 1432), 224, 'O'), (',', (1431, 1432), 224, 'O'), ('▁A', (1433, 1436), 225, 'O'), ('LK', (1433, 1436), 225, 'O'), ('▁y', (1437, 1438), 226, 'O'), ('▁', (1439, 1442), 227, 'O'), ('ROS', (1439, 1442), 227, 'O'), ('▁-', (1442, 1443), 228, 'O'), ('▁1', (1443, 1444), 229, 'O'), ('▁negativo', (1445, 1454), 230, 'O'), ('s', (1445, 1454), 230, 'O'), ('▁', (1454, 1455), 231, 'O'), (',', (1454, 1455), 231, 'O'), ('▁P', (1456, 1459), 232, 'O'), ('DL', (1456, 1459), 232, 'O'), ('▁-', (1459, 1460), 233, 'O'), ('▁1', (1460, 1461), 234, 'O'), ('▁5', (1462, 1463), 235, 'O'), ('▁%', (1464, 1465), 236, 'O'), ('▁', (1465, 1466), 237, 'O'), ('.', (1465, 1466), 237, 'O'), ('▁Dia', (1468, 1479), 238, 'O'), ('g', (1468, 1479), 238, 'O'), ('nó', (1468, 1479), 238, 'O'), ('stico', (1468, 1479), 238, 'O'), ('▁Ta', (1480, 1492), 239, 'O'), ('pon', (1480, 1492), 239, 'O'), ('amiento', (1480, 1492), 239, 'O'), ('▁cardiac', (1493, 1501), 240, 'O'), ('o', (1493, 1501), 240, 'O'), ('▁', (1501, 1502), 241, 'O'), ('.', (1501, 1502), 241, 'O'), ('▁Ade', (1503, 1517), 242, 'B'), ('no', (1503, 1517), 242, 'B'), ('car', (1503, 1517), 242, 'B'), ('cino', (1503, 1517), 242, 'B'), ('ma', (1503, 1517), 242, 'B'), ('▁de', (1518, 1520), 243, 'I'), ('▁pul', (1521, 1527), 244, 'I'), ('món', (1521, 1527), 244, 'I'), ('▁E', (1528, 1529), 245, 'I'), ('▁-', (1529, 1530), 246, 'I'), ('▁IV', (1530, 1533), 247, 'I'), ('a', (1530, 1533), 247, 'I'), ('▁(', (1534, 1535), 248, 'I'), ('▁c', (1535, 1536), 249, 'I'), ('▁T', (1537, 1544), 250, 'I'), ('4', (1537, 1544), 250, 'I'), ('N', (1537, 1544), 250, 'I'), ('3', (1537, 1544), 250, 'I'), ('M', (1537, 1544), 250, 'I'), ('1', (1537, 1544), 250, 'I'), ('a', (1537, 1544), 250, 'I'), ('▁)', (1544, 1545), 251, 'I'), ('▁', (1545, 1546), 252, 'O'), (',', (1545, 1546), 252, 'O'), ('▁EG', (1547, 1551), 253, 'O'), ('FR', (1547, 1551), 253, 'O'), ('▁', (1551, 1552), 254, 'O'), (',', (1551, 1552), 254, 'O'), ('▁A', (1553, 1556), 255, 'O'), ('LK', (1553, 1556), 255, 'O'), ('▁', (1556, 1557), 256, 'O'), (',', (1556, 1557), 256, 'O'), ('▁', (1558, 1561), 257, 'O'), ('ROS', (1558, 1561), 257, 'O'), ('▁-', (1561, 1562), 258, 'O'), ('▁1', (1562, 1563), 259, 'O'), ('▁negativo', (1564, 1573), 260, 'O'), ('s', (1564, 1573), 260, 'O'), ('▁', (1573, 1574), 261, 'O'), (',', (1573, 1574), 261, 'O'), ('▁P', (1575, 1578), 262, 'O'), ('DL', (1575, 1578), 262, 'O'), ('▁-', (1578, 1579), 263, 'O'), ('▁1', (1579, 1580), 264, 'O'), ('▁5', (1581, 1582), 265, 'O'), ('▁%', (1583, 1584), 266, 'O'), ('▁', (1584, 1585), 267, 'O'), ('.', (1584, 1585), 267, 'O')]\n",
      "\n",
      "\n",
      "[('▁Trata', (1587, 1598), 268, 'O'), ('miento', (1587, 1598), 268, 'O'), ('▁Da', (1599, 1603), 269, 'O'), ('do', (1599, 1603), 269, 'O'), ('▁paciente', (1604, 1612), 270, 'O'), ('▁con', (1613, 1616), 271, 'O'), ('▁performance', (1617, 1628), 272, 'O'), ('▁status', (1629, 1635), 273, 'O'), ('▁(', (1636, 1637), 274, 'O'), ('▁PS', (1637, 1639), 275, 'O'), ('▁)', (1639, 1640), 276, 'O'), ('▁0', (1641, 1642), 277, 'O'), ('▁tras', (1643, 1647), 278, 'O'), ('▁resolución', (1648, 1658), 279, 'O'), ('▁del', (1659, 1662), 280, 'O'), ('▁der', (1663, 1670), 281, 'O'), ('ram', (1663, 1670), 281, 'O'), ('e', (1663, 1670), 281, 'O'), ('▁', (1670, 1671), 282, 'O'), (',', (1670, 1671), 282, 'O'), ('▁se', (1672, 1674), 283, 'O'), ('▁decide', (1675, 1681), 284, 'O'), ('▁inicio', (1682, 1688), 285, 'O'), ('▁de', (1689, 1691), 286, 'O'), ('▁tratamiento', (1692, 1703), 287, 'O'), ('▁con', (1704, 1707), 288, 'O'), ('▁car', (1708, 1720), 289, 'O'), ('bo', (1708, 1720), 289, 'O'), ('plati', (1708, 1720), 289, 'O'), ('no', (1708, 1720), 289, 'O'), ('▁-', (1720, 1721), 290, 'O'), ('▁pe', (1721, 1731), 291, 'O'), ('metre', (1721, 1731), 291, 'O'), ('x', (1721, 1731), 291, 'O'), ('ed', (1721, 1731), 291, 'O'), ('▁', (1731, 1732), 292, 'O'), (',', (1731, 1732), 292, 'O'), ('▁que', (1733, 1736), 293, 'O'), ('▁ini', (1737, 1743), 294, 'O'), ('ció', (1737, 1743), 294, 'O'), ('▁el', (1744, 1746), 295, 'O'), ('▁15', (1747, 1749), 296, 'O'), ('▁/', (1749, 1750), 297, 'O'), ('▁9', (1750, 1751), 298, 'O'), ('▁/', (1751, 1752), 299, 'O'), ('▁2018', (1752, 1756), 300, 'O'), ('▁', (1756, 1757), 301, 'O'), ('.', (1756, 1757), 301, 'O'), ('▁Evolu', (1759, 1768), 302, 'O'), ('ción', (1759, 1768), 302, 'O'), ('▁Tras', (1769, 1773), 303, 'O'), ('▁3', (1774, 1775), 304, 'O'), ('▁ciclo', (1776, 1782), 305, 'O'), ('s', (1776, 1782), 305, 'O'), ('▁', (1782, 1783), 306, 'O'), (',', (1782, 1783), 306, 'O'), ('▁presenta', (1784, 1792), 307, 'O'), ('▁enfermedad', (1793, 1803), 308, 'O'), ('▁estable', (1804, 1811), 309, 'O'), ('▁', (1811, 1812), 310, 'O'), (',', (1811, 1812), 310, 'O'), ('▁completa', (1813, 1824), 311, 'O'), ('ndo', (1813, 1824), 311, 'O'), ('▁4', (1825, 1826), 312, 'O'), ('▁ciclo', (1827, 1833), 313, 'O'), ('s', (1827, 1833), 313, 'O'), ('▁y', (1834, 1835), 314, 'O'), ('▁posteriormente', (1836, 1850), 315, 'O'), ('▁pe', (1851, 1861), 316, 'O'), ('metre', (1851, 1861), 316, 'O'), ('x', (1851, 1861), 316, 'O'), ('ed', (1851, 1861), 316, 'O'), ('▁de', (1862, 1864), 317, 'O'), ('▁mantenimiento', (1865, 1878), 318, 'O'), ('▁', (1878, 1879), 319, 'O'), (',', (1878, 1879), 319, 'O'), ('▁con', (1880, 1883), 320, 'O'), ('▁buena', (1884, 1889), 321, 'O'), ('▁toleranci', (1890, 1900), 322, 'O'), ('a', (1890, 1900), 322, 'O'), ('▁al', (1901, 1903), 323, 'O'), ('▁tratamiento', (1904, 1915), 324, 'O'), ('▁', (1915, 1916), 325, 'O'), (',', (1915, 1916), 325, 'O'), ('▁sin', (1917, 1920), 326, 'O'), ('▁presentar', (1921, 1930), 327, 'O'), ('▁', (1931, 1942), 328, 'O'), ('toxic', (1931, 1942), 328, 'O'), ('idades', (1931, 1942), 328, 'O'), ('▁secundaria', (1943, 1954), 329, 'O'), ('s', (1943, 1954), 329, 'O'), ('▁', (1954, 1955), 330, 'O'), ('.', (1954, 1955), 330, 'O')]\n",
      "\n",
      "\n",
      "[('▁Tras', (1956, 1960), 331, 'O'), ('▁7', (1961, 1962), 332, 'O'), ('▁ciclo', (1963, 1969), 333, 'O'), ('s', (1963, 1969), 333, 'O'), ('▁de', (1970, 1972), 334, 'O'), ('▁mantenimiento', (1973, 1986), 335, 'O'), ('▁', (1986, 1987), 336, 'O'), (',', (1986, 1987), 336, 'O'), ('▁en', (1988, 1990), 337, 'O'), ('▁febrero', (1991, 1998), 338, 'O'), ('▁de', (1999, 2001), 339, 'O'), ('▁2019', (2002, 2006), 340, 'O'), ('▁', (2006, 2007), 341, 'O'), (',', (2006, 2007), 341, 'O'), ('▁se', (2008, 2010), 342, 'O'), ('▁objetiva', (2011, 2019), 343, 'O'), ('▁progres', (2020, 2030), 344, 'O'), ('ión', (2020, 2030), 344, 'O'), ('▁de', (2031, 2033), 345, 'O'), ('▁enfermedad', (2034, 2044), 346, 'B'), ('▁pulmonar', (2045, 2053), 347, 'I'), ('▁y', (2054, 2055), 348, 'I'), ('▁hep', (2056, 2064), 349, 'I'), ('ática', (2056, 2064), 349, 'I'), ('▁y', (2065, 2066), 350, 'O'), ('▁emp', (2067, 2080), 351, 'O'), ('e', (2067, 2080), 351, 'O'), ('or', (2067, 2080), 351, 'O'), ('amiento', (2067, 2080), 351, 'O'), ('▁clínico', (2081, 2088), 352, 'O'), ('▁', (2088, 2089), 353, 'O'), (',', (2088, 2089), 353, 'O'), ('▁con', (2090, 2093), 354, 'O'), ('▁re', (2094, 2105), 355, 'O'), ('aparició', (2094, 2105), 355, 'O'), ('n', (2094, 2105), 355, 'O'), ('▁de', (2106, 2108), 356, 'O'), ('▁la', (2109, 2111), 357, 'O'), ('▁dis', (2112, 2118), 358, 'O'), ('ne', (2112, 2118), 358, 'O'), ('a', (2112, 2118), 358, 'O'), ('▁y', (2119, 2120), 359, 'O'), ('▁to', (2121, 2124), 360, 'O'), ('s', (2121, 2124), 360, 'O'), ('▁', (2124, 2125), 361, 'O'), (',', (2124, 2125), 361, 'O'), ('▁dolor', (2126, 2131), 362, 'O'), ('▁to', (2132, 2140), 363, 'O'), ('rác', (2132, 2140), 363, 'O'), ('ico', (2132, 2140), 363, 'O'), ('▁y', (2141, 2142), 364, 'O'), ('▁síndrome', (2143, 2151), 365, 'O'), ('▁constitucional', (2152, 2166), 366, 'O'), ('▁', (2166, 2167), 367, 'O'), ('.', (2166, 2167), 367, 'O'), ('▁En', (2168, 2170), 368, 'O'), ('▁ese', (2171, 2174), 369, 'O'), ('▁momento', (2175, 2182), 370, 'O'), ('▁', (2182, 2183), 371, 'O'), (',', (2182, 2183), 371, 'O'), ('▁se', (2184, 2186), 372, 'O'), ('▁hace', (2187, 2191), 373, 'O'), ('▁una', (2192, 2195), 374, 'O'), ('▁secuencia', (2196, 2209), 375, 'O'), ('ción', (2196, 2209), 375, 'O'), ('▁masiv', (2210, 2216), 376, 'O'), ('a', (2210, 2216), 376, 'O'), ('▁en', (2217, 2219), 377, 'O'), ('▁bio', (2220, 2227), 378, 'O'), ('psi', (2220, 2227), 378, 'O'), ('a', (2220, 2227), 378, 'O'), ('▁lí', (2228, 2235), 379, 'O'), ('qui', (2228, 2235), 379, 'O'), ('da', (2228, 2235), 379, 'O'), ('▁que', (2236, 2239), 380, 'O'), ('▁muestra', (2240, 2247), 381, 'O'), ('▁la', (2248, 2250), 382, 'O'), ('▁presencia', (2251, 2260), 383, 'O'), ('▁de', (2261, 2263), 384, 'O'), ('▁una', (2264, 2267), 385, 'O'), ('▁muta', (2268, 2276), 386, 'O'), ('ción', (2268, 2276), 386, 'O'), ('▁driver', (2277, 2283), 387, 'O'), ('▁B', (2284, 2288), 388, 'O'), ('RAF', (2284, 2288), 388, 'O'), ('▁V', (2289, 2294), 389, 'O'), ('600', (2289, 2294), 389, 'O'), ('E', (2289, 2294), 389, 'O'), ('▁positiva', (2295, 2303), 390, 'O'), ('▁', (2303, 2304), 391, 'O'), ('.', (2303, 2304), 391, 'O')]\n",
      "\n",
      "\n",
      "[('▁Da', (2305, 2309), 392, 'O'), ('do', (2305, 2309), 392, 'O'), ('▁que', (2310, 2313), 393, 'O'), ('▁la', (2314, 2316), 394, 'O'), ('▁paciente', (2317, 2325), 395, 'O'), ('▁presenta', (2326, 2334), 396, 'O'), ('▁muta', (2335, 2343), 397, 'O'), ('ción', (2335, 2343), 397, 'O'), ('▁de', (2344, 2346), 398, 'O'), ('▁B', (2347, 2351), 399, 'O'), ('RAF', (2347, 2351), 399, 'O'), ('▁', (2351, 2352), 400, 'O'), (',', (2351, 2352), 400, 'O'), ('▁se', (2353, 2355), 401, 'O'), ('▁solicita', (2356, 2364), 402, 'O'), ('▁tratamiento', (2365, 2376), 403, 'O'), ('▁con', (2377, 2380), 404, 'O'), ('▁da', (2381, 2391), 405, 'O'), ('bra', (2381, 2391), 405, 'O'), ('fen', (2381, 2391), 405, 'O'), ('ib', (2381, 2391), 405, 'O'), ('▁+', (2392, 2393), 406, 'O'), ('▁tram', (2394, 2404), 407, 'O'), ('etin', (2394, 2404), 407, 'O'), ('ib', (2394, 2404), 407, 'O'), ('▁', (2404, 2405), 408, 'O'), (',', (2404, 2405), 408, 'O'), ('▁y', (2406, 2407), 409, 'O'), ('▁se', (2408, 2410), 410, 'O'), ('▁inicia', (2411, 2417), 411, 'O'), ('▁tratamiento', (2418, 2429), 412, 'O'), ('▁el', (2430, 2432), 413, 'O'), ('▁15', (2433, 2435), 414, 'O'), ('▁/', (2435, 2436), 415, 'O'), ('▁3', (2436, 2437), 416, 'O'), ('▁/', (2437, 2438), 417, 'O'), ('▁2019', (2438, 2442), 418, 'O'), ('▁', (2442, 2443), 419, 'O'), ('.', (2442, 2443), 419, 'O'), ('▁Desde', (2444, 2449), 420, 'O'), ('▁inicio', (2450, 2456), 421, 'O'), ('▁del', (2457, 2460), 422, 'O'), ('▁tratamiento', (2461, 2472), 423, 'O'), ('▁', (2472, 2473), 424, 'O'), (',', (2472, 2473), 424, 'O'), ('▁la', (2474, 2476), 425, 'O'), ('▁paciente', (2477, 2485), 426, 'O'), ('▁presenta', (2486, 2494), 427, 'O'), ('▁mejor', (2495, 2502), 428, 'O'), ('ía', (2495, 2502), 428, 'O'), ('▁clínica', (2503, 2510), 429, 'O'), ('▁', (2510, 2511), 430, 'O'), (',', (2510, 2511), 430, 'O'), ('▁con', (2512, 2515), 431, 'O'), ('▁desaparición', (2516, 2528), 432, 'O'), ('▁de', (2529, 2531), 433, 'O'), ('▁la', (2532, 2534), 434, 'O'), ('▁to', (2535, 2538), 435, 'O'), ('s', (2535, 2538), 435, 'O'), ('▁y', (2539, 2540), 436, 'O'), ('▁dolor', (2541, 2546), 437, 'O'), ('▁to', (2547, 2555), 438, 'O'), ('rác', (2547, 2555), 438, 'O'), ('ico', (2547, 2555), 438, 'O'), ('▁', (2555, 2556), 439, 'O'), (',', (2555, 2556), 439, 'O'), ('▁mejor', (2557, 2564), 440, 'O'), ('ía', (2557, 2564), 440, 'O'), ('▁de', (2565, 2567), 441, 'O'), ('▁la', (2568, 2570), 442, 'O'), ('▁dis', (2571, 2577), 443, 'O'), ('ne', (2571, 2577), 443, 'O'), ('a', (2571, 2577), 443, 'O'), ('▁y', (2578, 2579), 444, 'O'), ('▁del', (2580, 2583), 445, 'O'), ('▁apetit', (2584, 2591), 446, 'O'), ('o', (2584, 2591), 446, 'O'), ('▁', (2591, 2592), 447, 'O'), (',', (2591, 2592), 447, 'O'), ('▁con', (2593, 2596), 448, 'O'), ('▁gan', (2597, 2605), 449, 'O'), ('ancia', (2597, 2605), 449, 'O'), ('▁de', (2606, 2608), 450, 'O'), ('▁peso', (2609, 2613), 451, 'O'), ('▁', (2613, 2614), 452, 'O'), (',', (2613, 2614), 452, 'O'), ('▁sin', (2615, 2618), 453, 'O'), ('▁', (2619, 2630), 454, 'O'), ('toxic', (2619, 2630), 454, 'O'), ('idades', (2619, 2630), 454, 'O'), ('▁deriva', (2631, 2640), 455, 'O'), ('das', (2631, 2640), 455, 'O'), ('▁de', (2641, 2643), 456, 'O'), ('▁tratamiento', (2644, 2655), 457, 'O'), ('▁', (2655, 2656), 458, 'O'), ('.', (2655, 2656), 458, 'O'), ('▁En', (2657, 2659), 459, 'O'), ('▁la', (2660, 2662), 460, 'O'), ('▁última', (2663, 2669), 461, 'O'), ('▁visita', (2670, 2676), 462, 'O'), ('▁', (2676, 2677), 463, 'O'), (',', (2676, 2677), 463, 'O'), ('▁en', (2678, 2680), 464, 'O'), ('▁junio', (2681, 2686), 465, 'O'), ('▁de', (2687, 2689), 466, 'O'), ('▁2019', (2690, 2694), 467, 'O'), ('▁', (2694, 2695), 468, 'O'), (',', (2694, 2695), 468, 'O'), ('▁tras', (2696, 2700), 469, 'O'), ('▁3', (2701, 2702), 470, 'O'), ('▁ciclo', (2703, 2709), 471, 'O'), ('s', (2703, 2709), 471, 'O'), ('▁se', (2710, 2712), 472, 'O'), ('▁objetiva', (2713, 2721), 473, 'O'), ('▁respuesta', (2722, 2731), 474, 'O'), ('▁parcial', (2732, 2739), 475, 'O'), ('▁', (2739, 2740), 476, 'O'), ('.', (2739, 2740), 476, 'O')]\n",
      "\n",
      "\n",
      "[('▁Actualmente', (2741, 2752), 477, 'O'), ('▁', (2752, 2753), 478, 'O'), (',', (2752, 2753), 478, 'O'), ('▁la', (2754, 2756), 479, 'O'), ('▁paciente', (2757, 2765), 480, 'O'), ('▁ha', (2766, 2768), 481, 'O'), ('▁recibido', (2769, 2777), 482, 'O'), ('▁el', (2778, 2780), 483, 'O'), ('▁cuarto', (2781, 2787), 484, 'O'), ('▁ciclo', (2788, 2793), 485, 'O'), ('▁', (2793, 2794), 486, 'O'), (',', (2793, 2794), 486, 'O'), ('▁con', (2795, 2798), 487, 'O'), ('▁excelente', (2799, 2808), 488, 'O'), ('▁estado', (2809, 2815), 489, 'O'), ('▁general', (2816, 2823), 490, 'O'), ('▁', (2823, 2824), 491, 'O'), (',', (2823, 2824), 491, 'O'), ('▁PS', (2825, 2828), 492, 'O'), ('0', (2825, 2828), 492, 'O'), ('▁y', (2829, 2830), 493, 'O'), ('▁buena', (2831, 2836), 494, 'O'), ('▁toleranci', (2837, 2847), 495, 'O'), ('a', (2837, 2847), 495, 'O'), ('▁al', (2848, 2850), 496, 'O'), ('▁tratamiento', (2851, 2862), 497, 'O'), ('▁', (2862, 2863), 498, 'O'), ('.', (2862, 2863), 498, 'O')]\n",
      "\n",
      "\n"
     ]
    }
   ],
   "source": [
    "for i in range(check_id_frag, check_id_frag + train_frag[check_id]):\n",
    "    print(list(zip([tokenizer._convert_id_to_token(int(ind)) for ind in train_ind[i]][1:len(train_start_end_frag[i])+1], \n",
    "               train_start_end_frag[i], train_word_id[i], \n",
    "               [lab_encoder.inverse_transform([label])[0] if label != IGNORE_VALUE else label \\\n",
    "                for label in train_y[i][1:len(train_start_end_frag[i])+1]])))\n",
    "    print(\"\\n\")"
   ]
  },
  {
   "cell_type": "code",
   "execution_count": 53,
   "metadata": {},
   "outputs": [
    {
     "name": "stdout",
     "output_type": "stream",
     "text": [
      "<s> ▁Ana m nesi s ▁Mu jer ▁de ▁73 ▁años ▁con ▁antecede ntes ▁de ▁hipertensi ón ▁arterial ▁ , ▁dis lip emia ▁ , ▁diabetes ▁mell itus ▁no ▁insulin o depend i ente ▁y ▁nunca ▁fum adora ▁ , ▁aunque ▁sí ▁fum adora ▁pasi va ▁( ▁marido ▁fum ador ▁activo ▁fall ecido ▁por ▁cáncer ▁de ▁pul món ▁) ▁ . ▁Interven ida ▁de ▁pró tes is ▁de ▁rodil la ▁bilateral ▁ . ▁Trata miento ▁cr ónico ▁con ▁ ator vasta tina ▁20 mg ▁ , ▁gli me piri da ▁4 ▁mg ▁y ▁rami pri l ▁2 ▁ , ▁5 ▁mg ▁ . ▁No ▁tiene ▁alergi as ▁medicamentos as ▁ . ▁Está ▁jubila da ▁tras ▁trabajar ▁como ▁pana dera ▁ . </s> <pad> <pad> <pad> <pad> <pad> <pad> <pad> \n",
      "\n",
      "<s> ▁Ante ce dente ▁on c ológico ▁familiar ▁de ▁hermano ▁con ▁cáncer ▁no ▁micro cí tico ▁de ▁pul món ▁ . ▁Presenta ▁en ▁junio ▁de ▁2018 ▁episodio ▁de ▁der ram e ▁per ic ár dico ▁ , ▁por ▁lo ▁que ▁estuvo ▁in gres ada ▁en ▁Card i ología ▁donde ▁se ▁realizó ▁per i car dio centes is ▁de ▁1 ▁ . ▁500 ▁l ▁de ▁líquido ▁ser o he mático ▁ , ▁con ▁cit ología ▁negativa ▁para ▁malign idad ▁ . ▁Actualmente ▁vuelve ▁a ▁presentar ▁dolor ▁to rác ico ▁y ▁dis ne a ▁ . </s> <pad> <pad> <pad> <pad> <pad> <pad> <pad> <pad> <pad> <pad> <pad> <pad> <pad> <pad> <pad> <pad> <pad> <pad> <pad> <pad> <pad> <pad> <pad> <pad> <pad> <pad> <pad> <pad> <pad> <pad> <pad> <pad> <pad> \n",
      "\n",
      "<s> ▁Explo r ación ▁física ▁Regula r ▁estado ▁general ▁ , ▁hipo ten sión ▁ , ▁ta qui car dia ▁ , ▁ta qui pne a ▁ , ▁re gur git ación ▁y ugu lar ▁ , ▁puls o ▁para dó ji co ▁ . ▁Ru idos ▁cardiac os ▁apa gados ▁ . ▁Pru e bas ▁complementar ias ▁» ▁Radi ografía ▁de ▁tó ra x ▁: ▁aumento ▁siluet a ▁cardio media stí nica ▁ . ▁» ▁Eco car dio grama ▁: ▁der ram e ▁per ic ár dico ▁grave ▁ . </s> <pad> <pad> <pad> <pad> <pad> <pad> <pad> <pad> <pad> <pad> <pad> <pad> <pad> <pad> <pad> <pad> <pad> <pad> <pad> <pad> <pad> <pad> <pad> <pad> <pad> <pad> <pad> <pad> <pad> <pad> <pad> <pad> <pad> <pad> <pad> <pad> \n",
      "\n",
      "<s> ▁» ▁Cit ología ▁y ▁bio psi a ▁per ic ár dica ▁de ▁ventana ▁per ic ár dica ▁: ▁a den oca rci noma ▁con ▁muestra ▁insuficient e ▁para ▁determina ciones ▁molecular es ▁» ▁Tom ografía ▁computa r izada ▁( ▁TC ▁) ▁to ra co ab domin op él vica ▁: ▁masa ▁en ▁ló bulo ▁superior ▁iz quier do ▁de ▁80 ▁x ▁20 ▁mm ▁ , ▁nó du lo ▁en ▁ló bulo ▁medio ▁y ▁ade no pat ías ▁hili ares ▁bilateral es ▁y ▁sub cari nal ▁ . </s> <pad> <pad> <pad> <pad> <pad> <pad> <pad> <pad> <pad> <pad> <pad> <pad> <pad> <pad> <pad> <pad> <pad> <pad> <pad> <pad> <pad> <pad> <pad> <pad> <pad> <pad> <pad> <pad> <pad> <pad> <pad> <pad> <pad> <pad> <pad> <pad> <pad> <pad> <pad> \n",
      "\n",
      "<s> ▁» ▁Fi bro bron cos copi a ▁y ▁bio psi a ▁: ▁a den oca rci noma ▁de ▁pul món ▁EG FR ▁negativo ▁ , ▁A LK ▁y ▁ ROS ▁- ▁1 ▁negativo s ▁ , ▁P DL ▁- ▁1 ▁5 ▁% ▁ . ▁Dia g nó stico ▁Ta pon amiento ▁cardiac o ▁ . ▁Ade no car cino ma ▁de ▁pul món ▁E ▁- ▁IV a ▁( ▁c ▁T 4 N 3 M 1 a ▁) ▁ , ▁EG FR ▁ , ▁A LK ▁ , ▁ ROS ▁- ▁1 ▁negativo s ▁ , ▁P DL ▁- ▁1 ▁5 ▁% ▁ . </s> <pad> <pad> <pad> <pad> <pad> <pad> <pad> <pad> <pad> <pad> <pad> <pad> <pad> <pad> <pad> <pad> <pad> <pad> <pad> <pad> <pad> <pad> <pad> \n",
      "\n",
      "<s> ▁Trata miento ▁Da do ▁paciente ▁con ▁performance ▁status ▁( ▁PS ▁) ▁0 ▁tras ▁resolución ▁del ▁der ram e ▁ , ▁se ▁decide ▁inicio ▁de ▁tratamiento ▁con ▁car bo plati no ▁- ▁pe metre x ed ▁ , ▁que ▁ini ció ▁el ▁15 ▁/ ▁9 ▁/ ▁2018 ▁ . ▁Evolu ción ▁Tras ▁3 ▁ciclo s ▁ , ▁presenta ▁enfermedad ▁estable ▁ , ▁completa ndo ▁4 ▁ciclo s ▁y ▁posteriormente ▁pe metre x ed ▁de ▁mantenimiento ▁ , ▁con ▁buena ▁toleranci a ▁al ▁tratamiento ▁ , ▁sin ▁presentar ▁ toxic idades ▁secundaria s ▁ . </s> <pad> <pad> <pad> <pad> <pad> <pad> <pad> <pad> <pad> <pad> <pad> <pad> <pad> <pad> <pad> <pad> <pad> <pad> <pad> <pad> <pad> <pad> <pad> <pad> <pad> <pad> <pad> <pad> <pad> <pad> <pad> <pad> <pad> \n",
      "\n",
      "<s> ▁Tras ▁7 ▁ciclo s ▁de ▁mantenimiento ▁ , ▁en ▁febrero ▁de ▁2019 ▁ , ▁se ▁objetiva ▁progres ión ▁de ▁enfermedad ▁pulmonar ▁y ▁hep ática ▁y ▁emp e or amiento ▁clínico ▁ , ▁con ▁re aparició n ▁de ▁la ▁dis ne a ▁y ▁to s ▁ , ▁dolor ▁to rác ico ▁y ▁síndrome ▁constitucional ▁ . ▁En ▁ese ▁momento ▁ , ▁se ▁hace ▁una ▁secuencia ción ▁masiv a ▁en ▁bio psi a ▁lí qui da ▁que ▁muestra ▁la ▁presencia ▁de ▁una ▁muta ción ▁driver ▁B RAF ▁V 600 E ▁positiva ▁ . </s> <pad> <pad> <pad> <pad> <pad> <pad> <pad> <pad> <pad> <pad> <pad> <pad> <pad> <pad> <pad> <pad> <pad> <pad> <pad> <pad> <pad> <pad> <pad> <pad> <pad> <pad> <pad> <pad> <pad> <pad> <pad> <pad> <pad> <pad> <pad> \n",
      "\n",
      "<s> ▁Da do ▁que ▁la ▁paciente ▁presenta ▁muta ción ▁de ▁B RAF ▁ , ▁se ▁solicita ▁tratamiento ▁con ▁da bra fen ib ▁+ ▁tram etin ib ▁ , ▁y ▁se ▁inicia ▁tratamiento ▁el ▁15 ▁/ ▁3 ▁/ ▁2019 ▁ . ▁Desde ▁inicio ▁del ▁tratamiento ▁ , ▁la ▁paciente ▁presenta ▁mejor ía ▁clínica ▁ , ▁con ▁desaparición ▁de ▁la ▁to s ▁y ▁dolor ▁to rác ico ▁ , ▁mejor ía ▁de ▁la ▁dis ne a ▁y ▁del ▁apetit o ▁ , ▁con ▁gan ancia ▁de ▁peso ▁ , ▁sin ▁ toxic idades ▁deriva das ▁de ▁tratamiento ▁ . ▁En ▁la ▁última ▁visita ▁ , ▁en ▁junio ▁de ▁2019 ▁ , ▁tras ▁3 ▁ciclo s ▁se ▁objetiva ▁respuesta ▁parcial ▁ . </s> <pad> <pad> <pad> <pad> <pad> <pad> <pad> <pad> \n",
      "\n",
      "<s> ▁Actualmente ▁ , ▁la ▁paciente ▁ha ▁recibido ▁el ▁cuarto ▁ciclo ▁ , ▁con ▁excelente ▁estado ▁general ▁ , ▁PS 0 ▁y ▁buena ▁toleranci a ▁al ▁tratamiento ▁ . </s> <pad> <pad> <pad> <pad> <pad> <pad> <pad> <pad> <pad> <pad> <pad> <pad> <pad> <pad> <pad> <pad> <pad> <pad> <pad> <pad> <pad> <pad> <pad> <pad> <pad> <pad> <pad> <pad> <pad> <pad> <pad> <pad> <pad> <pad> <pad> <pad> <pad> <pad> <pad> <pad> <pad> <pad> <pad> <pad> <pad> <pad> <pad> <pad> <pad> <pad> <pad> <pad> <pad> <pad> <pad> <pad> <pad> <pad> <pad> <pad> <pad> <pad> <pad> <pad> <pad> <pad> <pad> <pad> <pad> <pad> <pad> <pad> <pad> <pad> <pad> <pad> <pad> <pad> <pad> <pad> <pad> <pad> <pad> <pad> <pad> <pad> <pad> <pad> <pad> <pad> <pad> <pad> <pad> <pad> <pad> <pad> <pad> <pad> \n",
      "\n"
     ]
    }
   ],
   "source": [
    "check_id_frag = sum(train_frag[:check_id])\n",
    "for frag in train_ind[check_id_frag:check_id_frag + train_frag[check_id]]:\n",
    "    print(' '.join([tokenizer._convert_id_to_token(int(ind)) for ind in frag]), \"\\n\")"
   ]
  },
  {
   "cell_type": "markdown",
   "metadata": {},
   "source": [
    "### Development corpus\n",
    "\n",
    "Only development texts with NER annotations are considered:"
   ]
  },
  {
   "cell_type": "code",
   "execution_count": 54,
   "metadata": {},
   "outputs": [
    {
     "data": {
      "text/plain": [
       "0"
      ]
     },
     "execution_count": 54,
     "metadata": {},
     "output_type": "execute_result"
    }
   ],
   "source": [
    "# All development documents (texts) are annotated \n",
    "len(set(df_text_dev[\"doc_id\"]) - set(df_codes_dev_ner_final[\"doc_id\"]))"
   ]
  },
  {
   "cell_type": "code",
   "execution_count": 55,
   "metadata": {},
   "outputs": [],
   "source": [
    "dev_doc_list = sorted(set(df_codes_dev_ner_final[\"doc_id\"]))"
   ]
  },
  {
   "cell_type": "code",
   "execution_count": 56,
   "metadata": {},
   "outputs": [
    {
     "data": {
      "text/plain": [
       "250"
      ]
     },
     "execution_count": 56,
     "metadata": {},
     "output_type": "execute_result"
    }
   ],
   "source": [
    "len(dev_doc_list)"
   ]
  },
  {
   "cell_type": "code",
   "execution_count": 64,
   "metadata": {},
   "outputs": [],
   "source": [
    "# Sentence-Split data"
   ]
  },
  {
   "cell_type": "code",
   "execution_count": 57,
   "metadata": {},
   "outputs": [
    {
     "name": "stdout",
     "output_type": "stream",
     "text": [
      "CPU times: user 9.25 ms, sys: 4 ms, total: 13.2 ms\n",
      "Wall time: 12.5 ms\n"
     ]
    }
   ],
   "source": [
    "%%time\n",
    "ss_sub_corpus_path = ss_corpus_path + \"development/\"\n",
    "ss_files = [f for f in os.listdir(ss_sub_corpus_path) if os.path.isfile(ss_sub_corpus_path + f)]\n",
    "ss_dict_dev = load_ss_files(ss_files, ss_sub_corpus_path)"
   ]
  },
  {
   "cell_type": "code",
   "execution_count": 58,
   "metadata": {
    "scrolled": true
   },
   "outputs": [
    {
     "name": "stderr",
     "output_type": "stream",
     "text": [
      " 84%|████████▍ | 211/250 [00:16<00:02, 18.14it/s]"
     ]
    },
    {
     "name": "stdout",
     "output_type": "stream",
     "text": [
      "I\n",
      "doc_id      cc_onco1427\n",
      "text_ref        pT3N2Mx\n",
      "start              1928\n",
      "end                1935\n",
      "Name: 803, dtype: object\n",
      "11\n",
      "11\n",
      "[[1849 1858]\n",
      " [1859 1867]\n",
      " [1868 1872]\n",
      " [1873 1887]\n",
      " [1888 1898]\n",
      " [1899 1900]\n",
      " [1900 1905]\n",
      " [1906 1916]\n",
      " [1917 1918]\n",
      " [1919 1924]\n",
      " [1924 1925]\n",
      " [1926 1935]\n",
      " [1935 1936]\n",
      " [1937 1939]\n",
      " [1940 1948]\n",
      " [1949 1952]\n",
      " [1953 1961]\n",
      " [1962 1963]\n",
      " [1964 1971]\n",
      " [1972 1980]\n",
      " [1981 1985]\n",
      " [1986 1996]\n",
      " [1996 1997]]\n"
     ]
    },
    {
     "name": "stderr",
     "output_type": "stream",
     "text": [
      "100%|██████████| 250/250 [00:19<00:00, 12.89it/s]"
     ]
    },
    {
     "name": "stdout",
     "output_type": "stream",
     "text": [
      "CPU times: user 19.5 s, sys: 8.08 ms, total: 19.5 s\n",
      "Wall time: 19.5 s\n"
     ]
    },
    {
     "name": "stderr",
     "output_type": "stream",
     "text": [
      "\n"
     ]
    }
   ],
   "source": [
    "%%time\n",
    "dev_ind, dev_att, dev_type, dev_y, dev_frag, dev_start_end_frag, dev_word_id = ss_create_input_data_ner(df_text=df_text_dev, \n",
    "                                                  text_col=text_col, \n",
    "                                                  df_ann=df_codes_dev_ner_final, doc_list=dev_doc_list, ss_dict=ss_dict_dev,\n",
    "                                                  tokenizer=tokenizer, lab_encoder=lab_encoder, seq_len=SEQ_LEN, \n",
    "                                                  ign_value=IGNORE_VALUE, strategy=ANN_STRATEGY, greedy=GREEDY)"
   ]
  },
  {
   "cell_type": "code",
   "execution_count": 67,
   "metadata": {},
   "outputs": [],
   "source": [
    "# Sanity check"
   ]
  },
  {
   "cell_type": "code",
   "execution_count": 59,
   "metadata": {},
   "outputs": [
    {
     "data": {
      "text/plain": [
       "(2965, 128)"
      ]
     },
     "execution_count": 59,
     "metadata": {},
     "output_type": "execute_result"
    }
   ],
   "source": [
    "dev_ind.shape"
   ]
  },
  {
   "cell_type": "code",
   "execution_count": 60,
   "metadata": {},
   "outputs": [
    {
     "data": {
      "text/plain": [
       "(2965, 128)"
      ]
     },
     "execution_count": 60,
     "metadata": {},
     "output_type": "execute_result"
    }
   ],
   "source": [
    "dev_att.shape"
   ]
  },
  {
   "cell_type": "code",
   "execution_count": 61,
   "metadata": {},
   "outputs": [
    {
     "data": {
      "text/plain": [
       "(2965, 128)"
      ]
     },
     "execution_count": 61,
     "metadata": {},
     "output_type": "execute_result"
    }
   ],
   "source": [
    "dev_type.shape"
   ]
  },
  {
   "cell_type": "code",
   "execution_count": 62,
   "metadata": {
    "scrolled": true
   },
   "outputs": [
    {
     "data": {
      "text/plain": [
       "(2965, 128)"
      ]
     },
     "execution_count": 62,
     "metadata": {},
     "output_type": "execute_result"
    }
   ],
   "source": [
    "dev_y.shape"
   ]
  },
  {
   "cell_type": "code",
   "execution_count": 63,
   "metadata": {},
   "outputs": [
    {
     "data": {
      "text/plain": [
       "250"
      ]
     },
     "execution_count": 63,
     "metadata": {},
     "output_type": "execute_result"
    }
   ],
   "source": [
    "len(dev_frag)"
   ]
  },
  {
   "cell_type": "code",
   "execution_count": 64,
   "metadata": {},
   "outputs": [
    {
     "data": {
      "text/plain": [
       "2965"
      ]
     },
     "execution_count": 64,
     "metadata": {},
     "output_type": "execute_result"
    }
   ],
   "source": [
    "len(dev_start_end_frag)"
   ]
  },
  {
   "cell_type": "code",
   "execution_count": 65,
   "metadata": {},
   "outputs": [
    {
     "data": {
      "text/plain": [
       "2965"
      ]
     },
     "execution_count": 65,
     "metadata": {},
     "output_type": "execute_result"
    }
   ],
   "source": [
    "len(dev_word_id)"
   ]
  },
  {
   "cell_type": "code",
   "execution_count": 66,
   "metadata": {},
   "outputs": [
    {
     "data": {
      "text/plain": [
       "count    250.000000\n",
       "mean      11.860000\n",
       "std        5.209699\n",
       "min        3.000000\n",
       "25%        8.000000\n",
       "50%       10.000000\n",
       "75%       14.000000\n",
       "max       37.000000\n",
       "dtype: float64"
      ]
     },
     "execution_count": 66,
     "metadata": {},
     "output_type": "execute_result"
    }
   ],
   "source": [
    "# Check n_frag distribution across texts\n",
    "pd.Series(dev_frag).describe()"
   ]
  },
  {
   "cell_type": "code",
   "execution_count": 67,
   "metadata": {},
   "outputs": [],
   "source": [
    "# Inspect a randomly selected text and its encoded version\n",
    "check_id = np.random.randint(low=0, high=len(dev_doc_list), size=1)[0]"
   ]
  },
  {
   "cell_type": "code",
   "execution_count": 68,
   "metadata": {},
   "outputs": [
    {
     "data": {
      "text/plain": [
       "49"
      ]
     },
     "execution_count": 68,
     "metadata": {},
     "output_type": "execute_result"
    }
   ],
   "source": [
    "check_id"
   ]
  },
  {
   "cell_type": "code",
   "execution_count": 69,
   "metadata": {},
   "outputs": [
    {
     "data": {
      "text/plain": [
       "'cc_onco1090'"
      ]
     },
     "execution_count": 69,
     "metadata": {},
     "output_type": "execute_result"
    }
   ],
   "source": [
    "dev_doc_list[check_id]"
   ]
  },
  {
   "cell_type": "code",
   "execution_count": 70,
   "metadata": {
    "scrolled": true
   },
   "outputs": [
    {
     "data": {
      "text/plain": [
       "'Anamnesis\\nMujer de 30 años, con antecedente de poliartropatía inflamatoria seronegativa de 7 años de evolución, que debuta en septiembre de 2013 con un cuadro de astenia generalizada, pérdida de peso, disnea de moderados esfuerzos, xeroftalmia y tos, adenopatías laterocervicales y aumento de tamaño de la glándula tiroides. Se realizan una ecografía y una PAAF tiroidea, sugerentes de malignidad. Se completa el estudio de extensión con una PET-TC, apreciándose metástasis óseas y ganglionares.\\nEn octubre de 2013 se realiza rastreo corporal con yodo 131, con captación a nivel del lecho tiroideo, sin objetivarse focos de captación extratiroideos. En noviembre de 2013 es intervenida con tiroidectomía completa y vaciamiento ganglionar bilateral (en el lado derecho incompleto), siendo diagnosticada de carcinoma papilar de tiroides variante esclerosante difusa con metástasis óseas y linfáticas. Presenta además derrame pleural derecho (citología positiva para cáncer de tiroides), derrame pericárdico y tromboembolismo pulmonar (TEP) agudo con infarto pulmonar en diciembre de 2013.\\n\\nExamen físico\\nExploración al ingreso a cargo de Oncología Médica:\\nSaturación 96% con oxígeno en gafas a 2 litros, 22 respiraciones por minuto.\\nPalidez cutáneo mucosa, exploración neurológica normal, debilidad generalizada.\\nNo adenomegalias a nivel cervical ni axilar, cicatriz de tiroidectomía en buen estado.\\nACR: tonos ligeramente apagados, taquicárdicos, rítmicos sin soplos, disminución del murmullo vesicular en los campos pulmonares derechos.\\nAbdomen blando, depresible, no doloroso a la palpación, no observándose masas ni megalias\\nMiembros inferiores sin edemas, no signos de trombosis venosa profunda.\\n\\nPruebas complementarias\\n- Ecografía tiroidea (18/09/2013): ecoestructura dishomogénea, microcalcificaciones difusas, no se aprecian nódulos, adenopatía adyacente laterocervical izquierda.\\n- PET-TC (21/9/2013): glándula tiroides hipermetabólica en ambos lóbulos, varios focos hipermetabólicos claramente sugerentes de metástasis óseas, afectando al esternón, húmero izquierdo, escápula izquierda y fémur izquierdo, además de cierta heterogeneidad de captación en la pelvis y el sacro. Múltiples adenopatías metabólicamente activas que afectan a las cadenas laterocervicales bilaterales y mediastínicas multinivel, resultando sospechosas de afectación metastásica.\\n- Rastreo coporal I131: captación del trazador a nivel del lecho tiroideo, sin objetivarse captación a distancia.\\n- Angio-TC (30/12/2013): tromboembolismo pulmonar de ramas arteriales segmentarias para el lóbulo inferior izquierdo con infarto pulmonar.\\n- Ecocardiografía (30/12/2013): mínimo derrame pericárdico a nivel de las cavidades izquierdas. Ligera dilatación del ventrículo derecho, sin signos de repercusión hemodinámica.\\n- Radiografía de tórax (7/2/2013): derrame pleural derecho, que alcanza hasta el tercio inferior del hemitórax derecho.\\n- Rastreo corporal total posterapia I131 150 mCi: se evidencia captación de carácter leve a nivel cervical sugerente de restos tiroideos.\\n- Ventriculografía isotópica (18/3/2014): no dilatación de cavidades ventriculares, curva de llenado ventricular levemente alterada, fracción de eyección del ventrículo izquierdo en el límite inferior de la normalidad (FEVI = 51%).\\n\\nDiagnóstico\\nCarcinoma papilar de tiroides, variante esclerosante difusa. Estadio IV (metástasis ganglionares, óseas y pleurales).\\n\\nTratamiento\\nSe realiza en noviembre de 2013 tiroidectomía y vaciamiento ganglionar, toracocentesis evacuadora de derrames pleurales de repetición.\\nEn abril de 2014 se presenta el caso en comité de tumores tiroideos, conjunto de Endocrinologia, Cirugía, Medicina Nuclear y Oncología Médica y se decide:\\n- Tratamiento con iodo radiactivo a pesar de la débil captación en el rastreo. Se traslada al Servicio de Medicina Nuclear para terapia con iodo 131, en dosis ablativas, sin presentar la lesion afinidad por iodo, con una captación débil.\\n-Tratamiento oncológico con sorafenib. Tras comprobarse la FEVI y el seguimiernto favorable del derrame pericárdico se inicia tratamiento con sorafenib con el 50% de la dosis a 200 mg c/12 h el día 19/3/2014.\\n\\nEvolución\\nTras realizar terapia ablativa, la paciente se traslada al Servicio de Oncología Médica desde Medicina Nuclear para continuar el tratamiento, realizándose FEVI = 51%, inicia sorafenib a dosis de 200 mg/12 h, con buena tolerancia; ante la mejoría clínica y la estabilización de su disnea, se da el alta.\\nEn revisión en consulta de Oncología a los 12 días del inicio del tratamiento, la paciente presenta empeoramiento clínico, con intensa astenia, somnolencia, hipoperfusión, frialdad cutánea, hipersudoración, dolor abdominal y náuseas; con sospecha de crisis hipotiroidea la paciente es ingresada, presentando durante el ingreso un episodio de disnea súbita con saturación < 80% a pesar de mascarilla con reservorio e hipotensión, requiriendo el ingreso en la UCI; finalmente, la paciente fallece por hipoxemia severa refractaria a tratamiento secundaria a TEP.'"
      ]
     },
     "execution_count": 70,
     "metadata": {},
     "output_type": "execute_result"
    }
   ],
   "source": [
    "df_text_dev[df_text_dev[\"doc_id\"] == dev_doc_list[check_id]][text_col].values[0]"
   ]
  },
  {
   "cell_type": "code",
   "execution_count": 71,
   "metadata": {},
   "outputs": [
    {
     "data": {
      "text/html": [
       "<div>\n",
       "<style scoped>\n",
       "    .dataframe tbody tr th:only-of-type {\n",
       "        vertical-align: middle;\n",
       "    }\n",
       "\n",
       "    .dataframe tbody tr th {\n",
       "        vertical-align: top;\n",
       "    }\n",
       "\n",
       "    .dataframe thead th {\n",
       "        text-align: right;\n",
       "    }\n",
       "</style>\n",
       "<table border=\"1\" class=\"dataframe\">\n",
       "  <thead>\n",
       "    <tr style=\"text-align: right;\">\n",
       "      <th></th>\n",
       "      <th>doc_id</th>\n",
       "      <th>text_ref</th>\n",
       "      <th>start</th>\n",
       "      <th>end</th>\n",
       "    </tr>\n",
       "  </thead>\n",
       "  <tbody>\n",
       "    <tr>\n",
       "      <th>236</th>\n",
       "      <td>cc_onco1090</td>\n",
       "      <td>malignidad</td>\n",
       "      <td>386</td>\n",
       "      <td>396</td>\n",
       "    </tr>\n",
       "    <tr>\n",
       "      <th>238</th>\n",
       "      <td>cc_onco1090</td>\n",
       "      <td>metástasis</td>\n",
       "      <td>463</td>\n",
       "      <td>473</td>\n",
       "    </tr>\n",
       "    <tr>\n",
       "      <th>241</th>\n",
       "      <td>cc_onco1090</td>\n",
       "      <td>carcinoma papilar de tiroides variante esclero...</td>\n",
       "      <td>805</td>\n",
       "      <td>878</td>\n",
       "    </tr>\n",
       "    <tr>\n",
       "      <th>235</th>\n",
       "      <td>cc_onco1090</td>\n",
       "      <td>cáncer</td>\n",
       "      <td>964</td>\n",
       "      <td>970</td>\n",
       "    </tr>\n",
       "    <tr>\n",
       "      <th>239</th>\n",
       "      <td>cc_onco1090</td>\n",
       "      <td>metástasis</td>\n",
       "      <td>2017</td>\n",
       "      <td>2027</td>\n",
       "    </tr>\n",
       "    <tr>\n",
       "      <th>237</th>\n",
       "      <td>cc_onco1090</td>\n",
       "      <td>metastásica</td>\n",
       "      <td>2350</td>\n",
       "      <td>2361</td>\n",
       "    </tr>\n",
       "    <tr>\n",
       "      <th>242</th>\n",
       "      <td>cc_onco1090</td>\n",
       "      <td>Carcinoma papilar de tiroides, variante escler...</td>\n",
       "      <td>3297</td>\n",
       "      <td>3356</td>\n",
       "    </tr>\n",
       "    <tr>\n",
       "      <th>240</th>\n",
       "      <td>cc_onco1090</td>\n",
       "      <td>metástasis</td>\n",
       "      <td>3370</td>\n",
       "      <td>3380</td>\n",
       "    </tr>\n",
       "  </tbody>\n",
       "</table>\n",
       "</div>"
      ],
      "text/plain": [
       "          doc_id                                           text_ref  start  \\\n",
       "236  cc_onco1090                                         malignidad    386   \n",
       "238  cc_onco1090                                         metástasis    463   \n",
       "241  cc_onco1090  carcinoma papilar de tiroides variante esclero...    805   \n",
       "235  cc_onco1090                                             cáncer    964   \n",
       "239  cc_onco1090                                         metástasis   2017   \n",
       "237  cc_onco1090                                        metastásica   2350   \n",
       "242  cc_onco1090  Carcinoma papilar de tiroides, variante escler...   3297   \n",
       "240  cc_onco1090                                         metástasis   3370   \n",
       "\n",
       "      end  \n",
       "236   396  \n",
       "238   473  \n",
       "241   878  \n",
       "235   970  \n",
       "239  2027  \n",
       "237  2361  \n",
       "242  3356  \n",
       "240  3380  "
      ]
     },
     "execution_count": 71,
     "metadata": {},
     "output_type": "execute_result"
    }
   ],
   "source": [
    "df_codes_dev_ner_final[df_codes_dev_ner_final[\"doc_id\"] == dev_doc_list[check_id]]"
   ]
  },
  {
   "cell_type": "code",
   "execution_count": 72,
   "metadata": {},
   "outputs": [],
   "source": [
    "check_id_frag = sum(dev_frag[:check_id])"
   ]
  },
  {
   "cell_type": "code",
   "execution_count": 73,
   "metadata": {},
   "outputs": [
    {
     "name": "stdout",
     "output_type": "stream",
     "text": [
      "[('▁Ana', (0, 9), 0, 'O'), ('m', (0, 9), 0, 'O'), ('nesi', (0, 9), 0, 'O'), ('s', (0, 9), 0, 'O'), ('▁Mu', (10, 15), 1, 'O'), ('jer', (10, 15), 1, 'O'), ('▁de', (16, 18), 2, 'O'), ('▁30', (19, 21), 3, 'O'), ('▁años', (22, 26), 4, 'O'), ('▁', (26, 27), 5, 'O'), (',', (26, 27), 5, 'O'), ('▁con', (28, 31), 6, 'O'), ('▁antecede', (32, 43), 7, 'O'), ('nte', (32, 43), 7, 'O'), ('▁de', (44, 46), 8, 'O'), ('▁poli', (47, 61), 9, 'O'), ('ar', (47, 61), 9, 'O'), ('trop', (47, 61), 9, 'O'), ('at', (47, 61), 9, 'O'), ('ía', (47, 61), 9, 'O'), ('▁inflama', (62, 74), 10, 'O'), ('toria', (62, 74), 10, 'O'), ('▁ser', (75, 87), 11, 'O'), ('o', (75, 87), 11, 'O'), ('nega', (75, 87), 11, 'O'), ('tiva', (75, 87), 11, 'O'), ('▁de', (88, 90), 12, 'O'), ('▁7', (91, 92), 13, 'O'), ('▁años', (93, 97), 14, 'O'), ('▁de', (98, 100), 15, 'O'), ('▁evolución', (101, 110), 16, 'O'), ('▁', (110, 111), 17, 'O'), (',', (110, 111), 17, 'O'), ('▁que', (112, 115), 18, 'O'), ('▁debut', (116, 122), 19, 'O'), ('a', (116, 122), 19, 'O'), ('▁en', (123, 125), 20, 'O'), ('▁septiembre', (126, 136), 21, 'O'), ('▁de', (137, 139), 22, 'O'), ('▁2013', (140, 144), 23, 'O'), ('▁con', (145, 148), 24, 'O'), ('▁un', (149, 151), 25, 'O'), ('▁cuadro', (152, 158), 26, 'O'), ('▁de', (159, 161), 27, 'O'), ('▁a', (162, 169), 28, 'O'), ('st', (162, 169), 28, 'O'), ('enia', (162, 169), 28, 'O'), ('▁general', (170, 182), 29, 'O'), ('izada', (170, 182), 29, 'O'), ('▁', (182, 183), 30, 'O'), (',', (182, 183), 30, 'O'), ('▁pérdida', (184, 191), 31, 'O'), ('▁de', (192, 194), 32, 'O'), ('▁peso', (195, 199), 33, 'O'), ('▁', (199, 200), 34, 'O'), (',', (199, 200), 34, 'O'), ('▁dis', (201, 207), 35, 'O'), ('ne', (201, 207), 35, 'O'), ('a', (201, 207), 35, 'O'), ('▁de', (208, 210), 36, 'O'), ('▁moder', (211, 220), 37, 'O'), ('ados', (211, 220), 37, 'O'), ('▁esfuerzo', (221, 230), 38, 'O'), ('s', (221, 230), 38, 'O'), ('▁', (230, 231), 39, 'O'), (',', (230, 231), 39, 'O'), ('▁xer', (232, 243), 40, 'O'), ('of', (232, 243), 40, 'O'), ('tal', (232, 243), 40, 'O'), ('mia', (232, 243), 40, 'O'), ('▁y', (244, 245), 41, 'O'), ('▁to', (246, 249), 42, 'O'), ('s', (246, 249), 42, 'O'), ('▁', (249, 250), 43, 'O'), (',', (249, 250), 43, 'O'), ('▁ade', (251, 262), 44, 'O'), ('no', (251, 262), 44, 'O'), ('pat', (251, 262), 44, 'O'), ('ías', (251, 262), 44, 'O'), ('▁later', (263, 279), 45, 'O'), ('o', (263, 279), 45, 'O'), ('cer', (263, 279), 45, 'O'), ('vica', (263, 279), 45, 'O'), ('les', (263, 279), 45, 'O'), ('▁y', (280, 281), 46, 'O'), ('▁aumento', (282, 289), 47, 'O'), ('▁de', (290, 292), 48, 'O'), ('▁tamaño', (293, 299), 49, 'O'), ('▁de', (300, 302), 50, 'O'), ('▁la', (303, 305), 51, 'O'), ('▁g', (306, 314), 52, 'O'), ('lán', (306, 314), 52, 'O'), ('dula', (306, 314), 52, 'O'), ('▁tiro', (315, 323), 53, 'O'), ('ides', (315, 323), 53, 'O'), ('▁', (323, 324), 54, 'O'), ('.', (323, 324), 54, 'O'), ('▁Se', (325, 327), 55, 'O'), ('▁realizan', (328, 336), 56, 'O'), ('▁una', (337, 340), 57, 'O'), ('▁ec', (341, 350), 58, 'O'), ('ografía', (341, 350), 58, 'O'), ('▁y', (351, 352), 59, 'O'), ('▁una', (353, 356), 60, 'O'), ('▁PA', (357, 361), 61, 'O'), ('AF', (357, 361), 61, 'O'), ('▁tiro', (362, 370), 62, 'O'), ('idea', (362, 370), 62, 'O'), ('▁', (370, 371), 63, 'O'), (',', (370, 371), 63, 'O'), ('▁suger', (372, 382), 64, 'O'), ('entes', (372, 382), 64, 'O'), ('▁de', (383, 385), 65, 'O'), ('▁malign', (386, 396), 66, 'B'), ('idad', (386, 396), 66, 'B'), ('▁', (396, 397), 67, 'O'), ('.', (396, 397), 67, 'O')]\n",
      "\n",
      "\n",
      "[('▁Se', (398, 400), 68, 'O'), ('▁completa', (401, 409), 69, 'O'), ('▁el', (410, 412), 70, 'O'), ('▁estudio', (413, 420), 71, 'O'), ('▁de', (421, 423), 72, 'O'), ('▁extensión', (424, 433), 73, 'O'), ('▁con', (434, 437), 74, 'O'), ('▁una', (438, 441), 75, 'O'), ('▁PET', (442, 445), 76, 'O'), ('▁-', (445, 446), 77, 'O'), ('▁TC', (446, 448), 78, 'O'), ('▁', (448, 449), 79, 'O'), (',', (448, 449), 79, 'O'), ('▁a', (450, 462), 80, 'O'), ('preci', (450, 462), 80, 'O'), ('ándose', (450, 462), 80, 'O'), ('▁met', (463, 473), 81, 'B'), ('ást', (463, 473), 81, 'B'), ('asis', (463, 473), 81, 'B'), ('▁ó', (474, 479), 82, 'O'), ('se', (474, 479), 82, 'O'), ('as', (474, 479), 82, 'O'), ('▁y', (480, 481), 83, 'O'), ('▁gang', (482, 494), 84, 'O'), ('lion', (482, 494), 84, 'O'), ('ares', (482, 494), 84, 'O'), ('▁', (494, 495), 85, 'O'), ('.', (494, 495), 85, 'O'), ('▁En', (496, 498), 86, 'O'), ('▁octubre', (499, 506), 87, 'O'), ('▁de', (507, 509), 88, 'O'), ('▁2013', (510, 514), 89, 'O'), ('▁se', (515, 517), 90, 'O'), ('▁realiza', (518, 525), 91, 'O'), ('▁rast', (526, 533), 92, 'O'), ('reo', (526, 533), 92, 'O'), ('▁corporal', (534, 542), 93, 'O'), ('▁con', (543, 546), 94, 'O'), ('▁yo', (547, 551), 95, 'O'), ('do', (547, 551), 95, 'O'), ('▁131', (552, 555), 96, 'O'), ('▁', (555, 556), 97, 'O'), (',', (555, 556), 97, 'O'), ('▁con', (557, 560), 98, 'O'), ('▁capta', (561, 570), 99, 'O'), ('ción', (561, 570), 99, 'O'), ('▁a', (571, 572), 100, 'O'), ('▁nivel', (573, 578), 101, 'O'), ('▁del', (579, 582), 102, 'O'), ('▁le', (583, 588), 103, 'O'), ('cho', (583, 588), 103, 'O'), ('▁tiro', (589, 597), 104, 'O'), ('ide', (589, 597), 104, 'O'), ('o', (589, 597), 104, 'O'), ('▁', (597, 598), 105, 'O'), (',', (597, 598), 105, 'O'), ('▁sin', (599, 602), 106, 'O'), ('▁objetiva', (603, 614), 107, 'O'), ('rse', (603, 614), 107, 'O'), ('▁foco', (615, 620), 108, 'O'), ('s', (615, 620), 108, 'O'), ('▁de', (621, 623), 109, 'O'), ('▁capta', (624, 633), 110, 'O'), ('ción', (624, 633), 110, 'O'), ('▁extra', (634, 648), 111, 'O'), ('ti', (634, 648), 111, 'O'), ('roid', (634, 648), 111, 'O'), ('e', (634, 648), 111, 'O'), ('os', (634, 648), 111, 'O'), ('▁', (648, 649), 112, 'O'), ('.', (648, 649), 112, 'O')]\n",
      "\n",
      "\n",
      "[('▁En', (650, 652), 113, 'O'), ('▁noviembre', (653, 662), 114, 'O'), ('▁de', (663, 665), 115, 'O'), ('▁2013', (666, 670), 116, 'O'), ('▁es', (671, 673), 117, 'O'), ('▁interven', (674, 685), 118, 'O'), ('ida', (674, 685), 118, 'O'), ('▁con', (686, 689), 119, 'O'), ('▁tiro', (690, 703), 120, 'O'), ('id', (690, 703), 120, 'O'), ('ecto', (690, 703), 120, 'O'), ('m', (690, 703), 120, 'O'), ('ía', (690, 703), 120, 'O'), ('▁completa', (704, 712), 121, 'O'), ('▁y', (713, 714), 122, 'O'), ('▁va', (715, 726), 123, 'O'), ('ci', (715, 726), 123, 'O'), ('amiento', (715, 726), 123, 'O'), ('▁gang', (727, 737), 124, 'O'), ('lion', (727, 737), 124, 'O'), ('ar', (727, 737), 124, 'O'), ('▁bilateral', (738, 747), 125, 'O'), ('▁(', (748, 749), 126, 'O'), ('▁en', (749, 751), 127, 'O'), ('▁el', (752, 754), 128, 'O'), ('▁lado', (755, 759), 129, 'O'), ('▁derecho', (760, 767), 130, 'O'), ('▁incomp', (768, 778), 131, 'O'), ('le', (768, 778), 131, 'O'), ('to', (768, 778), 131, 'O'), ('▁)', (778, 779), 132, 'O'), ('▁', (779, 780), 133, 'O'), (',', (779, 780), 133, 'O'), ('▁siendo', (781, 787), 134, 'O'), ('▁diagnostic', (788, 801), 135, 'O'), ('ada', (788, 801), 135, 'O'), ('▁de', (802, 804), 136, 'O'), ('▁car', (805, 814), 137, 'B'), ('cino', (805, 814), 137, 'B'), ('ma', (805, 814), 137, 'B'), ('▁papil', (815, 822), 138, 'I'), ('ar', (815, 822), 138, 'I'), ('▁de', (823, 825), 139, 'I'), ('▁tiro', (826, 834), 140, 'I'), ('ides', (826, 834), 140, 'I'), ('▁variante', (835, 843), 141, 'I'), ('▁es', (844, 856), 142, 'I'), ('cle', (844, 856), 142, 'I'), ('ros', (844, 856), 142, 'I'), ('ante', (844, 856), 142, 'I'), ('▁dif', (857, 863), 143, 'I'), ('usa', (857, 863), 143, 'I'), ('▁con', (864, 867), 144, 'I'), ('▁met', (868, 878), 145, 'I'), ('ást', (868, 878), 145, 'I'), ('asis', (868, 878), 145, 'I'), ('▁ó', (879, 884), 146, 'O'), ('se', (879, 884), 146, 'O'), ('as', (879, 884), 146, 'O'), ('▁y', (885, 886), 147, 'O'), ('▁lin', (887, 897), 148, 'O'), ('fá', (887, 897), 148, 'O'), ('ticas', (887, 897), 148, 'O'), ('▁', (897, 898), 149, 'O'), ('.', (897, 898), 149, 'O'), ('▁Presenta', (899, 907), 150, 'O'), ('▁además', (908, 914), 151, 'O'), ('▁der', (915, 922), 152, 'O'), ('ram', (915, 922), 152, 'O'), ('e', (915, 922), 152, 'O'), ('▁ple', (923, 930), 153, 'O'), ('ural', (923, 930), 153, 'O'), ('▁derecho', (931, 938), 154, 'O'), ('▁(', (939, 940), 155, 'O'), ('▁cit', (940, 949), 156, 'O'), ('ología', (940, 949), 156, 'O'), ('▁positiva', (950, 958), 157, 'O'), ('▁para', (959, 963), 158, 'O'), ('▁cáncer', (964, 970), 159, 'B'), ('▁de', (971, 973), 160, 'O'), ('▁tiro', (974, 982), 161, 'O'), ('ides', (974, 982), 161, 'O'), ('▁)', (982, 983), 162, 'O'), ('▁', (983, 984), 163, 'O'), (',', (983, 984), 163, 'O'), ('▁der', (985, 992), 164, 'O'), ('ram', (985, 992), 164, 'O'), ('e', (985, 992), 164, 'O'), ('▁per', (993, 1004), 165, 'O'), ('ic', (993, 1004), 165, 'O'), ('ár', (993, 1004), 165, 'O'), ('dico', (993, 1004), 165, 'O'), ('▁y', (1005, 1006), 166, 'O'), ('▁trombo', (1007, 1022), 167, 'O'), ('e', (1007, 1022), 167, 'O'), ('mbol', (1007, 1022), 167, 'O'), ('ismo', (1007, 1022), 167, 'O'), ('▁pulmonar', (1023, 1031), 168, 'O'), ('▁(', (1032, 1033), 169, 'O'), ('▁T', (1033, 1036), 170, 'O'), ('EP', (1033, 1036), 170, 'O'), ('▁)', (1036, 1037), 171, 'O'), ('▁ag', (1038, 1043), 172, 'O'), ('udo', (1038, 1043), 172, 'O'), ('▁con', (1044, 1047), 173, 'O'), ('▁in', (1048, 1055), 174, 'O'), ('far', (1048, 1055), 174, 'O'), ('to', (1048, 1055), 174, 'O'), ('▁pulmonar', (1056, 1064), 175, 'O'), ('▁en', (1065, 1067), 176, 'O'), ('▁diciembre', (1068, 1077), 177, 'O'), ('▁de', (1078, 1080), 178, 'O'), ('▁2013', (1081, 1085), 179, 'O'), ('▁', (1085, 1086), 180, 'O'), ('.', (1085, 1086), 180, 'O')]\n",
      "\n",
      "\n",
      "[('▁Exam', (1088, 1094), 181, 'O'), ('en', (1088, 1094), 181, 'O'), ('▁físico', (1095, 1101), 182, 'O'), ('▁Explo', (1102, 1113), 183, 'O'), ('r', (1102, 1113), 183, 'O'), ('ación', (1102, 1113), 183, 'O'), ('▁al', (1114, 1116), 184, 'O'), ('▁ingreso', (1117, 1124), 185, 'O'), ('▁a', (1125, 1126), 186, 'O'), ('▁cargo', (1127, 1132), 187, 'O'), ('▁de', (1133, 1135), 188, 'O'), ('▁On', (1136, 1145), 189, 'O'), ('c', (1136, 1145), 189, 'O'), ('ología', (1136, 1145), 189, 'O'), ('▁Mé', (1146, 1152), 190, 'O'), ('dica', (1146, 1152), 190, 'O'), ('▁:', (1152, 1153), 191, 'O'), ('▁Sa', (1154, 1164), 192, 'O'), ('tur', (1154, 1164), 192, 'O'), ('ación', (1154, 1164), 192, 'O'), ('▁96', (1165, 1167), 193, 'O'), ('▁%', (1167, 1168), 194, 'O'), ('▁con', (1169, 1172), 195, 'O'), ('▁o', (1173, 1180), 196, 'O'), ('xí', (1173, 1180), 196, 'O'), ('geno', (1173, 1180), 196, 'O'), ('▁en', (1181, 1183), 197, 'O'), ('▁gaf', (1184, 1189), 198, 'O'), ('as', (1184, 1189), 198, 'O'), ('▁a', (1190, 1191), 199, 'O'), ('▁2', (1192, 1193), 200, 'O'), ('▁litr', (1194, 1200), 201, 'O'), ('os', (1194, 1200), 201, 'O'), ('▁', (1200, 1201), 202, 'O'), (',', (1200, 1201), 202, 'O'), ('▁22', (1202, 1204), 203, 'O'), ('▁respira', (1205, 1218), 204, 'O'), ('ciones', (1205, 1218), 204, 'O'), ('▁por', (1219, 1222), 205, 'O'), ('▁minuto', (1223, 1229), 206, 'O'), ('▁', (1229, 1230), 207, 'O'), ('.', (1229, 1230), 207, 'O'), ('▁Pali', (1231, 1238), 208, 'O'), ('dez', (1231, 1238), 208, 'O'), ('▁cu', (1239, 1246), 209, 'O'), ('tá', (1239, 1246), 209, 'O'), ('neo', (1239, 1246), 209, 'O'), ('▁mu', (1247, 1253), 210, 'O'), ('cosa', (1247, 1253), 210, 'O'), ('▁', (1253, 1254), 211, 'O'), (',', (1253, 1254), 211, 'O'), ('▁explora', (1255, 1266), 212, 'O'), ('ción', (1255, 1266), 212, 'O'), ('▁neuro', (1267, 1278), 213, 'O'), ('lógica', (1267, 1278), 213, 'O'), ('▁normal', (1279, 1285), 214, 'O'), ('▁', (1285, 1286), 215, 'O'), (',', (1285, 1286), 215, 'O'), ('▁de', (1287, 1296), 216, 'O'), ('bilidad', (1287, 1296), 216, 'O'), ('▁general', (1297, 1309), 217, 'O'), ('izada', (1297, 1309), 217, 'O'), ('▁', (1309, 1310), 218, 'O'), ('.', (1309, 1310), 218, 'O'), ('▁No', (1311, 1313), 219, 'O'), ('▁ade', (1314, 1327), 220, 'O'), ('nome', (1314, 1327), 220, 'O'), ('gali', (1314, 1327), 220, 'O'), ('as', (1314, 1327), 220, 'O'), ('▁a', (1328, 1329), 221, 'O'), ('▁nivel', (1330, 1335), 222, 'O'), ('▁cer', (1336, 1344), 223, 'O'), ('vi', (1336, 1344), 223, 'O'), ('cal', (1336, 1344), 223, 'O'), ('▁ni', (1345, 1347), 224, 'O'), ('▁a', (1348, 1354), 225, 'O'), ('xi', (1348, 1354), 225, 'O'), ('lar', (1348, 1354), 225, 'O'), ('▁', (1354, 1355), 226, 'O'), (',', (1354, 1355), 226, 'O'), ('▁cica', (1356, 1364), 227, 'O'), ('t', (1356, 1364), 227, 'O'), ('riz', (1356, 1364), 227, 'O'), ('▁de', (1365, 1367), 228, 'O'), ('▁tiro', (1368, 1381), 229, 'O'), ('id', (1368, 1381), 229, 'O'), ('ecto', (1368, 1381), 229, 'O'), ('m', (1368, 1381), 229, 'O'), ('ía', (1368, 1381), 229, 'O'), ('▁en', (1382, 1384), 230, 'O'), ('▁buen', (1385, 1389), 231, 'O'), ('▁estado', (1390, 1396), 232, 'O'), ('▁', (1396, 1397), 233, 'O'), ('.', (1396, 1397), 233, 'O')]\n",
      "\n",
      "\n",
      "[('▁A', (1398, 1401), 234, 'O'), ('CR', (1398, 1401), 234, 'O'), ('▁:', (1401, 1402), 235, 'O'), ('▁to', (1403, 1408), 236, 'O'), ('nos', (1403, 1408), 236, 'O'), ('▁lige', (1409, 1420), 237, 'O'), ('r', (1409, 1420), 237, 'O'), ('amente', (1409, 1420), 237, 'O'), ('▁apa', (1421, 1429), 238, 'O'), ('gados', (1421, 1429), 238, 'O'), ('▁', (1429, 1430), 239, 'O'), (',', (1429, 1430), 239, 'O'), ('▁ta', (1431, 1444), 240, 'O'), ('qui', (1431, 1444), 240, 'O'), ('c', (1431, 1444), 240, 'O'), ('árd', (1431, 1444), 240, 'O'), ('icos', (1431, 1444), 240, 'O'), ('▁', (1444, 1445), 241, 'O'), (',', (1444, 1445), 241, 'O'), ('▁rí', (1446, 1454), 242, 'O'), ('t', (1446, 1454), 242, 'O'), ('mico', (1446, 1454), 242, 'O'), ('s', (1446, 1454), 242, 'O'), ('▁sin', (1455, 1458), 243, 'O'), ('▁sop', (1459, 1465), 244, 'O'), ('los', (1459, 1465), 244, 'O'), ('▁', (1465, 1466), 245, 'O'), (',', (1465, 1466), 245, 'O'), ('▁dis', (1467, 1478), 246, 'O'), ('minu', (1467, 1478), 246, 'O'), ('ción', (1467, 1478), 246, 'O'), ('▁del', (1479, 1482), 247, 'O'), ('▁mur', (1483, 1491), 248, 'O'), ('m', (1483, 1491), 248, 'O'), ('ullo', (1483, 1491), 248, 'O'), ('▁vesi', (1492, 1501), 249, 'O'), ('cular', (1492, 1501), 249, 'O'), ('▁en', (1502, 1504), 250, 'O'), ('▁los', (1505, 1508), 251, 'O'), ('▁campos', (1509, 1515), 252, 'O'), ('▁pulmonar', (1516, 1526), 253, 'O'), ('es', (1516, 1526), 253, 'O'), ('▁derechos', (1527, 1535), 254, 'O'), ('▁', (1535, 1536), 255, 'O'), ('.', (1535, 1536), 255, 'O'), ('▁Ab', (1537, 1544), 256, 'O'), ('dom', (1537, 1544), 256, 'O'), ('en', (1537, 1544), 256, 'O'), ('▁bland', (1545, 1551), 257, 'O'), ('o', (1545, 1551), 257, 'O'), ('▁', (1551, 1552), 258, 'O'), (',', (1551, 1552), 258, 'O'), ('▁depresi', (1553, 1563), 259, 'O'), ('ble', (1553, 1563), 259, 'O'), ('▁', (1563, 1564), 260, 'O'), (',', (1563, 1564), 260, 'O'), ('▁no', (1565, 1567), 261, 'O'), ('▁dolor', (1568, 1576), 262, 'O'), ('oso', (1568, 1576), 262, 'O'), ('▁a', (1577, 1578), 263, 'O'), ('▁la', (1579, 1581), 264, 'O'), ('▁palp', (1582, 1591), 265, 'O'), ('ación', (1582, 1591), 265, 'O'), ('▁', (1591, 1592), 266, 'O'), (',', (1591, 1592), 266, 'O'), ('▁no', (1593, 1595), 267, 'O'), ('▁observ', (1596, 1608), 268, 'O'), ('ándose', (1596, 1608), 268, 'O'), ('▁masa', (1609, 1614), 269, 'O'), ('s', (1609, 1614), 269, 'O'), ('▁ni', (1615, 1617), 270, 'O'), ('▁meg', (1618, 1626), 271, 'O'), ('alia', (1618, 1626), 271, 'O'), ('s', (1618, 1626), 271, 'O'), ('▁Mie', (1627, 1635), 272, 'O'), ('mbro', (1627, 1635), 272, 'O'), ('s', (1627, 1635), 272, 'O'), ('▁inferiore', (1636, 1646), 273, 'O'), ('s', (1636, 1646), 273, 'O'), ('▁sin', (1647, 1650), 274, 'O'), ('▁e', (1651, 1657), 275, 'O'), ('de', (1651, 1657), 275, 'O'), ('mas', (1651, 1657), 275, 'O'), ('▁', (1657, 1658), 276, 'O'), (',', (1657, 1658), 276, 'O'), ('▁no', (1659, 1661), 277, 'O'), ('▁signo', (1662, 1668), 278, 'O'), ('s', (1662, 1668), 278, 'O'), ('▁de', (1669, 1671), 279, 'O'), ('▁trombo', (1672, 1681), 280, 'O'), ('sis', (1672, 1681), 280, 'O'), ('▁ven', (1682, 1688), 281, 'O'), ('osa', (1682, 1688), 281, 'O'), ('▁profunda', (1689, 1697), 282, 'O'), ('▁', (1697, 1698), 283, 'O'), ('.', (1697, 1698), 283, 'O')]\n",
      "\n",
      "\n",
      "[('▁Pru', (1700, 1707), 284, 'O'), ('e', (1700, 1707), 284, 'O'), ('bas', (1700, 1707), 284, 'O'), ('▁complementar', (1708, 1723), 285, 'O'), ('ias', (1708, 1723), 285, 'O'), ('▁-', (1724, 1725), 286, 'O'), ('▁Ec', (1726, 1735), 287, 'O'), ('ografía', (1726, 1735), 287, 'O'), ('▁tiro', (1736, 1744), 288, 'O'), ('idea', (1736, 1744), 288, 'O'), ('▁(', (1745, 1746), 289, 'O'), ('▁18', (1746, 1748), 290, 'O'), ('▁/', (1748, 1749), 291, 'O'), ('▁09', (1749, 1751), 292, 'O'), ('▁/', (1751, 1752), 293, 'O'), ('▁2013', (1752, 1756), 294, 'O'), ('▁)', (1756, 1757), 295, 'O'), ('▁:', (1757, 1758), 296, 'O'), ('▁eco', (1759, 1772), 297, 'O'), ('estructura', (1759, 1772), 297, 'O'), ('▁di', (1773, 1785), 298, 'O'), ('sho', (1773, 1785), 298, 'O'), ('mo', (1773, 1785), 298, 'O'), ('gén', (1773, 1785), 298, 'O'), ('e', (1773, 1785), 298, 'O'), ('a', (1773, 1785), 298, 'O'), ('▁', (1785, 1786), 299, 'O'), (',', (1785, 1786), 299, 'O'), ('▁micro', (1787, 1807), 300, 'O'), ('cal', (1787, 1807), 300, 'O'), ('ci', (1787, 1807), 300, 'O'), ('fica', (1787, 1807), 300, 'O'), ('ciones', (1787, 1807), 300, 'O'), ('▁di', (1808, 1815), 301, 'O'), ('fus', (1808, 1815), 301, 'O'), ('as', (1808, 1815), 301, 'O'), ('▁', (1815, 1816), 302, 'O'), (',', (1815, 1816), 302, 'O'), ('▁no', (1817, 1819), 303, 'O'), ('▁se', (1820, 1822), 304, 'O'), ('▁aprecia', (1823, 1831), 305, 'O'), ('n', (1823, 1831), 305, 'O'), ('▁nó', (1832, 1839), 306, 'O'), ('du', (1832, 1839), 306, 'O'), ('los', (1832, 1839), 306, 'O'), ('▁', (1839, 1840), 307, 'O'), (',', (1839, 1840), 307, 'O'), ('▁ade', (1841, 1851), 308, 'O'), ('no', (1841, 1851), 308, 'O'), ('pat', (1841, 1851), 308, 'O'), ('ía', (1841, 1851), 308, 'O'), ('▁ad', (1852, 1861), 309, 'O'), ('ya', (1852, 1861), 309, 'O'), ('cente', (1852, 1861), 309, 'O'), ('▁later', (1862, 1876), 310, 'O'), ('oce', (1862, 1876), 310, 'O'), ('rvi', (1862, 1876), 310, 'O'), ('cal', (1862, 1876), 310, 'O'), ('▁izquierda', (1877, 1886), 311, 'O'), ('▁', (1886, 1887), 312, 'O'), ('.', (1886, 1887), 312, 'O')]\n",
      "\n",
      "\n",
      "[('▁-', (1888, 1889), 313, 'O'), ('▁PET', (1890, 1893), 314, 'O'), ('▁-', (1893, 1894), 315, 'O'), ('▁TC', (1894, 1896), 316, 'O'), ('▁(', (1897, 1898), 317, 'O'), ('▁21', (1898, 1900), 318, 'O'), ('▁/', (1900, 1901), 319, 'O'), ('▁9', (1901, 1902), 320, 'O'), ('▁/', (1902, 1903), 321, 'O'), ('▁2013', (1903, 1907), 322, 'O'), ('▁)', (1907, 1908), 323, 'O'), ('▁:', (1908, 1909), 324, 'O'), ('▁g', (1910, 1918), 325, 'O'), ('lán', (1910, 1918), 325, 'O'), ('dula', (1910, 1918), 325, 'O'), ('▁tiro', (1919, 1927), 326, 'O'), ('ides', (1919, 1927), 326, 'O'), ('▁hiper', (1928, 1943), 327, 'O'), ('meta', (1928, 1943), 327, 'O'), ('ból', (1928, 1943), 327, 'O'), ('ica', (1928, 1943), 327, 'O'), ('▁en', (1944, 1946), 328, 'O'), ('▁ambos', (1947, 1952), 329, 'O'), ('▁ló', (1953, 1960), 330, 'O'), ('bulo', (1953, 1960), 330, 'O'), ('s', (1953, 1960), 330, 'O'), ('▁', (1960, 1961), 331, 'O'), (',', (1960, 1961), 331, 'O'), ('▁varios', (1962, 1968), 332, 'O'), ('▁foco', (1969, 1974), 333, 'O'), ('s', (1969, 1974), 333, 'O'), ('▁hiper', (1975, 1991), 334, 'O'), ('meta', (1975, 1991), 334, 'O'), ('ból', (1975, 1991), 334, 'O'), ('icos', (1975, 1991), 334, 'O'), ('▁claramente', (1992, 2002), 335, 'O'), ('▁suger', (2003, 2013), 336, 'O'), ('entes', (2003, 2013), 336, 'O'), ('▁de', (2014, 2016), 337, 'O'), ('▁met', (2017, 2027), 338, 'B'), ('ást', (2017, 2027), 338, 'B'), ('asis', (2017, 2027), 338, 'B'), ('▁ó', (2028, 2033), 339, 'O'), ('se', (2028, 2033), 339, 'O'), ('as', (2028, 2033), 339, 'O'), ('▁', (2033, 2034), 340, 'O'), (',', (2033, 2034), 340, 'O'), ('▁afecta', (2035, 2044), 341, 'O'), ('ndo', (2035, 2044), 341, 'O'), ('▁al', (2045, 2047), 342, 'O'), ('▁e', (2048, 2056), 343, 'O'), ('stern', (2048, 2056), 343, 'O'), ('ón', (2048, 2056), 343, 'O'), ('▁', (2056, 2057), 344, 'O'), (',', (2056, 2057), 344, 'O'), ('▁hú', (2058, 2064), 345, 'O'), ('mer', (2058, 2064), 345, 'O'), ('o', (2058, 2064), 345, 'O'), ('▁iz', (2065, 2074), 346, 'O'), ('quier', (2065, 2074), 346, 'O'), ('do', (2065, 2074), 346, 'O'), ('▁', (2074, 2075), 347, 'O'), (',', (2074, 2075), 347, 'O'), ('▁es', (2076, 2084), 348, 'O'), ('cá', (2076, 2084), 348, 'O'), ('pula', (2076, 2084), 348, 'O'), ('▁izquierda', (2085, 2094), 349, 'O'), ('▁y', (2095, 2096), 350, 'O'), ('▁fé', (2097, 2102), 351, 'O'), ('mur', (2097, 2102), 351, 'O'), ('▁iz', (2103, 2112), 352, 'O'), ('quier', (2103, 2112), 352, 'O'), ('do', (2103, 2112), 352, 'O'), ('▁', (2112, 2113), 353, 'O'), (',', (2112, 2113), 353, 'O'), ('▁además', (2114, 2120), 354, 'O'), ('▁de', (2121, 2123), 355, 'O'), ('▁cierta', (2124, 2130), 356, 'O'), ('▁hetero', (2131, 2145), 357, 'O'), ('gene', (2131, 2145), 357, 'O'), ('idad', (2131, 2145), 357, 'O'), ('▁de', (2146, 2148), 358, 'O'), ('▁capta', (2149, 2158), 359, 'O'), ('ción', (2149, 2158), 359, 'O'), ('▁en', (2159, 2161), 360, 'O'), ('▁la', (2162, 2164), 361, 'O'), ('▁pel', (2165, 2171), 362, 'O'), ('vis', (2165, 2171), 362, 'O'), ('▁y', (2172, 2173), 363, 'O'), ('▁el', (2174, 2176), 364, 'O'), ('▁sa', (2177, 2182), 365, 'O'), ('cro', (2177, 2182), 365, 'O'), ('▁', (2182, 2183), 366, 'O'), ('.', (2182, 2183), 366, 'O')]\n",
      "\n",
      "\n",
      "[('▁Mú', (2184, 2193), 367, 'O'), ('lti', (2184, 2193), 367, 'O'), ('ples', (2184, 2193), 367, 'O'), ('▁ade', (2194, 2205), 368, 'O'), ('no', (2194, 2205), 368, 'O'), ('pat', (2194, 2205), 368, 'O'), ('ías', (2194, 2205), 368, 'O'), ('▁meta', (2206, 2221), 369, 'O'), ('ból', (2206, 2221), 369, 'O'), ('icamente', (2206, 2221), 369, 'O'), ('▁activa', (2222, 2229), 370, 'O'), ('s', (2222, 2229), 370, 'O'), ('▁que', (2230, 2233), 371, 'O'), ('▁afecta', (2234, 2241), 372, 'O'), ('n', (2234, 2241), 372, 'O'), ('▁a', (2242, 2243), 373, 'O'), ('▁las', (2244, 2247), 374, 'O'), ('▁cadena', (2248, 2255), 375, 'O'), ('s', (2248, 2255), 375, 'O'), ('▁later', (2256, 2272), 376, 'O'), ('o', (2256, 2272), 376, 'O'), ('cer', (2256, 2272), 376, 'O'), ('vica', (2256, 2272), 376, 'O'), ('les', (2256, 2272), 376, 'O'), ('▁bilateral', (2273, 2284), 377, 'O'), ('es', (2273, 2284), 377, 'O'), ('▁y', (2285, 2286), 378, 'O'), ('▁media', (2287, 2300), 379, 'O'), ('stí', (2287, 2300), 379, 'O'), ('nica', (2287, 2300), 379, 'O'), ('s', (2287, 2300), 379, 'O'), ('▁multi', (2301, 2311), 380, 'O'), ('nivel', (2301, 2311), 380, 'O'), ('▁', (2311, 2312), 381, 'O'), (',', (2311, 2312), 381, 'O'), ('▁resulta', (2313, 2323), 382, 'O'), ('ndo', (2313, 2323), 382, 'O'), ('▁so', (2324, 2335), 383, 'O'), ('spe', (2324, 2335), 383, 'O'), ('chos', (2324, 2335), 383, 'O'), ('as', (2324, 2335), 383, 'O'), ('▁de', (2336, 2338), 384, 'O'), ('▁afecta', (2339, 2349), 385, 'O'), ('ción', (2339, 2349), 385, 'O'), ('▁metas', (2350, 2361), 386, 'B'), ('tás', (2350, 2361), 386, 'B'), ('ica', (2350, 2361), 386, 'B'), ('▁', (2361, 2362), 387, 'O'), ('.', (2361, 2362), 387, 'O'), ('▁-', (2363, 2364), 388, 'O'), ('▁Rast', (2365, 2372), 389, 'O'), ('reo', (2365, 2372), 389, 'O'), ('▁cop', (2373, 2380), 390, 'O'), ('oral', (2373, 2380), 390, 'O'), ('▁I', (2381, 2385), 391, 'O'), ('131', (2381, 2385), 391, 'O'), ('▁:', (2385, 2386), 392, 'O'), ('▁capta', (2387, 2396), 393, 'O'), ('ción', (2387, 2396), 393, 'O'), ('▁del', (2397, 2400), 394, 'O'), ('▁traz', (2401, 2409), 395, 'O'), ('ador', (2401, 2409), 395, 'O'), ('▁a', (2410, 2411), 396, 'O'), ('▁nivel', (2412, 2417), 397, 'O'), ('▁del', (2418, 2421), 398, 'O'), ('▁le', (2422, 2427), 399, 'O'), ('cho', (2422, 2427), 399, 'O'), ('▁tiro', (2428, 2436), 400, 'O'), ('ide', (2428, 2436), 400, 'O'), ('o', (2428, 2436), 400, 'O'), ('▁', (2436, 2437), 401, 'O'), (',', (2436, 2437), 401, 'O'), ('▁sin', (2438, 2441), 402, 'O'), ('▁objetiva', (2442, 2453), 403, 'O'), ('rse', (2442, 2453), 403, 'O'), ('▁capta', (2454, 2463), 404, 'O'), ('ción', (2454, 2463), 404, 'O'), ('▁a', (2464, 2465), 405, 'O'), ('▁distancia', (2466, 2475), 406, 'O'), ('▁', (2475, 2476), 407, 'O'), ('.', (2475, 2476), 407, 'O'), ('▁-', (2477, 2478), 408, 'O'), ('▁Ang', (2479, 2484), 409, 'O'), ('io', (2479, 2484), 409, 'O'), ('▁-', (2484, 2485), 410, 'O'), ('▁TC', (2485, 2487), 411, 'O'), ('▁(', (2488, 2489), 412, 'O'), ('▁30', (2489, 2491), 413, 'O'), ('▁/', (2491, 2492), 414, 'O'), ('▁12', (2492, 2494), 415, 'O'), ('▁/', (2494, 2495), 416, 'O'), ('▁2013', (2495, 2499), 417, 'O'), ('▁)', (2499, 2500), 418, 'O'), ('▁:', (2500, 2501), 419, 'O'), ('▁trombo', (2502, 2517), 420, 'O'), ('e', (2502, 2517), 420, 'O'), ('mbol', (2502, 2517), 420, 'O'), ('ismo', (2502, 2517), 420, 'O'), ('▁pulmonar', (2518, 2526), 421, 'O'), ('▁de', (2527, 2529), 422, 'O'), ('▁ramas', (2530, 2535), 423, 'O'), ('▁arterial', (2536, 2546), 424, 'O'), ('es', (2536, 2546), 424, 'O'), ('▁segment', (2547, 2559), 425, 'O'), ('arias', (2547, 2559), 425, 'O'), ('▁para', (2560, 2564), 426, 'O'), ('▁el', (2565, 2567), 427, 'O'), ('▁ló', (2568, 2574), 428, 'O'), ('bulo', (2568, 2574), 428, 'O'), ('▁inferior', (2575, 2583), 429, 'O'), ('▁iz', (2584, 2593), 430, 'O'), ('quier', (2584, 2593), 430, 'O'), ('do', (2584, 2593), 430, 'O'), ('▁con', (2594, 2597), 431, 'O'), ('▁in', (2598, 2605), 432, 'O'), ('far', (2598, 2605), 432, 'O'), ('to', (2598, 2605), 432, 'O'), ('▁pulmonar', (2606, 2614), 433, 'O'), ('▁', (2614, 2615), 434, 'O'), ('.', (2614, 2615), 434, 'O')]\n",
      "\n",
      "\n",
      "[('▁-', (2616, 2617), 435, 'O'), ('▁Eco', (2618, 2633), 436, 'O'), ('card', (2618, 2633), 436, 'O'), ('i', (2618, 2633), 436, 'O'), ('ografía', (2618, 2633), 436, 'O'), ('▁(', (2634, 2635), 437, 'O'), ('▁30', (2635, 2637), 438, 'O'), ('▁/', (2637, 2638), 439, 'O'), ('▁12', (2638, 2640), 440, 'O'), ('▁/', (2640, 2641), 441, 'O'), ('▁2013', (2641, 2645), 442, 'O'), ('▁)', (2645, 2646), 443, 'O'), ('▁:', (2646, 2647), 444, 'O'), ('▁mínimo', (2648, 2654), 445, 'O'), ('▁der', (2655, 2662), 446, 'O'), ('ram', (2655, 2662), 446, 'O'), ('e', (2655, 2662), 446, 'O'), ('▁per', (2663, 2674), 447, 'O'), ('ic', (2663, 2674), 447, 'O'), ('ár', (2663, 2674), 447, 'O'), ('dico', (2663, 2674), 447, 'O'), ('▁a', (2675, 2676), 448, 'O'), ('▁nivel', (2677, 2682), 449, 'O'), ('▁de', (2683, 2685), 450, 'O'), ('▁las', (2686, 2689), 451, 'O'), ('▁cavi', (2690, 2699), 452, 'O'), ('dades', (2690, 2699), 452, 'O'), ('▁izquierda', (2700, 2710), 453, 'O'), ('s', (2700, 2710), 453, 'O'), ('▁', (2710, 2711), 454, 'O'), ('.', (2710, 2711), 454, 'O'), ('▁Lige', (2712, 2718), 455, 'O'), ('ra', (2712, 2718), 455, 'O'), ('▁di', (2719, 2729), 456, 'O'), ('lat', (2719, 2729), 456, 'O'), ('ación', (2719, 2729), 456, 'O'), ('▁del', (2730, 2733), 457, 'O'), ('▁vent', (2734, 2744), 458, 'O'), ('rí', (2734, 2744), 458, 'O'), ('culo', (2734, 2744), 458, 'O'), ('▁derecho', (2745, 2752), 459, 'O'), ('▁', (2752, 2753), 460, 'O'), (',', (2752, 2753), 460, 'O'), ('▁sin', (2754, 2757), 461, 'O'), ('▁signo', (2758, 2764), 462, 'O'), ('s', (2758, 2764), 462, 'O'), ('▁de', (2765, 2767), 463, 'O'), ('▁reper', (2768, 2779), 464, 'O'), ('cu', (2768, 2779), 464, 'O'), ('sión', (2768, 2779), 464, 'O'), ('▁hem', (2780, 2792), 465, 'O'), ('odi', (2780, 2792), 465, 'O'), ('ná', (2780, 2792), 465, 'O'), ('mica', (2780, 2792), 465, 'O'), ('▁', (2792, 2793), 466, 'O'), ('.', (2792, 2793), 466, 'O'), ('▁-', (2794, 2795), 467, 'O'), ('▁Radi', (2796, 2807), 468, 'O'), ('ografía', (2796, 2807), 468, 'O'), ('▁de', (2808, 2810), 469, 'O'), ('▁tó', (2811, 2816), 470, 'O'), ('ra', (2811, 2816), 470, 'O'), ('x', (2811, 2816), 470, 'O'), ('▁(', (2817, 2818), 471, 'O'), ('▁7', (2818, 2819), 472, 'O'), ('▁/', (2819, 2820), 473, 'O'), ('▁2', (2820, 2821), 474, 'O'), ('▁/', (2821, 2822), 475, 'O'), ('▁2013', (2822, 2826), 476, 'O'), ('▁)', (2826, 2827), 477, 'O'), ('▁:', (2827, 2828), 478, 'O'), ('▁der', (2829, 2836), 479, 'O'), ('ram', (2829, 2836), 479, 'O'), ('e', (2829, 2836), 479, 'O'), ('▁ple', (2837, 2844), 480, 'O'), ('ural', (2837, 2844), 480, 'O'), ('▁derecho', (2845, 2852), 481, 'O'), ('▁', (2852, 2853), 482, 'O'), (',', (2852, 2853), 482, 'O'), ('▁que', (2854, 2857), 483, 'O'), ('▁alcanza', (2858, 2865), 484, 'O'), ('▁hasta', (2866, 2871), 485, 'O'), ('▁el', (2872, 2874), 486, 'O'), ('▁ter', (2875, 2881), 487, 'O'), ('cio', (2875, 2881), 487, 'O'), ('▁inferior', (2882, 2890), 488, 'O'), ('▁del', (2891, 2894), 489, 'O'), ('▁hem', (2895, 2904), 490, 'O'), ('it', (2895, 2904), 490, 'O'), ('óra', (2895, 2904), 490, 'O'), ('x', (2895, 2904), 490, 'O'), ('▁derecho', (2905, 2912), 491, 'O'), ('▁', (2912, 2913), 492, 'O'), ('.', (2912, 2913), 492, 'O')]\n",
      "\n",
      "\n",
      "[('▁-', (2914, 2915), 493, 'O'), ('▁Rast', (2916, 2923), 494, 'O'), ('reo', (2916, 2923), 494, 'O'), ('▁corporal', (2924, 2932), 495, 'O'), ('▁total', (2933, 2938), 496, 'O'), ('▁pos', (2939, 2949), 497, 'O'), ('terapi', (2939, 2949), 497, 'O'), ('a', (2939, 2949), 497, 'O'), ('▁I', (2950, 2954), 498, 'O'), ('131', (2950, 2954), 498, 'O'), ('▁150', (2955, 2958), 499, 'O'), ('▁m', (2959, 2962), 500, 'O'), ('Ci', (2959, 2962), 500, 'O'), ('▁:', (2962, 2963), 501, 'O'), ('▁se', (2964, 2966), 502, 'O'), ('▁evidencia', (2967, 2976), 503, 'O'), ('▁capta', (2977, 2986), 504, 'O'), ('ción', (2977, 2986), 504, 'O'), ('▁de', (2987, 2989), 505, 'O'), ('▁carácter', (2990, 2998), 506, 'O'), ('▁leve', (2999, 3003), 507, 'O'), ('▁a', (3004, 3005), 508, 'O'), ('▁nivel', (3006, 3011), 509, 'O'), ('▁cer', (3012, 3020), 510, 'O'), ('vi', (3012, 3020), 510, 'O'), ('cal', (3012, 3020), 510, 'O'), ('▁suger', (3021, 3030), 511, 'O'), ('ente', (3021, 3030), 511, 'O'), ('▁de', (3031, 3033), 512, 'O'), ('▁restos', (3034, 3040), 513, 'O'), ('▁tiro', (3041, 3050), 514, 'O'), ('ide', (3041, 3050), 514, 'O'), ('os', (3041, 3050), 514, 'O'), ('▁', (3050, 3051), 515, 'O'), ('.', (3050, 3051), 515, 'O'), ('▁-', (3052, 3053), 516, 'O'), ('▁Ven', (3054, 3070), 517, 'O'), ('tric', (3054, 3070), 517, 'O'), ('ul', (3054, 3070), 517, 'O'), ('ografía', (3054, 3070), 517, 'O'), ('▁iso', (3071, 3080), 518, 'O'), ('tó', (3071, 3080), 518, 'O'), ('pica', (3071, 3080), 518, 'O'), ('▁(', (3081, 3082), 519, 'O'), ('▁18', (3082, 3084), 520, 'O'), ('▁/', (3084, 3085), 521, 'O'), ('▁3', (3085, 3086), 522, 'O'), ('▁/', (3086, 3087), 523, 'O'), ('▁2014', (3087, 3091), 524, 'O'), ('▁)', (3091, 3092), 525, 'O'), ('▁:', (3092, 3093), 526, 'O'), ('▁no', (3094, 3096), 527, 'O'), ('▁di', (3097, 3107), 528, 'O'), ('lat', (3097, 3107), 528, 'O'), ('ación', (3097, 3107), 528, 'O'), ('▁de', (3108, 3110), 529, 'O'), ('▁cavi', (3111, 3120), 530, 'O'), ('dades', (3111, 3120), 530, 'O'), ('▁vent', (3121, 3134), 531, 'O'), ('ri', (3121, 3134), 531, 'O'), ('culare', (3121, 3134), 531, 'O'), ('s', (3121, 3134), 531, 'O'), ('▁', (3134, 3135), 532, 'O'), (',', (3134, 3135), 532, 'O'), ('▁curva', (3136, 3141), 533, 'O'), ('▁de', (3142, 3144), 534, 'O'), ('▁llena', (3145, 3152), 535, 'O'), ('do', (3145, 3152), 535, 'O'), ('▁vent', (3153, 3164), 536, 'O'), ('ri', (3153, 3164), 536, 'O'), ('cular', (3153, 3164), 536, 'O'), ('▁leve', (3165, 3174), 537, 'O'), ('mente', (3165, 3174), 537, 'O'), ('▁altera', (3175, 3183), 538, 'O'), ('da', (3175, 3183), 538, 'O'), ('▁', (3183, 3184), 539, 'O'), (',', (3183, 3184), 539, 'O'), ('▁fra', (3185, 3193), 540, 'O'), ('cción', (3185, 3193), 540, 'O'), ('▁de', (3194, 3196), 541, 'O'), ('▁eye', (3197, 3205), 542, 'O'), ('cción', (3197, 3205), 542, 'O'), ('▁del', (3206, 3209), 543, 'O'), ('▁vent', (3210, 3220), 544, 'O'), ('rí', (3210, 3220), 544, 'O'), ('culo', (3210, 3220), 544, 'O'), ('▁iz', (3221, 3230), 545, 'O'), ('quier', (3221, 3230), 545, 'O'), ('do', (3221, 3230), 545, 'O'), ('▁en', (3231, 3233), 546, 'O'), ('▁el', (3234, 3236), 547, 'O'), ('▁límite', (3237, 3243), 548, 'O'), ('▁inferior', (3244, 3252), 549, 'O'), ('▁de', (3253, 3255), 550, 'O'), ('▁la', (3256, 3258), 551, 'O'), ('▁normal', (3259, 3269), 552, 'O'), ('idad', (3259, 3269), 552, 'O'), ('▁(', (3270, 3271), 553, 'O'), ('▁FE', (3271, 3275), 554, 'O'), ('VI', (3271, 3275), 554, 'O'), ('▁=', (3276, 3277), 555, 'O'), ('▁51', (3278, 3280), 556, 'O'), ('▁%', (3280, 3281), 557, 'O'), ('▁)', (3281, 3282), 558, 'O'), ('▁', (3282, 3283), 559, 'O'), ('.', (3282, 3283), 559, 'O')]\n",
      "\n",
      "\n",
      "[('▁Dia', (3285, 3296), 560, 'O'), ('g', (3285, 3296), 560, 'O'), ('nó', (3285, 3296), 560, 'O'), ('stico', (3285, 3296), 560, 'O'), ('▁Car', (3297, 3306), 561, 'B'), ('cino', (3297, 3306), 561, 'B'), ('ma', (3297, 3306), 561, 'B'), ('▁papil', (3307, 3314), 562, 'I'), ('ar', (3307, 3314), 562, 'I'), ('▁de', (3315, 3317), 563, 'I'), ('▁tiro', (3318, 3326), 564, 'I'), ('ides', (3318, 3326), 564, 'I'), ('▁', (3326, 3327), 565, 'I'), (',', (3326, 3327), 565, 'I'), ('▁variante', (3328, 3336), 566, 'I'), ('▁es', (3337, 3349), 567, 'I'), ('cle', (3337, 3349), 567, 'I'), ('ros', (3337, 3349), 567, 'I'), ('ante', (3337, 3349), 567, 'I'), ('▁dif', (3350, 3356), 568, 'I'), ('usa', (3350, 3356), 568, 'I'), ('▁', (3356, 3357), 569, 'O'), ('.', (3356, 3357), 569, 'O'), ('▁Esta', (3358, 3365), 570, 'O'), ('dio', (3358, 3365), 570, 'O'), ('▁IV', (3366, 3368), 571, 'O'), ('▁(', (3369, 3370), 572, 'O'), ('▁met', (3370, 3380), 573, 'B'), ('ást', (3370, 3380), 573, 'B'), ('asis', (3370, 3380), 573, 'B'), ('▁gang', (3381, 3393), 574, 'O'), ('lion', (3381, 3393), 574, 'O'), ('ares', (3381, 3393), 574, 'O'), ('▁', (3393, 3394), 575, 'O'), (',', (3393, 3394), 575, 'O'), ('▁ó', (3395, 3400), 576, 'O'), ('se', (3395, 3400), 576, 'O'), ('as', (3395, 3400), 576, 'O'), ('▁y', (3401, 3402), 577, 'O'), ('▁ple', (3403, 3412), 578, 'O'), ('ura', (3403, 3412), 578, 'O'), ('les', (3403, 3412), 578, 'O'), ('▁)', (3412, 3413), 579, 'O'), ('▁', (3413, 3414), 580, 'O'), ('.', (3413, 3414), 580, 'O'), ('▁Trata', (3416, 3427), 581, 'O'), ('miento', (3416, 3427), 581, 'O'), ('▁Se', (3428, 3430), 582, 'O'), ('▁realiza', (3431, 3438), 583, 'O'), ('▁en', (3439, 3441), 584, 'O'), ('▁noviembre', (3442, 3451), 585, 'O'), ('▁de', (3452, 3454), 586, 'O'), ('▁2013', (3455, 3459), 587, 'O'), ('▁tiro', (3460, 3473), 588, 'O'), ('id', (3460, 3473), 588, 'O'), ('ecto', (3460, 3473), 588, 'O'), ('m', (3460, 3473), 588, 'O'), ('ía', (3460, 3473), 588, 'O'), ('▁y', (3474, 3475), 589, 'O'), ('▁va', (3476, 3487), 590, 'O'), ('ci', (3476, 3487), 590, 'O'), ('amiento', (3476, 3487), 590, 'O'), ('▁gang', (3488, 3498), 591, 'O'), ('lion', (3488, 3498), 591, 'O'), ('ar', (3488, 3498), 591, 'O'), ('▁', (3498, 3499), 592, 'O'), (',', (3498, 3499), 592, 'O'), ('▁to', (3500, 3514), 593, 'O'), ('ra', (3500, 3514), 593, 'O'), ('co', (3500, 3514), 593, 'O'), ('centes', (3500, 3514), 593, 'O'), ('is', (3500, 3514), 593, 'O'), ('▁evacua', (3515, 3525), 594, 'O'), ('dora', (3515, 3525), 594, 'O'), ('▁de', (3526, 3528), 595, 'O'), ('▁der', (3529, 3537), 596, 'O'), ('ram', (3529, 3537), 596, 'O'), ('es', (3529, 3537), 596, 'O'), ('▁ple', (3538, 3547), 597, 'O'), ('ura', (3538, 3547), 597, 'O'), ('les', (3538, 3547), 597, 'O'), ('▁de', (3548, 3550), 598, 'O'), ('▁repeti', (3551, 3561), 599, 'O'), ('ción', (3551, 3561), 599, 'O'), ('▁', (3561, 3562), 600, 'O'), ('.', (3561, 3562), 600, 'O')]\n",
      "\n",
      "\n",
      "[('▁En', (3563, 3565), 601, 'O'), ('▁abril', (3566, 3571), 602, 'O'), ('▁de', (3572, 3574), 603, 'O'), ('▁2014', (3575, 3579), 604, 'O'), ('▁se', (3580, 3582), 605, 'O'), ('▁presenta', (3583, 3591), 606, 'O'), ('▁el', (3592, 3594), 607, 'O'), ('▁caso', (3595, 3599), 608, 'O'), ('▁en', (3600, 3602), 609, 'O'), ('▁comité', (3603, 3609), 610, 'O'), ('▁de', (3610, 3612), 611, 'O'), ('▁tumor', (3613, 3620), 612, 'O'), ('es', (3613, 3620), 612, 'O'), ('▁tiro', (3621, 3630), 613, 'O'), ('ide', (3621, 3630), 613, 'O'), ('os', (3621, 3630), 613, 'O'), ('▁', (3630, 3631), 614, 'O'), (',', (3630, 3631), 614, 'O'), ('▁conjunto', (3632, 3640), 615, 'O'), ('▁de', (3641, 3643), 616, 'O'), ('▁En', (3644, 3658), 617, 'O'), ('doc', (3644, 3658), 617, 'O'), ('rin', (3644, 3658), 617, 'O'), ('ologia', (3644, 3658), 617, 'O'), ('▁', (3658, 3659), 618, 'O'), (',', (3658, 3659), 618, 'O'), ('▁Ci', (3660, 3667), 619, 'O'), ('rug', (3660, 3667), 619, 'O'), ('ía', (3660, 3667), 619, 'O'), ('▁', (3667, 3668), 620, 'O'), (',', (3667, 3668), 620, 'O'), ('▁Medicina', (3669, 3677), 621, 'O'), ('▁Nu', (3678, 3685), 622, 'O'), ('clear', (3678, 3685), 622, 'O'), ('▁y', (3686, 3687), 623, 'O'), ('▁On', (3688, 3697), 624, 'O'), ('c', (3688, 3697), 624, 'O'), ('ología', (3688, 3697), 624, 'O'), ('▁Mé', (3698, 3704), 625, 'O'), ('dica', (3698, 3704), 625, 'O'), ('▁y', (3705, 3706), 626, 'O'), ('▁se', (3707, 3709), 627, 'O'), ('▁decide', (3710, 3716), 628, 'O'), ('▁:', (3716, 3717), 629, 'O'), ('▁-', (3718, 3719), 630, 'O'), ('▁Trata', (3720, 3731), 631, 'O'), ('miento', (3720, 3731), 631, 'O'), ('▁con', (3732, 3735), 632, 'O'), ('▁i', (3736, 3740), 633, 'O'), ('odo', (3736, 3740), 633, 'O'), ('▁radi', (3741, 3751), 634, 'O'), ('activ', (3741, 3751), 634, 'O'), ('o', (3741, 3751), 634, 'O'), ('▁a', (3752, 3753), 635, 'O'), ('▁pesar', (3754, 3759), 636, 'O'), ('▁de', (3760, 3762), 637, 'O'), ('▁la', (3763, 3765), 638, 'O'), ('▁dé', (3766, 3771), 639, 'O'), ('bil', (3766, 3771), 639, 'O'), ('▁capta', (3772, 3781), 640, 'O'), ('ción', (3772, 3781), 640, 'O'), ('▁en', (3782, 3784), 641, 'O'), ('▁el', (3785, 3787), 642, 'O'), ('▁rast', (3788, 3795), 643, 'O'), ('reo', (3788, 3795), 643, 'O'), ('▁', (3795, 3796), 644, 'O'), ('.', (3795, 3796), 644, 'O'), ('▁Se', (3797, 3799), 645, 'O'), ('▁traslada', (3800, 3808), 646, 'O'), ('▁al', (3809, 3811), 647, 'O'), ('▁Servicio', (3812, 3820), 648, 'O'), ('▁de', (3821, 3823), 649, 'O'), ('▁Medicina', (3824, 3832), 650, 'O'), ('▁Nu', (3833, 3840), 651, 'O'), ('clear', (3833, 3840), 651, 'O'), ('▁para', (3841, 3845), 652, 'O'), ('▁terapia', (3846, 3853), 653, 'O'), ('▁con', (3854, 3857), 654, 'O'), ('▁i', (3858, 3862), 655, 'O'), ('odo', (3858, 3862), 655, 'O'), ('▁131', (3863, 3866), 656, 'O'), ('▁', (3866, 3867), 657, 'O'), (',', (3866, 3867), 657, 'O'), ('▁en', (3868, 3870), 658, 'O'), ('▁dosis', (3871, 3876), 659, 'O'), ('▁ab', (3877, 3886), 660, 'O'), ('lat', (3877, 3886), 660, 'O'), ('ivas', (3877, 3886), 660, 'O'), ('▁', (3886, 3887), 661, 'O'), (',', (3886, 3887), 661, 'O'), ('▁sin', (3888, 3891), 662, 'O'), ('▁presentar', (3892, 3901), 663, 'O'), ('▁la', (3902, 3904), 664, 'O'), ('▁les', (3905, 3911), 665, 'O'), ('ion', (3905, 3911), 665, 'O'), ('▁afin', (3912, 3920), 666, 'O'), ('idad', (3912, 3920), 666, 'O'), ('▁por', (3921, 3924), 667, 'O'), ('▁i', (3925, 3929), 668, 'O'), ('odo', (3925, 3929), 668, 'O'), ('▁', (3929, 3930), 669, 'O'), (',', (3929, 3930), 669, 'O'), ('▁con', (3931, 3934), 670, 'O'), ('▁una', (3935, 3938), 671, 'O'), ('▁capta', (3939, 3948), 672, 'O'), ('ción', (3939, 3948), 672, 'O'), ('▁dé', (3949, 3954), 673, 'O'), ('bil', (3949, 3954), 673, 'O'), ('▁', (3954, 3955), 674, 'O'), ('.', (3954, 3955), 674, 'O'), ('▁-', (3956, 3957), 675, 'O'), ('▁Trata', (3957, 3968), 676, 'O'), ('miento', (3957, 3968), 676, 'O'), ('▁on', (3969, 3979), 677, 'O'), ('c', (3969, 3979), 677, 'O'), ('ológico', (3969, 3979), 677, 'O'), ('▁con', (3980, 3983), 678, 'O'), ('▁so', (3984, 3993), 679, 'O'), ('raf', (3984, 3993), 679, 'O'), ('en', (3984, 3993), 679, 'O'), ('ib', (3984, 3993), 679, 'O'), ('▁', (3993, 3994), 680, 'O'), ('.', (3993, 3994), 680, 'O')]\n",
      "\n",
      "\n",
      "[('▁Tras', (3995, 3999), 681, 'O'), ('▁comprobar', (4000, 4011), 682, 'O'), ('se', (4000, 4011), 682, 'O'), ('▁la', (4012, 4014), 683, 'O'), ('▁FE', (4015, 4019), 684, 'O'), ('VI', (4015, 4019), 684, 'O'), ('▁y', (4020, 4021), 685, 'O'), ('▁el', (4022, 4024), 686, 'O'), ('▁segui', (4025, 4037), 687, 'O'), ('mier', (4025, 4037), 687, 'O'), ('nto', (4025, 4037), 687, 'O'), ('▁favorable', (4038, 4047), 688, 'O'), ('▁del', (4048, 4051), 689, 'O'), ('▁der', (4052, 4059), 690, 'O'), ('ram', (4052, 4059), 690, 'O'), ('e', (4052, 4059), 690, 'O'), ('▁per', (4060, 4071), 691, 'O'), ('ic', (4060, 4071), 691, 'O'), ('ár', (4060, 4071), 691, 'O'), ('dico', (4060, 4071), 691, 'O'), ('▁se', (4072, 4074), 692, 'O'), ('▁inicia', (4075, 4081), 693, 'O'), ('▁tratamiento', (4082, 4093), 694, 'O'), ('▁con', (4094, 4097), 695, 'O'), ('▁so', (4098, 4107), 696, 'O'), ('raf', (4098, 4107), 696, 'O'), ('en', (4098, 4107), 696, 'O'), ('ib', (4098, 4107), 696, 'O'), ('▁con', (4108, 4111), 697, 'O'), ('▁el', (4112, 4114), 698, 'O'), ('▁50', (4115, 4117), 699, 'O'), ('▁%', (4117, 4118), 700, 'O'), ('▁de', (4119, 4121), 701, 'O'), ('▁la', (4122, 4124), 702, 'O'), ('▁dosis', (4125, 4130), 703, 'O'), ('▁a', (4131, 4132), 704, 'O'), ('▁200', (4133, 4136), 705, 'O'), ('▁mg', (4137, 4139), 706, 'O'), ('▁c', (4140, 4141), 707, 'O'), ('▁/', (4141, 4142), 708, 'O'), ('▁12', (4142, 4144), 709, 'O'), ('▁h', (4145, 4146), 710, 'O'), ('▁el', (4147, 4149), 711, 'O'), ('▁día', (4150, 4153), 712, 'O'), ('▁19', (4154, 4156), 713, 'O'), ('▁/', (4156, 4157), 714, 'O'), ('▁3', (4157, 4158), 715, 'O'), ('▁/', (4158, 4159), 716, 'O'), ('▁2014', (4159, 4163), 717, 'O'), ('▁', (4163, 4164), 718, 'O'), ('.', (4163, 4164), 718, 'O')]\n",
      "\n",
      "\n",
      "[('▁Evolu', (4166, 4175), 719, 'O'), ('ción', (4166, 4175), 719, 'O'), ('▁Tras', (4176, 4180), 720, 'O'), ('▁realizar', (4181, 4189), 721, 'O'), ('▁terapia', (4190, 4197), 722, 'O'), ('▁a', (4198, 4206), 723, 'O'), ('bla', (4198, 4206), 723, 'O'), ('tiva', (4198, 4206), 723, 'O'), ('▁', (4206, 4207), 724, 'O'), (',', (4206, 4207), 724, 'O'), ('▁la', (4208, 4210), 725, 'O'), ('▁paciente', (4211, 4219), 726, 'O'), ('▁se', (4220, 4222), 727, 'O'), ('▁traslada', (4223, 4231), 728, 'O'), ('▁al', (4232, 4234), 729, 'O'), ('▁Servicio', (4235, 4243), 730, 'O'), ('▁de', (4244, 4246), 731, 'O'), ('▁On', (4247, 4256), 732, 'O'), ('c', (4247, 4256), 732, 'O'), ('ología', (4247, 4256), 732, 'O'), ('▁Mé', (4257, 4263), 733, 'O'), ('dica', (4257, 4263), 733, 'O'), ('▁desde', (4264, 4269), 734, 'O'), ('▁Medicina', (4270, 4278), 735, 'O'), ('▁Nu', (4279, 4286), 736, 'O'), ('clear', (4279, 4286), 736, 'O'), ('▁para', (4287, 4291), 737, 'O'), ('▁continuar', (4292, 4301), 738, 'O'), ('▁el', (4302, 4304), 739, 'O'), ('▁tratamiento', (4305, 4316), 740, 'O'), ('▁', (4316, 4317), 741, 'O'), (',', (4316, 4317), 741, 'O'), ('▁realiz', (4318, 4330), 742, 'O'), ('ándose', (4318, 4330), 742, 'O'), ('▁FE', (4331, 4335), 743, 'O'), ('VI', (4331, 4335), 743, 'O'), ('▁=', (4336, 4337), 744, 'O'), ('▁51', (4338, 4340), 745, 'O'), ('▁%', (4340, 4341), 746, 'O'), ('▁', (4341, 4342), 747, 'O'), (',', (4341, 4342), 747, 'O'), ('▁inicia', (4343, 4349), 748, 'O'), ('▁so', (4350, 4359), 749, 'O'), ('raf', (4350, 4359), 749, 'O'), ('en', (4350, 4359), 749, 'O'), ('ib', (4350, 4359), 749, 'O'), ('▁a', (4360, 4361), 750, 'O'), ('▁dosis', (4362, 4367), 751, 'O'), ('▁de', (4368, 4370), 752, 'O'), ('▁200', (4371, 4374), 753, 'O'), ('▁mg', (4375, 4377), 754, 'O'), ('▁/', (4377, 4378), 755, 'O'), ('▁12', (4378, 4380), 756, 'O'), ('▁h', (4381, 4382), 757, 'O'), ('▁', (4382, 4383), 758, 'O'), (',', (4382, 4383), 758, 'O'), ('▁con', (4384, 4387), 759, 'O'), ('▁buena', (4388, 4393), 760, 'O'), ('▁toleranci', (4394, 4404), 761, 'O'), ('a', (4394, 4404), 761, 'O'), ('▁;', (4404, 4405), 762, 'O'), ('▁ante', (4406, 4410), 763, 'O'), ('▁la', (4411, 4413), 764, 'O'), ('▁mejor', (4414, 4421), 765, 'O'), ('ía', (4414, 4421), 765, 'O'), ('▁clínica', (4422, 4429), 766, 'O'), ('▁y', (4430, 4431), 767, 'O'), ('▁la', (4432, 4434), 768, 'O'), ('▁e', (4435, 4449), 769, 'O'), ('stabil', (4435, 4449), 769, 'O'), ('ización', (4435, 4449), 769, 'O'), ('▁de', (4450, 4452), 770, 'O'), ('▁su', (4453, 4455), 771, 'O'), ('▁dis', (4456, 4462), 772, 'O'), ('ne', (4456, 4462), 772, 'O'), ('a', (4456, 4462), 772, 'O'), ('▁', (4462, 4463), 773, 'O'), (',', (4462, 4463), 773, 'O'), ('▁se', (4464, 4466), 774, 'O'), ('▁da', (4467, 4469), 775, 'O'), ('▁el', (4470, 4472), 776, 'O'), ('▁alta', (4473, 4477), 777, 'O'), ('▁', (4477, 4478), 778, 'O'), ('.', (4477, 4478), 778, 'O')]\n",
      "\n",
      "\n",
      "[('▁En', (4479, 4481), 779, 'O'), ('▁revisión', (4482, 4490), 780, 'O'), ('▁en', (4491, 4493), 781, 'O'), ('▁consulta', (4494, 4502), 782, 'O'), ('▁de', (4503, 4505), 783, 'O'), ('▁On', (4506, 4515), 784, 'O'), ('c', (4506, 4515), 784, 'O'), ('ología', (4506, 4515), 784, 'O'), ('▁a', (4516, 4517), 785, 'O'), ('▁los', (4518, 4521), 786, 'O'), ('▁12', (4522, 4524), 787, 'O'), ('▁días', (4525, 4529), 788, 'O'), ('▁del', (4530, 4533), 789, 'O'), ('▁inicio', (4534, 4540), 790, 'O'), ('▁del', (4541, 4544), 791, 'O'), ('▁tratamiento', (4545, 4556), 792, 'O'), ('▁', (4556, 4557), 793, 'O'), (',', (4556, 4557), 793, 'O'), ('▁la', (4558, 4560), 794, 'O'), ('▁paciente', (4561, 4569), 795, 'O'), ('▁presenta', (4570, 4578), 796, 'O'), ('▁emp', (4579, 4592), 797, 'O'), ('e', (4579, 4592), 797, 'O'), ('or', (4579, 4592), 797, 'O'), ('amiento', (4579, 4592), 797, 'O'), ('▁clínico', (4593, 4600), 798, 'O'), ('▁', (4600, 4601), 799, 'O'), (',', (4600, 4601), 799, 'O'), ('▁con', (4602, 4605), 800, 'O'), ('▁intensa', (4606, 4613), 801, 'O'), ('▁a', (4614, 4621), 802, 'O'), ('st', (4614, 4621), 802, 'O'), ('enia', (4614, 4621), 802, 'O'), ('▁', (4621, 4622), 803, 'O'), (',', (4621, 4622), 803, 'O'), ('▁som', (4623, 4634), 804, 'O'), ('nol', (4623, 4634), 804, 'O'), ('encia', (4623, 4634), 804, 'O'), ('▁', (4634, 4635), 805, 'O'), (',', (4634, 4635), 805, 'O'), ('▁hipo', (4636, 4649), 806, 'O'), ('per', (4636, 4649), 806, 'O'), ('fusión', (4636, 4649), 806, 'O'), ('▁', (4649, 4650), 807, 'O'), (',', (4649, 4650), 807, 'O'), ('▁fri', (4651, 4659), 808, 'O'), ('al', (4651, 4659), 808, 'O'), ('dad', (4651, 4659), 808, 'O'), ('▁cu', (4660, 4667), 809, 'O'), ('tán', (4660, 4667), 809, 'O'), ('e', (4660, 4667), 809, 'O'), ('a', (4660, 4667), 809, 'O'), ('▁', (4667, 4668), 810, 'O'), (',', (4667, 4668), 810, 'O'), ('▁hiper', (4669, 4684), 811, 'O'), ('su', (4669, 4684), 811, 'O'), ('dor', (4669, 4684), 811, 'O'), ('ación', (4669, 4684), 811, 'O'), ('▁', (4684, 4685), 812, 'O'), (',', (4684, 4685), 812, 'O'), ('▁dolor', (4686, 4691), 813, 'O'), ('▁abdominal', (4692, 4701), 814, 'O'), ('▁y', (4702, 4703), 815, 'O'), ('▁ná', (4704, 4711), 816, 'O'), ('use', (4704, 4711), 816, 'O'), ('as', (4704, 4711), 816, 'O'), ('▁;', (4711, 4712), 817, 'O'), ('▁con', (4713, 4716), 818, 'O'), ('▁so', (4717, 4725), 819, 'O'), ('spec', (4717, 4725), 819, 'O'), ('ha', (4717, 4725), 819, 'O'), ('▁de', (4726, 4728), 820, 'O'), ('▁crisis', (4729, 4735), 821, 'O'), ('▁hipo', (4736, 4748), 822, 'O'), ('ti', (4736, 4748), 822, 'O'), ('ro', (4736, 4748), 822, 'O'), ('idea', (4736, 4748), 822, 'O'), ('▁la', (4749, 4751), 823, 'O'), ('▁paciente', (4752, 4760), 824, 'O'), ('▁es', (4761, 4763), 825, 'O'), ('▁in', (4764, 4773), 826, 'O'), ('gres', (4764, 4773), 826, 'O'), ('ada', (4764, 4773), 826, 'O'), ('▁', (4773, 4774), 827, 'O'), (',', (4773, 4774), 827, 'O'), ('▁presenta', (4775, 4786), 828, 'O'), ('ndo', (4775, 4786), 828, 'O'), ('▁durante', (4787, 4794), 829, 'O'), ('▁el', (4795, 4797), 830, 'O'), ('▁ingreso', (4798, 4805), 831, 'O'), ('▁un', (4806, 4808), 832, 'O'), ('▁episodio', (4809, 4817), 833, 'O'), ('▁de', (4818, 4820), 834, 'O'), ('▁dis', (4821, 4827), 835, 'O'), ('ne', (4821, 4827), 835, 'O'), ('a', (4821, 4827), 835, 'O'), ('▁sú', (4828, 4834), 836, 'O'), ('bita', (4828, 4834), 836, 'O'), ('▁con', (4835, 4838), 837, 'O'), ('▁satura', (4839, 4849), 838, 'O'), ('ción', (4839, 4849), 838, 'O'), ('▁<', (4850, 4851), 839, 'O'), ('▁80', (4852, 4854), 840, 'O'), ('▁%', (4854, 4855), 841, 'O'), ('▁a', (4856, 4857), 842, 'O'), ('▁pesar', (4858, 4863), 843, 'O'), ('▁de', (4864, 4866), 844, 'O'), ('▁mas', (4867, 4877), 845, 'O'), ('car', (4867, 4877), 845, 'O'), ('illa', (4867, 4877), 845, 'O'), ('▁con', (4878, 4881), 846, 'O'), ('▁reserv', (4882, 4892), 847, 'O'), ('orio', (4882, 4892), 847, 'O'), ('▁e', (4893, 4894), 848, 'O'), ('▁hipo', (4895, 4906), 849, 'O'), ('ten', (4895, 4906), 849, 'O'), ('sión', (4895, 4906), 849, 'O'), ('▁', (4906, 4907), 850, 'O'), (',', (4906, 4907), 850, 'O'), ('▁requiri', (4908, 4919), 851, 'O'), ('endo', (4908, 4919), 851, 'O'), ('▁el', (4920, 4922), 852, 'O'), ('▁ingreso', (4923, 4930), 853, 'O'), ('▁en', (4931, 4933), 854, 'O'), ('▁la', (4934, 4936), 855, 'O'), ('▁', (4937, 4940), 856, 'O')]\n",
      "\n",
      "\n",
      "[('UCI', (4937, 4940), 856, 'O'), ('▁;', (4940, 4941), 857, 'O'), ('▁finalmente', (4942, 4952), 858, 'O'), ('▁', (4952, 4953), 859, 'O'), (',', (4952, 4953), 859, 'O'), ('▁la', (4954, 4956), 860, 'O'), ('▁paciente', (4957, 4965), 861, 'O'), ('▁fall', (4966, 4973), 862, 'O'), ('ece', (4966, 4973), 862, 'O'), ('▁por', (4974, 4977), 863, 'O'), ('▁hipo', (4978, 4987), 864, 'O'), ('x', (4978, 4987), 864, 'O'), ('emia', (4978, 4987), 864, 'O'), ('▁sever', (4988, 4994), 865, 'O'), ('a', (4988, 4994), 865, 'O'), ('▁re', (4995, 5006), 866, 'O'), ('frac', (4995, 5006), 866, 'O'), ('taria', (4995, 5006), 866, 'O'), ('▁a', (5007, 5008), 867, 'O'), ('▁tratamiento', (5009, 5020), 868, 'O'), ('▁secundaria', (5021, 5031), 869, 'O'), ('▁a', (5032, 5033), 870, 'O'), ('▁T', (5034, 5037), 871, 'O'), ('EP', (5034, 5037), 871, 'O'), ('▁', (5037, 5038), 872, 'O'), ('.', (5037, 5038), 872, 'O')]\n",
      "\n",
      "\n"
     ]
    }
   ],
   "source": [
    "for i in range(check_id_frag, check_id_frag + dev_frag[check_id]):\n",
    "    print(list(zip([tokenizer._convert_id_to_token(int(ind)) for ind in dev_ind[i]][1:len(dev_start_end_frag[i])+1], \n",
    "               dev_start_end_frag[i], dev_word_id[i],\n",
    "               [lab_encoder.inverse_transform([label])[0] if label != IGNORE_VALUE else label \\\n",
    "                for label in dev_y[i][1:len(dev_start_end_frag[i])+1]])))\n",
    "    print(\"\\n\")"
   ]
  },
  {
   "cell_type": "code",
   "execution_count": 74,
   "metadata": {},
   "outputs": [
    {
     "name": "stdout",
     "output_type": "stream",
     "text": [
      "<s> ▁Ana m nesi s ▁Mu jer ▁de ▁30 ▁años ▁ , ▁con ▁antecede nte ▁de ▁poli ar trop at ía ▁inflama toria ▁ser o nega tiva ▁de ▁7 ▁años ▁de ▁evolución ▁ , ▁que ▁debut a ▁en ▁septiembre ▁de ▁2013 ▁con ▁un ▁cuadro ▁de ▁a st enia ▁general izada ▁ , ▁pérdida ▁de ▁peso ▁ , ▁dis ne a ▁de ▁moder ados ▁esfuerzo s ▁ , ▁xer of tal mia ▁y ▁to s ▁ , ▁ade no pat ías ▁later o cer vica les ▁y ▁aumento ▁de ▁tamaño ▁de ▁la ▁g lán dula ▁tiro ides ▁ . ▁Se ▁realizan ▁una ▁ec ografía ▁y ▁una ▁PA AF ▁tiro idea ▁ , ▁suger entes ▁de ▁malign idad ▁ . </s> <pad> <pad> <pad> <pad> <pad> <pad> <pad> <pad> <pad> \n",
      "\n",
      "<s> ▁Se ▁completa ▁el ▁estudio ▁de ▁extensión ▁con ▁una ▁PET ▁- ▁TC ▁ , ▁a preci ándose ▁met ást asis ▁ó se as ▁y ▁gang lion ares ▁ . ▁En ▁octubre ▁de ▁2013 ▁se ▁realiza ▁rast reo ▁corporal ▁con ▁yo do ▁131 ▁ , ▁con ▁capta ción ▁a ▁nivel ▁del ▁le cho ▁tiro ide o ▁ , ▁sin ▁objetiva rse ▁foco s ▁de ▁capta ción ▁extra ti roid e os ▁ . </s> <pad> <pad> <pad> <pad> <pad> <pad> <pad> <pad> <pad> <pad> <pad> <pad> <pad> <pad> <pad> <pad> <pad> <pad> <pad> <pad> <pad> <pad> <pad> <pad> <pad> <pad> <pad> <pad> <pad> <pad> <pad> <pad> <pad> <pad> <pad> <pad> <pad> <pad> <pad> <pad> <pad> <pad> <pad> <pad> <pad> <pad> <pad> <pad> <pad> <pad> <pad> <pad> <pad> <pad> <pad> \n",
      "\n",
      "<s> ▁En ▁noviembre ▁de ▁2013 ▁es ▁interven ida ▁con ▁tiro id ecto m ía ▁completa ▁y ▁va ci amiento ▁gang lion ar ▁bilateral ▁( ▁en ▁el ▁lado ▁derecho ▁incomp le to ▁) ▁ , ▁siendo ▁diagnostic ada ▁de ▁car cino ma ▁papil ar ▁de ▁tiro ides ▁variante ▁es cle ros ante ▁dif usa ▁con ▁met ást asis ▁ó se as ▁y ▁lin fá ticas ▁ . ▁Presenta ▁además ▁der ram e ▁ple ural ▁derecho ▁( ▁cit ología ▁positiva ▁para ▁cáncer ▁de ▁tiro ides ▁) ▁ , ▁der ram e ▁per ic ár dico ▁y ▁trombo e mbol ismo ▁pulmonar ▁( ▁T EP ▁) ▁ag udo ▁con ▁in far to ▁pulmonar ▁en ▁diciembre ▁de ▁2013 ▁ . </s> <pad> <pad> <pad> <pad> <pad> <pad> <pad> <pad> <pad> <pad> <pad> \n",
      "\n",
      "<s> ▁Exam en ▁físico ▁Explo r ación ▁al ▁ingreso ▁a ▁cargo ▁de ▁On c ología ▁Mé dica ▁: ▁Sa tur ación ▁96 ▁% ▁con ▁o xí geno ▁en ▁gaf as ▁a ▁2 ▁litr os ▁ , ▁22 ▁respira ciones ▁por ▁minuto ▁ . ▁Pali dez ▁cu tá neo ▁mu cosa ▁ , ▁explora ción ▁neuro lógica ▁normal ▁ , ▁de bilidad ▁general izada ▁ . ▁No ▁ade nome gali as ▁a ▁nivel ▁cer vi cal ▁ni ▁a xi lar ▁ , ▁cica t riz ▁de ▁tiro id ecto m ía ▁en ▁buen ▁estado ▁ . </s> <pad> <pad> <pad> <pad> <pad> <pad> <pad> <pad> <pad> <pad> <pad> <pad> <pad> <pad> <pad> <pad> <pad> <pad> <pad> <pad> <pad> <pad> <pad> <pad> <pad> <pad> <pad> <pad> <pad> <pad> <pad> <pad> \n",
      "\n",
      "<s> ▁A CR ▁: ▁to nos ▁lige r amente ▁apa gados ▁ , ▁ta qui c árd icos ▁ , ▁rí t mico s ▁sin ▁sop los ▁ , ▁dis minu ción ▁del ▁mur m ullo ▁vesi cular ▁en ▁los ▁campos ▁pulmonar es ▁derechos ▁ . ▁Ab dom en ▁bland o ▁ , ▁depresi ble ▁ , ▁no ▁dolor oso ▁a ▁la ▁palp ación ▁ , ▁no ▁observ ándose ▁masa s ▁ni ▁meg alia s ▁Mie mbro s ▁inferiore s ▁sin ▁e de mas ▁ , ▁no ▁signo s ▁de ▁trombo sis ▁ven osa ▁profunda ▁ . </s> <pad> <pad> <pad> <pad> <pad> <pad> <pad> <pad> <pad> <pad> <pad> <pad> <pad> <pad> <pad> <pad> <pad> <pad> <pad> <pad> <pad> <pad> <pad> <pad> <pad> <pad> <pad> <pad> <pad> <pad> \n",
      "\n",
      "<s> ▁Pru e bas ▁complementar ias ▁- ▁Ec ografía ▁tiro idea ▁( ▁18 ▁/ ▁09 ▁/ ▁2013 ▁) ▁: ▁eco estructura ▁di sho mo gén e a ▁ , ▁micro cal ci fica ciones ▁di fus as ▁ , ▁no ▁se ▁aprecia n ▁nó du los ▁ , ▁ade no pat ía ▁ad ya cente ▁later oce rvi cal ▁izquierda ▁ . </s> <pad> <pad> <pad> <pad> <pad> <pad> <pad> <pad> <pad> <pad> <pad> <pad> <pad> <pad> <pad> <pad> <pad> <pad> <pad> <pad> <pad> <pad> <pad> <pad> <pad> <pad> <pad> <pad> <pad> <pad> <pad> <pad> <pad> <pad> <pad> <pad> <pad> <pad> <pad> <pad> <pad> <pad> <pad> <pad> <pad> <pad> <pad> <pad> <pad> <pad> <pad> <pad> <pad> <pad> <pad> <pad> <pad> <pad> <pad> <pad> <pad> <pad> <pad> <pad> <pad> \n",
      "\n",
      "<s> ▁- ▁PET ▁- ▁TC ▁( ▁21 ▁/ ▁9 ▁/ ▁2013 ▁) ▁: ▁g lán dula ▁tiro ides ▁hiper meta ból ica ▁en ▁ambos ▁ló bulo s ▁ , ▁varios ▁foco s ▁hiper meta ból icos ▁claramente ▁suger entes ▁de ▁met ást asis ▁ó se as ▁ , ▁afecta ndo ▁al ▁e stern ón ▁ , ▁hú mer o ▁iz quier do ▁ , ▁es cá pula ▁izquierda ▁y ▁fé mur ▁iz quier do ▁ , ▁además ▁de ▁cierta ▁hetero gene idad ▁de ▁capta ción ▁en ▁la ▁pel vis ▁y ▁el ▁sa cro ▁ . </s> <pad> <pad> <pad> <pad> <pad> <pad> <pad> <pad> <pad> <pad> <pad> <pad> <pad> <pad> <pad> <pad> <pad> <pad> <pad> <pad> <pad> <pad> <pad> <pad> <pad> <pad> <pad> <pad> <pad> <pad> <pad> <pad> \n",
      "\n",
      "<s> ▁Mú lti ples ▁ade no pat ías ▁meta ból icamente ▁activa s ▁que ▁afecta n ▁a ▁las ▁cadena s ▁later o cer vica les ▁bilateral es ▁y ▁media stí nica s ▁multi nivel ▁ , ▁resulta ndo ▁so spe chos as ▁de ▁afecta ción ▁metas tás ica ▁ . ▁- ▁Rast reo ▁cop oral ▁I 131 ▁: ▁capta ción ▁del ▁traz ador ▁a ▁nivel ▁del ▁le cho ▁tiro ide o ▁ , ▁sin ▁objetiva rse ▁capta ción ▁a ▁distancia ▁ . ▁- ▁Ang io ▁- ▁TC ▁( ▁30 ▁/ ▁12 ▁/ ▁2013 ▁) ▁: ▁trombo e mbol ismo ▁pulmonar ▁de ▁ramas ▁arterial es ▁segment arias ▁para ▁el ▁ló bulo ▁inferior ▁iz quier do ▁con ▁in far to ▁pulmonar ▁ . </s> <pad> <pad> <pad> <pad> <pad> <pad> \n",
      "\n",
      "<s> ▁- ▁Eco card i ografía ▁( ▁30 ▁/ ▁12 ▁/ ▁2013 ▁) ▁: ▁mínimo ▁der ram e ▁per ic ár dico ▁a ▁nivel ▁de ▁las ▁cavi dades ▁izquierda s ▁ . ▁Lige ra ▁di lat ación ▁del ▁vent rí culo ▁derecho ▁ , ▁sin ▁signo s ▁de ▁reper cu sión ▁hem odi ná mica ▁ . ▁- ▁Radi ografía ▁de ▁tó ra x ▁( ▁7 ▁/ ▁2 ▁/ ▁2013 ▁) ▁: ▁der ram e ▁ple ural ▁derecho ▁ , ▁que ▁alcanza ▁hasta ▁el ▁ter cio ▁inferior ▁del ▁hem it óra x ▁derecho ▁ . </s> <pad> <pad> <pad> <pad> <pad> <pad> <pad> <pad> <pad> <pad> <pad> <pad> <pad> <pad> <pad> <pad> <pad> <pad> <pad> <pad> <pad> <pad> <pad> <pad> <pad> <pad> <pad> <pad> <pad> <pad> <pad> <pad> \n",
      "\n",
      "<s> ▁- ▁Rast reo ▁corporal ▁total ▁pos terapi a ▁I 131 ▁150 ▁m Ci ▁: ▁se ▁evidencia ▁capta ción ▁de ▁carácter ▁leve ▁a ▁nivel ▁cer vi cal ▁suger ente ▁de ▁restos ▁tiro ide os ▁ . ▁- ▁Ven tric ul ografía ▁iso tó pica ▁( ▁18 ▁/ ▁3 ▁/ ▁2014 ▁) ▁: ▁no ▁di lat ación ▁de ▁cavi dades ▁vent ri culare s ▁ , ▁curva ▁de ▁llena do ▁vent ri cular ▁leve mente ▁altera da ▁ , ▁fra cción ▁de ▁eye cción ▁del ▁vent rí culo ▁iz quier do ▁en ▁el ▁límite ▁inferior ▁de ▁la ▁normal idad ▁( ▁FE VI ▁= ▁51 ▁% ▁) ▁ . </s> <pad> <pad> <pad> <pad> <pad> <pad> <pad> <pad> <pad> <pad> <pad> <pad> <pad> <pad> <pad> <pad> <pad> <pad> <pad> <pad> \n",
      "\n",
      "<s> ▁Dia g nó stico ▁Car cino ma ▁papil ar ▁de ▁tiro ides ▁ , ▁variante ▁es cle ros ante ▁dif usa ▁ . ▁Esta dio ▁IV ▁( ▁met ást asis ▁gang lion ares ▁ , ▁ó se as ▁y ▁ple ura les ▁) ▁ . ▁Trata miento ▁Se ▁realiza ▁en ▁noviembre ▁de ▁2013 ▁tiro id ecto m ía ▁y ▁va ci amiento ▁gang lion ar ▁ , ▁to ra co centes is ▁evacua dora ▁de ▁der ram es ▁ple ura les ▁de ▁repeti ción ▁ . </s> <pad> <pad> <pad> <pad> <pad> <pad> <pad> <pad> <pad> <pad> <pad> <pad> <pad> <pad> <pad> <pad> <pad> <pad> <pad> <pad> <pad> <pad> <pad> <pad> <pad> <pad> <pad> <pad> <pad> <pad> <pad> <pad> <pad> <pad> <pad> <pad> <pad> <pad> <pad> <pad> \n",
      "\n",
      "<s> ▁En ▁abril ▁de ▁2014 ▁se ▁presenta ▁el ▁caso ▁en ▁comité ▁de ▁tumor es ▁tiro ide os ▁ , ▁conjunto ▁de ▁En doc rin ologia ▁ , ▁Ci rug ía ▁ , ▁Medicina ▁Nu clear ▁y ▁On c ología ▁Mé dica ▁y ▁se ▁decide ▁: ▁- ▁Trata miento ▁con ▁i odo ▁radi activ o ▁a ▁pesar ▁de ▁la ▁dé bil ▁capta ción ▁en ▁el ▁rast reo ▁ . ▁Se ▁traslada ▁al ▁Servicio ▁de ▁Medicina ▁Nu clear ▁para ▁terapia ▁con ▁i odo ▁131 ▁ , ▁en ▁dosis ▁ab lat ivas ▁ , ▁sin ▁presentar ▁la ▁les ion ▁afin idad ▁por ▁i odo ▁ , ▁con ▁una ▁capta ción ▁dé bil ▁ . ▁- ▁Trata miento ▁on c ológico ▁con ▁so raf en ib ▁ . </s> <pad> <pad> <pad> \n",
      "\n",
      "<s> ▁Tras ▁comprobar se ▁la ▁FE VI ▁y ▁el ▁segui mier nto ▁favorable ▁del ▁der ram e ▁per ic ár dico ▁se ▁inicia ▁tratamiento ▁con ▁so raf en ib ▁con ▁el ▁50 ▁% ▁de ▁la ▁dosis ▁a ▁200 ▁mg ▁c ▁/ ▁12 ▁h ▁el ▁día ▁19 ▁/ ▁3 ▁/ ▁2014 ▁ . </s> <pad> <pad> <pad> <pad> <pad> <pad> <pad> <pad> <pad> <pad> <pad> <pad> <pad> <pad> <pad> <pad> <pad> <pad> <pad> <pad> <pad> <pad> <pad> <pad> <pad> <pad> <pad> <pad> <pad> <pad> <pad> <pad> <pad> <pad> <pad> <pad> <pad> <pad> <pad> <pad> <pad> <pad> <pad> <pad> <pad> <pad> <pad> <pad> <pad> <pad> <pad> <pad> <pad> <pad> <pad> <pad> <pad> <pad> <pad> <pad> <pad> <pad> <pad> <pad> <pad> <pad> <pad> <pad> <pad> <pad> <pad> <pad> <pad> <pad> <pad> \n",
      "\n",
      "<s> ▁Evolu ción ▁Tras ▁realizar ▁terapia ▁a bla tiva ▁ , ▁la ▁paciente ▁se ▁traslada ▁al ▁Servicio ▁de ▁On c ología ▁Mé dica ▁desde ▁Medicina ▁Nu clear ▁para ▁continuar ▁el ▁tratamiento ▁ , ▁realiz ándose ▁FE VI ▁= ▁51 ▁% ▁ , ▁inicia ▁so raf en ib ▁a ▁dosis ▁de ▁200 ▁mg ▁/ ▁12 ▁h ▁ , ▁con ▁buena ▁toleranci a ▁; ▁ante ▁la ▁mejor ía ▁clínica ▁y ▁la ▁e stabil ización ▁de ▁su ▁dis ne a ▁ , ▁se ▁da ▁el ▁alta ▁ . </s> <pad> <pad> <pad> <pad> <pad> <pad> <pad> <pad> <pad> <pad> <pad> <pad> <pad> <pad> <pad> <pad> <pad> <pad> <pad> <pad> <pad> <pad> <pad> <pad> <pad> <pad> <pad> <pad> <pad> <pad> <pad> <pad> <pad> <pad> <pad> <pad> <pad> <pad> <pad> <pad> <pad> <pad> \n",
      "\n",
      "<s> ▁En ▁revisión ▁en ▁consulta ▁de ▁On c ología ▁a ▁los ▁12 ▁días ▁del ▁inicio ▁del ▁tratamiento ▁ , ▁la ▁paciente ▁presenta ▁emp e or amiento ▁clínico ▁ , ▁con ▁intensa ▁a st enia ▁ , ▁som nol encia ▁ , ▁hipo per fusión ▁ , ▁fri al dad ▁cu tán e a ▁ , ▁hiper su dor ación ▁ , ▁dolor ▁abdominal ▁y ▁ná use as ▁; ▁con ▁so spec ha ▁de ▁crisis ▁hipo ti ro idea ▁la ▁paciente ▁es ▁in gres ada ▁ , ▁presenta ndo ▁durante ▁el ▁ingreso ▁un ▁episodio ▁de ▁dis ne a ▁sú bita ▁con ▁satura ción ▁< ▁80 ▁% ▁a ▁pesar ▁de ▁mas car illa ▁con ▁reserv orio ▁e ▁hipo ten sión ▁ , ▁requiri endo ▁el ▁ingreso ▁en ▁la ▁ </s> \n",
      "\n",
      "<s> UCI ▁; ▁finalmente ▁ , ▁la ▁paciente ▁fall ece ▁por ▁hipo x emia ▁sever a ▁re frac taria ▁a ▁tratamiento ▁secundaria ▁a ▁T EP ▁ . </s> <pad> <pad> <pad> <pad> <pad> <pad> <pad> <pad> <pad> <pad> <pad> <pad> <pad> <pad> <pad> <pad> <pad> <pad> <pad> <pad> <pad> <pad> <pad> <pad> <pad> <pad> <pad> <pad> <pad> <pad> <pad> <pad> <pad> <pad> <pad> <pad> <pad> <pad> <pad> <pad> <pad> <pad> <pad> <pad> <pad> <pad> <pad> <pad> <pad> <pad> <pad> <pad> <pad> <pad> <pad> <pad> <pad> <pad> <pad> <pad> <pad> <pad> <pad> <pad> <pad> <pad> <pad> <pad> <pad> <pad> <pad> <pad> <pad> <pad> <pad> <pad> <pad> <pad> <pad> <pad> <pad> <pad> <pad> <pad> <pad> <pad> <pad> <pad> <pad> <pad> <pad> <pad> <pad> <pad> <pad> <pad> <pad> <pad> <pad> <pad> \n",
      "\n"
     ]
    }
   ],
   "source": [
    "check_id_frag = sum(dev_frag[:check_id])\n",
    "for frag in dev_ind[check_id_frag:check_id_frag + dev_frag[check_id]]:\n",
    "    print(' '.join([tokenizer._convert_id_to_token(int(ind)) for ind in frag]), \"\\n\")"
   ]
  },
  {
   "cell_type": "markdown",
   "metadata": {},
   "source": [
    "### Training & Development corpus\n",
    "\n",
    "We merge the previously generated datasets:"
   ]
  },
  {
   "cell_type": "code",
   "execution_count": 75,
   "metadata": {},
   "outputs": [],
   "source": [
    "# Indices\n",
    "train_dev_ind = np.concatenate((train_ind, dev_ind))"
   ]
  },
  {
   "cell_type": "code",
   "execution_count": 76,
   "metadata": {
    "scrolled": true
   },
   "outputs": [
    {
     "data": {
      "text/plain": [
       "(13879, 128)"
      ]
     },
     "execution_count": 76,
     "metadata": {},
     "output_type": "execute_result"
    }
   ],
   "source": [
    "train_dev_ind.shape"
   ]
  },
  {
   "cell_type": "code",
   "execution_count": 77,
   "metadata": {},
   "outputs": [],
   "source": [
    "# Attention\n",
    "train_dev_att = np.concatenate((train_att, dev_att))"
   ]
  },
  {
   "cell_type": "code",
   "execution_count": 78,
   "metadata": {},
   "outputs": [
    {
     "data": {
      "text/plain": [
       "(13879, 128)"
      ]
     },
     "execution_count": 78,
     "metadata": {},
     "output_type": "execute_result"
    }
   ],
   "source": [
    "train_dev_att.shape"
   ]
  },
  {
   "cell_type": "code",
   "execution_count": 79,
   "metadata": {},
   "outputs": [],
   "source": [
    "# Type\n",
    "train_dev_type = np.concatenate((train_type, dev_type))"
   ]
  },
  {
   "cell_type": "code",
   "execution_count": 80,
   "metadata": {},
   "outputs": [
    {
     "data": {
      "text/plain": [
       "(13879, 128)"
      ]
     },
     "execution_count": 80,
     "metadata": {},
     "output_type": "execute_result"
    }
   ],
   "source": [
    "train_dev_type.shape"
   ]
  },
  {
   "cell_type": "code",
   "execution_count": 81,
   "metadata": {},
   "outputs": [],
   "source": [
    "# y\n",
    "train_dev_y = np.concatenate((train_y, dev_y))"
   ]
  },
  {
   "cell_type": "code",
   "execution_count": 82,
   "metadata": {},
   "outputs": [
    {
     "data": {
      "text/plain": [
       "(13879, 128)"
      ]
     },
     "execution_count": 82,
     "metadata": {},
     "output_type": "execute_result"
    }
   ],
   "source": [
    "train_dev_y.shape"
   ]
  },
  {
   "cell_type": "markdown",
   "metadata": {},
   "source": [
    "## Fine-tuning\n",
    "\n",
    "Using the corpus of labeled sentences, we fine-tune the model on a multi-label sentence classification task."
   ]
  },
  {
   "cell_type": "code",
   "execution_count": 83,
   "metadata": {},
   "outputs": [
    {
     "name": "stderr",
     "output_type": "stream",
     "text": [
      "Some weights of the PyTorch model were not used when initializing the TF 2.0 model TFXLMRobertaForTokenClassification: ['roberta.embeddings.position_ids']\n",
      "- This IS expected if you are initializing TFXLMRobertaForTokenClassification from a PyTorch model trained on another task or with another architecture (e.g. initializing a TFBertForSequenceClassification model from a BertForPreTraining model).\n",
      "- This IS NOT expected if you are initializing TFXLMRobertaForTokenClassification from a PyTorch model that you expect to be exactly identical (e.g. initializing a TFBertForSequenceClassification model from a BertForSequenceClassification model).\n",
      "Some weights or buffers of the TF 2.0 model TFXLMRobertaForTokenClassification were not initialized from the PyTorch model and are newly initialized: ['classifier.weight', 'classifier.bias']\n",
      "You should probably TRAIN this model on a down-stream task to be able to use it for predictions and inference.\n"
     ]
    }
   ],
   "source": [
    "from transformers import TFXLMRobertaForTokenClassification\n",
    "\n",
    "model = TFXLMRobertaForTokenClassification.from_pretrained(model_name, from_pt=True)"
   ]
  },
  {
   "cell_type": "code",
   "execution_count": 84,
   "metadata": {},
   "outputs": [
    {
     "name": "stdout",
     "output_type": "stream",
     "text": [
      "Model: \"tfxlm_roberta_for_token_classification\"\n",
      "_________________________________________________________________\n",
      "Layer (type)                 Output Shape              Param #   \n",
      "=================================================================\n",
      "roberta (TFRobertaMainLayer) multiple                  277453056 \n",
      "_________________________________________________________________\n",
      "dropout_37 (Dropout)         multiple                  0         \n",
      "_________________________________________________________________\n",
      "classifier (Dense)           multiple                  1538      \n",
      "=================================================================\n",
      "Total params: 277,454,594\n",
      "Trainable params: 277,454,594\n",
      "Non-trainable params: 0\n",
      "_________________________________________________________________\n"
     ]
    }
   ],
   "source": [
    "model.summary()"
   ]
  },
  {
   "cell_type": "code",
   "execution_count": 85,
   "metadata": {},
   "outputs": [
    {
     "data": {
      "text/plain": [
       "[<transformers.models.roberta.modeling_tf_roberta.TFRobertaMainLayer at 0x7fdeb32c8310>,\n",
       " <tensorflow.python.keras.layers.core.Dropout at 0x7fde66733f90>,\n",
       " <tensorflow.python.keras.layers.core.Dense at 0x7fde67d85650>]"
      ]
     },
     "execution_count": 85,
     "metadata": {},
     "output_type": "execute_result"
    }
   ],
   "source": [
    "model.layers"
   ]
  },
  {
   "cell_type": "code",
   "execution_count": 86,
   "metadata": {},
   "outputs": [],
   "source": [
    "from tensorflow.keras import Input, Model\n",
    "from tensorflow.keras.layers import Dense\n",
    "from tensorflow.keras.initializers import GlorotUniform\n",
    "\n",
    "input_ids = Input(shape=(SEQ_LEN,), name='input_ids', dtype='int64')\n",
    "attention_mask = Input(shape=(SEQ_LEN,), name='attention_mask', dtype='int64')\n",
    "token_type_ids = Input(shape=(SEQ_LEN,), name='token_type_ids', dtype='int64')\n",
    "inputs = [input_ids, attention_mask, token_type_ids]\n",
    "\n",
    "num_labels = len(lab_encoder.classes_)\n",
    "\n",
    "out_seq = model.layers[0](input_ids=inputs[0], attention_mask=inputs[1], token_type_ids=inputs[2])[0] # take the output sub-token sequence \n",
    "out_logits = Dense(units=num_labels, kernel_initializer=GlorotUniform(seed=random_seed))(out_seq) # Multi-class classification\n",
    "\n",
    "model = Model(inputs=inputs, outputs=out_logits)"
   ]
  },
  {
   "cell_type": "code",
   "execution_count": 87,
   "metadata": {},
   "outputs": [
    {
     "name": "stdout",
     "output_type": "stream",
     "text": [
      "Model: \"functional_1\"\n",
      "__________________________________________________________________________________________________\n",
      "Layer (type)                    Output Shape         Param #     Connected to                     \n",
      "==================================================================================================\n",
      "input_ids (InputLayer)          [(None, 128)]        0                                            \n",
      "__________________________________________________________________________________________________\n",
      "attention_mask (InputLayer)     [(None, 128)]        0                                            \n",
      "__________________________________________________________________________________________________\n",
      "token_type_ids (InputLayer)     [(None, 128)]        0                                            \n",
      "__________________________________________________________________________________________________\n",
      "roberta (TFRobertaMainLayer)    TFBaseModelOutputWit 277453056   input_ids[0][0]                  \n",
      "                                                                 attention_mask[0][0]             \n",
      "                                                                 token_type_ids[0][0]             \n",
      "__________________________________________________________________________________________________\n",
      "dense (Dense)                   (None, 128, 3)       2307        roberta[0][0]                    \n",
      "==================================================================================================\n",
      "Total params: 277,455,363\n",
      "Trainable params: 277,455,363\n",
      "Non-trainable params: 0\n",
      "__________________________________________________________________________________________________\n"
     ]
    }
   ],
   "source": [
    "model.summary()"
   ]
  },
  {
   "cell_type": "code",
   "execution_count": 88,
   "metadata": {},
   "outputs": [
    {
     "data": {
      "text/plain": [
       "[<tf.Tensor 'input_ids:0' shape=(None, 128) dtype=int64>,\n",
       " <tf.Tensor 'attention_mask:0' shape=(None, 128) dtype=int64>,\n",
       " <tf.Tensor 'token_type_ids:0' shape=(None, 128) dtype=int64>]"
      ]
     },
     "execution_count": 88,
     "metadata": {},
     "output_type": "execute_result"
    }
   ],
   "source": [
    "model.input"
   ]
  },
  {
   "cell_type": "code",
   "execution_count": 89,
   "metadata": {},
   "outputs": [
    {
     "data": {
      "text/plain": [
       "<tf.Tensor 'dense/BiasAdd:0' shape=(None, 128, 3) dtype=float32>"
      ]
     },
     "execution_count": 89,
     "metadata": {},
     "output_type": "execute_result"
    }
   ],
   "source": [
    "model.output"
   ]
  },
  {
   "cell_type": "code",
   "execution_count": null,
   "metadata": {},
   "outputs": [
    {
     "name": "stdout",
     "output_type": "stream",
     "text": [
      "Epoch 1/71\n",
      "309/868 [=========>....................] - ETA: 3:10 - loss: 0.2828"
     ]
    }
   ],
   "source": [
    "%%time\n",
    "from tensorflow.keras import optimizers, losses\n",
    "import tensorflow_addons as tfa\n",
    "\n",
    "optimizer = tfa.optimizers.RectifiedAdam(learning_rate=LR)\n",
    "loss = TokenClassificationLoss(from_logits=LOGITS, ignore_val=IGNORE_VALUE)\n",
    "model.compile(optimizer=optimizer, loss=loss)\n",
    "\n",
    "history = model.fit(x={'input_ids': train_dev_ind, 'attention_mask': train_dev_att, 'token_type_ids': train_dev_type}, \n",
    "                    y=train_dev_y, batch_size=BATCH_SIZE, epochs=EPOCHS, shuffle=True)"
   ]
  },
  {
   "cell_type": "markdown",
   "metadata": {},
   "source": [
    "As a sanity check procedure, we evaluate model predictions on the development set:"
   ]
  },
  {
   "cell_type": "code",
   "execution_count": 101,
   "metadata": {},
   "outputs": [
    {
     "name": "stdout",
     "output_type": "stream",
     "text": [
      "CPU times: user 11.7 s, sys: 1.5 s, total: 13.2 s\n",
      "Wall time: 16.3 s\n"
     ]
    }
   ],
   "source": [
    "%%time\n",
    "dev_preds = tf.nn.softmax(logits=model.predict({'input_ids': dev_ind, 'attention_mask': dev_att, \n",
    "                                                'token_type_ids': dev_type}), \n",
    "                           axis=-1).numpy()"
   ]
  },
  {
   "cell_type": "code",
   "execution_count": 102,
   "metadata": {},
   "outputs": [
    {
     "data": {
      "text/plain": [
       "(2965, 128, 3)"
      ]
     },
     "execution_count": 102,
     "metadata": {},
     "output_type": "execute_result"
    }
   ],
   "source": [
    "dev_preds.shape"
   ]
  },
  {
   "cell_type": "code",
   "execution_count": 103,
   "metadata": {},
   "outputs": [],
   "source": [
    "out_dev_path = \"dev_preds/\""
   ]
  },
  {
   "cell_type": "code",
   "execution_count": 104,
   "metadata": {},
   "outputs": [
    {
     "name": "stderr",
     "output_type": "stream",
     "text": [
      "100%|██████████| 250/250 [00:00<00:00, 275.22it/s]\n",
      "100%|██████████| 250/250 [00:00<00:00, 300.63it/s]\n"
     ]
    }
   ],
   "source": [
    "write_ner_ann(df_pred_ann=ner_preds_brat_format(doc_list=dev_doc_list, fragments=dev_frag, preds=dev_preds, \n",
    "                                    start_end=dev_start_end_frag, word_id=dev_word_id, \n",
    "                                    lb_encoder=lab_encoder, df_text=df_text_dev, text_col=text_col, strategy=EVAL_STRATEGY), \n",
    "              out_path=out_dev_path)"
   ]
  },
  {
   "cell_type": "code",
   "execution_count": 105,
   "metadata": {},
   "outputs": [
    {
     "name": "stdout",
     "output_type": "stream",
     "text": [
      "\r\n",
      "-----------------------------------------------------\r\n",
      "Clinical case name\t\t\tPrecision\r\n",
      "-----------------------------------------------------\r\n",
      "cc_onco1001.ann\t\t1.0\r\n",
      "-----------------------------------------------------\r\n",
      "cc_onco1007.ann\t\t1.0\r\n",
      "-----------------------------------------------------\r\n",
      "cc_onco1008.ann\t\t1.0\r\n",
      "-----------------------------------------------------\r\n",
      "cc_onco1009.ann\t\t1.0\r\n",
      "-----------------------------------------------------\r\n",
      "cc_onco1010.ann\t\t1.0\r\n",
      "-----------------------------------------------------\r\n",
      "cc_onco1011.ann\t\t1.0\r\n",
      "-----------------------------------------------------\r\n",
      "cc_onco1012.ann\t\t1.0\r\n",
      "-----------------------------------------------------\r\n",
      "cc_onco1014.ann\t\t1.0\r\n",
      "-----------------------------------------------------\r\n",
      "cc_onco1016.ann\t\t1.0\r\n",
      "-----------------------------------------------------\r\n",
      "cc_onco1018.ann\t\t1.0\r\n",
      "-----------------------------------------------------\r\n",
      "cc_onco1019.ann\t\t1.0\r\n",
      "-----------------------------------------------------\r\n",
      "cc_onco1020.ann\t\t1.0\r\n",
      "-----------------------------------------------------\r\n",
      "cc_onco1021.ann\t\t1.0\r\n",
      "-----------------------------------------------------\r\n",
      "cc_onco1022.ann\t\t1.0\r\n",
      "-----------------------------------------------------\r\n",
      "cc_onco1025.ann\t\t1.0\r\n",
      "-----------------------------------------------------\r\n",
      "cc_onco1028.ann\t\t1.0\r\n",
      "-----------------------------------------------------\r\n",
      "cc_onco1031.ann\t\t1.0\r\n",
      "-----------------------------------------------------\r\n",
      "cc_onco1032.ann\t\t1.0\r\n",
      "-----------------------------------------------------\r\n",
      "cc_onco1033.ann\t\t1.0\r\n",
      "-----------------------------------------------------\r\n",
      "cc_onco1034.ann\t\t1.0\r\n",
      "-----------------------------------------------------\r\n",
      "cc_onco1035.ann\t\t1.0\r\n",
      "-----------------------------------------------------\r\n",
      "cc_onco1036.ann\t\t1.0\r\n",
      "-----------------------------------------------------\r\n",
      "cc_onco1041.ann\t\t1.0\r\n",
      "-----------------------------------------------------\r\n",
      "cc_onco1042.ann\t\t1.0\r\n",
      "-----------------------------------------------------\r\n",
      "cc_onco1043.ann\t\t1.0\r\n",
      "-----------------------------------------------------\r\n",
      "cc_onco1045.ann\t\t1.0\r\n",
      "-----------------------------------------------------\r\n",
      "cc_onco1047.ann\t\t1.0\r\n",
      "-----------------------------------------------------\r\n",
      "cc_onco1048.ann\t\t1.0\r\n",
      "-----------------------------------------------------\r\n",
      "cc_onco1049.ann\t\t1.0\r\n",
      "-----------------------------------------------------\r\n",
      "cc_onco1052.ann\t\t1.0\r\n",
      "-----------------------------------------------------\r\n",
      "cc_onco1054.ann\t\t1.0\r\n",
      "-----------------------------------------------------\r\n",
      "cc_onco1055.ann\t\t1.0\r\n",
      "-----------------------------------------------------\r\n",
      "cc_onco1058.ann\t\t1.0\r\n",
      "-----------------------------------------------------\r\n",
      "cc_onco1061.ann\t\t1.0\r\n",
      "-----------------------------------------------------\r\n",
      "cc_onco1062.ann\t\t1.0\r\n",
      "-----------------------------------------------------\r\n",
      "cc_onco1063.ann\t\t1.0\r\n",
      "-----------------------------------------------------\r\n",
      "cc_onco1067.ann\t\t1.0\r\n",
      "-----------------------------------------------------\r\n",
      "cc_onco1068.ann\t\t1.0\r\n",
      "-----------------------------------------------------\r\n",
      "cc_onco1069.ann\t\t1.0\r\n",
      "-----------------------------------------------------\r\n",
      "cc_onco1070.ann\t\t1.0\r\n",
      "-----------------------------------------------------\r\n",
      "cc_onco1071.ann\t\t1.0\r\n",
      "-----------------------------------------------------\r\n",
      "cc_onco1072.ann\t\t1.0\r\n",
      "-----------------------------------------------------\r\n",
      "cc_onco1073.ann\t\t1.0\r\n",
      "-----------------------------------------------------\r\n",
      "cc_onco1074.ann\t\t1.0\r\n",
      "-----------------------------------------------------\r\n",
      "cc_onco1076.ann\t\t1.0\r\n",
      "-----------------------------------------------------\r\n",
      "cc_onco1077.ann\t\t1.0\r\n",
      "-----------------------------------------------------\r\n",
      "cc_onco1079.ann\t\t1.0\r\n",
      "-----------------------------------------------------\r\n",
      "cc_onco1088.ann\t\t1.0\r\n",
      "-----------------------------------------------------\r\n",
      "cc_onco1089.ann\t\t1.0\r\n",
      "-----------------------------------------------------\r\n",
      "cc_onco1090.ann\t\t1.0\r\n",
      "-----------------------------------------------------\r\n",
      "cc_onco1091.ann\t\t1.0\r\n",
      "-----------------------------------------------------\r\n",
      "cc_onco1093.ann\t\t1.0\r\n",
      "-----------------------------------------------------\r\n",
      "cc_onco1094.ann\t\t1.0\r\n",
      "-----------------------------------------------------\r\n",
      "cc_onco1097.ann\t\t1.0\r\n",
      "-----------------------------------------------------\r\n",
      "cc_onco1098.ann\t\t1.0\r\n",
      "-----------------------------------------------------\r\n",
      "cc_onco1101.ann\t\t1.0\r\n",
      "-----------------------------------------------------\r\n",
      "cc_onco1102.ann\t\t1.0\r\n",
      "-----------------------------------------------------\r\n",
      "cc_onco1104.ann\t\t1.0\r\n",
      "-----------------------------------------------------\r\n",
      "cc_onco1111.ann\t\t1.0\r\n",
      "-----------------------------------------------------\r\n",
      "cc_onco1115.ann\t\t1.0\r\n",
      "-----------------------------------------------------\r\n",
      "cc_onco1117.ann\t\t1.0\r\n",
      "-----------------------------------------------------\r\n",
      "cc_onco1118.ann\t\t1.0\r\n",
      "-----------------------------------------------------\r\n",
      "cc_onco1121.ann\t\t1.0\r\n",
      "-----------------------------------------------------\r\n",
      "cc_onco1123.ann\t\t1.0\r\n",
      "-----------------------------------------------------\r\n",
      "cc_onco1124.ann\t\t1.0\r\n",
      "-----------------------------------------------------\r\n",
      "cc_onco1127.ann\t\t1.0\r\n",
      "-----------------------------------------------------\r\n",
      "cc_onco1130.ann\t\t1.0\r\n",
      "-----------------------------------------------------\r\n",
      "cc_onco1131.ann\t\t1.0\r\n",
      "-----------------------------------------------------\r\n",
      "cc_onco1132.ann\t\t1.0\r\n",
      "-----------------------------------------------------\r\n",
      "cc_onco1133.ann\t\t1.0\r\n",
      "-----------------------------------------------------\r\n",
      "cc_onco1137.ann\t\t1.0\r\n",
      "-----------------------------------------------------\r\n",
      "cc_onco1138.ann\t\t1.0\r\n",
      "-----------------------------------------------------\r\n",
      "cc_onco1141.ann\t\t1.0\r\n",
      "-----------------------------------------------------\r\n",
      "cc_onco1142.ann\t\t1.0\r\n",
      "-----------------------------------------------------\r\n",
      "cc_onco1143.ann\t\t1.0\r\n",
      "-----------------------------------------------------\r\n",
      "cc_onco1145.ann\t\t1.0\r\n",
      "-----------------------------------------------------\r\n",
      "cc_onco1147.ann\t\t1.0\r\n",
      "-----------------------------------------------------\r\n",
      "cc_onco1150.ann\t\t1.0\r\n",
      "-----------------------------------------------------\r\n",
      "cc_onco1151.ann\t\t1.0\r\n",
      "-----------------------------------------------------\r\n",
      "cc_onco1152.ann\t\t1.0\r\n",
      "-----------------------------------------------------\r\n",
      "cc_onco1154.ann\t\t1.0\r\n",
      "-----------------------------------------------------\r\n",
      "cc_onco1159.ann\t\t1.0\r\n",
      "-----------------------------------------------------\r\n",
      "cc_onco1163.ann\t\t1.0\r\n",
      "-----------------------------------------------------\r\n",
      "cc_onco1164.ann\t\t1.0\r\n",
      "-----------------------------------------------------\r\n",
      "cc_onco1166.ann\t\t1.0\r\n",
      "-----------------------------------------------------\r\n",
      "cc_onco1168.ann\t\t1.0\r\n",
      "-----------------------------------------------------\r\n",
      "cc_onco1170.ann\t\t1.0\r\n",
      "-----------------------------------------------------\r\n",
      "cc_onco1171.ann\t\t1.0\r\n",
      "-----------------------------------------------------\r\n",
      "cc_onco1172.ann\t\t1.0\r\n",
      "-----------------------------------------------------\r\n",
      "cc_onco1173.ann\t\t1.0\r\n",
      "-----------------------------------------------------\r\n",
      "cc_onco1175.ann\t\t1.0\r\n",
      "-----------------------------------------------------\r\n",
      "cc_onco1177.ann\t\t1.0\r\n",
      "-----------------------------------------------------\r\n",
      "cc_onco1179.ann\t\t1.0\r\n",
      "-----------------------------------------------------\r\n",
      "cc_onco1181.ann\t\t0.933\r\n",
      "-----------------------------------------------------\r\n",
      "cc_onco1183.ann\t\t1.0\r\n",
      "-----------------------------------------------------\r\n",
      "cc_onco1184.ann\t\t1.0\r\n",
      "-----------------------------------------------------\r\n",
      "cc_onco1186.ann\t\t1.0\r\n",
      "-----------------------------------------------------\r\n",
      "cc_onco1187.ann\t\t1.0\r\n",
      "-----------------------------------------------------\r\n",
      "cc_onco1188.ann\t\t1.0\r\n",
      "-----------------------------------------------------\r\n",
      "cc_onco1189.ann\t\t1.0\r\n",
      "-----------------------------------------------------\r\n",
      "cc_onco1194.ann\t\t1.0\r\n",
      "-----------------------------------------------------\r\n",
      "cc_onco1198.ann\t\t1.0\r\n",
      "-----------------------------------------------------\r\n",
      "cc_onco1199.ann\t\t1.0\r\n",
      "-----------------------------------------------------\r\n",
      "cc_onco1201.ann\t\t1.0\r\n",
      "-----------------------------------------------------\r\n",
      "cc_onco1203.ann\t\t1.0\r\n",
      "-----------------------------------------------------\r\n",
      "cc_onco1208.ann\t\t1.0\r\n",
      "-----------------------------------------------------\r\n",
      "cc_onco1211.ann\t\t1.0\r\n",
      "-----------------------------------------------------\r\n",
      "cc_onco1215.ann\t\t1.0\r\n",
      "-----------------------------------------------------\r\n",
      "cc_onco1217.ann\t\t1.0\r\n",
      "-----------------------------------------------------\r\n",
      "cc_onco1218.ann\t\t1.0\r\n",
      "-----------------------------------------------------\r\n",
      "cc_onco1221.ann\t\t1.0\r\n",
      "-----------------------------------------------------\r\n",
      "cc_onco1222.ann\t\t1.0\r\n",
      "-----------------------------------------------------\r\n",
      "cc_onco1225.ann\t\t1.0\r\n",
      "-----------------------------------------------------\r\n",
      "cc_onco1226.ann\t\t1.0\r\n",
      "-----------------------------------------------------\r\n",
      "cc_onco1227.ann\t\t1.0\r\n",
      "-----------------------------------------------------\r\n",
      "cc_onco1228.ann\t\t1.0\r\n",
      "-----------------------------------------------------\r\n",
      "cc_onco1229.ann\t\t0.923\r\n",
      "-----------------------------------------------------\r\n",
      "cc_onco1230.ann\t\t1.0\r\n",
      "-----------------------------------------------------\r\n",
      "cc_onco1232.ann\t\t1.0\r\n",
      "-----------------------------------------------------\r\n",
      "cc_onco1234.ann\t\t1.0\r\n",
      "-----------------------------------------------------\r\n",
      "cc_onco1235.ann\t\t1.0\r\n",
      "-----------------------------------------------------\r\n",
      "cc_onco1236.ann\t\t1.0\r\n",
      "-----------------------------------------------------\r\n",
      "cc_onco1237.ann\t\t1.0\r\n",
      "-----------------------------------------------------\r\n",
      "cc_onco1239.ann\t\t1.0\r\n",
      "-----------------------------------------------------\r\n",
      "cc_onco1241.ann\t\t1.0\r\n",
      "-----------------------------------------------------\r\n",
      "cc_onco1245.ann\t\t1.0\r\n",
      "-----------------------------------------------------\r\n",
      "cc_onco1253.ann\t\t1.0\r\n",
      "-----------------------------------------------------\r\n",
      "cc_onco1254.ann\t\t0.917\r\n",
      "-----------------------------------------------------\r\n",
      "cc_onco1255.ann\t\t1.0\r\n",
      "-----------------------------------------------------\r\n",
      "cc_onco1256.ann\t\t1.0\r\n",
      "-----------------------------------------------------\r\n",
      "cc_onco1257.ann\t\t1.0\r\n",
      "-----------------------------------------------------\r\n",
      "cc_onco1258.ann\t\t0.923\r\n",
      "-----------------------------------------------------\r\n",
      "cc_onco1260.ann\t\t1.0\r\n",
      "-----------------------------------------------------\r\n",
      "cc_onco1262.ann\t\t1.0\r\n",
      "-----------------------------------------------------\r\n",
      "cc_onco1264.ann\t\t1.0\r\n",
      "-----------------------------------------------------\r\n",
      "cc_onco1267.ann\t\t1.0\r\n",
      "-----------------------------------------------------\r\n",
      "cc_onco1271.ann\t\t1.0\r\n",
      "-----------------------------------------------------\r\n",
      "cc_onco1272.ann\t\t1.0\r\n",
      "-----------------------------------------------------\r\n",
      "cc_onco1273.ann\t\t1.0\r\n",
      "-----------------------------------------------------\r\n",
      "cc_onco1275.ann\t\t1.0\r\n",
      "-----------------------------------------------------\r\n",
      "cc_onco1276.ann\t\t1.0\r\n",
      "-----------------------------------------------------\r\n",
      "cc_onco1277.ann\t\t1.0\r\n",
      "-----------------------------------------------------\r\n",
      "cc_onco1280.ann\t\t1.0\r\n",
      "-----------------------------------------------------\r\n",
      "cc_onco1283.ann\t\t1.0\r\n",
      "-----------------------------------------------------\r\n",
      "cc_onco1286.ann\t\t1.0\r\n",
      "-----------------------------------------------------\r\n",
      "cc_onco1293.ann\t\t1.0\r\n",
      "-----------------------------------------------------\r\n",
      "cc_onco1295.ann\t\t1.0\r\n",
      "-----------------------------------------------------\r\n",
      "cc_onco1296.ann\t\t1.0\r\n",
      "-----------------------------------------------------\r\n",
      "cc_onco1304.ann\t\t1.0\r\n",
      "-----------------------------------------------------\r\n",
      "cc_onco1307.ann\t\t1.0\r\n",
      "-----------------------------------------------------\r\n",
      "cc_onco1308.ann\t\t1.0\r\n",
      "-----------------------------------------------------\r\n",
      "cc_onco1311.ann\t\t1.0\r\n",
      "-----------------------------------------------------\r\n",
      "cc_onco1312.ann\t\t1.0\r\n",
      "-----------------------------------------------------\r\n",
      "cc_onco1314.ann\t\t1.0\r\n",
      "-----------------------------------------------------\r\n",
      "cc_onco1315.ann\t\t1.0\r\n",
      "-----------------------------------------------------\r\n",
      "cc_onco1317.ann\t\t1.0\r\n",
      "-----------------------------------------------------\r\n",
      "cc_onco1318.ann\t\t1.0\r\n",
      "-----------------------------------------------------\r\n",
      "cc_onco1319.ann\t\t1.0\r\n",
      "-----------------------------------------------------\r\n",
      "cc_onco1320.ann\t\t1.0\r\n",
      "-----------------------------------------------------\r\n",
      "cc_onco1323.ann\t\t1.0\r\n",
      "-----------------------------------------------------\r\n",
      "cc_onco1324.ann\t\t1.0\r\n",
      "-----------------------------------------------------\r\n",
      "cc_onco1325.ann\t\t1.0\r\n",
      "-----------------------------------------------------\r\n",
      "cc_onco1326.ann\t\t1.0\r\n",
      "-----------------------------------------------------\r\n",
      "cc_onco1328.ann\t\t1.0\r\n",
      "-----------------------------------------------------\r\n",
      "cc_onco1329.ann\t\t1.0\r\n",
      "-----------------------------------------------------\r\n",
      "cc_onco1330.ann\t\t1.0\r\n",
      "-----------------------------------------------------\r\n",
      "cc_onco1331.ann\t\t1.0\r\n",
      "-----------------------------------------------------\r\n",
      "cc_onco1333.ann\t\t1.0\r\n",
      "-----------------------------------------------------\r\n",
      "cc_onco1336.ann\t\t1.0\r\n",
      "-----------------------------------------------------\r\n",
      "cc_onco1337.ann\t\t1.0\r\n",
      "-----------------------------------------------------\r\n",
      "cc_onco1338.ann\t\t1.0\r\n",
      "-----------------------------------------------------\r\n",
      "cc_onco1339.ann\t\t1.0\r\n",
      "-----------------------------------------------------\r\n",
      "cc_onco1340.ann\t\t1.0\r\n",
      "-----------------------------------------------------\r\n",
      "cc_onco1350.ann\t\t1.0\r\n",
      "-----------------------------------------------------\r\n",
      "cc_onco1351.ann\t\t1.0\r\n",
      "-----------------------------------------------------\r\n",
      "cc_onco1353.ann\t\t1.0\r\n",
      "-----------------------------------------------------\r\n",
      "cc_onco1354.ann\t\t1.0\r\n",
      "-----------------------------------------------------\r\n",
      "cc_onco1355.ann\t\t1.0\r\n",
      "-----------------------------------------------------\r\n",
      "cc_onco1356.ann\t\t1.0\r\n",
      "-----------------------------------------------------\r\n",
      "cc_onco1358.ann\t\t1.0\r\n",
      "-----------------------------------------------------\r\n",
      "cc_onco1359.ann\t\t1.0\r\n",
      "-----------------------------------------------------\r\n",
      "cc_onco1361.ann\t\t0.8\r\n",
      "-----------------------------------------------------\r\n",
      "cc_onco1363.ann\t\t1.0\r\n",
      "-----------------------------------------------------\r\n",
      "cc_onco1368.ann\t\t1.0\r\n",
      "-----------------------------------------------------\r\n",
      "cc_onco1371.ann\t\t1.0\r\n",
      "-----------------------------------------------------\r\n",
      "cc_onco1373.ann\t\t1.0\r\n",
      "-----------------------------------------------------\r\n",
      "cc_onco1376.ann\t\t1.0\r\n",
      "-----------------------------------------------------\r\n",
      "cc_onco1377.ann\t\t1.0\r\n",
      "-----------------------------------------------------\r\n",
      "cc_onco1382.ann\t\t1.0\r\n",
      "-----------------------------------------------------\r\n",
      "cc_onco1383.ann\t\t1.0\r\n",
      "-----------------------------------------------------\r\n",
      "cc_onco1384.ann\t\t1.0\r\n",
      "-----------------------------------------------------\r\n",
      "cc_onco1387.ann\t\t1.0\r\n",
      "-----------------------------------------------------\r\n",
      "cc_onco1388.ann\t\t1.0\r\n",
      "-----------------------------------------------------\r\n",
      "cc_onco1390.ann\t\t1.0\r\n",
      "-----------------------------------------------------\r\n",
      "cc_onco1391.ann\t\t1.0\r\n",
      "-----------------------------------------------------\r\n",
      "cc_onco1392.ann\t\t1.0\r\n",
      "-----------------------------------------------------\r\n",
      "cc_onco1393.ann\t\t1.0\r\n",
      "-----------------------------------------------------\r\n",
      "cc_onco1397.ann\t\t0.889\r\n",
      "-----------------------------------------------------\r\n",
      "cc_onco1402.ann\t\t1.0\r\n",
      "-----------------------------------------------------\r\n",
      "cc_onco1404.ann\t\t1.0\r\n",
      "-----------------------------------------------------\r\n",
      "cc_onco1405.ann\t\t1.0\r\n",
      "-----------------------------------------------------\r\n",
      "cc_onco1412.ann\t\t1.0\r\n",
      "-----------------------------------------------------\r\n",
      "cc_onco1415.ann\t\t1.0\r\n",
      "-----------------------------------------------------\r\n",
      "cc_onco1418.ann\t\t1.0\r\n",
      "-----------------------------------------------------\r\n",
      "cc_onco1419.ann\t\t1.0\r\n",
      "-----------------------------------------------------\r\n",
      "cc_onco1420.ann\t\t1.0\r\n",
      "-----------------------------------------------------\r\n",
      "cc_onco1424.ann\t\t1.0\r\n",
      "-----------------------------------------------------\r\n",
      "cc_onco1427.ann\t\t0.8\r\n",
      "-----------------------------------------------------\r\n",
      "cc_onco1428.ann\t\t1.0\r\n",
      "-----------------------------------------------------\r\n",
      "cc_onco1429.ann\t\t1.0\r\n",
      "-----------------------------------------------------\r\n",
      "cc_onco1432.ann\t\t1.0\r\n",
      "-----------------------------------------------------\r\n",
      "cc_onco1435.ann\t\t1.0\r\n",
      "-----------------------------------------------------\r\n",
      "cc_onco1437.ann\t\t1.0\r\n",
      "-----------------------------------------------------\r\n",
      "cc_onco1438.ann\t\t1.0\r\n",
      "-----------------------------------------------------\r\n",
      "cc_onco1444.ann\t\t1.0\r\n",
      "-----------------------------------------------------\r\n",
      "cc_onco1448.ann\t\t1.0\r\n",
      "-----------------------------------------------------\r\n",
      "cc_onco1449.ann\t\t1.0\r\n",
      "-----------------------------------------------------\r\n",
      "cc_onco1451.ann\t\t1.0\r\n",
      "-----------------------------------------------------\r\n",
      "cc_onco1459.ann\t\t1.0\r\n",
      "-----------------------------------------------------\r\n",
      "cc_onco1461.ann\t\t1.0\r\n",
      "-----------------------------------------------------\r\n",
      "cc_onco1462.ann\t\t1.0\r\n",
      "-----------------------------------------------------\r\n",
      "cc_onco1463.ann\t\t1.0\r\n",
      "-----------------------------------------------------\r\n",
      "cc_onco1467.ann\t\t1.0\r\n",
      "-----------------------------------------------------\r\n",
      "cc_onco1474.ann\t\t1.0\r\n",
      "-----------------------------------------------------\r\n",
      "cc_onco1475.ann\t\t1.0\r\n",
      "-----------------------------------------------------\r\n",
      "cc_onco1478.ann\t\t1.0\r\n",
      "-----------------------------------------------------\r\n",
      "cc_onco1482.ann\t\t1.0\r\n",
      "-----------------------------------------------------\r\n",
      "cc_onco1484.ann\t\t1.0\r\n",
      "-----------------------------------------------------\r\n",
      "cc_onco1487.ann\t\t1.0\r\n",
      "-----------------------------------------------------\r\n",
      "cc_onco1488.ann\t\t1.0\r\n",
      "-----------------------------------------------------\r\n",
      "cc_onco1490.ann\t\t1.0\r\n",
      "-----------------------------------------------------\r\n",
      "cc_onco1492.ann\t\t1.0\r\n",
      "-----------------------------------------------------\r\n",
      "cc_onco1494.ann\t\t1.0\r\n",
      "-----------------------------------------------------\r\n",
      "cc_onco1495.ann\t\t1.0\r\n",
      "-----------------------------------------------------\r\n",
      "cc_onco1497.ann\t\t1.0\r\n",
      "-----------------------------------------------------\r\n",
      "cc_onco1500.ann\t\t1.0\r\n",
      "-----------------------------------------------------\r\n",
      "cc_onco282.ann\t\t1.0\r\n",
      "-----------------------------------------------------\r\n",
      "cc_onco437.ann\t\t1.0\r\n",
      "-----------------------------------------------------\r\n",
      "cc_onco639.ann\t\t1.0\r\n",
      "-----------------------------------------------------\r\n",
      "cc_onco645.ann\t\t1.0\r\n",
      "-----------------------------------------------------\r\n",
      "cc_onco65.ann\t\t1.0\r\n",
      "-----------------------------------------------------\r\n",
      "cc_onco657.ann\t\t1.0\r\n",
      "-----------------------------------------------------\r\n",
      "cc_onco691.ann\t\t1.0\r\n",
      "-----------------------------------------------------\r\n",
      "cc_onco734.ann\t\t1.0\r\n",
      "-----------------------------------------------------\r\n",
      "cc_onco735.ann\t\t1.0\r\n",
      "-----------------------------------------------------\r\n",
      "cc_onco751.ann\t\t1.0\r\n",
      "-----------------------------------------------------\r\n",
      "cc_onco874.ann\t\t1.0\r\n",
      "-----------------------------------------------------\r\n",
      "cc_onco898.ann\t\t1.0\r\n",
      "-----------------------------------------------------\r\n",
      "cc_onco945.ann\t\t1.0\r\n",
      "-----------------------------------------------------\r\n",
      "cc_onco994.ann\t\t1.0\r\n",
      "-----------------------------------------------------\r\n",
      "\r\n",
      "-----------------------------------------------------\r\n",
      "Clinical case name\t\t\tRecall\r\n",
      "-----------------------------------------------------\r\n",
      "cc_onco1001.ann\t\t1.0\r\n",
      "-----------------------------------------------------\r\n",
      "cc_onco1007.ann\t\t1.0\r\n",
      "-----------------------------------------------------\r\n",
      "cc_onco1008.ann\t\t1.0\r\n",
      "-----------------------------------------------------\r\n",
      "cc_onco1009.ann\t\t1.0\r\n",
      "-----------------------------------------------------\r\n",
      "cc_onco1010.ann\t\t1.0\r\n",
      "-----------------------------------------------------\r\n",
      "cc_onco1011.ann\t\t0.923\r\n",
      "-----------------------------------------------------\r\n",
      "cc_onco1012.ann\t\t0.933\r\n",
      "-----------------------------------------------------\r\n",
      "cc_onco1014.ann\t\t1.0\r\n",
      "-----------------------------------------------------\r\n",
      "cc_onco1016.ann\t\t1.0\r\n",
      "-----------------------------------------------------\r\n",
      "cc_onco1018.ann\t\t1.0\r\n",
      "-----------------------------------------------------\r\n",
      "cc_onco1019.ann\t\t1.0\r\n",
      "-----------------------------------------------------\r\n",
      "cc_onco1020.ann\t\t1.0\r\n",
      "-----------------------------------------------------\r\n",
      "cc_onco1021.ann\t\t1.0\r\n",
      "-----------------------------------------------------\r\n",
      "cc_onco1022.ann\t\t1.0\r\n",
      "-----------------------------------------------------\r\n",
      "cc_onco1025.ann\t\t0.917\r\n",
      "-----------------------------------------------------\r\n",
      "cc_onco1028.ann\t\t1.0\r\n",
      "-----------------------------------------------------\r\n",
      "cc_onco1031.ann\t\t1.0\r\n",
      "-----------------------------------------------------\r\n",
      "cc_onco1032.ann\t\t1.0\r\n",
      "-----------------------------------------------------\r\n",
      "cc_onco1033.ann\t\t1.0\r\n",
      "-----------------------------------------------------\r\n",
      "cc_onco1034.ann\t\t1.0\r\n",
      "-----------------------------------------------------\r\n",
      "cc_onco1035.ann\t\t1.0\r\n",
      "-----------------------------------------------------\r\n",
      "cc_onco1036.ann\t\t1.0\r\n",
      "-----------------------------------------------------\r\n",
      "cc_onco1041.ann\t\t0.941\r\n",
      "-----------------------------------------------------\r\n",
      "cc_onco1042.ann\t\t1.0\r\n",
      "-----------------------------------------------------\r\n",
      "cc_onco1043.ann\t\t1.0\r\n",
      "-----------------------------------------------------\r\n",
      "cc_onco1045.ann\t\t1.0\r\n",
      "-----------------------------------------------------\r\n",
      "cc_onco1047.ann\t\t1.0\r\n",
      "-----------------------------------------------------\r\n",
      "cc_onco1048.ann\t\t1.0\r\n",
      "-----------------------------------------------------\r\n",
      "cc_onco1049.ann\t\t1.0\r\n",
      "-----------------------------------------------------\r\n",
      "cc_onco1052.ann\t\t1.0\r\n",
      "-----------------------------------------------------\r\n",
      "cc_onco1054.ann\t\t1.0\r\n",
      "-----------------------------------------------------\r\n",
      "cc_onco1055.ann\t\t0.889\r\n",
      "-----------------------------------------------------\r\n",
      "cc_onco1058.ann\t\t1.0\r\n",
      "-----------------------------------------------------\r\n",
      "cc_onco1061.ann\t\t1.0\r\n",
      "-----------------------------------------------------\r\n",
      "cc_onco1062.ann\t\t1.0\r\n",
      "-----------------------------------------------------\r\n",
      "cc_onco1063.ann\t\t1.0\r\n",
      "-----------------------------------------------------\r\n",
      "cc_onco1067.ann\t\t1.0\r\n",
      "-----------------------------------------------------\r\n",
      "cc_onco1068.ann\t\t1.0\r\n",
      "-----------------------------------------------------\r\n",
      "cc_onco1069.ann\t\t1.0\r\n",
      "-----------------------------------------------------\r\n",
      "cc_onco1070.ann\t\t1.0\r\n",
      "-----------------------------------------------------\r\n",
      "cc_onco1071.ann\t\t1.0\r\n",
      "-----------------------------------------------------\r\n",
      "cc_onco1072.ann\t\t1.0\r\n",
      "-----------------------------------------------------\r\n",
      "cc_onco1073.ann\t\t1.0\r\n",
      "-----------------------------------------------------\r\n",
      "cc_onco1074.ann\t\t1.0\r\n",
      "-----------------------------------------------------\r\n",
      "cc_onco1076.ann\t\t1.0\r\n",
      "-----------------------------------------------------\r\n",
      "cc_onco1077.ann\t\t0.963\r\n",
      "-----------------------------------------------------\r\n",
      "cc_onco1079.ann\t\t1.0\r\n",
      "-----------------------------------------------------\r\n",
      "cc_onco1088.ann\t\t1.0\r\n",
      "-----------------------------------------------------\r\n",
      "cc_onco1089.ann\t\t1.0\r\n",
      "-----------------------------------------------------\r\n",
      "cc_onco1090.ann\t\t1.0\r\n",
      "-----------------------------------------------------\r\n",
      "cc_onco1091.ann\t\t1.0\r\n",
      "-----------------------------------------------------\r\n",
      "cc_onco1093.ann\t\t1.0\r\n",
      "-----------------------------------------------------\r\n",
      "cc_onco1094.ann\t\t1.0\r\n",
      "-----------------------------------------------------\r\n",
      "cc_onco1097.ann\t\t1.0\r\n",
      "-----------------------------------------------------\r\n",
      "cc_onco1098.ann\t\t1.0\r\n",
      "-----------------------------------------------------\r\n",
      "cc_onco1101.ann\t\t0.955\r\n",
      "-----------------------------------------------------\r\n",
      "cc_onco1102.ann\t\t1.0\r\n",
      "-----------------------------------------------------\r\n",
      "cc_onco1104.ann\t\t1.0\r\n",
      "-----------------------------------------------------\r\n",
      "cc_onco1111.ann\t\t1.0\r\n",
      "-----------------------------------------------------\r\n",
      "cc_onco1115.ann\t\t1.0\r\n",
      "-----------------------------------------------------\r\n",
      "cc_onco1117.ann\t\t1.0\r\n",
      "-----------------------------------------------------\r\n",
      "cc_onco1118.ann\t\t1.0\r\n",
      "-----------------------------------------------------\r\n",
      "cc_onco1121.ann\t\t1.0\r\n",
      "-----------------------------------------------------\r\n",
      "cc_onco1123.ann\t\t0.929\r\n",
      "-----------------------------------------------------\r\n",
      "cc_onco1124.ann\t\t1.0\r\n",
      "-----------------------------------------------------\r\n",
      "cc_onco1127.ann\t\t1.0\r\n",
      "-----------------------------------------------------\r\n",
      "cc_onco1130.ann\t\t1.0\r\n",
      "-----------------------------------------------------\r\n",
      "cc_onco1131.ann\t\t1.0\r\n",
      "-----------------------------------------------------\r\n",
      "cc_onco1132.ann\t\t0.833\r\n",
      "-----------------------------------------------------\r\n",
      "cc_onco1133.ann\t\t1.0\r\n",
      "-----------------------------------------------------\r\n",
      "cc_onco1137.ann\t\t1.0\r\n",
      "-----------------------------------------------------\r\n",
      "cc_onco1138.ann\t\t1.0\r\n",
      "-----------------------------------------------------\r\n",
      "cc_onco1141.ann\t\t0.941\r\n",
      "-----------------------------------------------------\r\n",
      "cc_onco1142.ann\t\t1.0\r\n",
      "-----------------------------------------------------\r\n",
      "cc_onco1143.ann\t\t1.0\r\n",
      "-----------------------------------------------------\r\n",
      "cc_onco1145.ann\t\t1.0\r\n",
      "-----------------------------------------------------\r\n",
      "cc_onco1147.ann\t\t1.0\r\n",
      "-----------------------------------------------------\r\n",
      "cc_onco1150.ann\t\t1.0\r\n",
      "-----------------------------------------------------\r\n",
      "cc_onco1151.ann\t\t1.0\r\n",
      "-----------------------------------------------------\r\n",
      "cc_onco1152.ann\t\t1.0\r\n",
      "-----------------------------------------------------\r\n",
      "cc_onco1154.ann\t\t1.0\r\n",
      "-----------------------------------------------------\r\n",
      "cc_onco1159.ann\t\t1.0\r\n",
      "-----------------------------------------------------\r\n",
      "cc_onco1163.ann\t\t1.0\r\n",
      "-----------------------------------------------------\r\n",
      "cc_onco1164.ann\t\t1.0\r\n",
      "-----------------------------------------------------\r\n",
      "cc_onco1166.ann\t\t0.917\r\n",
      "-----------------------------------------------------\r\n",
      "cc_onco1168.ann\t\t1.0\r\n",
      "-----------------------------------------------------\r\n",
      "cc_onco1170.ann\t\t1.0\r\n",
      "-----------------------------------------------------\r\n",
      "cc_onco1171.ann\t\t1.0\r\n",
      "-----------------------------------------------------\r\n",
      "cc_onco1172.ann\t\t1.0\r\n",
      "-----------------------------------------------------\r\n",
      "cc_onco1173.ann\t\t0.9\r\n",
      "-----------------------------------------------------\r\n",
      "cc_onco1175.ann\t\t1.0\r\n",
      "-----------------------------------------------------\r\n",
      "cc_onco1177.ann\t\t1.0\r\n",
      "-----------------------------------------------------\r\n",
      "cc_onco1179.ann\t\t0.941\r\n",
      "-----------------------------------------------------\r\n",
      "cc_onco1181.ann\t\t0.933\r\n",
      "-----------------------------------------------------\r\n",
      "cc_onco1183.ann\t\t1.0\r\n",
      "-----------------------------------------------------\r\n",
      "cc_onco1184.ann\t\t1.0\r\n",
      "-----------------------------------------------------\r\n",
      "cc_onco1186.ann\t\t1.0\r\n",
      "-----------------------------------------------------\r\n",
      "cc_onco1187.ann\t\t1.0\r\n",
      "-----------------------------------------------------\r\n",
      "cc_onco1188.ann\t\t0.857\r\n",
      "-----------------------------------------------------\r\n",
      "cc_onco1189.ann\t\t1.0\r\n",
      "-----------------------------------------------------\r\n",
      "cc_onco1194.ann\t\t1.0\r\n",
      "-----------------------------------------------------\r\n",
      "cc_onco1198.ann\t\t1.0\r\n",
      "-----------------------------------------------------\r\n",
      "cc_onco1199.ann\t\t1.0\r\n",
      "-----------------------------------------------------\r\n",
      "cc_onco1201.ann\t\t0.846\r\n",
      "-----------------------------------------------------\r\n",
      "cc_onco1203.ann\t\t1.0\r\n",
      "-----------------------------------------------------\r\n",
      "cc_onco1208.ann\t\t1.0\r\n",
      "-----------------------------------------------------\r\n",
      "cc_onco1211.ann\t\t1.0\r\n",
      "-----------------------------------------------------\r\n",
      "cc_onco1215.ann\t\t1.0\r\n",
      "-----------------------------------------------------\r\n",
      "cc_onco1217.ann\t\t1.0\r\n",
      "-----------------------------------------------------\r\n",
      "cc_onco1218.ann\t\t0.857\r\n",
      "-----------------------------------------------------\r\n",
      "cc_onco1221.ann\t\t1.0\r\n",
      "-----------------------------------------------------\r\n",
      "cc_onco1222.ann\t\t0.667\r\n",
      "-----------------------------------------------------\r\n",
      "cc_onco1225.ann\t\t1.0\r\n",
      "-----------------------------------------------------\r\n",
      "cc_onco1226.ann\t\t1.0\r\n",
      "-----------------------------------------------------\r\n",
      "cc_onco1227.ann\t\t1.0\r\n",
      "-----------------------------------------------------\r\n",
      "cc_onco1228.ann\t\t1.0\r\n",
      "-----------------------------------------------------\r\n",
      "cc_onco1229.ann\t\t0.923\r\n",
      "-----------------------------------------------------\r\n",
      "cc_onco1230.ann\t\t1.0\r\n",
      "-----------------------------------------------------\r\n",
      "cc_onco1232.ann\t\t1.0\r\n",
      "-----------------------------------------------------\r\n",
      "cc_onco1234.ann\t\t1.0\r\n",
      "-----------------------------------------------------\r\n",
      "cc_onco1235.ann\t\t1.0\r\n",
      "-----------------------------------------------------\r\n",
      "cc_onco1236.ann\t\t1.0\r\n",
      "-----------------------------------------------------\r\n",
      "cc_onco1237.ann\t\t1.0\r\n",
      "-----------------------------------------------------\r\n",
      "cc_onco1239.ann\t\t1.0\r\n",
      "-----------------------------------------------------\r\n",
      "cc_onco1241.ann\t\t1.0\r\n",
      "-----------------------------------------------------\r\n",
      "cc_onco1245.ann\t\t1.0\r\n",
      "-----------------------------------------------------\r\n",
      "cc_onco1253.ann\t\t1.0\r\n",
      "-----------------------------------------------------\r\n",
      "cc_onco1254.ann\t\t0.786\r\n",
      "-----------------------------------------------------\r\n",
      "cc_onco1255.ann\t\t1.0\r\n",
      "-----------------------------------------------------\r\n",
      "cc_onco1256.ann\t\t1.0\r\n",
      "-----------------------------------------------------\r\n",
      "cc_onco1257.ann\t\t1.0\r\n",
      "-----------------------------------------------------\r\n",
      "cc_onco1258.ann\t\t0.857\r\n",
      "-----------------------------------------------------\r\n",
      "cc_onco1260.ann\t\t1.0\r\n",
      "-----------------------------------------------------\r\n",
      "cc_onco1262.ann\t\t1.0\r\n",
      "-----------------------------------------------------\r\n",
      "cc_onco1264.ann\t\t1.0\r\n",
      "-----------------------------------------------------\r\n",
      "cc_onco1267.ann\t\t1.0\r\n",
      "-----------------------------------------------------\r\n",
      "cc_onco1271.ann\t\t1.0\r\n",
      "-----------------------------------------------------\r\n",
      "cc_onco1272.ann\t\t1.0\r\n",
      "-----------------------------------------------------\r\n",
      "cc_onco1273.ann\t\t1.0\r\n",
      "-----------------------------------------------------\r\n",
      "cc_onco1275.ann\t\t1.0\r\n",
      "-----------------------------------------------------\r\n",
      "cc_onco1276.ann\t\t1.0\r\n",
      "-----------------------------------------------------\r\n",
      "cc_onco1277.ann\t\t1.0\r\n",
      "-----------------------------------------------------\r\n",
      "cc_onco1280.ann\t\t1.0\r\n",
      "-----------------------------------------------------\r\n",
      "cc_onco1283.ann\t\t0.947\r\n",
      "-----------------------------------------------------\r\n",
      "cc_onco1286.ann\t\t1.0\r\n",
      "-----------------------------------------------------\r\n",
      "cc_onco1293.ann\t\t1.0\r\n",
      "-----------------------------------------------------\r\n",
      "cc_onco1295.ann\t\t1.0\r\n",
      "-----------------------------------------------------\r\n",
      "cc_onco1296.ann\t\t0.941\r\n",
      "-----------------------------------------------------\r\n",
      "cc_onco1304.ann\t\t1.0\r\n",
      "-----------------------------------------------------\r\n",
      "cc_onco1307.ann\t\t1.0\r\n",
      "-----------------------------------------------------\r\n",
      "cc_onco1308.ann\t\t1.0\r\n",
      "-----------------------------------------------------\r\n",
      "cc_onco1311.ann\t\t0.909\r\n",
      "-----------------------------------------------------\r\n",
      "cc_onco1312.ann\t\t1.0\r\n",
      "-----------------------------------------------------\r\n",
      "cc_onco1314.ann\t\t1.0\r\n",
      "-----------------------------------------------------\r\n",
      "cc_onco1315.ann\t\t1.0\r\n",
      "-----------------------------------------------------\r\n",
      "cc_onco1317.ann\t\t1.0\r\n",
      "-----------------------------------------------------\r\n",
      "cc_onco1318.ann\t\t1.0\r\n",
      "-----------------------------------------------------\r\n",
      "cc_onco1319.ann\t\t1.0\r\n",
      "-----------------------------------------------------\r\n",
      "cc_onco1320.ann\t\t1.0\r\n",
      "-----------------------------------------------------\r\n",
      "cc_onco1323.ann\t\t1.0\r\n",
      "-----------------------------------------------------\r\n",
      "cc_onco1324.ann\t\t1.0\r\n",
      "-----------------------------------------------------\r\n",
      "cc_onco1325.ann\t\t0.917\r\n",
      "-----------------------------------------------------\r\n",
      "cc_onco1326.ann\t\t1.0\r\n",
      "-----------------------------------------------------\r\n",
      "cc_onco1328.ann\t\t1.0\r\n",
      "-----------------------------------------------------\r\n",
      "cc_onco1329.ann\t\t1.0\r\n",
      "-----------------------------------------------------\r\n",
      "cc_onco1330.ann\t\t1.0\r\n",
      "-----------------------------------------------------\r\n",
      "cc_onco1331.ann\t\t0.875\r\n",
      "-----------------------------------------------------\r\n",
      "cc_onco1333.ann\t\t1.0\r\n",
      "-----------------------------------------------------\r\n",
      "cc_onco1336.ann\t\t1.0\r\n",
      "-----------------------------------------------------\r\n",
      "cc_onco1337.ann\t\t1.0\r\n",
      "-----------------------------------------------------\r\n",
      "cc_onco1338.ann\t\t1.0\r\n",
      "-----------------------------------------------------\r\n",
      "cc_onco1339.ann\t\t1.0\r\n",
      "-----------------------------------------------------\r\n",
      "cc_onco1340.ann\t\t1.0\r\n",
      "-----------------------------------------------------\r\n",
      "cc_onco1350.ann\t\t1.0\r\n",
      "-----------------------------------------------------\r\n",
      "cc_onco1351.ann\t\t1.0\r\n",
      "-----------------------------------------------------\r\n",
      "cc_onco1353.ann\t\t1.0\r\n",
      "-----------------------------------------------------\r\n",
      "cc_onco1354.ann\t\t0.938\r\n",
      "-----------------------------------------------------\r\n",
      "cc_onco1355.ann\t\t1.0\r\n",
      "-----------------------------------------------------\r\n",
      "cc_onco1356.ann\t\t1.0\r\n",
      "-----------------------------------------------------\r\n",
      "cc_onco1358.ann\t\t0.9\r\n",
      "-----------------------------------------------------\r\n",
      "cc_onco1359.ann\t\t1.0\r\n",
      "-----------------------------------------------------\r\n",
      "cc_onco1361.ann\t\t0.8\r\n",
      "-----------------------------------------------------\r\n",
      "cc_onco1363.ann\t\t1.0\r\n",
      "-----------------------------------------------------\r\n",
      "cc_onco1368.ann\t\t0.917\r\n",
      "-----------------------------------------------------\r\n",
      "cc_onco1371.ann\t\t1.0\r\n",
      "-----------------------------------------------------\r\n",
      "cc_onco1373.ann\t\t1.0\r\n",
      "-----------------------------------------------------\r\n",
      "cc_onco1376.ann\t\t1.0\r\n",
      "-----------------------------------------------------\r\n",
      "cc_onco1377.ann\t\t1.0\r\n",
      "-----------------------------------------------------\r\n",
      "cc_onco1382.ann\t\t1.0\r\n",
      "-----------------------------------------------------\r\n",
      "cc_onco1383.ann\t\t1.0\r\n",
      "-----------------------------------------------------\r\n",
      "cc_onco1384.ann\t\t1.0\r\n",
      "-----------------------------------------------------\r\n",
      "cc_onco1387.ann\t\t1.0\r\n",
      "-----------------------------------------------------\r\n",
      "cc_onco1388.ann\t\t0.667\r\n",
      "-----------------------------------------------------\r\n",
      "cc_onco1390.ann\t\t1.0\r\n",
      "-----------------------------------------------------\r\n",
      "cc_onco1391.ann\t\t1.0\r\n",
      "-----------------------------------------------------\r\n",
      "cc_onco1392.ann\t\t1.0\r\n",
      "-----------------------------------------------------\r\n",
      "cc_onco1393.ann\t\t1.0\r\n",
      "-----------------------------------------------------\r\n",
      "cc_onco1397.ann\t\t0.889\r\n",
      "-----------------------------------------------------\r\n",
      "cc_onco1402.ann\t\t1.0\r\n",
      "-----------------------------------------------------\r\n",
      "cc_onco1404.ann\t\t1.0\r\n",
      "-----------------------------------------------------\r\n",
      "cc_onco1405.ann\t\t1.0\r\n",
      "-----------------------------------------------------\r\n",
      "cc_onco1412.ann\t\t1.0\r\n",
      "-----------------------------------------------------\r\n",
      "cc_onco1415.ann\t\t1.0\r\n",
      "-----------------------------------------------------\r\n",
      "cc_onco1418.ann\t\t1.0\r\n",
      "-----------------------------------------------------\r\n",
      "cc_onco1419.ann\t\t0.917\r\n",
      "-----------------------------------------------------\r\n",
      "cc_onco1420.ann\t\t1.0\r\n",
      "-----------------------------------------------------\r\n",
      "cc_onco1424.ann\t\t1.0\r\n",
      "-----------------------------------------------------\r\n",
      "cc_onco1427.ann\t\t0.8\r\n",
      "-----------------------------------------------------\r\n",
      "cc_onco1428.ann\t\t1.0\r\n",
      "-----------------------------------------------------\r\n",
      "cc_onco1429.ann\t\t1.0\r\n",
      "-----------------------------------------------------\r\n",
      "cc_onco1432.ann\t\t0.933\r\n",
      "-----------------------------------------------------\r\n",
      "cc_onco1435.ann\t\t1.0\r\n",
      "-----------------------------------------------------\r\n",
      "cc_onco1437.ann\t\t1.0\r\n",
      "-----------------------------------------------------\r\n",
      "cc_onco1438.ann\t\t1.0\r\n",
      "-----------------------------------------------------\r\n",
      "cc_onco1444.ann\t\t1.0\r\n",
      "-----------------------------------------------------\r\n",
      "cc_onco1448.ann\t\t1.0\r\n",
      "-----------------------------------------------------\r\n",
      "cc_onco1449.ann\t\t1.0\r\n",
      "-----------------------------------------------------\r\n",
      "cc_onco1451.ann\t\t1.0\r\n",
      "-----------------------------------------------------\r\n",
      "cc_onco1459.ann\t\t1.0\r\n",
      "-----------------------------------------------------\r\n",
      "cc_onco1461.ann\t\t1.0\r\n",
      "-----------------------------------------------------\r\n",
      "cc_onco1462.ann\t\t1.0\r\n",
      "-----------------------------------------------------\r\n",
      "cc_onco1463.ann\t\t1.0\r\n",
      "-----------------------------------------------------\r\n",
      "cc_onco1467.ann\t\t1.0\r\n",
      "-----------------------------------------------------\r\n",
      "cc_onco1474.ann\t\t1.0\r\n",
      "-----------------------------------------------------\r\n",
      "cc_onco1475.ann\t\t0.5\r\n",
      "-----------------------------------------------------\r\n",
      "cc_onco1478.ann\t\t1.0\r\n",
      "-----------------------------------------------------\r\n",
      "cc_onco1482.ann\t\t1.0\r\n",
      "-----------------------------------------------------\r\n",
      "cc_onco1484.ann\t\t1.0\r\n",
      "-----------------------------------------------------\r\n",
      "cc_onco1487.ann\t\t1.0\r\n",
      "-----------------------------------------------------\r\n",
      "cc_onco1488.ann\t\t1.0\r\n",
      "-----------------------------------------------------\r\n",
      "cc_onco1490.ann\t\t1.0\r\n",
      "-----------------------------------------------------\r\n",
      "cc_onco1492.ann\t\t1.0\r\n",
      "-----------------------------------------------------\r\n",
      "cc_onco1494.ann\t\t0.97\r\n",
      "-----------------------------------------------------\r\n",
      "cc_onco1495.ann\t\t1.0\r\n",
      "-----------------------------------------------------\r\n",
      "cc_onco1497.ann\t\t1.0\r\n",
      "-----------------------------------------------------\r\n",
      "cc_onco1500.ann\t\t1.0\r\n",
      "-----------------------------------------------------\r\n",
      "cc_onco282.ann\t\t1.0\r\n",
      "-----------------------------------------------------\r\n",
      "cc_onco437.ann\t\t1.0\r\n",
      "-----------------------------------------------------\r\n",
      "cc_onco639.ann\t\t1.0\r\n",
      "-----------------------------------------------------\r\n",
      "cc_onco645.ann\t\t1.0\r\n",
      "-----------------------------------------------------\r\n",
      "cc_onco65.ann\t\t1.0\r\n",
      "-----------------------------------------------------\r\n",
      "cc_onco657.ann\t\t1.0\r\n",
      "-----------------------------------------------------\r\n",
      "cc_onco691.ann\t\t1.0\r\n",
      "-----------------------------------------------------\r\n",
      "cc_onco734.ann\t\t1.0\r\n",
      "-----------------------------------------------------\r\n",
      "cc_onco735.ann\t\t1.0\r\n",
      "-----------------------------------------------------\r\n",
      "cc_onco751.ann\t\t1.0\r\n",
      "-----------------------------------------------------\r\n",
      "cc_onco874.ann\t\t1.0\r\n",
      "-----------------------------------------------------\r\n",
      "cc_onco898.ann\t\t1.0\r\n",
      "-----------------------------------------------------\r\n",
      "cc_onco945.ann\t\t1.0\r\n",
      "-----------------------------------------------------\r\n",
      "cc_onco994.ann\t\t1.0\r\n",
      "-----------------------------------------------------\r\n",
      "\r\n",
      "-----------------------------------------------------\r\n",
      "Clinical case name\t\t\tF-score\r\n",
      "-----------------------------------------------------\r\n",
      "cc_onco1001.ann\t\t1.0\r\n",
      "-----------------------------------------------------\r\n",
      "cc_onco1007.ann\t\t1.0\r\n",
      "-----------------------------------------------------\r\n",
      "cc_onco1008.ann\t\t1.0\r\n",
      "-----------------------------------------------------\r\n",
      "cc_onco1009.ann\t\t1.0\r\n",
      "-----------------------------------------------------\r\n",
      "cc_onco1010.ann\t\t1.0\r\n",
      "-----------------------------------------------------\r\n",
      "cc_onco1011.ann\t\t0.96\r\n",
      "-----------------------------------------------------\r\n",
      "cc_onco1012.ann\t\t0.966\r\n",
      "-----------------------------------------------------\r\n",
      "cc_onco1014.ann\t\t1.0\r\n",
      "-----------------------------------------------------\r\n",
      "cc_onco1016.ann\t\t1.0\r\n",
      "-----------------------------------------------------\r\n",
      "cc_onco1018.ann\t\t1.0\r\n",
      "-----------------------------------------------------\r\n",
      "cc_onco1019.ann\t\t1.0\r\n",
      "-----------------------------------------------------\r\n",
      "cc_onco1020.ann\t\t1.0\r\n",
      "-----------------------------------------------------\r\n",
      "cc_onco1021.ann\t\t1.0\r\n",
      "-----------------------------------------------------\r\n",
      "cc_onco1022.ann\t\t1.0\r\n",
      "-----------------------------------------------------\r\n",
      "cc_onco1025.ann\t\t0.957\r\n",
      "-----------------------------------------------------\r\n",
      "cc_onco1028.ann\t\t1.0\r\n",
      "-----------------------------------------------------\r\n",
      "cc_onco1031.ann\t\t1.0\r\n",
      "-----------------------------------------------------\r\n",
      "cc_onco1032.ann\t\t1.0\r\n",
      "-----------------------------------------------------\r\n",
      "cc_onco1033.ann\t\t1.0\r\n",
      "-----------------------------------------------------\r\n",
      "cc_onco1034.ann\t\t1.0\r\n",
      "-----------------------------------------------------\r\n",
      "cc_onco1035.ann\t\t1.0\r\n",
      "-----------------------------------------------------\r\n",
      "cc_onco1036.ann\t\t1.0\r\n",
      "-----------------------------------------------------\r\n",
      "cc_onco1041.ann\t\t0.97\r\n",
      "-----------------------------------------------------\r\n",
      "cc_onco1042.ann\t\t1.0\r\n",
      "-----------------------------------------------------\r\n",
      "cc_onco1043.ann\t\t1.0\r\n",
      "-----------------------------------------------------\r\n",
      "cc_onco1045.ann\t\t1.0\r\n",
      "-----------------------------------------------------\r\n",
      "cc_onco1047.ann\t\t1.0\r\n",
      "-----------------------------------------------------\r\n",
      "cc_onco1048.ann\t\t1.0\r\n",
      "-----------------------------------------------------\r\n",
      "cc_onco1049.ann\t\t1.0\r\n",
      "-----------------------------------------------------\r\n",
      "cc_onco1052.ann\t\t1.0\r\n",
      "-----------------------------------------------------\r\n",
      "cc_onco1054.ann\t\t1.0\r\n",
      "-----------------------------------------------------\r\n",
      "cc_onco1055.ann\t\t0.941\r\n",
      "-----------------------------------------------------\r\n",
      "cc_onco1058.ann\t\t1.0\r\n",
      "-----------------------------------------------------\r\n",
      "cc_onco1061.ann\t\t1.0\r\n",
      "-----------------------------------------------------\r\n",
      "cc_onco1062.ann\t\t1.0\r\n",
      "-----------------------------------------------------\r\n",
      "cc_onco1063.ann\t\t1.0\r\n",
      "-----------------------------------------------------\r\n",
      "cc_onco1067.ann\t\t1.0\r\n",
      "-----------------------------------------------------\r\n",
      "cc_onco1068.ann\t\t1.0\r\n",
      "-----------------------------------------------------\r\n",
      "cc_onco1069.ann\t\t1.0\r\n",
      "-----------------------------------------------------\r\n",
      "cc_onco1070.ann\t\t1.0\r\n",
      "-----------------------------------------------------\r\n",
      "cc_onco1071.ann\t\t1.0\r\n",
      "-----------------------------------------------------\r\n",
      "cc_onco1072.ann\t\t1.0\r\n",
      "-----------------------------------------------------\r\n",
      "cc_onco1073.ann\t\t1.0\r\n",
      "-----------------------------------------------------\r\n",
      "cc_onco1074.ann\t\t1.0\r\n",
      "-----------------------------------------------------\r\n",
      "cc_onco1076.ann\t\t1.0\r\n",
      "-----------------------------------------------------\r\n",
      "cc_onco1077.ann\t\t0.981\r\n",
      "-----------------------------------------------------\r\n",
      "cc_onco1079.ann\t\t1.0\r\n",
      "-----------------------------------------------------\r\n",
      "cc_onco1088.ann\t\t1.0\r\n",
      "-----------------------------------------------------\r\n",
      "cc_onco1089.ann\t\t1.0\r\n",
      "-----------------------------------------------------\r\n",
      "cc_onco1090.ann\t\t1.0\r\n",
      "-----------------------------------------------------\r\n",
      "cc_onco1091.ann\t\t1.0\r\n",
      "-----------------------------------------------------\r\n",
      "cc_onco1093.ann\t\t1.0\r\n",
      "-----------------------------------------------------\r\n",
      "cc_onco1094.ann\t\t1.0\r\n",
      "-----------------------------------------------------\r\n",
      "cc_onco1097.ann\t\t1.0\r\n",
      "-----------------------------------------------------\r\n",
      "cc_onco1098.ann\t\t1.0\r\n",
      "-----------------------------------------------------\r\n",
      "cc_onco1101.ann\t\t0.977\r\n",
      "-----------------------------------------------------\r\n",
      "cc_onco1102.ann\t\t1.0\r\n",
      "-----------------------------------------------------\r\n",
      "cc_onco1104.ann\t\t1.0\r\n",
      "-----------------------------------------------------\r\n",
      "cc_onco1111.ann\t\t1.0\r\n",
      "-----------------------------------------------------\r\n",
      "cc_onco1115.ann\t\t1.0\r\n",
      "-----------------------------------------------------\r\n",
      "cc_onco1117.ann\t\t1.0\r\n",
      "-----------------------------------------------------\r\n",
      "cc_onco1118.ann\t\t1.0\r\n",
      "-----------------------------------------------------\r\n",
      "cc_onco1121.ann\t\t1.0\r\n",
      "-----------------------------------------------------\r\n",
      "cc_onco1123.ann\t\t0.963\r\n",
      "-----------------------------------------------------\r\n",
      "cc_onco1124.ann\t\t1.0\r\n",
      "-----------------------------------------------------\r\n",
      "cc_onco1127.ann\t\t1.0\r\n",
      "-----------------------------------------------------\r\n",
      "cc_onco1130.ann\t\t1.0\r\n",
      "-----------------------------------------------------\r\n",
      "cc_onco1131.ann\t\t1.0\r\n",
      "-----------------------------------------------------\r\n",
      "cc_onco1132.ann\t\t0.909\r\n",
      "-----------------------------------------------------\r\n",
      "cc_onco1133.ann\t\t1.0\r\n",
      "-----------------------------------------------------\r\n",
      "cc_onco1137.ann\t\t1.0\r\n",
      "-----------------------------------------------------\r\n",
      "cc_onco1138.ann\t\t1.0\r\n",
      "-----------------------------------------------------\r\n",
      "cc_onco1141.ann\t\t0.97\r\n",
      "-----------------------------------------------------\r\n",
      "cc_onco1142.ann\t\t1.0\r\n",
      "-----------------------------------------------------\r\n",
      "cc_onco1143.ann\t\t1.0\r\n",
      "-----------------------------------------------------\r\n",
      "cc_onco1145.ann\t\t1.0\r\n",
      "-----------------------------------------------------\r\n",
      "cc_onco1147.ann\t\t1.0\r\n",
      "-----------------------------------------------------\r\n",
      "cc_onco1150.ann\t\t1.0\r\n",
      "-----------------------------------------------------\r\n",
      "cc_onco1151.ann\t\t1.0\r\n",
      "-----------------------------------------------------\r\n",
      "cc_onco1152.ann\t\t1.0\r\n",
      "-----------------------------------------------------\r\n",
      "cc_onco1154.ann\t\t1.0\r\n",
      "-----------------------------------------------------\r\n",
      "cc_onco1159.ann\t\t1.0\r\n",
      "-----------------------------------------------------\r\n",
      "cc_onco1163.ann\t\t1.0\r\n",
      "-----------------------------------------------------\r\n",
      "cc_onco1164.ann\t\t1.0\r\n",
      "-----------------------------------------------------\r\n",
      "cc_onco1166.ann\t\t0.957\r\n",
      "-----------------------------------------------------\r\n",
      "cc_onco1168.ann\t\t1.0\r\n",
      "-----------------------------------------------------\r\n",
      "cc_onco1170.ann\t\t1.0\r\n",
      "-----------------------------------------------------\r\n",
      "cc_onco1171.ann\t\t1.0\r\n",
      "-----------------------------------------------------\r\n",
      "cc_onco1172.ann\t\t1.0\r\n",
      "-----------------------------------------------------\r\n",
      "cc_onco1173.ann\t\t0.947\r\n",
      "-----------------------------------------------------\r\n",
      "cc_onco1175.ann\t\t1.0\r\n",
      "-----------------------------------------------------\r\n",
      "cc_onco1177.ann\t\t1.0\r\n",
      "-----------------------------------------------------\r\n",
      "cc_onco1179.ann\t\t0.97\r\n",
      "-----------------------------------------------------\r\n",
      "cc_onco1181.ann\t\t0.933\r\n",
      "-----------------------------------------------------\r\n",
      "cc_onco1183.ann\t\t1.0\r\n",
      "-----------------------------------------------------\r\n",
      "cc_onco1184.ann\t\t1.0\r\n",
      "-----------------------------------------------------\r\n",
      "cc_onco1186.ann\t\t1.0\r\n",
      "-----------------------------------------------------\r\n",
      "cc_onco1187.ann\t\t1.0\r\n",
      "-----------------------------------------------------\r\n",
      "cc_onco1188.ann\t\t0.923\r\n",
      "-----------------------------------------------------\r\n",
      "cc_onco1189.ann\t\t1.0\r\n",
      "-----------------------------------------------------\r\n",
      "cc_onco1194.ann\t\t1.0\r\n",
      "-----------------------------------------------------\r\n",
      "cc_onco1198.ann\t\t1.0\r\n",
      "-----------------------------------------------------\r\n",
      "cc_onco1199.ann\t\t1.0\r\n",
      "-----------------------------------------------------\r\n",
      "cc_onco1201.ann\t\t0.917\r\n",
      "-----------------------------------------------------\r\n",
      "cc_onco1203.ann\t\t1.0\r\n",
      "-----------------------------------------------------\r\n",
      "cc_onco1208.ann\t\t1.0\r\n",
      "-----------------------------------------------------\r\n",
      "cc_onco1211.ann\t\t1.0\r\n",
      "-----------------------------------------------------\r\n",
      "cc_onco1215.ann\t\t1.0\r\n",
      "-----------------------------------------------------\r\n",
      "cc_onco1217.ann\t\t1.0\r\n",
      "-----------------------------------------------------\r\n",
      "cc_onco1218.ann\t\t0.923\r\n",
      "-----------------------------------------------------\r\n",
      "cc_onco1221.ann\t\t1.0\r\n",
      "-----------------------------------------------------\r\n",
      "cc_onco1222.ann\t\t0.8\r\n",
      "-----------------------------------------------------\r\n",
      "cc_onco1225.ann\t\t1.0\r\n",
      "-----------------------------------------------------\r\n",
      "cc_onco1226.ann\t\t1.0\r\n",
      "-----------------------------------------------------\r\n",
      "cc_onco1227.ann\t\t1.0\r\n",
      "-----------------------------------------------------\r\n",
      "cc_onco1228.ann\t\t1.0\r\n",
      "-----------------------------------------------------\r\n",
      "cc_onco1229.ann\t\t0.923\r\n",
      "-----------------------------------------------------\r\n",
      "cc_onco1230.ann\t\t1.0\r\n",
      "-----------------------------------------------------\r\n",
      "cc_onco1232.ann\t\t1.0\r\n",
      "-----------------------------------------------------\r\n",
      "cc_onco1234.ann\t\t1.0\r\n",
      "-----------------------------------------------------\r\n",
      "cc_onco1235.ann\t\t1.0\r\n",
      "-----------------------------------------------------\r\n",
      "cc_onco1236.ann\t\t1.0\r\n",
      "-----------------------------------------------------\r\n",
      "cc_onco1237.ann\t\t1.0\r\n",
      "-----------------------------------------------------\r\n",
      "cc_onco1239.ann\t\t1.0\r\n",
      "-----------------------------------------------------\r\n",
      "cc_onco1241.ann\t\t1.0\r\n",
      "-----------------------------------------------------\r\n",
      "cc_onco1245.ann\t\t1.0\r\n",
      "-----------------------------------------------------\r\n",
      "cc_onco1253.ann\t\t1.0\r\n",
      "-----------------------------------------------------\r\n",
      "cc_onco1254.ann\t\t0.846\r\n",
      "-----------------------------------------------------\r\n",
      "cc_onco1255.ann\t\t1.0\r\n",
      "-----------------------------------------------------\r\n",
      "cc_onco1256.ann\t\t1.0\r\n",
      "-----------------------------------------------------\r\n",
      "cc_onco1257.ann\t\t1.0\r\n",
      "-----------------------------------------------------\r\n",
      "cc_onco1258.ann\t\t0.889\r\n",
      "-----------------------------------------------------\r\n",
      "cc_onco1260.ann\t\t1.0\r\n",
      "-----------------------------------------------------\r\n",
      "cc_onco1262.ann\t\t1.0\r\n",
      "-----------------------------------------------------\r\n",
      "cc_onco1264.ann\t\t1.0\r\n",
      "-----------------------------------------------------\r\n",
      "cc_onco1267.ann\t\t1.0\r\n",
      "-----------------------------------------------------\r\n",
      "cc_onco1271.ann\t\t1.0\r\n",
      "-----------------------------------------------------\r\n",
      "cc_onco1272.ann\t\t1.0\r\n",
      "-----------------------------------------------------\r\n",
      "cc_onco1273.ann\t\t1.0\r\n",
      "-----------------------------------------------------\r\n",
      "cc_onco1275.ann\t\t1.0\r\n",
      "-----------------------------------------------------\r\n",
      "cc_onco1276.ann\t\t1.0\r\n",
      "-----------------------------------------------------\r\n",
      "cc_onco1277.ann\t\t1.0\r\n",
      "-----------------------------------------------------\r\n",
      "cc_onco1280.ann\t\t1.0\r\n",
      "-----------------------------------------------------\r\n",
      "cc_onco1283.ann\t\t0.973\r\n",
      "-----------------------------------------------------\r\n",
      "cc_onco1286.ann\t\t1.0\r\n",
      "-----------------------------------------------------\r\n",
      "cc_onco1293.ann\t\t1.0\r\n",
      "-----------------------------------------------------\r\n",
      "cc_onco1295.ann\t\t1.0\r\n",
      "-----------------------------------------------------\r\n",
      "cc_onco1296.ann\t\t0.97\r\n",
      "-----------------------------------------------------\r\n",
      "cc_onco1304.ann\t\t1.0\r\n",
      "-----------------------------------------------------\r\n",
      "cc_onco1307.ann\t\t1.0\r\n",
      "-----------------------------------------------------\r\n",
      "cc_onco1308.ann\t\t1.0\r\n",
      "-----------------------------------------------------\r\n",
      "cc_onco1311.ann\t\t0.952\r\n",
      "-----------------------------------------------------\r\n",
      "cc_onco1312.ann\t\t1.0\r\n",
      "-----------------------------------------------------\r\n",
      "cc_onco1314.ann\t\t1.0\r\n",
      "-----------------------------------------------------\r\n",
      "cc_onco1315.ann\t\t1.0\r\n",
      "-----------------------------------------------------\r\n",
      "cc_onco1317.ann\t\t1.0\r\n",
      "-----------------------------------------------------\r\n",
      "cc_onco1318.ann\t\t1.0\r\n",
      "-----------------------------------------------------\r\n",
      "cc_onco1319.ann\t\t1.0\r\n",
      "-----------------------------------------------------\r\n",
      "cc_onco1320.ann\t\t1.0\r\n",
      "-----------------------------------------------------\r\n",
      "cc_onco1323.ann\t\t1.0\r\n",
      "-----------------------------------------------------\r\n",
      "cc_onco1324.ann\t\t1.0\r\n",
      "-----------------------------------------------------\r\n",
      "cc_onco1325.ann\t\t0.957\r\n",
      "-----------------------------------------------------\r\n",
      "cc_onco1326.ann\t\t1.0\r\n",
      "-----------------------------------------------------\r\n",
      "cc_onco1328.ann\t\t1.0\r\n",
      "-----------------------------------------------------\r\n",
      "cc_onco1329.ann\t\t1.0\r\n",
      "-----------------------------------------------------\r\n",
      "cc_onco1330.ann\t\t1.0\r\n",
      "-----------------------------------------------------\r\n",
      "cc_onco1331.ann\t\t0.933\r\n",
      "-----------------------------------------------------\r\n",
      "cc_onco1333.ann\t\t1.0\r\n",
      "-----------------------------------------------------\r\n",
      "cc_onco1336.ann\t\t1.0\r\n",
      "-----------------------------------------------------\r\n",
      "cc_onco1337.ann\t\t1.0\r\n",
      "-----------------------------------------------------\r\n",
      "cc_onco1338.ann\t\t1.0\r\n",
      "-----------------------------------------------------\r\n",
      "cc_onco1339.ann\t\t1.0\r\n",
      "-----------------------------------------------------\r\n",
      "cc_onco1340.ann\t\t1.0\r\n",
      "-----------------------------------------------------\r\n",
      "cc_onco1350.ann\t\t1.0\r\n",
      "-----------------------------------------------------\r\n",
      "cc_onco1351.ann\t\t1.0\r\n",
      "-----------------------------------------------------\r\n",
      "cc_onco1353.ann\t\t1.0\r\n",
      "-----------------------------------------------------\r\n",
      "cc_onco1354.ann\t\t0.968\r\n",
      "-----------------------------------------------------\r\n",
      "cc_onco1355.ann\t\t1.0\r\n",
      "-----------------------------------------------------\r\n",
      "cc_onco1356.ann\t\t1.0\r\n",
      "-----------------------------------------------------\r\n",
      "cc_onco1358.ann\t\t0.947\r\n",
      "-----------------------------------------------------\r\n",
      "cc_onco1359.ann\t\t1.0\r\n",
      "-----------------------------------------------------\r\n",
      "cc_onco1361.ann\t\t0.8\r\n",
      "-----------------------------------------------------\r\n",
      "cc_onco1363.ann\t\t1.0\r\n",
      "-----------------------------------------------------\r\n",
      "cc_onco1368.ann\t\t0.957\r\n",
      "-----------------------------------------------------\r\n",
      "cc_onco1371.ann\t\t1.0\r\n",
      "-----------------------------------------------------\r\n",
      "cc_onco1373.ann\t\t1.0\r\n",
      "-----------------------------------------------------\r\n",
      "cc_onco1376.ann\t\t1.0\r\n",
      "-----------------------------------------------------\r\n",
      "cc_onco1377.ann\t\t1.0\r\n",
      "-----------------------------------------------------\r\n",
      "cc_onco1382.ann\t\t1.0\r\n",
      "-----------------------------------------------------\r\n",
      "cc_onco1383.ann\t\t1.0\r\n",
      "-----------------------------------------------------\r\n",
      "cc_onco1384.ann\t\t1.0\r\n",
      "-----------------------------------------------------\r\n",
      "cc_onco1387.ann\t\t1.0\r\n",
      "-----------------------------------------------------\r\n",
      "cc_onco1388.ann\t\t0.8\r\n",
      "-----------------------------------------------------\r\n",
      "cc_onco1390.ann\t\t1.0\r\n",
      "-----------------------------------------------------\r\n",
      "cc_onco1391.ann\t\t1.0\r\n",
      "-----------------------------------------------------\r\n",
      "cc_onco1392.ann\t\t1.0\r\n",
      "-----------------------------------------------------\r\n",
      "cc_onco1393.ann\t\t1.0\r\n",
      "-----------------------------------------------------\r\n",
      "cc_onco1397.ann\t\t0.889\r\n",
      "-----------------------------------------------------\r\n",
      "cc_onco1402.ann\t\t1.0\r\n",
      "-----------------------------------------------------\r\n",
      "cc_onco1404.ann\t\t1.0\r\n",
      "-----------------------------------------------------\r\n",
      "cc_onco1405.ann\t\t1.0\r\n",
      "-----------------------------------------------------\r\n",
      "cc_onco1412.ann\t\t1.0\r\n",
      "-----------------------------------------------------\r\n",
      "cc_onco1415.ann\t\t1.0\r\n",
      "-----------------------------------------------------\r\n",
      "cc_onco1418.ann\t\t1.0\r\n",
      "-----------------------------------------------------\r\n",
      "cc_onco1419.ann\t\t0.957\r\n",
      "-----------------------------------------------------\r\n",
      "cc_onco1420.ann\t\t1.0\r\n",
      "-----------------------------------------------------\r\n",
      "cc_onco1424.ann\t\t1.0\r\n",
      "-----------------------------------------------------\r\n",
      "cc_onco1427.ann\t\t0.8\r\n",
      "-----------------------------------------------------\r\n",
      "cc_onco1428.ann\t\t1.0\r\n",
      "-----------------------------------------------------\r\n",
      "cc_onco1429.ann\t\t1.0\r\n",
      "-----------------------------------------------------\r\n",
      "cc_onco1432.ann\t\t0.966\r\n",
      "-----------------------------------------------------\r\n",
      "cc_onco1435.ann\t\t1.0\r\n",
      "-----------------------------------------------------\r\n",
      "cc_onco1437.ann\t\t1.0\r\n",
      "-----------------------------------------------------\r\n",
      "cc_onco1438.ann\t\t1.0\r\n",
      "-----------------------------------------------------\r\n",
      "cc_onco1444.ann\t\t1.0\r\n",
      "-----------------------------------------------------\r\n",
      "cc_onco1448.ann\t\t1.0\r\n",
      "-----------------------------------------------------\r\n",
      "cc_onco1449.ann\t\t1.0\r\n",
      "-----------------------------------------------------\r\n",
      "cc_onco1451.ann\t\t1.0\r\n",
      "-----------------------------------------------------\r\n",
      "cc_onco1459.ann\t\t1.0\r\n",
      "-----------------------------------------------------\r\n",
      "cc_onco1461.ann\t\t1.0\r\n",
      "-----------------------------------------------------\r\n",
      "cc_onco1462.ann\t\t1.0\r\n",
      "-----------------------------------------------------\r\n",
      "cc_onco1463.ann\t\t1.0\r\n",
      "-----------------------------------------------------\r\n",
      "cc_onco1467.ann\t\t1.0\r\n",
      "-----------------------------------------------------\r\n",
      "cc_onco1474.ann\t\t1.0\r\n",
      "-----------------------------------------------------\r\n",
      "cc_onco1475.ann\t\t0.667\r\n",
      "-----------------------------------------------------\r\n",
      "cc_onco1478.ann\t\t1.0\r\n",
      "-----------------------------------------------------\r\n",
      "cc_onco1482.ann\t\t1.0\r\n",
      "-----------------------------------------------------\r\n",
      "cc_onco1484.ann\t\t1.0\r\n",
      "-----------------------------------------------------\r\n",
      "cc_onco1487.ann\t\t1.0\r\n",
      "-----------------------------------------------------\r\n",
      "cc_onco1488.ann\t\t1.0\r\n",
      "-----------------------------------------------------\r\n",
      "cc_onco1490.ann\t\t1.0\r\n",
      "-----------------------------------------------------\r\n",
      "cc_onco1492.ann\t\t1.0\r\n",
      "-----------------------------------------------------\r\n",
      "cc_onco1494.ann\t\t0.985\r\n",
      "-----------------------------------------------------\r\n",
      "cc_onco1495.ann\t\t1.0\r\n",
      "-----------------------------------------------------\r\n",
      "cc_onco1497.ann\t\t1.0\r\n",
      "-----------------------------------------------------\r\n",
      "cc_onco1500.ann\t\t1.0\r\n",
      "-----------------------------------------------------\r\n",
      "cc_onco282.ann\t\t1.0\r\n",
      "-----------------------------------------------------\r\n",
      "cc_onco437.ann\t\t1.0\r\n",
      "-----------------------------------------------------\r\n",
      "cc_onco639.ann\t\t1.0\r\n",
      "-----------------------------------------------------\r\n",
      "cc_onco645.ann\t\t1.0\r\n",
      "-----------------------------------------------------\r\n",
      "cc_onco65.ann\t\t1.0\r\n",
      "-----------------------------------------------------\r\n",
      "cc_onco657.ann\t\t1.0\r\n",
      "-----------------------------------------------------\r\n",
      "cc_onco691.ann\t\t1.0\r\n",
      "-----------------------------------------------------\r\n",
      "cc_onco734.ann\t\t1.0\r\n",
      "-----------------------------------------------------\r\n",
      "cc_onco735.ann\t\t1.0\r\n",
      "-----------------------------------------------------\r\n",
      "cc_onco751.ann\t\t1.0\r\n",
      "-----------------------------------------------------\r\n",
      "cc_onco874.ann\t\t1.0\r\n",
      "-----------------------------------------------------\r\n",
      "cc_onco898.ann\t\t1.0\r\n",
      "-----------------------------------------------------\r\n",
      "cc_onco945.ann\t\t1.0\r\n",
      "-----------------------------------------------------\r\n",
      "cc_onco994.ann\t\t1.0\r\n",
      "-----------------------------------------------------\r\n",
      "\r\n",
      "-----------------------------------------------------\r\n",
      "Micro-average metrics\r\n",
      "-----------------------------------------------------\r\n",
      "\r\n",
      "Micro-average precision = 0.997\r\n",
      "\r\n",
      "\r\n",
      "Micro-average recall = 0.983\r\n",
      "\r\n",
      "\r\n",
      "Micro-average F-score = 0.99\r\n",
      "\r\n",
      "./dev_preds/|0.997|0.983|0.99\r\n"
     ]
    },
    {
     "name": "stdout",
     "output_type": "stream",
     "text": [
      "CPU times: user 7.54 ms, sys: 39.1 ms, total: 46.6 ms\n",
      "Wall time: 1.04 s\n"
     ]
    }
   ],
   "source": [
    "%%time\n",
    "!python ../resources/cantemist-evaluation-library/src/main.py -g ../datasets/cantemist_v6/dev-set2/cantemist-ner/ -p ./dev_preds/ -s ner "
   ]
  },
  {
   "cell_type": "markdown",
   "metadata": {},
   "source": [
    "## Test set predictions"
   ]
  },
  {
   "cell_type": "code",
   "execution_count": 106,
   "metadata": {},
   "outputs": [
    {
     "name": "stdout",
     "output_type": "stream",
     "text": [
      "CPU times: user 10.6 ms, sys: 0 ns, total: 10.6 ms\n",
      "Wall time: 9.81 ms\n"
     ]
    }
   ],
   "source": [
    "%%time\n",
    "test_path = corpus_path + \"test-set/\" + sub_task_path\n",
    "test_files = [f for f in os.listdir(test_path) if os.path.isfile(test_path + f) and f.split('.')[-1] == 'txt']\n",
    "test_data = load_text_files(test_files, test_path)\n",
    "df_text_test = pd.DataFrame({'doc_id': [s.split('.txt')[0] for s in test_files], 'raw_text': test_data})"
   ]
  },
  {
   "cell_type": "code",
   "execution_count": 107,
   "metadata": {},
   "outputs": [
    {
     "data": {
      "text/plain": [
       "(300, 2)"
      ]
     },
     "execution_count": 107,
     "metadata": {},
     "output_type": "execute_result"
    }
   ],
   "source": [
    "df_text_test.shape"
   ]
  },
  {
   "cell_type": "code",
   "execution_count": 108,
   "metadata": {},
   "outputs": [
    {
     "data": {
      "text/html": [
       "<div>\n",
       "<style scoped>\n",
       "    .dataframe tbody tr th:only-of-type {\n",
       "        vertical-align: middle;\n",
       "    }\n",
       "\n",
       "    .dataframe tbody tr th {\n",
       "        vertical-align: top;\n",
       "    }\n",
       "\n",
       "    .dataframe thead th {\n",
       "        text-align: right;\n",
       "    }\n",
       "</style>\n",
       "<table border=\"1\" class=\"dataframe\">\n",
       "  <thead>\n",
       "    <tr style=\"text-align: right;\">\n",
       "      <th></th>\n",
       "      <th>doc_id</th>\n",
       "      <th>raw_text</th>\n",
       "    </tr>\n",
       "  </thead>\n",
       "  <tbody>\n",
       "    <tr>\n",
       "      <th>0</th>\n",
       "      <td>cc_onco877</td>\n",
       "      <td>Anamnesis\\nMujer de 59 años, alérgica a penici...</td>\n",
       "    </tr>\n",
       "    <tr>\n",
       "      <th>1</th>\n",
       "      <td>cc_onco1075</td>\n",
       "      <td>Anamnesis\\nMujer de 52 años, sin alergias cono...</td>\n",
       "    </tr>\n",
       "    <tr>\n",
       "      <th>2</th>\n",
       "      <td>cc_onco1450</td>\n",
       "      <td>Anamnesis\\nMujer de 51 años de edad, sin antec...</td>\n",
       "    </tr>\n",
       "    <tr>\n",
       "      <th>3</th>\n",
       "      <td>cc_onco1165</td>\n",
       "      <td>Anamnesis\\nPaciente varón de 75 años sin hábit...</td>\n",
       "    </tr>\n",
       "    <tr>\n",
       "      <th>4</th>\n",
       "      <td>cc_onco1298</td>\n",
       "      <td>Anamnesis\\nMujer de 60 años, exfumadora de 20 ...</td>\n",
       "    </tr>\n",
       "  </tbody>\n",
       "</table>\n",
       "</div>"
      ],
      "text/plain": [
       "        doc_id                                           raw_text\n",
       "0   cc_onco877  Anamnesis\\nMujer de 59 años, alérgica a penici...\n",
       "1  cc_onco1075  Anamnesis\\nMujer de 52 años, sin alergias cono...\n",
       "2  cc_onco1450  Anamnesis\\nMujer de 51 años de edad, sin antec...\n",
       "3  cc_onco1165  Anamnesis\\nPaciente varón de 75 años sin hábit...\n",
       "4  cc_onco1298  Anamnesis\\nMujer de 60 años, exfumadora de 20 ..."
      ]
     },
     "execution_count": 108,
     "metadata": {},
     "output_type": "execute_result"
    }
   ],
   "source": [
    "df_text_test.head()"
   ]
  },
  {
   "cell_type": "code",
   "execution_count": 109,
   "metadata": {},
   "outputs": [
    {
     "data": {
      "text/plain": [
       "300"
      ]
     },
     "execution_count": 109,
     "metadata": {},
     "output_type": "execute_result"
    }
   ],
   "source": [
    "len(set(df_text_test['doc_id']))"
   ]
  },
  {
   "cell_type": "code",
   "execution_count": 110,
   "metadata": {},
   "outputs": [
    {
     "data": {
      "text/plain": [
       "'Anamnesis\\nMujer de 59 años, alérgica a penicilina y procaína. Fumadora activa (IPA: 43).\\nAntecedentes familiares: abuelo materno diagnosticado de carcinoma colon a los 70 años; madre diagnosticada de carcinoma de mama bilateral a los 50 años; padre fallecido de carcinoma gástrico a los 47 años; tres tías maternas diagnosticadas de carcinoma de mama a los 55, 56 y 57 años respectivamente; y tres primas afectas de cáncer de mama.\\nAntecedentes personales: bronquitis crónica, poliposis colónica, carcinoma ductal infiltrante clásico mama pT2pN0M0 G2 subtipo tumoral luminal a (RH: +, HER-2: negativo) intervenido en agosto de 2013 mediante tumorectomía mama izquierda (patrón round block) + biopsia selectiva ganglio centinela (negativo) y posterior QT adyuvante con esquema TC (paclitaxel-ciclofosfamida) x 4 ciclos.\\nAcude en noviembre de 2013 a visita de seguimiento tras finalizar tratamiento adyuvante. Asintomática.\\n\\nExploración física\\nTemperatura axilar 36,5ºC, tensión arterial 130/83 mm Hg, frecuencia cardiaca 90 lpm y saturación basal de oxígeno del 98 %.\\nConsciente, orientada en las tres esferas, eupneica en reposo. Buen estado general. Glasgow 15. Exploración mamaria: no se aprecian signos de inflamación, ulceración y/o asimetrías. No hay secreción ni retracción de pezón. No se palpan nódulos, masas ni adenopatías regionales. AC: tonos rítmicos, sin soplos. AP: hipoventilación en hemitórax izquierdo. Abdomen: anodino. Sin edemas ni signos de TVP en EEII.\\n\\nPruebas complementarias\\nTC con contraste: nódulos pulmonares de 10 mm en lóbulo superior derecho (LSD), que presenta amplio contacto con pleura y discreta especulación marginal (apariencia atípica para corresponder a enfermedad secundaria) y dos en lóbulo medio (LM) de bordes bien definidos, el mayor de 16 mm.\\nAnalítica general: bioquímica y hemograma sin alteraciones relevantes. Marcadores tumorales: Ca 15,3: 23,3 U/ml (0-30). CEA: 18,27 ng/ml (0-4,6).\\n\\nDiagnóstico\\n- Nódulos pulmonares a estudio.\\n- Carcinoma ductal infiltrante pT2pN0M0 luminal A.\\n\\nTratamiento\\nNo precisa tratamiento específico en este momento.\\n\\nEvolución\\nSe solicita PET/TC que confirma la existencia de nódulo de 1,3 mm en LSD con SUVmax 6,6 y nódulo de 10 mm en LM con SUVmax de 3; sin otros hallazgos.\\nTC craneoencefálica con contraste: no se evidencian imágenes que sugieran existencia de enfermedad secundaria a nivel encefálico. Espacios subaracnoideos de convexidad y sistema ventricular dentro de límites de normalidad.\\nTras presentar el caso en Comité de Tumores Tórax, se plantea intervención quirúrgica. El día 26/2/2014 se realiza resección atípica de ambos nódulos pulmonares (16 mm LSD y 12 mm LM), con resultado anatomopatológico de adenocarcinoma acinar focalmente mucosecretor de origen pulmonar G2 (perfil inmunohistoquímico, IHQ: TTF1:+). Determinación: mutación EGFR (RT-PCR Cobas®): negativa. Translocación ALK (IHQ Novocastra®): negativa.\\nTras la cirugía se solicita PET/TC que detecta hipercaptación en adenopatías 4R, 7, 10R con SUVmax hasta 4. Tras presentar el caso en comité multidisciplinar, se decide solicitar TC que no muestra hallazgos destacables y ecobroncoscopia (EBUS). Se procede a realizar punción-biopsia de adenopatías 4R y 7 resultando negativas para malignidad con hallazgos inflamatorios.\\nContinúa el seguimiento estrecho y en abril/2015 se detecta en TC nódulo pulmonar de 0,6 cm en LSD y aumento de CEA (8). En PET/TC se aprecia micronódulo LSD de 0,5 cm con SUVmax de 1,6 sospechoso de malignidad, sin más datos de enfermedad regional y/o a distancia. Se solicitan además pruebas funcionales respiratorias y broncoscopia, anodina.\\nAnte sospecha de recidiva local, se presenta nuevamente en Comité de Tumores Tórax y se plantea cirugía. Se interviene bajo anestesia general, el 25-6-2015 realizándose resección sublobar atípica en cuña de LSD, localizando nódulo en segmento posterior de LSD. El resultado anatomopatológico confirma adenocarcinoma moderadamente diferenciado de origen pulmonar pT1aN0M0 (perfil IHQ: TTF1:+, RH: -; Ki 67: 75 %). Posteriormente recibe QT adyuvante esquema cisplatino 75 mg/m2 IV d1 + VNR oral 60 mg/m2 d1y8 c/21d, x 4 ciclos con buena tolerancia y respuesta completa radiológica.\\nControles periódicos posteriores sin evidencia de enfermedad hasta que en mayo/2017 aparece en TC progresión de enfermedad con aparición de masa pulmonar izquierda, nódulos pulmonares metastásicos bilaterales, afectación metastásica ganglionar mediastínica e hiliar izquierda con diseminación ósea. Múltiples adenopatías y conglomerados mediastínicos, lesión blástica en cuerpo vertebral T5.\\nDurante la exploración física, destacaba palpación de conglomerado adenopático en región supraclavicular izquierda doloroso en la palpación.\\nSe solicitó determinación de perfil genómico con material de la biopsia de pieza quirúrgica tumoral previa a través de la plataforma Next Generation Sequencing (NGS) FoundationOne® en el que se identificaron amplificación ERBB2, mutación BRCA-1 (variante D1692fs*10), amplificación MYC, mutación TP53 (splicesite 920-1G>T), además de una alta carga mutacional (TMB-High; 42Muts/Mb).\\nSe solicitó adicionalmente determinación por inmunohistoquímica de PD-L1, encontrando expresión del mismo en menos del 1 % (sin expresión).\\nSe confirma en gammagrafía ósea presencia de múltiples metástasis óseas distribuidas en calota, parrilla costal, raquis, esternón, ambos húmeros, pelvis y fémur derecho.\\nCon todos los hallazgos clínico-radiológicos y perfil genómico e IHQ tumoral, valorando las diferentes opciones terapéuticas, se decide iniciar primera línea de QT paliativa con esquema carboplatino AUC-5+ pemetrexed 500 mg/m2 IV d1 c/21d + ácido zoledrónico 4 mg IV.\\nEn la actualidad, ha completado 2 ciclos con buena tolerancia y se ha solicitado radioterapia paliativa antiálgica sobre lesiones óseas pélvicas, debido al mal control del dolor a pesar de analgesia de tercer escalón.'"
      ]
     },
     "execution_count": 110,
     "metadata": {},
     "output_type": "execute_result"
    }
   ],
   "source": [
    "df_text_test.raw_text[0]"
   ]
  },
  {
   "cell_type": "code",
   "execution_count": 111,
   "metadata": {},
   "outputs": [],
   "source": [
    "test_doc_list = sorted(set(df_text_test[\"doc_id\"]))"
   ]
  },
  {
   "cell_type": "code",
   "execution_count": 112,
   "metadata": {},
   "outputs": [
    {
     "data": {
      "text/plain": [
       "300"
      ]
     },
     "execution_count": 112,
     "metadata": {},
     "output_type": "execute_result"
    }
   ],
   "source": [
    "len(test_doc_list)"
   ]
  },
  {
   "cell_type": "code",
   "execution_count": 113,
   "metadata": {},
   "outputs": [],
   "source": [
    "# Sentence-Split data"
   ]
  },
  {
   "cell_type": "code",
   "execution_count": 114,
   "metadata": {},
   "outputs": [
    {
     "name": "stdout",
     "output_type": "stream",
     "text": [
      "CPU times: user 135 ms, sys: 27.7 ms, total: 162 ms\n",
      "Wall time: 162 ms\n"
     ]
    }
   ],
   "source": [
    "%%time\n",
    "ss_sub_corpus_path = ss_corpus_path + \"test-background/\"\n",
    "ss_files = [f for f in os.listdir(ss_sub_corpus_path) if os.path.isfile(ss_sub_corpus_path + f)]\n",
    "ss_dict_test = load_ss_files(ss_files, ss_sub_corpus_path)"
   ]
  },
  {
   "cell_type": "code",
   "execution_count": 115,
   "metadata": {},
   "outputs": [
    {
     "name": "stderr",
     "output_type": "stream",
     "text": [
      "100%|██████████| 300/300 [00:27<00:00, 11.01it/s]"
     ]
    },
    {
     "name": "stdout",
     "output_type": "stream",
     "text": [
      "CPU times: user 27.4 s, sys: 0 ns, total: 27.4 s\n",
      "Wall time: 27.4 s\n"
     ]
    },
    {
     "name": "stderr",
     "output_type": "stream",
     "text": [
      "\n"
     ]
    }
   ],
   "source": [
    "%%time\n",
    "test_ind, test_att, test_type, _, test_frag, test_start_end_frag, test_word_id = ss_create_input_data_ner(df_text=df_text_test, \n",
    "                                                  text_col=text_col, \n",
    "                                                  # Since labels are ignored, we pass df_codes_train_ner as df_ann\n",
    "                                                  df_ann=df_codes_train_ner_final, doc_list=test_doc_list, ss_dict=ss_dict_test,\n",
    "                                                  tokenizer=tokenizer, lab_encoder=lab_encoder, seq_len=SEQ_LEN, \n",
    "                                                  ign_value=IGNORE_VALUE, strategy=ANN_STRATEGY, greedy=GREEDY)"
   ]
  },
  {
   "cell_type": "code",
   "execution_count": 116,
   "metadata": {},
   "outputs": [],
   "source": [
    "# Sanity check"
   ]
  },
  {
   "cell_type": "code",
   "execution_count": 117,
   "metadata": {},
   "outputs": [
    {
     "data": {
      "text/plain": [
       "(3974, 128)"
      ]
     },
     "execution_count": 117,
     "metadata": {},
     "output_type": "execute_result"
    }
   ],
   "source": [
    "test_ind.shape"
   ]
  },
  {
   "cell_type": "code",
   "execution_count": 118,
   "metadata": {},
   "outputs": [
    {
     "data": {
      "text/plain": [
       "(3974, 128)"
      ]
     },
     "execution_count": 118,
     "metadata": {},
     "output_type": "execute_result"
    }
   ],
   "source": [
    "test_att.shape"
   ]
  },
  {
   "cell_type": "code",
   "execution_count": 119,
   "metadata": {},
   "outputs": [
    {
     "data": {
      "text/plain": [
       "(3974, 128)"
      ]
     },
     "execution_count": 119,
     "metadata": {},
     "output_type": "execute_result"
    }
   ],
   "source": [
    "test_type.shape"
   ]
  },
  {
   "cell_type": "code",
   "execution_count": 120,
   "metadata": {},
   "outputs": [
    {
     "data": {
      "text/plain": [
       "300"
      ]
     },
     "execution_count": 120,
     "metadata": {},
     "output_type": "execute_result"
    }
   ],
   "source": [
    "len(test_frag)"
   ]
  },
  {
   "cell_type": "code",
   "execution_count": 121,
   "metadata": {},
   "outputs": [
    {
     "data": {
      "text/plain": [
       "3974"
      ]
     },
     "execution_count": 121,
     "metadata": {},
     "output_type": "execute_result"
    }
   ],
   "source": [
    "len(test_start_end_frag)"
   ]
  },
  {
   "cell_type": "code",
   "execution_count": 122,
   "metadata": {},
   "outputs": [
    {
     "data": {
      "text/plain": [
       "3974"
      ]
     },
     "execution_count": 122,
     "metadata": {},
     "output_type": "execute_result"
    }
   ],
   "source": [
    "len(test_word_id)"
   ]
  },
  {
   "cell_type": "code",
   "execution_count": 123,
   "metadata": {},
   "outputs": [
    {
     "name": "stdout",
     "output_type": "stream",
     "text": [
      "CPU times: user 13.5 s, sys: 1.99 s, total: 15.5 s\n",
      "Wall time: 19.8 s\n"
     ]
    }
   ],
   "source": [
    "%%time\n",
    "test_preds = tf.nn.softmax(logits=model.predict({'input_ids': test_ind, 'attention_mask': test_att, \n",
    "                                                 'token_type_ids': test_type}), \n",
    "                           axis=-1).numpy()"
   ]
  },
  {
   "cell_type": "code",
   "execution_count": 124,
   "metadata": {},
   "outputs": [
    {
     "data": {
      "text/plain": [
       "(3974, 128, 3)"
      ]
     },
     "execution_count": 124,
     "metadata": {},
     "output_type": "execute_result"
    }
   ],
   "source": [
    "test_preds.shape"
   ]
  },
  {
   "cell_type": "code",
   "execution_count": 125,
   "metadata": {},
   "outputs": [],
   "source": [
    "out_test_path = \"test_preds/\""
   ]
  },
  {
   "cell_type": "code",
   "execution_count": 126,
   "metadata": {},
   "outputs": [
    {
     "name": "stderr",
     "output_type": "stream",
     "text": [
      "100%|██████████| 300/300 [00:01<00:00, 251.07it/s]\n",
      "100%|██████████| 300/300 [00:01<00:00, 257.76it/s]\n"
     ]
    }
   ],
   "source": [
    "write_ner_ann(df_pred_ann=ner_preds_brat_format(doc_list=test_doc_list, fragments=test_frag, preds=test_preds, \n",
    "                                    start_end=test_start_end_frag, word_id=test_word_id, lb_encoder=lab_encoder, \n",
    "                                    df_text=df_text_test, text_col=text_col, strategy=EVAL_STRATEGY), \n",
    "              out_path=out_test_path)"
   ]
  },
  {
   "cell_type": "code",
   "execution_count": null,
   "metadata": {},
   "outputs": [],
   "source": [
    "%%time\n",
    "!python ../resources/cantemist-evaluation-library/src/main.py -g ../datasets/cantemist_v6/test-set/cantemist-ner/ -p ./test_preds/ -s ner "
   ]
  },
  {
   "cell_type": "code",
   "execution_count": null,
   "metadata": {},
   "outputs": [],
   "source": [
    "# Save predictions on the test set"
   ]
  },
  {
   "cell_type": "code",
   "execution_count": 128,
   "metadata": {},
   "outputs": [],
   "source": [
    "model_name = \"xlmr_galen_\" + str(random_seed)"
   ]
  },
  {
   "cell_type": "code",
   "execution_count": 129,
   "metadata": {},
   "outputs": [],
   "source": [
    "np.save(file=\"test_preds_\" + model_name + \".npy\", arr=test_preds)"
   ]
  },
  {
   "cell_type": "code",
   "execution_count": 134,
   "metadata": {},
   "outputs": [
    {
     "name": "stderr",
     "output_type": "stream",
     "text": [
      "100%|██████████| 300/300 [00:01<00:00, 251.53it/s]\n"
     ]
    }
   ],
   "source": [
    "doc_word_preds, doc_word_start_end = seq_ner_preds_brat_format(doc_list=test_doc_list, fragments=test_frag, \n",
    "                           arr_start_end=test_start_end_frag, arr_word_id=test_word_id, arr_preds=test_preds, \n",
    "                           strategy=EVAL_STRATEGY)"
   ]
  },
  {
   "cell_type": "code",
   "execution_count": 135,
   "metadata": {},
   "outputs": [],
   "source": [
    "import pickle\n",
    "\n",
    "with open(\"test_doc_word_preds_\" + model_name + \".pck\", \"wb\") as f:\n",
    "    pickle.dump(doc_word_preds, f)\n",
    "\n",
    "with open(\"test_doc_word_start_end_\" + model_name + \".pck\", \"wb\") as f:\n",
    "    pickle.dump(doc_word_start_end, f)"
   ]
  }
 ],
 "metadata": {
  "kernelspec": {
   "display_name": "Python 3",
   "language": "python",
   "name": "python3"
  },
  "language_info": {
   "codemirror_mode": {
    "name": "ipython",
    "version": 3
   },
   "file_extension": ".py",
   "mimetype": "text/x-python",
   "name": "python",
   "nbconvert_exporter": "python",
   "pygments_lexer": "ipython3",
   "version": "3.7.10"
  }
 },
 "nbformat": 4,
 "nbformat_minor": 4
}
