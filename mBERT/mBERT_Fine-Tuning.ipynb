{
 "cells": [
  {
   "cell_type": "markdown",
   "metadata": {},
   "source": [
    "# Fine-tuning mBERT on Cantemist-NER\n",
    "\n",
    "In this notebook, following a multi-class token classification approach, the mBERT model is fine-tuned on both the training and development sets of the Cantemit-NER corpus. Additionally, the predictions made by the model on the test set are saved, in order to futher evaluate the NER performance of the model (see `results/Evaluation.ipynb`)."
   ]
  },
  {
   "cell_type": "code",
   "execution_count": 1,
   "metadata": {},
   "outputs": [],
   "source": [
    "import tensorflow as tf\n",
    "\n",
    "# Auxiliary components\n",
    "from nlp_utils import *\n",
    "\n",
    "from transformers import BertTokenizerFast\n",
    "model_name = \"multi_cased_L-12_H-768_A-12/\"\n",
    "tokenizer = BertTokenizerFast.from_pretrained(model_name, do_lower_case=False)\n",
    "\n",
    "# Hyper-parameters\n",
    "text_col = \"raw_text\"\n",
    "SEQ_LEN = 128\n",
    "BATCH_SIZE = 16\n",
    "EPOCHS = 69\n",
    "LR = 3e-5\n",
    "\n",
    "GREEDY = True\n",
    "IGNORE_VALUE = -100\n",
    "ANN_STRATEGY = \"word-all\"\n",
    "EVAL_STRATEGY = \"word-max\"\n",
    "LOGITS = True\n",
    "\n",
    "random_seed = 0\n",
    "tf.random.set_seed(random_seed)"
   ]
  },
  {
   "cell_type": "markdown",
   "metadata": {},
   "source": [
    "## Load text\n",
    "\n",
    "Firstly, all text files from training and development Cantemist corpora are loaded in different dataframes.\n",
    "\n",
    "Also, NER-annotations are loaded."
   ]
  },
  {
   "cell_type": "code",
   "execution_count": 2,
   "metadata": {},
   "outputs": [],
   "source": [
    "corpus_path = \"../datasets/cantemist_v6/\"\n",
    "sub_task_path = \"cantemist-ner/\""
   ]
  },
  {
   "cell_type": "markdown",
   "metadata": {},
   "source": [
    "### Training corpus"
   ]
  },
  {
   "cell_type": "code",
   "execution_count": 3,
   "metadata": {},
   "outputs": [
    {
     "name": "stdout",
     "output_type": "stream",
     "text": [
      "CPU times: user 20.5 ms, sys: 0 ns, total: 20.5 ms\n",
      "Wall time: 20.3 ms\n"
     ]
    }
   ],
   "source": [
    "%%time\n",
    "train_path = corpus_path + \"train-set/\" + sub_task_path\n",
    "train_files = [f for f in os.listdir(train_path) if os.path.isfile(train_path + f) and f.split('.')[-1] == \"txt\"]\n",
    "n_train_files = len(train_files)\n",
    "train_data = load_text_files(train_files, train_path)\n",
    "dev1_path = corpus_path + \"dev-set1/\" + sub_task_path\n",
    "train_files.extend([f for f in os.listdir(dev1_path) if os.path.isfile(dev1_path + f) and f.split('.')[-1] == \"txt\"])\n",
    "train_data.extend(load_text_files(train_files[n_train_files:], dev1_path))\n",
    "df_text_train = pd.DataFrame({'doc_id': [s.split('.txt')[0] for s in train_files], 'raw_text': train_data})"
   ]
  },
  {
   "cell_type": "code",
   "execution_count": 4,
   "metadata": {},
   "outputs": [
    {
     "data": {
      "text/plain": [
       "(751, 2)"
      ]
     },
     "execution_count": 4,
     "metadata": {},
     "output_type": "execute_result"
    }
   ],
   "source": [
    "df_text_train.shape"
   ]
  },
  {
   "cell_type": "code",
   "execution_count": 5,
   "metadata": {},
   "outputs": [
    {
     "data": {
      "text/html": [
       "<div>\n",
       "<style scoped>\n",
       "    .dataframe tbody tr th:only-of-type {\n",
       "        vertical-align: middle;\n",
       "    }\n",
       "\n",
       "    .dataframe tbody tr th {\n",
       "        vertical-align: top;\n",
       "    }\n",
       "\n",
       "    .dataframe thead th {\n",
       "        text-align: right;\n",
       "    }\n",
       "</style>\n",
       "<table border=\"1\" class=\"dataframe\">\n",
       "  <thead>\n",
       "    <tr style=\"text-align: right;\">\n",
       "      <th></th>\n",
       "      <th>doc_id</th>\n",
       "      <th>raw_text</th>\n",
       "    </tr>\n",
       "  </thead>\n",
       "  <tbody>\n",
       "    <tr>\n",
       "      <th>0</th>\n",
       "      <td>cc_onco453</td>\n",
       "      <td>Anamnesis\\nSe trata de un varón de 55 años, ex...</td>\n",
       "    </tr>\n",
       "    <tr>\n",
       "      <th>1</th>\n",
       "      <td>cc_onco962</td>\n",
       "      <td>Anamnesis\\nMujer de 40 años que consulta por l...</td>\n",
       "    </tr>\n",
       "    <tr>\n",
       "      <th>2</th>\n",
       "      <td>cc_onco989</td>\n",
       "      <td>Anamnesis\\nPaciente de 43 años, perimenopáusic...</td>\n",
       "    </tr>\n",
       "    <tr>\n",
       "      <th>3</th>\n",
       "      <td>cc_onco187</td>\n",
       "      <td>Anamnesis\\nVarón de 72 años, exfumador y bebed...</td>\n",
       "    </tr>\n",
       "    <tr>\n",
       "      <th>4</th>\n",
       "      <td>cc_onco164</td>\n",
       "      <td>Anamnesis\\nMujer de 51 años, sin alergias medi...</td>\n",
       "    </tr>\n",
       "  </tbody>\n",
       "</table>\n",
       "</div>"
      ],
      "text/plain": [
       "       doc_id                                           raw_text\n",
       "0  cc_onco453  Anamnesis\\nSe trata de un varón de 55 años, ex...\n",
       "1  cc_onco962  Anamnesis\\nMujer de 40 años que consulta por l...\n",
       "2  cc_onco989  Anamnesis\\nPaciente de 43 años, perimenopáusic...\n",
       "3  cc_onco187  Anamnesis\\nVarón de 72 años, exfumador y bebed...\n",
       "4  cc_onco164  Anamnesis\\nMujer de 51 años, sin alergias medi..."
      ]
     },
     "execution_count": 5,
     "metadata": {},
     "output_type": "execute_result"
    }
   ],
   "source": [
    "df_text_train.head()"
   ]
  },
  {
   "cell_type": "code",
   "execution_count": 6,
   "metadata": {},
   "outputs": [
    {
     "data": {
      "text/plain": [
       "751"
      ]
     },
     "execution_count": 6,
     "metadata": {},
     "output_type": "execute_result"
    }
   ],
   "source": [
    "len(set(df_text_train['doc_id']))"
   ]
  },
  {
   "cell_type": "code",
   "execution_count": 7,
   "metadata": {},
   "outputs": [
    {
     "data": {
      "text/plain": [
       "'Anamnesis\\nSe trata de un varón de 55 años, ex fumador con un índice tabáquico de 40 paquetes-año, HTA, sin antecedentes familiares de interés, en tratamiento con ácido fólico, omeprazol, hierro oral y risperidona.\\nEn junio de 2017, es diagnosticado a raíz de una trombosis iliaca derecha de una masa tumoral pobremente diferenciada que infiltraba tercio distal de apéndice cecal, con obliteración del paquete vascular iliaco, así como infiltración del uréter derecho, condicionando ureterohidronefrosis derecha grado cuatro.\\nSe realiza biopsia de la lesión, con hallazgos anatomopatológicos de neoplasia fusocelular con inmunohistoquímica (IHC) sugerente de origen urotelial con diferenciación sarcomatoide (positividad para p63, p40, GATA3, CD99, EMA CAM 5.2, CK 34, beta E12, CK7, negatividad para CK20, S100, CD34, cKIT y TTF1), con SYT no reordenado.\\nSe lleva a cabo intervención en julio de 2017 con extirpación de la masa tumoral, resección ileocecal, dejando ileostomía terminal y bypass extraanatómico femorofemoral.\\nEn octubre de 2017, se observa en TC toracoabdominopélvica una lesión hepática de nueva aparición que sugiere de metástasis.\\nCon juicio clínico de carcinoma urotelial de alto grado con diferenciación sarcomatoide estadio IV (pT4N2M1) por afectación hepática, se decide iniciar tratamiento sistémico de primera línea en febrero de 2018 dentro de ensayo clínico con antiPD1 y antiCTLA4 hasta julio de 2018, presentando buena tolerancia al tratamiento, pero con progresión de la enfermedad a nivel hepático.\\nInicia entonces segunda línea de tratamiento con carboplatino AUC5 día 1 y gemcitabina 1.000 mg/m2 días 1 y 8 cada 21 días, el 20 de agosto de 2018.\\nEn octubre de 2018, tras cinco ciclos de quimioterapia y una dosis acumulada de gemcitabina de 10.000 mg/m2, el paciente refiere aparición de lesiones ulceradas y dolorosas en regiones acras de dedos de manos.\\nCon sospecha de isquemia digital aguda, es derivado a Urgencias para valoración por Cirugía Vascular.\\n\\nExploración física\\nDurante la exploración física no presenta esclerodactilia, telangiectasias ni otras lesiones sugerentes de conectivopatías. Los pulsos radiales presentes y cubitales ausentes, con relleno capilar sin alteraciones.\\n\\nPruebas complementarias\\nEn analítica destacaba anemia normocítica normocroma grado 1 con Hb 10,2 g/dl (rango 13-15,5), sin otros hallazgos relevantes.\\nSe realiza estudio de autoanticuerpos (ENAS negativos, ANA positivo [1/80], anticuerpo (Ac) anti-P cíclico citrulinado negativo, Ac beta2-glicoproteina IgM e IgG negativos, cardiolipina IgG e IgM negativos, C-ANCAS y P-ANCAS negativos, VSG 137mm [rango 1,00-15] y crioglobulinas débilmente positivas) y estudio serológico con hallazgos de infección pasada de VHE y resto de virus hepatotropos negativos.\\nSe lleva a cabo eco-Doppler de miembros superiores en la que destaca alteración de flujo en arteria cubital derecha, y ecocardiograma transtorácico sin signos de endocarditis infecciosa.\\nEn la capilaroscopia como única alteración, destaca la presencia en segundo dedo de mano izquierda una hemorragia aislada, con distribución y densidad capilar conservada.\\n\\nDiagnóstico\\nCon estas pruebas, el paciente es diagnosticado de isquemia digital con datos de afectación macrovascular en relación al tratamiento de gemcitabina.\\n\\nTratamiento\\nEl paciente inicia tratamiento con prostaglandinas (PG) y anticoagulación con heparina de bajo peso molecular a dosis de 1 mg/kg cada 12 horas, experimentando mejoría progresiva de los síntomas y de las lesiones.\\n\\nEvolución\\nSe decide discontinuar tratamiento de quimioterapia, presentando respuesta parcial de la enfermedad tumoral con disminución de la masa pélvica, adenopatías retroperitoneales y de las metástasis hepáticas en TC de enero de 2019.'"
      ]
     },
     "execution_count": 7,
     "metadata": {},
     "output_type": "execute_result"
    }
   ],
   "source": [
    "df_text_train.raw_text[0]"
   ]
  },
  {
   "cell_type": "markdown",
   "metadata": {},
   "source": [
    "### Development corpus"
   ]
  },
  {
   "cell_type": "code",
   "execution_count": 8,
   "metadata": {},
   "outputs": [
    {
     "name": "stdout",
     "output_type": "stream",
     "text": [
      "CPU times: user 6.89 ms, sys: 0 ns, total: 6.89 ms\n",
      "Wall time: 6.66 ms\n"
     ]
    }
   ],
   "source": [
    "%%time\n",
    "dev_path = corpus_path + \"dev-set2/\" + sub_task_path\n",
    "dev_files = [f for f in os.listdir(dev_path) if os.path.isfile(dev_path + f) and f.split('.')[-1] == \"txt\"]\n",
    "dev_data = load_text_files(dev_files, dev_path)\n",
    "df_text_dev = pd.DataFrame({'doc_id': [s.split('.txt')[0] for s in dev_files], 'raw_text': dev_data})"
   ]
  },
  {
   "cell_type": "code",
   "execution_count": 9,
   "metadata": {},
   "outputs": [
    {
     "data": {
      "text/plain": [
       "(250, 2)"
      ]
     },
     "execution_count": 9,
     "metadata": {},
     "output_type": "execute_result"
    }
   ],
   "source": [
    "df_text_dev.shape"
   ]
  },
  {
   "cell_type": "code",
   "execution_count": 10,
   "metadata": {},
   "outputs": [
    {
     "data": {
      "text/html": [
       "<div>\n",
       "<style scoped>\n",
       "    .dataframe tbody tr th:only-of-type {\n",
       "        vertical-align: middle;\n",
       "    }\n",
       "\n",
       "    .dataframe tbody tr th {\n",
       "        vertical-align: top;\n",
       "    }\n",
       "\n",
       "    .dataframe thead th {\n",
       "        text-align: right;\n",
       "    }\n",
       "</style>\n",
       "<table border=\"1\" class=\"dataframe\">\n",
       "  <thead>\n",
       "    <tr style=\"text-align: right;\">\n",
       "      <th></th>\n",
       "      <th>doc_id</th>\n",
       "      <th>raw_text</th>\n",
       "    </tr>\n",
       "  </thead>\n",
       "  <tbody>\n",
       "    <tr>\n",
       "      <th>0</th>\n",
       "      <td>cc_onco1183</td>\n",
       "      <td>Anamnesis\\nVarón de 48 años que acude en agost...</td>\n",
       "    </tr>\n",
       "    <tr>\n",
       "      <th>1</th>\n",
       "      <td>cc_onco751</td>\n",
       "      <td>Anamnesis\\nHombre de 71 años de edad con antec...</td>\n",
       "    </tr>\n",
       "    <tr>\n",
       "      <th>2</th>\n",
       "      <td>cc_onco1384</td>\n",
       "      <td>Anamnesis\\nVarón de 30 años, sin antecedentes ...</td>\n",
       "    </tr>\n",
       "    <tr>\n",
       "      <th>3</th>\n",
       "      <td>cc_onco1208</td>\n",
       "      <td>Anamnesis\\nVarón de 76 años diagnosticado en a...</td>\n",
       "    </tr>\n",
       "    <tr>\n",
       "      <th>4</th>\n",
       "      <td>cc_onco734</td>\n",
       "      <td>Anamnesis\\nTras canalización del reservorio ce...</td>\n",
       "    </tr>\n",
       "  </tbody>\n",
       "</table>\n",
       "</div>"
      ],
      "text/plain": [
       "        doc_id                                           raw_text\n",
       "0  cc_onco1183  Anamnesis\\nVarón de 48 años que acude en agost...\n",
       "1   cc_onco751  Anamnesis\\nHombre de 71 años de edad con antec...\n",
       "2  cc_onco1384  Anamnesis\\nVarón de 30 años, sin antecedentes ...\n",
       "3  cc_onco1208  Anamnesis\\nVarón de 76 años diagnosticado en a...\n",
       "4   cc_onco734  Anamnesis\\nTras canalización del reservorio ce..."
      ]
     },
     "execution_count": 10,
     "metadata": {},
     "output_type": "execute_result"
    }
   ],
   "source": [
    "df_text_dev.head()"
   ]
  },
  {
   "cell_type": "code",
   "execution_count": 11,
   "metadata": {},
   "outputs": [
    {
     "data": {
      "text/plain": [
       "250"
      ]
     },
     "execution_count": 11,
     "metadata": {},
     "output_type": "execute_result"
    }
   ],
   "source": [
    "len(set(df_text_dev['doc_id']))"
   ]
  },
  {
   "cell_type": "code",
   "execution_count": 12,
   "metadata": {},
   "outputs": [
    {
     "data": {
      "text/plain": [
       "'Anamnesis\\nVarón de 48 años que acude en agosto de 2012 tras la realización de amputación en hallux derecho a la primera valoración por Oncología Médica.\\nAntecedentes: no alérgicos. Patológicos: diabético hace 3 años sin tratamiento. HTA en tratamiento. Enolismo crónico.\\nTrastorno afectivo bipolar. Quirúrgicos: apendicectomizado.\\nEnfermedad actual: desde hace 2 años presentaba una lesión hiperpigmentada en el hallux del pie derecho, que ocasionalmente sangraba.\\n\\nExamen físico\\nMuñón de hallux derecho en buen estado, presencia de adenopatías inguinales derechas. Resto de exploración sin alteraciones.\\n\\nPruebas complementarias\\n- Biopsia cutánea: melanoma ulcerado.\\n- AP de resección de melanoma: melanoma lentiginoso acral en fase de crecimiento vertical, ulcerado. Clark IV. Breslow 6,8 mm, sin infiltración linfovascular.\\n- TC de tórax-abdomen-pelvis: sin signos concluyentes de extensión tóraco-abdómino-pélvica de melanoma.\\nMicronódulos en el lóbulo superior derecho a valorar en controles sucesivos.\\n- Se realiza linfadenectomía inguinal electiva en octubre de 2012.\\n- AP: metástasis de melanoma en 4 de los 13 ganglios aislados.\\n\\nDiagnóstico\\nMelanoma lentiginoso acral en fase de crecimiento vertical ulcerado Clarck IV Breslow6,8 mm pT4b N2a M0 estadio IIIB.\\n\\nTratamiento\\nEn enero de 2013 inicia tratamiento adyuvante con interferón a altas dosis según el esquema Kirkwood, este se basa en el estudio ECOG 1684: interferón alfa-2b 20 millones de unidades i.v. x 20 días, seguido de 10 millones de unidades s.c. 3 veces a la semana durante 48 semanas. El paciente tuvo buena tolerancia a la fase de inducción y a la fase de mantenimiento.\\nEn agosto de 2013 se detecta un nódulo subcutáneo de 1,5 cm en la zona de la cicatriz del hallux derecho y también una lesión en la cara interna de la pierna derecha de 0,5 cm. Se considera recidiva intratratamiento, por lo que se interviene, realizándose exéresis local y ampliación de márgenes.\\nAP: melanoma de 2,4 x 0,7 x 0,8 cm con afectación del margen de resección.\\nSe decide enviar a Oncología Radioterápica por margen afecto.\\n\\nEvolución\\nDe septiembre a octubre de 2013 recibe tratamiento radioterápico \"adyuvante\": PTV en la lesión guiada por cicatriz en el pie derecho más 3 cm de margen, fraccionamiento 2,5 Gy en 24 fracciones hasta adminsitrar una dosis total de 60 Gy.\\nEn noviembre de 2013 presenta progresión cutánea con 4 lesiones hipercrómicas localizadas en el muslo derecho. No hay datos de afectación tóraco-abdominal a distancia.\\nEntre tanto, se realiza determinación del estado mutacional de B-RAF, el cual es nativo.\\nA la progresión cutánea se propone tratamiento con DTIC (1.000 mg/m2 cada 21 días), administrando un primer ciclo en diciembre de 2013. En enero de 2014 acude a consulta con un cuadro de ictericia mucocutánea y coluria. Se detecta bilirrubina total de 7,7 mg/dl, bilirrubina directa de 5,9 mg/dl. ALT 2.022 UI/l, AST 840 UI/l. Se realizan una ecografía hepatobiliar, con resultado normal, y serología de virus de hepatitis, con resultado de perfil de hepatitis B aguda. Se remite al Servicio de Aparato Digestivo, quienes realizan tratamiento conservador, observándose en semanas posteriores un descenso marcado en los valores de bilirrubina, ALT y AST hasta la completa normalidad.\\nEntre tanto, presenta crecimiento de numerosas lesiones subcutáneas distribuidas en la cara anterior e interna del muslo derecho sin datos de afectación a distancia en la TC. Se considera metástasis en tránsito de melanoma, por lo que en marzo de 2014 inicia la administración de interleucina-2 intralesional. Se aplica 1 ml en cada una de las lesiones subcutáneas, cubriendo un total de 20 lesiones por cada ciclo administrado cada 14 días, sin presentar efectos secundarios sistémicos, salvo dolor EVA 3 en los puntos de instilación, que mejoraba con el paracetamol. Con este tratamiento completa 5 ciclos hasta el mayo de 2014, presentando desaparición de la mayoría de las lesiones, persistiendo algunas de localización central.\\nEl 30 de mayo de 2014 acude con una TC de reevaluación, objetivándose progresión inguinal izquierda y una adenopatía en la cadena iliaca externa derecha de 3,3 x 2,3 cm compatible con progresión. Se ha propuesto una nueva línea de tratamiento con ipilimumab, pendiente de iniciar.'"
      ]
     },
     "execution_count": 12,
     "metadata": {},
     "output_type": "execute_result"
    }
   ],
   "source": [
    "df_text_dev.raw_text[0]"
   ]
  },
  {
   "cell_type": "markdown",
   "metadata": {},
   "source": [
    "## Process NER annotations\n",
    "\n",
    "We load and pre-process the NER annotations in BRAT format available for the Cantemist-NER subtask."
   ]
  },
  {
   "cell_type": "code",
   "execution_count": 13,
   "metadata": {},
   "outputs": [],
   "source": [
    "# Training corpus"
   ]
  },
  {
   "cell_type": "code",
   "execution_count": 14,
   "metadata": {},
   "outputs": [],
   "source": [
    "train_ann_files = [train_path + f for f in os.listdir(train_path) if f.split('.')[-1] == \"ann\"]\n",
    "train_ann_files.extend([dev1_path + f for f in os.listdir(dev1_path) if f.split('.')[-1] == \"ann\"])"
   ]
  },
  {
   "cell_type": "code",
   "execution_count": 15,
   "metadata": {},
   "outputs": [
    {
     "data": {
      "text/plain": [
       "751"
      ]
     },
     "execution_count": 15,
     "metadata": {},
     "output_type": "execute_result"
    }
   ],
   "source": [
    "len(train_ann_files)"
   ]
  },
  {
   "cell_type": "code",
   "execution_count": 16,
   "metadata": {},
   "outputs": [],
   "source": [
    "df_codes_train_ner = process_brat_ner(train_ann_files).sort_values([\"doc_id\", \"start\", \"end\"])"
   ]
  },
  {
   "cell_type": "code",
   "execution_count": 17,
   "metadata": {},
   "outputs": [
    {
     "data": {
      "text/plain": [
       "(9737, 4)"
      ]
     },
     "execution_count": 17,
     "metadata": {},
     "output_type": "execute_result"
    }
   ],
   "source": [
    "df_codes_train_ner.shape"
   ]
  },
  {
   "cell_type": "code",
   "execution_count": 18,
   "metadata": {},
   "outputs": [
    {
     "data": {
      "text/html": [
       "<div>\n",
       "<style scoped>\n",
       "    .dataframe tbody tr th:only-of-type {\n",
       "        vertical-align: middle;\n",
       "    }\n",
       "\n",
       "    .dataframe tbody tr th {\n",
       "        vertical-align: top;\n",
       "    }\n",
       "\n",
       "    .dataframe thead th {\n",
       "        text-align: right;\n",
       "    }\n",
       "</style>\n",
       "<table border=\"1\" class=\"dataframe\">\n",
       "  <thead>\n",
       "    <tr style=\"text-align: right;\">\n",
       "      <th></th>\n",
       "      <th>doc_id</th>\n",
       "      <th>text_ref</th>\n",
       "      <th>start</th>\n",
       "      <th>end</th>\n",
       "    </tr>\n",
       "  </thead>\n",
       "  <tbody>\n",
       "    <tr>\n",
       "      <th>5230</th>\n",
       "      <td>cc_onco1</td>\n",
       "      <td>Carcinoma microcítico</td>\n",
       "      <td>2719</td>\n",
       "      <td>2740</td>\n",
       "    </tr>\n",
       "    <tr>\n",
       "      <th>5231</th>\n",
       "      <td>cc_onco1</td>\n",
       "      <td>carcinoma microcítico</td>\n",
       "      <td>2950</td>\n",
       "      <td>2971</td>\n",
       "    </tr>\n",
       "    <tr>\n",
       "      <th>5232</th>\n",
       "      <td>cc_onco1</td>\n",
       "      <td>M0</td>\n",
       "      <td>2988</td>\n",
       "      <td>2990</td>\n",
       "    </tr>\n",
       "    <tr>\n",
       "      <th>97</th>\n",
       "      <td>cc_onco10</td>\n",
       "      <td>tumor</td>\n",
       "      <td>212</td>\n",
       "      <td>217</td>\n",
       "    </tr>\n",
       "    <tr>\n",
       "      <th>95</th>\n",
       "      <td>cc_onco10</td>\n",
       "      <td>neoplasia</td>\n",
       "      <td>976</td>\n",
       "      <td>985</td>\n",
       "    </tr>\n",
       "  </tbody>\n",
       "</table>\n",
       "</div>"
      ],
      "text/plain": [
       "         doc_id               text_ref  start   end\n",
       "5230   cc_onco1  Carcinoma microcítico   2719  2740\n",
       "5231   cc_onco1  carcinoma microcítico   2950  2971\n",
       "5232   cc_onco1                     M0   2988  2990\n",
       "97    cc_onco10                  tumor    212   217\n",
       "95    cc_onco10              neoplasia    976   985"
      ]
     },
     "execution_count": 18,
     "metadata": {},
     "output_type": "execute_result"
    }
   ],
   "source": [
    "df_codes_train_ner.head()"
   ]
  },
  {
   "cell_type": "code",
   "execution_count": 19,
   "metadata": {},
   "outputs": [
    {
     "data": {
      "text/plain": [
       "750"
      ]
     },
     "execution_count": 19,
     "metadata": {},
     "output_type": "execute_result"
    }
   ],
   "source": [
    "len(set(df_codes_train_ner[\"doc_id\"]))"
   ]
  },
  {
   "cell_type": "code",
   "execution_count": 20,
   "metadata": {},
   "outputs": [],
   "source": [
    "assert ~df_codes_train_ner[[\"doc_id\", \"start\", \"end\"]].duplicated().any()"
   ]
  },
  {
   "cell_type": "code",
   "execution_count": 21,
   "metadata": {},
   "outputs": [],
   "source": [
    "# Development corpus"
   ]
  },
  {
   "cell_type": "code",
   "execution_count": 22,
   "metadata": {},
   "outputs": [],
   "source": [
    "dev_ann_files = [dev_path + f for f in os.listdir(dev_path) if f.split('.')[-1] == \"ann\"]"
   ]
  },
  {
   "cell_type": "code",
   "execution_count": 23,
   "metadata": {},
   "outputs": [
    {
     "data": {
      "text/plain": [
       "250"
      ]
     },
     "execution_count": 23,
     "metadata": {},
     "output_type": "execute_result"
    }
   ],
   "source": [
    "len(dev_ann_files)"
   ]
  },
  {
   "cell_type": "code",
   "execution_count": 24,
   "metadata": {},
   "outputs": [],
   "source": [
    "df_codes_dev_ner = process_brat_ner(dev_ann_files).sort_values([\"doc_id\", \"start\", \"end\"])"
   ]
  },
  {
   "cell_type": "code",
   "execution_count": 25,
   "metadata": {},
   "outputs": [
    {
     "data": {
      "text/plain": [
       "(2660, 4)"
      ]
     },
     "execution_count": 25,
     "metadata": {},
     "output_type": "execute_result"
    }
   ],
   "source": [
    "df_codes_dev_ner.shape"
   ]
  },
  {
   "cell_type": "code",
   "execution_count": 26,
   "metadata": {},
   "outputs": [
    {
     "data": {
      "text/html": [
       "<div>\n",
       "<style scoped>\n",
       "    .dataframe tbody tr th:only-of-type {\n",
       "        vertical-align: middle;\n",
       "    }\n",
       "\n",
       "    .dataframe tbody tr th {\n",
       "        vertical-align: top;\n",
       "    }\n",
       "\n",
       "    .dataframe thead th {\n",
       "        text-align: right;\n",
       "    }\n",
       "</style>\n",
       "<table border=\"1\" class=\"dataframe\">\n",
       "  <thead>\n",
       "    <tr style=\"text-align: right;\">\n",
       "      <th></th>\n",
       "      <th>doc_id</th>\n",
       "      <th>text_ref</th>\n",
       "      <th>start</th>\n",
       "      <th>end</th>\n",
       "    </tr>\n",
       "  </thead>\n",
       "  <tbody>\n",
       "    <tr>\n",
       "      <th>1852</th>\n",
       "      <td>cc_onco1001</td>\n",
       "      <td>carcinoma epidermoide</td>\n",
       "      <td>576</td>\n",
       "      <td>597</td>\n",
       "    </tr>\n",
       "    <tr>\n",
       "      <th>1854</th>\n",
       "      <td>cc_onco1001</td>\n",
       "      <td>neoplasia</td>\n",
       "      <td>790</td>\n",
       "      <td>799</td>\n",
       "    </tr>\n",
       "    <tr>\n",
       "      <th>1857</th>\n",
       "      <td>cc_onco1001</td>\n",
       "      <td>adenocarcinoma T4N3M1b</td>\n",
       "      <td>836</td>\n",
       "      <td>858</td>\n",
       "    </tr>\n",
       "    <tr>\n",
       "      <th>1853</th>\n",
       "      <td>cc_onco1001</td>\n",
       "      <td>enfermedad hepática</td>\n",
       "      <td>1205</td>\n",
       "      <td>1224</td>\n",
       "    </tr>\n",
       "    <tr>\n",
       "      <th>1855</th>\n",
       "      <td>cc_onco1001</td>\n",
       "      <td>tumoral</td>\n",
       "      <td>2303</td>\n",
       "      <td>2310</td>\n",
       "    </tr>\n",
       "  </tbody>\n",
       "</table>\n",
       "</div>"
      ],
      "text/plain": [
       "           doc_id                text_ref  start   end\n",
       "1852  cc_onco1001   carcinoma epidermoide    576   597\n",
       "1854  cc_onco1001               neoplasia    790   799\n",
       "1857  cc_onco1001  adenocarcinoma T4N3M1b    836   858\n",
       "1853  cc_onco1001     enfermedad hepática   1205  1224\n",
       "1855  cc_onco1001                 tumoral   2303  2310"
      ]
     },
     "execution_count": 26,
     "metadata": {},
     "output_type": "execute_result"
    }
   ],
   "source": [
    "df_codes_dev_ner.head()"
   ]
  },
  {
   "cell_type": "code",
   "execution_count": 27,
   "metadata": {},
   "outputs": [
    {
     "data": {
      "text/html": [
       "<div>\n",
       "<style scoped>\n",
       "    .dataframe tbody tr th:only-of-type {\n",
       "        vertical-align: middle;\n",
       "    }\n",
       "\n",
       "    .dataframe tbody tr th {\n",
       "        vertical-align: top;\n",
       "    }\n",
       "\n",
       "    .dataframe thead th {\n",
       "        text-align: right;\n",
       "    }\n",
       "</style>\n",
       "<table border=\"1\" class=\"dataframe\">\n",
       "  <thead>\n",
       "    <tr style=\"text-align: right;\">\n",
       "      <th></th>\n",
       "      <th>doc_id</th>\n",
       "      <th>text_ref</th>\n",
       "      <th>start</th>\n",
       "      <th>end</th>\n",
       "    </tr>\n",
       "  </thead>\n",
       "  <tbody>\n",
       "    <tr>\n",
       "      <th>1630</th>\n",
       "      <td>cc_onco994</td>\n",
       "      <td>tumoración</td>\n",
       "      <td>1604</td>\n",
       "      <td>1614</td>\n",
       "    </tr>\n",
       "    <tr>\n",
       "      <th>1629</th>\n",
       "      <td>cc_onco994</td>\n",
       "      <td>metastásica</td>\n",
       "      <td>3064</td>\n",
       "      <td>3075</td>\n",
       "    </tr>\n",
       "    <tr>\n",
       "      <th>1628</th>\n",
       "      <td>cc_onco994</td>\n",
       "      <td>macroadenoma</td>\n",
       "      <td>3752</td>\n",
       "      <td>3764</td>\n",
       "    </tr>\n",
       "    <tr>\n",
       "      <th>1632</th>\n",
       "      <td>cc_onco994</td>\n",
       "      <td>macroadenoma de la hipófisis</td>\n",
       "      <td>4068</td>\n",
       "      <td>4096</td>\n",
       "    </tr>\n",
       "    <tr>\n",
       "      <th>1627</th>\n",
       "      <td>cc_onco994</td>\n",
       "      <td>lesiones hepáticas</td>\n",
       "      <td>5378</td>\n",
       "      <td>5396</td>\n",
       "    </tr>\n",
       "  </tbody>\n",
       "</table>\n",
       "</div>"
      ],
      "text/plain": [
       "          doc_id                      text_ref  start   end\n",
       "1630  cc_onco994                    tumoración   1604  1614\n",
       "1629  cc_onco994                   metastásica   3064  3075\n",
       "1628  cc_onco994                  macroadenoma   3752  3764\n",
       "1632  cc_onco994  macroadenoma de la hipófisis   4068  4096\n",
       "1627  cc_onco994            lesiones hepáticas   5378  5396"
      ]
     },
     "execution_count": 27,
     "metadata": {},
     "output_type": "execute_result"
    }
   ],
   "source": [
    "df_codes_dev_ner.tail()"
   ]
  },
  {
   "cell_type": "code",
   "execution_count": 28,
   "metadata": {},
   "outputs": [],
   "source": [
    "assert ~df_codes_dev_ner[[\"doc_id\", \"start\", \"end\"]].duplicated().any()"
   ]
  },
  {
   "cell_type": "markdown",
   "metadata": {},
   "source": [
    "### Remove overlapping annotations"
   ]
  },
  {
   "cell_type": "code",
   "execution_count": 29,
   "metadata": {},
   "outputs": [],
   "source": [
    "# Training corpus"
   ]
  },
  {
   "cell_type": "code",
   "execution_count": 30,
   "metadata": {},
   "outputs": [
    {
     "name": "stderr",
     "output_type": "stream",
     "text": [
      "100%|██████████| 750/750 [00:21<00:00, 34.29it/s]"
     ]
    },
    {
     "name": "stdout",
     "output_type": "stream",
     "text": [
      "CPU times: user 21.9 s, sys: 51.9 ms, total: 21.9 s\n",
      "Wall time: 21.9 s\n"
     ]
    },
    {
     "name": "stderr",
     "output_type": "stream",
     "text": [
      "\n"
     ]
    }
   ],
   "source": [
    "%%time\n",
    "df_codes_train_ner_final = eliminate_overlap(df_ann=df_codes_train_ner)"
   ]
  },
  {
   "cell_type": "code",
   "execution_count": 31,
   "metadata": {},
   "outputs": [
    {
     "data": {
      "text/plain": [
       "(9605, 4)"
      ]
     },
     "execution_count": 31,
     "metadata": {},
     "output_type": "execute_result"
    }
   ],
   "source": [
    "df_codes_train_ner_final.shape"
   ]
  },
  {
   "cell_type": "code",
   "execution_count": 32,
   "metadata": {},
   "outputs": [],
   "source": [
    "# Development corpus"
   ]
  },
  {
   "cell_type": "code",
   "execution_count": 33,
   "metadata": {},
   "outputs": [
    {
     "name": "stderr",
     "output_type": "stream",
     "text": [
      "100%|██████████| 250/250 [00:04<00:00, 52.16it/s]"
     ]
    },
    {
     "name": "stdout",
     "output_type": "stream",
     "text": [
      "CPU times: user 4.73 s, sys: 84.1 ms, total: 4.82 s\n",
      "Wall time: 4.79 s\n"
     ]
    },
    {
     "name": "stderr",
     "output_type": "stream",
     "text": [
      "\n"
     ]
    }
   ],
   "source": [
    "%%time\n",
    "df_codes_dev_ner_final = eliminate_overlap(df_ann=df_codes_dev_ner)"
   ]
  },
  {
   "cell_type": "code",
   "execution_count": 34,
   "metadata": {},
   "outputs": [
    {
     "data": {
      "text/plain": [
       "(2623, 4)"
      ]
     },
     "execution_count": 34,
     "metadata": {},
     "output_type": "execute_result"
    }
   ],
   "source": [
    "df_codes_dev_ner_final.shape"
   ]
  },
  {
   "cell_type": "markdown",
   "metadata": {},
   "source": [
    "## Creation of annotated sequences\n",
    "\n",
    "We create the corpus used to fine-tune the transformer model on a NER task. In this way, we split the texts into sentences, and convert them into sequences of subtokens. Also, each generated subtoken is assigned a NER label in IOB-2 format."
   ]
  },
  {
   "cell_type": "code",
   "execution_count": 35,
   "metadata": {},
   "outputs": [],
   "source": [
    "# Sentence-Split information\n",
    "ss_corpus_path = \"../datasets/Cantemist-SSplit-text/\""
   ]
  },
  {
   "cell_type": "code",
   "execution_count": 36,
   "metadata": {},
   "outputs": [
    {
     "data": {
      "text/plain": [
       "LabelEncoder()"
      ]
     },
     "execution_count": 36,
     "metadata": {},
     "output_type": "execute_result"
    }
   ],
   "source": [
    "from sklearn.preprocessing import LabelEncoder\n",
    "\n",
    "lab_encoder = LabelEncoder()\n",
    "# IOB-2 format\n",
    "lab_encoder.fit([\"B\", \"I\", \"O\"])"
   ]
  },
  {
   "cell_type": "markdown",
   "metadata": {},
   "source": [
    "### Training corpus"
   ]
  },
  {
   "cell_type": "markdown",
   "metadata": {},
   "source": [
    "Only training texts with NER annotations are considered:"
   ]
  },
  {
   "cell_type": "code",
   "execution_count": 37,
   "metadata": {},
   "outputs": [
    {
     "data": {
      "text/plain": [
       "1"
      ]
     },
     "execution_count": 37,
     "metadata": {},
     "output_type": "execute_result"
    }
   ],
   "source": [
    "# Some train documents (texts) are not annotated \n",
    "len(set(df_text_train[\"doc_id\"]) - set(df_codes_train_ner_final[\"doc_id\"]))"
   ]
  },
  {
   "cell_type": "code",
   "execution_count": 38,
   "metadata": {},
   "outputs": [],
   "source": [
    "train_doc_list = sorted(set(df_codes_train_ner_final[\"doc_id\"]))"
   ]
  },
  {
   "cell_type": "code",
   "execution_count": 39,
   "metadata": {},
   "outputs": [
    {
     "data": {
      "text/plain": [
       "750"
      ]
     },
     "execution_count": 39,
     "metadata": {},
     "output_type": "execute_result"
    }
   ],
   "source": [
    "len(train_doc_list)"
   ]
  },
  {
   "cell_type": "code",
   "execution_count": 40,
   "metadata": {},
   "outputs": [],
   "source": [
    "# Sentence-Split data"
   ]
  },
  {
   "cell_type": "code",
   "execution_count": 41,
   "metadata": {},
   "outputs": [
    {
     "name": "stdout",
     "output_type": "stream",
     "text": [
      "CPU times: user 31.7 ms, sys: 4 ms, total: 35.7 ms\n",
      "Wall time: 35.5 ms\n"
     ]
    }
   ],
   "source": [
    "%%time\n",
    "ss_sub_corpus_path = ss_corpus_path + \"training/\"\n",
    "ss_files = [f for f in os.listdir(ss_sub_corpus_path) if os.path.isfile(ss_sub_corpus_path + f)]\n",
    "ss_dict_train = load_ss_files(ss_files, ss_sub_corpus_path)"
   ]
  },
  {
   "cell_type": "code",
   "execution_count": 42,
   "metadata": {},
   "outputs": [
    {
     "name": "stderr",
     "output_type": "stream",
     "text": [
      "100%|██████████| 750/750 [01:16<00:00,  9.86it/s]"
     ]
    },
    {
     "name": "stdout",
     "output_type": "stream",
     "text": [
      "CPU times: user 1min 16s, sys: 169 ms, total: 1min 16s\n",
      "Wall time: 1min 16s\n"
     ]
    },
    {
     "name": "stderr",
     "output_type": "stream",
     "text": [
      "\n"
     ]
    }
   ],
   "source": [
    "%%time\n",
    "train_ind, train_att, train_type, train_y, train_frag, train_start_end_frag, train_word_id = ss_create_input_data_ner(df_text=df_text_train, \n",
    "                                                  text_col=text_col, \n",
    "                                                  df_ann=df_codes_train_ner_final, doc_list=train_doc_list, ss_dict=ss_dict_train,\n",
    "                                                  tokenizer=tokenizer, lab_encoder=lab_encoder, seq_len=SEQ_LEN, \n",
    "                                                  ign_value=IGNORE_VALUE, strategy=ANN_STRATEGY, greedy=GREEDY)"
   ]
  },
  {
   "cell_type": "code",
   "execution_count": 43,
   "metadata": {},
   "outputs": [],
   "source": [
    "# Sanity check"
   ]
  },
  {
   "cell_type": "code",
   "execution_count": 44,
   "metadata": {},
   "outputs": [
    {
     "data": {
      "text/plain": [
       "(10619, 128)"
      ]
     },
     "execution_count": 44,
     "metadata": {},
     "output_type": "execute_result"
    }
   ],
   "source": [
    "train_ind.shape"
   ]
  },
  {
   "cell_type": "code",
   "execution_count": 45,
   "metadata": {},
   "outputs": [
    {
     "data": {
      "text/plain": [
       "(10619, 128)"
      ]
     },
     "execution_count": 45,
     "metadata": {},
     "output_type": "execute_result"
    }
   ],
   "source": [
    "train_att.shape"
   ]
  },
  {
   "cell_type": "code",
   "execution_count": 46,
   "metadata": {},
   "outputs": [
    {
     "data": {
      "text/plain": [
       "(10619, 128)"
      ]
     },
     "execution_count": 46,
     "metadata": {},
     "output_type": "execute_result"
    }
   ],
   "source": [
    "train_type.shape"
   ]
  },
  {
   "cell_type": "code",
   "execution_count": 47,
   "metadata": {
    "scrolled": true
   },
   "outputs": [
    {
     "data": {
      "text/plain": [
       "(10619, 128)"
      ]
     },
     "execution_count": 47,
     "metadata": {},
     "output_type": "execute_result"
    }
   ],
   "source": [
    "train_y.shape"
   ]
  },
  {
   "cell_type": "code",
   "execution_count": 48,
   "metadata": {},
   "outputs": [
    {
     "data": {
      "text/plain": [
       "750"
      ]
     },
     "execution_count": 48,
     "metadata": {},
     "output_type": "execute_result"
    }
   ],
   "source": [
    "len(train_frag)"
   ]
  },
  {
   "cell_type": "code",
   "execution_count": 49,
   "metadata": {},
   "outputs": [
    {
     "data": {
      "text/plain": [
       "10619"
      ]
     },
     "execution_count": 49,
     "metadata": {},
     "output_type": "execute_result"
    }
   ],
   "source": [
    "len(train_start_end_frag)"
   ]
  },
  {
   "cell_type": "code",
   "execution_count": 50,
   "metadata": {},
   "outputs": [
    {
     "data": {
      "text/plain": [
       "10619"
      ]
     },
     "execution_count": 50,
     "metadata": {},
     "output_type": "execute_result"
    }
   ],
   "source": [
    "len(train_word_id)"
   ]
  },
  {
   "cell_type": "code",
   "execution_count": 51,
   "metadata": {},
   "outputs": [
    {
     "data": {
      "text/plain": [
       "count    750.000000\n",
       "mean      14.158667\n",
       "std        4.858494\n",
       "min        4.000000\n",
       "25%       11.000000\n",
       "50%       14.000000\n",
       "75%       17.000000\n",
       "max       41.000000\n",
       "dtype: float64"
      ]
     },
     "execution_count": 51,
     "metadata": {},
     "output_type": "execute_result"
    }
   ],
   "source": [
    "# Check n_frag distribution across texts\n",
    "pd.Series(train_frag).describe()"
   ]
  },
  {
   "cell_type": "code",
   "execution_count": 52,
   "metadata": {},
   "outputs": [],
   "source": [
    "# Inspect a randomly selected text and its encoded version\n",
    "check_id = np.random.randint(low=0, high=len(train_doc_list), size=1)[0]"
   ]
  },
  {
   "cell_type": "code",
   "execution_count": 53,
   "metadata": {},
   "outputs": [
    {
     "data": {
      "text/plain": [
       "545"
      ]
     },
     "execution_count": 53,
     "metadata": {},
     "output_type": "execute_result"
    }
   ],
   "source": [
    "check_id"
   ]
  },
  {
   "cell_type": "code",
   "execution_count": 54,
   "metadata": {},
   "outputs": [
    {
     "data": {
      "text/plain": [
       "'cc_onco767'"
      ]
     },
     "execution_count": 54,
     "metadata": {},
     "output_type": "execute_result"
    }
   ],
   "source": [
    "train_doc_list[check_id]"
   ]
  },
  {
   "cell_type": "code",
   "execution_count": 55,
   "metadata": {
    "scrolled": true
   },
   "outputs": [
    {
     "data": {
      "text/plain": [
       "'Anamnesis\\nHistoria oncológica:\\nOctubre/2011: realización de ecografía abdominal por cólico nefrítico donde se observan metástasis hepáticas. Explica aumento durante los últimos 6 meses del flushing habitual, diarrea y pérdida de peso. Inicia estudio diagnóstico ambulatorio.\\n\\nExploración física\\nECOG 1. Índice de masa corporal (IMC) 30 mg/m2. Hallazgos destacables: hepatomegalia de 3 traveses y flushing en bipedestación.\\n\\nPruebas complementarias\\nEn el análisis sanguíneo no había hallazgos remarcables. Destaca en orina de 24 h una elevación de 5HIIA de 89,4 mg/24 h (valores de referencia < 8,2 mg/24 h) y cromogranina A de 6.110 mg/ml (valores de referencia < 134 ng/ml).\\nComo pruebas radiológicas, la TC mostraba una masa parahiliar izquierda de 18 mm e imágenes hepáticas hipodensas sugestivas de metástasis. En cuanto al Octreoscan®, únicamente captaban las lesiones hepáticas con expresión de receptores de la somatostatina.\\nLa biopsia hepática reveló la presencia de un tumor neuroendocrino bien diferenciado con positividad por cromogranina A y sinaptofisina, citoqueratina AE1, AE3. Con 3 mitosis y un Ki-67 del 8,2 %.\\nSe realizó una broncoscopia donde se apreció una reducción de la entrada del segmento posterior del lóbulo inferior izquierdo. La biopsia pulmonar fue positiva para un tumor neuroendocrino (carcinoide atípico) con positividad para cromogranina, sinaptofisina y CD56.\\nEl ecocardiograma no fue relevante y la PET-TC observó baja captación de las lesiones hepáticas, del tumor pulmonar y de las adenopatías.\\n\\nDiagnóstico\\nNos encontramos ante un tumor carcinoide atípico pulmonar bien diferenciado con metástasis hepáticas. Paciente clínicamente sintomático, debido a síndrome carcinoide con flushing y diarreas. Se realiza seguimiento compartido por parte de Oncología Médica y Endocrinología.\\n\\nTratamiento\\n» Octubre/2011: análogos de la somatostatina (lanreótido intramuscular 120 mg cada 28 días) mejorando la sintomatología (flushing y diarrea).\\n» Enero/2012: reaparición de síntomas cada 3 semanas por lo que se administra análogo cada 21 días.\\n» Febrero/2012: lobectomía inferior izquierda.\\n» Marzo/2012: embolización portal derecha. Se programa para hepatectomía, pero durante el acto quirúrgico se observa afectación vascular de las suprahepáticas y se decide que no es candidato a resección. Continúa tratamiento con análogos.\\n» Enero/2013: progresión hepática por TC. Inicia everolimus 10 mg/d + lanreótido cada 3 semanas.\\n» Octubre/2013: aumento de la sintomatología, por lo que se ajusta el análogo cada 14 días.\\n» Noviembre/2014: empeoramiento del síndrome carcinoide que invalida vida diaria. En comité multidisciplinar, se replantea para embolización, pero se decide cirugía extrema con hepatectomía derecha y resección vascular. Cirugía R0. AP: 17 metástasis de tumor neuroendocrino bien diferenciado, Ki-67 10 %. Después de la cirugía, desaparece la clínica carcinoide. Sigue con el análogo.\\n» Agosto/2015: reaparición de lesiones hepáticas irresecables, y adenopatías mediastínicas por lo que se reintroduce everolimus junto con análogo.\\n\\nEvolución\\nDesde agosto de 2015 hasta la actualidad, el paciente ha seguido tratamiento con everolimus y análogo de la somatostatina. En TC de valoración de respuesta de febrero/2018 se observa progresión hepática, por lo que se deriva para ensayo clínico con inmunoterapia.'"
      ]
     },
     "execution_count": 55,
     "metadata": {},
     "output_type": "execute_result"
    }
   ],
   "source": [
    "df_text_train[df_text_train[\"doc_id\"] == train_doc_list[check_id]][text_col].values[0]"
   ]
  },
  {
   "cell_type": "code",
   "execution_count": 56,
   "metadata": {},
   "outputs": [
    {
     "data": {
      "text/html": [
       "<div>\n",
       "<style scoped>\n",
       "    .dataframe tbody tr th:only-of-type {\n",
       "        vertical-align: middle;\n",
       "    }\n",
       "\n",
       "    .dataframe tbody tr th {\n",
       "        vertical-align: top;\n",
       "    }\n",
       "\n",
       "    .dataframe thead th {\n",
       "        text-align: right;\n",
       "    }\n",
       "</style>\n",
       "<table border=\"1\" class=\"dataframe\">\n",
       "  <thead>\n",
       "    <tr style=\"text-align: right;\">\n",
       "      <th></th>\n",
       "      <th>doc_id</th>\n",
       "      <th>text_ref</th>\n",
       "      <th>start</th>\n",
       "      <th>end</th>\n",
       "    </tr>\n",
       "  </thead>\n",
       "  <tbody>\n",
       "    <tr>\n",
       "      <th>3021</th>\n",
       "      <td>cc_onco767</td>\n",
       "      <td>metástasis</td>\n",
       "      <td>119</td>\n",
       "      <td>129</td>\n",
       "    </tr>\n",
       "    <tr>\n",
       "      <th>3022</th>\n",
       "      <td>cc_onco767</td>\n",
       "      <td>metástasis</td>\n",
       "      <td>803</td>\n",
       "      <td>813</td>\n",
       "    </tr>\n",
       "    <tr>\n",
       "      <th>3025</th>\n",
       "      <td>cc_onco767</td>\n",
       "      <td>lesiones hepáticas</td>\n",
       "      <td>865</td>\n",
       "      <td>883</td>\n",
       "    </tr>\n",
       "    <tr>\n",
       "      <th>3026</th>\n",
       "      <td>cc_onco767</td>\n",
       "      <td>tumor neuroendocrino bien diferenciado</td>\n",
       "      <td>979</td>\n",
       "      <td>1017</td>\n",
       "    </tr>\n",
       "    <tr>\n",
       "      <th>3024</th>\n",
       "      <td>cc_onco767</td>\n",
       "      <td>tumor neuroendocrino</td>\n",
       "      <td>1298</td>\n",
       "      <td>1318</td>\n",
       "    </tr>\n",
       "    <tr>\n",
       "      <th>3027</th>\n",
       "      <td>cc_onco767</td>\n",
       "      <td>carcinoide atípico</td>\n",
       "      <td>1320</td>\n",
       "      <td>1338</td>\n",
       "    </tr>\n",
       "    <tr>\n",
       "      <th>3028</th>\n",
       "      <td>cc_onco767</td>\n",
       "      <td>lesiones hepáticas</td>\n",
       "      <td>1474</td>\n",
       "      <td>1492</td>\n",
       "    </tr>\n",
       "    <tr>\n",
       "      <th>3023</th>\n",
       "      <td>cc_onco767</td>\n",
       "      <td>tumor</td>\n",
       "      <td>1498</td>\n",
       "      <td>1503</td>\n",
       "    </tr>\n",
       "    <tr>\n",
       "      <th>3029</th>\n",
       "      <td>cc_onco767</td>\n",
       "      <td>tumor carcinoide atípico pulmonar bien diferen...</td>\n",
       "      <td>1572</td>\n",
       "      <td>1638</td>\n",
       "    </tr>\n",
       "    <tr>\n",
       "      <th>3030</th>\n",
       "      <td>cc_onco767</td>\n",
       "      <td>carcinoide</td>\n",
       "      <td>1703</td>\n",
       "      <td>1713</td>\n",
       "    </tr>\n",
       "    <tr>\n",
       "      <th>3031</th>\n",
       "      <td>cc_onco767</td>\n",
       "      <td>progresión hepática</td>\n",
       "      <td>2376</td>\n",
       "      <td>2395</td>\n",
       "    </tr>\n",
       "    <tr>\n",
       "      <th>3032</th>\n",
       "      <td>cc_onco767</td>\n",
       "      <td>carcinoide</td>\n",
       "      <td>2596</td>\n",
       "      <td>2606</td>\n",
       "    </tr>\n",
       "    <tr>\n",
       "      <th>3033</th>\n",
       "      <td>cc_onco767</td>\n",
       "      <td>metástasis de tumor neuroendocrino bien difere...</td>\n",
       "      <td>2790</td>\n",
       "      <td>2842</td>\n",
       "    </tr>\n",
       "    <tr>\n",
       "      <th>3034</th>\n",
       "      <td>cc_onco767</td>\n",
       "      <td>carcinoide</td>\n",
       "      <td>2901</td>\n",
       "      <td>2911</td>\n",
       "    </tr>\n",
       "    <tr>\n",
       "      <th>3035</th>\n",
       "      <td>cc_onco767</td>\n",
       "      <td>lesiones hepáticas</td>\n",
       "      <td>2965</td>\n",
       "      <td>2983</td>\n",
       "    </tr>\n",
       "    <tr>\n",
       "      <th>3036</th>\n",
       "      <td>cc_onco767</td>\n",
       "      <td>progresión hepática</td>\n",
       "      <td>3276</td>\n",
       "      <td>3295</td>\n",
       "    </tr>\n",
       "  </tbody>\n",
       "</table>\n",
       "</div>"
      ],
      "text/plain": [
       "          doc_id                                           text_ref  start  \\\n",
       "3021  cc_onco767                                         metástasis    119   \n",
       "3022  cc_onco767                                         metástasis    803   \n",
       "3025  cc_onco767                                 lesiones hepáticas    865   \n",
       "3026  cc_onco767             tumor neuroendocrino bien diferenciado    979   \n",
       "3024  cc_onco767                               tumor neuroendocrino   1298   \n",
       "3027  cc_onco767                                 carcinoide atípico   1320   \n",
       "3028  cc_onco767                                 lesiones hepáticas   1474   \n",
       "3023  cc_onco767                                              tumor   1498   \n",
       "3029  cc_onco767  tumor carcinoide atípico pulmonar bien diferen...   1572   \n",
       "3030  cc_onco767                                         carcinoide   1703   \n",
       "3031  cc_onco767                                progresión hepática   2376   \n",
       "3032  cc_onco767                                         carcinoide   2596   \n",
       "3033  cc_onco767  metástasis de tumor neuroendocrino bien difere...   2790   \n",
       "3034  cc_onco767                                         carcinoide   2901   \n",
       "3035  cc_onco767                                 lesiones hepáticas   2965   \n",
       "3036  cc_onco767                                progresión hepática   3276   \n",
       "\n",
       "       end  \n",
       "3021   129  \n",
       "3022   813  \n",
       "3025   883  \n",
       "3026  1017  \n",
       "3024  1318  \n",
       "3027  1338  \n",
       "3028  1492  \n",
       "3023  1503  \n",
       "3029  1638  \n",
       "3030  1713  \n",
       "3031  2395  \n",
       "3032  2606  \n",
       "3033  2842  \n",
       "3034  2911  \n",
       "3035  2983  \n",
       "3036  3295  "
      ]
     },
     "execution_count": 56,
     "metadata": {},
     "output_type": "execute_result"
    }
   ],
   "source": [
    "df_codes_train_ner_final[df_codes_train_ner_final[\"doc_id\"] == train_doc_list[check_id]]"
   ]
  },
  {
   "cell_type": "code",
   "execution_count": 57,
   "metadata": {},
   "outputs": [],
   "source": [
    "check_id_frag = sum(train_frag[:check_id])"
   ]
  },
  {
   "cell_type": "code",
   "execution_count": 58,
   "metadata": {},
   "outputs": [
    {
     "name": "stdout",
     "output_type": "stream",
     "text": [
      "[('Ana', (0, 9), 0, 'O'), ('##mne', (0, 9), 0, 'O'), ('##sis', (0, 9), 0, 'O'), ('Historia', (10, 18), 1, 'O'), ('on', (19, 29), 2, 'O'), ('##col', (19, 29), 2, 'O'), ('##ógica', (19, 29), 2, 'O'), (':', (29, 30), 3, 'O'), ('Oct', (31, 38), 4, 'O'), ('##ub', (31, 38), 4, 'O'), ('##re', (31, 38), 4, 'O'), ('/', (38, 39), 5, 'O'), ('2011', (39, 43), 6, 'O'), (':', (43, 44), 7, 'O'), ('realización', (45, 56), 8, 'O'), ('de', (57, 59), 9, 'O'), ('e', (60, 69), 10, 'O'), ('##co', (60, 69), 10, 'O'), ('##grafía', (60, 69), 10, 'O'), ('ab', (70, 79), 11, 'O'), ('##dom', (70, 79), 11, 'O'), ('##inal', (70, 79), 11, 'O'), ('por', (80, 83), 12, 'O'), ('có', (84, 90), 13, 'O'), ('##lico', (84, 90), 13, 'O'), ('nef', (91, 100), 14, 'O'), ('##rí', (91, 100), 14, 'O'), ('##tico', (91, 100), 14, 'O'), ('donde', (101, 106), 15, 'O'), ('se', (107, 109), 16, 'O'), ('observa', (110, 118), 17, 'O'), ('##n', (110, 118), 17, 'O'), ('met', (119, 129), 18, 'B'), ('##ást', (119, 129), 18, 'B'), ('##asis', (119, 129), 18, 'B'), ('hep', (130, 139), 19, 'O'), ('##áticas', (130, 139), 19, 'O'), ('.', (139, 140), 20, 'O'), ('Ex', (141, 148), 21, 'O'), ('##pli', (141, 148), 21, 'O'), ('##ca', (141, 148), 21, 'O'), ('aumento', (149, 156), 22, 'O'), ('durante', (157, 164), 23, 'O'), ('los', (165, 168), 24, 'O'), ('últimos', (169, 176), 25, 'O'), ('6', (177, 178), 26, 'O'), ('meses', (179, 184), 27, 'O'), ('del', (185, 188), 28, 'O'), ('fl', (189, 197), 29, 'O'), ('##ush', (189, 197), 29, 'O'), ('##ing', (189, 197), 29, 'O'), ('habitual', (198, 206), 30, 'O'), (',', (206, 207), 31, 'O'), ('dia', (208, 215), 32, 'O'), ('##rrea', (208, 215), 32, 'O'), ('y', (216, 217), 33, 'O'), ('pérdida', (218, 225), 34, 'O'), ('de', (226, 228), 35, 'O'), ('peso', (229, 233), 36, 'O'), ('.', (233, 234), 37, 'O'), ('Ini', (235, 241), 38, 'O'), ('##cia', (235, 241), 38, 'O'), ('estudio', (242, 249), 39, 'O'), ('dia', (250, 261), 40, 'O'), ('##gnóstico', (250, 261), 40, 'O'), ('amb', (262, 273), 41, 'O'), ('##ulator', (262, 273), 41, 'O'), ('##io', (262, 273), 41, 'O'), ('.', (273, 274), 42, 'O'), ('Ex', (276, 287), 43, 'O'), ('##plo', (276, 287), 43, 'O'), ('##ración', (276, 287), 43, 'O'), ('física', (288, 294), 44, 'O'), ('EC', (295, 299), 45, 'O'), ('##O', (295, 299), 45, 'O'), ('##G', (295, 299), 45, 'O'), ('1', (300, 301), 46, 'O'), ('.', (301, 302), 47, 'O'), ('Í', (303, 309), 48, 'O'), ('##ndi', (303, 309), 48, 'O'), ('##ce', (303, 309), 48, 'O'), ('de', (310, 312), 49, 'O'), ('masa', (313, 317), 50, 'O'), ('corporal', (318, 326), 51, 'O'), ('(', (327, 328), 52, 'O'), ('IM', (328, 331), 53, 'O'), ('##C', (328, 331), 53, 'O'), (')', (331, 332), 54, 'O'), ('30', (333, 335), 55, 'O'), ('mg', (336, 338), 56, 'O'), ('/', (338, 339), 57, 'O'), ('m2', (339, 341), 58, 'O'), ('.', (341, 342), 59, 'O'), ('Hall', (343, 352), 60, 'O'), ('##azgo', (343, 352), 60, 'O'), ('##s', (343, 352), 60, 'O'), ('destaca', (353, 364), 61, 'O'), ('##bles', (353, 364), 61, 'O'), (':', (364, 365), 62, 'O'), ('hep', (366, 379), 63, 'O'), ('##ato', (366, 379), 63, 'O'), ('##me', (366, 379), 63, 'O'), ('##gali', (366, 379), 63, 'O'), ('##a', (366, 379), 63, 'O'), ('de', (380, 382), 64, 'O'), ('3', (383, 384), 65, 'O'), ('tra', (385, 393), 66, 'O'), ('##ves', (385, 393), 66, 'O'), ('##es', (385, 393), 66, 'O'), ('y', (394, 395), 67, 'O'), ('fl', (396, 404), 68, 'O'), ('##ush', (396, 404), 68, 'O'), ('##ing', (396, 404), 68, 'O'), ('en', (405, 407), 69, 'O'), ('bi', (408, 421), 70, 'O'), ('##ped', (408, 421), 70, 'O'), ('##esta', (408, 421), 70, 'O'), ('##ción', (408, 421), 70, 'O'), ('.', (421, 422), 71, 'O')]\n",
      "\n",
      "\n",
      "[('Pr', (424, 431), 72, 'O'), ('##ue', (424, 431), 72, 'O'), ('##bas', (424, 431), 72, 'O'), ('complement', (432, 447), 73, 'O'), ('##arias', (432, 447), 73, 'O'), ('En', (448, 450), 74, 'O'), ('el', (451, 453), 75, 'O'), ('análisis', (454, 462), 76, 'O'), ('sang', (463, 472), 77, 'O'), ('##u', (463, 472), 77, 'O'), ('##íne', (463, 472), 77, 'O'), ('##o', (463, 472), 77, 'O'), ('no', (473, 475), 78, 'O'), ('había', (476, 481), 79, 'O'), ('hall', (482, 491), 80, 'O'), ('##azgo', (482, 491), 80, 'O'), ('##s', (482, 491), 80, 'O'), ('re', (492, 503), 81, 'O'), ('##marca', (492, 503), 81, 'O'), ('##bles', (492, 503), 81, 'O'), ('.', (503, 504), 82, 'O'), ('Des', (505, 512), 83, 'O'), ('##taca', (505, 512), 83, 'O'), ('en', (513, 515), 84, 'O'), ('ori', (516, 521), 85, 'O'), ('##na', (516, 521), 85, 'O'), ('de', (522, 524), 86, 'O'), ('24', (525, 527), 87, 'O'), ('h', (528, 529), 88, 'O'), ('una', (530, 533), 89, 'O'), ('elev', (534, 543), 90, 'O'), ('##ación', (534, 543), 90, 'O'), ('de', (544, 546), 91, 'O'), ('5', (547, 552), 92, 'O'), ('##HI', (547, 552), 92, 'O'), ('##IA', (547, 552), 92, 'O'), ('de', (553, 555), 93, 'O'), ('89', (556, 558), 94, 'O'), (',', (558, 559), 95, 'O'), ('4', (559, 560), 96, 'O'), ('mg', (561, 563), 97, 'O'), ('/', (563, 564), 98, 'O'), ('24', (564, 566), 99, 'O'), ('h', (567, 568), 100, 'O'), ('(', (569, 570), 101, 'O'), ('valores', (570, 577), 102, 'O'), ('de', (578, 580), 103, 'O'), ('referencia', (581, 591), 104, 'O'), ('<', (592, 593), 105, 'O'), ('8', (594, 595), 106, 'O'), (',', (595, 596), 107, 'O'), ('2', (596, 597), 108, 'O'), ('mg', (598, 600), 109, 'O'), ('/', (600, 601), 110, 'O'), ('24', (601, 603), 111, 'O'), ('h', (604, 605), 112, 'O'), (')', (605, 606), 113, 'O'), ('y', (607, 608), 114, 'O'), ('c', (609, 621), 115, 'O'), ('##romo', (609, 621), 115, 'O'), ('##gra', (609, 621), 115, 'O'), ('##nina', (609, 621), 115, 'O'), ('A', (622, 623), 116, 'O'), ('de', (624, 626), 117, 'O'), ('6', (627, 628), 118, 'O'), ('.', (628, 629), 119, 'O'), ('110', (629, 632), 120, 'O'), ('mg', (633, 635), 121, 'O'), ('/', (635, 636), 122, 'O'), ('ml', (636, 638), 123, 'O'), ('(', (639, 640), 124, 'O'), ('valores', (640, 647), 125, 'O'), ('de', (648, 650), 126, 'O'), ('referencia', (651, 661), 127, 'O'), ('<', (662, 663), 128, 'O'), ('134', (664, 667), 129, 'O'), ('ng', (668, 670), 130, 'O'), ('/', (670, 671), 131, 'O'), ('ml', (671, 673), 132, 'O'), (')', (673, 674), 133, 'O'), ('.', (674, 675), 134, 'O'), ('Como', (676, 680), 135, 'O'), ('pruebas', (681, 688), 136, 'O'), ('radio', (689, 701), 137, 'O'), ('##lógica', (689, 701), 137, 'O'), ('##s', (689, 701), 137, 'O'), (',', (701, 702), 138, 'O'), ('la', (703, 705), 139, 'O'), ('TC', (706, 708), 140, 'O'), ('mostra', (709, 717), 141, 'O'), ('##ba', (709, 717), 141, 'O'), ('una', (718, 721), 142, 'O'), ('masa', (722, 726), 143, 'O'), ('para', (727, 737), 144, 'O'), ('##hil', (727, 737), 144, 'O'), ('##iar', (727, 737), 144, 'O'), ('izquierda', (738, 747), 145, 'O'), ('de', (748, 750), 146, 'O'), ('18', (751, 753), 147, 'O'), ('mm', (754, 756), 148, 'O'), ('e', (757, 758), 149, 'O'), ('imágenes', (759, 767), 150, 'O'), ('hep', (768, 777), 151, 'O'), ('##áticas', (768, 777), 151, 'O'), ('hip', (778, 788), 152, 'O'), ('##oden', (778, 788), 152, 'O'), ('##sas', (778, 788), 152, 'O'), ('su', (789, 799), 153, 'O'), ('##gest', (789, 799), 153, 'O'), ('##ivas', (789, 799), 153, 'O'), ('de', (800, 802), 154, 'O'), ('met', (803, 813), 155, 'B'), ('##ást', (803, 813), 155, 'B'), ('##asis', (803, 813), 155, 'B'), ('.', (813, 814), 156, 'O')]\n",
      "\n",
      "\n",
      "[('En', (815, 817), 157, 'O'), ('cuanto', (818, 824), 158, 'O'), ('al', (825, 827), 159, 'O'), ('Oct', (828, 839), 160, 'O'), ('##reo', (828, 839), 160, 'O'), ('##sca', (828, 839), 160, 'O'), ('##n', (828, 839), 160, 'O'), ('##®', (828, 839), 160, 'O'), (',', (839, 840), 161, 'O'), ('únicamente', (841, 851), 162, 'O'), ('cap', (852, 860), 163, 'O'), ('##taba', (852, 860), 163, 'O'), ('##n', (852, 860), 163, 'O'), ('las', (861, 864), 164, 'O'), ('les', (865, 873), 165, 'B'), ('##iones', (865, 873), 165, 'B'), ('hep', (874, 883), 166, 'I'), ('##áticas', (874, 883), 166, 'I'), ('con', (884, 887), 167, 'O'), ('expresión', (888, 897), 168, 'O'), ('de', (898, 900), 169, 'O'), ('receptor', (901, 911), 170, 'O'), ('##es', (901, 911), 170, 'O'), ('de', (912, 914), 171, 'O'), ('la', (915, 917), 172, 'O'), ('som', (918, 931), 173, 'O'), ('##atos', (918, 931), 173, 'O'), ('##tati', (918, 931), 173, 'O'), ('##na', (918, 931), 173, 'O'), ('.', (931, 932), 174, 'O'), ('La', (933, 935), 175, 'O'), ('bio', (936, 943), 176, 'O'), ('##psia', (936, 943), 176, 'O'), ('hep', (944, 952), 177, 'O'), ('##ática', (944, 952), 177, 'O'), ('rev', (953, 959), 178, 'O'), ('##el', (953, 959), 178, 'O'), ('##ó', (953, 959), 178, 'O'), ('la', (960, 962), 179, 'O'), ('presencia', (963, 972), 180, 'O'), ('de', (973, 975), 181, 'O'), ('un', (976, 978), 182, 'O'), ('tumor', (979, 984), 183, 'B'), ('neu', (985, 999), 184, 'I'), ('##roen', (985, 999), 184, 'I'), ('##do', (985, 999), 184, 'I'), ('##cri', (985, 999), 184, 'I'), ('##no', (985, 999), 184, 'I'), ('bien', (1000, 1004), 185, 'I'), ('diferencia', (1005, 1017), 186, 'I'), ('##do', (1005, 1017), 186, 'I'), ('con', (1018, 1021), 187, 'O'), ('positiv', (1022, 1033), 188, 'O'), ('##idad', (1022, 1033), 188, 'O'), ('por', (1034, 1037), 189, 'O'), ('c', (1038, 1050), 190, 'O'), ('##romo', (1038, 1050), 190, 'O'), ('##gra', (1038, 1050), 190, 'O'), ('##nina', (1038, 1050), 190, 'O'), ('A', (1051, 1052), 191, 'O'), ('y', (1053, 1054), 192, 'O'), ('sina', (1055, 1068), 193, 'O'), ('##pt', (1055, 1068), 193, 'O'), ('##of', (1055, 1068), 193, 'O'), ('##isin', (1055, 1068), 193, 'O'), ('##a', (1055, 1068), 193, 'O'), (',', (1068, 1069), 194, 'O'), ('cit', (1070, 1083), 195, 'O'), ('##oq', (1070, 1083), 195, 'O'), ('##uera', (1070, 1083), 195, 'O'), ('##tina', (1070, 1083), 195, 'O'), ('AE', (1084, 1087), 196, 'O'), ('##1', (1084, 1087), 196, 'O'), (',', (1087, 1088), 197, 'O'), ('AE', (1089, 1092), 198, 'O'), ('##3', (1089, 1092), 198, 'O'), ('.', (1092, 1093), 199, 'O'), ('Con', (1094, 1097), 200, 'O'), ('3', (1098, 1099), 201, 'O'), ('mito', (1100, 1107), 202, 'O'), ('##sis', (1100, 1107), 202, 'O'), ('y', (1108, 1109), 203, 'O'), ('un', (1110, 1112), 204, 'O'), ('Ki', (1113, 1115), 205, 'O'), ('-', (1115, 1116), 206, 'O'), ('67', (1116, 1118), 207, 'O'), ('del', (1119, 1122), 208, 'O'), ('8', (1123, 1124), 209, 'O'), (',', (1124, 1125), 210, 'O'), ('2', (1125, 1126), 211, 'O'), ('%', (1127, 1128), 212, 'O'), ('.', (1128, 1129), 213, 'O'), ('Se', (1130, 1132), 214, 'O'), ('realizó', (1133, 1140), 215, 'O'), ('una', (1141, 1144), 216, 'O'), ('bron', (1145, 1157), 217, 'O'), ('##cos', (1145, 1157), 217, 'O'), ('##co', (1145, 1157), 217, 'O'), ('##pia', (1145, 1157), 217, 'O'), ('donde', (1158, 1163), 218, 'O'), ('se', (1164, 1166), 219, 'O'), ('apre', (1167, 1174), 220, 'O'), ('##ció', (1167, 1174), 220, 'O'), ('una', (1175, 1178), 221, 'O'), ('red', (1179, 1188), 222, 'O'), ('##ucción', (1179, 1188), 222, 'O'), ('de', (1189, 1191), 223, 'O'), ('la', (1192, 1194), 224, 'O'), ('entrada', (1195, 1202), 225, 'O'), ('del', (1203, 1206), 226, 'O'), ('segmento', (1207, 1215), 227, 'O'), ('posterior', (1216, 1225), 228, 'O'), ('del', (1226, 1229), 229, 'O'), ('l', (1230, 1236), 230, 'O'), ('##ób', (1230, 1236), 230, 'O'), ('##ulo', (1230, 1236), 230, 'O'), ('inferior', (1237, 1245), 231, 'O'), ('izquierdo', (1246, 1255), 232, 'O'), ('.', (1255, 1256), 233, 'O')]\n",
      "\n",
      "\n",
      "[('La', (1257, 1259), 234, 'O'), ('bio', (1260, 1267), 235, 'O'), ('##psia', (1260, 1267), 235, 'O'), ('pu', (1268, 1276), 236, 'O'), ('##lm', (1268, 1276), 236, 'O'), ('##onar', (1268, 1276), 236, 'O'), ('fue', (1277, 1280), 237, 'O'), ('positiva', (1281, 1289), 238, 'O'), ('para', (1290, 1294), 239, 'O'), ('un', (1295, 1297), 240, 'O'), ('tumor', (1298, 1303), 241, 'B'), ('neu', (1304, 1318), 242, 'I'), ('##roen', (1304, 1318), 242, 'I'), ('##do', (1304, 1318), 242, 'I'), ('##cri', (1304, 1318), 242, 'I'), ('##no', (1304, 1318), 242, 'I'), ('(', (1319, 1320), 243, 'O'), ('car', (1320, 1330), 244, 'B'), ('##cino', (1320, 1330), 244, 'B'), ('##ide', (1320, 1330), 244, 'B'), ('at', (1331, 1338), 245, 'I'), ('##í', (1331, 1338), 245, 'I'), ('##pico', (1331, 1338), 245, 'I'), (')', (1338, 1339), 246, 'O'), ('con', (1340, 1343), 247, 'O'), ('positiv', (1344, 1355), 248, 'O'), ('##idad', (1344, 1355), 248, 'O'), ('para', (1356, 1360), 249, 'O'), ('c', (1361, 1373), 250, 'O'), ('##romo', (1361, 1373), 250, 'O'), ('##gra', (1361, 1373), 250, 'O'), ('##nina', (1361, 1373), 250, 'O'), (',', (1373, 1374), 251, 'O'), ('sina', (1375, 1388), 252, 'O'), ('##pt', (1375, 1388), 252, 'O'), ('##of', (1375, 1388), 252, 'O'), ('##isin', (1375, 1388), 252, 'O'), ('##a', (1375, 1388), 252, 'O'), ('y', (1389, 1390), 253, 'O'), ('CD', (1391, 1395), 254, 'O'), ('##5', (1391, 1395), 254, 'O'), ('##6', (1391, 1395), 254, 'O'), ('.', (1395, 1396), 255, 'O'), ('El', (1397, 1399), 256, 'O'), ('e', (1400, 1414), 257, 'O'), ('##co', (1400, 1414), 257, 'O'), ('##card', (1400, 1414), 257, 'O'), ('##io', (1400, 1414), 257, 'O'), ('##grama', (1400, 1414), 257, 'O'), ('no', (1415, 1417), 258, 'O'), ('fue', (1418, 1421), 259, 'O'), ('relevante', (1422, 1431), 260, 'O'), ('y', (1432, 1433), 261, 'O'), ('la', (1434, 1436), 262, 'O'), ('PE', (1437, 1440), 263, 'O'), ('##T', (1437, 1440), 263, 'O'), ('-', (1440, 1441), 264, 'O'), ('TC', (1441, 1443), 265, 'O'), ('ob', (1444, 1451), 266, 'O'), ('##ser', (1444, 1451), 266, 'O'), ('##vó', (1444, 1451), 266, 'O'), ('baja', (1452, 1456), 267, 'O'), ('cap', (1457, 1466), 268, 'O'), ('##tación', (1457, 1466), 268, 'O'), ('de', (1467, 1469), 269, 'O'), ('las', (1470, 1473), 270, 'O'), ('les', (1474, 1482), 271, 'B'), ('##iones', (1474, 1482), 271, 'B'), ('hep', (1483, 1492), 272, 'I'), ('##áticas', (1483, 1492), 272, 'I'), (',', (1492, 1493), 273, 'O'), ('del', (1494, 1497), 274, 'O'), ('tumor', (1498, 1503), 275, 'B'), ('pu', (1504, 1512), 276, 'O'), ('##lm', (1504, 1512), 276, 'O'), ('##onar', (1504, 1512), 276, 'O'), ('y', (1513, 1514), 277, 'O'), ('de', (1515, 1517), 278, 'O'), ('las', (1518, 1521), 279, 'O'), ('ad', (1522, 1533), 280, 'O'), ('##eno', (1522, 1533), 280, 'O'), ('##pat', (1522, 1533), 280, 'O'), ('##ías', (1522, 1533), 280, 'O'), ('.', (1533, 1534), 281, 'O'), ('Dia', (1536, 1547), 282, 'O'), ('##gnóstico', (1536, 1547), 282, 'O'), ('Nos', (1548, 1551), 283, 'O'), ('encontram', (1552, 1563), 284, 'O'), ('##os', (1552, 1563), 284, 'O'), ('ante', (1564, 1568), 285, 'O'), ('un', (1569, 1571), 286, 'O'), ('tumor', (1572, 1577), 287, 'B'), ('car', (1578, 1588), 288, 'I'), ('##cino', (1578, 1588), 288, 'I'), ('##ide', (1578, 1588), 288, 'I'), ('at', (1589, 1596), 289, 'I'), ('##í', (1589, 1596), 289, 'I'), ('##pico', (1589, 1596), 289, 'I'), ('pu', (1597, 1605), 290, 'I'), ('##lm', (1597, 1605), 290, 'I'), ('##onar', (1597, 1605), 290, 'I'), ('bien', (1606, 1610), 291, 'I'), ('diferencia', (1611, 1623), 292, 'I'), ('##do', (1611, 1623), 292, 'I'), ('con', (1624, 1627), 293, 'I'), ('met', (1628, 1638), 294, 'I'), ('##ást', (1628, 1638), 294, 'I'), ('##asis', (1628, 1638), 294, 'I'), ('hep', (1639, 1648), 295, 'O'), ('##áticas', (1639, 1648), 295, 'O'), ('.', (1648, 1649), 296, 'O')]\n",
      "\n",
      "\n",
      "[('Pac', (1650, 1658), 297, 'O'), ('##iente', (1650, 1658), 297, 'O'), ('clínica', (1659, 1671), 298, 'O'), ('##mente', (1659, 1671), 298, 'O'), ('sin', (1672, 1683), 299, 'O'), ('##tom', (1672, 1683), 299, 'O'), ('##ático', (1672, 1683), 299, 'O'), (',', (1683, 1684), 300, 'O'), ('debido', (1685, 1691), 301, 'O'), ('a', (1692, 1693), 302, 'O'), ('síndrome', (1694, 1702), 303, 'O'), ('car', (1703, 1713), 304, 'B'), ('##cino', (1703, 1713), 304, 'B'), ('##ide', (1703, 1713), 304, 'B'), ('con', (1714, 1717), 305, 'O'), ('fl', (1718, 1726), 306, 'O'), ('##ush', (1718, 1726), 306, 'O'), ('##ing', (1718, 1726), 306, 'O'), ('y', (1727, 1728), 307, 'O'), ('dia', (1729, 1737), 308, 'O'), ('##rrea', (1729, 1737), 308, 'O'), ('##s', (1729, 1737), 308, 'O'), ('.', (1737, 1738), 309, 'O'), ('Se', (1739, 1741), 310, 'O'), ('realiza', (1742, 1749), 311, 'O'), ('seg', (1750, 1761), 312, 'O'), ('##ui', (1750, 1761), 312, 'O'), ('##miento', (1750, 1761), 312, 'O'), ('com', (1762, 1772), 313, 'O'), ('##parti', (1762, 1772), 313, 'O'), ('##do', (1762, 1772), 313, 'O'), ('por', (1773, 1776), 314, 'O'), ('parte', (1777, 1782), 315, 'O'), ('de', (1783, 1785), 316, 'O'), ('On', (1786, 1795), 317, 'O'), ('##colo', (1786, 1795), 317, 'O'), ('##gía', (1786, 1795), 317, 'O'), ('M', (1796, 1802), 318, 'O'), ('##éd', (1796, 1802), 318, 'O'), ('##ica', (1796, 1802), 318, 'O'), ('y', (1803, 1804), 319, 'O'), ('End', (1805, 1819), 320, 'O'), ('##oc', (1805, 1819), 320, 'O'), ('##rino', (1805, 1819), 320, 'O'), ('##logía', (1805, 1819), 320, 'O'), ('.', (1819, 1820), 321, 'O'), ('Trata', (1822, 1833), 322, 'O'), ('##miento', (1822, 1833), 322, 'O'), ('»', (1834, 1835), 323, 'O'), ('Oct', (1836, 1843), 324, 'O'), ('##ub', (1836, 1843), 324, 'O'), ('##re', (1836, 1843), 324, 'O'), ('/', (1843, 1844), 325, 'O'), ('2011', (1844, 1848), 326, 'O'), (':', (1848, 1849), 327, 'O'), ('an', (1850, 1858), 328, 'O'), ('##álogo', (1850, 1858), 328, 'O'), ('##s', (1850, 1858), 328, 'O'), ('de', (1859, 1861), 329, 'O'), ('la', (1862, 1864), 330, 'O'), ('som', (1865, 1878), 331, 'O'), ('##atos', (1865, 1878), 331, 'O'), ('##tati', (1865, 1878), 331, 'O'), ('##na', (1865, 1878), 331, 'O'), ('(', (1879, 1880), 332, 'O'), ('lan', (1880, 1890), 333, 'O'), ('##re', (1880, 1890), 333, 'O'), ('##ót', (1880, 1890), 333, 'O'), ('##ido', (1880, 1890), 333, 'O'), ('intra', (1891, 1904), 334, 'O'), ('##mus', (1891, 1904), 334, 'O'), ('##cular', (1891, 1904), 334, 'O'), ('120', (1905, 1908), 335, 'O'), ('mg', (1909, 1911), 336, 'O'), ('cada', (1912, 1916), 337, 'O'), ('28', (1917, 1919), 338, 'O'), ('días', (1920, 1924), 339, 'O'), (')', (1924, 1925), 340, 'O'), ('mejor', (1926, 1935), 341, 'O'), ('##ando', (1926, 1935), 341, 'O'), ('la', (1936, 1938), 342, 'O'), ('sin', (1939, 1953), 343, 'O'), ('##toma', (1939, 1953), 343, 'O'), ('##tol', (1939, 1953), 343, 'O'), ('##ogía', (1939, 1953), 343, 'O'), ('(', (1954, 1955), 344, 'O'), ('fl', (1955, 1963), 345, 'O'), ('##ush', (1955, 1963), 345, 'O'), ('##ing', (1955, 1963), 345, 'O'), ('y', (1964, 1965), 346, 'O'), ('dia', (1966, 1973), 347, 'O'), ('##rrea', (1966, 1973), 347, 'O'), (')', (1973, 1974), 348, 'O'), ('.', (1974, 1975), 349, 'O'), ('»', (1976, 1977), 350, 'O'), ('Enero', (1978, 1983), 351, 'O'), ('/', (1983, 1984), 352, 'O'), ('2012', (1984, 1988), 353, 'O'), (':', (1988, 1989), 354, 'O'), ('re', (1990, 2001), 355, 'O'), ('##apa', (1990, 2001), 355, 'O'), ('##rici', (1990, 2001), 355, 'O'), ('##ón', (1990, 2001), 355, 'O'), ('de', (2002, 2004), 356, 'O'), ('sí', (2005, 2013), 357, 'O'), ('##nto', (2005, 2013), 357, 'O'), ('##mas', (2005, 2013), 357, 'O'), ('cada', (2014, 2018), 358, 'O'), ('3', (2019, 2020), 359, 'O'), ('semanas', (2021, 2028), 360, 'O'), ('por', (2029, 2032), 361, 'O'), ('lo', (2033, 2035), 362, 'O'), ('que', (2036, 2039), 363, 'O'), ('se', (2040, 2042), 364, 'O'), ('ad', (2043, 2053), 365, 'O'), ('##mini', (2043, 2053), 365, 'O'), ('##stra', (2043, 2053), 365, 'O'), ('an', (2054, 2061), 366, 'O'), ('##álogo', (2054, 2061), 366, 'O'), ('cada', (2062, 2066), 367, 'O'), ('21', (2067, 2069), 368, 'O'), ('días', (2070, 2074), 369, 'O'), ('.', (2074, 2075), 370, 'O')]\n",
      "\n",
      "\n",
      "[('»', (2076, 2077), 371, 'O'), ('Feb', (2078, 2085), 372, 'O'), ('##rero', (2078, 2085), 372, 'O'), ('/', (2085, 2086), 373, 'O'), ('2012', (2086, 2090), 374, 'O'), (':', (2090, 2091), 375, 'O'), ('lo', (2092, 2102), 376, 'O'), ('##bec', (2092, 2102), 376, 'O'), ('##tom', (2092, 2102), 376, 'O'), ('##ía', (2092, 2102), 376, 'O'), ('inferior', (2103, 2111), 377, 'O'), ('izquierda', (2112, 2121), 378, 'O'), ('.', (2121, 2122), 379, 'O'), ('»', (2123, 2124), 380, 'O'), ('Mar', (2125, 2130), 381, 'O'), ('##zo', (2125, 2130), 381, 'O'), ('/', (2130, 2131), 382, 'O'), ('2012', (2131, 2135), 383, 'O'), (':', (2135, 2136), 384, 'O'), ('em', (2137, 2149), 385, 'O'), ('##bol', (2137, 2149), 385, 'O'), ('##ización', (2137, 2149), 385, 'O'), ('portal', (2150, 2156), 386, 'O'), ('derecha', (2157, 2164), 387, 'O'), ('.', (2164, 2165), 388, 'O'), ('Se', (2166, 2168), 389, 'O'), ('programa', (2169, 2177), 390, 'O'), ('para', (2178, 2182), 391, 'O'), ('hep', (2183, 2195), 392, 'O'), ('##ate', (2183, 2195), 392, 'O'), ('##cto', (2183, 2195), 392, 'O'), ('##mí', (2183, 2195), 392, 'O'), ('##a', (2183, 2195), 392, 'O'), (',', (2195, 2196), 393, 'O'), ('pero', (2197, 2201), 394, 'O'), ('durante', (2202, 2209), 395, 'O'), ('el', (2210, 2212), 396, 'O'), ('acto', (2213, 2217), 397, 'O'), ('qui', (2218, 2228), 398, 'O'), ('##rú', (2218, 2228), 398, 'O'), ('##rgi', (2218, 2228), 398, 'O'), ('##co', (2218, 2228), 398, 'O'), ('se', (2229, 2231), 399, 'O'), ('observa', (2232, 2239), 400, 'O'), ('afecta', (2240, 2250), 401, 'O'), ('##ción', (2240, 2250), 401, 'O'), ('vas', (2251, 2259), 402, 'O'), ('##cular', (2251, 2259), 402, 'O'), ('de', (2260, 2262), 403, 'O'), ('las', (2263, 2266), 404, 'O'), ('supra', (2267, 2281), 405, 'O'), ('##he', (2267, 2281), 405, 'O'), ('##pá', (2267, 2281), 405, 'O'), ('##ticas', (2267, 2281), 405, 'O'), ('y', (2282, 2283), 406, 'O'), ('se', (2284, 2286), 407, 'O'), ('decide', (2287, 2293), 408, 'O'), ('que', (2294, 2297), 409, 'O'), ('no', (2298, 2300), 410, 'O'), ('es', (2301, 2303), 411, 'O'), ('candidato', (2304, 2313), 412, 'O'), ('a', (2314, 2315), 413, 'O'), ('res', (2316, 2325), 414, 'O'), ('##ec', (2316, 2325), 414, 'O'), ('##ción', (2316, 2325), 414, 'O'), ('.', (2325, 2326), 415, 'O'), ('Conti', (2327, 2335), 416, 'O'), ('##nú', (2327, 2335), 416, 'O'), ('##a', (2327, 2335), 416, 'O'), ('tratamiento', (2336, 2347), 417, 'O'), ('con', (2348, 2351), 418, 'O'), ('an', (2352, 2360), 419, 'O'), ('##álogo', (2352, 2360), 419, 'O'), ('##s', (2352, 2360), 419, 'O'), ('.', (2360, 2361), 420, 'O'), ('»', (2362, 2363), 421, 'O'), ('Enero', (2364, 2369), 422, 'O'), ('/', (2369, 2370), 423, 'O'), ('2013', (2370, 2374), 424, 'O'), (':', (2374, 2375), 425, 'O'), ('pro', (2376, 2386), 426, 'B'), ('##gres', (2376, 2386), 426, 'B'), ('##ión', (2376, 2386), 426, 'B'), ('hep', (2387, 2395), 427, 'I'), ('##ática', (2387, 2395), 427, 'I'), ('por', (2396, 2399), 428, 'O'), ('TC', (2400, 2402), 429, 'O'), ('.', (2402, 2403), 430, 'O'), ('Ini', (2404, 2410), 431, 'O'), ('##cia', (2404, 2410), 431, 'O'), ('ever', (2411, 2421), 432, 'O'), ('##oli', (2411, 2421), 432, 'O'), ('##mus', (2411, 2421), 432, 'O'), ('10', (2422, 2424), 433, 'O'), ('mg', (2425, 2427), 434, 'O'), ('/', (2427, 2428), 435, 'O'), ('d', (2428, 2429), 436, 'O'), ('+', (2430, 2431), 437, 'O'), ('lan', (2432, 2442), 438, 'O'), ('##re', (2432, 2442), 438, 'O'), ('##ót', (2432, 2442), 438, 'O'), ('##ido', (2432, 2442), 438, 'O'), ('cada', (2443, 2447), 439, 'O'), ('3', (2448, 2449), 440, 'O'), ('semanas', (2450, 2457), 441, 'O'), ('.', (2457, 2458), 442, 'O')]\n",
      "\n",
      "\n",
      "[('»', (2459, 2460), 443, 'O'), ('Oct', (2461, 2468), 444, 'O'), ('##ub', (2461, 2468), 444, 'O'), ('##re', (2461, 2468), 444, 'O'), ('/', (2468, 2469), 445, 'O'), ('2013', (2469, 2473), 446, 'O'), (':', (2473, 2474), 447, 'O'), ('aumento', (2475, 2482), 448, 'O'), ('de', (2483, 2485), 449, 'O'), ('la', (2486, 2488), 450, 'O'), ('sin', (2489, 2503), 451, 'O'), ('##toma', (2489, 2503), 451, 'O'), ('##tol', (2489, 2503), 451, 'O'), ('##ogía', (2489, 2503), 451, 'O'), (',', (2503, 2504), 452, 'O'), ('por', (2505, 2508), 453, 'O'), ('lo', (2509, 2511), 454, 'O'), ('que', (2512, 2515), 455, 'O'), ('se', (2516, 2518), 456, 'O'), ('aj', (2519, 2525), 457, 'O'), ('##usta', (2519, 2525), 457, 'O'), ('el', (2526, 2528), 458, 'O'), ('an', (2529, 2536), 459, 'O'), ('##álogo', (2529, 2536), 459, 'O'), ('cada', (2537, 2541), 460, 'O'), ('14', (2542, 2544), 461, 'O'), ('días', (2545, 2549), 462, 'O'), ('.', (2549, 2550), 463, 'O'), ('»', (2551, 2552), 464, 'O'), ('Novi', (2553, 2562), 465, 'O'), ('##embre', (2553, 2562), 465, 'O'), ('/', (2562, 2563), 466, 'O'), ('2014', (2563, 2567), 467, 'O'), (':', (2567, 2568), 468, 'O'), ('em', (2569, 2582), 469, 'O'), ('##pe', (2569, 2582), 469, 'O'), ('##ora', (2569, 2582), 469, 'O'), ('##miento', (2569, 2582), 469, 'O'), ('del', (2583, 2586), 470, 'O'), ('síndrome', (2587, 2595), 471, 'O'), ('car', (2596, 2606), 472, 'B'), ('##cino', (2596, 2606), 472, 'B'), ('##ide', (2596, 2606), 472, 'B'), ('que', (2607, 2610), 473, 'O'), ('in', (2611, 2619), 474, 'O'), ('##vali', (2611, 2619), 474, 'O'), ('##da', (2611, 2619), 474, 'O'), ('vida', (2620, 2624), 475, 'O'), ('diari', (2625, 2631), 476, 'O'), ('##a', (2625, 2631), 476, 'O'), ('.', (2631, 2632), 477, 'O'), ('En', (2633, 2635), 478, 'O'), ('comité', (2636, 2642), 479, 'O'), ('multi', (2643, 2659), 480, 'O'), ('##dis', (2643, 2659), 480, 'O'), ('##ci', (2643, 2659), 480, 'O'), ('##plin', (2643, 2659), 480, 'O'), ('##ar', (2643, 2659), 480, 'O'), (',', (2659, 2660), 481, 'O'), ('se', (2661, 2663), 482, 'O'), ('rep', (2664, 2673), 483, 'O'), ('##lante', (2664, 2673), 483, 'O'), ('##a', (2664, 2673), 483, 'O'), ('para', (2674, 2678), 484, 'O'), ('em', (2679, 2691), 485, 'O'), ('##bol', (2679, 2691), 485, 'O'), ('##ización', (2679, 2691), 485, 'O'), (',', (2691, 2692), 486, 'O'), ('pero', (2693, 2697), 487, 'O'), ('se', (2698, 2700), 488, 'O'), ('decide', (2701, 2707), 489, 'O'), ('ci', (2708, 2715), 490, 'O'), ('##rug', (2708, 2715), 490, 'O'), ('##ía', (2708, 2715), 490, 'O'), ('extrema', (2716, 2723), 491, 'O'), ('con', (2724, 2727), 492, 'O'), ('hep', (2728, 2740), 493, 'O'), ('##ate', (2728, 2740), 493, 'O'), ('##cto', (2728, 2740), 493, 'O'), ('##mí', (2728, 2740), 493, 'O'), ('##a', (2728, 2740), 493, 'O'), ('derecha', (2741, 2748), 494, 'O'), ('y', (2749, 2750), 495, 'O'), ('res', (2751, 2760), 496, 'O'), ('##ec', (2751, 2760), 496, 'O'), ('##ción', (2751, 2760), 496, 'O'), ('vas', (2761, 2769), 497, 'O'), ('##cular', (2761, 2769), 497, 'O'), ('.', (2769, 2770), 498, 'O'), ('Ci', (2771, 2778), 499, 'O'), ('##rug', (2771, 2778), 499, 'O'), ('##ía', (2771, 2778), 499, 'O'), ('R', (2779, 2781), 500, 'O'), ('##0', (2779, 2781), 500, 'O'), ('.', (2781, 2782), 501, 'O'), ('AP', (2783, 2785), 502, 'O'), (':', (2785, 2786), 503, 'O'), ('17', (2787, 2789), 504, 'O'), ('met', (2790, 2800), 505, 'B'), ('##ást', (2790, 2800), 505, 'B'), ('##asis', (2790, 2800), 505, 'B'), ('de', (2801, 2803), 506, 'I'), ('tumor', (2804, 2809), 507, 'I'), ('neu', (2810, 2824), 508, 'I'), ('##roen', (2810, 2824), 508, 'I'), ('##do', (2810, 2824), 508, 'I'), ('##cri', (2810, 2824), 508, 'I'), ('##no', (2810, 2824), 508, 'I'), ('bien', (2825, 2829), 509, 'I'), ('diferencia', (2830, 2842), 510, 'I'), ('##do', (2830, 2842), 510, 'I'), (',', (2842, 2843), 511, 'O'), ('Ki', (2844, 2846), 512, 'O'), ('-', (2846, 2847), 513, 'O'), ('67', (2847, 2849), 514, 'O'), ('10', (2850, 2852), 515, 'O'), ('%', (2853, 2854), 516, 'O'), ('.', (2854, 2855), 517, 'O')]\n",
      "\n",
      "\n",
      "[('Después', (2856, 2863), 518, 'O'), ('de', (2864, 2866), 519, 'O'), ('la', (2867, 2869), 520, 'O'), ('ci', (2870, 2877), 521, 'O'), ('##rug', (2870, 2877), 521, 'O'), ('##ía', (2870, 2877), 521, 'O'), (',', (2877, 2878), 522, 'O'), ('desa', (2879, 2889), 523, 'O'), ('##parece', (2879, 2889), 523, 'O'), ('la', (2890, 2892), 524, 'O'), ('clínica', (2893, 2900), 525, 'O'), ('car', (2901, 2911), 526, 'B'), ('##cino', (2901, 2911), 526, 'B'), ('##ide', (2901, 2911), 526, 'B'), ('.', (2911, 2912), 527, 'O'), ('Si', (2913, 2918), 528, 'O'), ('##gue', (2913, 2918), 528, 'O'), ('con', (2919, 2922), 529, 'O'), ('el', (2923, 2925), 530, 'O'), ('an', (2926, 2933), 531, 'O'), ('##álogo', (2926, 2933), 531, 'O'), ('.', (2933, 2934), 532, 'O'), ('»', (2935, 2936), 533, 'O'), ('Agosto', (2937, 2943), 534, 'O'), ('/', (2943, 2944), 535, 'O'), ('2015', (2944, 2948), 536, 'O'), (':', (2948, 2949), 537, 'O'), ('re', (2950, 2961), 538, 'O'), ('##apa', (2950, 2961), 538, 'O'), ('##rici', (2950, 2961), 538, 'O'), ('##ón', (2950, 2961), 538, 'O'), ('de', (2962, 2964), 539, 'O'), ('les', (2965, 2973), 540, 'B'), ('##iones', (2965, 2973), 540, 'B'), ('hep', (2974, 2983), 541, 'I'), ('##áticas', (2974, 2983), 541, 'I'), ('ir', (2984, 2996), 542, 'O'), ('##rese', (2984, 2996), 542, 'O'), ('##cable', (2984, 2996), 542, 'O'), ('##s', (2984, 2996), 542, 'O'), (',', (2996, 2997), 543, 'O'), ('y', (2998, 2999), 544, 'O'), ('ad', (3000, 3011), 545, 'O'), ('##eno', (3000, 3011), 545, 'O'), ('##pat', (3000, 3011), 545, 'O'), ('##ías', (3000, 3011), 545, 'O'), ('medias', (3012, 3025), 546, 'O'), ('##tín', (3012, 3025), 546, 'O'), ('##icas', (3012, 3025), 546, 'O'), ('por', (3026, 3029), 547, 'O'), ('lo', (3030, 3032), 548, 'O'), ('que', (3033, 3036), 549, 'O'), ('se', (3037, 3039), 550, 'O'), ('rein', (3040, 3051), 551, 'O'), ('##tro', (3040, 3051), 551, 'O'), ('##duce', (3040, 3051), 551, 'O'), ('ever', (3052, 3062), 552, 'O'), ('##oli', (3052, 3062), 552, 'O'), ('##mus', (3052, 3062), 552, 'O'), ('junto', (3063, 3068), 553, 'O'), ('con', (3069, 3072), 554, 'O'), ('an', (3073, 3080), 555, 'O'), ('##álogo', (3073, 3080), 555, 'O'), ('.', (3080, 3081), 556, 'O'), ('E', (3083, 3092), 557, 'O'), ('##vol', (3083, 3092), 557, 'O'), ('##ución', (3083, 3092), 557, 'O'), ('Desde', (3093, 3098), 558, 'O'), ('agosto', (3099, 3105), 559, 'O'), ('de', (3106, 3108), 560, 'O'), ('2015', (3109, 3113), 561, 'O'), ('hasta', (3114, 3119), 562, 'O'), ('la', (3120, 3122), 563, 'O'), ('actualidad', (3123, 3133), 564, 'O'), (',', (3133, 3134), 565, 'O'), ('el', (3135, 3137), 566, 'O'), ('paciente', (3138, 3146), 567, 'O'), ('ha', (3147, 3149), 568, 'O'), ('seguido', (3150, 3157), 569, 'O'), ('tratamiento', (3158, 3169), 570, 'O'), ('con', (3170, 3173), 571, 'O'), ('ever', (3174, 3184), 572, 'O'), ('##oli', (3174, 3184), 572, 'O'), ('##mus', (3174, 3184), 572, 'O'), ('y', (3185, 3186), 573, 'O'), ('an', (3187, 3194), 574, 'O'), ('##álogo', (3187, 3194), 574, 'O'), ('de', (3195, 3197), 575, 'O'), ('la', (3198, 3200), 576, 'O'), ('som', (3201, 3214), 577, 'O'), ('##atos', (3201, 3214), 577, 'O'), ('##tati', (3201, 3214), 577, 'O'), ('##na', (3201, 3214), 577, 'O'), ('.', (3214, 3215), 578, 'O')]\n",
      "\n",
      "\n",
      "[('En', (3216, 3218), 579, 'O'), ('TC', (3219, 3221), 580, 'O'), ('de', (3222, 3224), 581, 'O'), ('valor', (3225, 3235), 582, 'O'), ('##ación', (3225, 3235), 582, 'O'), ('de', (3236, 3238), 583, 'O'), ('respuesta', (3239, 3248), 584, 'O'), ('de', (3249, 3251), 585, 'O'), ('febrero', (3252, 3259), 586, 'O'), ('/', (3259, 3260), 587, 'O'), ('2018', (3260, 3264), 588, 'O'), ('se', (3265, 3267), 589, 'O'), ('observa', (3268, 3275), 590, 'O'), ('pro', (3276, 3286), 591, 'B'), ('##gres', (3276, 3286), 591, 'B'), ('##ión', (3276, 3286), 591, 'B'), ('hep', (3287, 3295), 592, 'I'), ('##ática', (3287, 3295), 592, 'I'), (',', (3295, 3296), 593, 'O'), ('por', (3297, 3300), 594, 'O'), ('lo', (3301, 3303), 595, 'O'), ('que', (3304, 3307), 596, 'O'), ('se', (3308, 3310), 597, 'O'), ('deriva', (3311, 3317), 598, 'O'), ('para', (3318, 3322), 599, 'O'), ('ens', (3323, 3329), 600, 'O'), ('##ayo', (3323, 3329), 600, 'O'), ('c', (3330, 3337), 601, 'O'), ('##lín', (3330, 3337), 601, 'O'), ('##ico', (3330, 3337), 601, 'O'), ('con', (3338, 3341), 602, 'O'), ('in', (3342, 3355), 603, 'O'), ('##mun', (3342, 3355), 603, 'O'), ('##ote', (3342, 3355), 603, 'O'), ('##rap', (3342, 3355), 603, 'O'), ('##ia', (3342, 3355), 603, 'O'), ('.', (3355, 3356), 604, 'O')]\n",
      "\n",
      "\n"
     ]
    }
   ],
   "source": [
    "for i in range(check_id_frag, check_id_frag + train_frag[check_id]):\n",
    "    print(list(zip([tokenizer._convert_id_to_token(int(ind)) for ind in train_ind[i]][1:len(train_start_end_frag[i])+1], \n",
    "               train_start_end_frag[i], train_word_id[i], \n",
    "               [lab_encoder.inverse_transform([label])[0] if label != IGNORE_VALUE else label \\\n",
    "                for label in train_y[i][1:len(train_start_end_frag[i])+1]])))\n",
    "    print(\"\\n\")"
   ]
  },
  {
   "cell_type": "code",
   "execution_count": 59,
   "metadata": {},
   "outputs": [
    {
     "name": "stdout",
     "output_type": "stream",
     "text": [
      "[CLS] Ana ##mne ##sis Historia on ##col ##ógica : Oct ##ub ##re / 2011 : realización de e ##co ##grafía ab ##dom ##inal por có ##lico nef ##rí ##tico donde se observa ##n met ##ást ##asis hep ##áticas . Ex ##pli ##ca aumento durante los últimos 6 meses del fl ##ush ##ing habitual , dia ##rrea y pérdida de peso . Ini ##cia estudio dia ##gnóstico amb ##ulator ##io . Ex ##plo ##ración física EC ##O ##G 1 . Í ##ndi ##ce de masa corporal ( IM ##C ) 30 mg / m2 . Hall ##azgo ##s destaca ##bles : hep ##ato ##me ##gali ##a de 3 tra ##ves ##es y fl ##ush ##ing en bi ##ped ##esta ##ción . [SEP] [PAD] [PAD] [PAD] [PAD] [PAD] [PAD] [PAD] \n",
      "\n",
      "[CLS] Pr ##ue ##bas complement ##arias En el análisis sang ##u ##íne ##o no había hall ##azgo ##s re ##marca ##bles . Des ##taca en ori ##na de 24 h una elev ##ación de 5 ##HI ##IA de 89 , 4 mg / 24 h ( valores de referencia < 8 , 2 mg / 24 h ) y c ##romo ##gra ##nina A de 6 . 110 mg / ml ( valores de referencia < 134 ng / ml ) . Como pruebas radio ##lógica ##s , la TC mostra ##ba una masa para ##hil ##iar izquierda de 18 mm e imágenes hep ##áticas hip ##oden ##sas su ##gest ##ivas de met ##ást ##asis . [SEP] [PAD] [PAD] [PAD] [PAD] [PAD] [PAD] [PAD] [PAD] [PAD] [PAD] [PAD] \n",
      "\n",
      "[CLS] En cuanto al Oct ##reo ##sca ##n ##® , únicamente cap ##taba ##n las les ##iones hep ##áticas con expresión de receptor ##es de la som ##atos ##tati ##na . La bio ##psia hep ##ática rev ##el ##ó la presencia de un tumor neu ##roen ##do ##cri ##no bien diferencia ##do con positiv ##idad por c ##romo ##gra ##nina A y sina ##pt ##of ##isin ##a , cit ##oq ##uera ##tina AE ##1 , AE ##3 . Con 3 mito ##sis y un Ki - 67 del 8 , 2 % . Se realizó una bron ##cos ##co ##pia donde se apre ##ció una red ##ucción de la entrada del segmento posterior del l ##ób ##ulo inferior izquierdo . [SEP] [PAD] [PAD] [PAD] [PAD] [PAD] [PAD] [PAD] \n",
      "\n",
      "[CLS] La bio ##psia pu ##lm ##onar fue positiva para un tumor neu ##roen ##do ##cri ##no ( car ##cino ##ide at ##í ##pico ) con positiv ##idad para c ##romo ##gra ##nina , sina ##pt ##of ##isin ##a y CD ##5 ##6 . El e ##co ##card ##io ##grama no fue relevante y la PE ##T - TC ob ##ser ##vó baja cap ##tación de las les ##iones hep ##áticas , del tumor pu ##lm ##onar y de las ad ##eno ##pat ##ías . Dia ##gnóstico Nos encontram ##os ante un tumor car ##cino ##ide at ##í ##pico pu ##lm ##onar bien diferencia ##do con met ##ást ##asis hep ##áticas . [SEP] [PAD] [PAD] [PAD] [PAD] [PAD] [PAD] [PAD] [PAD] [PAD] [PAD] [PAD] [PAD] [PAD] [PAD] [PAD] \n",
      "\n",
      "[CLS] Pac ##iente clínica ##mente sin ##tom ##ático , debido a síndrome car ##cino ##ide con fl ##ush ##ing y dia ##rrea ##s . Se realiza seg ##ui ##miento com ##parti ##do por parte de On ##colo ##gía M ##éd ##ica y End ##oc ##rino ##logía . Trata ##miento » Oct ##ub ##re / 2011 : an ##álogo ##s de la som ##atos ##tati ##na ( lan ##re ##ót ##ido intra ##mus ##cular 120 mg cada 28 días ) mejor ##ando la sin ##toma ##tol ##ogía ( fl ##ush ##ing y dia ##rrea ) . » Enero / 2012 : re ##apa ##rici ##ón de sí ##nto ##mas cada 3 semanas por lo que se ad ##mini ##stra an ##álogo cada 21 días . [SEP] [PAD] [PAD] [PAD] \n",
      "\n",
      "[CLS] » Feb ##rero / 2012 : lo ##bec ##tom ##ía inferior izquierda . » Mar ##zo / 2012 : em ##bol ##ización portal derecha . Se programa para hep ##ate ##cto ##mí ##a , pero durante el acto qui ##rú ##rgi ##co se observa afecta ##ción vas ##cular de las supra ##he ##pá ##ticas y se decide que no es candidato a res ##ec ##ción . Conti ##nú ##a tratamiento con an ##álogo ##s . » Enero / 2013 : pro ##gres ##ión hep ##ática por TC . Ini ##cia ever ##oli ##mus 10 mg / d + lan ##re ##ót ##ido cada 3 semanas . [SEP] [PAD] [PAD] [PAD] [PAD] [PAD] [PAD] [PAD] [PAD] [PAD] [PAD] [PAD] [PAD] [PAD] [PAD] [PAD] [PAD] [PAD] [PAD] [PAD] [PAD] \n",
      "\n",
      "[CLS] » Oct ##ub ##re / 2013 : aumento de la sin ##toma ##tol ##ogía , por lo que se aj ##usta el an ##álogo cada 14 días . » Novi ##embre / 2014 : em ##pe ##ora ##miento del síndrome car ##cino ##ide que in ##vali ##da vida diari ##a . En comité multi ##dis ##ci ##plin ##ar , se rep ##lante ##a para em ##bol ##ización , pero se decide ci ##rug ##ía extrema con hep ##ate ##cto ##mí ##a derecha y res ##ec ##ción vas ##cular . Ci ##rug ##ía R ##0 . AP : 17 met ##ást ##asis de tumor neu ##roen ##do ##cri ##no bien diferencia ##do , Ki - 67 10 % . [SEP] [PAD] [PAD] [PAD] [PAD] [PAD] [PAD] [PAD] [PAD] \n",
      "\n",
      "[CLS] Después de la ci ##rug ##ía , desa ##parece la clínica car ##cino ##ide . Si ##gue con el an ##álogo . » Agosto / 2015 : re ##apa ##rici ##ón de les ##iones hep ##áticas ir ##rese ##cable ##s , y ad ##eno ##pat ##ías medias ##tín ##icas por lo que se rein ##tro ##duce ever ##oli ##mus junto con an ##álogo . E ##vol ##ución Desde agosto de 2015 hasta la actualidad , el paciente ha seguido tratamiento con ever ##oli ##mus y an ##álogo de la som ##atos ##tati ##na . [SEP] [PAD] [PAD] [PAD] [PAD] [PAD] [PAD] [PAD] [PAD] [PAD] [PAD] [PAD] [PAD] [PAD] [PAD] [PAD] [PAD] [PAD] [PAD] [PAD] [PAD] [PAD] [PAD] [PAD] [PAD] [PAD] [PAD] [PAD] [PAD] [PAD] [PAD] [PAD] [PAD] \n",
      "\n",
      "[CLS] En TC de valor ##ación de respuesta de febrero / 2018 se observa pro ##gres ##ión hep ##ática , por lo que se deriva para ens ##ayo c ##lín ##ico con in ##mun ##ote ##rap ##ia . [SEP] [PAD] [PAD] [PAD] [PAD] [PAD] [PAD] [PAD] [PAD] [PAD] [PAD] [PAD] [PAD] [PAD] [PAD] [PAD] [PAD] [PAD] [PAD] [PAD] [PAD] [PAD] [PAD] [PAD] [PAD] [PAD] [PAD] [PAD] [PAD] [PAD] [PAD] [PAD] [PAD] [PAD] [PAD] [PAD] [PAD] [PAD] [PAD] [PAD] [PAD] [PAD] [PAD] [PAD] [PAD] [PAD] [PAD] [PAD] [PAD] [PAD] [PAD] [PAD] [PAD] [PAD] [PAD] [PAD] [PAD] [PAD] [PAD] [PAD] [PAD] [PAD] [PAD] [PAD] [PAD] [PAD] [PAD] [PAD] [PAD] [PAD] [PAD] [PAD] [PAD] [PAD] [PAD] [PAD] [PAD] [PAD] [PAD] [PAD] [PAD] [PAD] [PAD] [PAD] [PAD] [PAD] [PAD] [PAD] [PAD] [PAD] \n",
      "\n"
     ]
    }
   ],
   "source": [
    "check_id_frag = sum(train_frag[:check_id])\n",
    "for frag in train_ind[check_id_frag:check_id_frag + train_frag[check_id]]:\n",
    "    print(' '.join([tokenizer._convert_id_to_token(int(ind)) for ind in frag]), \"\\n\")"
   ]
  },
  {
   "cell_type": "markdown",
   "metadata": {},
   "source": [
    "### Development corpus\n",
    "\n",
    "Only development texts with NER annotations are considered:"
   ]
  },
  {
   "cell_type": "code",
   "execution_count": 61,
   "metadata": {},
   "outputs": [
    {
     "data": {
      "text/plain": [
       "0"
      ]
     },
     "execution_count": 61,
     "metadata": {},
     "output_type": "execute_result"
    }
   ],
   "source": [
    "# All development documents (texts) are annotated \n",
    "len(set(df_text_dev[\"doc_id\"]) - set(df_codes_dev_ner_final[\"doc_id\"]))"
   ]
  },
  {
   "cell_type": "code",
   "execution_count": 62,
   "metadata": {},
   "outputs": [],
   "source": [
    "dev_doc_list = sorted(set(df_codes_dev_ner_final[\"doc_id\"]))"
   ]
  },
  {
   "cell_type": "code",
   "execution_count": 63,
   "metadata": {},
   "outputs": [
    {
     "data": {
      "text/plain": [
       "250"
      ]
     },
     "execution_count": 63,
     "metadata": {},
     "output_type": "execute_result"
    }
   ],
   "source": [
    "len(dev_doc_list)"
   ]
  },
  {
   "cell_type": "code",
   "execution_count": 64,
   "metadata": {},
   "outputs": [],
   "source": [
    "# Sentence-Split data"
   ]
  },
  {
   "cell_type": "code",
   "execution_count": 65,
   "metadata": {},
   "outputs": [
    {
     "name": "stdout",
     "output_type": "stream",
     "text": [
      "CPU times: user 11.7 ms, sys: 19 µs, total: 11.7 ms\n",
      "Wall time: 11.5 ms\n"
     ]
    }
   ],
   "source": [
    "%%time\n",
    "ss_sub_corpus_path = ss_corpus_path + \"development/\"\n",
    "ss_files = [f for f in os.listdir(ss_sub_corpus_path) if os.path.isfile(ss_sub_corpus_path + f)]\n",
    "ss_dict_dev = load_ss_files(ss_files, ss_sub_corpus_path)"
   ]
  },
  {
   "cell_type": "code",
   "execution_count": 66,
   "metadata": {
    "scrolled": true
   },
   "outputs": [
    {
     "name": "stderr",
     "output_type": "stream",
     "text": [
      " 84%|████████▎ | 209/250 [00:17<00:03, 12.95it/s]"
     ]
    },
    {
     "name": "stdout",
     "output_type": "stream",
     "text": [
      "I\n",
      "doc_id      cc_onco1427\n",
      "text_ref        pT3N2Mx\n",
      "start              1928\n",
      "end                1935\n",
      "Name: 803, dtype: object\n",
      "11\n",
      "11\n",
      "[[1849 1858]\n",
      " [1859 1867]\n",
      " [1868 1872]\n",
      " [1873 1887]\n",
      " [1888 1898]\n",
      " [1899 1900]\n",
      " [1900 1905]\n",
      " [1906 1916]\n",
      " [1917 1918]\n",
      " [1919 1924]\n",
      " [1924 1925]\n",
      " [1926 1935]\n",
      " [1935 1936]\n",
      " [1937 1939]\n",
      " [1940 1948]\n",
      " [1949 1952]\n",
      " [1953 1961]\n",
      " [1962 1963]\n",
      " [1964 1971]\n",
      " [1972 1980]\n",
      " [1981 1985]\n",
      " [1986 1996]\n",
      " [1996 1997]]\n"
     ]
    },
    {
     "name": "stderr",
     "output_type": "stream",
     "text": [
      "100%|██████████| 250/250 [00:20<00:00, 12.03it/s]"
     ]
    },
    {
     "name": "stdout",
     "output_type": "stream",
     "text": [
      "CPU times: user 20.9 s, sys: 12 ms, total: 20.9 s\n",
      "Wall time: 20.9 s\n"
     ]
    },
    {
     "name": "stderr",
     "output_type": "stream",
     "text": [
      "\n"
     ]
    }
   ],
   "source": [
    "%%time\n",
    "dev_ind, dev_att, dev_type, dev_y, dev_frag, dev_start_end_frag, dev_word_id = ss_create_input_data_ner(df_text=df_text_dev, \n",
    "                                                  text_col=text_col, \n",
    "                                                  df_ann=df_codes_dev_ner_final, doc_list=dev_doc_list, ss_dict=ss_dict_dev,\n",
    "                                                  tokenizer=tokenizer, lab_encoder=lab_encoder, seq_len=SEQ_LEN, \n",
    "                                                  ign_value=IGNORE_VALUE, strategy=ANN_STRATEGY, greedy=GREEDY)"
   ]
  },
  {
   "cell_type": "code",
   "execution_count": 67,
   "metadata": {},
   "outputs": [],
   "source": [
    "# Sanity check"
   ]
  },
  {
   "cell_type": "code",
   "execution_count": 68,
   "metadata": {},
   "outputs": [
    {
     "data": {
      "text/plain": [
       "(2856, 128)"
      ]
     },
     "execution_count": 68,
     "metadata": {},
     "output_type": "execute_result"
    }
   ],
   "source": [
    "dev_ind.shape"
   ]
  },
  {
   "cell_type": "code",
   "execution_count": 69,
   "metadata": {},
   "outputs": [
    {
     "data": {
      "text/plain": [
       "(2856, 128)"
      ]
     },
     "execution_count": 69,
     "metadata": {},
     "output_type": "execute_result"
    }
   ],
   "source": [
    "dev_att.shape"
   ]
  },
  {
   "cell_type": "code",
   "execution_count": 70,
   "metadata": {},
   "outputs": [
    {
     "data": {
      "text/plain": [
       "(2856, 128)"
      ]
     },
     "execution_count": 70,
     "metadata": {},
     "output_type": "execute_result"
    }
   ],
   "source": [
    "dev_type.shape"
   ]
  },
  {
   "cell_type": "code",
   "execution_count": 71,
   "metadata": {
    "scrolled": true
   },
   "outputs": [
    {
     "data": {
      "text/plain": [
       "(2856, 128)"
      ]
     },
     "execution_count": 71,
     "metadata": {},
     "output_type": "execute_result"
    }
   ],
   "source": [
    "dev_y.shape"
   ]
  },
  {
   "cell_type": "code",
   "execution_count": 72,
   "metadata": {},
   "outputs": [
    {
     "data": {
      "text/plain": [
       "250"
      ]
     },
     "execution_count": 72,
     "metadata": {},
     "output_type": "execute_result"
    }
   ],
   "source": [
    "len(dev_frag)"
   ]
  },
  {
   "cell_type": "code",
   "execution_count": 73,
   "metadata": {},
   "outputs": [
    {
     "data": {
      "text/plain": [
       "2856"
      ]
     },
     "execution_count": 73,
     "metadata": {},
     "output_type": "execute_result"
    }
   ],
   "source": [
    "len(dev_start_end_frag)"
   ]
  },
  {
   "cell_type": "code",
   "execution_count": 74,
   "metadata": {},
   "outputs": [
    {
     "data": {
      "text/plain": [
       "2856"
      ]
     },
     "execution_count": 74,
     "metadata": {},
     "output_type": "execute_result"
    }
   ],
   "source": [
    "len(dev_word_id)"
   ]
  },
  {
   "cell_type": "code",
   "execution_count": 75,
   "metadata": {},
   "outputs": [
    {
     "data": {
      "text/plain": [
       "count    250.000000\n",
       "mean      11.424000\n",
       "std        5.025659\n",
       "min        3.000000\n",
       "25%        8.000000\n",
       "50%       10.000000\n",
       "75%       14.000000\n",
       "max       38.000000\n",
       "dtype: float64"
      ]
     },
     "execution_count": 75,
     "metadata": {},
     "output_type": "execute_result"
    }
   ],
   "source": [
    "# Check n_frag distribution across texts\n",
    "pd.Series(dev_frag).describe()"
   ]
  },
  {
   "cell_type": "code",
   "execution_count": 76,
   "metadata": {},
   "outputs": [],
   "source": [
    "# Inspect a randomly selected text and its encoded version\n",
    "check_id = np.random.randint(low=0, high=len(dev_doc_list), size=1)[0]"
   ]
  },
  {
   "cell_type": "code",
   "execution_count": 77,
   "metadata": {},
   "outputs": [
    {
     "data": {
      "text/plain": [
       "54"
      ]
     },
     "execution_count": 77,
     "metadata": {},
     "output_type": "execute_result"
    }
   ],
   "source": [
    "check_id"
   ]
  },
  {
   "cell_type": "code",
   "execution_count": 78,
   "metadata": {},
   "outputs": [
    {
     "data": {
      "text/plain": [
       "'cc_onco1098'"
      ]
     },
     "execution_count": 78,
     "metadata": {},
     "output_type": "execute_result"
    }
   ],
   "source": [
    "dev_doc_list[check_id]"
   ]
  },
  {
   "cell_type": "code",
   "execution_count": 79,
   "metadata": {
    "scrolled": true
   },
   "outputs": [
    {
     "data": {
      "text/plain": [
       "'Anamnesis\\nPaciente de 44 años sin antecedentes médicos de interés salvo miomas uterinos en seguimiento por Ginecología.\\nAcude a Urgencias en noviembre de 2013 refiriendo molestias orales de una semana de evolución con tumoración en la región madibular izquierda sangrante a la manipulación. Acompañaba acorcharmiento hemimandibular y del labio inferior izquierdo.\\n\\nExamen físico\\nA nivel oral se identificaba una tumoración ovalada de aproximadamente 3 cm diámetro, móvil, firme y no dolorosa, pediculada a la mucosa gingival de la zona molar.\\n\\nPruebas complementarias\\n- Ortopantografía (5/11/2013). osteólisis mandibular en el cuarto cuadrante con extensión a la rama mandibular izquierda.\\n- Biopsia de la lesión oral (5/11/2013): leiomiosarcoma grado 2 (sistema de grado FNCLCC).\\n- TC cervicofacial (7/11/2013): lesión osteolítica en la hemimandíbula izquierda que asienta en su región retromolar y ángulo mandibular, con afectación del canal del nervio dentario inferior, que expande y rompe las corticales óseas y asocia realce de partes blandas adyacentes, compatible con neoplasia maligna (diagnóstico anatomopatológico de leiomiosarcoma grado 2). No se aprecian adenopatías radiológicamente significativas. Nódulo hipodenso en LTD a correlacionar con ecografía.\\n- TC tóraco-abdominal (20/11/2013): en la exploración torácica se identifica una imagen nodular de pequeño tamaño (entre 5 y 6 mm) en el segmento posterior del lóbulo inferior derecho, sin calcificación evidente, cuya naturaleza no es posible determinar, por lo que no se puede excluir la posibilidad de metástasis. Conclusión: pequeña imagen nodular indeterminada en la base pulmonar derecha, no pudiéndose excluir la posibilidad de metástasis.\\n- Intervención quirúrgica (26/11/2013): se realiza resección de la lesión mandibular mediante abordaje intraoral y cervicotomía, respetando los márgenes quirúrgicos. Obtención de colgajo microquirúrgico de peroné de forma reglada.\\n\\nDiagnóstico\\nLeiomiosarcoma ulcerado, de 3,5 cm de diámetro máximo, en la rama horizontal de la mandibula izquierda con rotura de la cortical y afectación de la encía. Bordes quirúrgicos de resección (mucosos, partes blandas y óseos) libres de infiltración tumoral.\\n\\nTratamiento\\nLa paciente recibió radioterapia postoperatoria desde el 27/1/2014 al 24/2/2014, administrándose una dosis total de 42 Gy (2 Gy/día) sobre un volumen blanco clínico que incluyó la mandíbula izquierda y la cicatriz cervical.\\n\\nEvolución\\nDada la histología se decide, conjuntamente al inicio de RT, comentar el caso con el Servicio de Ginecología.\\nEn el estudio ginecológico se aprecian dos miomas de mayor tamaño que los conocidos previamente.\\nSe decide como tratamiento histerectomía total simple, realizada el 14/1/2014, con resultado anatomopatológico de:\\n- Descripción macroscópica: el cuerpo y la cavidad endometrial aparecen deformados debido a la presencia de un nódulo de localización intramural de 11 cm de eje máximo. El nódulo no está bien delimitado, observándose en zonas pequeños nódulos satélite a su alrededor. En las proximidades del cuello la serosa uterina está rota y algunos de los nódulos coinciden con el margen de resección.\\n- Descripción microscópica: los cortes correspondientes al cérvix no muestran alteraciones significativas en los componentes exo ni endocervical. La mucosa endometrial presenta un patrón proliferativo. El nódulo miometral está constituido por una proliferación de células muy atípicas y de morfología muy variable. En la periferia la lesión es densamente celular y está compuesta por células predominantemente fusiformes con núcleos grandes y ovalados con moderada variabilidad entre ellos, y frecuentes figuras de mitosis. En el resto del tumor estas células alternan con otras de gran tamaño, con núcleos muy agrandados e hipercromáticos, a veces multinucleados y con numerosas mitosis atípicas. También se observan amplias zonas de necrosis y zonas más edematosas. Numerosas imágenes de permeación vascular. La lesión crece adoptando un patrón multinodular y alguno de estos nódulos coincide con el margen de resección en la zona de ruptura de la pared uterina.\\n- Inmunohistoquímica: CD31 positivo, Factor VIII positivo, actina positivo, caldesmón positivo, calponina positivo, CD10 negativo.\\nCitoqueratina 19 negativo, desmina positiva, EGFR positivo irregular, Ki 67 positividad variable, zonas de hasta el 40%, p16 débilmente positivo, p53 negativo, vimentina positiva.\\nDiagnóstico anatomopatológico histerectomía total simple: leiomiosarcoma con frecuentes imágenes de permeación vascular.\\nTras la intervención quirúrgica la paciente aqueja lumbociatalgia, inicialmente achacada a iatrogenia quirúrgica, pero dada su refractariedad a la analgesia tras 2 semanas se solicitó una RM pélvica, con los siguientes hallazgos.\\n- RM lumbosacra (6/2/2014): metástasis ósea que afecta a la totalidad del ala sacra y hemicuerpos derechos de S2 y S3 con rotura de la cortical anterior y masa de partes blandas que rodea a las raíces S2 y S3 derechas. Metástasis ósea en el ala sacra izquierda y en la región posterosuperior y pedículo derecho de L5. Imagen compatible con calcificación o artefacto en el canal raquídeo a la altura de L4-L5.\\nAsimismo, se procedió a actualizar el estudio de extensión con TC cérvico-tóraco-abdominal y gammagrafía ósea.\\n- TC cérvico-tóraco-abdominal (19/2/2014): metástasis pulmonares y hepáticas. Adenopatía iliaca izquierda sospechosa de malignidad. Metástasis óseas en el ala sacra derecha sin grandes cambios respecto a la RM previa. Lesión lítica en el cuerpo vertebral D10 de nueva aparición, a descartar metástasis. Lesión mixta en la séptima costilla derecha.\\n- Gamagrafía ósea (25/2/2014): se objetivan focos de hipercaptación en el maxilar inferior, octava costilla derecha en su arcada lateral, apófisis espinosa de D-11 y ala derecha, compatibles con diseminación metastásica.\\nAnte estos hallazgos se inició infusión de ácido zoledrónico mensual, y se procedió a irradiación de un segundo volumen que incluyó el sacro, administrando una dosis total de 30 Gy (3 Gy/día) entre el 11 y el 24 de febrero de 2014.\\nPosteriormente, la paciente inició tratamiento con QT según esquema de docetaxel 75 mg/m2 (día 8) + gemcitabina 900 mg/m2 (días 1 y 8), habiendo recibido hasta la fecha un total de 5 ciclos entre el 26/2/2014 y el 28/5/2014.\\nEn última prueba de imagen realizada, el 19/5/2014, se objetivó leve disminución de tamaño de las lesiones hipervasculares hepáticas metastásicas, con estabilidad del resto de las lesiones quísticas, probablemente benignas. Se objetivó además metástasis renal izquierda y cambios de densidad de la metástasis sacra, sin cambios en las lesiones costales ni en la lesión de D10.\\nMetástasis pulmonares con comportamiento variable, algunas de ellas con crecimiento.\\nLa paciente continúa seguimiento en consultas del Hospital de Día del Hospital Universitario de La Princesa en la actualidad, estando previsto administrar dos ciclos más del tratamiento anteriormente referido.'"
      ]
     },
     "execution_count": 79,
     "metadata": {},
     "output_type": "execute_result"
    }
   ],
   "source": [
    "df_text_dev[df_text_dev[\"doc_id\"] == dev_doc_list[check_id]][text_col].values[0]"
   ]
  },
  {
   "cell_type": "code",
   "execution_count": 80,
   "metadata": {},
   "outputs": [
    {
     "data": {
      "text/html": [
       "<div>\n",
       "<style scoped>\n",
       "    .dataframe tbody tr th:only-of-type {\n",
       "        vertical-align: middle;\n",
       "    }\n",
       "\n",
       "    .dataframe tbody tr th {\n",
       "        vertical-align: top;\n",
       "    }\n",
       "\n",
       "    .dataframe thead th {\n",
       "        text-align: right;\n",
       "    }\n",
       "</style>\n",
       "<table border=\"1\" class=\"dataframe\">\n",
       "  <thead>\n",
       "    <tr style=\"text-align: right;\">\n",
       "      <th></th>\n",
       "      <th>doc_id</th>\n",
       "      <th>text_ref</th>\n",
       "      <th>start</th>\n",
       "      <th>end</th>\n",
       "    </tr>\n",
       "  </thead>\n",
       "  <tbody>\n",
       "    <tr>\n",
       "      <th>834</th>\n",
       "      <td>cc_onco1098</td>\n",
       "      <td>miomas</td>\n",
       "      <td>72</td>\n",
       "      <td>78</td>\n",
       "    </tr>\n",
       "    <tr>\n",
       "      <th>838</th>\n",
       "      <td>cc_onco1098</td>\n",
       "      <td>tumoración</td>\n",
       "      <td>218</td>\n",
       "      <td>228</td>\n",
       "    </tr>\n",
       "    <tr>\n",
       "      <th>839</th>\n",
       "      <td>cc_onco1098</td>\n",
       "      <td>tumoración</td>\n",
       "      <td>412</td>\n",
       "      <td>422</td>\n",
       "    </tr>\n",
       "    <tr>\n",
       "      <th>841</th>\n",
       "      <td>cc_onco1098</td>\n",
       "      <td>leiomiosarcoma grado 2 (sistema de grado FNCLCC)</td>\n",
       "      <td>731</td>\n",
       "      <td>779</td>\n",
       "    </tr>\n",
       "    <tr>\n",
       "      <th>823</th>\n",
       "      <td>cc_onco1098</td>\n",
       "      <td>lesión osteolítica</td>\n",
       "      <td>813</td>\n",
       "      <td>831</td>\n",
       "    </tr>\n",
       "    <tr>\n",
       "      <th>836</th>\n",
       "      <td>cc_onco1098</td>\n",
       "      <td>neoplasia maligna</td>\n",
       "      <td>1076</td>\n",
       "      <td>1093</td>\n",
       "    </tr>\n",
       "    <tr>\n",
       "      <th>842</th>\n",
       "      <td>cc_onco1098</td>\n",
       "      <td>leiomiosarcoma grado 2</td>\n",
       "      <td>1128</td>\n",
       "      <td>1150</td>\n",
       "    </tr>\n",
       "    <tr>\n",
       "      <th>827</th>\n",
       "      <td>cc_onco1098</td>\n",
       "      <td>metástasis</td>\n",
       "      <td>1572</td>\n",
       "      <td>1582</td>\n",
       "    </tr>\n",
       "    <tr>\n",
       "      <th>828</th>\n",
       "      <td>cc_onco1098</td>\n",
       "      <td>metástasis</td>\n",
       "      <td>1702</td>\n",
       "      <td>1712</td>\n",
       "    </tr>\n",
       "    <tr>\n",
       "      <th>817</th>\n",
       "      <td>cc_onco1098</td>\n",
       "      <td>Leiomiosarcoma</td>\n",
       "      <td>1958</td>\n",
       "      <td>1972</td>\n",
       "    </tr>\n",
       "    <tr>\n",
       "      <th>840</th>\n",
       "      <td>cc_onco1098</td>\n",
       "      <td>tumoral</td>\n",
       "      <td>2202</td>\n",
       "      <td>2209</td>\n",
       "    </tr>\n",
       "    <tr>\n",
       "      <th>835</th>\n",
       "      <td>cc_onco1098</td>\n",
       "      <td>miomas</td>\n",
       "      <td>2612</td>\n",
       "      <td>2618</td>\n",
       "    </tr>\n",
       "    <tr>\n",
       "      <th>837</th>\n",
       "      <td>cc_onco1098</td>\n",
       "      <td>tumor</td>\n",
       "      <td>3711</td>\n",
       "      <td>3716</td>\n",
       "    </tr>\n",
       "    <tr>\n",
       "      <th>822</th>\n",
       "      <td>cc_onco1098</td>\n",
       "      <td>leiomiosarcoma</td>\n",
       "      <td>4505</td>\n",
       "      <td>4519</td>\n",
       "    </tr>\n",
       "    <tr>\n",
       "      <th>829</th>\n",
       "      <td>cc_onco1098</td>\n",
       "      <td>metástasis</td>\n",
       "      <td>4826</td>\n",
       "      <td>4836</td>\n",
       "    </tr>\n",
       "    <tr>\n",
       "      <th>819</th>\n",
       "      <td>cc_onco1098</td>\n",
       "      <td>Metástasis</td>\n",
       "      <td>5017</td>\n",
       "      <td>5027</td>\n",
       "    </tr>\n",
       "    <tr>\n",
       "      <th>830</th>\n",
       "      <td>cc_onco1098</td>\n",
       "      <td>metástasis</td>\n",
       "      <td>5361</td>\n",
       "      <td>5371</td>\n",
       "    </tr>\n",
       "    <tr>\n",
       "      <th>824</th>\n",
       "      <td>cc_onco1098</td>\n",
       "      <td>malignidad</td>\n",
       "      <td>5438</td>\n",
       "      <td>5448</td>\n",
       "    </tr>\n",
       "    <tr>\n",
       "      <th>820</th>\n",
       "      <td>cc_onco1098</td>\n",
       "      <td>Metástasis</td>\n",
       "      <td>5450</td>\n",
       "      <td>5460</td>\n",
       "    </tr>\n",
       "    <tr>\n",
       "      <th>818</th>\n",
       "      <td>cc_onco1098</td>\n",
       "      <td>Lesión lítica en el cuerpo vertebral</td>\n",
       "      <td>5536</td>\n",
       "      <td>5572</td>\n",
       "    </tr>\n",
       "    <tr>\n",
       "      <th>831</th>\n",
       "      <td>cc_onco1098</td>\n",
       "      <td>metástasis</td>\n",
       "      <td>5609</td>\n",
       "      <td>5619</td>\n",
       "    </tr>\n",
       "    <tr>\n",
       "      <th>825</th>\n",
       "      <td>cc_onco1098</td>\n",
       "      <td>metastásica</td>\n",
       "      <td>5874</td>\n",
       "      <td>5885</td>\n",
       "    </tr>\n",
       "    <tr>\n",
       "      <th>826</th>\n",
       "      <td>cc_onco1098</td>\n",
       "      <td>metastásicas</td>\n",
       "      <td>6477</td>\n",
       "      <td>6489</td>\n",
       "    </tr>\n",
       "    <tr>\n",
       "      <th>832</th>\n",
       "      <td>cc_onco1098</td>\n",
       "      <td>metástasis</td>\n",
       "      <td>6587</td>\n",
       "      <td>6597</td>\n",
       "    </tr>\n",
       "    <tr>\n",
       "      <th>833</th>\n",
       "      <td>cc_onco1098</td>\n",
       "      <td>metástasis</td>\n",
       "      <td>6642</td>\n",
       "      <td>6652</td>\n",
       "    </tr>\n",
       "    <tr>\n",
       "      <th>821</th>\n",
       "      <td>cc_onco1098</td>\n",
       "      <td>Metástasis</td>\n",
       "      <td>6721</td>\n",
       "      <td>6731</td>\n",
       "    </tr>\n",
       "  </tbody>\n",
       "</table>\n",
       "</div>"
      ],
      "text/plain": [
       "          doc_id                                          text_ref  start  \\\n",
       "834  cc_onco1098                                            miomas     72   \n",
       "838  cc_onco1098                                        tumoración    218   \n",
       "839  cc_onco1098                                        tumoración    412   \n",
       "841  cc_onco1098  leiomiosarcoma grado 2 (sistema de grado FNCLCC)    731   \n",
       "823  cc_onco1098                                lesión osteolítica    813   \n",
       "836  cc_onco1098                                 neoplasia maligna   1076   \n",
       "842  cc_onco1098                            leiomiosarcoma grado 2   1128   \n",
       "827  cc_onco1098                                        metástasis   1572   \n",
       "828  cc_onco1098                                        metástasis   1702   \n",
       "817  cc_onco1098                                    Leiomiosarcoma   1958   \n",
       "840  cc_onco1098                                           tumoral   2202   \n",
       "835  cc_onco1098                                            miomas   2612   \n",
       "837  cc_onco1098                                             tumor   3711   \n",
       "822  cc_onco1098                                    leiomiosarcoma   4505   \n",
       "829  cc_onco1098                                        metástasis   4826   \n",
       "819  cc_onco1098                                        Metástasis   5017   \n",
       "830  cc_onco1098                                        metástasis   5361   \n",
       "824  cc_onco1098                                        malignidad   5438   \n",
       "820  cc_onco1098                                        Metástasis   5450   \n",
       "818  cc_onco1098              Lesión lítica en el cuerpo vertebral   5536   \n",
       "831  cc_onco1098                                        metástasis   5609   \n",
       "825  cc_onco1098                                       metastásica   5874   \n",
       "826  cc_onco1098                                      metastásicas   6477   \n",
       "832  cc_onco1098                                        metástasis   6587   \n",
       "833  cc_onco1098                                        metástasis   6642   \n",
       "821  cc_onco1098                                        Metástasis   6721   \n",
       "\n",
       "      end  \n",
       "834    78  \n",
       "838   228  \n",
       "839   422  \n",
       "841   779  \n",
       "823   831  \n",
       "836  1093  \n",
       "842  1150  \n",
       "827  1582  \n",
       "828  1712  \n",
       "817  1972  \n",
       "840  2209  \n",
       "835  2618  \n",
       "837  3716  \n",
       "822  4519  \n",
       "829  4836  \n",
       "819  5027  \n",
       "830  5371  \n",
       "824  5448  \n",
       "820  5460  \n",
       "818  5572  \n",
       "831  5619  \n",
       "825  5885  \n",
       "826  6489  \n",
       "832  6597  \n",
       "833  6652  \n",
       "821  6731  "
      ]
     },
     "execution_count": 80,
     "metadata": {},
     "output_type": "execute_result"
    }
   ],
   "source": [
    "df_codes_dev_ner_final[df_codes_dev_ner_final[\"doc_id\"] == dev_doc_list[check_id]]"
   ]
  },
  {
   "cell_type": "code",
   "execution_count": 81,
   "metadata": {},
   "outputs": [],
   "source": [
    "check_id_frag = sum(dev_frag[:check_id])"
   ]
  },
  {
   "cell_type": "code",
   "execution_count": 82,
   "metadata": {},
   "outputs": [
    {
     "name": "stdout",
     "output_type": "stream",
     "text": [
      "[('Ana', (0, 9), 0, 'O'), ('##mne', (0, 9), 0, 'O'), ('##sis', (0, 9), 0, 'O'), ('Pac', (10, 18), 1, 'O'), ('##iente', (10, 18), 1, 'O'), ('de', (19, 21), 2, 'O'), ('44', (22, 24), 3, 'O'), ('años', (25, 29), 4, 'O'), ('sin', (30, 33), 5, 'O'), ('ante', (34, 46), 6, 'O'), ('##cedent', (34, 46), 6, 'O'), ('##es', (34, 46), 6, 'O'), ('médicos', (47, 54), 7, 'O'), ('de', (55, 57), 8, 'O'), ('interés', (58, 65), 9, 'O'), ('salvo', (66, 71), 10, 'O'), ('mio', (72, 78), 11, 'B'), ('##mas', (72, 78), 11, 'B'), ('ute', (79, 87), 12, 'O'), ('##rinos', (79, 87), 12, 'O'), ('en', (88, 90), 13, 'O'), ('seg', (91, 102), 14, 'O'), ('##ui', (91, 102), 14, 'O'), ('##miento', (91, 102), 14, 'O'), ('por', (103, 106), 15, 'O'), ('G', (107, 118), 16, 'O'), ('##ine', (107, 118), 16, 'O'), ('##colo', (107, 118), 16, 'O'), ('##gía', (107, 118), 16, 'O'), ('.', (118, 119), 17, 'O'), ('A', (120, 125), 18, 'O'), ('##cud', (120, 125), 18, 'O'), ('##e', (120, 125), 18, 'O'), ('a', (126, 127), 19, 'O'), ('Ur', (128, 137), 20, 'O'), ('##gen', (128, 137), 20, 'O'), ('##cias', (128, 137), 20, 'O'), ('en', (138, 140), 21, 'O'), ('noviembre', (141, 150), 22, 'O'), ('de', (151, 153), 23, 'O'), ('2013', (154, 158), 24, 'O'), ('ref', (159, 169), 25, 'O'), ('##iri', (159, 169), 25, 'O'), ('##endo', (159, 169), 25, 'O'), ('mol', (170, 179), 26, 'O'), ('##esti', (170, 179), 26, 'O'), ('##as', (170, 179), 26, 'O'), ('oral', (180, 186), 27, 'O'), ('##es', (180, 186), 27, 'O'), ('de', (187, 189), 28, 'O'), ('una', (190, 193), 29, 'O'), ('semana', (194, 200), 30, 'O'), ('de', (201, 203), 31, 'O'), ('evolución', (204, 213), 32, 'O'), ('con', (214, 217), 33, 'O'), ('tumor', (218, 228), 34, 'B'), ('##ación', (218, 228), 34, 'B'), ('en', (229, 231), 35, 'O'), ('la', (232, 234), 36, 'O'), ('región', (235, 241), 37, 'O'), ('ma', (242, 251), 38, 'O'), ('##di', (242, 251), 38, 'O'), ('##bula', (242, 251), 38, 'O'), ('##r', (242, 251), 38, 'O'), ('izquierda', (252, 261), 39, 'O'), ('sang', (262, 271), 40, 'O'), ('##rante', (262, 271), 40, 'O'), ('a', (272, 273), 41, 'O'), ('la', (274, 276), 42, 'O'), ('mani', (277, 289), 43, 'O'), ('##pul', (277, 289), 43, 'O'), ('##ación', (277, 289), 43, 'O'), ('.', (289, 290), 44, 'O'), ('A', (291, 301), 45, 'O'), ('##com', (291, 301), 45, 'O'), ('##pa', (291, 301), 45, 'O'), ('##ña', (291, 301), 45, 'O'), ('##ba', (291, 301), 45, 'O'), ('ac', (302, 316), 46, 'O'), ('##or', (302, 316), 46, 'O'), ('##char', (302, 316), 46, 'O'), ('##miento', (302, 316), 46, 'O'), ('hem', (317, 331), 47, 'O'), ('##iman', (317, 331), 47, 'O'), ('##di', (317, 331), 47, 'O'), ('##bula', (317, 331), 47, 'O'), ('##r', (317, 331), 47, 'O'), ('y', (332, 333), 48, 'O'), ('del', (334, 337), 49, 'O'), ('lab', (338, 343), 50, 'O'), ('##io', (338, 343), 50, 'O'), ('inferior', (344, 352), 51, 'O'), ('izquierdo', (353, 362), 52, 'O'), ('.', (362, 363), 53, 'O')]\n",
      "\n",
      "\n",
      "[('Ex', (365, 371), 54, 'O'), ('##amen', (365, 371), 54, 'O'), ('físico', (372, 378), 55, 'O'), ('A', (379, 380), 56, 'O'), ('nivel', (381, 386), 57, 'O'), ('oral', (387, 391), 58, 'O'), ('se', (392, 394), 59, 'O'), ('identifica', (395, 407), 60, 'O'), ('##ba', (395, 407), 60, 'O'), ('una', (408, 411), 61, 'O'), ('tumor', (412, 422), 62, 'B'), ('##ación', (412, 422), 62, 'B'), ('oval', (423, 430), 63, 'O'), ('##ada', (423, 430), 63, 'O'), ('de', (431, 433), 64, 'O'), ('aproximadamente', (434, 449), 65, 'O'), ('3', (450, 451), 66, 'O'), ('cm', (452, 454), 67, 'O'), ('diámetro', (455, 463), 68, 'O'), (',', (463, 464), 69, 'O'), ('mó', (465, 470), 70, 'O'), ('##vil', (465, 470), 70, 'O'), (',', (470, 471), 71, 'O'), ('firme', (472, 477), 72, 'O'), ('y', (478, 479), 73, 'O'), ('no', (480, 482), 74, 'O'), ('dolor', (483, 491), 75, 'O'), ('##osa', (483, 491), 75, 'O'), (',', (491, 492), 76, 'O'), ('pe', (493, 503), 77, 'O'), ('##dic', (493, 503), 77, 'O'), ('##ula', (493, 503), 77, 'O'), ('##da', (493, 503), 77, 'O'), ('a', (504, 505), 78, 'O'), ('la', (506, 508), 79, 'O'), ('mu', (509, 515), 80, 'O'), ('##cosa', (509, 515), 80, 'O'), ('ging', (516, 524), 81, 'O'), ('##ival', (516, 524), 81, 'O'), ('de', (525, 527), 82, 'O'), ('la', (528, 530), 83, 'O'), ('zona', (531, 535), 84, 'O'), ('mol', (536, 541), 85, 'O'), ('##ar', (536, 541), 85, 'O'), ('.', (541, 542), 86, 'O'), ('Pr', (544, 551), 87, 'O'), ('##ue', (544, 551), 87, 'O'), ('##bas', (544, 551), 87, 'O'), ('complement', (552, 567), 88, 'O'), ('##arias', (552, 567), 88, 'O'), ('-', (568, 569), 89, 'O'), ('Ort', (570, 585), 90, 'O'), ('##opa', (570, 585), 90, 'O'), ('##nto', (570, 585), 90, 'O'), ('##grafía', (570, 585), 90, 'O'), ('(', (586, 587), 91, 'O'), ('5', (587, 588), 92, 'O'), ('/', (588, 589), 93, 'O'), ('11', (589, 591), 94, 'O'), ('/', (591, 592), 95, 'O'), ('2013', (592, 596), 96, 'O'), (')', (596, 597), 97, 'O'), ('.', (597, 598), 98, 'O'), ('os', (599, 609), 99, 'O'), ('##te', (599, 609), 99, 'O'), ('##ól', (599, 609), 99, 'O'), ('##isis', (599, 609), 99, 'O'), ('mand', (610, 620), 100, 'O'), ('##ibu', (610, 620), 100, 'O'), ('##lar', (610, 620), 100, 'O'), ('en', (621, 623), 101, 'O'), ('el', (624, 626), 102, 'O'), ('cuarto', (627, 633), 103, 'O'), ('cu', (634, 643), 104, 'O'), ('##ad', (634, 643), 104, 'O'), ('##rante', (634, 643), 104, 'O'), ('con', (644, 647), 105, 'O'), ('extensión', (648, 657), 106, 'O'), ('a', (658, 659), 107, 'O'), ('la', (660, 662), 108, 'O'), ('rama', (663, 667), 109, 'O'), ('mand', (668, 678), 110, 'O'), ('##ibu', (668, 678), 110, 'O'), ('##lar', (668, 678), 110, 'O'), ('izquierda', (679, 688), 111, 'O'), ('.', (688, 689), 112, 'O'), ('-', (690, 691), 113, 'O'), ('Bio', (692, 699), 114, 'O'), ('##psia', (692, 699), 114, 'O'), ('de', (700, 702), 115, 'O'), ('la', (703, 705), 116, 'O'), ('lesión', (706, 712), 117, 'O'), ('oral', (713, 717), 118, 'O'), ('(', (718, 719), 119, 'O'), ('5', (719, 720), 120, 'O'), ('/', (720, 721), 121, 'O'), ('11', (721, 723), 122, 'O'), ('/', (723, 724), 123, 'O'), ('2013', (724, 728), 124, 'O'), (')', (728, 729), 125, 'O'), (':', (729, 730), 126, 'O'), ('lei', (731, 745), 127, 'B'), ('##omi', (731, 745), 127, 'B'), ('##osa', (731, 745), 127, 'B'), ('##rco', (731, 745), 127, 'B'), ('##ma', (731, 745), 127, 'B'), ('grado', (746, 751), 128, 'I'), ('2', (752, 753), 129, 'I'), ('(', (754, 755), 130, 'I'), ('sistema', (755, 762), 131, 'I'), ('de', (763, 765), 132, 'I'), ('grado', (766, 771), 133, 'I'), ('FN', (772, 778), 134, 'I'), ('##CL', (772, 778), 134, 'I'), ('##CC', (772, 778), 134, 'I'), (')', (778, 779), 135, 'I'), ('.', (779, 780), 136, 'O')]\n",
      "\n",
      "\n",
      "[('-', (781, 782), 137, 'O'), ('TC', (783, 785), 138, 'O'), ('ce', (786, 799), 139, 'O'), ('##rvi', (786, 799), 139, 'O'), ('##co', (786, 799), 139, 'O'), ('##fa', (786, 799), 139, 'O'), ('##cial', (786, 799), 139, 'O'), ('(', (800, 801), 140, 'O'), ('7', (801, 802), 141, 'O'), ('/', (802, 803), 142, 'O'), ('11', (803, 805), 143, 'O'), ('/', (805, 806), 144, 'O'), ('2013', (806, 810), 145, 'O'), (')', (810, 811), 146, 'O'), (':', (811, 812), 147, 'O'), ('lesión', (813, 819), 148, 'B'), ('os', (820, 831), 149, 'I'), ('##te', (820, 831), 149, 'I'), ('##ol', (820, 831), 149, 'I'), ('##ítica', (820, 831), 149, 'I'), ('en', (832, 834), 150, 'O'), ('la', (835, 837), 151, 'O'), ('hem', (838, 851), 152, 'O'), ('##iman', (838, 851), 152, 'O'), ('##dí', (838, 851), 152, 'O'), ('##bula', (838, 851), 152, 'O'), ('izquierda', (852, 861), 153, 'O'), ('que', (862, 865), 154, 'O'), ('asi', (866, 873), 155, 'O'), ('##enta', (866, 873), 155, 'O'), ('en', (874, 876), 156, 'O'), ('su', (877, 879), 157, 'O'), ('región', (880, 886), 158, 'O'), ('ret', (887, 897), 159, 'O'), ('##romo', (887, 897), 159, 'O'), ('##lar', (887, 897), 159, 'O'), ('y', (898, 899), 160, 'O'), ('án', (900, 906), 161, 'O'), ('##gulo', (900, 906), 161, 'O'), ('mand', (907, 917), 162, 'O'), ('##ibu', (907, 917), 162, 'O'), ('##lar', (907, 917), 162, 'O'), (',', (917, 918), 163, 'O'), ('con', (919, 922), 164, 'O'), ('afecta', (923, 933), 165, 'O'), ('##ción', (923, 933), 165, 'O'), ('del', (934, 937), 166, 'O'), ('canal', (938, 943), 167, 'O'), ('del', (944, 947), 168, 'O'), ('ner', (948, 954), 169, 'O'), ('##vio', (948, 954), 169, 'O'), ('den', (955, 963), 170, 'O'), ('##tario', (955, 963), 170, 'O'), ('inferior', (964, 972), 171, 'O'), (',', (972, 973), 172, 'O'), ('que', (974, 977), 173, 'O'), ('expand', (978, 985), 174, 'O'), ('##e', (978, 985), 174, 'O'), ('y', (986, 987), 175, 'O'), ('rom', (988, 993), 176, 'O'), ('##pe', (988, 993), 176, 'O'), ('las', (994, 997), 177, 'O'), ('cort', (998, 1008), 178, 'O'), ('##ical', (998, 1008), 178, 'O'), ('##es', (998, 1008), 178, 'O'), ('ós', (1009, 1014), 179, 'O'), ('##eas', (1009, 1014), 179, 'O'), ('y', (1015, 1016), 180, 'O'), ('as', (1017, 1023), 181, 'O'), ('##oci', (1017, 1023), 181, 'O'), ('##a', (1017, 1023), 181, 'O'), ('real', (1024, 1030), 182, 'O'), ('##ce', (1024, 1030), 182, 'O'), ('de', (1031, 1033), 183, 'O'), ('partes', (1034, 1040), 184, 'O'), ('bland', (1041, 1048), 185, 'O'), ('##as', (1041, 1048), 185, 'O'), ('ad', (1049, 1059), 186, 'O'), ('##ya', (1049, 1059), 186, 'O'), ('##centes', (1049, 1059), 186, 'O'), (',', (1059, 1060), 187, 'O'), ('compatible', (1061, 1071), 188, 'O'), ('con', (1072, 1075), 189, 'O'), ('neo', (1076, 1085), 190, 'B'), ('##pla', (1076, 1085), 190, 'B'), ('##sia', (1076, 1085), 190, 'B'), ('mali', (1086, 1093), 191, 'I'), ('##gna', (1086, 1093), 191, 'I'), ('(', (1094, 1095), 192, 'O'), ('dia', (1095, 1106), 193, 'O'), ('##gnóstico', (1095, 1106), 193, 'O'), ('ana', (1107, 1124), 194, 'O'), ('##tom', (1107, 1124), 194, 'O'), ('##opa', (1107, 1124), 194, 'O'), ('##tol', (1107, 1124), 194, 'O'), ('##ógico', (1107, 1124), 194, 'O'), ('de', (1125, 1127), 195, 'O'), ('lei', (1128, 1142), 196, 'B'), ('##omi', (1128, 1142), 196, 'B'), ('##osa', (1128, 1142), 196, 'B'), ('##rco', (1128, 1142), 196, 'B'), ('##ma', (1128, 1142), 196, 'B'), ('grado', (1143, 1148), 197, 'I'), ('2', (1149, 1150), 198, 'I'), (')', (1150, 1151), 199, 'O'), ('.', (1151, 1152), 200, 'O'), ('No', (1153, 1155), 201, 'O'), ('se', (1156, 1158), 202, 'O'), ('apre', (1159, 1167), 203, 'O'), ('##cian', (1159, 1167), 203, 'O'), ('ad', (1168, 1179), 204, 'O'), ('##eno', (1168, 1179), 204, 'O'), ('##pat', (1168, 1179), 204, 'O'), ('##ías', (1168, 1179), 204, 'O'), ('radio', (1180, 1196), 205, 'O'), ('##lógica', (1180, 1196), 205, 'O'), ('##mente', (1180, 1196), 205, 'O'), ('significativa', (1197, 1211), 206, 'O'), ('##s', (1197, 1211), 206, 'O'), ('.', (1211, 1212), 207, 'O')]\n",
      "\n",
      "\n",
      "[('Nó', (1213, 1219), 208, 'O'), ('##dul', (1213, 1219), 208, 'O'), ('##o', (1213, 1219), 208, 'O'), ('hip', (1220, 1229), 209, 'O'), ('##oden', (1220, 1229), 209, 'O'), ('##so', (1220, 1229), 209, 'O'), ('en', (1230, 1232), 210, 'O'), ('L', (1233, 1236), 211, 'O'), ('##TD', (1233, 1236), 211, 'O'), ('a', (1237, 1238), 212, 'O'), ('corre', (1239, 1252), 213, 'O'), ('##lac', (1239, 1252), 213, 'O'), ('##ionar', (1239, 1252), 213, 'O'), ('con', (1253, 1256), 214, 'O'), ('e', (1257, 1266), 215, 'O'), ('##co', (1257, 1266), 215, 'O'), ('##grafía', (1257, 1266), 215, 'O'), ('.', (1266, 1267), 216, 'O'), ('-', (1268, 1269), 217, 'O'), ('TC', (1270, 1272), 218, 'O'), ('tó', (1273, 1279), 219, 'O'), ('##rac', (1273, 1279), 219, 'O'), ('##o', (1273, 1279), 219, 'O'), ('-', (1279, 1280), 220, 'O'), ('ab', (1280, 1289), 221, 'O'), ('##dom', (1280, 1289), 221, 'O'), ('##inal', (1280, 1289), 221, 'O'), ('(', (1290, 1291), 222, 'O'), ('20', (1291, 1293), 223, 'O'), ('/', (1293, 1294), 224, 'O'), ('11', (1294, 1296), 225, 'O'), ('/', (1296, 1297), 226, 'O'), ('2013', (1297, 1301), 227, 'O'), (')', (1301, 1302), 228, 'O'), (':', (1302, 1303), 229, 'O'), ('en', (1304, 1306), 230, 'O'), ('la', (1307, 1309), 231, 'O'), ('ex', (1310, 1321), 232, 'O'), ('##plo', (1310, 1321), 232, 'O'), ('##ración', (1310, 1321), 232, 'O'), ('to', (1322, 1330), 233, 'O'), ('##rá', (1322, 1330), 233, 'O'), ('##ci', (1322, 1330), 233, 'O'), ('##ca', (1322, 1330), 233, 'O'), ('se', (1331, 1333), 234, 'O'), ('identifica', (1334, 1344), 235, 'O'), ('una', (1345, 1348), 236, 'O'), ('imagen', (1349, 1355), 237, 'O'), ('no', (1356, 1363), 238, 'O'), ('##dula', (1356, 1363), 238, 'O'), ('##r', (1356, 1363), 238, 'O'), ('de', (1364, 1366), 239, 'O'), ('pequeño', (1367, 1374), 240, 'O'), ('tamaño', (1375, 1381), 241, 'O'), ('(', (1382, 1383), 242, 'O'), ('entre', (1383, 1388), 243, 'O'), ('5', (1389, 1390), 244, 'O'), ('y', (1391, 1392), 245, 'O'), ('6', (1393, 1394), 246, 'O'), ('mm', (1395, 1397), 247, 'O'), (')', (1397, 1398), 248, 'O'), ('en', (1399, 1401), 249, 'O'), ('el', (1402, 1404), 250, 'O'), ('segmento', (1405, 1413), 251, 'O'), ('posterior', (1414, 1423), 252, 'O'), ('del', (1424, 1427), 253, 'O'), ('l', (1428, 1434), 254, 'O'), ('##ób', (1428, 1434), 254, 'O'), ('##ulo', (1428, 1434), 254, 'O'), ('inferior', (1435, 1443), 255, 'O'), ('derecho', (1444, 1451), 256, 'O'), (',', (1451, 1452), 257, 'O'), ('sin', (1453, 1456), 258, 'O'), ('cal', (1457, 1470), 259, 'O'), ('##ci', (1457, 1470), 259, 'O'), ('##ficación', (1457, 1470), 259, 'O'), ('evidente', (1471, 1479), 260, 'O'), (',', (1479, 1480), 261, 'O'), ('cuya', (1481, 1485), 262, 'O'), ('naturaleza', (1486, 1496), 263, 'O'), ('no', (1497, 1499), 264, 'O'), ('es', (1500, 1502), 265, 'O'), ('posible', (1503, 1510), 266, 'O'), ('determinar', (1511, 1521), 267, 'O'), (',', (1521, 1522), 268, 'O'), ('por', (1523, 1526), 269, 'O'), ('lo', (1527, 1529), 270, 'O'), ('que', (1530, 1533), 271, 'O'), ('no', (1534, 1536), 272, 'O'), ('se', (1537, 1539), 273, 'O'), ('puede', (1540, 1545), 274, 'O'), ('ex', (1546, 1553), 275, 'O'), ('##clu', (1546, 1553), 275, 'O'), ('##ir', (1546, 1553), 275, 'O'), ('la', (1554, 1556), 276, 'O'), ('posibilidad', (1557, 1568), 277, 'O'), ('de', (1569, 1571), 278, 'O'), ('met', (1572, 1582), 279, 'B'), ('##ást', (1572, 1582), 279, 'B'), ('##asis', (1572, 1582), 279, 'B'), ('.', (1582, 1583), 280, 'O')]\n",
      "\n",
      "\n",
      "[('Con', (1584, 1594), 281, 'O'), ('##clusión', (1584, 1594), 281, 'O'), (':', (1594, 1595), 282, 'O'), ('pequeña', (1596, 1603), 283, 'O'), ('imagen', (1604, 1610), 284, 'O'), ('no', (1611, 1618), 285, 'O'), ('##dula', (1611, 1618), 285, 'O'), ('##r', (1611, 1618), 285, 'O'), ('inde', (1619, 1632), 286, 'O'), ('##ter', (1619, 1632), 286, 'O'), ('##minada', (1619, 1632), 286, 'O'), ('en', (1633, 1635), 287, 'O'), ('la', (1636, 1638), 288, 'O'), ('base', (1639, 1643), 289, 'O'), ('pu', (1644, 1652), 290, 'O'), ('##lm', (1644, 1652), 290, 'O'), ('##onar', (1644, 1652), 290, 'O'), ('derecha', (1653, 1660), 291, 'O'), (',', (1660, 1661), 292, 'O'), ('no', (1662, 1664), 293, 'O'), ('pu', (1665, 1675), 294, 'O'), ('##di', (1665, 1675), 294, 'O'), ('##éndose', (1665, 1675), 294, 'O'), ('ex', (1676, 1683), 295, 'O'), ('##clu', (1676, 1683), 295, 'O'), ('##ir', (1676, 1683), 295, 'O'), ('la', (1684, 1686), 296, 'O'), ('posibilidad', (1687, 1698), 297, 'O'), ('de', (1699, 1701), 298, 'O'), ('met', (1702, 1712), 299, 'B'), ('##ást', (1702, 1712), 299, 'B'), ('##asis', (1702, 1712), 299, 'B'), ('.', (1712, 1713), 300, 'O'), ('-', (1714, 1715), 301, 'O'), ('Inter', (1716, 1728), 302, 'O'), ('##vención', (1716, 1728), 302, 'O'), ('qui', (1729, 1739), 303, 'O'), ('##rú', (1729, 1739), 303, 'O'), ('##rgi', (1729, 1739), 303, 'O'), ('##ca', (1729, 1739), 303, 'O'), ('(', (1740, 1741), 304, 'O'), ('26', (1741, 1743), 305, 'O'), ('/', (1743, 1744), 306, 'O'), ('11', (1744, 1746), 307, 'O'), ('/', (1746, 1747), 308, 'O'), ('2013', (1747, 1751), 309, 'O'), (')', (1751, 1752), 310, 'O'), (':', (1752, 1753), 311, 'O'), ('se', (1754, 1756), 312, 'O'), ('realiza', (1757, 1764), 313, 'O'), ('res', (1765, 1774), 314, 'O'), ('##ec', (1765, 1774), 314, 'O'), ('##ción', (1765, 1774), 314, 'O'), ('de', (1775, 1777), 315, 'O'), ('la', (1778, 1780), 316, 'O'), ('lesión', (1781, 1787), 317, 'O'), ('mand', (1788, 1798), 318, 'O'), ('##ibu', (1788, 1798), 318, 'O'), ('##lar', (1788, 1798), 318, 'O'), ('mediante', (1799, 1807), 319, 'O'), ('abord', (1808, 1816), 320, 'O'), ('##aje', (1808, 1816), 320, 'O'), ('intra', (1817, 1826), 321, 'O'), ('##oral', (1817, 1826), 321, 'O'), ('y', (1827, 1828), 322, 'O'), ('ce', (1829, 1841), 323, 'O'), ('##rvi', (1829, 1841), 323, 'O'), ('##cot', (1829, 1841), 323, 'O'), ('##om', (1829, 1841), 323, 'O'), ('##ía', (1829, 1841), 323, 'O'), (',', (1841, 1842), 324, 'O'), ('resp', (1843, 1853), 325, 'O'), ('##etan', (1843, 1853), 325, 'O'), ('##do', (1843, 1853), 325, 'O'), ('los', (1854, 1857), 326, 'O'), ('már', (1858, 1866), 327, 'O'), ('##genes', (1858, 1866), 327, 'O'), ('qui', (1867, 1878), 328, 'O'), ('##rú', (1867, 1878), 328, 'O'), ('##rgi', (1867, 1878), 328, 'O'), ('##cos', (1867, 1878), 328, 'O'), ('.', (1878, 1879), 329, 'O'), ('Ob', (1880, 1889), 330, 'O'), ('##ten', (1880, 1889), 330, 'O'), ('##ción', (1880, 1889), 330, 'O'), ('de', (1890, 1892), 331, 'O'), ('col', (1893, 1900), 332, 'O'), ('##ga', (1893, 1900), 332, 'O'), ('##jo', (1893, 1900), 332, 'O'), ('micro', (1901, 1916), 333, 'O'), ('##qui', (1901, 1916), 333, 'O'), ('##rú', (1901, 1916), 333, 'O'), ('##rgi', (1901, 1916), 333, 'O'), ('##co', (1901, 1916), 333, 'O'), ('de', (1917, 1919), 334, 'O'), ('pero', (1920, 1926), 335, 'O'), ('##né', (1920, 1926), 335, 'O'), ('de', (1927, 1929), 336, 'O'), ('forma', (1930, 1935), 337, 'O'), ('regla', (1936, 1943), 338, 'O'), ('##da', (1936, 1943), 338, 'O'), ('.', (1943, 1944), 339, 'O')]\n",
      "\n",
      "\n",
      "[('Dia', (1946, 1957), 340, 'O'), ('##gnóstico', (1946, 1957), 340, 'O'), ('Lei', (1958, 1972), 341, 'B'), ('##omi', (1958, 1972), 341, 'B'), ('##osa', (1958, 1972), 341, 'B'), ('##rco', (1958, 1972), 341, 'B'), ('##ma', (1958, 1972), 341, 'B'), ('ul', (1973, 1981), 342, 'O'), ('##cera', (1973, 1981), 342, 'O'), ('##do', (1973, 1981), 342, 'O'), (',', (1981, 1982), 343, 'O'), ('de', (1983, 1985), 344, 'O'), ('3', (1986, 1987), 345, 'O'), (',', (1987, 1988), 346, 'O'), ('5', (1988, 1989), 347, 'O'), ('cm', (1990, 1992), 348, 'O'), ('de', (1993, 1995), 349, 'O'), ('diámetro', (1996, 2004), 350, 'O'), ('máximo', (2005, 2011), 351, 'O'), (',', (2011, 2012), 352, 'O'), ('en', (2013, 2015), 353, 'O'), ('la', (2016, 2018), 354, 'O'), ('rama', (2019, 2023), 355, 'O'), ('horizontal', (2024, 2034), 356, 'O'), ('de', (2035, 2037), 357, 'O'), ('la', (2038, 2040), 358, 'O'), ('mand', (2041, 2050), 359, 'O'), ('##ibu', (2041, 2050), 359, 'O'), ('##la', (2041, 2050), 359, 'O'), ('izquierda', (2051, 2060), 360, 'O'), ('con', (2061, 2064), 361, 'O'), ('rot', (2065, 2071), 362, 'O'), ('##ura', (2065, 2071), 362, 'O'), ('de', (2072, 2074), 363, 'O'), ('la', (2075, 2077), 364, 'O'), ('cort', (2078, 2086), 365, 'O'), ('##ical', (2078, 2086), 365, 'O'), ('y', (2087, 2088), 366, 'O'), ('afecta', (2089, 2099), 367, 'O'), ('##ción', (2089, 2099), 367, 'O'), ('de', (2100, 2102), 368, 'O'), ('la', (2103, 2105), 369, 'O'), ('en', (2106, 2111), 370, 'O'), ('##cía', (2106, 2111), 370, 'O'), ('.', (2111, 2112), 371, 'O'), ('Bord', (2113, 2119), 372, 'O'), ('##es', (2113, 2119), 372, 'O'), ('qui', (2120, 2131), 373, 'O'), ('##rú', (2120, 2131), 373, 'O'), ('##rgi', (2120, 2131), 373, 'O'), ('##cos', (2120, 2131), 373, 'O'), ('de', (2132, 2134), 374, 'O'), ('res', (2135, 2144), 375, 'O'), ('##ec', (2135, 2144), 375, 'O'), ('##ción', (2135, 2144), 375, 'O'), ('(', (2145, 2146), 376, 'O'), ('mu', (2146, 2153), 377, 'O'), ('##cos', (2146, 2153), 377, 'O'), ('##os', (2146, 2153), 377, 'O'), (',', (2153, 2154), 378, 'O'), ('partes', (2155, 2161), 379, 'O'), ('bland', (2162, 2169), 380, 'O'), ('##as', (2162, 2169), 380, 'O'), ('y', (2170, 2171), 381, 'O'), ('ós', (2172, 2177), 382, 'O'), ('##eos', (2172, 2177), 382, 'O'), (')', (2177, 2178), 383, 'O'), ('libres', (2179, 2185), 384, 'O'), ('de', (2186, 2188), 385, 'O'), ('in', (2189, 2201), 386, 'O'), ('##fil', (2189, 2201), 386, 'O'), ('##tra', (2189, 2201), 386, 'O'), ('##ción', (2189, 2201), 386, 'O'), ('tumor', (2202, 2209), 387, 'B'), ('##al', (2202, 2209), 387, 'B'), ('.', (2209, 2210), 388, 'O')]\n",
      "\n",
      "\n",
      "[('Trata', (2212, 2223), 389, 'O'), ('##miento', (2212, 2223), 389, 'O'), ('La', (2224, 2226), 390, 'O'), ('paciente', (2227, 2235), 391, 'O'), ('recibió', (2236, 2243), 392, 'O'), ('radio', (2244, 2256), 393, 'O'), ('##tera', (2244, 2256), 393, 'O'), ('##pia', (2244, 2256), 393, 'O'), ('posto', (2257, 2271), 394, 'O'), ('##perator', (2257, 2271), 394, 'O'), ('##ia', (2257, 2271), 394, 'O'), ('desde', (2272, 2277), 395, 'O'), ('el', (2278, 2280), 396, 'O'), ('27', (2281, 2283), 397, 'O'), ('/', (2283, 2284), 398, 'O'), ('1', (2284, 2285), 399, 'O'), ('/', (2285, 2286), 400, 'O'), ('2014', (2286, 2290), 401, 'O'), ('al', (2291, 2293), 402, 'O'), ('24', (2294, 2296), 403, 'O'), ('/', (2296, 2297), 404, 'O'), ('2', (2297, 2298), 405, 'O'), ('/', (2298, 2299), 406, 'O'), ('2014', (2299, 2303), 407, 'O'), (',', (2303, 2304), 408, 'O'), ('ad', (2305, 2320), 409, 'O'), ('##mini', (2305, 2320), 409, 'O'), ('##str', (2305, 2320), 409, 'O'), ('##ándose', (2305, 2320), 409, 'O'), ('una', (2321, 2324), 410, 'O'), ('dos', (2325, 2330), 411, 'O'), ('##is', (2325, 2330), 411, 'O'), ('total', (2331, 2336), 412, 'O'), ('de', (2337, 2339), 413, 'O'), ('42', (2340, 2342), 414, 'O'), ('G', (2343, 2345), 415, 'O'), ('##y', (2343, 2345), 415, 'O'), ('(', (2346, 2347), 416, 'O'), ('2', (2347, 2348), 417, 'O'), ('G', (2349, 2351), 418, 'O'), ('##y', (2349, 2351), 418, 'O'), ('/', (2351, 2352), 419, 'O'), ('día', (2352, 2355), 420, 'O'), (')', (2355, 2356), 421, 'O'), ('sobre', (2357, 2362), 422, 'O'), ('un', (2363, 2365), 423, 'O'), ('volumen', (2366, 2373), 424, 'O'), ('blanco', (2374, 2380), 425, 'O'), ('c', (2381, 2388), 426, 'O'), ('##lín', (2381, 2388), 426, 'O'), ('##ico', (2381, 2388), 426, 'O'), ('que', (2389, 2392), 427, 'O'), ('incluyó', (2393, 2400), 428, 'O'), ('la', (2401, 2403), 429, 'O'), ('mand', (2404, 2413), 430, 'O'), ('##í', (2404, 2413), 430, 'O'), ('##bula', (2404, 2413), 430, 'O'), ('izquierda', (2414, 2423), 431, 'O'), ('y', (2424, 2425), 432, 'O'), ('la', (2426, 2428), 433, 'O'), ('ci', (2429, 2437), 434, 'O'), ('##cat', (2429, 2437), 434, 'O'), ('##riz', (2429, 2437), 434, 'O'), ('ce', (2438, 2446), 435, 'O'), ('##rvi', (2438, 2446), 435, 'O'), ('##cal', (2438, 2446), 435, 'O'), ('.', (2446, 2447), 436, 'O'), ('E', (2449, 2458), 437, 'O'), ('##vol', (2449, 2458), 437, 'O'), ('##ución', (2449, 2458), 437, 'O'), ('Dada', (2459, 2463), 438, 'O'), ('la', (2464, 2466), 439, 'O'), ('his', (2467, 2477), 440, 'O'), ('##tol', (2467, 2477), 440, 'O'), ('##ogía', (2467, 2477), 440, 'O'), ('se', (2478, 2480), 441, 'O'), ('decide', (2481, 2487), 442, 'O'), (',', (2487, 2488), 443, 'O'), ('conjunt', (2489, 2502), 444, 'O'), ('##amente', (2489, 2502), 444, 'O'), ('al', (2503, 2505), 445, 'O'), ('inicio', (2506, 2512), 446, 'O'), ('de', (2513, 2515), 447, 'O'), ('RT', (2516, 2518), 448, 'O'), (',', (2518, 2519), 449, 'O'), ('come', (2520, 2528), 450, 'O'), ('##ntar', (2520, 2528), 450, 'O'), ('el', (2529, 2531), 451, 'O'), ('caso', (2532, 2536), 452, 'O'), ('con', (2537, 2540), 453, 'O'), ('el', (2541, 2543), 454, 'O'), ('Servicio', (2544, 2552), 455, 'O'), ('de', (2553, 2555), 456, 'O'), ('G', (2556, 2567), 457, 'O'), ('##ine', (2556, 2567), 457, 'O'), ('##colo', (2556, 2567), 457, 'O'), ('##gía', (2556, 2567), 457, 'O'), ('.', (2567, 2568), 458, 'O'), ('En', (2569, 2571), 459, 'O'), ('el', (2572, 2574), 460, 'O'), ('estudio', (2575, 2582), 461, 'O'), ('gi', (2583, 2595), 462, 'O'), ('##nec', (2583, 2595), 462, 'O'), ('##ológico', (2583, 2595), 462, 'O'), ('se', (2596, 2598), 463, 'O'), ('apre', (2599, 2607), 464, 'O'), ('##cian', (2599, 2607), 464, 'O'), ('dos', (2608, 2611), 465, 'O'), ('mio', (2612, 2618), 466, 'B'), ('##mas', (2612, 2618), 466, 'B'), ('de', (2619, 2621), 467, 'O'), ('mayor', (2622, 2627), 468, 'O'), ('tamaño', (2628, 2634), 469, 'O'), ('que', (2635, 2638), 470, 'O'), ('los', (2639, 2642), 471, 'O'), ('conocidos', (2643, 2652), 472, 'O'), ('previamente', (2653, 2664), 473, 'O'), ('.', (2664, 2665), 474, 'O')]\n",
      "\n",
      "\n",
      "[('Se', (2666, 2668), 475, 'O'), ('decide', (2669, 2675), 476, 'O'), ('como', (2676, 2680), 477, 'O'), ('tratamiento', (2681, 2692), 478, 'O'), ('his', (2693, 2706), 479, 'O'), ('##tere', (2693, 2706), 479, 'O'), ('##cto', (2693, 2706), 479, 'O'), ('##mí', (2693, 2706), 479, 'O'), ('##a', (2693, 2706), 479, 'O'), ('total', (2707, 2712), 480, 'O'), ('simple', (2713, 2719), 481, 'O'), (',', (2719, 2720), 482, 'O'), ('realizada', (2721, 2730), 483, 'O'), ('el', (2731, 2733), 484, 'O'), ('14', (2734, 2736), 485, 'O'), ('/', (2736, 2737), 486, 'O'), ('1', (2737, 2738), 487, 'O'), ('/', (2738, 2739), 488, 'O'), ('2014', (2739, 2743), 489, 'O'), (',', (2743, 2744), 490, 'O'), ('con', (2745, 2748), 491, 'O'), ('resultado', (2749, 2758), 492, 'O'), ('ana', (2759, 2776), 493, 'O'), ('##tom', (2759, 2776), 493, 'O'), ('##opa', (2759, 2776), 493, 'O'), ('##tol', (2759, 2776), 493, 'O'), ('##ógico', (2759, 2776), 493, 'O'), ('de', (2777, 2779), 494, 'O'), (':', (2779, 2780), 495, 'O'), ('-', (2781, 2782), 496, 'O'), ('Des', (2783, 2794), 497, 'O'), ('##cripción', (2783, 2794), 497, 'O'), ('mac', (2795, 2807), 498, 'O'), ('##ros', (2795, 2807), 498, 'O'), ('##có', (2795, 2807), 498, 'O'), ('##pica', (2795, 2807), 498, 'O'), (':', (2807, 2808), 499, 'O'), ('el', (2809, 2811), 500, 'O'), ('cuerpo', (2812, 2818), 501, 'O'), ('y', (2819, 2820), 502, 'O'), ('la', (2821, 2823), 503, 'O'), ('ca', (2824, 2831), 504, 'O'), ('##vidad', (2824, 2831), 504, 'O'), ('end', (2832, 2843), 505, 'O'), ('##ome', (2832, 2843), 505, 'O'), ('##tria', (2832, 2843), 505, 'O'), ('##l', (2832, 2843), 505, 'O'), ('aparecen', (2844, 2852), 506, 'O'), ('def', (2853, 2863), 507, 'O'), ('##or', (2853, 2863), 507, 'O'), ('##mad', (2853, 2863), 507, 'O'), ('##os', (2853, 2863), 507, 'O'), ('debido', (2864, 2870), 508, 'O'), ('a', (2871, 2872), 509, 'O'), ('la', (2873, 2875), 510, 'O'), ('presencia', (2876, 2885), 511, 'O'), ('de', (2886, 2888), 512, 'O'), ('un', (2889, 2891), 513, 'O'), ('nó', (2892, 2898), 514, 'O'), ('##dul', (2892, 2898), 514, 'O'), ('##o', (2892, 2898), 514, 'O'), ('de', (2899, 2901), 515, 'O'), ('localiza', (2902, 2914), 516, 'O'), ('##ción', (2902, 2914), 516, 'O'), ('intra', (2915, 2925), 517, 'O'), ('##mura', (2915, 2925), 517, 'O'), ('##l', (2915, 2925), 517, 'O'), ('de', (2926, 2928), 518, 'O'), ('11', (2929, 2931), 519, 'O'), ('cm', (2932, 2934), 520, 'O'), ('de', (2935, 2937), 521, 'O'), ('eje', (2938, 2941), 522, 'O'), ('máximo', (2942, 2948), 523, 'O'), ('.', (2948, 2949), 524, 'O'), ('El', (2950, 2952), 525, 'O'), ('nó', (2953, 2959), 526, 'O'), ('##dul', (2953, 2959), 526, 'O'), ('##o', (2953, 2959), 526, 'O'), ('no', (2960, 2962), 527, 'O'), ('está', (2963, 2967), 528, 'O'), ('bien', (2968, 2972), 529, 'O'), ('del', (2973, 2983), 530, 'O'), ('##imit', (2973, 2983), 530, 'O'), ('##ado', (2973, 2983), 530, 'O'), (',', (2983, 2984), 531, 'O'), ('ob', (2985, 2997), 532, 'O'), ('##ser', (2985, 2997), 532, 'O'), ('##ván', (2985, 2997), 532, 'O'), ('##dose', (2985, 2997), 532, 'O'), ('en', (2998, 3000), 533, 'O'), ('zonas', (3001, 3006), 534, 'O'), ('pequeños', (3007, 3015), 535, 'O'), ('nó', (3016, 3023), 536, 'O'), ('##dul', (3016, 3023), 536, 'O'), ('##os', (3016, 3023), 536, 'O'), ('satélite', (3024, 3032), 537, 'O'), ('a', (3033, 3034), 538, 'O'), ('su', (3035, 3037), 539, 'O'), ('alrededor', (3038, 3047), 540, 'O'), ('.', (3047, 3048), 541, 'O')]\n",
      "\n",
      "\n",
      "[('En', (3049, 3051), 542, 'O'), ('las', (3052, 3055), 543, 'O'), ('pro', (3056, 3068), 544, 'O'), ('##xi', (3056, 3068), 544, 'O'), ('##midades', (3056, 3068), 544, 'O'), ('del', (3069, 3072), 545, 'O'), ('cu', (3073, 3079), 546, 'O'), ('##ello', (3073, 3079), 546, 'O'), ('la', (3080, 3082), 547, 'O'), ('ser', (3083, 3089), 548, 'O'), ('##osa', (3083, 3089), 548, 'O'), ('ute', (3090, 3097), 549, 'O'), ('##rina', (3090, 3097), 549, 'O'), ('está', (3098, 3102), 550, 'O'), ('rota', (3103, 3107), 551, 'O'), ('y', (3108, 3109), 552, 'O'), ('algunos', (3110, 3117), 553, 'O'), ('de', (3118, 3120), 554, 'O'), ('los', (3121, 3124), 555, 'O'), ('nó', (3125, 3132), 556, 'O'), ('##dul', (3125, 3132), 556, 'O'), ('##os', (3125, 3132), 556, 'O'), ('coincide', (3133, 3142), 557, 'O'), ('##n', (3133, 3142), 557, 'O'), ('con', (3143, 3146), 558, 'O'), ('el', (3147, 3149), 559, 'O'), ('margen', (3150, 3156), 560, 'O'), ('de', (3157, 3159), 561, 'O'), ('res', (3160, 3169), 562, 'O'), ('##ec', (3160, 3169), 562, 'O'), ('##ción', (3160, 3169), 562, 'O'), ('.', (3169, 3170), 563, 'O'), ('-', (3171, 3172), 564, 'O'), ('Des', (3173, 3184), 565, 'O'), ('##cripción', (3173, 3184), 565, 'O'), ('micro', (3185, 3197), 566, 'O'), ('##sc', (3185, 3197), 566, 'O'), ('##ó', (3185, 3197), 566, 'O'), ('##pica', (3185, 3197), 566, 'O'), (':', (3197, 3198), 567, 'O'), ('los', (3199, 3202), 568, 'O'), ('corte', (3203, 3209), 569, 'O'), ('##s', (3203, 3209), 569, 'O'), ('correspondiente', (3210, 3226), 570, 'O'), ('##s', (3210, 3226), 570, 'O'), ('al', (3227, 3229), 571, 'O'), ('c', (3230, 3236), 572, 'O'), ('##ér', (3230, 3236), 572, 'O'), ('##vi', (3230, 3236), 572, 'O'), ('##x', (3230, 3236), 572, 'O'), ('no', (3237, 3239), 573, 'O'), ('muestran', (3240, 3248), 574, 'O'), ('alter', (3249, 3261), 575, 'O'), ('##aciones', (3249, 3261), 575, 'O'), ('significativa', (3262, 3276), 576, 'O'), ('##s', (3262, 3276), 576, 'O'), ('en', (3277, 3279), 577, 'O'), ('los', (3280, 3283), 578, 'O'), ('componentes', (3284, 3295), 579, 'O'), ('ex', (3296, 3299), 580, 'O'), ('##o', (3296, 3299), 580, 'O'), ('ni', (3300, 3302), 581, 'O'), ('end', (3303, 3315), 582, 'O'), ('##oce', (3303, 3315), 582, 'O'), ('##rvi', (3303, 3315), 582, 'O'), ('##cal', (3303, 3315), 582, 'O'), ('.', (3315, 3316), 583, 'O'), ('La', (3317, 3319), 584, 'O'), ('mu', (3320, 3326), 585, 'O'), ('##cosa', (3320, 3326), 585, 'O'), ('end', (3327, 3338), 586, 'O'), ('##ome', (3327, 3338), 586, 'O'), ('##tria', (3327, 3338), 586, 'O'), ('##l', (3327, 3338), 586, 'O'), ('presenta', (3339, 3347), 587, 'O'), ('un', (3348, 3350), 588, 'O'), ('patrón', (3351, 3357), 589, 'O'), ('pro', (3358, 3371), 590, 'O'), ('##life', (3358, 3371), 590, 'O'), ('##rati', (3358, 3371), 590, 'O'), ('##vo', (3358, 3371), 590, 'O'), ('.', (3371, 3372), 591, 'O'), ('El', (3373, 3375), 592, 'O'), ('nó', (3376, 3382), 593, 'O'), ('##dul', (3376, 3382), 593, 'O'), ('##o', (3376, 3382), 593, 'O'), ('mio', (3383, 3392), 594, 'O'), ('##met', (3383, 3392), 594, 'O'), ('##ral', (3383, 3392), 594, 'O'), ('está', (3393, 3397), 595, 'O'), ('con', (3398, 3409), 596, 'O'), ('##sti', (3398, 3409), 596, 'O'), ('##tui', (3398, 3409), 596, 'O'), ('##do', (3398, 3409), 596, 'O'), ('por', (3410, 3413), 597, 'O'), ('una', (3414, 3417), 598, 'O'), ('pro', (3418, 3431), 599, 'O'), ('##life', (3418, 3431), 599, 'O'), ('##ración', (3418, 3431), 599, 'O'), ('de', (3432, 3434), 600, 'O'), ('células', (3435, 3442), 601, 'O'), ('muy', (3443, 3446), 602, 'O'), ('at', (3447, 3455), 603, 'O'), ('##í', (3447, 3455), 603, 'O'), ('##pica', (3447, 3455), 603, 'O'), ('##s', (3447, 3455), 603, 'O'), ('y', (3456, 3457), 604, 'O'), ('de', (3458, 3460), 605, 'O'), ('mor', (3461, 3471), 606, 'O'), ('##fo', (3461, 3471), 606, 'O'), ('##logía', (3461, 3471), 606, 'O'), ('muy', (3472, 3475), 607, 'O'), ('variable', (3476, 3484), 608, 'O'), ('.', (3484, 3485), 609, 'O')]\n",
      "\n",
      "\n",
      "[('En', (3486, 3488), 610, 'O'), ('la', (3489, 3491), 611, 'O'), ('periferia', (3492, 3501), 612, 'O'), ('la', (3502, 3504), 613, 'O'), ('lesión', (3505, 3511), 614, 'O'), ('es', (3512, 3514), 615, 'O'), ('dens', (3515, 3525), 616, 'O'), ('##amente', (3515, 3525), 616, 'O'), ('celular', (3526, 3533), 617, 'O'), ('y', (3534, 3535), 618, 'O'), ('está', (3536, 3540), 619, 'O'), ('compuesta', (3541, 3550), 620, 'O'), ('por', (3551, 3554), 621, 'O'), ('células', (3555, 3562), 622, 'O'), ('pred', (3563, 3580), 623, 'O'), ('##omina', (3563, 3580), 623, 'O'), ('##ntemente', (3563, 3580), 623, 'O'), ('fu', (3581, 3591), 624, 'O'), ('##sif', (3581, 3591), 624, 'O'), ('##orme', (3581, 3591), 624, 'O'), ('##s', (3581, 3591), 624, 'O'), ('con', (3592, 3595), 625, 'O'), ('núcleos', (3596, 3603), 626, 'O'), ('grandes', (3604, 3611), 627, 'O'), ('y', (3612, 3613), 628, 'O'), ('oval', (3614, 3622), 629, 'O'), ('##ados', (3614, 3622), 629, 'O'), ('con', (3623, 3626), 630, 'O'), ('mode', (3627, 3635), 631, 'O'), ('##rada', (3627, 3635), 631, 'O'), ('varia', (3636, 3648), 632, 'O'), ('##bilidad', (3636, 3648), 632, 'O'), ('entre', (3649, 3654), 633, 'O'), ('ellos', (3655, 3660), 634, 'O'), (',', (3660, 3661), 635, 'O'), ('y', (3662, 3663), 636, 'O'), ('frecuentes', (3664, 3674), 637, 'O'), ('figuras', (3675, 3682), 638, 'O'), ('de', (3683, 3685), 639, 'O'), ('mito', (3686, 3693), 640, 'O'), ('##sis', (3686, 3693), 640, 'O'), ('.', (3693, 3694), 641, 'O'), ('En', (3695, 3697), 642, 'O'), ('el', (3698, 3700), 643, 'O'), ('resto', (3701, 3706), 644, 'O'), ('del', (3707, 3710), 645, 'O'), ('tumor', (3711, 3716), 646, 'B'), ('estas', (3717, 3722), 647, 'O'), ('células', (3723, 3730), 648, 'O'), ('alter', (3731, 3739), 649, 'O'), ('##nan', (3731, 3739), 649, 'O'), ('con', (3740, 3743), 650, 'O'), ('otras', (3744, 3749), 651, 'O'), ('de', (3750, 3752), 652, 'O'), ('gran', (3753, 3757), 653, 'O'), ('tamaño', (3758, 3764), 654, 'O'), (',', (3764, 3765), 655, 'O'), ('con', (3766, 3769), 656, 'O'), ('núcleos', (3770, 3777), 657, 'O'), ('muy', (3778, 3781), 658, 'O'), ('ag', (3782, 3792), 659, 'O'), ('##rand', (3782, 3792), 659, 'O'), ('##ados', (3782, 3792), 659, 'O'), ('e', (3793, 3794), 660, 'O'), ('hip', (3795, 3810), 661, 'O'), ('##er', (3795, 3810), 661, 'O'), ('##cro', (3795, 3810), 661, 'O'), ('##mático', (3795, 3810), 661, 'O'), ('##s', (3795, 3810), 661, 'O'), (',', (3810, 3811), 662, 'O'), ('a', (3812, 3813), 663, 'O'), ('veces', (3814, 3819), 664, 'O'), ('multi', (3820, 3834), 665, 'O'), ('##nu', (3820, 3834), 665, 'O'), ('##cle', (3820, 3834), 665, 'O'), ('##ados', (3820, 3834), 665, 'O'), ('y', (3835, 3836), 666, 'O'), ('con', (3837, 3840), 667, 'O'), ('numerosas', (3841, 3850), 668, 'O'), ('mito', (3851, 3858), 669, 'O'), ('##sis', (3851, 3858), 669, 'O'), ('at', (3859, 3867), 670, 'O'), ('##í', (3859, 3867), 670, 'O'), ('##pica', (3859, 3867), 670, 'O'), ('##s', (3859, 3867), 670, 'O'), ('.', (3867, 3868), 671, 'O'), ('También', (3869, 3876), 672, 'O'), ('se', (3877, 3879), 673, 'O'), ('observa', (3880, 3888), 674, 'O'), ('##n', (3880, 3888), 674, 'O'), ('amplia', (3889, 3896), 675, 'O'), ('##s', (3889, 3896), 675, 'O'), ('zonas', (3897, 3902), 676, 'O'), ('de', (3903, 3905), 677, 'O'), ('ne', (3906, 3914), 678, 'O'), ('##cro', (3906, 3914), 678, 'O'), ('##sis', (3906, 3914), 678, 'O'), ('y', (3915, 3916), 679, 'O'), ('zonas', (3917, 3922), 680, 'O'), ('más', (3923, 3926), 681, 'O'), ('ede', (3927, 3937), 682, 'O'), ('##mat', (3927, 3937), 682, 'O'), ('##osas', (3927, 3937), 682, 'O'), ('.', (3937, 3938), 683, 'O'), ('Nu', (3939, 3948), 684, 'O'), ('##mero', (3939, 3948), 684, 'O'), ('##sas', (3939, 3948), 684, 'O'), ('imágenes', (3949, 3957), 685, 'O'), ('de', (3958, 3960), 686, 'O'), ('per', (3961, 3971), 687, 'O'), ('##mea', (3961, 3971), 687, 'O'), ('##ción', (3961, 3971), 687, 'O'), ('vas', (3972, 3980), 688, 'O'), ('##cular', (3972, 3980), 688, 'O'), ('.', (3980, 3981), 689, 'O')]\n",
      "\n",
      "\n",
      "[('La', (3982, 3984), 690, 'O'), ('lesión', (3985, 3991), 691, 'O'), ('c', (3992, 3997), 692, 'O'), ('##rece', (3992, 3997), 692, 'O'), ('adopt', (3998, 4007), 693, 'O'), ('##ando', (3998, 4007), 693, 'O'), ('un', (4008, 4010), 694, 'O'), ('patrón', (4011, 4017), 695, 'O'), ('multi', (4018, 4030), 696, 'O'), ('##nod', (4018, 4030), 696, 'O'), ('##ular', (4018, 4030), 696, 'O'), ('y', (4031, 4032), 697, 'O'), ('algun', (4033, 4039), 698, 'O'), ('##o', (4033, 4039), 698, 'O'), ('de', (4040, 4042), 699, 'O'), ('estos', (4043, 4048), 700, 'O'), ('nó', (4049, 4056), 701, 'O'), ('##dul', (4049, 4056), 701, 'O'), ('##os', (4049, 4056), 701, 'O'), ('coincide', (4057, 4065), 702, 'O'), ('con', (4066, 4069), 703, 'O'), ('el', (4070, 4072), 704, 'O'), ('margen', (4073, 4079), 705, 'O'), ('de', (4080, 4082), 706, 'O'), ('res', (4083, 4092), 707, 'O'), ('##ec', (4083, 4092), 707, 'O'), ('##ción', (4083, 4092), 707, 'O'), ('en', (4093, 4095), 708, 'O'), ('la', (4096, 4098), 709, 'O'), ('zona', (4099, 4103), 710, 'O'), ('de', (4104, 4106), 711, 'O'), ('ruptura', (4107, 4114), 712, 'O'), ('de', (4115, 4117), 713, 'O'), ('la', (4118, 4120), 714, 'O'), ('pare', (4121, 4126), 715, 'O'), ('##d', (4121, 4126), 715, 'O'), ('ute', (4127, 4134), 716, 'O'), ('##rina', (4127, 4134), 716, 'O'), ('.', (4134, 4135), 717, 'O'), ('-', (4136, 4137), 718, 'O'), ('In', (4138, 4156), 719, 'O'), ('##mun', (4138, 4156), 719, 'O'), ('##oh', (4138, 4156), 719, 'O'), ('##isto', (4138, 4156), 719, 'O'), ('##quí', (4138, 4156), 719, 'O'), ('##mica', (4138, 4156), 719, 'O'), (':', (4156, 4157), 720, 'O'), ('CD', (4158, 4162), 721, 'O'), ('##31', (4158, 4162), 721, 'O'), ('positivo', (4163, 4171), 722, 'O'), (',', (4171, 4172), 723, 'O'), ('Factor', (4173, 4179), 724, 'O'), ('VIII', (4180, 4184), 725, 'O'), ('positivo', (4185, 4193), 726, 'O'), (',', (4193, 4194), 727, 'O'), ('act', (4195, 4201), 728, 'O'), ('##ina', (4195, 4201), 728, 'O'), ('positivo', (4202, 4210), 729, 'O'), (',', (4210, 4211), 730, 'O'), ('cal', (4212, 4221), 731, 'O'), ('##des', (4212, 4221), 731, 'O'), ('##món', (4212, 4221), 731, 'O'), ('positivo', (4222, 4230), 732, 'O'), (',', (4230, 4231), 733, 'O'), ('cal', (4232, 4241), 734, 'O'), ('##pon', (4232, 4241), 734, 'O'), ('##ina', (4232, 4241), 734, 'O'), ('positivo', (4242, 4250), 735, 'O'), (',', (4250, 4251), 736, 'O'), ('CD', (4252, 4256), 737, 'O'), ('##10', (4252, 4256), 737, 'O'), ('negativo', (4257, 4265), 738, 'O'), ('.', (4265, 4266), 739, 'O'), ('Ci', (4267, 4280), 740, 'O'), ('##to', (4267, 4280), 740, 'O'), ('##quera', (4267, 4280), 740, 'O'), ('##tina', (4267, 4280), 740, 'O'), ('19', (4281, 4283), 741, 'O'), ('negativo', (4284, 4292), 742, 'O'), (',', (4292, 4293), 743, 'O'), ('des', (4294, 4301), 744, 'O'), ('##mina', (4294, 4301), 744, 'O'), ('positiva', (4302, 4310), 745, 'O'), (',', (4310, 4311), 746, 'O'), ('E', (4312, 4316), 747, 'O'), ('##G', (4312, 4316), 747, 'O'), ('##F', (4312, 4316), 747, 'O'), ('##R', (4312, 4316), 747, 'O'), ('positivo', (4317, 4325), 748, 'O'), ('irregular', (4326, 4335), 749, 'O'), (',', (4335, 4336), 750, 'O'), ('Ki', (4337, 4339), 751, 'O'), ('67', (4340, 4342), 752, 'O'), ('positiv', (4343, 4354), 753, 'O'), ('##idad', (4343, 4354), 753, 'O'), ('variable', (4355, 4363), 754, 'O'), (',', (4363, 4364), 755, 'O'), ('zonas', (4365, 4370), 756, 'O'), ('de', (4371, 4373), 757, 'O'), ('hasta', (4374, 4379), 758, 'O'), ('el', (4380, 4382), 759, 'O'), ('40', (4383, 4385), 760, 'O'), ('%', (4385, 4386), 761, 'O'), (',', (4386, 4387), 762, 'O'), ('p', (4388, 4391), 763, 'O'), ('##16', (4388, 4391), 763, 'O'), ('dé', (4392, 4402), 764, 'O'), ('##bilmente', (4392, 4402), 764, 'O'), ('positivo', (4403, 4411), 765, 'O'), (',', (4411, 4412), 766, 'O'), ('p', (4413, 4416), 767, 'O'), ('##53', (4413, 4416), 767, 'O'), ('negativo', (4417, 4425), 768, 'O'), (',', (4425, 4426), 769, 'O'), ('vi', (4427, 4436), 770, 'O'), ('##menti', (4427, 4436), 770, 'O'), ('##na', (4427, 4436), 770, 'O'), ('positiva', (4437, 4445), 771, 'O'), ('.', (4445, 4446), 772, 'O')]\n",
      "\n",
      "\n",
      "[('Dia', (4447, 4458), 773, 'O'), ('##gnóstico', (4447, 4458), 773, 'O'), ('ana', (4459, 4476), 774, 'O'), ('##tom', (4459, 4476), 774, 'O'), ('##opa', (4459, 4476), 774, 'O'), ('##tol', (4459, 4476), 774, 'O'), ('##ógico', (4459, 4476), 774, 'O'), ('his', (4477, 4490), 775, 'O'), ('##tere', (4477, 4490), 775, 'O'), ('##cto', (4477, 4490), 775, 'O'), ('##mí', (4477, 4490), 775, 'O'), ('##a', (4477, 4490), 775, 'O'), ('total', (4491, 4496), 776, 'O'), ('simple', (4497, 4503), 777, 'O'), (':', (4503, 4504), 778, 'O'), ('lei', (4505, 4519), 779, 'B'), ('##omi', (4505, 4519), 779, 'B'), ('##osa', (4505, 4519), 779, 'B'), ('##rco', (4505, 4519), 779, 'B'), ('##ma', (4505, 4519), 779, 'B'), ('con', (4520, 4523), 780, 'O'), ('frecuentes', (4524, 4534), 781, 'O'), ('imágenes', (4535, 4543), 782, 'O'), ('de', (4544, 4546), 783, 'O'), ('per', (4547, 4557), 784, 'O'), ('##mea', (4547, 4557), 784, 'O'), ('##ción', (4547, 4557), 784, 'O'), ('vas', (4558, 4566), 785, 'O'), ('##cular', (4558, 4566), 785, 'O'), ('.', (4566, 4567), 786, 'O'), ('Tras', (4568, 4572), 787, 'O'), ('la', (4573, 4575), 788, 'O'), ('intervención', (4576, 4588), 789, 'O'), ('qui', (4589, 4599), 790, 'O'), ('##rú', (4589, 4599), 790, 'O'), ('##rgi', (4589, 4599), 790, 'O'), ('##ca', (4589, 4599), 790, 'O'), ('la', (4600, 4602), 791, 'O'), ('paciente', (4603, 4611), 792, 'O'), ('aq', (4612, 4618), 793, 'O'), ('##ue', (4612, 4618), 793, 'O'), ('##ja', (4612, 4618), 793, 'O'), ('lu', (4619, 4633), 794, 'O'), ('##mbo', (4619, 4633), 794, 'O'), ('##ciata', (4619, 4633), 794, 'O'), ('##lgi', (4619, 4633), 794, 'O'), ('##a', (4619, 4633), 794, 'O'), (',', (4633, 4634), 795, 'O'), ('inicialmente', (4635, 4647), 796, 'O'), ('ach', (4648, 4656), 797, 'O'), ('##aca', (4648, 4656), 797, 'O'), ('##da', (4648, 4656), 797, 'O'), ('a', (4657, 4658), 798, 'O'), ('ia', (4659, 4669), 799, 'O'), ('##tro', (4659, 4669), 799, 'O'), ('##geni', (4659, 4669), 799, 'O'), ('##a', (4659, 4669), 799, 'O'), ('qui', (4670, 4680), 800, 'O'), ('##rú', (4670, 4680), 800, 'O'), ('##rgi', (4670, 4680), 800, 'O'), ('##ca', (4670, 4680), 800, 'O'), (',', (4680, 4681), 801, 'O'), ('pero', (4682, 4686), 802, 'O'), ('dada', (4687, 4691), 803, 'O'), ('su', (4692, 4694), 804, 'O'), ('ref', (4695, 4709), 805, 'O'), ('##rac', (4695, 4709), 805, 'O'), ('##tari', (4695, 4709), 805, 'O'), ('##eda', (4695, 4709), 805, 'O'), ('##d', (4695, 4709), 805, 'O'), ('a', (4710, 4711), 806, 'O'), ('la', (4712, 4714), 807, 'O'), ('anal', (4715, 4724), 808, 'O'), ('##gesi', (4715, 4724), 808, 'O'), ('##a', (4715, 4724), 808, 'O'), ('tras', (4725, 4729), 809, 'O'), ('2', (4730, 4731), 810, 'O'), ('semanas', (4732, 4739), 811, 'O'), ('se', (4740, 4742), 812, 'O'), ('soli', (4743, 4751), 813, 'O'), ('##cit', (4743, 4751), 813, 'O'), ('##ó', (4743, 4751), 813, 'O'), ('una', (4752, 4755), 814, 'O'), ('RM', (4756, 4758), 815, 'O'), ('pé', (4759, 4766), 816, 'O'), ('##lv', (4759, 4766), 816, 'O'), ('##ica', (4759, 4766), 816, 'O'), (',', (4766, 4767), 817, 'O'), ('con', (4768, 4771), 818, 'O'), ('los', (4772, 4775), 819, 'O'), ('siguientes', (4776, 4786), 820, 'O'), ('hall', (4787, 4796), 821, 'O'), ('##azgo', (4787, 4796), 821, 'O'), ('##s', (4787, 4796), 821, 'O'), ('.', (4796, 4797), 822, 'O')]\n",
      "\n",
      "\n",
      "[('-', (4798, 4799), 823, 'O'), ('RM', (4800, 4802), 824, 'O'), ('lu', (4803, 4813), 825, 'O'), ('##mbo', (4803, 4813), 825, 'O'), ('##sa', (4803, 4813), 825, 'O'), ('##cra', (4803, 4813), 825, 'O'), ('(', (4814, 4815), 826, 'O'), ('6', (4815, 4816), 827, 'O'), ('/', (4816, 4817), 828, 'O'), ('2', (4817, 4818), 829, 'O'), ('/', (4818, 4819), 830, 'O'), ('2014', (4819, 4823), 831, 'O'), (')', (4823, 4824), 832, 'O'), (':', (4824, 4825), 833, 'O'), ('met', (4826, 4836), 834, 'B'), ('##ást', (4826, 4836), 834, 'B'), ('##asis', (4826, 4836), 834, 'B'), ('ós', (4837, 4841), 835, 'O'), ('##ea', (4837, 4841), 835, 'O'), ('que', (4842, 4845), 836, 'O'), ('afecta', (4846, 4852), 837, 'O'), ('a', (4853, 4854), 838, 'O'), ('la', (4855, 4857), 839, 'O'), ('totalidad', (4858, 4867), 840, 'O'), ('del', (4868, 4871), 841, 'O'), ('ala', (4872, 4875), 842, 'O'), ('sacra', (4876, 4881), 843, 'O'), ('y', (4882, 4883), 844, 'O'), ('hem', (4884, 4895), 845, 'O'), ('##icu', (4884, 4895), 845, 'O'), ('##er', (4884, 4895), 845, 'O'), ('##pos', (4884, 4895), 845, 'O'), ('derechos', (4896, 4904), 846, 'O'), ('de', (4905, 4907), 847, 'O'), ('S2', (4908, 4910), 848, 'O'), ('y', (4911, 4912), 849, 'O'), ('S', (4913, 4915), 850, 'O'), ('##3', (4913, 4915), 850, 'O'), ('con', (4916, 4919), 851, 'O'), ('rot', (4920, 4926), 852, 'O'), ('##ura', (4920, 4926), 852, 'O'), ('de', (4927, 4929), 853, 'O'), ('la', (4930, 4932), 854, 'O'), ('cort', (4933, 4941), 855, 'O'), ('##ical', (4933, 4941), 855, 'O'), ('anterior', (4942, 4950), 856, 'O'), ('y', (4951, 4952), 857, 'O'), ('masa', (4953, 4957), 858, 'O'), ('de', (4958, 4960), 859, 'O'), ('partes', (4961, 4967), 860, 'O'), ('bland', (4968, 4975), 861, 'O'), ('##as', (4968, 4975), 861, 'O'), ('que', (4976, 4979), 862, 'O'), ('rode', (4980, 4985), 863, 'O'), ('##a', (4980, 4985), 863, 'O'), ('a', (4986, 4987), 864, 'O'), ('las', (4988, 4991), 865, 'O'), ('raíces', (4992, 4998), 866, 'O'), ('S2', (4999, 5001), 867, 'O'), ('y', (5002, 5003), 868, 'O'), ('S', (5004, 5006), 869, 'O'), ('##3', (5004, 5006), 869, 'O'), ('derecha', (5007, 5015), 870, 'O'), ('##s', (5007, 5015), 870, 'O'), ('.', (5015, 5016), 871, 'O'), ('Met', (5017, 5027), 872, 'B'), ('##ást', (5017, 5027), 872, 'B'), ('##asis', (5017, 5027), 872, 'B'), ('ós', (5028, 5032), 873, 'O'), ('##ea', (5028, 5032), 873, 'O'), ('en', (5033, 5035), 874, 'O'), ('el', (5036, 5038), 875, 'O'), ('ala', (5039, 5042), 876, 'O'), ('sacra', (5043, 5048), 877, 'O'), ('izquierda', (5049, 5058), 878, 'O'), ('y', (5059, 5060), 879, 'O'), ('en', (5061, 5063), 880, 'O'), ('la', (5064, 5066), 881, 'O'), ('región', (5067, 5073), 882, 'O'), ('poster', (5074, 5089), 883, 'O'), ('##osu', (5074, 5089), 883, 'O'), ('##peri', (5074, 5089), 883, 'O'), ('##or', (5074, 5089), 883, 'O'), ('y', (5090, 5091), 884, 'O'), ('pe', (5092, 5100), 885, 'O'), ('##dí', (5092, 5100), 885, 'O'), ('##culo', (5092, 5100), 885, 'O'), ('derecho', (5101, 5108), 886, 'O'), ('de', (5109, 5111), 887, 'O'), ('L', (5112, 5114), 888, 'O'), ('##5', (5112, 5114), 888, 'O'), ('.', (5114, 5115), 889, 'O'), ('Image', (5116, 5122), 890, 'O'), ('##n', (5116, 5122), 890, 'O'), ('compatible', (5123, 5133), 891, 'O'), ('con', (5134, 5137), 892, 'O'), ('cal', (5138, 5151), 893, 'O'), ('##ci', (5138, 5151), 893, 'O'), ('##ficación', (5138, 5151), 893, 'O'), ('o', (5152, 5153), 894, 'O'), ('arte', (5154, 5163), 895, 'O'), ('##fa', (5154, 5163), 895, 'O'), ('##cto', (5154, 5163), 895, 'O'), ('en', (5164, 5166), 896, 'O'), ('el', (5167, 5169), 897, 'O'), ('canal', (5170, 5175), 898, 'O'), ('ra', (5176, 5184), 899, 'O'), ('##quí', (5176, 5184), 899, 'O'), ('##deo', (5176, 5184), 899, 'O'), ('a', (5185, 5186), 900, 'O'), ('la', (5187, 5189), 901, 'O'), ('altura', (5190, 5196), 902, 'O'), ('de', (5197, 5199), 903, 'O'), ('L', (5200, 5202), 904, 'O'), ('##4', (5200, 5202), 904, 'O'), ('-', (5202, 5203), 905, 'O'), ('L', (5203, 5205), 906, 'O'), ('##5', (5203, 5205), 906, 'O'), ('.', (5205, 5206), 907, 'O')]\n",
      "\n",
      "\n",
      "[('Asimismo', (5207, 5215), 908, 'O'), (',', (5215, 5216), 909, 'O'), ('se', (5217, 5219), 910, 'O'), ('pro', (5220, 5228), 911, 'O'), ('##cedió', (5220, 5228), 911, 'O'), ('a', (5229, 5230), 912, 'O'), ('actual', (5231, 5241), 913, 'O'), ('##izar', (5231, 5241), 913, 'O'), ('el', (5242, 5244), 914, 'O'), ('estudio', (5245, 5252), 915, 'O'), ('de', (5253, 5255), 916, 'O'), ('extensión', (5256, 5265), 917, 'O'), ('con', (5266, 5269), 918, 'O'), ('TC', (5270, 5272), 919, 'O'), ('c', (5273, 5280), 920, 'O'), ('##ér', (5273, 5280), 920, 'O'), ('##vic', (5273, 5280), 920, 'O'), ('##o', (5273, 5280), 920, 'O'), ('-', (5280, 5281), 921, 'O'), ('tó', (5281, 5287), 922, 'O'), ('##rac', (5281, 5287), 922, 'O'), ('##o', (5281, 5287), 922, 'O'), ('-', (5287, 5288), 923, 'O'), ('ab', (5288, 5297), 924, 'O'), ('##dom', (5288, 5297), 924, 'O'), ('##inal', (5288, 5297), 924, 'O'), ('y', (5298, 5299), 925, 'O'), ('gamma', (5300, 5311), 926, 'O'), ('##grafía', (5300, 5311), 926, 'O'), ('ós', (5312, 5316), 927, 'O'), ('##ea', (5312, 5316), 927, 'O'), ('.', (5316, 5317), 928, 'O'), ('-', (5318, 5319), 929, 'O'), ('TC', (5320, 5322), 930, 'O'), ('c', (5323, 5330), 931, 'O'), ('##ér', (5323, 5330), 931, 'O'), ('##vic', (5323, 5330), 931, 'O'), ('##o', (5323, 5330), 931, 'O'), ('-', (5330, 5331), 932, 'O'), ('tó', (5331, 5337), 933, 'O'), ('##rac', (5331, 5337), 933, 'O'), ('##o', (5331, 5337), 933, 'O'), ('-', (5337, 5338), 934, 'O'), ('ab', (5338, 5347), 935, 'O'), ('##dom', (5338, 5347), 935, 'O'), ('##inal', (5338, 5347), 935, 'O'), ('(', (5348, 5349), 936, 'O'), ('19', (5349, 5351), 937, 'O'), ('/', (5351, 5352), 938, 'O'), ('2', (5352, 5353), 939, 'O'), ('/', (5353, 5354), 940, 'O'), ('2014', (5354, 5358), 941, 'O'), (')', (5358, 5359), 942, 'O'), (':', (5359, 5360), 943, 'O'), ('met', (5361, 5371), 944, 'B'), ('##ást', (5361, 5371), 944, 'B'), ('##asis', (5361, 5371), 944, 'B'), ('pu', (5372, 5382), 945, 'O'), ('##lm', (5372, 5382), 945, 'O'), ('##onare', (5372, 5382), 945, 'O'), ('##s', (5372, 5382), 945, 'O'), ('y', (5383, 5384), 946, 'O'), ('hep', (5385, 5394), 947, 'O'), ('##áticas', (5385, 5394), 947, 'O'), ('.', (5394, 5395), 948, 'O'), ('Aden', (5396, 5406), 949, 'O'), ('##opa', (5396, 5406), 949, 'O'), ('##tía', (5396, 5406), 949, 'O'), ('ili', (5407, 5413), 950, 'O'), ('##aca', (5407, 5413), 950, 'O'), ('izquierda', (5414, 5423), 951, 'O'), ('sos', (5424, 5434), 952, 'O'), ('##pec', (5424, 5434), 952, 'O'), ('##hosa', (5424, 5434), 952, 'O'), ('de', (5435, 5437), 953, 'O'), ('mali', (5438, 5448), 954, 'B'), ('##gni', (5438, 5448), 954, 'B'), ('##dad', (5438, 5448), 954, 'B'), ('.', (5448, 5449), 955, 'O'), ('Met', (5450, 5460), 956, 'B'), ('##ást', (5450, 5460), 956, 'B'), ('##asis', (5450, 5460), 956, 'B'), ('ós', (5461, 5466), 957, 'O'), ('##eas', (5461, 5466), 957, 'O'), ('en', (5467, 5469), 958, 'O'), ('el', (5470, 5472), 959, 'O'), ('ala', (5473, 5476), 960, 'O'), ('sacra', (5477, 5482), 961, 'O'), ('derecha', (5483, 5490), 962, 'O'), ('sin', (5491, 5494), 963, 'O'), ('grandes', (5495, 5502), 964, 'O'), ('cambios', (5503, 5510), 965, 'O'), ('respecto', (5511, 5519), 966, 'O'), ('a', (5520, 5521), 967, 'O'), ('la', (5522, 5524), 968, 'O'), ('RM', (5525, 5527), 969, 'O'), ('previa', (5528, 5534), 970, 'O'), ('.', (5534, 5535), 971, 'O'), ('Les', (5536, 5542), 972, 'B'), ('##ión', (5536, 5542), 972, 'B'), ('l', (5543, 5549), 973, 'I'), ('##ítica', (5543, 5549), 973, 'I'), ('en', (5550, 5552), 974, 'I'), ('el', (5553, 5555), 975, 'I'), ('cuerpo', (5556, 5562), 976, 'I'), ('verte', (5563, 5572), 977, 'I'), ('##bral', (5563, 5572), 977, 'I'), ('D1', (5573, 5576), 978, 'O'), ('##0', (5573, 5576), 978, 'O'), ('de', (5577, 5579), 979, 'O'), ('nueva', (5580, 5585), 980, 'O'), ('aparición', (5586, 5595), 981, 'O'), (',', (5595, 5596), 982, 'O'), ('a', (5597, 5598), 983, 'O'), ('des', (5599, 5608), 984, 'O'), ('##car', (5599, 5608), 984, 'O'), ('##tar', (5599, 5608), 984, 'O'), ('met', (5609, 5619), 985, 'B'), ('##ást', (5609, 5619), 985, 'B'), ('##asis', (5609, 5619), 985, 'B'), ('.', (5619, 5620), 986, 'O')]\n",
      "\n",
      "\n",
      "[('Les', (5621, 5627), 987, 'O'), ('##ión', (5621, 5627), 987, 'O'), ('mix', (5628, 5633), 988, 'O'), ('##ta', (5628, 5633), 988, 'O'), ('en', (5634, 5636), 989, 'O'), ('la', (5637, 5639), 990, 'O'), ('sé', (5640, 5647), 991, 'O'), ('##pti', (5640, 5647), 991, 'O'), ('##ma', (5640, 5647), 991, 'O'), ('costi', (5648, 5656), 992, 'O'), ('##lla', (5648, 5656), 992, 'O'), ('derecha', (5657, 5664), 993, 'O'), ('.', (5664, 5665), 994, 'O'), ('-', (5666, 5667), 995, 'O'), ('Gama', (5668, 5678), 996, 'O'), ('##grafía', (5668, 5678), 996, 'O'), ('ós', (5679, 5683), 997, 'O'), ('##ea', (5679, 5683), 997, 'O'), ('(', (5684, 5685), 998, 'O'), ('25', (5685, 5687), 999, 'O'), ('/', (5687, 5688), 1000, 'O'), ('2', (5688, 5689), 1001, 'O'), ('/', (5689, 5690), 1002, 'O'), ('2014', (5690, 5694), 1003, 'O'), (')', (5694, 5695), 1004, 'O'), (':', (5695, 5696), 1005, 'O'), ('se', (5697, 5699), 1006, 'O'), ('objet', (5700, 5709), 1007, 'O'), ('##iva', (5700, 5709), 1007, 'O'), ('##n', (5700, 5709), 1007, 'O'), ('foc', (5710, 5715), 1008, 'O'), ('##os', (5710, 5715), 1008, 'O'), ('de', (5716, 5718), 1009, 'O'), ('hip', (5719, 5733), 1010, 'O'), ('##er', (5719, 5733), 1010, 'O'), ('##cap', (5719, 5733), 1010, 'O'), ('##tación', (5719, 5733), 1010, 'O'), ('en', (5734, 5736), 1011, 'O'), ('el', (5737, 5739), 1012, 'O'), ('maxi', (5740, 5747), 1013, 'O'), ('##lar', (5740, 5747), 1013, 'O'), ('inferior', (5748, 5756), 1014, 'O'), (',', (5756, 5757), 1015, 'O'), ('o', (5758, 5764), 1016, 'O'), ('##cta', (5758, 5764), 1016, 'O'), ('##va', (5758, 5764), 1016, 'O'), ('costi', (5765, 5773), 1017, 'O'), ('##lla', (5765, 5773), 1017, 'O'), ('derecha', (5774, 5781), 1018, 'O'), ('en', (5782, 5784), 1019, 'O'), ('su', (5785, 5787), 1020, 'O'), ('arc', (5788, 5794), 1021, 'O'), ('##ada', (5788, 5794), 1021, 'O'), ('lateral', (5795, 5802), 1022, 'O'), (',', (5802, 5803), 1023, 'O'), ('ap', (5804, 5812), 1024, 'O'), ('##ó', (5804, 5812), 1024, 'O'), ('##fis', (5804, 5812), 1024, 'O'), ('##is', (5804, 5812), 1024, 'O'), ('es', (5813, 5821), 1025, 'O'), ('##pino', (5813, 5821), 1025, 'O'), ('##sa', (5813, 5821), 1025, 'O'), ('de', (5822, 5824), 1026, 'O'), ('D', (5825, 5826), 1027, 'O'), ('-', (5826, 5827), 1028, 'O'), ('11', (5827, 5829), 1029, 'O'), ('y', (5830, 5831), 1030, 'O'), ('ala', (5832, 5835), 1031, 'O'), ('derecha', (5836, 5843), 1032, 'O'), (',', (5843, 5844), 1033, 'O'), ('compatible', (5845, 5856), 1034, 'O'), ('##s', (5845, 5856), 1034, 'O'), ('con', (5857, 5860), 1035, 'O'), ('dis', (5861, 5873), 1036, 'O'), ('##emi', (5861, 5873), 1036, 'O'), ('##nación', (5861, 5873), 1036, 'O'), ('meta', (5874, 5885), 1037, 'B'), ('##st', (5874, 5885), 1037, 'B'), ('##ási', (5874, 5885), 1037, 'B'), ('##ca', (5874, 5885), 1037, 'B'), ('.', (5885, 5886), 1038, 'O')]\n",
      "\n",
      "\n",
      "[('Ante', (5887, 5891), 1039, 'O'), ('estos', (5892, 5897), 1040, 'O'), ('hall', (5898, 5907), 1041, 'O'), ('##azgo', (5898, 5907), 1041, 'O'), ('##s', (5898, 5907), 1041, 'O'), ('se', (5908, 5910), 1042, 'O'), ('inició', (5911, 5917), 1043, 'O'), ('in', (5918, 5926), 1044, 'O'), ('##fusión', (5918, 5926), 1044, 'O'), ('de', (5927, 5929), 1045, 'O'), ('ácido', (5930, 5935), 1046, 'O'), ('zo', (5936, 5947), 1047, 'O'), ('##led', (5936, 5947), 1047, 'O'), ('##rónico', (5936, 5947), 1047, 'O'), ('mens', (5948, 5955), 1048, 'O'), ('##ual', (5948, 5955), 1048, 'O'), (',', (5955, 5956), 1049, 'O'), ('y', (5957, 5958), 1050, 'O'), ('se', (5959, 5961), 1051, 'O'), ('pro', (5962, 5970), 1052, 'O'), ('##cedió', (5962, 5970), 1052, 'O'), ('a', (5971, 5972), 1053, 'O'), ('ir', (5973, 5984), 1054, 'O'), ('##radi', (5973, 5984), 1054, 'O'), ('##ación', (5973, 5984), 1054, 'O'), ('de', (5985, 5987), 1055, 'O'), ('un', (5988, 5990), 1056, 'O'), ('segundo', (5991, 5998), 1057, 'O'), ('volumen', (5999, 6006), 1058, 'O'), ('que', (6007, 6010), 1059, 'O'), ('incluyó', (6011, 6018), 1060, 'O'), ('el', (6019, 6021), 1061, 'O'), ('sac', (6022, 6027), 1062, 'O'), ('##ro', (6022, 6027), 1062, 'O'), (',', (6027, 6028), 1063, 'O'), ('ad', (6029, 6042), 1064, 'O'), ('##mini', (6029, 6042), 1064, 'O'), ('##stra', (6029, 6042), 1064, 'O'), ('##ndo', (6029, 6042), 1064, 'O'), ('una', (6043, 6046), 1065, 'O'), ('dos', (6047, 6052), 1066, 'O'), ('##is', (6047, 6052), 1066, 'O'), ('total', (6053, 6058), 1067, 'O'), ('de', (6059, 6061), 1068, 'O'), ('30', (6062, 6064), 1069, 'O'), ('G', (6065, 6067), 1070, 'O'), ('##y', (6065, 6067), 1070, 'O'), ('(', (6068, 6069), 1071, 'O'), ('3', (6069, 6070), 1072, 'O'), ('G', (6071, 6073), 1073, 'O'), ('##y', (6071, 6073), 1073, 'O'), ('/', (6073, 6074), 1074, 'O'), ('día', (6074, 6077), 1075, 'O'), (')', (6077, 6078), 1076, 'O'), ('entre', (6079, 6084), 1077, 'O'), ('el', (6085, 6087), 1078, 'O'), ('11', (6088, 6090), 1079, 'O'), ('y', (6091, 6092), 1080, 'O'), ('el', (6093, 6095), 1081, 'O'), ('24', (6096, 6098), 1082, 'O'), ('de', (6099, 6101), 1083, 'O'), ('febrero', (6102, 6109), 1084, 'O'), ('de', (6110, 6112), 1085, 'O'), ('2014', (6113, 6117), 1086, 'O'), ('.', (6117, 6118), 1087, 'O')]\n",
      "\n",
      "\n",
      "[('Posteriormente', (6119, 6133), 1088, 'O'), (',', (6133, 6134), 1089, 'O'), ('la', (6135, 6137), 1090, 'O'), ('paciente', (6138, 6146), 1091, 'O'), ('inició', (6147, 6153), 1092, 'O'), ('tratamiento', (6154, 6165), 1093, 'O'), ('con', (6166, 6169), 1094, 'O'), ('Q', (6170, 6172), 1095, 'O'), ('##T', (6170, 6172), 1095, 'O'), ('según', (6173, 6178), 1096, 'O'), ('esquema', (6179, 6186), 1097, 'O'), ('de', (6187, 6189), 1098, 'O'), ('doce', (6190, 6199), 1099, 'O'), ('##tax', (6190, 6199), 1099, 'O'), ('##el', (6190, 6199), 1099, 'O'), ('75', (6200, 6202), 1100, 'O'), ('mg', (6203, 6205), 1101, 'O'), ('/', (6205, 6206), 1102, 'O'), ('m2', (6206, 6208), 1103, 'O'), ('(', (6209, 6210), 1104, 'O'), ('día', (6210, 6213), 1105, 'O'), ('8', (6214, 6215), 1106, 'O'), (')', (6215, 6216), 1107, 'O'), ('+', (6217, 6218), 1108, 'O'), ('ge', (6219, 6230), 1109, 'O'), ('##mci', (6219, 6230), 1109, 'O'), ('##tab', (6219, 6230), 1109, 'O'), ('##ina', (6219, 6230), 1109, 'O'), ('900', (6231, 6234), 1110, 'O'), ('mg', (6235, 6237), 1111, 'O'), ('/', (6237, 6238), 1112, 'O'), ('m2', (6238, 6240), 1113, 'O'), ('(', (6241, 6242), 1114, 'O'), ('días', (6242, 6246), 1115, 'O'), ('1', (6247, 6248), 1116, 'O'), ('y', (6249, 6250), 1117, 'O'), ('8', (6251, 6252), 1118, 'O'), (')', (6252, 6253), 1119, 'O'), (',', (6253, 6254), 1120, 'O'), ('habiendo', (6255, 6263), 1121, 'O'), ('recibido', (6264, 6272), 1122, 'O'), ('hasta', (6273, 6278), 1123, 'O'), ('la', (6279, 6281), 1124, 'O'), ('fecha', (6282, 6287), 1125, 'O'), ('un', (6288, 6290), 1126, 'O'), ('total', (6291, 6296), 1127, 'O'), ('de', (6297, 6299), 1128, 'O'), ('5', (6300, 6301), 1129, 'O'), ('ciclo', (6302, 6308), 1130, 'O'), ('##s', (6302, 6308), 1130, 'O'), ('entre', (6309, 6314), 1131, 'O'), ('el', (6315, 6317), 1132, 'O'), ('26', (6318, 6320), 1133, 'O'), ('/', (6320, 6321), 1134, 'O'), ('2', (6321, 6322), 1135, 'O'), ('/', (6322, 6323), 1136, 'O'), ('2014', (6323, 6327), 1137, 'O'), ('y', (6328, 6329), 1138, 'O'), ('el', (6330, 6332), 1139, 'O'), ('28', (6333, 6335), 1140, 'O'), ('/', (6335, 6336), 1141, 'O'), ('5', (6336, 6337), 1142, 'O'), ('/', (6337, 6338), 1143, 'O'), ('2014', (6338, 6342), 1144, 'O'), ('.', (6342, 6343), 1145, 'O'), ('En', (6344, 6346), 1146, 'O'), ('última', (6347, 6353), 1147, 'O'), ('prueba', (6354, 6360), 1148, 'O'), ('de', (6361, 6363), 1149, 'O'), ('imagen', (6364, 6370), 1150, 'O'), ('realizada', (6371, 6380), 1151, 'O'), (',', (6380, 6381), 1152, 'O'), ('el', (6382, 6384), 1153, 'O'), ('19', (6385, 6387), 1154, 'O'), ('/', (6387, 6388), 1155, 'O'), ('5', (6388, 6389), 1156, 'O'), ('/', (6389, 6390), 1157, 'O'), ('2014', (6390, 6394), 1158, 'O'), (',', (6394, 6395), 1159, 'O'), ('se', (6396, 6398), 1160, 'O'), ('objet', (6399, 6407), 1161, 'O'), ('##iv', (6399, 6407), 1161, 'O'), ('##ó', (6399, 6407), 1161, 'O'), ('leve', (6408, 6412), 1162, 'O'), ('dis', (6413, 6424), 1163, 'O'), ('##minución', (6413, 6424), 1163, 'O'), ('de', (6425, 6427), 1164, 'O'), ('tamaño', (6428, 6434), 1165, 'O'), ('de', (6435, 6437), 1166, 'O'), ('las', (6438, 6441), 1167, 'O'), ('les', (6442, 6450), 1168, 'O'), ('##iones', (6442, 6450), 1168, 'O'), ('hip', (6451, 6466), 1169, 'O'), ('##er', (6451, 6466), 1169, 'O'), ('##vas', (6451, 6466), 1169, 'O'), ('##cular', (6451, 6466), 1169, 'O'), ('##es', (6451, 6466), 1169, 'O'), ('hep', (6467, 6476), 1170, 'O'), ('##áticas', (6467, 6476), 1170, 'O'), ('meta', (6477, 6489), 1171, 'B'), ('##st', (6477, 6489), 1171, 'B'), ('##ási', (6477, 6489), 1171, 'B'), ('##cas', (6477, 6489), 1171, 'B'), (',', (6489, 6490), 1172, 'O'), ('con', (6491, 6494), 1173, 'O'), ('esta', (6495, 6506), 1174, 'O'), ('##bilidad', (6495, 6506), 1174, 'O'), ('del', (6507, 6510), 1175, 'O'), ('resto', (6511, 6516), 1176, 'O'), ('de', (6517, 6519), 1177, 'O'), ('las', (6520, 6523), 1178, 'O'), ('les', (6524, 6532), 1179, 'O'), ('##iones', (6524, 6532), 1179, 'O'), ('qu', (6533, 6542), 1180, 'O'), ('##ísticas', (6533, 6542), 1180, 'O'), (',', (6542, 6543), 1181, 'O'), ('probablemente', (6544, 6557), 1182, 'O'), ('beni', (6558, 6566), 1183, 'O'), ('##gna', (6558, 6566), 1183, 'O'), ('##s', (6558, 6566), 1183, 'O'), ('.', (6566, 6567), 1184, 'O')]\n",
      "\n",
      "\n",
      "[('Se', (6568, 6570), 1185, 'O'), ('objet', (6571, 6579), 1186, 'O'), ('##iv', (6571, 6579), 1186, 'O'), ('##ó', (6571, 6579), 1186, 'O'), ('además', (6580, 6586), 1187, 'O'), ('met', (6587, 6597), 1188, 'B'), ('##ást', (6587, 6597), 1188, 'B'), ('##asis', (6587, 6597), 1188, 'B'), ('ren', (6598, 6603), 1189, 'O'), ('##al', (6598, 6603), 1189, 'O'), ('izquierda', (6604, 6613), 1190, 'O'), ('y', (6614, 6615), 1191, 'O'), ('cambios', (6616, 6623), 1192, 'O'), ('de', (6624, 6626), 1193, 'O'), ('densidad', (6627, 6635), 1194, 'O'), ('de', (6636, 6638), 1195, 'O'), ('la', (6639, 6641), 1196, 'O'), ('met', (6642, 6652), 1197, 'B'), ('##ást', (6642, 6652), 1197, 'B'), ('##asis', (6642, 6652), 1197, 'B'), ('sacra', (6653, 6658), 1198, 'O'), (',', (6658, 6659), 1199, 'O'), ('sin', (6660, 6663), 1200, 'O'), ('cambios', (6664, 6671), 1201, 'O'), ('en', (6672, 6674), 1202, 'O'), ('las', (6675, 6678), 1203, 'O'), ('les', (6679, 6687), 1204, 'O'), ('##iones', (6679, 6687), 1204, 'O'), ('costa', (6688, 6696), 1205, 'O'), ('##les', (6688, 6696), 1205, 'O'), ('ni', (6697, 6699), 1206, 'O'), ('en', (6700, 6702), 1207, 'O'), ('la', (6703, 6705), 1208, 'O'), ('lesión', (6706, 6712), 1209, 'O'), ('de', (6713, 6715), 1210, 'O'), ('D1', (6716, 6719), 1211, 'O'), ('##0', (6716, 6719), 1211, 'O'), ('.', (6719, 6720), 1212, 'O'), ('Met', (6721, 6731), 1213, 'B'), ('##ást', (6721, 6731), 1213, 'B'), ('##asis', (6721, 6731), 1213, 'B'), ('pu', (6732, 6742), 1214, 'O'), ('##lm', (6732, 6742), 1214, 'O'), ('##onare', (6732, 6742), 1214, 'O'), ('##s', (6732, 6742), 1214, 'O'), ('con', (6743, 6746), 1215, 'O'), ('comportamiento', (6747, 6761), 1216, 'O'), ('variable', (6762, 6770), 1217, 'O'), (',', (6770, 6771), 1218, 'O'), ('algunas', (6772, 6779), 1219, 'O'), ('de', (6780, 6782), 1220, 'O'), ('ellas', (6783, 6788), 1221, 'O'), ('con', (6789, 6792), 1222, 'O'), ('crecimiento', (6793, 6804), 1223, 'O'), ('.', (6804, 6805), 1224, 'O'), ('La', (6806, 6808), 1225, 'O'), ('paciente', (6809, 6817), 1226, 'O'), ('continúa', (6818, 6826), 1227, 'O'), ('seg', (6827, 6838), 1228, 'O'), ('##ui', (6827, 6838), 1228, 'O'), ('##miento', (6827, 6838), 1228, 'O'), ('en', (6839, 6841), 1229, 'O'), ('consulta', (6842, 6851), 1230, 'O'), ('##s', (6842, 6851), 1230, 'O'), ('del', (6852, 6855), 1231, 'O'), ('Hospital', (6856, 6864), 1232, 'O'), ('de', (6865, 6867), 1233, 'O'), ('Día', (6868, 6871), 1234, 'O'), ('del', (6872, 6875), 1235, 'O'), ('Hospital', (6876, 6884), 1236, 'O'), ('Universitario', (6885, 6898), 1237, 'O'), ('de', (6899, 6901), 1238, 'O'), ('La', (6902, 6904), 1239, 'O'), ('Princesa', (6905, 6913), 1240, 'O'), ('en', (6914, 6916), 1241, 'O'), ('la', (6917, 6919), 1242, 'O'), ('actualidad', (6920, 6930), 1243, 'O'), (',', (6930, 6931), 1244, 'O'), ('estando', (6932, 6939), 1245, 'O'), ('previsto', (6940, 6948), 1246, 'O'), ('ad', (6949, 6960), 1247, 'O'), ('##mini', (6949, 6960), 1247, 'O'), ('##strar', (6949, 6960), 1247, 'O'), ('dos', (6961, 6964), 1248, 'O'), ('ciclo', (6965, 6971), 1249, 'O'), ('##s', (6965, 6971), 1249, 'O'), ('más', (6972, 6975), 1250, 'O'), ('del', (6976, 6979), 1251, 'O'), ('tratamiento', (6980, 6991), 1252, 'O'), ('anteriormente', (6992, 7005), 1253, 'O'), ('refer', (7006, 7014), 1254, 'O'), ('##ido', (7006, 7014), 1254, 'O'), ('.', (7014, 7015), 1255, 'O')]\n",
      "\n",
      "\n"
     ]
    }
   ],
   "source": [
    "for i in range(check_id_frag, check_id_frag + dev_frag[check_id]):\n",
    "    print(list(zip([tokenizer._convert_id_to_token(int(ind)) for ind in dev_ind[i]][1:len(dev_start_end_frag[i])+1], \n",
    "               dev_start_end_frag[i], dev_word_id[i],\n",
    "               [lab_encoder.inverse_transform([label])[0] if label != IGNORE_VALUE else label \\\n",
    "                for label in dev_y[i][1:len(dev_start_end_frag[i])+1]])))\n",
    "    print(\"\\n\")"
   ]
  },
  {
   "cell_type": "code",
   "execution_count": 83,
   "metadata": {},
   "outputs": [
    {
     "name": "stdout",
     "output_type": "stream",
     "text": [
      "[CLS] Ana ##mne ##sis Pac ##iente de 44 años sin ante ##cedent ##es médicos de interés salvo mio ##mas ute ##rinos en seg ##ui ##miento por G ##ine ##colo ##gía . A ##cud ##e a Ur ##gen ##cias en noviembre de 2013 ref ##iri ##endo mol ##esti ##as oral ##es de una semana de evolución con tumor ##ación en la región ma ##di ##bula ##r izquierda sang ##rante a la mani ##pul ##ación . A ##com ##pa ##ña ##ba ac ##or ##char ##miento hem ##iman ##di ##bula ##r y del lab ##io inferior izquierdo . [SEP] [PAD] [PAD] [PAD] [PAD] [PAD] [PAD] [PAD] [PAD] [PAD] [PAD] [PAD] [PAD] [PAD] [PAD] [PAD] [PAD] [PAD] [PAD] [PAD] [PAD] [PAD] [PAD] [PAD] [PAD] [PAD] [PAD] [PAD] [PAD] [PAD] [PAD] [PAD] [PAD] \n",
      "\n",
      "[CLS] Ex ##amen físico A nivel oral se identifica ##ba una tumor ##ación oval ##ada de aproximadamente 3 cm diámetro , mó ##vil , firme y no dolor ##osa , pe ##dic ##ula ##da a la mu ##cosa ging ##ival de la zona mol ##ar . Pr ##ue ##bas complement ##arias - Ort ##opa ##nto ##grafía ( 5 / 11 / 2013 ) . os ##te ##ól ##isis mand ##ibu ##lar en el cuarto cu ##ad ##rante con extensión a la rama mand ##ibu ##lar izquierda . - Bio ##psia de la lesión oral ( 5 / 11 / 2013 ) : lei ##omi ##osa ##rco ##ma grado 2 ( sistema de grado FN ##CL ##CC ) . [SEP] [PAD] [PAD] [PAD] [PAD] [PAD] [PAD] [PAD] [PAD] [PAD] \n",
      "\n",
      "[CLS] - TC ce ##rvi ##co ##fa ##cial ( 7 / 11 / 2013 ) : lesión os ##te ##ol ##ítica en la hem ##iman ##dí ##bula izquierda que asi ##enta en su región ret ##romo ##lar y án ##gulo mand ##ibu ##lar , con afecta ##ción del canal del ner ##vio den ##tario inferior , que expand ##e y rom ##pe las cort ##ical ##es ós ##eas y as ##oci ##a real ##ce de partes bland ##as ad ##ya ##centes , compatible con neo ##pla ##sia mali ##gna ( dia ##gnóstico ana ##tom ##opa ##tol ##ógico de lei ##omi ##osa ##rco ##ma grado 2 ) . No se apre ##cian ad ##eno ##pat ##ías radio ##lógica ##mente significativa ##s . [SEP] [PAD] [PAD] [PAD] [PAD] [PAD] [PAD] \n",
      "\n",
      "[CLS] Nó ##dul ##o hip ##oden ##so en L ##TD a corre ##lac ##ionar con e ##co ##grafía . - TC tó ##rac ##o - ab ##dom ##inal ( 20 / 11 / 2013 ) : en la ex ##plo ##ración to ##rá ##ci ##ca se identifica una imagen no ##dula ##r de pequeño tamaño ( entre 5 y 6 mm ) en el segmento posterior del l ##ób ##ulo inferior derecho , sin cal ##ci ##ficación evidente , cuya naturaleza no es posible determinar , por lo que no se puede ex ##clu ##ir la posibilidad de met ##ást ##asis . [SEP] [PAD] [PAD] [PAD] [PAD] [PAD] [PAD] [PAD] [PAD] [PAD] [PAD] [PAD] [PAD] [PAD] [PAD] [PAD] [PAD] [PAD] [PAD] [PAD] [PAD] [PAD] [PAD] [PAD] [PAD] [PAD] \n",
      "\n",
      "[CLS] Con ##clusión : pequeña imagen no ##dula ##r inde ##ter ##minada en la base pu ##lm ##onar derecha , no pu ##di ##éndose ex ##clu ##ir la posibilidad de met ##ást ##asis . - Inter ##vención qui ##rú ##rgi ##ca ( 26 / 11 / 2013 ) : se realiza res ##ec ##ción de la lesión mand ##ibu ##lar mediante abord ##aje intra ##oral y ce ##rvi ##cot ##om ##ía , resp ##etan ##do los már ##genes qui ##rú ##rgi ##cos . Ob ##ten ##ción de col ##ga ##jo micro ##qui ##rú ##rgi ##co de pero ##né de forma regla ##da . [SEP] [PAD] [PAD] [PAD] [PAD] [PAD] [PAD] [PAD] [PAD] [PAD] [PAD] [PAD] [PAD] [PAD] [PAD] [PAD] [PAD] [PAD] [PAD] [PAD] [PAD] [PAD] [PAD] [PAD] [PAD] \n",
      "\n",
      "[CLS] Dia ##gnóstico Lei ##omi ##osa ##rco ##ma ul ##cera ##do , de 3 , 5 cm de diámetro máximo , en la rama horizontal de la mand ##ibu ##la izquierda con rot ##ura de la cort ##ical y afecta ##ción de la en ##cía . Bord ##es qui ##rú ##rgi ##cos de res ##ec ##ción ( mu ##cos ##os , partes bland ##as y ós ##eos ) libres de in ##fil ##tra ##ción tumor ##al . [SEP] [PAD] [PAD] [PAD] [PAD] [PAD] [PAD] [PAD] [PAD] [PAD] [PAD] [PAD] [PAD] [PAD] [PAD] [PAD] [PAD] [PAD] [PAD] [PAD] [PAD] [PAD] [PAD] [PAD] [PAD] [PAD] [PAD] [PAD] [PAD] [PAD] [PAD] [PAD] [PAD] [PAD] [PAD] [PAD] [PAD] [PAD] [PAD] [PAD] [PAD] [PAD] [PAD] [PAD] [PAD] [PAD] [PAD] [PAD] [PAD] [PAD] [PAD] \n",
      "\n",
      "[CLS] Trata ##miento La paciente recibió radio ##tera ##pia posto ##perator ##ia desde el 27 / 1 / 2014 al 24 / 2 / 2014 , ad ##mini ##str ##ándose una dos ##is total de 42 G ##y ( 2 G ##y / día ) sobre un volumen blanco c ##lín ##ico que incluyó la mand ##í ##bula izquierda y la ci ##cat ##riz ce ##rvi ##cal . E ##vol ##ución Dada la his ##tol ##ogía se decide , conjunt ##amente al inicio de RT , come ##ntar el caso con el Servicio de G ##ine ##colo ##gía . En el estudio gi ##nec ##ológico se apre ##cian dos mio ##mas de mayor tamaño que los conocidos previamente . [SEP] [PAD] [PAD] [PAD] [PAD] [PAD] [PAD] [PAD] [PAD] \n",
      "\n",
      "[CLS] Se decide como tratamiento his ##tere ##cto ##mí ##a total simple , realizada el 14 / 1 / 2014 , con resultado ana ##tom ##opa ##tol ##ógico de : - Des ##cripción mac ##ros ##có ##pica : el cuerpo y la ca ##vidad end ##ome ##tria ##l aparecen def ##or ##mad ##os debido a la presencia de un nó ##dul ##o de localiza ##ción intra ##mura ##l de 11 cm de eje máximo . El nó ##dul ##o no está bien del ##imit ##ado , ob ##ser ##ván ##dose en zonas pequeños nó ##dul ##os satélite a su alrededor . [SEP] [PAD] [PAD] [PAD] [PAD] [PAD] [PAD] [PAD] [PAD] [PAD] [PAD] [PAD] [PAD] [PAD] [PAD] [PAD] [PAD] [PAD] [PAD] [PAD] [PAD] [PAD] [PAD] [PAD] [PAD] [PAD] [PAD] \n",
      "\n",
      "[CLS] En las pro ##xi ##midades del cu ##ello la ser ##osa ute ##rina está rota y algunos de los nó ##dul ##os coincide ##n con el margen de res ##ec ##ción . - Des ##cripción micro ##sc ##ó ##pica : los corte ##s correspondiente ##s al c ##ér ##vi ##x no muestran alter ##aciones significativa ##s en los componentes ex ##o ni end ##oce ##rvi ##cal . La mu ##cosa end ##ome ##tria ##l presenta un patrón pro ##life ##rati ##vo . El nó ##dul ##o mio ##met ##ral está con ##sti ##tui ##do por una pro ##life ##ración de células muy at ##í ##pica ##s y de mor ##fo ##logía muy variable . [SEP] [PAD] [PAD] [PAD] [PAD] [PAD] [PAD] [PAD] [PAD] [PAD] [PAD] [PAD] [PAD] \n",
      "\n",
      "[CLS] En la periferia la lesión es dens ##amente celular y está compuesta por células pred ##omina ##ntemente fu ##sif ##orme ##s con núcleos grandes y oval ##ados con mode ##rada varia ##bilidad entre ellos , y frecuentes figuras de mito ##sis . En el resto del tumor estas células alter ##nan con otras de gran tamaño , con núcleos muy ag ##rand ##ados e hip ##er ##cro ##mático ##s , a veces multi ##nu ##cle ##ados y con numerosas mito ##sis at ##í ##pica ##s . También se observa ##n amplia ##s zonas de ne ##cro ##sis y zonas más ede ##mat ##osas . Nu ##mero ##sas imágenes de per ##mea ##ción vas ##cular . [SEP] [PAD] [PAD] [PAD] [PAD] [PAD] [PAD] [PAD] [PAD] [PAD] [PAD] [PAD] \n",
      "\n",
      "[CLS] La lesión c ##rece adopt ##ando un patrón multi ##nod ##ular y algun ##o de estos nó ##dul ##os coincide con el margen de res ##ec ##ción en la zona de ruptura de la pare ##d ute ##rina . - In ##mun ##oh ##isto ##quí ##mica : CD ##31 positivo , Factor VIII positivo , act ##ina positivo , cal ##des ##món positivo , cal ##pon ##ina positivo , CD ##10 negativo . Ci ##to ##quera ##tina 19 negativo , des ##mina positiva , E ##G ##F ##R positivo irregular , Ki 67 positiv ##idad variable , zonas de hasta el 40 % , p ##16 dé ##bilmente positivo , p ##53 negativo , vi ##menti ##na positiva . [SEP] [PAD] [PAD] [PAD] [PAD] [PAD] [PAD] [PAD] \n",
      "\n",
      "[CLS] Dia ##gnóstico ana ##tom ##opa ##tol ##ógico his ##tere ##cto ##mí ##a total simple : lei ##omi ##osa ##rco ##ma con frecuentes imágenes de per ##mea ##ción vas ##cular . Tras la intervención qui ##rú ##rgi ##ca la paciente aq ##ue ##ja lu ##mbo ##ciata ##lgi ##a , inicialmente ach ##aca ##da a ia ##tro ##geni ##a qui ##rú ##rgi ##ca , pero dada su ref ##rac ##tari ##eda ##d a la anal ##gesi ##a tras 2 semanas se soli ##cit ##ó una RM pé ##lv ##ica , con los siguientes hall ##azgo ##s . [SEP] [PAD] [PAD] [PAD] [PAD] [PAD] [PAD] [PAD] [PAD] [PAD] [PAD] [PAD] [PAD] [PAD] [PAD] [PAD] [PAD] [PAD] [PAD] [PAD] [PAD] [PAD] [PAD] [PAD] [PAD] [PAD] [PAD] [PAD] [PAD] [PAD] [PAD] [PAD] \n",
      "\n",
      "[CLS] - RM lu ##mbo ##sa ##cra ( 6 / 2 / 2014 ) : met ##ást ##asis ós ##ea que afecta a la totalidad del ala sacra y hem ##icu ##er ##pos derechos de S2 y S ##3 con rot ##ura de la cort ##ical anterior y masa de partes bland ##as que rode ##a a las raíces S2 y S ##3 derecha ##s . Met ##ást ##asis ós ##ea en el ala sacra izquierda y en la región poster ##osu ##peri ##or y pe ##dí ##culo derecho de L ##5 . Image ##n compatible con cal ##ci ##ficación o arte ##fa ##cto en el canal ra ##quí ##deo a la altura de L ##4 - L ##5 . [SEP] [PAD] [PAD] [PAD] [PAD] [PAD] [PAD] [PAD] \n",
      "\n",
      "[CLS] Asimismo , se pro ##cedió a actual ##izar el estudio de extensión con TC c ##ér ##vic ##o - tó ##rac ##o - ab ##dom ##inal y gamma ##grafía ós ##ea . - TC c ##ér ##vic ##o - tó ##rac ##o - ab ##dom ##inal ( 19 / 2 / 2014 ) : met ##ást ##asis pu ##lm ##onare ##s y hep ##áticas . Aden ##opa ##tía ili ##aca izquierda sos ##pec ##hosa de mali ##gni ##dad . Met ##ást ##asis ós ##eas en el ala sacra derecha sin grandes cambios respecto a la RM previa . Les ##ión l ##ítica en el cuerpo verte ##bral D1 ##0 de nueva aparición , a des ##car ##tar met ##ást ##asis . [SEP] [PAD] [PAD] [PAD] [PAD] [PAD] \n",
      "\n",
      "[CLS] Les ##ión mix ##ta en la sé ##pti ##ma costi ##lla derecha . - Gama ##grafía ós ##ea ( 25 / 2 / 2014 ) : se objet ##iva ##n foc ##os de hip ##er ##cap ##tación en el maxi ##lar inferior , o ##cta ##va costi ##lla derecha en su arc ##ada lateral , ap ##ó ##fis ##is es ##pino ##sa de D - 11 y ala derecha , compatible ##s con dis ##emi ##nación meta ##st ##ási ##ca . [SEP] [PAD] [PAD] [PAD] [PAD] [PAD] [PAD] [PAD] [PAD] [PAD] [PAD] [PAD] [PAD] [PAD] [PAD] [PAD] [PAD] [PAD] [PAD] [PAD] [PAD] [PAD] [PAD] [PAD] [PAD] [PAD] [PAD] [PAD] [PAD] [PAD] [PAD] [PAD] [PAD] [PAD] [PAD] [PAD] [PAD] [PAD] [PAD] [PAD] [PAD] [PAD] [PAD] [PAD] [PAD] [PAD] \n",
      "\n",
      "[CLS] Ante estos hall ##azgo ##s se inició in ##fusión de ácido zo ##led ##rónico mens ##ual , y se pro ##cedió a ir ##radi ##ación de un segundo volumen que incluyó el sac ##ro , ad ##mini ##stra ##ndo una dos ##is total de 30 G ##y ( 3 G ##y / día ) entre el 11 y el 24 de febrero de 2014 . [SEP] [PAD] [PAD] [PAD] [PAD] [PAD] [PAD] [PAD] [PAD] [PAD] [PAD] [PAD] [PAD] [PAD] [PAD] [PAD] [PAD] [PAD] [PAD] [PAD] [PAD] [PAD] [PAD] [PAD] [PAD] [PAD] [PAD] [PAD] [PAD] [PAD] [PAD] [PAD] [PAD] [PAD] [PAD] [PAD] [PAD] [PAD] [PAD] [PAD] [PAD] [PAD] [PAD] [PAD] [PAD] [PAD] [PAD] [PAD] [PAD] [PAD] [PAD] [PAD] [PAD] [PAD] [PAD] [PAD] [PAD] [PAD] [PAD] [PAD] [PAD] [PAD] \n",
      "\n",
      "[CLS] Posteriormente , la paciente inició tratamiento con Q ##T según esquema de doce ##tax ##el 75 mg / m2 ( día 8 ) + ge ##mci ##tab ##ina 900 mg / m2 ( días 1 y 8 ) , habiendo recibido hasta la fecha un total de 5 ciclo ##s entre el 26 / 2 / 2014 y el 28 / 5 / 2014 . En última prueba de imagen realizada , el 19 / 5 / 2014 , se objet ##iv ##ó leve dis ##minución de tamaño de las les ##iones hip ##er ##vas ##cular ##es hep ##áticas meta ##st ##ási ##cas , con esta ##bilidad del resto de las les ##iones qu ##ísticas , probablemente beni ##gna ##s . [SEP] [PAD] [PAD] [PAD] [PAD] [PAD] \n",
      "\n",
      "[CLS] Se objet ##iv ##ó además met ##ást ##asis ren ##al izquierda y cambios de densidad de la met ##ást ##asis sacra , sin cambios en las les ##iones costa ##les ni en la lesión de D1 ##0 . Met ##ást ##asis pu ##lm ##onare ##s con comportamiento variable , algunas de ellas con crecimiento . La paciente continúa seg ##ui ##miento en consulta ##s del Hospital de Día del Hospital Universitario de La Princesa en la actualidad , estando previsto ad ##mini ##strar dos ciclo ##s más del tratamiento anteriormente refer ##ido . [SEP] [PAD] [PAD] [PAD] [PAD] [PAD] [PAD] [PAD] [PAD] [PAD] [PAD] [PAD] [PAD] [PAD] [PAD] [PAD] [PAD] [PAD] [PAD] [PAD] [PAD] [PAD] [PAD] [PAD] [PAD] [PAD] [PAD] [PAD] [PAD] [PAD] [PAD] [PAD] [PAD] [PAD] \n",
      "\n"
     ]
    }
   ],
   "source": [
    "check_id_frag = sum(dev_frag[:check_id])\n",
    "for frag in dev_ind[check_id_frag:check_id_frag + dev_frag[check_id]]:\n",
    "    print(' '.join([tokenizer._convert_id_to_token(int(ind)) for ind in frag]), \"\\n\")"
   ]
  },
  {
   "cell_type": "markdown",
   "metadata": {},
   "source": [
    "### Training & Development corpus\n",
    "\n",
    "We merge the previously generated datasets:"
   ]
  },
  {
   "cell_type": "code",
   "execution_count": 85,
   "metadata": {},
   "outputs": [],
   "source": [
    "# Indices\n",
    "train_dev_ind = np.concatenate((train_ind, dev_ind))"
   ]
  },
  {
   "cell_type": "code",
   "execution_count": 86,
   "metadata": {
    "scrolled": true
   },
   "outputs": [
    {
     "data": {
      "text/plain": [
       "(13475, 128)"
      ]
     },
     "execution_count": 86,
     "metadata": {},
     "output_type": "execute_result"
    }
   ],
   "source": [
    "train_dev_ind.shape"
   ]
  },
  {
   "cell_type": "code",
   "execution_count": 87,
   "metadata": {},
   "outputs": [],
   "source": [
    "# Attention\n",
    "train_dev_att = np.concatenate((train_att, dev_att))"
   ]
  },
  {
   "cell_type": "code",
   "execution_count": 88,
   "metadata": {},
   "outputs": [
    {
     "data": {
      "text/plain": [
       "(13475, 128)"
      ]
     },
     "execution_count": 88,
     "metadata": {},
     "output_type": "execute_result"
    }
   ],
   "source": [
    "train_dev_att.shape"
   ]
  },
  {
   "cell_type": "code",
   "execution_count": 89,
   "metadata": {},
   "outputs": [],
   "source": [
    "# Type\n",
    "train_dev_type = np.concatenate((train_type, dev_type))"
   ]
  },
  {
   "cell_type": "code",
   "execution_count": 90,
   "metadata": {},
   "outputs": [
    {
     "data": {
      "text/plain": [
       "(13475, 128)"
      ]
     },
     "execution_count": 90,
     "metadata": {},
     "output_type": "execute_result"
    }
   ],
   "source": [
    "train_dev_type.shape"
   ]
  },
  {
   "cell_type": "code",
   "execution_count": 91,
   "metadata": {},
   "outputs": [],
   "source": [
    "# y\n",
    "train_dev_y = np.concatenate((train_y, dev_y))"
   ]
  },
  {
   "cell_type": "code",
   "execution_count": 92,
   "metadata": {},
   "outputs": [
    {
     "data": {
      "text/plain": [
       "(13475, 128)"
      ]
     },
     "execution_count": 92,
     "metadata": {},
     "output_type": "execute_result"
    }
   ],
   "source": [
    "train_dev_y.shape"
   ]
  },
  {
   "cell_type": "markdown",
   "metadata": {},
   "source": [
    "## Fine-tuning\n",
    "\n",
    "Using the corpus of labeled sentences, we fine-tune the model on a multi-label sentence classification task."
   ]
  },
  {
   "cell_type": "code",
   "execution_count": 93,
   "metadata": {},
   "outputs": [
    {
     "name": "stderr",
     "output_type": "stream",
     "text": [
      "Some weights of the PyTorch model were not used when initializing the TF 2.0 model TFBertForTokenClassification: ['bert.embeddings.position_ids']\n",
      "- This IS expected if you are initializing TFBertForTokenClassification from a PyTorch model trained on another task or with another architecture (e.g. initializing a TFBertForSequenceClassification model from a BertForPreTraining model).\n",
      "- This IS NOT expected if you are initializing TFBertForTokenClassification from a PyTorch model that you expect to be exactly identical (e.g. initializing a TFBertForSequenceClassification model from a BertForSequenceClassification model).\n",
      "Some weights or buffers of the TF 2.0 model TFBertForTokenClassification were not initialized from the PyTorch model and are newly initialized: ['classifier.weight', 'classifier.bias']\n",
      "You should probably TRAIN this model on a down-stream task to be able to use it for predictions and inference.\n"
     ]
    }
   ],
   "source": [
    "from transformers import TFBertForTokenClassification\n",
    "\n",
    "model = TFBertForTokenClassification.from_pretrained(model_name, from_pt=True)"
   ]
  },
  {
   "cell_type": "code",
   "execution_count": 94,
   "metadata": {},
   "outputs": [
    {
     "name": "stdout",
     "output_type": "stream",
     "text": [
      "Model: \"tf_bert_for_token_classification\"\n",
      "_________________________________________________________________\n",
      "Layer (type)                 Output Shape              Param #   \n",
      "=================================================================\n",
      "bert (TFBertMainLayer)       multiple                  177262848 \n",
      "_________________________________________________________________\n",
      "dropout_37 (Dropout)         multiple                  0         \n",
      "_________________________________________________________________\n",
      "classifier (Dense)           multiple                  1538      \n",
      "=================================================================\n",
      "Total params: 177,264,386\n",
      "Trainable params: 177,264,386\n",
      "Non-trainable params: 0\n",
      "_________________________________________________________________\n"
     ]
    }
   ],
   "source": [
    "model.summary()"
   ]
  },
  {
   "cell_type": "code",
   "execution_count": 95,
   "metadata": {},
   "outputs": [
    {
     "data": {
      "text/plain": [
       "[<transformers.models.bert.modeling_tf_bert.TFBertMainLayer at 0x7efee95e0990>,\n",
       " <tensorflow.python.keras.layers.core.Dropout at 0x7efeaee7bf50>,\n",
       " <tensorflow.python.keras.layers.core.Dense at 0x7efeacff4250>]"
      ]
     },
     "execution_count": 95,
     "metadata": {},
     "output_type": "execute_result"
    }
   ],
   "source": [
    "model.layers"
   ]
  },
  {
   "cell_type": "code",
   "execution_count": 96,
   "metadata": {},
   "outputs": [],
   "source": [
    "from tensorflow.keras import Input, Model\n",
    "from tensorflow.keras.layers import Dense\n",
    "from tensorflow.keras.initializers import GlorotUniform\n",
    "\n",
    "input_ids = Input(shape=(SEQ_LEN,), name='input_ids', dtype='int64')\n",
    "\n",
    "num_labels = len(lab_encoder.classes_)\n",
    "\n",
    "out_seq = model.layers[0](input_ids=input_ids)[0] # take the output sub-token sequence \n",
    "out_logits = Dense(units=num_labels, kernel_initializer=GlorotUniform(seed=random_seed))(out_seq) # Multi-class classification\n",
    "\n",
    "model = Model(inputs=input_ids, outputs=out_logits)"
   ]
  },
  {
   "cell_type": "code",
   "execution_count": 97,
   "metadata": {},
   "outputs": [
    {
     "name": "stdout",
     "output_type": "stream",
     "text": [
      "Model: \"model\"\n",
      "_________________________________________________________________\n",
      "Layer (type)                 Output Shape              Param #   \n",
      "=================================================================\n",
      "input_ids (InputLayer)       [(None, 128)]             0         \n",
      "_________________________________________________________________\n",
      "bert (TFBertMainLayer)       TFBaseModelOutputWithPool 177262848 \n",
      "_________________________________________________________________\n",
      "dense (Dense)                (None, 128, 3)            2307      \n",
      "=================================================================\n",
      "Total params: 177,265,155\n",
      "Trainable params: 177,265,155\n",
      "Non-trainable params: 0\n",
      "_________________________________________________________________\n"
     ]
    }
   ],
   "source": [
    "model.summary()"
   ]
  },
  {
   "cell_type": "code",
   "execution_count": 98,
   "metadata": {},
   "outputs": [
    {
     "data": {
      "text/plain": [
       "<tf.Tensor 'input_ids:0' shape=(None, 128) dtype=int64>"
      ]
     },
     "execution_count": 98,
     "metadata": {},
     "output_type": "execute_result"
    }
   ],
   "source": [
    "model.input"
   ]
  },
  {
   "cell_type": "code",
   "execution_count": 99,
   "metadata": {},
   "outputs": [
    {
     "data": {
      "text/plain": [
       "<tf.Tensor 'dense/Identity:0' shape=(None, 128, 3) dtype=float32>"
      ]
     },
     "execution_count": 99,
     "metadata": {},
     "output_type": "execute_result"
    }
   ],
   "source": [
    "model.output"
   ]
  },
  {
   "cell_type": "code",
   "execution_count": null,
   "metadata": {},
   "outputs": [
    {
     "name": "stdout",
     "output_type": "stream",
     "text": [
      "Epoch 1/69\n",
      " 11/843 [..............................] - ETA: 3:47 - loss: 1.4236"
     ]
    }
   ],
   "source": [
    "%%time\n",
    "from tensorflow.keras import optimizers, losses\n",
    "import tensorflow_addons as tfa\n",
    "\n",
    "optimizer = tfa.optimizers.RectifiedAdam(learning_rate=LR)\n",
    "loss = TokenClassificationLoss(from_logits=LOGITS, ignore_val=IGNORE_VALUE)\n",
    "model.compile(optimizer=optimizer, loss=loss)\n",
    "\n",
    "history = model.fit(x={'input_ids': train_dev_ind}, \n",
    "                    y=train_dev_y, batch_size=BATCH_SIZE, epochs=EPOCHS, shuffle=True)"
   ]
  },
  {
   "cell_type": "markdown",
   "metadata": {},
   "source": [
    "As a sanity check procedure, we evaluate model predictions on the development set:"
   ]
  },
  {
   "cell_type": "code",
   "execution_count": 101,
   "metadata": {},
   "outputs": [
    {
     "name": "stdout",
     "output_type": "stream",
     "text": [
      "CPU times: user 10.2 s, sys: 1.39 s, total: 11.6 s\n",
      "Wall time: 15.6 s\n"
     ]
    }
   ],
   "source": [
    "%%time\n",
    "dev_preds = tf.nn.softmax(logits=model.predict({'input_ids': dev_ind}), \n",
    "                           axis=-1).numpy()"
   ]
  },
  {
   "cell_type": "code",
   "execution_count": 102,
   "metadata": {},
   "outputs": [
    {
     "data": {
      "text/plain": [
       "(2856, 128, 3)"
      ]
     },
     "execution_count": 102,
     "metadata": {},
     "output_type": "execute_result"
    }
   ],
   "source": [
    "dev_preds.shape"
   ]
  },
  {
   "cell_type": "code",
   "execution_count": 103,
   "metadata": {},
   "outputs": [],
   "source": [
    "out_dev_path = \"dev_preds/\""
   ]
  },
  {
   "cell_type": "code",
   "execution_count": 104,
   "metadata": {},
   "outputs": [
    {
     "name": "stderr",
     "output_type": "stream",
     "text": [
      "100%|██████████| 250/250 [00:00<00:00, 284.71it/s]\n",
      "100%|██████████| 250/250 [00:00<00:00, 291.69it/s]\n"
     ]
    }
   ],
   "source": [
    "write_ner_ann(df_pred_ann=ner_preds_brat_format(doc_list=dev_doc_list, fragments=dev_frag, preds=dev_preds, \n",
    "                                    start_end=dev_start_end_frag, word_id=dev_word_id, \n",
    "                                    lb_encoder=lab_encoder, df_text=df_text_dev, text_col=text_col, strategy=EVAL_STRATEGY), \n",
    "              out_path=out_dev_path)"
   ]
  },
  {
   "cell_type": "code",
   "execution_count": 105,
   "metadata": {},
   "outputs": [
    {
     "name": "stdout",
     "output_type": "stream",
     "text": [
      "\r\n",
      "-----------------------------------------------------\r\n",
      "Clinical case name\t\t\tPrecision\r\n",
      "-----------------------------------------------------\r\n",
      "cc_onco1001.ann\t\t0.857\r\n",
      "-----------------------------------------------------\r\n",
      "cc_onco1007.ann\t\t1.0\r\n",
      "-----------------------------------------------------\r\n",
      "cc_onco1008.ann\t\t1.0\r\n",
      "-----------------------------------------------------\r\n",
      "cc_onco1009.ann\t\t1.0\r\n",
      "-----------------------------------------------------\r\n",
      "cc_onco1010.ann\t\t1.0\r\n",
      "-----------------------------------------------------\r\n",
      "cc_onco1011.ann\t\t1.0\r\n",
      "-----------------------------------------------------\r\n",
      "cc_onco1012.ann\t\t1.0\r\n",
      "-----------------------------------------------------\r\n",
      "cc_onco1014.ann\t\t1.0\r\n",
      "-----------------------------------------------------\r\n",
      "cc_onco1016.ann\t\t1.0\r\n",
      "-----------------------------------------------------\r\n",
      "cc_onco1018.ann\t\t1.0\r\n",
      "-----------------------------------------------------\r\n",
      "cc_onco1019.ann\t\t1.0\r\n",
      "-----------------------------------------------------\r\n",
      "cc_onco1020.ann\t\t1.0\r\n",
      "-----------------------------------------------------\r\n",
      "cc_onco1021.ann\t\t1.0\r\n",
      "-----------------------------------------------------\r\n",
      "cc_onco1022.ann\t\t1.0\r\n",
      "-----------------------------------------------------\r\n",
      "cc_onco1025.ann\t\t1.0\r\n",
      "-----------------------------------------------------\r\n",
      "cc_onco1028.ann\t\t1.0\r\n",
      "-----------------------------------------------------\r\n",
      "cc_onco1031.ann\t\t1.0\r\n",
      "-----------------------------------------------------\r\n",
      "cc_onco1032.ann\t\t1.0\r\n",
      "-----------------------------------------------------\r\n",
      "cc_onco1033.ann\t\t1.0\r\n",
      "-----------------------------------------------------\r\n",
      "cc_onco1034.ann\t\t1.0\r\n",
      "-----------------------------------------------------\r\n",
      "cc_onco1035.ann\t\t1.0\r\n",
      "-----------------------------------------------------\r\n",
      "cc_onco1036.ann\t\t1.0\r\n",
      "-----------------------------------------------------\r\n",
      "cc_onco1041.ann\t\t1.0\r\n",
      "-----------------------------------------------------\r\n",
      "cc_onco1042.ann\t\t1.0\r\n",
      "-----------------------------------------------------\r\n",
      "cc_onco1043.ann\t\t1.0\r\n",
      "-----------------------------------------------------\r\n",
      "cc_onco1045.ann\t\t1.0\r\n",
      "-----------------------------------------------------\r\n",
      "cc_onco1047.ann\t\t1.0\r\n",
      "-----------------------------------------------------\r\n",
      "cc_onco1048.ann\t\t1.0\r\n",
      "-----------------------------------------------------\r\n",
      "cc_onco1049.ann\t\t1.0\r\n",
      "-----------------------------------------------------\r\n",
      "cc_onco1052.ann\t\t1.0\r\n",
      "-----------------------------------------------------\r\n",
      "cc_onco1054.ann\t\t1.0\r\n",
      "-----------------------------------------------------\r\n",
      "cc_onco1055.ann\t\t1.0\r\n",
      "-----------------------------------------------------\r\n",
      "cc_onco1058.ann\t\t1.0\r\n",
      "-----------------------------------------------------\r\n",
      "cc_onco1061.ann\t\t1.0\r\n",
      "-----------------------------------------------------\r\n",
      "cc_onco1062.ann\t\t1.0\r\n",
      "-----------------------------------------------------\r\n",
      "cc_onco1063.ann\t\t1.0\r\n",
      "-----------------------------------------------------\r\n",
      "cc_onco1067.ann\t\t1.0\r\n",
      "-----------------------------------------------------\r\n",
      "cc_onco1068.ann\t\t1.0\r\n",
      "-----------------------------------------------------\r\n",
      "cc_onco1069.ann\t\t1.0\r\n",
      "-----------------------------------------------------\r\n",
      "cc_onco1070.ann\t\t1.0\r\n",
      "-----------------------------------------------------\r\n",
      "cc_onco1071.ann\t\t1.0\r\n",
      "-----------------------------------------------------\r\n",
      "cc_onco1072.ann\t\t1.0\r\n",
      "-----------------------------------------------------\r\n",
      "cc_onco1073.ann\t\t1.0\r\n",
      "-----------------------------------------------------\r\n",
      "cc_onco1074.ann\t\t1.0\r\n",
      "-----------------------------------------------------\r\n",
      "cc_onco1076.ann\t\t1.0\r\n",
      "-----------------------------------------------------\r\n",
      "cc_onco1077.ann\t\t0.963\r\n",
      "-----------------------------------------------------\r\n",
      "cc_onco1079.ann\t\t1.0\r\n",
      "-----------------------------------------------------\r\n",
      "cc_onco1088.ann\t\t1.0\r\n",
      "-----------------------------------------------------\r\n",
      "cc_onco1089.ann\t\t1.0\r\n",
      "-----------------------------------------------------\r\n",
      "cc_onco1090.ann\t\t1.0\r\n",
      "-----------------------------------------------------\r\n",
      "cc_onco1091.ann\t\t1.0\r\n",
      "-----------------------------------------------------\r\n",
      "cc_onco1093.ann\t\t1.0\r\n",
      "-----------------------------------------------------\r\n",
      "cc_onco1094.ann\t\t1.0\r\n",
      "-----------------------------------------------------\r\n",
      "cc_onco1097.ann\t\t1.0\r\n",
      "-----------------------------------------------------\r\n",
      "cc_onco1098.ann\t\t1.0\r\n",
      "-----------------------------------------------------\r\n",
      "cc_onco1101.ann\t\t1.0\r\n",
      "-----------------------------------------------------\r\n",
      "cc_onco1102.ann\t\t1.0\r\n",
      "-----------------------------------------------------\r\n",
      "cc_onco1104.ann\t\t1.0\r\n",
      "-----------------------------------------------------\r\n",
      "cc_onco1111.ann\t\t1.0\r\n",
      "-----------------------------------------------------\r\n",
      "cc_onco1115.ann\t\t1.0\r\n",
      "-----------------------------------------------------\r\n",
      "cc_onco1117.ann\t\t1.0\r\n",
      "-----------------------------------------------------\r\n",
      "cc_onco1118.ann\t\t1.0\r\n",
      "-----------------------------------------------------\r\n",
      "cc_onco1121.ann\t\t1.0\r\n",
      "-----------------------------------------------------\r\n",
      "cc_onco1123.ann\t\t1.0\r\n",
      "-----------------------------------------------------\r\n",
      "cc_onco1124.ann\t\t1.0\r\n",
      "-----------------------------------------------------\r\n",
      "cc_onco1127.ann\t\t1.0\r\n",
      "-----------------------------------------------------\r\n",
      "cc_onco1130.ann\t\t1.0\r\n",
      "-----------------------------------------------------\r\n",
      "cc_onco1131.ann\t\t1.0\r\n",
      "-----------------------------------------------------\r\n",
      "cc_onco1132.ann\t\t1.0\r\n",
      "-----------------------------------------------------\r\n",
      "cc_onco1133.ann\t\t1.0\r\n",
      "-----------------------------------------------------\r\n",
      "cc_onco1137.ann\t\t1.0\r\n",
      "-----------------------------------------------------\r\n",
      "cc_onco1138.ann\t\t1.0\r\n",
      "-----------------------------------------------------\r\n",
      "cc_onco1141.ann\t\t1.0\r\n",
      "-----------------------------------------------------\r\n",
      "cc_onco1142.ann\t\t1.0\r\n",
      "-----------------------------------------------------\r\n",
      "cc_onco1143.ann\t\t1.0\r\n",
      "-----------------------------------------------------\r\n",
      "cc_onco1145.ann\t\t1.0\r\n",
      "-----------------------------------------------------\r\n",
      "cc_onco1147.ann\t\t1.0\r\n",
      "-----------------------------------------------------\r\n",
      "cc_onco1150.ann\t\t1.0\r\n",
      "-----------------------------------------------------\r\n",
      "cc_onco1151.ann\t\t1.0\r\n",
      "-----------------------------------------------------\r\n",
      "cc_onco1152.ann\t\t1.0\r\n",
      "-----------------------------------------------------\r\n",
      "cc_onco1154.ann\t\t1.0\r\n",
      "-----------------------------------------------------\r\n",
      "cc_onco1159.ann\t\t1.0\r\n",
      "-----------------------------------------------------\r\n",
      "cc_onco1163.ann\t\t1.0\r\n",
      "-----------------------------------------------------\r\n",
      "cc_onco1164.ann\t\t1.0\r\n",
      "-----------------------------------------------------\r\n",
      "cc_onco1166.ann\t\t1.0\r\n",
      "-----------------------------------------------------\r\n",
      "cc_onco1168.ann\t\t1.0\r\n",
      "-----------------------------------------------------\r\n",
      "cc_onco1170.ann\t\t1.0\r\n",
      "-----------------------------------------------------\r\n",
      "cc_onco1171.ann\t\t0.909\r\n",
      "-----------------------------------------------------\r\n",
      "cc_onco1172.ann\t\t1.0\r\n",
      "-----------------------------------------------------\r\n",
      "cc_onco1173.ann\t\t1.0\r\n",
      "-----------------------------------------------------\r\n",
      "cc_onco1175.ann\t\t1.0\r\n",
      "-----------------------------------------------------\r\n",
      "cc_onco1177.ann\t\t1.0\r\n",
      "-----------------------------------------------------\r\n",
      "cc_onco1179.ann\t\t1.0\r\n",
      "-----------------------------------------------------\r\n",
      "cc_onco1181.ann\t\t0.933\r\n",
      "-----------------------------------------------------\r\n",
      "cc_onco1183.ann\t\t1.0\r\n",
      "-----------------------------------------------------\r\n",
      "cc_onco1184.ann\t\t1.0\r\n",
      "-----------------------------------------------------\r\n",
      "cc_onco1186.ann\t\t1.0\r\n",
      "-----------------------------------------------------\r\n",
      "cc_onco1187.ann\t\t1.0\r\n",
      "-----------------------------------------------------\r\n",
      "cc_onco1188.ann\t\t1.0\r\n",
      "-----------------------------------------------------\r\n",
      "cc_onco1189.ann\t\t1.0\r\n",
      "-----------------------------------------------------\r\n",
      "cc_onco1194.ann\t\t1.0\r\n",
      "-----------------------------------------------------\r\n",
      "cc_onco1198.ann\t\t1.0\r\n",
      "-----------------------------------------------------\r\n",
      "cc_onco1199.ann\t\t1.0\r\n",
      "-----------------------------------------------------\r\n",
      "cc_onco1201.ann\t\t1.0\r\n",
      "-----------------------------------------------------\r\n",
      "cc_onco1203.ann\t\t1.0\r\n",
      "-----------------------------------------------------\r\n",
      "cc_onco1208.ann\t\t1.0\r\n",
      "-----------------------------------------------------\r\n",
      "cc_onco1211.ann\t\t1.0\r\n",
      "-----------------------------------------------------\r\n",
      "cc_onco1215.ann\t\t1.0\r\n",
      "-----------------------------------------------------\r\n",
      "cc_onco1217.ann\t\t1.0\r\n",
      "-----------------------------------------------------\r\n",
      "cc_onco1218.ann\t\t1.0\r\n",
      "-----------------------------------------------------\r\n",
      "cc_onco1221.ann\t\t1.0\r\n",
      "-----------------------------------------------------\r\n",
      "cc_onco1222.ann\t\t1.0\r\n",
      "-----------------------------------------------------\r\n",
      "cc_onco1225.ann\t\t1.0\r\n",
      "-----------------------------------------------------\r\n",
      "cc_onco1226.ann\t\t1.0\r\n",
      "-----------------------------------------------------\r\n",
      "cc_onco1227.ann\t\t1.0\r\n",
      "-----------------------------------------------------\r\n",
      "cc_onco1228.ann\t\t1.0\r\n",
      "-----------------------------------------------------\r\n",
      "cc_onco1229.ann\t\t1.0\r\n",
      "-----------------------------------------------------\r\n",
      "cc_onco1230.ann\t\t1.0\r\n",
      "-----------------------------------------------------\r\n",
      "cc_onco1232.ann\t\t1.0\r\n",
      "-----------------------------------------------------\r\n",
      "cc_onco1234.ann\t\t1.0\r\n",
      "-----------------------------------------------------\r\n",
      "cc_onco1235.ann\t\t1.0\r\n",
      "-----------------------------------------------------\r\n",
      "cc_onco1236.ann\t\t1.0\r\n",
      "-----------------------------------------------------\r\n",
      "cc_onco1237.ann\t\t1.0\r\n",
      "-----------------------------------------------------\r\n",
      "cc_onco1239.ann\t\t1.0\r\n",
      "-----------------------------------------------------\r\n",
      "cc_onco1241.ann\t\t1.0\r\n",
      "-----------------------------------------------------\r\n",
      "cc_onco1245.ann\t\t1.0\r\n",
      "-----------------------------------------------------\r\n",
      "cc_onco1253.ann\t\t1.0\r\n",
      "-----------------------------------------------------\r\n",
      "cc_onco1254.ann\t\t0.917\r\n",
      "-----------------------------------------------------\r\n",
      "cc_onco1255.ann\t\t1.0\r\n",
      "-----------------------------------------------------\r\n",
      "cc_onco1256.ann\t\t1.0\r\n",
      "-----------------------------------------------------\r\n",
      "cc_onco1257.ann\t\t1.0\r\n",
      "-----------------------------------------------------\r\n",
      "cc_onco1258.ann\t\t1.0\r\n",
      "-----------------------------------------------------\r\n",
      "cc_onco1260.ann\t\t1.0\r\n",
      "-----------------------------------------------------\r\n",
      "cc_onco1262.ann\t\t1.0\r\n",
      "-----------------------------------------------------\r\n",
      "cc_onco1264.ann\t\t1.0\r\n",
      "-----------------------------------------------------\r\n",
      "cc_onco1267.ann\t\t1.0\r\n",
      "-----------------------------------------------------\r\n",
      "cc_onco1271.ann\t\t1.0\r\n",
      "-----------------------------------------------------\r\n",
      "cc_onco1272.ann\t\t1.0\r\n",
      "-----------------------------------------------------\r\n",
      "cc_onco1273.ann\t\t1.0\r\n",
      "-----------------------------------------------------\r\n",
      "cc_onco1275.ann\t\t1.0\r\n",
      "-----------------------------------------------------\r\n",
      "cc_onco1276.ann\t\t1.0\r\n",
      "-----------------------------------------------------\r\n",
      "cc_onco1277.ann\t\t1.0\r\n",
      "-----------------------------------------------------\r\n",
      "cc_onco1280.ann\t\t1.0\r\n",
      "-----------------------------------------------------\r\n",
      "cc_onco1283.ann\t\t1.0\r\n",
      "-----------------------------------------------------\r\n",
      "cc_onco1286.ann\t\t1.0\r\n",
      "-----------------------------------------------------\r\n",
      "cc_onco1293.ann\t\t1.0\r\n",
      "-----------------------------------------------------\r\n",
      "cc_onco1295.ann\t\t1.0\r\n",
      "-----------------------------------------------------\r\n",
      "cc_onco1296.ann\t\t1.0\r\n",
      "-----------------------------------------------------\r\n",
      "cc_onco1304.ann\t\t1.0\r\n",
      "-----------------------------------------------------\r\n",
      "cc_onco1307.ann\t\t1.0\r\n",
      "-----------------------------------------------------\r\n",
      "cc_onco1308.ann\t\t1.0\r\n",
      "-----------------------------------------------------\r\n",
      "cc_onco1311.ann\t\t1.0\r\n",
      "-----------------------------------------------------\r\n",
      "cc_onco1312.ann\t\t1.0\r\n",
      "-----------------------------------------------------\r\n",
      "cc_onco1314.ann\t\t1.0\r\n",
      "-----------------------------------------------------\r\n",
      "cc_onco1315.ann\t\t1.0\r\n",
      "-----------------------------------------------------\r\n",
      "cc_onco1317.ann\t\t1.0\r\n",
      "-----------------------------------------------------\r\n",
      "cc_onco1318.ann\t\t1.0\r\n",
      "-----------------------------------------------------\r\n",
      "cc_onco1319.ann\t\t1.0\r\n",
      "-----------------------------------------------------\r\n",
      "cc_onco1320.ann\t\t1.0\r\n",
      "-----------------------------------------------------\r\n",
      "cc_onco1323.ann\t\t1.0\r\n",
      "-----------------------------------------------------\r\n",
      "cc_onco1324.ann\t\t1.0\r\n",
      "-----------------------------------------------------\r\n",
      "cc_onco1325.ann\t\t1.0\r\n",
      "-----------------------------------------------------\r\n",
      "cc_onco1326.ann\t\t1.0\r\n",
      "-----------------------------------------------------\r\n",
      "cc_onco1328.ann\t\t1.0\r\n",
      "-----------------------------------------------------\r\n",
      "cc_onco1329.ann\t\t1.0\r\n",
      "-----------------------------------------------------\r\n",
      "cc_onco1330.ann\t\t1.0\r\n",
      "-----------------------------------------------------\r\n",
      "cc_onco1331.ann\t\t1.0\r\n",
      "-----------------------------------------------------\r\n",
      "cc_onco1333.ann\t\t1.0\r\n",
      "-----------------------------------------------------\r\n",
      "cc_onco1336.ann\t\t1.0\r\n",
      "-----------------------------------------------------\r\n",
      "cc_onco1337.ann\t\t1.0\r\n",
      "-----------------------------------------------------\r\n",
      "cc_onco1338.ann\t\t1.0\r\n",
      "-----------------------------------------------------\r\n",
      "cc_onco1339.ann\t\t1.0\r\n",
      "-----------------------------------------------------\r\n",
      "cc_onco1340.ann\t\t1.0\r\n",
      "-----------------------------------------------------\r\n",
      "cc_onco1350.ann\t\t1.0\r\n",
      "-----------------------------------------------------\r\n",
      "cc_onco1351.ann\t\t1.0\r\n",
      "-----------------------------------------------------\r\n",
      "cc_onco1353.ann\t\t1.0\r\n",
      "-----------------------------------------------------\r\n",
      "cc_onco1354.ann\t\t1.0\r\n",
      "-----------------------------------------------------\r\n",
      "cc_onco1355.ann\t\t1.0\r\n",
      "-----------------------------------------------------\r\n",
      "cc_onco1356.ann\t\t1.0\r\n",
      "-----------------------------------------------------\r\n",
      "cc_onco1358.ann\t\t1.0\r\n",
      "-----------------------------------------------------\r\n",
      "cc_onco1359.ann\t\t1.0\r\n",
      "-----------------------------------------------------\r\n",
      "cc_onco1361.ann\t\t1.0\r\n",
      "-----------------------------------------------------\r\n",
      "cc_onco1363.ann\t\t1.0\r\n",
      "-----------------------------------------------------\r\n",
      "cc_onco1368.ann\t\t0.909\r\n",
      "-----------------------------------------------------\r\n",
      "cc_onco1371.ann\t\t1.0\r\n",
      "-----------------------------------------------------\r\n",
      "cc_onco1373.ann\t\t1.0\r\n",
      "-----------------------------------------------------\r\n",
      "cc_onco1376.ann\t\t1.0\r\n",
      "-----------------------------------------------------\r\n",
      "cc_onco1377.ann\t\t1.0\r\n",
      "-----------------------------------------------------\r\n",
      "cc_onco1382.ann\t\t1.0\r\n",
      "-----------------------------------------------------\r\n",
      "cc_onco1383.ann\t\t1.0\r\n",
      "-----------------------------------------------------\r\n",
      "cc_onco1384.ann\t\t1.0\r\n",
      "-----------------------------------------------------\r\n",
      "cc_onco1387.ann\t\t1.0\r\n",
      "-----------------------------------------------------\r\n",
      "cc_onco1388.ann\t\t1.0\r\n",
      "-----------------------------------------------------\r\n",
      "cc_onco1390.ann\t\t1.0\r\n",
      "-----------------------------------------------------\r\n",
      "cc_onco1391.ann\t\t1.0\r\n",
      "-----------------------------------------------------\r\n",
      "cc_onco1392.ann\t\t1.0\r\n",
      "-----------------------------------------------------\r\n",
      "cc_onco1393.ann\t\t1.0\r\n",
      "-----------------------------------------------------\r\n",
      "cc_onco1397.ann\t\t0.889\r\n",
      "-----------------------------------------------------\r\n",
      "cc_onco1402.ann\t\t1.0\r\n",
      "-----------------------------------------------------\r\n",
      "cc_onco1404.ann\t\t1.0\r\n",
      "-----------------------------------------------------\r\n",
      "cc_onco1405.ann\t\t1.0\r\n",
      "-----------------------------------------------------\r\n",
      "cc_onco1412.ann\t\t1.0\r\n",
      "-----------------------------------------------------\r\n",
      "cc_onco1415.ann\t\t1.0\r\n",
      "-----------------------------------------------------\r\n",
      "cc_onco1418.ann\t\t1.0\r\n",
      "-----------------------------------------------------\r\n",
      "cc_onco1419.ann\t\t1.0\r\n",
      "-----------------------------------------------------\r\n",
      "cc_onco1420.ann\t\t1.0\r\n",
      "-----------------------------------------------------\r\n",
      "cc_onco1424.ann\t\t1.0\r\n",
      "-----------------------------------------------------\r\n",
      "cc_onco1427.ann\t\t0.8\r\n",
      "-----------------------------------------------------\r\n",
      "cc_onco1428.ann\t\t1.0\r\n",
      "-----------------------------------------------------\r\n",
      "cc_onco1429.ann\t\t1.0\r\n",
      "-----------------------------------------------------\r\n",
      "cc_onco1432.ann\t\t1.0\r\n",
      "-----------------------------------------------------\r\n",
      "cc_onco1435.ann\t\t1.0\r\n",
      "-----------------------------------------------------\r\n",
      "cc_onco1437.ann\t\t1.0\r\n",
      "-----------------------------------------------------\r\n",
      "cc_onco1438.ann\t\t1.0\r\n",
      "-----------------------------------------------------\r\n",
      "cc_onco1444.ann\t\t1.0\r\n",
      "-----------------------------------------------------\r\n",
      "cc_onco1448.ann\t\t1.0\r\n",
      "-----------------------------------------------------\r\n",
      "cc_onco1449.ann\t\t1.0\r\n",
      "-----------------------------------------------------\r\n",
      "cc_onco1451.ann\t\t1.0\r\n",
      "-----------------------------------------------------\r\n",
      "cc_onco1459.ann\t\t1.0\r\n",
      "-----------------------------------------------------\r\n",
      "cc_onco1461.ann\t\t1.0\r\n",
      "-----------------------------------------------------\r\n",
      "cc_onco1462.ann\t\t1.0\r\n",
      "-----------------------------------------------------\r\n",
      "cc_onco1463.ann\t\t1.0\r\n",
      "-----------------------------------------------------\r\n",
      "cc_onco1467.ann\t\t1.0\r\n",
      "-----------------------------------------------------\r\n",
      "cc_onco1474.ann\t\t1.0\r\n",
      "-----------------------------------------------------\r\n",
      "cc_onco1475.ann\t\t1.0\r\n",
      "-----------------------------------------------------\r\n",
      "cc_onco1478.ann\t\t1.0\r\n",
      "-----------------------------------------------------\r\n",
      "cc_onco1482.ann\t\t1.0\r\n",
      "-----------------------------------------------------\r\n",
      "cc_onco1484.ann\t\t1.0\r\n",
      "-----------------------------------------------------\r\n",
      "cc_onco1487.ann\t\t1.0\r\n",
      "-----------------------------------------------------\r\n",
      "cc_onco1488.ann\t\t1.0\r\n",
      "-----------------------------------------------------\r\n",
      "cc_onco1490.ann\t\t1.0\r\n",
      "-----------------------------------------------------\r\n",
      "cc_onco1492.ann\t\t1.0\r\n",
      "-----------------------------------------------------\r\n",
      "cc_onco1494.ann\t\t0.969\r\n",
      "-----------------------------------------------------\r\n",
      "cc_onco1495.ann\t\t1.0\r\n",
      "-----------------------------------------------------\r\n",
      "cc_onco1497.ann\t\t1.0\r\n",
      "-----------------------------------------------------\r\n",
      "cc_onco1500.ann\t\t1.0\r\n",
      "-----------------------------------------------------\r\n",
      "cc_onco282.ann\t\t1.0\r\n",
      "-----------------------------------------------------\r\n",
      "cc_onco437.ann\t\t1.0\r\n",
      "-----------------------------------------------------\r\n",
      "cc_onco639.ann\t\t1.0\r\n",
      "-----------------------------------------------------\r\n",
      "cc_onco645.ann\t\t1.0\r\n",
      "-----------------------------------------------------\r\n",
      "cc_onco65.ann\t\t1.0\r\n",
      "-----------------------------------------------------\r\n",
      "cc_onco657.ann\t\t1.0\r\n",
      "-----------------------------------------------------\r\n",
      "cc_onco691.ann\t\t1.0\r\n",
      "-----------------------------------------------------\r\n",
      "cc_onco734.ann\t\t1.0\r\n",
      "-----------------------------------------------------\r\n",
      "cc_onco735.ann\t\t1.0\r\n",
      "-----------------------------------------------------\r\n",
      "cc_onco751.ann\t\t1.0\r\n",
      "-----------------------------------------------------\r\n",
      "cc_onco874.ann\t\t1.0\r\n",
      "-----------------------------------------------------\r\n",
      "cc_onco898.ann\t\t1.0\r\n",
      "-----------------------------------------------------\r\n",
      "cc_onco945.ann\t\t0.923\r\n",
      "-----------------------------------------------------\r\n",
      "cc_onco994.ann\t\t1.0\r\n",
      "-----------------------------------------------------\r\n",
      "\r\n",
      "-----------------------------------------------------\r\n",
      "Clinical case name\t\t\tRecall\r\n",
      "-----------------------------------------------------\r\n",
      "cc_onco1001.ann\t\t1.0\r\n",
      "-----------------------------------------------------\r\n",
      "cc_onco1007.ann\t\t1.0\r\n",
      "-----------------------------------------------------\r\n",
      "cc_onco1008.ann\t\t1.0\r\n",
      "-----------------------------------------------------\r\n",
      "cc_onco1009.ann\t\t1.0\r\n",
      "-----------------------------------------------------\r\n",
      "cc_onco1010.ann\t\t1.0\r\n",
      "-----------------------------------------------------\r\n",
      "cc_onco1011.ann\t\t0.923\r\n",
      "-----------------------------------------------------\r\n",
      "cc_onco1012.ann\t\t0.933\r\n",
      "-----------------------------------------------------\r\n",
      "cc_onco1014.ann\t\t1.0\r\n",
      "-----------------------------------------------------\r\n",
      "cc_onco1016.ann\t\t1.0\r\n",
      "-----------------------------------------------------\r\n",
      "cc_onco1018.ann\t\t1.0\r\n",
      "-----------------------------------------------------\r\n",
      "cc_onco1019.ann\t\t1.0\r\n",
      "-----------------------------------------------------\r\n",
      "cc_onco1020.ann\t\t1.0\r\n",
      "-----------------------------------------------------\r\n",
      "cc_onco1021.ann\t\t1.0\r\n",
      "-----------------------------------------------------\r\n",
      "cc_onco1022.ann\t\t1.0\r\n",
      "-----------------------------------------------------\r\n",
      "cc_onco1025.ann\t\t0.917\r\n",
      "-----------------------------------------------------\r\n",
      "cc_onco1028.ann\t\t1.0\r\n",
      "-----------------------------------------------------\r\n",
      "cc_onco1031.ann\t\t1.0\r\n",
      "-----------------------------------------------------\r\n",
      "cc_onco1032.ann\t\t1.0\r\n",
      "-----------------------------------------------------\r\n",
      "cc_onco1033.ann\t\t1.0\r\n",
      "-----------------------------------------------------\r\n",
      "cc_onco1034.ann\t\t1.0\r\n",
      "-----------------------------------------------------\r\n",
      "cc_onco1035.ann\t\t1.0\r\n",
      "-----------------------------------------------------\r\n",
      "cc_onco1036.ann\t\t1.0\r\n",
      "-----------------------------------------------------\r\n",
      "cc_onco1041.ann\t\t1.0\r\n",
      "-----------------------------------------------------\r\n",
      "cc_onco1042.ann\t\t1.0\r\n",
      "-----------------------------------------------------\r\n",
      "cc_onco1043.ann\t\t1.0\r\n",
      "-----------------------------------------------------\r\n",
      "cc_onco1045.ann\t\t1.0\r\n",
      "-----------------------------------------------------\r\n",
      "cc_onco1047.ann\t\t1.0\r\n",
      "-----------------------------------------------------\r\n",
      "cc_onco1048.ann\t\t1.0\r\n",
      "-----------------------------------------------------\r\n",
      "cc_onco1049.ann\t\t1.0\r\n",
      "-----------------------------------------------------\r\n",
      "cc_onco1052.ann\t\t1.0\r\n",
      "-----------------------------------------------------\r\n",
      "cc_onco1054.ann\t\t1.0\r\n",
      "-----------------------------------------------------\r\n",
      "cc_onco1055.ann\t\t0.889\r\n",
      "-----------------------------------------------------\r\n",
      "cc_onco1058.ann\t\t1.0\r\n",
      "-----------------------------------------------------\r\n",
      "cc_onco1061.ann\t\t1.0\r\n",
      "-----------------------------------------------------\r\n",
      "cc_onco1062.ann\t\t1.0\r\n",
      "-----------------------------------------------------\r\n",
      "cc_onco1063.ann\t\t1.0\r\n",
      "-----------------------------------------------------\r\n",
      "cc_onco1067.ann\t\t1.0\r\n",
      "-----------------------------------------------------\r\n",
      "cc_onco1068.ann\t\t1.0\r\n",
      "-----------------------------------------------------\r\n",
      "cc_onco1069.ann\t\t1.0\r\n",
      "-----------------------------------------------------\r\n",
      "cc_onco1070.ann\t\t1.0\r\n",
      "-----------------------------------------------------\r\n",
      "cc_onco1071.ann\t\t1.0\r\n",
      "-----------------------------------------------------\r\n",
      "cc_onco1072.ann\t\t1.0\r\n",
      "-----------------------------------------------------\r\n",
      "cc_onco1073.ann\t\t1.0\r\n",
      "-----------------------------------------------------\r\n",
      "cc_onco1074.ann\t\t1.0\r\n",
      "-----------------------------------------------------\r\n",
      "cc_onco1076.ann\t\t1.0\r\n",
      "-----------------------------------------------------\r\n",
      "cc_onco1077.ann\t\t0.963\r\n",
      "-----------------------------------------------------\r\n",
      "cc_onco1079.ann\t\t1.0\r\n",
      "-----------------------------------------------------\r\n",
      "cc_onco1088.ann\t\t1.0\r\n",
      "-----------------------------------------------------\r\n",
      "cc_onco1089.ann\t\t1.0\r\n",
      "-----------------------------------------------------\r\n",
      "cc_onco1090.ann\t\t1.0\r\n",
      "-----------------------------------------------------\r\n",
      "cc_onco1091.ann\t\t1.0\r\n",
      "-----------------------------------------------------\r\n",
      "cc_onco1093.ann\t\t1.0\r\n",
      "-----------------------------------------------------\r\n",
      "cc_onco1094.ann\t\t1.0\r\n",
      "-----------------------------------------------------\r\n",
      "cc_onco1097.ann\t\t1.0\r\n",
      "-----------------------------------------------------\r\n",
      "cc_onco1098.ann\t\t1.0\r\n",
      "-----------------------------------------------------\r\n",
      "cc_onco1101.ann\t\t0.955\r\n",
      "-----------------------------------------------------\r\n",
      "cc_onco1102.ann\t\t1.0\r\n",
      "-----------------------------------------------------\r\n",
      "cc_onco1104.ann\t\t1.0\r\n",
      "-----------------------------------------------------\r\n",
      "cc_onco1111.ann\t\t1.0\r\n",
      "-----------------------------------------------------\r\n",
      "cc_onco1115.ann\t\t1.0\r\n",
      "-----------------------------------------------------\r\n",
      "cc_onco1117.ann\t\t1.0\r\n",
      "-----------------------------------------------------\r\n",
      "cc_onco1118.ann\t\t1.0\r\n",
      "-----------------------------------------------------\r\n",
      "cc_onco1121.ann\t\t1.0\r\n",
      "-----------------------------------------------------\r\n",
      "cc_onco1123.ann\t\t0.929\r\n",
      "-----------------------------------------------------\r\n",
      "cc_onco1124.ann\t\t1.0\r\n",
      "-----------------------------------------------------\r\n",
      "cc_onco1127.ann\t\t1.0\r\n",
      "-----------------------------------------------------\r\n",
      "cc_onco1130.ann\t\t1.0\r\n",
      "-----------------------------------------------------\r\n",
      "cc_onco1131.ann\t\t1.0\r\n",
      "-----------------------------------------------------\r\n",
      "cc_onco1132.ann\t\t0.833\r\n",
      "-----------------------------------------------------\r\n",
      "cc_onco1133.ann\t\t1.0\r\n",
      "-----------------------------------------------------\r\n",
      "cc_onco1137.ann\t\t1.0\r\n",
      "-----------------------------------------------------\r\n",
      "cc_onco1138.ann\t\t1.0\r\n",
      "-----------------------------------------------------\r\n",
      "cc_onco1141.ann\t\t0.941\r\n",
      "-----------------------------------------------------\r\n",
      "cc_onco1142.ann\t\t1.0\r\n",
      "-----------------------------------------------------\r\n",
      "cc_onco1143.ann\t\t1.0\r\n",
      "-----------------------------------------------------\r\n",
      "cc_onco1145.ann\t\t1.0\r\n",
      "-----------------------------------------------------\r\n",
      "cc_onco1147.ann\t\t1.0\r\n",
      "-----------------------------------------------------\r\n",
      "cc_onco1150.ann\t\t1.0\r\n",
      "-----------------------------------------------------\r\n",
      "cc_onco1151.ann\t\t1.0\r\n",
      "-----------------------------------------------------\r\n",
      "cc_onco1152.ann\t\t1.0\r\n",
      "-----------------------------------------------------\r\n",
      "cc_onco1154.ann\t\t1.0\r\n",
      "-----------------------------------------------------\r\n",
      "cc_onco1159.ann\t\t1.0\r\n",
      "-----------------------------------------------------\r\n",
      "cc_onco1163.ann\t\t1.0\r\n",
      "-----------------------------------------------------\r\n",
      "cc_onco1164.ann\t\t1.0\r\n",
      "-----------------------------------------------------\r\n",
      "cc_onco1166.ann\t\t0.917\r\n",
      "-----------------------------------------------------\r\n",
      "cc_onco1168.ann\t\t1.0\r\n",
      "-----------------------------------------------------\r\n",
      "cc_onco1170.ann\t\t1.0\r\n",
      "-----------------------------------------------------\r\n",
      "cc_onco1171.ann\t\t0.909\r\n",
      "-----------------------------------------------------\r\n",
      "cc_onco1172.ann\t\t1.0\r\n",
      "-----------------------------------------------------\r\n",
      "cc_onco1173.ann\t\t0.9\r\n",
      "-----------------------------------------------------\r\n",
      "cc_onco1175.ann\t\t1.0\r\n",
      "-----------------------------------------------------\r\n",
      "cc_onco1177.ann\t\t1.0\r\n",
      "-----------------------------------------------------\r\n",
      "cc_onco1179.ann\t\t0.941\r\n",
      "-----------------------------------------------------\r\n",
      "cc_onco1181.ann\t\t0.933\r\n",
      "-----------------------------------------------------\r\n",
      "cc_onco1183.ann\t\t1.0\r\n",
      "-----------------------------------------------------\r\n",
      "cc_onco1184.ann\t\t1.0\r\n",
      "-----------------------------------------------------\r\n",
      "cc_onco1186.ann\t\t1.0\r\n",
      "-----------------------------------------------------\r\n",
      "cc_onco1187.ann\t\t1.0\r\n",
      "-----------------------------------------------------\r\n",
      "cc_onco1188.ann\t\t0.857\r\n",
      "-----------------------------------------------------\r\n",
      "cc_onco1189.ann\t\t1.0\r\n",
      "-----------------------------------------------------\r\n",
      "cc_onco1194.ann\t\t1.0\r\n",
      "-----------------------------------------------------\r\n",
      "cc_onco1198.ann\t\t1.0\r\n",
      "-----------------------------------------------------\r\n",
      "cc_onco1199.ann\t\t1.0\r\n",
      "-----------------------------------------------------\r\n",
      "cc_onco1201.ann\t\t0.846\r\n",
      "-----------------------------------------------------\r\n",
      "cc_onco1203.ann\t\t1.0\r\n",
      "-----------------------------------------------------\r\n",
      "cc_onco1208.ann\t\t1.0\r\n",
      "-----------------------------------------------------\r\n",
      "cc_onco1211.ann\t\t1.0\r\n",
      "-----------------------------------------------------\r\n",
      "cc_onco1215.ann\t\t1.0\r\n",
      "-----------------------------------------------------\r\n",
      "cc_onco1217.ann\t\t1.0\r\n",
      "-----------------------------------------------------\r\n",
      "cc_onco1218.ann\t\t0.857\r\n",
      "-----------------------------------------------------\r\n",
      "cc_onco1221.ann\t\t1.0\r\n",
      "-----------------------------------------------------\r\n",
      "cc_onco1222.ann\t\t0.667\r\n",
      "-----------------------------------------------------\r\n",
      "cc_onco1225.ann\t\t1.0\r\n",
      "-----------------------------------------------------\r\n",
      "cc_onco1226.ann\t\t1.0\r\n",
      "-----------------------------------------------------\r\n",
      "cc_onco1227.ann\t\t1.0\r\n",
      "-----------------------------------------------------\r\n",
      "cc_onco1228.ann\t\t1.0\r\n",
      "-----------------------------------------------------\r\n",
      "cc_onco1229.ann\t\t1.0\r\n",
      "-----------------------------------------------------\r\n",
      "cc_onco1230.ann\t\t1.0\r\n",
      "-----------------------------------------------------\r\n",
      "cc_onco1232.ann\t\t1.0\r\n",
      "-----------------------------------------------------\r\n",
      "cc_onco1234.ann\t\t1.0\r\n",
      "-----------------------------------------------------\r\n",
      "cc_onco1235.ann\t\t1.0\r\n",
      "-----------------------------------------------------\r\n",
      "cc_onco1236.ann\t\t1.0\r\n",
      "-----------------------------------------------------\r\n",
      "cc_onco1237.ann\t\t1.0\r\n",
      "-----------------------------------------------------\r\n",
      "cc_onco1239.ann\t\t1.0\r\n",
      "-----------------------------------------------------\r\n",
      "cc_onco1241.ann\t\t1.0\r\n",
      "-----------------------------------------------------\r\n",
      "cc_onco1245.ann\t\t1.0\r\n",
      "-----------------------------------------------------\r\n",
      "cc_onco1253.ann\t\t1.0\r\n",
      "-----------------------------------------------------\r\n",
      "cc_onco1254.ann\t\t0.786\r\n",
      "-----------------------------------------------------\r\n",
      "cc_onco1255.ann\t\t1.0\r\n",
      "-----------------------------------------------------\r\n",
      "cc_onco1256.ann\t\t1.0\r\n",
      "-----------------------------------------------------\r\n",
      "cc_onco1257.ann\t\t1.0\r\n",
      "-----------------------------------------------------\r\n",
      "cc_onco1258.ann\t\t0.929\r\n",
      "-----------------------------------------------------\r\n",
      "cc_onco1260.ann\t\t1.0\r\n",
      "-----------------------------------------------------\r\n",
      "cc_onco1262.ann\t\t1.0\r\n",
      "-----------------------------------------------------\r\n",
      "cc_onco1264.ann\t\t1.0\r\n",
      "-----------------------------------------------------\r\n",
      "cc_onco1267.ann\t\t1.0\r\n",
      "-----------------------------------------------------\r\n",
      "cc_onco1271.ann\t\t1.0\r\n",
      "-----------------------------------------------------\r\n",
      "cc_onco1272.ann\t\t1.0\r\n",
      "-----------------------------------------------------\r\n",
      "cc_onco1273.ann\t\t1.0\r\n",
      "-----------------------------------------------------\r\n",
      "cc_onco1275.ann\t\t1.0\r\n",
      "-----------------------------------------------------\r\n",
      "cc_onco1276.ann\t\t1.0\r\n",
      "-----------------------------------------------------\r\n",
      "cc_onco1277.ann\t\t1.0\r\n",
      "-----------------------------------------------------\r\n",
      "cc_onco1280.ann\t\t1.0\r\n",
      "-----------------------------------------------------\r\n",
      "cc_onco1283.ann\t\t0.947\r\n",
      "-----------------------------------------------------\r\n",
      "cc_onco1286.ann\t\t1.0\r\n",
      "-----------------------------------------------------\r\n",
      "cc_onco1293.ann\t\t1.0\r\n",
      "-----------------------------------------------------\r\n",
      "cc_onco1295.ann\t\t1.0\r\n",
      "-----------------------------------------------------\r\n",
      "cc_onco1296.ann\t\t0.941\r\n",
      "-----------------------------------------------------\r\n",
      "cc_onco1304.ann\t\t1.0\r\n",
      "-----------------------------------------------------\r\n",
      "cc_onco1307.ann\t\t1.0\r\n",
      "-----------------------------------------------------\r\n",
      "cc_onco1308.ann\t\t1.0\r\n",
      "-----------------------------------------------------\r\n",
      "cc_onco1311.ann\t\t0.909\r\n",
      "-----------------------------------------------------\r\n",
      "cc_onco1312.ann\t\t1.0\r\n",
      "-----------------------------------------------------\r\n",
      "cc_onco1314.ann\t\t1.0\r\n",
      "-----------------------------------------------------\r\n",
      "cc_onco1315.ann\t\t1.0\r\n",
      "-----------------------------------------------------\r\n",
      "cc_onco1317.ann\t\t1.0\r\n",
      "-----------------------------------------------------\r\n",
      "cc_onco1318.ann\t\t1.0\r\n",
      "-----------------------------------------------------\r\n",
      "cc_onco1319.ann\t\t1.0\r\n",
      "-----------------------------------------------------\r\n",
      "cc_onco1320.ann\t\t1.0\r\n",
      "-----------------------------------------------------\r\n",
      "cc_onco1323.ann\t\t1.0\r\n",
      "-----------------------------------------------------\r\n",
      "cc_onco1324.ann\t\t1.0\r\n",
      "-----------------------------------------------------\r\n",
      "cc_onco1325.ann\t\t0.917\r\n",
      "-----------------------------------------------------\r\n",
      "cc_onco1326.ann\t\t1.0\r\n",
      "-----------------------------------------------------\r\n",
      "cc_onco1328.ann\t\t1.0\r\n",
      "-----------------------------------------------------\r\n",
      "cc_onco1329.ann\t\t1.0\r\n",
      "-----------------------------------------------------\r\n",
      "cc_onco1330.ann\t\t1.0\r\n",
      "-----------------------------------------------------\r\n",
      "cc_onco1331.ann\t\t0.875\r\n",
      "-----------------------------------------------------\r\n",
      "cc_onco1333.ann\t\t1.0\r\n",
      "-----------------------------------------------------\r\n",
      "cc_onco1336.ann\t\t1.0\r\n",
      "-----------------------------------------------------\r\n",
      "cc_onco1337.ann\t\t1.0\r\n",
      "-----------------------------------------------------\r\n",
      "cc_onco1338.ann\t\t1.0\r\n",
      "-----------------------------------------------------\r\n",
      "cc_onco1339.ann\t\t1.0\r\n",
      "-----------------------------------------------------\r\n",
      "cc_onco1340.ann\t\t1.0\r\n",
      "-----------------------------------------------------\r\n",
      "cc_onco1350.ann\t\t1.0\r\n",
      "-----------------------------------------------------\r\n",
      "cc_onco1351.ann\t\t1.0\r\n",
      "-----------------------------------------------------\r\n",
      "cc_onco1353.ann\t\t1.0\r\n",
      "-----------------------------------------------------\r\n",
      "cc_onco1354.ann\t\t0.938\r\n",
      "-----------------------------------------------------\r\n",
      "cc_onco1355.ann\t\t1.0\r\n",
      "-----------------------------------------------------\r\n",
      "cc_onco1356.ann\t\t1.0\r\n",
      "-----------------------------------------------------\r\n",
      "cc_onco1358.ann\t\t0.9\r\n",
      "-----------------------------------------------------\r\n",
      "cc_onco1359.ann\t\t1.0\r\n",
      "-----------------------------------------------------\r\n",
      "cc_onco1361.ann\t\t1.0\r\n",
      "-----------------------------------------------------\r\n",
      "cc_onco1363.ann\t\t1.0\r\n",
      "-----------------------------------------------------\r\n",
      "cc_onco1368.ann\t\t0.833\r\n",
      "-----------------------------------------------------\r\n",
      "cc_onco1371.ann\t\t1.0\r\n",
      "-----------------------------------------------------\r\n",
      "cc_onco1373.ann\t\t1.0\r\n",
      "-----------------------------------------------------\r\n",
      "cc_onco1376.ann\t\t1.0\r\n",
      "-----------------------------------------------------\r\n",
      "cc_onco1377.ann\t\t1.0\r\n",
      "-----------------------------------------------------\r\n",
      "cc_onco1382.ann\t\t1.0\r\n",
      "-----------------------------------------------------\r\n",
      "cc_onco1383.ann\t\t1.0\r\n",
      "-----------------------------------------------------\r\n",
      "cc_onco1384.ann\t\t1.0\r\n",
      "-----------------------------------------------------\r\n",
      "cc_onco1387.ann\t\t1.0\r\n",
      "-----------------------------------------------------\r\n",
      "cc_onco1388.ann\t\t0.667\r\n",
      "-----------------------------------------------------\r\n",
      "cc_onco1390.ann\t\t1.0\r\n",
      "-----------------------------------------------------\r\n",
      "cc_onco1391.ann\t\t1.0\r\n",
      "-----------------------------------------------------\r\n",
      "cc_onco1392.ann\t\t1.0\r\n",
      "-----------------------------------------------------\r\n",
      "cc_onco1393.ann\t\t1.0\r\n",
      "-----------------------------------------------------\r\n",
      "cc_onco1397.ann\t\t0.889\r\n",
      "-----------------------------------------------------\r\n",
      "cc_onco1402.ann\t\t1.0\r\n",
      "-----------------------------------------------------\r\n",
      "cc_onco1404.ann\t\t1.0\r\n",
      "-----------------------------------------------------\r\n",
      "cc_onco1405.ann\t\t1.0\r\n",
      "-----------------------------------------------------\r\n",
      "cc_onco1412.ann\t\t1.0\r\n",
      "-----------------------------------------------------\r\n",
      "cc_onco1415.ann\t\t1.0\r\n",
      "-----------------------------------------------------\r\n",
      "cc_onco1418.ann\t\t1.0\r\n",
      "-----------------------------------------------------\r\n",
      "cc_onco1419.ann\t\t0.917\r\n",
      "-----------------------------------------------------\r\n",
      "cc_onco1420.ann\t\t1.0\r\n",
      "-----------------------------------------------------\r\n",
      "cc_onco1424.ann\t\t1.0\r\n",
      "-----------------------------------------------------\r\n",
      "cc_onco1427.ann\t\t0.8\r\n",
      "-----------------------------------------------------\r\n",
      "cc_onco1428.ann\t\t1.0\r\n",
      "-----------------------------------------------------\r\n",
      "cc_onco1429.ann\t\t1.0\r\n",
      "-----------------------------------------------------\r\n",
      "cc_onco1432.ann\t\t0.933\r\n",
      "-----------------------------------------------------\r\n",
      "cc_onco1435.ann\t\t1.0\r\n",
      "-----------------------------------------------------\r\n",
      "cc_onco1437.ann\t\t1.0\r\n",
      "-----------------------------------------------------\r\n",
      "cc_onco1438.ann\t\t1.0\r\n",
      "-----------------------------------------------------\r\n",
      "cc_onco1444.ann\t\t1.0\r\n",
      "-----------------------------------------------------\r\n",
      "cc_onco1448.ann\t\t1.0\r\n",
      "-----------------------------------------------------\r\n",
      "cc_onco1449.ann\t\t1.0\r\n",
      "-----------------------------------------------------\r\n",
      "cc_onco1451.ann\t\t1.0\r\n",
      "-----------------------------------------------------\r\n",
      "cc_onco1459.ann\t\t1.0\r\n",
      "-----------------------------------------------------\r\n",
      "cc_onco1461.ann\t\t1.0\r\n",
      "-----------------------------------------------------\r\n",
      "cc_onco1462.ann\t\t1.0\r\n",
      "-----------------------------------------------------\r\n",
      "cc_onco1463.ann\t\t1.0\r\n",
      "-----------------------------------------------------\r\n",
      "cc_onco1467.ann\t\t1.0\r\n",
      "-----------------------------------------------------\r\n",
      "cc_onco1474.ann\t\t1.0\r\n",
      "-----------------------------------------------------\r\n",
      "cc_onco1475.ann\t\t0.5\r\n",
      "-----------------------------------------------------\r\n",
      "cc_onco1478.ann\t\t0.952\r\n",
      "-----------------------------------------------------\r\n",
      "cc_onco1482.ann\t\t1.0\r\n",
      "-----------------------------------------------------\r\n",
      "cc_onco1484.ann\t\t1.0\r\n",
      "-----------------------------------------------------\r\n",
      "cc_onco1487.ann\t\t1.0\r\n",
      "-----------------------------------------------------\r\n",
      "cc_onco1488.ann\t\t1.0\r\n",
      "-----------------------------------------------------\r\n",
      "cc_onco1490.ann\t\t1.0\r\n",
      "-----------------------------------------------------\r\n",
      "cc_onco1492.ann\t\t1.0\r\n",
      "-----------------------------------------------------\r\n",
      "cc_onco1494.ann\t\t0.939\r\n",
      "-----------------------------------------------------\r\n",
      "cc_onco1495.ann\t\t1.0\r\n",
      "-----------------------------------------------------\r\n",
      "cc_onco1497.ann\t\t1.0\r\n",
      "-----------------------------------------------------\r\n",
      "cc_onco1500.ann\t\t1.0\r\n",
      "-----------------------------------------------------\r\n",
      "cc_onco282.ann\t\t1.0\r\n",
      "-----------------------------------------------------\r\n",
      "cc_onco437.ann\t\t1.0\r\n",
      "-----------------------------------------------------\r\n",
      "cc_onco639.ann\t\t1.0\r\n",
      "-----------------------------------------------------\r\n",
      "cc_onco645.ann\t\t1.0\r\n",
      "-----------------------------------------------------\r\n",
      "cc_onco65.ann\t\t1.0\r\n",
      "-----------------------------------------------------\r\n",
      "cc_onco657.ann\t\t1.0\r\n",
      "-----------------------------------------------------\r\n",
      "cc_onco691.ann\t\t1.0\r\n",
      "-----------------------------------------------------\r\n",
      "cc_onco734.ann\t\t1.0\r\n",
      "-----------------------------------------------------\r\n",
      "cc_onco735.ann\t\t1.0\r\n",
      "-----------------------------------------------------\r\n",
      "cc_onco751.ann\t\t1.0\r\n",
      "-----------------------------------------------------\r\n",
      "cc_onco874.ann\t\t1.0\r\n",
      "-----------------------------------------------------\r\n",
      "cc_onco898.ann\t\t1.0\r\n",
      "-----------------------------------------------------\r\n",
      "cc_onco945.ann\t\t0.923\r\n",
      "-----------------------------------------------------\r\n",
      "cc_onco994.ann\t\t1.0\r\n",
      "-----------------------------------------------------\r\n",
      "\r\n",
      "-----------------------------------------------------\r\n",
      "Clinical case name\t\t\tF-score\r\n",
      "-----------------------------------------------------\r\n",
      "cc_onco1001.ann\t\t0.923\r\n",
      "-----------------------------------------------------\r\n",
      "cc_onco1007.ann\t\t1.0\r\n",
      "-----------------------------------------------------\r\n",
      "cc_onco1008.ann\t\t1.0\r\n",
      "-----------------------------------------------------\r\n",
      "cc_onco1009.ann\t\t1.0\r\n",
      "-----------------------------------------------------\r\n",
      "cc_onco1010.ann\t\t1.0\r\n",
      "-----------------------------------------------------\r\n",
      "cc_onco1011.ann\t\t0.96\r\n",
      "-----------------------------------------------------\r\n",
      "cc_onco1012.ann\t\t0.966\r\n",
      "-----------------------------------------------------\r\n",
      "cc_onco1014.ann\t\t1.0\r\n",
      "-----------------------------------------------------\r\n",
      "cc_onco1016.ann\t\t1.0\r\n",
      "-----------------------------------------------------\r\n",
      "cc_onco1018.ann\t\t1.0\r\n",
      "-----------------------------------------------------\r\n",
      "cc_onco1019.ann\t\t1.0\r\n",
      "-----------------------------------------------------\r\n",
      "cc_onco1020.ann\t\t1.0\r\n",
      "-----------------------------------------------------\r\n",
      "cc_onco1021.ann\t\t1.0\r\n",
      "-----------------------------------------------------\r\n",
      "cc_onco1022.ann\t\t1.0\r\n",
      "-----------------------------------------------------\r\n",
      "cc_onco1025.ann\t\t0.957\r\n",
      "-----------------------------------------------------\r\n",
      "cc_onco1028.ann\t\t1.0\r\n",
      "-----------------------------------------------------\r\n",
      "cc_onco1031.ann\t\t1.0\r\n",
      "-----------------------------------------------------\r\n",
      "cc_onco1032.ann\t\t1.0\r\n",
      "-----------------------------------------------------\r\n",
      "cc_onco1033.ann\t\t1.0\r\n",
      "-----------------------------------------------------\r\n",
      "cc_onco1034.ann\t\t1.0\r\n",
      "-----------------------------------------------------\r\n",
      "cc_onco1035.ann\t\t1.0\r\n",
      "-----------------------------------------------------\r\n",
      "cc_onco1036.ann\t\t1.0\r\n",
      "-----------------------------------------------------\r\n",
      "cc_onco1041.ann\t\t1.0\r\n",
      "-----------------------------------------------------\r\n",
      "cc_onco1042.ann\t\t1.0\r\n",
      "-----------------------------------------------------\r\n",
      "cc_onco1043.ann\t\t1.0\r\n",
      "-----------------------------------------------------\r\n",
      "cc_onco1045.ann\t\t1.0\r\n",
      "-----------------------------------------------------\r\n",
      "cc_onco1047.ann\t\t1.0\r\n",
      "-----------------------------------------------------\r\n",
      "cc_onco1048.ann\t\t1.0\r\n",
      "-----------------------------------------------------\r\n",
      "cc_onco1049.ann\t\t1.0\r\n",
      "-----------------------------------------------------\r\n",
      "cc_onco1052.ann\t\t1.0\r\n",
      "-----------------------------------------------------\r\n",
      "cc_onco1054.ann\t\t1.0\r\n",
      "-----------------------------------------------------\r\n",
      "cc_onco1055.ann\t\t0.941\r\n",
      "-----------------------------------------------------\r\n",
      "cc_onco1058.ann\t\t1.0\r\n",
      "-----------------------------------------------------\r\n",
      "cc_onco1061.ann\t\t1.0\r\n",
      "-----------------------------------------------------\r\n",
      "cc_onco1062.ann\t\t1.0\r\n",
      "-----------------------------------------------------\r\n",
      "cc_onco1063.ann\t\t1.0\r\n",
      "-----------------------------------------------------\r\n",
      "cc_onco1067.ann\t\t1.0\r\n",
      "-----------------------------------------------------\r\n",
      "cc_onco1068.ann\t\t1.0\r\n",
      "-----------------------------------------------------\r\n",
      "cc_onco1069.ann\t\t1.0\r\n",
      "-----------------------------------------------------\r\n",
      "cc_onco1070.ann\t\t1.0\r\n",
      "-----------------------------------------------------\r\n",
      "cc_onco1071.ann\t\t1.0\r\n",
      "-----------------------------------------------------\r\n",
      "cc_onco1072.ann\t\t1.0\r\n",
      "-----------------------------------------------------\r\n",
      "cc_onco1073.ann\t\t1.0\r\n",
      "-----------------------------------------------------\r\n",
      "cc_onco1074.ann\t\t1.0\r\n",
      "-----------------------------------------------------\r\n",
      "cc_onco1076.ann\t\t1.0\r\n",
      "-----------------------------------------------------\r\n",
      "cc_onco1077.ann\t\t0.963\r\n",
      "-----------------------------------------------------\r\n",
      "cc_onco1079.ann\t\t1.0\r\n",
      "-----------------------------------------------------\r\n",
      "cc_onco1088.ann\t\t1.0\r\n",
      "-----------------------------------------------------\r\n",
      "cc_onco1089.ann\t\t1.0\r\n",
      "-----------------------------------------------------\r\n",
      "cc_onco1090.ann\t\t1.0\r\n",
      "-----------------------------------------------------\r\n",
      "cc_onco1091.ann\t\t1.0\r\n",
      "-----------------------------------------------------\r\n",
      "cc_onco1093.ann\t\t1.0\r\n",
      "-----------------------------------------------------\r\n",
      "cc_onco1094.ann\t\t1.0\r\n",
      "-----------------------------------------------------\r\n",
      "cc_onco1097.ann\t\t1.0\r\n",
      "-----------------------------------------------------\r\n",
      "cc_onco1098.ann\t\t1.0\r\n",
      "-----------------------------------------------------\r\n",
      "cc_onco1101.ann\t\t0.977\r\n",
      "-----------------------------------------------------\r\n",
      "cc_onco1102.ann\t\t1.0\r\n",
      "-----------------------------------------------------\r\n",
      "cc_onco1104.ann\t\t1.0\r\n",
      "-----------------------------------------------------\r\n",
      "cc_onco1111.ann\t\t1.0\r\n",
      "-----------------------------------------------------\r\n",
      "cc_onco1115.ann\t\t1.0\r\n",
      "-----------------------------------------------------\r\n",
      "cc_onco1117.ann\t\t1.0\r\n",
      "-----------------------------------------------------\r\n",
      "cc_onco1118.ann\t\t1.0\r\n",
      "-----------------------------------------------------\r\n",
      "cc_onco1121.ann\t\t1.0\r\n",
      "-----------------------------------------------------\r\n",
      "cc_onco1123.ann\t\t0.963\r\n",
      "-----------------------------------------------------\r\n",
      "cc_onco1124.ann\t\t1.0\r\n",
      "-----------------------------------------------------\r\n",
      "cc_onco1127.ann\t\t1.0\r\n",
      "-----------------------------------------------------\r\n",
      "cc_onco1130.ann\t\t1.0\r\n",
      "-----------------------------------------------------\r\n",
      "cc_onco1131.ann\t\t1.0\r\n",
      "-----------------------------------------------------\r\n",
      "cc_onco1132.ann\t\t0.909\r\n",
      "-----------------------------------------------------\r\n",
      "cc_onco1133.ann\t\t1.0\r\n",
      "-----------------------------------------------------\r\n",
      "cc_onco1137.ann\t\t1.0\r\n",
      "-----------------------------------------------------\r\n",
      "cc_onco1138.ann\t\t1.0\r\n",
      "-----------------------------------------------------\r\n",
      "cc_onco1141.ann\t\t0.97\r\n",
      "-----------------------------------------------------\r\n",
      "cc_onco1142.ann\t\t1.0\r\n",
      "-----------------------------------------------------\r\n",
      "cc_onco1143.ann\t\t1.0\r\n",
      "-----------------------------------------------------\r\n",
      "cc_onco1145.ann\t\t1.0\r\n",
      "-----------------------------------------------------\r\n",
      "cc_onco1147.ann\t\t1.0\r\n",
      "-----------------------------------------------------\r\n",
      "cc_onco1150.ann\t\t1.0\r\n",
      "-----------------------------------------------------\r\n",
      "cc_onco1151.ann\t\t1.0\r\n",
      "-----------------------------------------------------\r\n",
      "cc_onco1152.ann\t\t1.0\r\n",
      "-----------------------------------------------------\r\n",
      "cc_onco1154.ann\t\t1.0\r\n",
      "-----------------------------------------------------\r\n",
      "cc_onco1159.ann\t\t1.0\r\n",
      "-----------------------------------------------------\r\n",
      "cc_onco1163.ann\t\t1.0\r\n",
      "-----------------------------------------------------\r\n",
      "cc_onco1164.ann\t\t1.0\r\n",
      "-----------------------------------------------------\r\n",
      "cc_onco1166.ann\t\t0.957\r\n",
      "-----------------------------------------------------\r\n",
      "cc_onco1168.ann\t\t1.0\r\n",
      "-----------------------------------------------------\r\n",
      "cc_onco1170.ann\t\t1.0\r\n",
      "-----------------------------------------------------\r\n",
      "cc_onco1171.ann\t\t0.909\r\n",
      "-----------------------------------------------------\r\n",
      "cc_onco1172.ann\t\t1.0\r\n",
      "-----------------------------------------------------\r\n",
      "cc_onco1173.ann\t\t0.947\r\n",
      "-----------------------------------------------------\r\n",
      "cc_onco1175.ann\t\t1.0\r\n",
      "-----------------------------------------------------\r\n",
      "cc_onco1177.ann\t\t1.0\r\n",
      "-----------------------------------------------------\r\n",
      "cc_onco1179.ann\t\t0.97\r\n",
      "-----------------------------------------------------\r\n",
      "cc_onco1181.ann\t\t0.933\r\n",
      "-----------------------------------------------------\r\n",
      "cc_onco1183.ann\t\t1.0\r\n",
      "-----------------------------------------------------\r\n",
      "cc_onco1184.ann\t\t1.0\r\n",
      "-----------------------------------------------------\r\n",
      "cc_onco1186.ann\t\t1.0\r\n",
      "-----------------------------------------------------\r\n",
      "cc_onco1187.ann\t\t1.0\r\n",
      "-----------------------------------------------------\r\n",
      "cc_onco1188.ann\t\t0.923\r\n",
      "-----------------------------------------------------\r\n",
      "cc_onco1189.ann\t\t1.0\r\n",
      "-----------------------------------------------------\r\n",
      "cc_onco1194.ann\t\t1.0\r\n",
      "-----------------------------------------------------\r\n",
      "cc_onco1198.ann\t\t1.0\r\n",
      "-----------------------------------------------------\r\n",
      "cc_onco1199.ann\t\t1.0\r\n",
      "-----------------------------------------------------\r\n",
      "cc_onco1201.ann\t\t0.917\r\n",
      "-----------------------------------------------------\r\n",
      "cc_onco1203.ann\t\t1.0\r\n",
      "-----------------------------------------------------\r\n",
      "cc_onco1208.ann\t\t1.0\r\n",
      "-----------------------------------------------------\r\n",
      "cc_onco1211.ann\t\t1.0\r\n",
      "-----------------------------------------------------\r\n",
      "cc_onco1215.ann\t\t1.0\r\n",
      "-----------------------------------------------------\r\n",
      "cc_onco1217.ann\t\t1.0\r\n",
      "-----------------------------------------------------\r\n",
      "cc_onco1218.ann\t\t0.923\r\n",
      "-----------------------------------------------------\r\n",
      "cc_onco1221.ann\t\t1.0\r\n",
      "-----------------------------------------------------\r\n",
      "cc_onco1222.ann\t\t0.8\r\n",
      "-----------------------------------------------------\r\n",
      "cc_onco1225.ann\t\t1.0\r\n",
      "-----------------------------------------------------\r\n",
      "cc_onco1226.ann\t\t1.0\r\n",
      "-----------------------------------------------------\r\n",
      "cc_onco1227.ann\t\t1.0\r\n",
      "-----------------------------------------------------\r\n",
      "cc_onco1228.ann\t\t1.0\r\n",
      "-----------------------------------------------------\r\n",
      "cc_onco1229.ann\t\t1.0\r\n",
      "-----------------------------------------------------\r\n",
      "cc_onco1230.ann\t\t1.0\r\n",
      "-----------------------------------------------------\r\n",
      "cc_onco1232.ann\t\t1.0\r\n",
      "-----------------------------------------------------\r\n",
      "cc_onco1234.ann\t\t1.0\r\n",
      "-----------------------------------------------------\r\n",
      "cc_onco1235.ann\t\t1.0\r\n",
      "-----------------------------------------------------\r\n",
      "cc_onco1236.ann\t\t1.0\r\n",
      "-----------------------------------------------------\r\n",
      "cc_onco1237.ann\t\t1.0\r\n",
      "-----------------------------------------------------\r\n",
      "cc_onco1239.ann\t\t1.0\r\n",
      "-----------------------------------------------------\r\n",
      "cc_onco1241.ann\t\t1.0\r\n",
      "-----------------------------------------------------\r\n",
      "cc_onco1245.ann\t\t1.0\r\n",
      "-----------------------------------------------------\r\n",
      "cc_onco1253.ann\t\t1.0\r\n",
      "-----------------------------------------------------\r\n",
      "cc_onco1254.ann\t\t0.846\r\n",
      "-----------------------------------------------------\r\n",
      "cc_onco1255.ann\t\t1.0\r\n",
      "-----------------------------------------------------\r\n",
      "cc_onco1256.ann\t\t1.0\r\n",
      "-----------------------------------------------------\r\n",
      "cc_onco1257.ann\t\t1.0\r\n",
      "-----------------------------------------------------\r\n",
      "cc_onco1258.ann\t\t0.963\r\n",
      "-----------------------------------------------------\r\n",
      "cc_onco1260.ann\t\t1.0\r\n",
      "-----------------------------------------------------\r\n",
      "cc_onco1262.ann\t\t1.0\r\n",
      "-----------------------------------------------------\r\n",
      "cc_onco1264.ann\t\t1.0\r\n",
      "-----------------------------------------------------\r\n",
      "cc_onco1267.ann\t\t1.0\r\n",
      "-----------------------------------------------------\r\n",
      "cc_onco1271.ann\t\t1.0\r\n",
      "-----------------------------------------------------\r\n",
      "cc_onco1272.ann\t\t1.0\r\n",
      "-----------------------------------------------------\r\n",
      "cc_onco1273.ann\t\t1.0\r\n",
      "-----------------------------------------------------\r\n",
      "cc_onco1275.ann\t\t1.0\r\n",
      "-----------------------------------------------------\r\n",
      "cc_onco1276.ann\t\t1.0\r\n",
      "-----------------------------------------------------\r\n",
      "cc_onco1277.ann\t\t1.0\r\n",
      "-----------------------------------------------------\r\n",
      "cc_onco1280.ann\t\t1.0\r\n",
      "-----------------------------------------------------\r\n",
      "cc_onco1283.ann\t\t0.973\r\n",
      "-----------------------------------------------------\r\n",
      "cc_onco1286.ann\t\t1.0\r\n",
      "-----------------------------------------------------\r\n",
      "cc_onco1293.ann\t\t1.0\r\n",
      "-----------------------------------------------------\r\n",
      "cc_onco1295.ann\t\t1.0\r\n",
      "-----------------------------------------------------\r\n",
      "cc_onco1296.ann\t\t0.97\r\n",
      "-----------------------------------------------------\r\n",
      "cc_onco1304.ann\t\t1.0\r\n",
      "-----------------------------------------------------\r\n",
      "cc_onco1307.ann\t\t1.0\r\n",
      "-----------------------------------------------------\r\n",
      "cc_onco1308.ann\t\t1.0\r\n",
      "-----------------------------------------------------\r\n",
      "cc_onco1311.ann\t\t0.952\r\n",
      "-----------------------------------------------------\r\n",
      "cc_onco1312.ann\t\t1.0\r\n",
      "-----------------------------------------------------\r\n",
      "cc_onco1314.ann\t\t1.0\r\n",
      "-----------------------------------------------------\r\n",
      "cc_onco1315.ann\t\t1.0\r\n",
      "-----------------------------------------------------\r\n",
      "cc_onco1317.ann\t\t1.0\r\n",
      "-----------------------------------------------------\r\n",
      "cc_onco1318.ann\t\t1.0\r\n",
      "-----------------------------------------------------\r\n",
      "cc_onco1319.ann\t\t1.0\r\n",
      "-----------------------------------------------------\r\n",
      "cc_onco1320.ann\t\t1.0\r\n",
      "-----------------------------------------------------\r\n",
      "cc_onco1323.ann\t\t1.0\r\n",
      "-----------------------------------------------------\r\n",
      "cc_onco1324.ann\t\t1.0\r\n",
      "-----------------------------------------------------\r\n",
      "cc_onco1325.ann\t\t0.957\r\n",
      "-----------------------------------------------------\r\n",
      "cc_onco1326.ann\t\t1.0\r\n",
      "-----------------------------------------------------\r\n",
      "cc_onco1328.ann\t\t1.0\r\n",
      "-----------------------------------------------------\r\n",
      "cc_onco1329.ann\t\t1.0\r\n",
      "-----------------------------------------------------\r\n",
      "cc_onco1330.ann\t\t1.0\r\n",
      "-----------------------------------------------------\r\n",
      "cc_onco1331.ann\t\t0.933\r\n",
      "-----------------------------------------------------\r\n",
      "cc_onco1333.ann\t\t1.0\r\n",
      "-----------------------------------------------------\r\n",
      "cc_onco1336.ann\t\t1.0\r\n",
      "-----------------------------------------------------\r\n",
      "cc_onco1337.ann\t\t1.0\r\n",
      "-----------------------------------------------------\r\n",
      "cc_onco1338.ann\t\t1.0\r\n",
      "-----------------------------------------------------\r\n",
      "cc_onco1339.ann\t\t1.0\r\n",
      "-----------------------------------------------------\r\n",
      "cc_onco1340.ann\t\t1.0\r\n",
      "-----------------------------------------------------\r\n",
      "cc_onco1350.ann\t\t1.0\r\n",
      "-----------------------------------------------------\r\n",
      "cc_onco1351.ann\t\t1.0\r\n",
      "-----------------------------------------------------\r\n",
      "cc_onco1353.ann\t\t1.0\r\n",
      "-----------------------------------------------------\r\n",
      "cc_onco1354.ann\t\t0.968\r\n",
      "-----------------------------------------------------\r\n",
      "cc_onco1355.ann\t\t1.0\r\n",
      "-----------------------------------------------------\r\n",
      "cc_onco1356.ann\t\t1.0\r\n",
      "-----------------------------------------------------\r\n",
      "cc_onco1358.ann\t\t0.947\r\n",
      "-----------------------------------------------------\r\n",
      "cc_onco1359.ann\t\t1.0\r\n",
      "-----------------------------------------------------\r\n",
      "cc_onco1361.ann\t\t1.0\r\n",
      "-----------------------------------------------------\r\n",
      "cc_onco1363.ann\t\t1.0\r\n",
      "-----------------------------------------------------\r\n",
      "cc_onco1368.ann\t\t0.87\r\n",
      "-----------------------------------------------------\r\n",
      "cc_onco1371.ann\t\t1.0\r\n",
      "-----------------------------------------------------\r\n",
      "cc_onco1373.ann\t\t1.0\r\n",
      "-----------------------------------------------------\r\n",
      "cc_onco1376.ann\t\t1.0\r\n",
      "-----------------------------------------------------\r\n",
      "cc_onco1377.ann\t\t1.0\r\n",
      "-----------------------------------------------------\r\n",
      "cc_onco1382.ann\t\t1.0\r\n",
      "-----------------------------------------------------\r\n",
      "cc_onco1383.ann\t\t1.0\r\n",
      "-----------------------------------------------------\r\n",
      "cc_onco1384.ann\t\t1.0\r\n",
      "-----------------------------------------------------\r\n",
      "cc_onco1387.ann\t\t1.0\r\n",
      "-----------------------------------------------------\r\n",
      "cc_onco1388.ann\t\t0.8\r\n",
      "-----------------------------------------------------\r\n",
      "cc_onco1390.ann\t\t1.0\r\n",
      "-----------------------------------------------------\r\n",
      "cc_onco1391.ann\t\t1.0\r\n",
      "-----------------------------------------------------\r\n",
      "cc_onco1392.ann\t\t1.0\r\n",
      "-----------------------------------------------------\r\n",
      "cc_onco1393.ann\t\t1.0\r\n",
      "-----------------------------------------------------\r\n",
      "cc_onco1397.ann\t\t0.889\r\n",
      "-----------------------------------------------------\r\n",
      "cc_onco1402.ann\t\t1.0\r\n",
      "-----------------------------------------------------\r\n",
      "cc_onco1404.ann\t\t1.0\r\n",
      "-----------------------------------------------------\r\n",
      "cc_onco1405.ann\t\t1.0\r\n",
      "-----------------------------------------------------\r\n",
      "cc_onco1412.ann\t\t1.0\r\n",
      "-----------------------------------------------------\r\n",
      "cc_onco1415.ann\t\t1.0\r\n",
      "-----------------------------------------------------\r\n",
      "cc_onco1418.ann\t\t1.0\r\n",
      "-----------------------------------------------------\r\n",
      "cc_onco1419.ann\t\t0.957\r\n",
      "-----------------------------------------------------\r\n",
      "cc_onco1420.ann\t\t1.0\r\n",
      "-----------------------------------------------------\r\n",
      "cc_onco1424.ann\t\t1.0\r\n",
      "-----------------------------------------------------\r\n",
      "cc_onco1427.ann\t\t0.8\r\n",
      "-----------------------------------------------------\r\n",
      "cc_onco1428.ann\t\t1.0\r\n",
      "-----------------------------------------------------\r\n",
      "cc_onco1429.ann\t\t1.0\r\n",
      "-----------------------------------------------------\r\n",
      "cc_onco1432.ann\t\t0.966\r\n",
      "-----------------------------------------------------\r\n",
      "cc_onco1435.ann\t\t1.0\r\n",
      "-----------------------------------------------------\r\n",
      "cc_onco1437.ann\t\t1.0\r\n",
      "-----------------------------------------------------\r\n",
      "cc_onco1438.ann\t\t1.0\r\n",
      "-----------------------------------------------------\r\n",
      "cc_onco1444.ann\t\t1.0\r\n",
      "-----------------------------------------------------\r\n",
      "cc_onco1448.ann\t\t1.0\r\n",
      "-----------------------------------------------------\r\n",
      "cc_onco1449.ann\t\t1.0\r\n",
      "-----------------------------------------------------\r\n",
      "cc_onco1451.ann\t\t1.0\r\n",
      "-----------------------------------------------------\r\n",
      "cc_onco1459.ann\t\t1.0\r\n",
      "-----------------------------------------------------\r\n",
      "cc_onco1461.ann\t\t1.0\r\n",
      "-----------------------------------------------------\r\n",
      "cc_onco1462.ann\t\t1.0\r\n",
      "-----------------------------------------------------\r\n",
      "cc_onco1463.ann\t\t1.0\r\n",
      "-----------------------------------------------------\r\n",
      "cc_onco1467.ann\t\t1.0\r\n",
      "-----------------------------------------------------\r\n",
      "cc_onco1474.ann\t\t1.0\r\n",
      "-----------------------------------------------------\r\n",
      "cc_onco1475.ann\t\t0.667\r\n",
      "-----------------------------------------------------\r\n",
      "cc_onco1478.ann\t\t0.976\r\n",
      "-----------------------------------------------------\r\n",
      "cc_onco1482.ann\t\t1.0\r\n",
      "-----------------------------------------------------\r\n",
      "cc_onco1484.ann\t\t1.0\r\n",
      "-----------------------------------------------------\r\n",
      "cc_onco1487.ann\t\t1.0\r\n",
      "-----------------------------------------------------\r\n",
      "cc_onco1488.ann\t\t1.0\r\n",
      "-----------------------------------------------------\r\n",
      "cc_onco1490.ann\t\t1.0\r\n",
      "-----------------------------------------------------\r\n",
      "cc_onco1492.ann\t\t1.0\r\n",
      "-----------------------------------------------------\r\n",
      "cc_onco1494.ann\t\t0.954\r\n",
      "-----------------------------------------------------\r\n",
      "cc_onco1495.ann\t\t1.0\r\n",
      "-----------------------------------------------------\r\n",
      "cc_onco1497.ann\t\t1.0\r\n",
      "-----------------------------------------------------\r\n",
      "cc_onco1500.ann\t\t1.0\r\n",
      "-----------------------------------------------------\r\n",
      "cc_onco282.ann\t\t1.0\r\n",
      "-----------------------------------------------------\r\n",
      "cc_onco437.ann\t\t1.0\r\n",
      "-----------------------------------------------------\r\n",
      "cc_onco639.ann\t\t1.0\r\n",
      "-----------------------------------------------------\r\n",
      "cc_onco645.ann\t\t1.0\r\n",
      "-----------------------------------------------------\r\n",
      "cc_onco65.ann\t\t1.0\r\n",
      "-----------------------------------------------------\r\n",
      "cc_onco657.ann\t\t1.0\r\n",
      "-----------------------------------------------------\r\n",
      "cc_onco691.ann\t\t1.0\r\n",
      "-----------------------------------------------------\r\n",
      "cc_onco734.ann\t\t1.0\r\n",
      "-----------------------------------------------------\r\n",
      "cc_onco735.ann\t\t1.0\r\n",
      "-----------------------------------------------------\r\n",
      "cc_onco751.ann\t\t1.0\r\n",
      "-----------------------------------------------------\r\n",
      "cc_onco874.ann\t\t1.0\r\n",
      "-----------------------------------------------------\r\n",
      "cc_onco898.ann\t\t1.0\r\n",
      "-----------------------------------------------------\r\n",
      "cc_onco945.ann\t\t0.923\r\n",
      "-----------------------------------------------------\r\n",
      "cc_onco994.ann\t\t1.0\r\n",
      "-----------------------------------------------------\r\n",
      "\r\n",
      "-----------------------------------------------------\r\n",
      "Micro-average metrics\r\n",
      "-----------------------------------------------------\r\n",
      "\r\n",
      "Micro-average precision = 0.996\r\n",
      "\r\n",
      "\r\n",
      "Micro-average recall = 0.982\r\n",
      "\r\n",
      "\r\n",
      "Micro-average F-score = 0.989\r\n",
      "\r\n",
      "./dev_preds/|0.996|0.982|0.989\r\n"
     ]
    },
    {
     "name": "stdout",
     "output_type": "stream",
     "text": [
      "CPU times: user 9.34 ms, sys: 37.5 ms, total: 46.8 ms\n",
      "Wall time: 1.03 s\n"
     ]
    }
   ],
   "source": [
    "%%time\n",
    "!python ../resources/cantemist-evaluation-library/src/main.py -g ../datasets/cantemist_v6/dev-set2/cantemist-ner/ -p ./dev_preds/ -s ner "
   ]
  },
  {
   "cell_type": "markdown",
   "metadata": {},
   "source": [
    "## Test set predictions"
   ]
  },
  {
   "cell_type": "code",
   "execution_count": 106,
   "metadata": {},
   "outputs": [
    {
     "name": "stdout",
     "output_type": "stream",
     "text": [
      "CPU times: user 10.6 ms, sys: 0 ns, total: 10.6 ms\n",
      "Wall time: 9.89 ms\n"
     ]
    }
   ],
   "source": [
    "%%time\n",
    "test_path = corpus_path + \"test-set/\" + sub_task_path\n",
    "test_files = [f for f in os.listdir(test_path) if os.path.isfile(test_path + f) and f.split('.')[-1] == 'txt']\n",
    "test_data = load_text_files(test_files, test_path)\n",
    "df_text_test = pd.DataFrame({'doc_id': [s.split('.txt')[0] for s in test_files], 'raw_text': test_data})"
   ]
  },
  {
   "cell_type": "code",
   "execution_count": 107,
   "metadata": {},
   "outputs": [
    {
     "data": {
      "text/plain": [
       "(300, 2)"
      ]
     },
     "execution_count": 107,
     "metadata": {},
     "output_type": "execute_result"
    }
   ],
   "source": [
    "df_text_test.shape"
   ]
  },
  {
   "cell_type": "code",
   "execution_count": 108,
   "metadata": {},
   "outputs": [
    {
     "data": {
      "text/html": [
       "<div>\n",
       "<style scoped>\n",
       "    .dataframe tbody tr th:only-of-type {\n",
       "        vertical-align: middle;\n",
       "    }\n",
       "\n",
       "    .dataframe tbody tr th {\n",
       "        vertical-align: top;\n",
       "    }\n",
       "\n",
       "    .dataframe thead th {\n",
       "        text-align: right;\n",
       "    }\n",
       "</style>\n",
       "<table border=\"1\" class=\"dataframe\">\n",
       "  <thead>\n",
       "    <tr style=\"text-align: right;\">\n",
       "      <th></th>\n",
       "      <th>doc_id</th>\n",
       "      <th>raw_text</th>\n",
       "    </tr>\n",
       "  </thead>\n",
       "  <tbody>\n",
       "    <tr>\n",
       "      <th>0</th>\n",
       "      <td>cc_onco877</td>\n",
       "      <td>Anamnesis\\nMujer de 59 años, alérgica a penici...</td>\n",
       "    </tr>\n",
       "    <tr>\n",
       "      <th>1</th>\n",
       "      <td>cc_onco1075</td>\n",
       "      <td>Anamnesis\\nMujer de 52 años, sin alergias cono...</td>\n",
       "    </tr>\n",
       "    <tr>\n",
       "      <th>2</th>\n",
       "      <td>cc_onco1450</td>\n",
       "      <td>Anamnesis\\nMujer de 51 años de edad, sin antec...</td>\n",
       "    </tr>\n",
       "    <tr>\n",
       "      <th>3</th>\n",
       "      <td>cc_onco1165</td>\n",
       "      <td>Anamnesis\\nPaciente varón de 75 años sin hábit...</td>\n",
       "    </tr>\n",
       "    <tr>\n",
       "      <th>4</th>\n",
       "      <td>cc_onco1298</td>\n",
       "      <td>Anamnesis\\nMujer de 60 años, exfumadora de 20 ...</td>\n",
       "    </tr>\n",
       "  </tbody>\n",
       "</table>\n",
       "</div>"
      ],
      "text/plain": [
       "        doc_id                                           raw_text\n",
       "0   cc_onco877  Anamnesis\\nMujer de 59 años, alérgica a penici...\n",
       "1  cc_onco1075  Anamnesis\\nMujer de 52 años, sin alergias cono...\n",
       "2  cc_onco1450  Anamnesis\\nMujer de 51 años de edad, sin antec...\n",
       "3  cc_onco1165  Anamnesis\\nPaciente varón de 75 años sin hábit...\n",
       "4  cc_onco1298  Anamnesis\\nMujer de 60 años, exfumadora de 20 ..."
      ]
     },
     "execution_count": 108,
     "metadata": {},
     "output_type": "execute_result"
    }
   ],
   "source": [
    "df_text_test.head()"
   ]
  },
  {
   "cell_type": "code",
   "execution_count": 109,
   "metadata": {},
   "outputs": [
    {
     "data": {
      "text/plain": [
       "300"
      ]
     },
     "execution_count": 109,
     "metadata": {},
     "output_type": "execute_result"
    }
   ],
   "source": [
    "len(set(df_text_test['doc_id']))"
   ]
  },
  {
   "cell_type": "code",
   "execution_count": 110,
   "metadata": {},
   "outputs": [
    {
     "data": {
      "text/plain": [
       "'Anamnesis\\nMujer de 59 años, alérgica a penicilina y procaína. Fumadora activa (IPA: 43).\\nAntecedentes familiares: abuelo materno diagnosticado de carcinoma colon a los 70 años; madre diagnosticada de carcinoma de mama bilateral a los 50 años; padre fallecido de carcinoma gástrico a los 47 años; tres tías maternas diagnosticadas de carcinoma de mama a los 55, 56 y 57 años respectivamente; y tres primas afectas de cáncer de mama.\\nAntecedentes personales: bronquitis crónica, poliposis colónica, carcinoma ductal infiltrante clásico mama pT2pN0M0 G2 subtipo tumoral luminal a (RH: +, HER-2: negativo) intervenido en agosto de 2013 mediante tumorectomía mama izquierda (patrón round block) + biopsia selectiva ganglio centinela (negativo) y posterior QT adyuvante con esquema TC (paclitaxel-ciclofosfamida) x 4 ciclos.\\nAcude en noviembre de 2013 a visita de seguimiento tras finalizar tratamiento adyuvante. Asintomática.\\n\\nExploración física\\nTemperatura axilar 36,5ºC, tensión arterial 130/83 mm Hg, frecuencia cardiaca 90 lpm y saturación basal de oxígeno del 98 %.\\nConsciente, orientada en las tres esferas, eupneica en reposo. Buen estado general. Glasgow 15. Exploración mamaria: no se aprecian signos de inflamación, ulceración y/o asimetrías. No hay secreción ni retracción de pezón. No se palpan nódulos, masas ni adenopatías regionales. AC: tonos rítmicos, sin soplos. AP: hipoventilación en hemitórax izquierdo. Abdomen: anodino. Sin edemas ni signos de TVP en EEII.\\n\\nPruebas complementarias\\nTC con contraste: nódulos pulmonares de 10 mm en lóbulo superior derecho (LSD), que presenta amplio contacto con pleura y discreta especulación marginal (apariencia atípica para corresponder a enfermedad secundaria) y dos en lóbulo medio (LM) de bordes bien definidos, el mayor de 16 mm.\\nAnalítica general: bioquímica y hemograma sin alteraciones relevantes. Marcadores tumorales: Ca 15,3: 23,3 U/ml (0-30). CEA: 18,27 ng/ml (0-4,6).\\n\\nDiagnóstico\\n- Nódulos pulmonares a estudio.\\n- Carcinoma ductal infiltrante pT2pN0M0 luminal A.\\n\\nTratamiento\\nNo precisa tratamiento específico en este momento.\\n\\nEvolución\\nSe solicita PET/TC que confirma la existencia de nódulo de 1,3 mm en LSD con SUVmax 6,6 y nódulo de 10 mm en LM con SUVmax de 3; sin otros hallazgos.\\nTC craneoencefálica con contraste: no se evidencian imágenes que sugieran existencia de enfermedad secundaria a nivel encefálico. Espacios subaracnoideos de convexidad y sistema ventricular dentro de límites de normalidad.\\nTras presentar el caso en Comité de Tumores Tórax, se plantea intervención quirúrgica. El día 26/2/2014 se realiza resección atípica de ambos nódulos pulmonares (16 mm LSD y 12 mm LM), con resultado anatomopatológico de adenocarcinoma acinar focalmente mucosecretor de origen pulmonar G2 (perfil inmunohistoquímico, IHQ: TTF1:+). Determinación: mutación EGFR (RT-PCR Cobas®): negativa. Translocación ALK (IHQ Novocastra®): negativa.\\nTras la cirugía se solicita PET/TC que detecta hipercaptación en adenopatías 4R, 7, 10R con SUVmax hasta 4. Tras presentar el caso en comité multidisciplinar, se decide solicitar TC que no muestra hallazgos destacables y ecobroncoscopia (EBUS). Se procede a realizar punción-biopsia de adenopatías 4R y 7 resultando negativas para malignidad con hallazgos inflamatorios.\\nContinúa el seguimiento estrecho y en abril/2015 se detecta en TC nódulo pulmonar de 0,6 cm en LSD y aumento de CEA (8). En PET/TC se aprecia micronódulo LSD de 0,5 cm con SUVmax de 1,6 sospechoso de malignidad, sin más datos de enfermedad regional y/o a distancia. Se solicitan además pruebas funcionales respiratorias y broncoscopia, anodina.\\nAnte sospecha de recidiva local, se presenta nuevamente en Comité de Tumores Tórax y se plantea cirugía. Se interviene bajo anestesia general, el 25-6-2015 realizándose resección sublobar atípica en cuña de LSD, localizando nódulo en segmento posterior de LSD. El resultado anatomopatológico confirma adenocarcinoma moderadamente diferenciado de origen pulmonar pT1aN0M0 (perfil IHQ: TTF1:+, RH: -; Ki 67: 75 %). Posteriormente recibe QT adyuvante esquema cisplatino 75 mg/m2 IV d1 + VNR oral 60 mg/m2 d1y8 c/21d, x 4 ciclos con buena tolerancia y respuesta completa radiológica.\\nControles periódicos posteriores sin evidencia de enfermedad hasta que en mayo/2017 aparece en TC progresión de enfermedad con aparición de masa pulmonar izquierda, nódulos pulmonares metastásicos bilaterales, afectación metastásica ganglionar mediastínica e hiliar izquierda con diseminación ósea. Múltiples adenopatías y conglomerados mediastínicos, lesión blástica en cuerpo vertebral T5.\\nDurante la exploración física, destacaba palpación de conglomerado adenopático en región supraclavicular izquierda doloroso en la palpación.\\nSe solicitó determinación de perfil genómico con material de la biopsia de pieza quirúrgica tumoral previa a través de la plataforma Next Generation Sequencing (NGS) FoundationOne® en el que se identificaron amplificación ERBB2, mutación BRCA-1 (variante D1692fs*10), amplificación MYC, mutación TP53 (splicesite 920-1G>T), además de una alta carga mutacional (TMB-High; 42Muts/Mb).\\nSe solicitó adicionalmente determinación por inmunohistoquímica de PD-L1, encontrando expresión del mismo en menos del 1 % (sin expresión).\\nSe confirma en gammagrafía ósea presencia de múltiples metástasis óseas distribuidas en calota, parrilla costal, raquis, esternón, ambos húmeros, pelvis y fémur derecho.\\nCon todos los hallazgos clínico-radiológicos y perfil genómico e IHQ tumoral, valorando las diferentes opciones terapéuticas, se decide iniciar primera línea de QT paliativa con esquema carboplatino AUC-5+ pemetrexed 500 mg/m2 IV d1 c/21d + ácido zoledrónico 4 mg IV.\\nEn la actualidad, ha completado 2 ciclos con buena tolerancia y se ha solicitado radioterapia paliativa antiálgica sobre lesiones óseas pélvicas, debido al mal control del dolor a pesar de analgesia de tercer escalón.'"
      ]
     },
     "execution_count": 110,
     "metadata": {},
     "output_type": "execute_result"
    }
   ],
   "source": [
    "df_text_test.raw_text[0]"
   ]
  },
  {
   "cell_type": "code",
   "execution_count": 111,
   "metadata": {},
   "outputs": [],
   "source": [
    "test_doc_list = sorted(set(df_text_test[\"doc_id\"]))"
   ]
  },
  {
   "cell_type": "code",
   "execution_count": 112,
   "metadata": {},
   "outputs": [
    {
     "data": {
      "text/plain": [
       "300"
      ]
     },
     "execution_count": 112,
     "metadata": {},
     "output_type": "execute_result"
    }
   ],
   "source": [
    "len(test_doc_list)"
   ]
  },
  {
   "cell_type": "code",
   "execution_count": 113,
   "metadata": {},
   "outputs": [],
   "source": [
    "# Sentence-Split data"
   ]
  },
  {
   "cell_type": "code",
   "execution_count": 113,
   "metadata": {},
   "outputs": [
    {
     "name": "stdout",
     "output_type": "stream",
     "text": [
      "CPU times: user 139 ms, sys: 22.1 ms, total: 161 ms\n",
      "Wall time: 161 ms\n"
     ]
    }
   ],
   "source": [
    "%%time\n",
    "ss_sub_corpus_path = ss_corpus_path + \"test-background/\"\n",
    "ss_files = [f for f in os.listdir(ss_sub_corpus_path) if os.path.isfile(ss_sub_corpus_path + f)]\n",
    "ss_dict_test = load_ss_files(ss_files, ss_sub_corpus_path)"
   ]
  },
  {
   "cell_type": "code",
   "execution_count": 114,
   "metadata": {},
   "outputs": [
    {
     "name": "stderr",
     "output_type": "stream",
     "text": [
      "100%|██████████| 300/300 [00:27<00:00, 11.01it/s]"
     ]
    },
    {
     "name": "stdout",
     "output_type": "stream",
     "text": [
      "CPU times: user 27.5 s, sys: 0 ns, total: 27.5 s\n",
      "Wall time: 27.4 s\n"
     ]
    },
    {
     "name": "stderr",
     "output_type": "stream",
     "text": [
      "\n"
     ]
    }
   ],
   "source": [
    "%%time\n",
    "test_ind, test_att, test_type, _, test_frag, test_start_end_frag, test_word_id = ss_create_input_data_ner(df_text=df_text_test, \n",
    "                                                  text_col=text_col, \n",
    "                                                  # Since labels are ignored, we pass df_codes_train_ner as df_ann\n",
    "                                                  df_ann=df_codes_train_ner_final, doc_list=test_doc_list, ss_dict=ss_dict_test,\n",
    "                                                  tokenizer=tokenizer, lab_encoder=lab_encoder, seq_len=SEQ_LEN, \n",
    "                                                  ign_value=IGNORE_VALUE, strategy=ANN_STRATEGY, greedy=GREEDY)"
   ]
  },
  {
   "cell_type": "code",
   "execution_count": 116,
   "metadata": {},
   "outputs": [],
   "source": [
    "# Sanity check"
   ]
  },
  {
   "cell_type": "code",
   "execution_count": 115,
   "metadata": {},
   "outputs": [
    {
     "data": {
      "text/plain": [
       "(3853, 128)"
      ]
     },
     "execution_count": 115,
     "metadata": {},
     "output_type": "execute_result"
    }
   ],
   "source": [
    "test_ind.shape"
   ]
  },
  {
   "cell_type": "code",
   "execution_count": 116,
   "metadata": {},
   "outputs": [
    {
     "data": {
      "text/plain": [
       "(3853, 128)"
      ]
     },
     "execution_count": 116,
     "metadata": {},
     "output_type": "execute_result"
    }
   ],
   "source": [
    "test_att.shape"
   ]
  },
  {
   "cell_type": "code",
   "execution_count": 117,
   "metadata": {},
   "outputs": [
    {
     "data": {
      "text/plain": [
       "(3853, 128)"
      ]
     },
     "execution_count": 117,
     "metadata": {},
     "output_type": "execute_result"
    }
   ],
   "source": [
    "test_type.shape"
   ]
  },
  {
   "cell_type": "code",
   "execution_count": 118,
   "metadata": {},
   "outputs": [
    {
     "data": {
      "text/plain": [
       "300"
      ]
     },
     "execution_count": 118,
     "metadata": {},
     "output_type": "execute_result"
    }
   ],
   "source": [
    "len(test_frag)"
   ]
  },
  {
   "cell_type": "code",
   "execution_count": 119,
   "metadata": {},
   "outputs": [
    {
     "data": {
      "text/plain": [
       "3853"
      ]
     },
     "execution_count": 119,
     "metadata": {},
     "output_type": "execute_result"
    }
   ],
   "source": [
    "len(test_start_end_frag)"
   ]
  },
  {
   "cell_type": "code",
   "execution_count": 120,
   "metadata": {},
   "outputs": [
    {
     "data": {
      "text/plain": [
       "3853"
      ]
     },
     "execution_count": 120,
     "metadata": {},
     "output_type": "execute_result"
    }
   ],
   "source": [
    "len(test_word_id)"
   ]
  },
  {
   "cell_type": "code",
   "execution_count": 121,
   "metadata": {},
   "outputs": [
    {
     "name": "stdout",
     "output_type": "stream",
     "text": [
      "CPU times: user 11.7 s, sys: 1.81 s, total: 13.5 s\n",
      "Wall time: 18.9 s\n"
     ]
    }
   ],
   "source": [
    "%%time\n",
    "test_preds = tf.nn.softmax(logits=model.predict({'input_ids': test_ind}), \n",
    "                           axis=-1).numpy()"
   ]
  },
  {
   "cell_type": "code",
   "execution_count": 122,
   "metadata": {},
   "outputs": [
    {
     "data": {
      "text/plain": [
       "(3853, 128, 3)"
      ]
     },
     "execution_count": 122,
     "metadata": {},
     "output_type": "execute_result"
    }
   ],
   "source": [
    "test_preds.shape"
   ]
  },
  {
   "cell_type": "code",
   "execution_count": 131,
   "metadata": {},
   "outputs": [],
   "source": [
    "out_test_path = \"test_preds/\""
   ]
  },
  {
   "cell_type": "code",
   "execution_count": 132,
   "metadata": {},
   "outputs": [
    {
     "name": "stderr",
     "output_type": "stream",
     "text": [
      "100%|██████████| 300/300 [00:01<00:00, 244.00it/s]\n",
      "100%|██████████| 300/300 [00:01<00:00, 257.71it/s]\n"
     ]
    }
   ],
   "source": [
    "write_ner_ann(df_pred_ann=ner_preds_brat_format(doc_list=test_doc_list, fragments=test_frag, preds=test_preds, \n",
    "                                    start_end=test_start_end_frag, word_id=test_word_id, lb_encoder=lab_encoder, \n",
    "                                    df_text=df_text_test, text_col=text_col, strategy=EVAL_STRATEGY), \n",
    "              out_path=out_test_path)"
   ]
  },
  {
   "cell_type": "code",
   "execution_count": null,
   "metadata": {},
   "outputs": [],
   "source": [
    "%%time\n",
    "!python ../resources/cantemist-evaluation-library/src/main.py -g ../datasets/cantemist_v6/test-set/cantemist-ner/ -p ./test_preds/ -s ner "
   ]
  },
  {
   "cell_type": "code",
   "execution_count": null,
   "metadata": {},
   "outputs": [],
   "source": [
    "# Save predictions on the test set"
   ]
  },
  {
   "cell_type": "code",
   "execution_count": 126,
   "metadata": {},
   "outputs": [],
   "source": [
    "model_name = \"mbert_\" + str(random_seed)"
   ]
  },
  {
   "cell_type": "code",
   "execution_count": 127,
   "metadata": {},
   "outputs": [],
   "source": [
    "np.save(file=\"test_preds_\" + model_name + \".npy\", arr=test_preds)"
   ]
  },
  {
   "cell_type": "code",
   "execution_count": 134,
   "metadata": {},
   "outputs": [
    {
     "name": "stderr",
     "output_type": "stream",
     "text": [
      "100%|██████████| 300/300 [00:01<00:00, 245.01it/s]\n"
     ]
    }
   ],
   "source": [
    "doc_word_preds, doc_word_start_end = seq_ner_preds_brat_format(doc_list=test_doc_list, fragments=test_frag, \n",
    "                           arr_start_end=test_start_end_frag, arr_word_id=test_word_id, arr_preds=test_preds, \n",
    "                           strategy=EVAL_STRATEGY)"
   ]
  },
  {
   "cell_type": "code",
   "execution_count": 135,
   "metadata": {},
   "outputs": [],
   "source": [
    "import pickle\n",
    "\n",
    "with open(\"test_doc_word_preds_\" + model_name + \".pck\", \"wb\") as f:\n",
    "    pickle.dump(doc_word_preds, f)\n",
    "\n",
    "with open(\"test_doc_word_start_end_\" + model_name + \".pck\", \"wb\") as f:\n",
    "    pickle.dump(doc_word_start_end, f)"
   ]
  }
 ],
 "metadata": {
  "kernelspec": {
   "display_name": "Python 3",
   "language": "python",
   "name": "python3"
  },
  "language_info": {
   "codemirror_mode": {
    "name": "ipython",
    "version": 3
   },
   "file_extension": ".py",
   "mimetype": "text/x-python",
   "name": "python",
   "nbconvert_exporter": "python",
   "pygments_lexer": "ipython3",
   "version": "3.7.10"
  }
 },
 "nbformat": 4,
 "nbformat_minor": 4
}
