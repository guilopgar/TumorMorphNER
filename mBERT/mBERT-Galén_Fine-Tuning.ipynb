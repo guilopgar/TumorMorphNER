{
 "cells": [
  {
   "cell_type": "markdown",
   "metadata": {},
   "source": [
    "# Fine-tuning mBERT-Galén on Cantemist-NER\n",
    "\n",
    "In this notebook, following a multi-class token classification approach, the mBERT-Galén model is fine-tuned on both the training and development sets of the Cantemit-NER corpus. Additionally, the predictions made by the model on the test set are saved, in order to futher evaluate the NER performance of the model (see `results/Evaluation.ipynb`)."
   ]
  },
  {
   "cell_type": "code",
   "execution_count": 1,
   "metadata": {},
   "outputs": [],
   "source": [
    "import tensorflow as tf\n",
    "\n",
    "# Auxiliary components\n",
    "from nlp_utils import *\n",
    "\n",
    "from transformers import BertTokenizerFast\n",
    "model_name = \"mBERT-Galen/\"\n",
    "tokenizer = BertTokenizerFast.from_pretrained(model_name, do_lower_case=False)\n",
    "\n",
    "# Hyper-parameters\n",
    "text_col = \"raw_text\"\n",
    "SEQ_LEN = 128\n",
    "BATCH_SIZE = 16\n",
    "EPOCHS = 88\n",
    "LR = 3e-5\n",
    "\n",
    "GREEDY = True\n",
    "IGNORE_VALUE = -100\n",
    "ANN_STRATEGY = \"word-all\"\n",
    "EVAL_STRATEGY = \"word-max\"\n",
    "LOGITS = True\n",
    "\n",
    "random_seed = 0\n",
    "tf.random.set_seed(random_seed)"
   ]
  },
  {
   "cell_type": "markdown",
   "metadata": {},
   "source": [
    "## Load text\n",
    "\n",
    "Firstly, all text files from training and development Cantemist corpora are loaded in different dataframes.\n",
    "\n",
    "Also, NER-annotations are loaded."
   ]
  },
  {
   "cell_type": "code",
   "execution_count": 2,
   "metadata": {},
   "outputs": [],
   "source": [
    "corpus_path = \"../datasets/cantemist_v6/\"\n",
    "sub_task_path = \"cantemist-ner/\""
   ]
  },
  {
   "cell_type": "markdown",
   "metadata": {},
   "source": [
    "### Training corpus"
   ]
  },
  {
   "cell_type": "code",
   "execution_count": 3,
   "metadata": {},
   "outputs": [
    {
     "name": "stdout",
     "output_type": "stream",
     "text": [
      "CPU times: user 16 ms, sys: 2.66 ms, total: 18.6 ms\n",
      "Wall time: 18.3 ms\n"
     ]
    }
   ],
   "source": [
    "%%time\n",
    "train_path = corpus_path + \"train-set/\" + sub_task_path\n",
    "train_files = [f for f in os.listdir(train_path) if os.path.isfile(train_path + f) and f.split('.')[-1] == \"txt\"]\n",
    "n_train_files = len(train_files)\n",
    "train_data = load_text_files(train_files, train_path)\n",
    "dev1_path = corpus_path + \"dev-set1/\" + sub_task_path\n",
    "train_files.extend([f for f in os.listdir(dev1_path) if os.path.isfile(dev1_path + f) and f.split('.')[-1] == \"txt\"])\n",
    "train_data.extend(load_text_files(train_files[n_train_files:], dev1_path))\n",
    "df_text_train = pd.DataFrame({'doc_id': [s.split('.txt')[0] for s in train_files], 'raw_text': train_data})"
   ]
  },
  {
   "cell_type": "code",
   "execution_count": 4,
   "metadata": {},
   "outputs": [
    {
     "data": {
      "text/plain": [
       "(751, 2)"
      ]
     },
     "execution_count": 4,
     "metadata": {},
     "output_type": "execute_result"
    }
   ],
   "source": [
    "df_text_train.shape"
   ]
  },
  {
   "cell_type": "code",
   "execution_count": 5,
   "metadata": {},
   "outputs": [
    {
     "data": {
      "text/html": [
       "<div>\n",
       "<style scoped>\n",
       "    .dataframe tbody tr th:only-of-type {\n",
       "        vertical-align: middle;\n",
       "    }\n",
       "\n",
       "    .dataframe tbody tr th {\n",
       "        vertical-align: top;\n",
       "    }\n",
       "\n",
       "    .dataframe thead th {\n",
       "        text-align: right;\n",
       "    }\n",
       "</style>\n",
       "<table border=\"1\" class=\"dataframe\">\n",
       "  <thead>\n",
       "    <tr style=\"text-align: right;\">\n",
       "      <th></th>\n",
       "      <th>doc_id</th>\n",
       "      <th>raw_text</th>\n",
       "    </tr>\n",
       "  </thead>\n",
       "  <tbody>\n",
       "    <tr>\n",
       "      <th>0</th>\n",
       "      <td>cc_onco453</td>\n",
       "      <td>Anamnesis\\nSe trata de un varón de 55 años, ex...</td>\n",
       "    </tr>\n",
       "    <tr>\n",
       "      <th>1</th>\n",
       "      <td>cc_onco962</td>\n",
       "      <td>Anamnesis\\nMujer de 40 años que consulta por l...</td>\n",
       "    </tr>\n",
       "    <tr>\n",
       "      <th>2</th>\n",
       "      <td>cc_onco989</td>\n",
       "      <td>Anamnesis\\nPaciente de 43 años, perimenopáusic...</td>\n",
       "    </tr>\n",
       "    <tr>\n",
       "      <th>3</th>\n",
       "      <td>cc_onco187</td>\n",
       "      <td>Anamnesis\\nVarón de 72 años, exfumador y bebed...</td>\n",
       "    </tr>\n",
       "    <tr>\n",
       "      <th>4</th>\n",
       "      <td>cc_onco164</td>\n",
       "      <td>Anamnesis\\nMujer de 51 años, sin alergias medi...</td>\n",
       "    </tr>\n",
       "  </tbody>\n",
       "</table>\n",
       "</div>"
      ],
      "text/plain": [
       "       doc_id                                           raw_text\n",
       "0  cc_onco453  Anamnesis\\nSe trata de un varón de 55 años, ex...\n",
       "1  cc_onco962  Anamnesis\\nMujer de 40 años que consulta por l...\n",
       "2  cc_onco989  Anamnesis\\nPaciente de 43 años, perimenopáusic...\n",
       "3  cc_onco187  Anamnesis\\nVarón de 72 años, exfumador y bebed...\n",
       "4  cc_onco164  Anamnesis\\nMujer de 51 años, sin alergias medi..."
      ]
     },
     "execution_count": 5,
     "metadata": {},
     "output_type": "execute_result"
    }
   ],
   "source": [
    "df_text_train.head()"
   ]
  },
  {
   "cell_type": "code",
   "execution_count": 6,
   "metadata": {},
   "outputs": [
    {
     "data": {
      "text/plain": [
       "751"
      ]
     },
     "execution_count": 6,
     "metadata": {},
     "output_type": "execute_result"
    }
   ],
   "source": [
    "len(set(df_text_train['doc_id']))"
   ]
  },
  {
   "cell_type": "code",
   "execution_count": 7,
   "metadata": {},
   "outputs": [
    {
     "data": {
      "text/plain": [
       "'Anamnesis\\nSe trata de un varón de 55 años, ex fumador con un índice tabáquico de 40 paquetes-año, HTA, sin antecedentes familiares de interés, en tratamiento con ácido fólico, omeprazol, hierro oral y risperidona.\\nEn junio de 2017, es diagnosticado a raíz de una trombosis iliaca derecha de una masa tumoral pobremente diferenciada que infiltraba tercio distal de apéndice cecal, con obliteración del paquete vascular iliaco, así como infiltración del uréter derecho, condicionando ureterohidronefrosis derecha grado cuatro.\\nSe realiza biopsia de la lesión, con hallazgos anatomopatológicos de neoplasia fusocelular con inmunohistoquímica (IHC) sugerente de origen urotelial con diferenciación sarcomatoide (positividad para p63, p40, GATA3, CD99, EMA CAM 5.2, CK 34, beta E12, CK7, negatividad para CK20, S100, CD34, cKIT y TTF1), con SYT no reordenado.\\nSe lleva a cabo intervención en julio de 2017 con extirpación de la masa tumoral, resección ileocecal, dejando ileostomía terminal y bypass extraanatómico femorofemoral.\\nEn octubre de 2017, se observa en TC toracoabdominopélvica una lesión hepática de nueva aparición que sugiere de metástasis.\\nCon juicio clínico de carcinoma urotelial de alto grado con diferenciación sarcomatoide estadio IV (pT4N2M1) por afectación hepática, se decide iniciar tratamiento sistémico de primera línea en febrero de 2018 dentro de ensayo clínico con antiPD1 y antiCTLA4 hasta julio de 2018, presentando buena tolerancia al tratamiento, pero con progresión de la enfermedad a nivel hepático.\\nInicia entonces segunda línea de tratamiento con carboplatino AUC5 día 1 y gemcitabina 1.000 mg/m2 días 1 y 8 cada 21 días, el 20 de agosto de 2018.\\nEn octubre de 2018, tras cinco ciclos de quimioterapia y una dosis acumulada de gemcitabina de 10.000 mg/m2, el paciente refiere aparición de lesiones ulceradas y dolorosas en regiones acras de dedos de manos.\\nCon sospecha de isquemia digital aguda, es derivado a Urgencias para valoración por Cirugía Vascular.\\n\\nExploración física\\nDurante la exploración física no presenta esclerodactilia, telangiectasias ni otras lesiones sugerentes de conectivopatías. Los pulsos radiales presentes y cubitales ausentes, con relleno capilar sin alteraciones.\\n\\nPruebas complementarias\\nEn analítica destacaba anemia normocítica normocroma grado 1 con Hb 10,2 g/dl (rango 13-15,5), sin otros hallazgos relevantes.\\nSe realiza estudio de autoanticuerpos (ENAS negativos, ANA positivo [1/80], anticuerpo (Ac) anti-P cíclico citrulinado negativo, Ac beta2-glicoproteina IgM e IgG negativos, cardiolipina IgG e IgM negativos, C-ANCAS y P-ANCAS negativos, VSG 137mm [rango 1,00-15] y crioglobulinas débilmente positivas) y estudio serológico con hallazgos de infección pasada de VHE y resto de virus hepatotropos negativos.\\nSe lleva a cabo eco-Doppler de miembros superiores en la que destaca alteración de flujo en arteria cubital derecha, y ecocardiograma transtorácico sin signos de endocarditis infecciosa.\\nEn la capilaroscopia como única alteración, destaca la presencia en segundo dedo de mano izquierda una hemorragia aislada, con distribución y densidad capilar conservada.\\n\\nDiagnóstico\\nCon estas pruebas, el paciente es diagnosticado de isquemia digital con datos de afectación macrovascular en relación al tratamiento de gemcitabina.\\n\\nTratamiento\\nEl paciente inicia tratamiento con prostaglandinas (PG) y anticoagulación con heparina de bajo peso molecular a dosis de 1 mg/kg cada 12 horas, experimentando mejoría progresiva de los síntomas y de las lesiones.\\n\\nEvolución\\nSe decide discontinuar tratamiento de quimioterapia, presentando respuesta parcial de la enfermedad tumoral con disminución de la masa pélvica, adenopatías retroperitoneales y de las metástasis hepáticas en TC de enero de 2019.'"
      ]
     },
     "execution_count": 7,
     "metadata": {},
     "output_type": "execute_result"
    }
   ],
   "source": [
    "df_text_train.raw_text[0]"
   ]
  },
  {
   "cell_type": "markdown",
   "metadata": {},
   "source": [
    "### Development corpus"
   ]
  },
  {
   "cell_type": "code",
   "execution_count": 8,
   "metadata": {},
   "outputs": [
    {
     "name": "stdout",
     "output_type": "stream",
     "text": [
      "CPU times: user 7.09 ms, sys: 0 ns, total: 7.09 ms\n",
      "Wall time: 6.6 ms\n"
     ]
    }
   ],
   "source": [
    "%%time\n",
    "dev_path = corpus_path + \"dev-set2/\" + sub_task_path\n",
    "dev_files = [f for f in os.listdir(dev_path) if os.path.isfile(dev_path + f) and f.split('.')[-1] == \"txt\"]\n",
    "dev_data = load_text_files(dev_files, dev_path)\n",
    "df_text_dev = pd.DataFrame({'doc_id': [s.split('.txt')[0] for s in dev_files], 'raw_text': dev_data})"
   ]
  },
  {
   "cell_type": "code",
   "execution_count": 9,
   "metadata": {},
   "outputs": [
    {
     "data": {
      "text/plain": [
       "(250, 2)"
      ]
     },
     "execution_count": 9,
     "metadata": {},
     "output_type": "execute_result"
    }
   ],
   "source": [
    "df_text_dev.shape"
   ]
  },
  {
   "cell_type": "code",
   "execution_count": 10,
   "metadata": {},
   "outputs": [
    {
     "data": {
      "text/html": [
       "<div>\n",
       "<style scoped>\n",
       "    .dataframe tbody tr th:only-of-type {\n",
       "        vertical-align: middle;\n",
       "    }\n",
       "\n",
       "    .dataframe tbody tr th {\n",
       "        vertical-align: top;\n",
       "    }\n",
       "\n",
       "    .dataframe thead th {\n",
       "        text-align: right;\n",
       "    }\n",
       "</style>\n",
       "<table border=\"1\" class=\"dataframe\">\n",
       "  <thead>\n",
       "    <tr style=\"text-align: right;\">\n",
       "      <th></th>\n",
       "      <th>doc_id</th>\n",
       "      <th>raw_text</th>\n",
       "    </tr>\n",
       "  </thead>\n",
       "  <tbody>\n",
       "    <tr>\n",
       "      <th>0</th>\n",
       "      <td>cc_onco1183</td>\n",
       "      <td>Anamnesis\\nVarón de 48 años que acude en agost...</td>\n",
       "    </tr>\n",
       "    <tr>\n",
       "      <th>1</th>\n",
       "      <td>cc_onco751</td>\n",
       "      <td>Anamnesis\\nHombre de 71 años de edad con antec...</td>\n",
       "    </tr>\n",
       "    <tr>\n",
       "      <th>2</th>\n",
       "      <td>cc_onco1384</td>\n",
       "      <td>Anamnesis\\nVarón de 30 años, sin antecedentes ...</td>\n",
       "    </tr>\n",
       "    <tr>\n",
       "      <th>3</th>\n",
       "      <td>cc_onco1208</td>\n",
       "      <td>Anamnesis\\nVarón de 76 años diagnosticado en a...</td>\n",
       "    </tr>\n",
       "    <tr>\n",
       "      <th>4</th>\n",
       "      <td>cc_onco734</td>\n",
       "      <td>Anamnesis\\nTras canalización del reservorio ce...</td>\n",
       "    </tr>\n",
       "  </tbody>\n",
       "</table>\n",
       "</div>"
      ],
      "text/plain": [
       "        doc_id                                           raw_text\n",
       "0  cc_onco1183  Anamnesis\\nVarón de 48 años que acude en agost...\n",
       "1   cc_onco751  Anamnesis\\nHombre de 71 años de edad con antec...\n",
       "2  cc_onco1384  Anamnesis\\nVarón de 30 años, sin antecedentes ...\n",
       "3  cc_onco1208  Anamnesis\\nVarón de 76 años diagnosticado en a...\n",
       "4   cc_onco734  Anamnesis\\nTras canalización del reservorio ce..."
      ]
     },
     "execution_count": 10,
     "metadata": {},
     "output_type": "execute_result"
    }
   ],
   "source": [
    "df_text_dev.head()"
   ]
  },
  {
   "cell_type": "code",
   "execution_count": 11,
   "metadata": {},
   "outputs": [
    {
     "data": {
      "text/plain": [
       "250"
      ]
     },
     "execution_count": 11,
     "metadata": {},
     "output_type": "execute_result"
    }
   ],
   "source": [
    "len(set(df_text_dev['doc_id']))"
   ]
  },
  {
   "cell_type": "code",
   "execution_count": 12,
   "metadata": {},
   "outputs": [
    {
     "data": {
      "text/plain": [
       "'Anamnesis\\nVarón de 48 años que acude en agosto de 2012 tras la realización de amputación en hallux derecho a la primera valoración por Oncología Médica.\\nAntecedentes: no alérgicos. Patológicos: diabético hace 3 años sin tratamiento. HTA en tratamiento. Enolismo crónico.\\nTrastorno afectivo bipolar. Quirúrgicos: apendicectomizado.\\nEnfermedad actual: desde hace 2 años presentaba una lesión hiperpigmentada en el hallux del pie derecho, que ocasionalmente sangraba.\\n\\nExamen físico\\nMuñón de hallux derecho en buen estado, presencia de adenopatías inguinales derechas. Resto de exploración sin alteraciones.\\n\\nPruebas complementarias\\n- Biopsia cutánea: melanoma ulcerado.\\n- AP de resección de melanoma: melanoma lentiginoso acral en fase de crecimiento vertical, ulcerado. Clark IV. Breslow 6,8 mm, sin infiltración linfovascular.\\n- TC de tórax-abdomen-pelvis: sin signos concluyentes de extensión tóraco-abdómino-pélvica de melanoma.\\nMicronódulos en el lóbulo superior derecho a valorar en controles sucesivos.\\n- Se realiza linfadenectomía inguinal electiva en octubre de 2012.\\n- AP: metástasis de melanoma en 4 de los 13 ganglios aislados.\\n\\nDiagnóstico\\nMelanoma lentiginoso acral en fase de crecimiento vertical ulcerado Clarck IV Breslow6,8 mm pT4b N2a M0 estadio IIIB.\\n\\nTratamiento\\nEn enero de 2013 inicia tratamiento adyuvante con interferón a altas dosis según el esquema Kirkwood, este se basa en el estudio ECOG 1684: interferón alfa-2b 20 millones de unidades i.v. x 20 días, seguido de 10 millones de unidades s.c. 3 veces a la semana durante 48 semanas. El paciente tuvo buena tolerancia a la fase de inducción y a la fase de mantenimiento.\\nEn agosto de 2013 se detecta un nódulo subcutáneo de 1,5 cm en la zona de la cicatriz del hallux derecho y también una lesión en la cara interna de la pierna derecha de 0,5 cm. Se considera recidiva intratratamiento, por lo que se interviene, realizándose exéresis local y ampliación de márgenes.\\nAP: melanoma de 2,4 x 0,7 x 0,8 cm con afectación del margen de resección.\\nSe decide enviar a Oncología Radioterápica por margen afecto.\\n\\nEvolución\\nDe septiembre a octubre de 2013 recibe tratamiento radioterápico \"adyuvante\": PTV en la lesión guiada por cicatriz en el pie derecho más 3 cm de margen, fraccionamiento 2,5 Gy en 24 fracciones hasta adminsitrar una dosis total de 60 Gy.\\nEn noviembre de 2013 presenta progresión cutánea con 4 lesiones hipercrómicas localizadas en el muslo derecho. No hay datos de afectación tóraco-abdominal a distancia.\\nEntre tanto, se realiza determinación del estado mutacional de B-RAF, el cual es nativo.\\nA la progresión cutánea se propone tratamiento con DTIC (1.000 mg/m2 cada 21 días), administrando un primer ciclo en diciembre de 2013. En enero de 2014 acude a consulta con un cuadro de ictericia mucocutánea y coluria. Se detecta bilirrubina total de 7,7 mg/dl, bilirrubina directa de 5,9 mg/dl. ALT 2.022 UI/l, AST 840 UI/l. Se realizan una ecografía hepatobiliar, con resultado normal, y serología de virus de hepatitis, con resultado de perfil de hepatitis B aguda. Se remite al Servicio de Aparato Digestivo, quienes realizan tratamiento conservador, observándose en semanas posteriores un descenso marcado en los valores de bilirrubina, ALT y AST hasta la completa normalidad.\\nEntre tanto, presenta crecimiento de numerosas lesiones subcutáneas distribuidas en la cara anterior e interna del muslo derecho sin datos de afectación a distancia en la TC. Se considera metástasis en tránsito de melanoma, por lo que en marzo de 2014 inicia la administración de interleucina-2 intralesional. Se aplica 1 ml en cada una de las lesiones subcutáneas, cubriendo un total de 20 lesiones por cada ciclo administrado cada 14 días, sin presentar efectos secundarios sistémicos, salvo dolor EVA 3 en los puntos de instilación, que mejoraba con el paracetamol. Con este tratamiento completa 5 ciclos hasta el mayo de 2014, presentando desaparición de la mayoría de las lesiones, persistiendo algunas de localización central.\\nEl 30 de mayo de 2014 acude con una TC de reevaluación, objetivándose progresión inguinal izquierda y una adenopatía en la cadena iliaca externa derecha de 3,3 x 2,3 cm compatible con progresión. Se ha propuesto una nueva línea de tratamiento con ipilimumab, pendiente de iniciar.'"
      ]
     },
     "execution_count": 12,
     "metadata": {},
     "output_type": "execute_result"
    }
   ],
   "source": [
    "df_text_dev.raw_text[0]"
   ]
  },
  {
   "cell_type": "markdown",
   "metadata": {},
   "source": [
    "## Process NER annotations\n",
    "\n",
    "We load and pre-process the NER annotations in BRAT format available for the Cantemist-NER subtask."
   ]
  },
  {
   "cell_type": "code",
   "execution_count": 13,
   "metadata": {},
   "outputs": [],
   "source": [
    "# Training corpus"
   ]
  },
  {
   "cell_type": "code",
   "execution_count": 14,
   "metadata": {},
   "outputs": [],
   "source": [
    "train_ann_files = [train_path + f for f in os.listdir(train_path) if f.split('.')[-1] == \"ann\"]\n",
    "train_ann_files.extend([dev1_path + f for f in os.listdir(dev1_path) if f.split('.')[-1] == \"ann\"])"
   ]
  },
  {
   "cell_type": "code",
   "execution_count": 15,
   "metadata": {},
   "outputs": [
    {
     "data": {
      "text/plain": [
       "751"
      ]
     },
     "execution_count": 15,
     "metadata": {},
     "output_type": "execute_result"
    }
   ],
   "source": [
    "len(train_ann_files)"
   ]
  },
  {
   "cell_type": "code",
   "execution_count": 16,
   "metadata": {},
   "outputs": [],
   "source": [
    "df_codes_train_ner = process_brat_ner(train_ann_files).sort_values([\"doc_id\", \"start\", \"end\"])"
   ]
  },
  {
   "cell_type": "code",
   "execution_count": 17,
   "metadata": {},
   "outputs": [
    {
     "data": {
      "text/plain": [
       "(9737, 4)"
      ]
     },
     "execution_count": 17,
     "metadata": {},
     "output_type": "execute_result"
    }
   ],
   "source": [
    "df_codes_train_ner.shape"
   ]
  },
  {
   "cell_type": "code",
   "execution_count": 18,
   "metadata": {},
   "outputs": [
    {
     "data": {
      "text/html": [
       "<div>\n",
       "<style scoped>\n",
       "    .dataframe tbody tr th:only-of-type {\n",
       "        vertical-align: middle;\n",
       "    }\n",
       "\n",
       "    .dataframe tbody tr th {\n",
       "        vertical-align: top;\n",
       "    }\n",
       "\n",
       "    .dataframe thead th {\n",
       "        text-align: right;\n",
       "    }\n",
       "</style>\n",
       "<table border=\"1\" class=\"dataframe\">\n",
       "  <thead>\n",
       "    <tr style=\"text-align: right;\">\n",
       "      <th></th>\n",
       "      <th>doc_id</th>\n",
       "      <th>text_ref</th>\n",
       "      <th>start</th>\n",
       "      <th>end</th>\n",
       "    </tr>\n",
       "  </thead>\n",
       "  <tbody>\n",
       "    <tr>\n",
       "      <th>5230</th>\n",
       "      <td>cc_onco1</td>\n",
       "      <td>Carcinoma microcítico</td>\n",
       "      <td>2719</td>\n",
       "      <td>2740</td>\n",
       "    </tr>\n",
       "    <tr>\n",
       "      <th>5231</th>\n",
       "      <td>cc_onco1</td>\n",
       "      <td>carcinoma microcítico</td>\n",
       "      <td>2950</td>\n",
       "      <td>2971</td>\n",
       "    </tr>\n",
       "    <tr>\n",
       "      <th>5232</th>\n",
       "      <td>cc_onco1</td>\n",
       "      <td>M0</td>\n",
       "      <td>2988</td>\n",
       "      <td>2990</td>\n",
       "    </tr>\n",
       "    <tr>\n",
       "      <th>97</th>\n",
       "      <td>cc_onco10</td>\n",
       "      <td>tumor</td>\n",
       "      <td>212</td>\n",
       "      <td>217</td>\n",
       "    </tr>\n",
       "    <tr>\n",
       "      <th>95</th>\n",
       "      <td>cc_onco10</td>\n",
       "      <td>neoplasia</td>\n",
       "      <td>976</td>\n",
       "      <td>985</td>\n",
       "    </tr>\n",
       "  </tbody>\n",
       "</table>\n",
       "</div>"
      ],
      "text/plain": [
       "         doc_id               text_ref  start   end\n",
       "5230   cc_onco1  Carcinoma microcítico   2719  2740\n",
       "5231   cc_onco1  carcinoma microcítico   2950  2971\n",
       "5232   cc_onco1                     M0   2988  2990\n",
       "97    cc_onco10                  tumor    212   217\n",
       "95    cc_onco10              neoplasia    976   985"
      ]
     },
     "execution_count": 18,
     "metadata": {},
     "output_type": "execute_result"
    }
   ],
   "source": [
    "df_codes_train_ner.head()"
   ]
  },
  {
   "cell_type": "code",
   "execution_count": 19,
   "metadata": {},
   "outputs": [
    {
     "data": {
      "text/plain": [
       "750"
      ]
     },
     "execution_count": 19,
     "metadata": {},
     "output_type": "execute_result"
    }
   ],
   "source": [
    "len(set(df_codes_train_ner[\"doc_id\"]))"
   ]
  },
  {
   "cell_type": "code",
   "execution_count": 20,
   "metadata": {},
   "outputs": [],
   "source": [
    "assert ~df_codes_train_ner[[\"doc_id\", \"start\", \"end\"]].duplicated().any()"
   ]
  },
  {
   "cell_type": "code",
   "execution_count": 21,
   "metadata": {},
   "outputs": [],
   "source": [
    "# Development corpus"
   ]
  },
  {
   "cell_type": "code",
   "execution_count": 22,
   "metadata": {},
   "outputs": [],
   "source": [
    "dev_ann_files = [dev_path + f for f in os.listdir(dev_path) if f.split('.')[-1] == \"ann\"]"
   ]
  },
  {
   "cell_type": "code",
   "execution_count": 23,
   "metadata": {},
   "outputs": [
    {
     "data": {
      "text/plain": [
       "250"
      ]
     },
     "execution_count": 23,
     "metadata": {},
     "output_type": "execute_result"
    }
   ],
   "source": [
    "len(dev_ann_files)"
   ]
  },
  {
   "cell_type": "code",
   "execution_count": 24,
   "metadata": {},
   "outputs": [],
   "source": [
    "df_codes_dev_ner = process_brat_ner(dev_ann_files).sort_values([\"doc_id\", \"start\", \"end\"])"
   ]
  },
  {
   "cell_type": "code",
   "execution_count": 25,
   "metadata": {},
   "outputs": [
    {
     "data": {
      "text/plain": [
       "(2660, 4)"
      ]
     },
     "execution_count": 25,
     "metadata": {},
     "output_type": "execute_result"
    }
   ],
   "source": [
    "df_codes_dev_ner.shape"
   ]
  },
  {
   "cell_type": "code",
   "execution_count": 26,
   "metadata": {},
   "outputs": [
    {
     "data": {
      "text/html": [
       "<div>\n",
       "<style scoped>\n",
       "    .dataframe tbody tr th:only-of-type {\n",
       "        vertical-align: middle;\n",
       "    }\n",
       "\n",
       "    .dataframe tbody tr th {\n",
       "        vertical-align: top;\n",
       "    }\n",
       "\n",
       "    .dataframe thead th {\n",
       "        text-align: right;\n",
       "    }\n",
       "</style>\n",
       "<table border=\"1\" class=\"dataframe\">\n",
       "  <thead>\n",
       "    <tr style=\"text-align: right;\">\n",
       "      <th></th>\n",
       "      <th>doc_id</th>\n",
       "      <th>text_ref</th>\n",
       "      <th>start</th>\n",
       "      <th>end</th>\n",
       "    </tr>\n",
       "  </thead>\n",
       "  <tbody>\n",
       "    <tr>\n",
       "      <th>1852</th>\n",
       "      <td>cc_onco1001</td>\n",
       "      <td>carcinoma epidermoide</td>\n",
       "      <td>576</td>\n",
       "      <td>597</td>\n",
       "    </tr>\n",
       "    <tr>\n",
       "      <th>1854</th>\n",
       "      <td>cc_onco1001</td>\n",
       "      <td>neoplasia</td>\n",
       "      <td>790</td>\n",
       "      <td>799</td>\n",
       "    </tr>\n",
       "    <tr>\n",
       "      <th>1857</th>\n",
       "      <td>cc_onco1001</td>\n",
       "      <td>adenocarcinoma T4N3M1b</td>\n",
       "      <td>836</td>\n",
       "      <td>858</td>\n",
       "    </tr>\n",
       "    <tr>\n",
       "      <th>1853</th>\n",
       "      <td>cc_onco1001</td>\n",
       "      <td>enfermedad hepática</td>\n",
       "      <td>1205</td>\n",
       "      <td>1224</td>\n",
       "    </tr>\n",
       "    <tr>\n",
       "      <th>1855</th>\n",
       "      <td>cc_onco1001</td>\n",
       "      <td>tumoral</td>\n",
       "      <td>2303</td>\n",
       "      <td>2310</td>\n",
       "    </tr>\n",
       "  </tbody>\n",
       "</table>\n",
       "</div>"
      ],
      "text/plain": [
       "           doc_id                text_ref  start   end\n",
       "1852  cc_onco1001   carcinoma epidermoide    576   597\n",
       "1854  cc_onco1001               neoplasia    790   799\n",
       "1857  cc_onco1001  adenocarcinoma T4N3M1b    836   858\n",
       "1853  cc_onco1001     enfermedad hepática   1205  1224\n",
       "1855  cc_onco1001                 tumoral   2303  2310"
      ]
     },
     "execution_count": 26,
     "metadata": {},
     "output_type": "execute_result"
    }
   ],
   "source": [
    "df_codes_dev_ner.head()"
   ]
  },
  {
   "cell_type": "code",
   "execution_count": 27,
   "metadata": {},
   "outputs": [
    {
     "data": {
      "text/html": [
       "<div>\n",
       "<style scoped>\n",
       "    .dataframe tbody tr th:only-of-type {\n",
       "        vertical-align: middle;\n",
       "    }\n",
       "\n",
       "    .dataframe tbody tr th {\n",
       "        vertical-align: top;\n",
       "    }\n",
       "\n",
       "    .dataframe thead th {\n",
       "        text-align: right;\n",
       "    }\n",
       "</style>\n",
       "<table border=\"1\" class=\"dataframe\">\n",
       "  <thead>\n",
       "    <tr style=\"text-align: right;\">\n",
       "      <th></th>\n",
       "      <th>doc_id</th>\n",
       "      <th>text_ref</th>\n",
       "      <th>start</th>\n",
       "      <th>end</th>\n",
       "    </tr>\n",
       "  </thead>\n",
       "  <tbody>\n",
       "    <tr>\n",
       "      <th>1630</th>\n",
       "      <td>cc_onco994</td>\n",
       "      <td>tumoración</td>\n",
       "      <td>1604</td>\n",
       "      <td>1614</td>\n",
       "    </tr>\n",
       "    <tr>\n",
       "      <th>1629</th>\n",
       "      <td>cc_onco994</td>\n",
       "      <td>metastásica</td>\n",
       "      <td>3064</td>\n",
       "      <td>3075</td>\n",
       "    </tr>\n",
       "    <tr>\n",
       "      <th>1628</th>\n",
       "      <td>cc_onco994</td>\n",
       "      <td>macroadenoma</td>\n",
       "      <td>3752</td>\n",
       "      <td>3764</td>\n",
       "    </tr>\n",
       "    <tr>\n",
       "      <th>1632</th>\n",
       "      <td>cc_onco994</td>\n",
       "      <td>macroadenoma de la hipófisis</td>\n",
       "      <td>4068</td>\n",
       "      <td>4096</td>\n",
       "    </tr>\n",
       "    <tr>\n",
       "      <th>1627</th>\n",
       "      <td>cc_onco994</td>\n",
       "      <td>lesiones hepáticas</td>\n",
       "      <td>5378</td>\n",
       "      <td>5396</td>\n",
       "    </tr>\n",
       "  </tbody>\n",
       "</table>\n",
       "</div>"
      ],
      "text/plain": [
       "          doc_id                      text_ref  start   end\n",
       "1630  cc_onco994                    tumoración   1604  1614\n",
       "1629  cc_onco994                   metastásica   3064  3075\n",
       "1628  cc_onco994                  macroadenoma   3752  3764\n",
       "1632  cc_onco994  macroadenoma de la hipófisis   4068  4096\n",
       "1627  cc_onco994            lesiones hepáticas   5378  5396"
      ]
     },
     "execution_count": 27,
     "metadata": {},
     "output_type": "execute_result"
    }
   ],
   "source": [
    "df_codes_dev_ner.tail()"
   ]
  },
  {
   "cell_type": "code",
   "execution_count": 28,
   "metadata": {},
   "outputs": [],
   "source": [
    "assert ~df_codes_dev_ner[[\"doc_id\", \"start\", \"end\"]].duplicated().any()"
   ]
  },
  {
   "cell_type": "markdown",
   "metadata": {},
   "source": [
    "### Remove overlapping annotations"
   ]
  },
  {
   "cell_type": "code",
   "execution_count": 29,
   "metadata": {},
   "outputs": [],
   "source": [
    "# Training corpus"
   ]
  },
  {
   "cell_type": "code",
   "execution_count": 30,
   "metadata": {},
   "outputs": [
    {
     "name": "stderr",
     "output_type": "stream",
     "text": [
      "100%|██████████| 750/750 [00:21<00:00, 35.01it/s]"
     ]
    },
    {
     "name": "stdout",
     "output_type": "stream",
     "text": [
      "CPU times: user 21.4 s, sys: 38.2 ms, total: 21.5 s\n",
      "Wall time: 21.4 s\n"
     ]
    },
    {
     "name": "stderr",
     "output_type": "stream",
     "text": [
      "\n"
     ]
    }
   ],
   "source": [
    "%%time\n",
    "df_codes_train_ner_final = eliminate_overlap(df_ann=df_codes_train_ner)"
   ]
  },
  {
   "cell_type": "code",
   "execution_count": 31,
   "metadata": {},
   "outputs": [
    {
     "data": {
      "text/plain": [
       "(9605, 4)"
      ]
     },
     "execution_count": 31,
     "metadata": {},
     "output_type": "execute_result"
    }
   ],
   "source": [
    "df_codes_train_ner_final.shape"
   ]
  },
  {
   "cell_type": "code",
   "execution_count": 32,
   "metadata": {},
   "outputs": [],
   "source": [
    "# Development corpus"
   ]
  },
  {
   "cell_type": "code",
   "execution_count": 33,
   "metadata": {},
   "outputs": [
    {
     "name": "stderr",
     "output_type": "stream",
     "text": [
      "100%|██████████| 250/250 [00:04<00:00, 55.07it/s]"
     ]
    },
    {
     "name": "stdout",
     "output_type": "stream",
     "text": [
      "CPU times: user 4.56 s, sys: 106 µs, total: 4.56 s\n",
      "Wall time: 4.54 s\n"
     ]
    },
    {
     "name": "stderr",
     "output_type": "stream",
     "text": [
      "\n"
     ]
    }
   ],
   "source": [
    "%%time\n",
    "df_codes_dev_ner_final = eliminate_overlap(df_ann=df_codes_dev_ner)"
   ]
  },
  {
   "cell_type": "code",
   "execution_count": 34,
   "metadata": {},
   "outputs": [
    {
     "data": {
      "text/plain": [
       "(2623, 4)"
      ]
     },
     "execution_count": 34,
     "metadata": {},
     "output_type": "execute_result"
    }
   ],
   "source": [
    "df_codes_dev_ner_final.shape"
   ]
  },
  {
   "cell_type": "markdown",
   "metadata": {},
   "source": [
    "## Creation of annotated sequences\n",
    "\n",
    "We create the corpus used to fine-tune the transformer model on a NER task. In this way, we split the texts into sentences, and convert them into sequences of subtokens. Also, each generated subtoken is assigned a NER label in IOB-2 format."
   ]
  },
  {
   "cell_type": "code",
   "execution_count": 35,
   "metadata": {},
   "outputs": [],
   "source": [
    "# Sentence-Split information\n",
    "ss_corpus_path = \"../datasets/Cantemist-SSplit-text/\""
   ]
  },
  {
   "cell_type": "code",
   "execution_count": 36,
   "metadata": {},
   "outputs": [
    {
     "data": {
      "text/plain": [
       "LabelEncoder()"
      ]
     },
     "execution_count": 36,
     "metadata": {},
     "output_type": "execute_result"
    }
   ],
   "source": [
    "from sklearn.preprocessing import LabelEncoder\n",
    "\n",
    "lab_encoder = LabelEncoder()\n",
    "# IOB-2 format\n",
    "lab_encoder.fit([\"B\", \"I\", \"O\"])"
   ]
  },
  {
   "cell_type": "markdown",
   "metadata": {},
   "source": [
    "### Training corpus"
   ]
  },
  {
   "cell_type": "markdown",
   "metadata": {},
   "source": [
    "Only training texts with NER annotations are considered:"
   ]
  },
  {
   "cell_type": "code",
   "execution_count": 37,
   "metadata": {},
   "outputs": [
    {
     "data": {
      "text/plain": [
       "1"
      ]
     },
     "execution_count": 37,
     "metadata": {},
     "output_type": "execute_result"
    }
   ],
   "source": [
    "# Some train documents (texts) are not annotated \n",
    "len(set(df_text_train[\"doc_id\"]) - set(df_codes_train_ner_final[\"doc_id\"]))"
   ]
  },
  {
   "cell_type": "code",
   "execution_count": 38,
   "metadata": {},
   "outputs": [],
   "source": [
    "train_doc_list = sorted(set(df_codes_train_ner_final[\"doc_id\"]))"
   ]
  },
  {
   "cell_type": "code",
   "execution_count": 39,
   "metadata": {},
   "outputs": [
    {
     "data": {
      "text/plain": [
       "750"
      ]
     },
     "execution_count": 39,
     "metadata": {},
     "output_type": "execute_result"
    }
   ],
   "source": [
    "len(train_doc_list)"
   ]
  },
  {
   "cell_type": "code",
   "execution_count": 40,
   "metadata": {},
   "outputs": [],
   "source": [
    "# Sentence-Split data"
   ]
  },
  {
   "cell_type": "code",
   "execution_count": 41,
   "metadata": {},
   "outputs": [
    {
     "name": "stdout",
     "output_type": "stream",
     "text": [
      "CPU times: user 33.8 ms, sys: 49 µs, total: 33.9 ms\n",
      "Wall time: 33.6 ms\n"
     ]
    }
   ],
   "source": [
    "%%time\n",
    "ss_sub_corpus_path = ss_corpus_path + \"training/\"\n",
    "ss_files = [f for f in os.listdir(ss_sub_corpus_path) if os.path.isfile(ss_sub_corpus_path + f)]\n",
    "ss_dict_train = load_ss_files(ss_files, ss_sub_corpus_path)"
   ]
  },
  {
   "cell_type": "code",
   "execution_count": 42,
   "metadata": {},
   "outputs": [
    {
     "name": "stderr",
     "output_type": "stream",
     "text": [
      "100%|██████████| 750/750 [01:10<00:00, 10.62it/s]\n"
     ]
    },
    {
     "name": "stdout",
     "output_type": "stream",
     "text": [
      "CPU times: user 1min 10s, sys: 196 ms, total: 1min 11s\n",
      "Wall time: 1min 10s\n"
     ]
    }
   ],
   "source": [
    "%%time\n",
    "train_ind, train_att, train_type, train_y, train_frag, train_start_end_frag, train_word_id = ss_create_input_data_ner(df_text=df_text_train, \n",
    "                                                  text_col=text_col, \n",
    "                                                  df_ann=df_codes_train_ner_final, doc_list=train_doc_list, ss_dict=ss_dict_train,\n",
    "                                                  tokenizer=tokenizer, lab_encoder=lab_encoder, seq_len=SEQ_LEN, \n",
    "                                                  ign_value=IGNORE_VALUE, strategy=ANN_STRATEGY, greedy=GREEDY)"
   ]
  },
  {
   "cell_type": "code",
   "execution_count": 43,
   "metadata": {},
   "outputs": [],
   "source": [
    "# Sanity check"
   ]
  },
  {
   "cell_type": "code",
   "execution_count": 43,
   "metadata": {},
   "outputs": [
    {
     "data": {
      "text/plain": [
       "(10619, 128)"
      ]
     },
     "execution_count": 43,
     "metadata": {},
     "output_type": "execute_result"
    }
   ],
   "source": [
    "train_ind.shape"
   ]
  },
  {
   "cell_type": "code",
   "execution_count": 44,
   "metadata": {},
   "outputs": [
    {
     "data": {
      "text/plain": [
       "(10619, 128)"
      ]
     },
     "execution_count": 44,
     "metadata": {},
     "output_type": "execute_result"
    }
   ],
   "source": [
    "train_att.shape"
   ]
  },
  {
   "cell_type": "code",
   "execution_count": 45,
   "metadata": {},
   "outputs": [
    {
     "data": {
      "text/plain": [
       "(10619, 128)"
      ]
     },
     "execution_count": 45,
     "metadata": {},
     "output_type": "execute_result"
    }
   ],
   "source": [
    "train_type.shape"
   ]
  },
  {
   "cell_type": "code",
   "execution_count": 46,
   "metadata": {
    "scrolled": true
   },
   "outputs": [
    {
     "data": {
      "text/plain": [
       "(10619, 128)"
      ]
     },
     "execution_count": 46,
     "metadata": {},
     "output_type": "execute_result"
    }
   ],
   "source": [
    "train_y.shape"
   ]
  },
  {
   "cell_type": "code",
   "execution_count": 47,
   "metadata": {},
   "outputs": [
    {
     "data": {
      "text/plain": [
       "750"
      ]
     },
     "execution_count": 47,
     "metadata": {},
     "output_type": "execute_result"
    }
   ],
   "source": [
    "len(train_frag)"
   ]
  },
  {
   "cell_type": "code",
   "execution_count": 48,
   "metadata": {},
   "outputs": [
    {
     "data": {
      "text/plain": [
       "10619"
      ]
     },
     "execution_count": 48,
     "metadata": {},
     "output_type": "execute_result"
    }
   ],
   "source": [
    "len(train_start_end_frag)"
   ]
  },
  {
   "cell_type": "code",
   "execution_count": 49,
   "metadata": {},
   "outputs": [
    {
     "data": {
      "text/plain": [
       "10619"
      ]
     },
     "execution_count": 49,
     "metadata": {},
     "output_type": "execute_result"
    }
   ],
   "source": [
    "len(train_word_id)"
   ]
  },
  {
   "cell_type": "code",
   "execution_count": 50,
   "metadata": {},
   "outputs": [
    {
     "data": {
      "text/plain": [
       "count    750.000000\n",
       "mean      14.158667\n",
       "std        4.858494\n",
       "min        4.000000\n",
       "25%       11.000000\n",
       "50%       14.000000\n",
       "75%       17.000000\n",
       "max       41.000000\n",
       "dtype: float64"
      ]
     },
     "execution_count": 50,
     "metadata": {},
     "output_type": "execute_result"
    }
   ],
   "source": [
    "# Check n_frag distribution across texts\n",
    "pd.Series(train_frag).describe()"
   ]
  },
  {
   "cell_type": "code",
   "execution_count": 51,
   "metadata": {},
   "outputs": [],
   "source": [
    "# Inspect a randomly selected text and its encoded version\n",
    "check_id = np.random.randint(low=0, high=len(train_doc_list), size=1)[0]"
   ]
  },
  {
   "cell_type": "code",
   "execution_count": 52,
   "metadata": {},
   "outputs": [
    {
     "data": {
      "text/plain": [
       "329"
      ]
     },
     "execution_count": 52,
     "metadata": {},
     "output_type": "execute_result"
    }
   ],
   "source": [
    "check_id"
   ]
  },
  {
   "cell_type": "code",
   "execution_count": 53,
   "metadata": {},
   "outputs": [
    {
     "data": {
      "text/plain": [
       "'cc_onco467'"
      ]
     },
     "execution_count": 53,
     "metadata": {},
     "output_type": "execute_result"
    }
   ],
   "source": [
    "train_doc_list[check_id]"
   ]
  },
  {
   "cell_type": "code",
   "execution_count": 54,
   "metadata": {
    "scrolled": true
   },
   "outputs": [
    {
     "data": {
      "text/plain": [
       "'ANTECEDENTES E HISTORIA PREVIA\\nPresentamos el caso de un varón de 67 años sin antecedentes personales de interés, independiente para las actividades básicas de la vida diaria y vida activa, que es diagnosticado en marzo de 2012 de melanoma en región dorso lumbar izquierda (índice de Breslow de 4 mm y nivel 4 de Clark, con 12 mm de diámetro) con biopsia de ganglio centinela positiva. Se realiza exéresis de la lesión y linfadenectomía inguinal radical izquierda, con resultado de una adenopatía positiva para metástasis de melanoma en región obturatriz. Inicia tratamiento adyuvante con interferón en septiembre de 2012 concluyéndolo en septiembre de 2013 sin incidencias.\\nEn marzo de 2014 en tomografía computarizada (TC) de control se objetivan adenopatías superiores al centímetro a nivel inguinofemoral derecho, por lo que en junio de 2014 se lleva a cabo linfadenectomía con resultado de recidiva ganglionar de melanoma. Se lleva a cabo estudio de mutaciones BRAF siendo no mutado.\\nEn septiembre de 2016 se observa crecimiento de dos adenopatías de 1 y 1,6 cm de diámetro a nivel de mesenterio, decidiéndose seguimiento mediante pruebas de imagen. En TC de control de junio de 2017 se visualiza engrosamiento a nivel de intestino delgado con estabilidad de las adenopatías mesentéricas previamente descritas, por lo que se presenta en Comité de Tumores y se interviene con exéresis del segmento intestinal. La Anatomía Patológica resultante muestra recidiva intestinal de melanoma.\\nDada la evolución del paciente y el buen estado general, se propone nivolumab adyuvante durante un año. El paciente acepta e inicia tratamiento el 05/12/2017.\\n\\nAnamnesis\\nRealiza 44 semanas de tratamiento hasta octubre de 2018 sin incidencias ni toxicidades destacables salvo astenia grado 2. En visita de control el 09/10/2018 con Oncología Médica para tratamiento de semana 45, el paciente refiere pérdida de visión de una semana de evolución con instauración rápida pero paulatina en el transcurso de 1-2 días. Así mismo, comenta requerir desde hace un mes bastón para caminar y haber iniciado tamsulosina una semana antes por prescripción de Urología por síndrome prostático. Se pauta tratamiento de semana 45 y, por dicha clínica, es derivado a consulta de Oftalmología, donde es valorado el 10/10/2018. En la exploración oftalmológica se objetiva edema papilar bilateral, siendo remitido a Urgencias para valoración neurológica urgente.\\nDurante la exploración por Neurología de guardia, destaca déficit visual sin otras alteraciones destacables. Se realiza una TC de cráneo con contraste sin apreciarse lesiones focales. Se orienta como posible hipertensión intracraneal vs. afectación autoinmune del nervio óptico vs. menos probable farmacológico secundario a tamsulosina, ya que el papiledema bilateral va en contra de dicha etiología. Finalmente se cursa ingreso a cargo de Oncología Médica con fecha del 11/10/2018.\\n\\nExploración física\\nBuen estado general. ECOG1. Paciente consciente, orientado y colaborador. Eupneico en reposo:\\n» Auscultación cardiaca: tonos rítmicos y regulares.\\n» Auscultación pulmonar: MVC.\\n» Exploración abdominal: gran hernia de pared abdominal tras cirugía. No es doloroso durante la palpación. No palpamos masas ni megalias. Sin signos de irritación peritoneal.\\n» Extremidades inferiores: sin edemas. Sin empastamiento gemelar.\\n» Exploración neurológica: lenguaje bien articulado, coherente en contenido con barrera idiomática. Sin alteraciones en la producción. Reflejo oculomotor derecho abolido, sin otras focalidad aparentes a nivel de pares craneales, vías sensitivas o motoras. Fuerza conservada simétrica bilateral 5/5 de las extremidades. Marcha con aumento de la base de la sustentación.\\n\\nPruebas complementarias\\nPresión de líquido cefalorraquídeo (LCR):\\n» Dentro de los límites de la normalidad.\\nBioquímica de LCR\\n» Leucocitos (recuento; LCR) 18 leu/Μ l.\\n» Polimorfonucleares (porcentaje; LCR) 10 %.\\n» Mononucleares (porcentaje; LCR) 90 %. » Hematíes (recuento; LCR) 3 hem/μl.\\n» Glucosa (LCR) 50 mg/dl.\\n» Proteínas (LCR) 77,9 mg/dl.\\n» Lactato (LCR) 2,7 mmol/l.\\nResonancia magnética (RM) nuclear de cráneo con contraste\\n» Se realiza RM cráneo sin y con contraste i.v. y angio-RM de senos venosos.\\n» El paciente lee y firma el CI. Sin alergias.\\n» En el estudio realizado se observa una hiperintensidad en secuencias T2-FLAIR de la porción medial de tálamos y comisura anterior bilateral. También están afectas ambas cabezas de caudado (más llamativo en el lado izquierdo) y parece que parte anterior de las cintillas ópticas. Las lesiones ni presentan una clara restricción a la difusión ni muestran captación de contraste i.v. Los hallazgos de imagen plantean como primera posibilidad que se trate de lesiones inflamatorias que en el contexto del paciente pudieran ser paraneoplásica o autoinmune.\\nPotenciales evocados visuales\\nComentarios: PEV a la estimulación del ojo derecho e izquierdo de morfología normal, amplitud disminuida y latencia P100, para el ojo derecho prolongada y para el ojo izquierdo, en el límite de la normalidad.\\nConclusiones: los hallazgos en los PEV son compatibles con una alteración de conducción de ambas vías visuales, de tipo desmielinizante (con posible bloqueo de la conducción).\\nSerología infecciosa de LCR\\n» VDRL en líquido cefalorraquídeo negativo.\\n» FTA en líquido cefalorraquídeo negativo.\\n» Borrelia burgdorferi IgG negativo.\\n» Borrelia burgdorferi IgM negativo.\\n» Ac. anti citomegalovirus IgG negativo.\\n» Ac. anti citomegalovirus IgM negativo.\\n» Enzima convertidora angiotensina (LCR) 1,24.\\nCultivo y tinciones de LCR\\n» Cultivo convencional negativo.\\n» Tinción de Gram: no se observan gérmenes.\\n» Cultivo de micobacterias negativo.\\n» Tinción tinta china negativa.\\n» Cultivo de hongos negativo.\\n\\nDiagnóstico\\n» Papiledema bilateral probablemente secundario a autoinmunidad secundaria a inmunoterapia.\\n» Síndrome autoinmune secundario a inmunoterapia.\\n» Melanoma maligno Est. IV resecado en curso de tratamiento con nivolumab.\\n\\nTratamiento\\nIniciamos en planta de Oncología Médica corticoterapia con dosis de 80 mg de metilprednisolona intravenoso cada 24 horas.\\n\\nEvolución\\nTras 48 horas de tratamiento refiere mejoría de la agudeza visual, leyendo tipografía de 2 cm a 1,5 m. Comentamos el caso nuevamente con Neurología, consensuando extraer anticuerpos onconeuronales y realizar potencias evocados visuales.\\nEl 19/10/2018, tras 8 días de ingreso y corticoterapia, el paciente presenta una franca mejoría, deambulando por la planta sin incidencias ni soporte y recuperación progresiva de la agudeza visual. Dada la buena evolución se consensua alta domiciliaria, realización ambulatoria de RM de control de neuroeje y revisión en consultas de Oncología Médica.\\nAcude a consulta de revisión el 06/11/2018 indicando haber recuperado totalmente la visión. Se solicita TC de tórax, abdomen y pelvis y se decide finalizar tratamiento, habiendo completado un total de 45 de 52 semanas planificadas. El 23/11/2018 se lleva a cabo RM de control donde se objetiva desaparición total de las lesiones cerebrales previas.\\nEl paciente ha sido valorado por última vez el 03/05/2019 en consulta de Oncología Médica, encontrándose totalmente asintomático y estable de enfermedad.'"
      ]
     },
     "execution_count": 54,
     "metadata": {},
     "output_type": "execute_result"
    }
   ],
   "source": [
    "df_text_train[df_text_train[\"doc_id\"] == train_doc_list[check_id]][text_col].values[0]"
   ]
  },
  {
   "cell_type": "code",
   "execution_count": 55,
   "metadata": {},
   "outputs": [
    {
     "data": {
      "text/html": [
       "<div>\n",
       "<style scoped>\n",
       "    .dataframe tbody tr th:only-of-type {\n",
       "        vertical-align: middle;\n",
       "    }\n",
       "\n",
       "    .dataframe tbody tr th {\n",
       "        vertical-align: top;\n",
       "    }\n",
       "\n",
       "    .dataframe thead th {\n",
       "        text-align: right;\n",
       "    }\n",
       "</style>\n",
       "<table border=\"1\" class=\"dataframe\">\n",
       "  <thead>\n",
       "    <tr style=\"text-align: right;\">\n",
       "      <th></th>\n",
       "      <th>doc_id</th>\n",
       "      <th>text_ref</th>\n",
       "      <th>start</th>\n",
       "      <th>end</th>\n",
       "    </tr>\n",
       "  </thead>\n",
       "  <tbody>\n",
       "    <tr>\n",
       "      <th>4217</th>\n",
       "      <td>cc_onco467</td>\n",
       "      <td>melanoma</td>\n",
       "      <td>231</td>\n",
       "      <td>239</td>\n",
       "    </tr>\n",
       "    <tr>\n",
       "      <th>4219</th>\n",
       "      <td>cc_onco467</td>\n",
       "      <td>metástasis de melanoma</td>\n",
       "      <td>511</td>\n",
       "      <td>533</td>\n",
       "    </tr>\n",
       "    <tr>\n",
       "      <th>4218</th>\n",
       "      <td>cc_onco467</td>\n",
       "      <td>melanoma</td>\n",
       "      <td>918</td>\n",
       "      <td>926</td>\n",
       "    </tr>\n",
       "    <tr>\n",
       "      <th>4220</th>\n",
       "      <td>cc_onco467</td>\n",
       "      <td>recidiva intestinal de melanoma</td>\n",
       "      <td>1456</td>\n",
       "      <td>1487</td>\n",
       "    </tr>\n",
       "    <tr>\n",
       "      <th>4216</th>\n",
       "      <td>cc_onco467</td>\n",
       "      <td>Melanoma maligno</td>\n",
       "      <td>5924</td>\n",
       "      <td>5940</td>\n",
       "    </tr>\n",
       "  </tbody>\n",
       "</table>\n",
       "</div>"
      ],
      "text/plain": [
       "          doc_id                         text_ref  start   end\n",
       "4217  cc_onco467                         melanoma    231   239\n",
       "4219  cc_onco467           metástasis de melanoma    511   533\n",
       "4218  cc_onco467                         melanoma    918   926\n",
       "4220  cc_onco467  recidiva intestinal de melanoma   1456  1487\n",
       "4216  cc_onco467                 Melanoma maligno   5924  5940"
      ]
     },
     "execution_count": 55,
     "metadata": {},
     "output_type": "execute_result"
    }
   ],
   "source": [
    "df_codes_train_ner_final[df_codes_train_ner_final[\"doc_id\"] == train_doc_list[check_id]]"
   ]
  },
  {
   "cell_type": "code",
   "execution_count": 56,
   "metadata": {},
   "outputs": [],
   "source": [
    "check_id_frag = sum(train_frag[:check_id])"
   ]
  },
  {
   "cell_type": "code",
   "execution_count": 57,
   "metadata": {},
   "outputs": [
    {
     "name": "stdout",
     "output_type": "stream",
     "text": [
      "[('AN', (0, 12), 0, 'O'), ('##TE', (0, 12), 0, 'O'), ('##CE', (0, 12), 0, 'O'), ('##DE', (0, 12), 0, 'O'), ('##NT', (0, 12), 0, 'O'), ('##ES', (0, 12), 0, 'O'), ('E', (13, 14), 1, 'O'), ('H', (15, 23), 2, 'O'), ('##IS', (15, 23), 2, 'O'), ('##TO', (15, 23), 2, 'O'), ('##RI', (15, 23), 2, 'O'), ('##A', (15, 23), 2, 'O'), ('PR', (24, 30), 3, 'O'), ('##E', (24, 30), 3, 'O'), ('##VI', (24, 30), 3, 'O'), ('##A', (24, 30), 3, 'O'), ('Presenta', (31, 42), 4, 'O'), ('##mos', (31, 42), 4, 'O'), ('el', (43, 45), 5, 'O'), ('caso', (46, 50), 6, 'O'), ('de', (51, 53), 7, 'O'), ('un', (54, 56), 8, 'O'), ('var', (57, 62), 9, 'O'), ('##ón', (57, 62), 9, 'O'), ('de', (63, 65), 10, 'O'), ('67', (66, 68), 11, 'O'), ('años', (69, 73), 12, 'O'), ('sin', (74, 77), 13, 'O'), ('ante', (78, 90), 14, 'O'), ('##cedent', (78, 90), 14, 'O'), ('##es', (78, 90), 14, 'O'), ('personales', (91, 101), 15, 'O'), ('de', (102, 104), 16, 'O'), ('interés', (105, 112), 17, 'O'), (',', (112, 113), 18, 'O'), ('independiente', (114, 127), 19, 'O'), ('para', (128, 132), 20, 'O'), ('las', (133, 136), 21, 'O'), ('actividades', (137, 148), 22, 'O'), ('básica', (149, 156), 23, 'O'), ('##s', (149, 156), 23, 'O'), ('de', (157, 159), 24, 'O'), ('la', (160, 162), 25, 'O'), ('vida', (163, 167), 26, 'O'), ('diari', (168, 174), 27, 'O'), ('##a', (168, 174), 27, 'O'), ('y', (175, 176), 28, 'O'), ('vida', (177, 181), 29, 'O'), ('activa', (182, 188), 30, 'O'), (',', (188, 189), 31, 'O'), ('que', (190, 193), 32, 'O'), ('es', (194, 196), 33, 'O'), ('diagnostic', (197, 210), 34, 'O'), ('##ado', (197, 210), 34, 'O'), ('en', (211, 213), 35, 'O'), ('marzo', (214, 219), 36, 'O'), ('de', (220, 222), 37, 'O'), ('2012', (223, 227), 38, 'O'), ('de', (228, 230), 39, 'O'), ('me', (231, 239), 40, 'B'), ('##lano', (231, 239), 40, 'B'), ('##ma', (231, 239), 40, 'B'), ('en', (240, 242), 41, 'O'), ('región', (243, 249), 42, 'O'), ('dor', (250, 255), 43, 'O'), ('##so', (250, 255), 43, 'O'), ('lu', (256, 262), 44, 'O'), ('##mbar', (256, 262), 44, 'O'), ('izquierda', (263, 272), 45, 'O'), ('(', (273, 274), 46, 'O'), ('índice', (274, 280), 47, 'O'), ('de', (281, 283), 48, 'O'), ('Br', (284, 291), 49, 'O'), ('##es', (284, 291), 49, 'O'), ('##low', (284, 291), 49, 'O'), ('de', (292, 294), 50, 'O'), ('4', (295, 296), 51, 'O'), ('mm', (297, 299), 52, 'O'), ('y', (300, 301), 53, 'O'), ('nivel', (302, 307), 54, 'O'), ('4', (308, 309), 55, 'O'), ('de', (310, 312), 56, 'O'), ('Clark', (313, 318), 57, 'O'), (',', (318, 319), 58, 'O'), ('con', (320, 323), 59, 'O'), ('12', (324, 326), 60, 'O'), ('mm', (327, 329), 61, 'O'), ('de', (330, 332), 62, 'O'), ('diámetro', (333, 341), 63, 'O'), (')', (341, 342), 64, 'O'), ('con', (343, 346), 65, 'O'), ('bio', (347, 354), 66, 'O'), ('##psia', (347, 354), 66, 'O'), ('de', (355, 357), 67, 'O'), ('gang', (358, 365), 68, 'O'), ('##lio', (358, 365), 68, 'O'), ('cent', (366, 375), 69, 'O'), ('##ine', (366, 375), 69, 'O'), ('##la', (366, 375), 69, 'O'), ('positiva', (376, 384), 70, 'O'), ('.', (384, 385), 71, 'O')]\n",
      "\n",
      "\n",
      "[('Se', (386, 388), 72, 'O'), ('realiza', (389, 396), 73, 'O'), ('ex', (397, 405), 74, 'O'), ('##ére', (397, 405), 74, 'O'), ('##sis', (397, 405), 74, 'O'), ('de', (406, 408), 75, 'O'), ('la', (409, 411), 76, 'O'), ('lesión', (412, 418), 77, 'O'), ('y', (419, 420), 78, 'O'), ('li', (421, 436), 79, 'O'), ('##n', (421, 436), 79, 'O'), ('##fa', (421, 436), 79, 'O'), ('##dene', (421, 436), 79, 'O'), ('##cto', (421, 436), 79, 'O'), ('##mí', (421, 436), 79, 'O'), ('##a', (421, 436), 79, 'O'), ('ing', (437, 445), 80, 'O'), ('##uin', (437, 445), 80, 'O'), ('##al', (437, 445), 80, 'O'), ('radical', (446, 453), 81, 'O'), ('izquierda', (454, 463), 82, 'O'), (',', (463, 464), 83, 'O'), ('con', (465, 468), 84, 'O'), ('resultado', (469, 478), 85, 'O'), ('de', (479, 481), 86, 'O'), ('una', (482, 485), 87, 'O'), ('ad', (486, 496), 88, 'O'), ('##eno', (486, 496), 88, 'O'), ('##pat', (486, 496), 88, 'O'), ('##ía', (486, 496), 88, 'O'), ('positiva', (497, 505), 89, 'O'), ('para', (506, 510), 90, 'O'), ('met', (511, 521), 91, 'B'), ('##ást', (511, 521), 91, 'B'), ('##asis', (511, 521), 91, 'B'), ('de', (522, 524), 92, 'I'), ('me', (525, 533), 93, 'I'), ('##lano', (525, 533), 93, 'I'), ('##ma', (525, 533), 93, 'I'), ('en', (534, 536), 94, 'O'), ('región', (537, 543), 95, 'O'), ('ob', (544, 554), 96, 'O'), ('##tura', (544, 554), 96, 'O'), ('##tri', (544, 554), 96, 'O'), ('##z', (544, 554), 96, 'O'), ('.', (554, 555), 97, 'O'), ('Ini', (556, 562), 98, 'O'), ('##cia', (556, 562), 98, 'O'), ('tratamiento', (563, 574), 99, 'O'), ('ad', (575, 584), 100, 'O'), ('##yu', (575, 584), 100, 'O'), ('##vant', (575, 584), 100, 'O'), ('##e', (575, 584), 100, 'O'), ('con', (585, 588), 101, 'O'), ('inter', (589, 599), 102, 'O'), ('##fer', (589, 599), 102, 'O'), ('##ón', (589, 599), 102, 'O'), ('en', (600, 602), 103, 'O'), ('septiembre', (603, 613), 104, 'O'), ('de', (614, 616), 105, 'O'), ('2012', (617, 621), 106, 'O'), ('con', (622, 635), 107, 'O'), ('##clu', (622, 635), 107, 'O'), ('##y', (622, 635), 107, 'O'), ('##én', (622, 635), 107, 'O'), ('##dolo', (622, 635), 107, 'O'), ('en', (636, 638), 108, 'O'), ('septiembre', (639, 649), 109, 'O'), ('de', (650, 652), 110, 'O'), ('2013', (653, 657), 111, 'O'), ('sin', (658, 661), 112, 'O'), ('in', (662, 673), 113, 'O'), ('##cide', (662, 673), 113, 'O'), ('##ncias', (662, 673), 113, 'O'), ('.', (673, 674), 114, 'O')]\n",
      "\n",
      "\n",
      "[('En', (675, 677), 115, 'O'), ('marzo', (678, 683), 116, 'O'), ('de', (684, 686), 117, 'O'), ('2014', (687, 691), 118, 'O'), ('en', (692, 694), 119, 'O'), ('tom', (695, 705), 120, 'O'), ('##ografía', (695, 705), 120, 'O'), ('com', (706, 719), 121, 'O'), ('##put', (706, 719), 121, 'O'), ('##ari', (706, 719), 121, 'O'), ('##zada', (706, 719), 121, 'O'), ('(', (720, 721), 122, 'O'), ('TC', (721, 723), 123, 'O'), (')', (723, 724), 124, 'O'), ('de', (725, 727), 125, 'O'), ('control', (728, 735), 126, 'O'), ('se', (736, 738), 127, 'O'), ('objet', (739, 748), 128, 'O'), ('##iva', (739, 748), 128, 'O'), ('##n', (739, 748), 128, 'O'), ('ad', (749, 760), 129, 'O'), ('##eno', (749, 760), 129, 'O'), ('##pat', (749, 760), 129, 'O'), ('##ías', (749, 760), 129, 'O'), ('superiores', (761, 771), 130, 'O'), ('al', (772, 774), 131, 'O'), ('cent', (775, 785), 132, 'O'), ('##íme', (775, 785), 132, 'O'), ('##tro', (775, 785), 132, 'O'), ('a', (786, 787), 133, 'O'), ('nivel', (788, 793), 134, 'O'), ('ing', (794, 808), 135, 'O'), ('##uin', (794, 808), 135, 'O'), ('##of', (794, 808), 135, 'O'), ('##em', (794, 808), 135, 'O'), ('##oral', (794, 808), 135, 'O'), ('derecho', (809, 816), 136, 'O'), (',', (816, 817), 137, 'O'), ('por', (818, 821), 138, 'O'), ('lo', (822, 824), 139, 'O'), ('que', (825, 828), 140, 'O'), ('en', (829, 831), 141, 'O'), ('junio', (832, 837), 142, 'O'), ('de', (838, 840), 143, 'O'), ('2014', (841, 845), 144, 'O'), ('se', (846, 848), 145, 'O'), ('lleva', (849, 854), 146, 'O'), ('a', (855, 856), 147, 'O'), ('cabo', (857, 861), 148, 'O'), ('li', (862, 877), 149, 'O'), ('##n', (862, 877), 149, 'O'), ('##fa', (862, 877), 149, 'O'), ('##dene', (862, 877), 149, 'O'), ('##cto', (862, 877), 149, 'O'), ('##mí', (862, 877), 149, 'O'), ('##a', (862, 877), 149, 'O'), ('con', (878, 881), 150, 'O'), ('resultado', (882, 891), 151, 'O'), ('de', (892, 894), 152, 'O'), ('re', (895, 903), 153, 'O'), ('##cid', (895, 903), 153, 'O'), ('##iva', (895, 903), 153, 'O'), ('gang', (904, 914), 154, 'O'), ('##lion', (904, 914), 154, 'O'), ('##ar', (904, 914), 154, 'O'), ('de', (915, 917), 155, 'O'), ('me', (918, 926), 156, 'B'), ('##lano', (918, 926), 156, 'B'), ('##ma', (918, 926), 156, 'B'), ('.', (926, 927), 157, 'O'), ('Se', (928, 930), 158, 'O'), ('lleva', (931, 936), 159, 'O'), ('a', (937, 938), 160, 'O'), ('cabo', (939, 943), 161, 'O'), ('estudio', (944, 951), 162, 'O'), ('de', (952, 954), 163, 'O'), ('mu', (955, 965), 164, 'O'), ('##ta', (955, 965), 164, 'O'), ('##ciones', (955, 965), 164, 'O'), ('BR', (966, 970), 165, 'O'), ('##AF', (966, 970), 165, 'O'), ('siendo', (971, 977), 166, 'O'), ('no', (978, 980), 167, 'O'), ('mu', (981, 987), 168, 'O'), ('##tado', (981, 987), 168, 'O'), ('.', (987, 988), 169, 'O'), ('En', (989, 991), 170, 'O'), ('septiembre', (992, 1002), 171, 'O'), ('de', (1003, 1005), 172, 'O'), ('2016', (1006, 1010), 173, 'O'), ('se', (1011, 1013), 174, 'O'), ('observa', (1014, 1021), 175, 'O'), ('crecimiento', (1022, 1033), 176, 'O'), ('de', (1034, 1036), 177, 'O'), ('dos', (1037, 1040), 178, 'O'), ('ad', (1041, 1052), 179, 'O'), ('##eno', (1041, 1052), 179, 'O'), ('##pat', (1041, 1052), 179, 'O'), ('##ías', (1041, 1052), 179, 'O'), ('de', (1053, 1055), 180, 'O'), ('1', (1056, 1057), 181, 'O'), ('y', (1058, 1059), 182, 'O'), ('1', (1060, 1061), 183, 'O'), (',', (1061, 1062), 184, 'O'), ('6', (1062, 1063), 185, 'O'), ('cm', (1064, 1066), 186, 'O'), ('de', (1067, 1069), 187, 'O'), ('diámetro', (1070, 1078), 188, 'O'), ('a', (1079, 1080), 189, 'O'), ('nivel', (1081, 1086), 190, 'O'), ('de', (1087, 1089), 191, 'O'), ('mese', (1090, 1100), 192, 'O'), ('##nter', (1090, 1100), 192, 'O'), ('##io', (1090, 1100), 192, 'O'), (',', (1100, 1101), 193, 'O'), ('de', (1102, 1114), 194, 'O'), ('##cid', (1102, 1114), 194, 'O'), ('##iéndose', (1102, 1114), 194, 'O'), ('seg', (1115, 1126), 195, 'O'), ('##ui', (1115, 1126), 195, 'O'), ('##miento', (1115, 1126), 195, 'O'), ('mediante', (1127, 1135), 196, 'O'), ('pruebas', (1136, 1143), 197, 'O'), ('de', (1144, 1146), 198, 'O'), ('imagen', (1147, 1153), 199, 'O'), ('.', (1153, 1154), 200, 'O')]\n",
      "\n",
      "\n",
      "[('En', (1155, 1157), 201, 'O'), ('TC', (1158, 1160), 202, 'O'), ('de', (1161, 1163), 203, 'O'), ('control', (1164, 1171), 204, 'O'), ('de', (1172, 1174), 205, 'O'), ('junio', (1175, 1180), 206, 'O'), ('de', (1181, 1183), 207, 'O'), ('2017', (1184, 1188), 208, 'O'), ('se', (1189, 1191), 209, 'O'), ('visual', (1192, 1201), 210, 'O'), ('##iza', (1192, 1201), 210, 'O'), ('eng', (1202, 1215), 211, 'O'), ('##rosa', (1202, 1215), 211, 'O'), ('##miento', (1202, 1215), 211, 'O'), ('a', (1216, 1217), 212, 'O'), ('nivel', (1218, 1223), 213, 'O'), ('de', (1224, 1226), 214, 'O'), ('inte', (1227, 1236), 215, 'O'), ('##stino', (1227, 1236), 215, 'O'), ('del', (1237, 1244), 216, 'O'), ('##gado', (1237, 1244), 216, 'O'), ('con', (1245, 1248), 217, 'O'), ('esta', (1249, 1260), 218, 'O'), ('##bilidad', (1249, 1260), 218, 'O'), ('de', (1261, 1263), 219, 'O'), ('las', (1264, 1267), 220, 'O'), ('ad', (1268, 1279), 221, 'O'), ('##eno', (1268, 1279), 221, 'O'), ('##pat', (1268, 1279), 221, 'O'), ('##ías', (1268, 1279), 221, 'O'), ('mese', (1280, 1292), 222, 'O'), ('##nt', (1280, 1292), 222, 'O'), ('##érica', (1280, 1292), 222, 'O'), ('##s', (1280, 1292), 222, 'O'), ('previamente', (1293, 1304), 223, 'O'), ('descrita', (1305, 1314), 224, 'O'), ('##s', (1305, 1314), 224, 'O'), (',', (1314, 1315), 225, 'O'), ('por', (1316, 1319), 226, 'O'), ('lo', (1320, 1322), 227, 'O'), ('que', (1323, 1326), 228, 'O'), ('se', (1327, 1329), 229, 'O'), ('presenta', (1330, 1338), 230, 'O'), ('en', (1339, 1341), 231, 'O'), ('Comité', (1342, 1348), 232, 'O'), ('de', (1349, 1351), 233, 'O'), ('Tu', (1352, 1359), 234, 'O'), ('##more', (1352, 1359), 234, 'O'), ('##s', (1352, 1359), 234, 'O'), ('y', (1360, 1361), 235, 'O'), ('se', (1362, 1364), 236, 'O'), ('inter', (1365, 1375), 237, 'O'), ('##viene', (1365, 1375), 237, 'O'), ('con', (1376, 1379), 238, 'O'), ('ex', (1380, 1388), 239, 'O'), ('##ére', (1380, 1388), 239, 'O'), ('##sis', (1380, 1388), 239, 'O'), ('del', (1389, 1392), 240, 'O'), ('segmento', (1393, 1401), 241, 'O'), ('inte', (1402, 1412), 242, 'O'), ('##stina', (1402, 1412), 242, 'O'), ('##l', (1402, 1412), 242, 'O'), ('.', (1412, 1413), 243, 'O'), ('La', (1414, 1416), 244, 'O'), ('Ana', (1417, 1425), 245, 'O'), ('##tom', (1417, 1425), 245, 'O'), ('##ía', (1417, 1425), 245, 'O'), ('Pato', (1426, 1436), 246, 'O'), ('##lógica', (1426, 1436), 246, 'O'), ('resulta', (1437, 1447), 247, 'O'), ('##nte', (1437, 1447), 247, 'O'), ('muestra', (1448, 1455), 248, 'O'), ('re', (1456, 1464), 249, 'B'), ('##cid', (1456, 1464), 249, 'B'), ('##iva', (1456, 1464), 249, 'B'), ('inte', (1465, 1475), 250, 'I'), ('##stina', (1465, 1475), 250, 'I'), ('##l', (1465, 1475), 250, 'I'), ('de', (1476, 1478), 251, 'I'), ('me', (1479, 1487), 252, 'I'), ('##lano', (1479, 1487), 252, 'I'), ('##ma', (1479, 1487), 252, 'I'), ('.', (1487, 1488), 253, 'O'), ('Dada', (1489, 1493), 254, 'O'), ('la', (1494, 1496), 255, 'O'), ('evolución', (1497, 1506), 256, 'O'), ('del', (1507, 1510), 257, 'O'), ('paciente', (1511, 1519), 258, 'O'), ('y', (1520, 1521), 259, 'O'), ('el', (1522, 1524), 260, 'O'), ('buen', (1525, 1529), 261, 'O'), ('estado', (1530, 1536), 262, 'O'), ('general', (1537, 1544), 263, 'O'), (',', (1544, 1545), 264, 'O'), ('se', (1546, 1548), 265, 'O'), ('propone', (1549, 1556), 266, 'O'), ('ni', (1557, 1566), 267, 'O'), ('##vol', (1557, 1566), 267, 'O'), ('##uma', (1557, 1566), 267, 'O'), ('##b', (1557, 1566), 267, 'O'), ('ad', (1567, 1576), 268, 'O'), ('##yu', (1567, 1576), 268, 'O'), ('##vant', (1567, 1576), 268, 'O'), ('##e', (1567, 1576), 268, 'O'), ('durante', (1577, 1584), 269, 'O'), ('un', (1585, 1587), 270, 'O'), ('año', (1588, 1591), 271, 'O'), ('.', (1591, 1592), 272, 'O'), ('El', (1593, 1595), 273, 'O'), ('paciente', (1596, 1604), 274, 'O'), ('ac', (1605, 1611), 275, 'O'), ('##epta', (1605, 1611), 275, 'O'), ('e', (1612, 1613), 276, 'O'), ('inicia', (1614, 1620), 277, 'O'), ('tratamiento', (1621, 1632), 278, 'O'), ('el', (1633, 1635), 279, 'O'), ('05', (1636, 1638), 280, 'O'), ('/', (1638, 1639), 281, 'O'), ('12', (1639, 1641), 282, 'O'), ('/', (1641, 1642), 283, 'O'), ('2017', (1642, 1646), 284, 'O'), ('.', (1646, 1647), 285, 'O')]\n",
      "\n",
      "\n",
      "[('Ana', (1649, 1658), 286, 'O'), ('##mne', (1649, 1658), 286, 'O'), ('##sis', (1649, 1658), 286, 'O'), ('Real', (1659, 1666), 287, 'O'), ('##iza', (1659, 1666), 287, 'O'), ('44', (1667, 1669), 288, 'O'), ('semanas', (1670, 1677), 289, 'O'), ('de', (1678, 1680), 290, 'O'), ('tratamiento', (1681, 1692), 291, 'O'), ('hasta', (1693, 1698), 292, 'O'), ('octubre', (1699, 1706), 293, 'O'), ('de', (1707, 1709), 294, 'O'), ('2018', (1710, 1714), 295, 'O'), ('sin', (1715, 1718), 296, 'O'), ('in', (1719, 1730), 297, 'O'), ('##cide', (1719, 1730), 297, 'O'), ('##ncias', (1719, 1730), 297, 'O'), ('ni', (1731, 1733), 298, 'O'), ('to', (1734, 1745), 299, 'O'), ('##xic', (1734, 1745), 299, 'O'), ('##idades', (1734, 1745), 299, 'O'), ('destaca', (1746, 1757), 300, 'O'), ('##bles', (1746, 1757), 300, 'O'), ('salvo', (1758, 1763), 301, 'O'), ('as', (1764, 1771), 302, 'O'), ('##tenia', (1764, 1771), 302, 'O'), ('grado', (1772, 1777), 303, 'O'), ('2', (1778, 1779), 304, 'O'), ('.', (1779, 1780), 305, 'O'), ('En', (1781, 1783), 306, 'O'), ('visita', (1784, 1790), 307, 'O'), ('de', (1791, 1793), 308, 'O'), ('control', (1794, 1801), 309, 'O'), ('el', (1802, 1804), 310, 'O'), ('09', (1805, 1807), 311, 'O'), ('/', (1807, 1808), 312, 'O'), ('10', (1808, 1810), 313, 'O'), ('/', (1810, 1811), 314, 'O'), ('2018', (1811, 1815), 315, 'O'), ('con', (1816, 1819), 316, 'O'), ('On', (1820, 1829), 317, 'O'), ('##colo', (1820, 1829), 317, 'O'), ('##gía', (1820, 1829), 317, 'O'), ('M', (1830, 1836), 318, 'O'), ('##éd', (1830, 1836), 318, 'O'), ('##ica', (1830, 1836), 318, 'O'), ('para', (1837, 1841), 319, 'O'), ('tratamiento', (1842, 1853), 320, 'O'), ('de', (1854, 1856), 321, 'O'), ('semana', (1857, 1863), 322, 'O'), ('45', (1864, 1866), 323, 'O'), (',', (1866, 1867), 324, 'O'), ('el', (1868, 1870), 325, 'O'), ('paciente', (1871, 1879), 326, 'O'), ('refiere', (1880, 1887), 327, 'O'), ('pérdida', (1888, 1895), 328, 'O'), ('de', (1896, 1898), 329, 'O'), ('visión', (1899, 1905), 330, 'O'), ('de', (1906, 1908), 331, 'O'), ('una', (1909, 1912), 332, 'O'), ('semana', (1913, 1919), 333, 'O'), ('de', (1920, 1922), 334, 'O'), ('evolución', (1923, 1932), 335, 'O'), ('con', (1933, 1936), 336, 'O'), ('ins', (1937, 1949), 337, 'O'), ('##tau', (1937, 1949), 337, 'O'), ('##ración', (1937, 1949), 337, 'O'), ('rápida', (1950, 1956), 338, 'O'), ('pero', (1957, 1961), 339, 'O'), ('pau', (1962, 1971), 340, 'O'), ('##latina', (1962, 1971), 340, 'O'), ('en', (1972, 1974), 341, 'O'), ('el', (1975, 1977), 342, 'O'), ('trans', (1978, 1988), 343, 'O'), ('##curso', (1978, 1988), 343, 'O'), ('de', (1989, 1991), 344, 'O'), ('1', (1992, 1993), 345, 'O'), ('-', (1993, 1994), 346, 'O'), ('2', (1994, 1995), 347, 'O'), ('días', (1996, 2000), 348, 'O'), ('.', (2000, 2001), 349, 'O'), ('Así', (2002, 2005), 350, 'O'), ('mismo', (2006, 2011), 351, 'O'), (',', (2011, 2012), 352, 'O'), ('come', (2013, 2020), 353, 'O'), ('##nta', (2013, 2020), 353, 'O'), ('re', (2021, 2029), 354, 'O'), ('##quer', (2021, 2029), 354, 'O'), ('##ir', (2021, 2029), 354, 'O'), ('desde', (2030, 2035), 355, 'O'), ('hace', (2036, 2040), 356, 'O'), ('un', (2041, 2043), 357, 'O'), ('mes', (2044, 2047), 358, 'O'), ('bas', (2048, 2054), 359, 'O'), ('##tón', (2048, 2054), 359, 'O'), ('para', (2055, 2059), 360, 'O'), ('cam', (2060, 2067), 361, 'O'), ('##inar', (2060, 2067), 361, 'O'), ('y', (2068, 2069), 362, 'O'), ('haber', (2070, 2075), 363, 'O'), ('iniciado', (2076, 2084), 364, 'O'), ('tam', (2085, 2096), 365, 'O'), ('##sul', (2085, 2096), 365, 'O'), ('##osi', (2085, 2096), 365, 'O'), ('##na', (2085, 2096), 365, 'O'), ('una', (2097, 2100), 366, 'O'), ('semana', (2101, 2107), 367, 'O'), ('antes', (2108, 2113), 368, 'O'), ('por', (2114, 2117), 369, 'O'), ('pre', (2118, 2130), 370, 'O'), ('##sc', (2118, 2130), 370, 'O'), ('##rip', (2118, 2130), 370, 'O'), ('##ción', (2118, 2130), 370, 'O'), ('de', (2131, 2133), 371, 'O'), ('Ur', (2134, 2142), 372, 'O'), ('##ología', (2134, 2142), 372, 'O'), ('por', (2143, 2146), 373, 'O'), ('síndrome', (2147, 2155), 374, 'O'), ('pro', (2156, 2166), 375, 'O'), ('##st', (2156, 2166), 375, 'O'), ('##ático', (2156, 2166), 375, 'O'), ('.', (2166, 2167), 376, 'O')]\n",
      "\n",
      "\n",
      "[('Se', (2168, 2170), 377, 'O'), ('pau', (2171, 2176), 378, 'O'), ('##ta', (2171, 2176), 378, 'O'), ('tratamiento', (2177, 2188), 379, 'O'), ('de', (2189, 2191), 380, 'O'), ('semana', (2192, 2198), 381, 'O'), ('45', (2199, 2201), 382, 'O'), ('y', (2202, 2203), 383, 'O'), (',', (2203, 2204), 384, 'O'), ('por', (2205, 2208), 385, 'O'), ('dicha', (2209, 2214), 386, 'O'), ('clínica', (2215, 2222), 387, 'O'), (',', (2222, 2223), 388, 'O'), ('es', (2224, 2226), 389, 'O'), ('derivado', (2227, 2235), 390, 'O'), ('a', (2236, 2237), 391, 'O'), ('consulta', (2238, 2246), 392, 'O'), ('de', (2247, 2249), 393, 'O'), ('Of', (2250, 2262), 394, 'O'), ('##tal', (2250, 2262), 394, 'O'), ('##mol', (2250, 2262), 394, 'O'), ('##ogía', (2250, 2262), 394, 'O'), (',', (2262, 2263), 395, 'O'), ('donde', (2264, 2269), 396, 'O'), ('es', (2270, 2272), 397, 'O'), ('valor', (2273, 2281), 398, 'O'), ('##ado', (2273, 2281), 398, 'O'), ('el', (2282, 2284), 399, 'O'), ('10', (2285, 2287), 400, 'O'), ('/', (2287, 2288), 401, 'O'), ('10', (2288, 2290), 402, 'O'), ('/', (2290, 2291), 403, 'O'), ('2018', (2291, 2295), 404, 'O'), ('.', (2295, 2296), 405, 'O'), ('En', (2297, 2299), 406, 'O'), ('la', (2300, 2302), 407, 'O'), ('ex', (2303, 2314), 408, 'O'), ('##plo', (2303, 2314), 408, 'O'), ('##ración', (2303, 2314), 408, 'O'), ('ofta', (2315, 2328), 409, 'O'), ('##lm', (2315, 2328), 409, 'O'), ('##ológica', (2315, 2328), 409, 'O'), ('se', (2329, 2331), 410, 'O'), ('objet', (2332, 2340), 411, 'O'), ('##iva', (2332, 2340), 411, 'O'), ('ede', (2341, 2346), 412, 'O'), ('##ma', (2341, 2346), 412, 'O'), ('pa', (2347, 2354), 413, 'O'), ('##pila', (2347, 2354), 413, 'O'), ('##r', (2347, 2354), 413, 'O'), ('bila', (2355, 2364), 414, 'O'), ('##teral', (2355, 2364), 414, 'O'), (',', (2364, 2365), 415, 'O'), ('siendo', (2366, 2372), 416, 'O'), ('re', (2373, 2381), 417, 'O'), ('##mitido', (2373, 2381), 417, 'O'), ('a', (2382, 2383), 418, 'O'), ('Ur', (2384, 2393), 419, 'O'), ('##gen', (2384, 2393), 419, 'O'), ('##cias', (2384, 2393), 419, 'O'), ('para', (2394, 2398), 420, 'O'), ('valor', (2399, 2409), 421, 'O'), ('##ación', (2399, 2409), 421, 'O'), ('neu', (2410, 2421), 422, 'O'), ('##rol', (2410, 2421), 422, 'O'), ('##ógica', (2410, 2421), 422, 'O'), ('ur', (2422, 2429), 423, 'O'), ('##gente', (2422, 2429), 423, 'O'), ('.', (2429, 2430), 424, 'O'), ('Durante', (2431, 2438), 425, 'O'), ('la', (2439, 2441), 426, 'O'), ('ex', (2442, 2453), 427, 'O'), ('##plo', (2442, 2453), 427, 'O'), ('##ración', (2442, 2453), 427, 'O'), ('por', (2454, 2457), 428, 'O'), ('Neu', (2458, 2468), 429, 'O'), ('##rol', (2458, 2468), 429, 'O'), ('##ogía', (2458, 2468), 429, 'O'), ('de', (2469, 2471), 430, 'O'), ('guardia', (2472, 2479), 431, 'O'), (',', (2479, 2480), 432, 'O'), ('destaca', (2481, 2488), 433, 'O'), ('dé', (2489, 2496), 434, 'O'), ('##ficit', (2489, 2496), 434, 'O'), ('visual', (2497, 2503), 435, 'O'), ('sin', (2504, 2507), 436, 'O'), ('otras', (2508, 2513), 437, 'O'), ('alter', (2514, 2526), 438, 'O'), ('##aciones', (2514, 2526), 438, 'O'), ('destaca', (2527, 2538), 439, 'O'), ('##bles', (2527, 2538), 439, 'O'), ('.', (2538, 2539), 440, 'O'), ('Se', (2540, 2542), 441, 'O'), ('realiza', (2543, 2550), 442, 'O'), ('una', (2551, 2554), 443, 'O'), ('TC', (2555, 2557), 444, 'O'), ('de', (2558, 2560), 445, 'O'), ('c', (2561, 2567), 446, 'O'), ('##ráneo', (2561, 2567), 446, 'O'), ('con', (2568, 2571), 447, 'O'), ('contraste', (2572, 2581), 448, 'O'), ('sin', (2582, 2585), 449, 'O'), ('apre', (2586, 2596), 450, 'O'), ('##ciar', (2586, 2596), 450, 'O'), ('##se', (2586, 2596), 450, 'O'), ('les', (2597, 2605), 451, 'O'), ('##iones', (2597, 2605), 451, 'O'), ('focal', (2606, 2613), 452, 'O'), ('##es', (2606, 2613), 452, 'O'), ('.', (2613, 2614), 453, 'O'), ('Se', (2615, 2617), 454, 'O'), ('ori', (2618, 2625), 455, 'O'), ('##enta', (2618, 2625), 455, 'O'), ('como', (2626, 2630), 456, 'O'), ('posible', (2631, 2638), 457, 'O'), ('hip', (2639, 2651), 458, 'O'), ('##erten', (2639, 2651), 458, 'O'), ('##sión', (2639, 2651), 458, 'O'), ('intra', (2652, 2664), 459, 'O'), ('##cra', (2652, 2664), 459, 'O'), ('##nea', (2652, 2664), 459, 'O'), ('##l', (2652, 2664), 459, 'O'), ('vs', (2665, 2667), 460, 'O'), ('.', (2667, 2668), 461, 'O')]\n",
      "\n",
      "\n",
      "[('afecta', (2669, 2679), 462, 'O'), ('##ción', (2669, 2679), 462, 'O'), ('auto', (2680, 2690), 463, 'O'), ('##in', (2680, 2690), 463, 'O'), ('##mune', (2680, 2690), 463, 'O'), ('del', (2691, 2694), 464, 'O'), ('ner', (2695, 2701), 465, 'O'), ('##vio', (2695, 2701), 465, 'O'), ('ó', (2702, 2708), 466, 'O'), ('##ptic', (2702, 2708), 466, 'O'), ('##o', (2702, 2708), 466, 'O'), ('vs', (2709, 2711), 467, 'O'), ('.', (2711, 2712), 468, 'O'), ('menos', (2713, 2718), 469, 'O'), ('probable', (2719, 2727), 470, 'O'), ('farm', (2728, 2741), 471, 'O'), ('##aco', (2728, 2741), 471, 'O'), ('##lógico', (2728, 2741), 471, 'O'), ('sec', (2742, 2752), 472, 'O'), ('##unda', (2742, 2752), 472, 'O'), ('##rio', (2742, 2752), 472, 'O'), ('a', (2753, 2754), 473, 'O'), ('tam', (2755, 2766), 474, 'O'), ('##sul', (2755, 2766), 474, 'O'), ('##osi', (2755, 2766), 474, 'O'), ('##na', (2755, 2766), 474, 'O'), (',', (2766, 2767), 475, 'O'), ('ya', (2768, 2770), 476, 'O'), ('que', (2771, 2774), 477, 'O'), ('el', (2775, 2777), 478, 'O'), ('pa', (2778, 2788), 479, 'O'), ('##pil', (2778, 2788), 479, 'O'), ('##ede', (2778, 2788), 479, 'O'), ('##ma', (2778, 2788), 479, 'O'), ('bila', (2789, 2798), 480, 'O'), ('##teral', (2789, 2798), 480, 'O'), ('va', (2799, 2801), 481, 'O'), ('en', (2802, 2804), 482, 'O'), ('contra', (2805, 2811), 483, 'O'), ('de', (2812, 2814), 484, 'O'), ('dicha', (2815, 2820), 485, 'O'), ('et', (2821, 2830), 486, 'O'), ('##iol', (2821, 2830), 486, 'O'), ('##ogía', (2821, 2830), 486, 'O'), ('.', (2830, 2831), 487, 'O'), ('Finalmente', (2832, 2842), 488, 'O'), ('se', (2843, 2845), 489, 'O'), ('cursa', (2846, 2851), 490, 'O'), ('ingreso', (2852, 2859), 491, 'O'), ('a', (2860, 2861), 492, 'O'), ('cargo', (2862, 2867), 493, 'O'), ('de', (2868, 2870), 494, 'O'), ('On', (2871, 2880), 495, 'O'), ('##colo', (2871, 2880), 495, 'O'), ('##gía', (2871, 2880), 495, 'O'), ('M', (2881, 2887), 496, 'O'), ('##éd', (2881, 2887), 496, 'O'), ('##ica', (2881, 2887), 496, 'O'), ('con', (2888, 2891), 497, 'O'), ('fecha', (2892, 2897), 498, 'O'), ('del', (2898, 2901), 499, 'O'), ('11', (2902, 2904), 500, 'O'), ('/', (2904, 2905), 501, 'O'), ('10', (2905, 2907), 502, 'O'), ('/', (2907, 2908), 503, 'O'), ('2018', (2908, 2912), 504, 'O'), ('.', (2912, 2913), 505, 'O'), ('Ex', (2915, 2926), 506, 'O'), ('##plo', (2915, 2926), 506, 'O'), ('##ración', (2915, 2926), 506, 'O'), ('física', (2927, 2933), 507, 'O'), ('Bu', (2934, 2938), 508, 'O'), ('##en', (2934, 2938), 508, 'O'), ('estado', (2939, 2945), 509, 'O'), ('general', (2946, 2953), 510, 'O'), ('.', (2953, 2954), 511, 'O'), ('EC', (2955, 2960), 512, 'O'), ('##O', (2955, 2960), 512, 'O'), ('##G', (2955, 2960), 512, 'O'), ('##1', (2955, 2960), 512, 'O'), ('.', (2960, 2961), 513, 'O'), ('Pac', (2962, 2970), 514, 'O'), ('##iente', (2962, 2970), 514, 'O'), ('con', (2971, 2981), 515, 'O'), ('##sci', (2971, 2981), 515, 'O'), ('##ente', (2971, 2981), 515, 'O'), (',', (2981, 2982), 516, 'O'), ('ori', (2983, 2992), 517, 'O'), ('##entado', (2983, 2992), 517, 'O'), ('y', (2993, 2994), 518, 'O'), ('cola', (2995, 3006), 519, 'O'), ('##borado', (2995, 3006), 519, 'O'), ('##r', (2995, 3006), 519, 'O'), ('.', (3006, 3007), 520, 'O'), ('Eu', (3008, 3016), 521, 'O'), ('##pne', (3008, 3016), 521, 'O'), ('##ico', (3008, 3016), 521, 'O'), ('en', (3017, 3019), 522, 'O'), ('rep', (3020, 3026), 523, 'O'), ('##oso', (3020, 3026), 523, 'O'), (':', (3026, 3027), 524, 'O'), ('»', (3028, 3029), 525, 'O'), ('Aus', (3030, 3042), 526, 'O'), ('##cul', (3030, 3042), 526, 'O'), ('##tación', (3030, 3042), 526, 'O'), ('card', (3043, 3051), 527, 'O'), ('##iac', (3043, 3051), 527, 'O'), ('##a', (3043, 3051), 527, 'O'), (':', (3051, 3052), 528, 'O'), ('tono', (3053, 3058), 529, 'O'), ('##s', (3053, 3058), 529, 'O'), ('r', (3059, 3067), 530, 'O'), ('##ít', (3059, 3067), 530, 'O'), ('##micos', (3059, 3067), 530, 'O'), ('y', (3068, 3069), 531, 'O'), ('regulares', (3070, 3079), 532, 'O'), ('.', (3079, 3080), 533, 'O')]\n",
      "\n",
      "\n",
      "[('»', (3081, 3082), 534, 'O'), ('Aus', (3083, 3095), 535, 'O'), ('##cul', (3083, 3095), 535, 'O'), ('##tación', (3083, 3095), 535, 'O'), ('pu', (3096, 3104), 536, 'O'), ('##lm', (3096, 3104), 536, 'O'), ('##onar', (3096, 3104), 536, 'O'), (':', (3104, 3105), 537, 'O'), ('MV', (3106, 3109), 538, 'O'), ('##C', (3106, 3109), 538, 'O'), ('.', (3109, 3110), 539, 'O'), ('»', (3111, 3112), 540, 'O'), ('Ex', (3113, 3124), 541, 'O'), ('##plo', (3113, 3124), 541, 'O'), ('##ración', (3113, 3124), 541, 'O'), ('ab', (3125, 3134), 542, 'O'), ('##dom', (3125, 3134), 542, 'O'), ('##inal', (3125, 3134), 542, 'O'), (':', (3134, 3135), 543, 'O'), ('gran', (3136, 3140), 544, 'O'), ('her', (3141, 3147), 545, 'O'), ('##nia', (3141, 3147), 545, 'O'), ('de', (3148, 3150), 546, 'O'), ('pare', (3151, 3156), 547, 'O'), ('##d', (3151, 3156), 547, 'O'), ('ab', (3157, 3166), 548, 'O'), ('##dom', (3157, 3166), 548, 'O'), ('##inal', (3157, 3166), 548, 'O'), ('tras', (3167, 3171), 549, 'O'), ('ci', (3172, 3179), 550, 'O'), ('##rug', (3172, 3179), 550, 'O'), ('##ía', (3172, 3179), 550, 'O'), ('.', (3179, 3180), 551, 'O'), ('No', (3181, 3183), 552, 'O'), ('es', (3184, 3186), 553, 'O'), ('dolor', (3187, 3195), 554, 'O'), ('##oso', (3187, 3195), 554, 'O'), ('durante', (3196, 3203), 555, 'O'), ('la', (3204, 3206), 556, 'O'), ('pal', (3207, 3216), 557, 'O'), ('##pación', (3207, 3216), 557, 'O'), ('.', (3216, 3217), 558, 'O'), ('No', (3218, 3220), 559, 'O'), ('pal', (3221, 3229), 560, 'O'), ('##pa', (3221, 3229), 560, 'O'), ('##mos', (3221, 3229), 560, 'O'), ('masas', (3230, 3235), 561, 'O'), ('ni', (3236, 3238), 562, 'O'), ('meg', (3239, 3247), 563, 'O'), ('##alia', (3239, 3247), 563, 'O'), ('##s', (3239, 3247), 563, 'O'), ('.', (3247, 3248), 564, 'O'), ('Sin', (3249, 3252), 565, 'O'), ('sign', (3253, 3259), 566, 'O'), ('##os', (3253, 3259), 566, 'O'), ('de', (3260, 3262), 567, 'O'), ('ir', (3263, 3273), 568, 'O'), ('##rita', (3263, 3273), 568, 'O'), ('##ción', (3263, 3273), 568, 'O'), ('per', (3274, 3284), 569, 'O'), ('##iton', (3274, 3284), 569, 'O'), ('##eal', (3274, 3284), 569, 'O'), ('.', (3284, 3285), 570, 'O'), ('»', (3286, 3287), 571, 'O'), ('Ex', (3288, 3300), 572, 'O'), ('##trem', (3288, 3300), 572, 'O'), ('##idades', (3288, 3300), 572, 'O'), ('inferiores', (3301, 3311), 573, 'O'), (':', (3311, 3312), 574, 'O'), ('sin', (3313, 3316), 575, 'O'), ('ede', (3317, 3323), 576, 'O'), ('##mas', (3317, 3323), 576, 'O'), ('.', (3323, 3324), 577, 'O'), ('Sin', (3325, 3328), 578, 'O'), ('em', (3329, 3342), 579, 'O'), ('##pas', (3329, 3342), 579, 'O'), ('##tami', (3329, 3342), 579, 'O'), ('##ento', (3329, 3342), 579, 'O'), ('ge', (3343, 3350), 580, 'O'), ('##mel', (3343, 3350), 580, 'O'), ('##ar', (3343, 3350), 580, 'O'), ('.', (3350, 3351), 581, 'O'), ('»', (3352, 3353), 582, 'O'), ('Ex', (3354, 3365), 583, 'O'), ('##plo', (3354, 3365), 583, 'O'), ('##ración', (3354, 3365), 583, 'O'), ('neu', (3366, 3377), 584, 'O'), ('##rol', (3366, 3377), 584, 'O'), ('##ógica', (3366, 3377), 584, 'O'), (':', (3377, 3378), 585, 'O'), ('lenguaje', (3379, 3387), 586, 'O'), ('bien', (3388, 3392), 587, 'O'), ('arti', (3393, 3403), 588, 'O'), ('##cula', (3393, 3403), 588, 'O'), ('##do', (3393, 3403), 588, 'O'), (',', (3403, 3404), 589, 'O'), ('co', (3405, 3414), 590, 'O'), ('##herent', (3405, 3414), 590, 'O'), ('##e', (3405, 3414), 590, 'O'), ('en', (3415, 3417), 591, 'O'), ('contenido', (3418, 3427), 592, 'O'), ('con', (3428, 3431), 593, 'O'), ('barre', (3432, 3439), 594, 'O'), ('##ra', (3432, 3439), 594, 'O'), ('idi', (3440, 3450), 595, 'O'), ('##om', (3440, 3450), 595, 'O'), ('##ática', (3440, 3450), 595, 'O'), ('.', (3450, 3451), 596, 'O'), ('Sin', (3452, 3455), 597, 'O'), ('alter', (3456, 3468), 598, 'O'), ('##aciones', (3456, 3468), 598, 'O'), ('en', (3469, 3471), 599, 'O'), ('la', (3472, 3474), 600, 'O'), ('producción', (3475, 3485), 601, 'O'), ('.', (3485, 3486), 602, 'O')]\n",
      "\n",
      "\n",
      "[('Re', (3487, 3494), 603, 'O'), ('##f', (3487, 3494), 603, 'O'), ('##lej', (3487, 3494), 603, 'O'), ('##o', (3487, 3494), 603, 'O'), ('o', (3495, 3505), 604, 'O'), ('##culo', (3495, 3505), 604, 'O'), ('##motor', (3495, 3505), 604, 'O'), ('derecho', (3506, 3513), 605, 'O'), ('ab', (3514, 3521), 606, 'O'), ('##oli', (3514, 3521), 606, 'O'), ('##do', (3514, 3521), 606, 'O'), (',', (3521, 3522), 607, 'O'), ('sin', (3523, 3526), 608, 'O'), ('otras', (3527, 3532), 609, 'O'), ('focal', (3533, 3542), 610, 'O'), ('##idad', (3533, 3542), 610, 'O'), ('aparente', (3543, 3552), 611, 'O'), ('##s', (3543, 3552), 611, 'O'), ('a', (3553, 3554), 612, 'O'), ('nivel', (3555, 3560), 613, 'O'), ('de', (3561, 3563), 614, 'O'), ('pares', (3564, 3569), 615, 'O'), ('c', (3570, 3579), 616, 'O'), ('##rane', (3570, 3579), 616, 'O'), ('##ales', (3570, 3579), 616, 'O'), (',', (3579, 3580), 617, 'O'), ('vías', (3581, 3585), 618, 'O'), ('sens', (3586, 3596), 619, 'O'), ('##itiva', (3586, 3596), 619, 'O'), ('##s', (3586, 3596), 619, 'O'), ('o', (3597, 3598), 620, 'O'), ('motora', (3599, 3606), 621, 'O'), ('##s', (3599, 3606), 621, 'O'), ('.', (3606, 3607), 622, 'O'), ('Fuerza', (3608, 3614), 623, 'O'), ('conserva', (3615, 3625), 624, 'O'), ('##da', (3615, 3625), 624, 'O'), ('sim', (3626, 3635), 625, 'O'), ('##étrica', (3626, 3635), 625, 'O'), ('bila', (3636, 3645), 626, 'O'), ('##teral', (3636, 3645), 626, 'O'), ('5', (3646, 3647), 627, 'O'), ('/', (3647, 3648), 628, 'O'), ('5', (3648, 3649), 629, 'O'), ('de', (3650, 3652), 630, 'O'), ('las', (3653, 3656), 631, 'O'), ('extrem', (3657, 3669), 632, 'O'), ('##idades', (3657, 3669), 632, 'O'), ('.', (3669, 3670), 633, 'O'), ('March', (3671, 3677), 634, 'O'), ('##a', (3671, 3677), 634, 'O'), ('con', (3678, 3681), 635, 'O'), ('aumento', (3682, 3689), 636, 'O'), ('de', (3690, 3692), 637, 'O'), ('la', (3693, 3695), 638, 'O'), ('base', (3696, 3700), 639, 'O'), ('de', (3701, 3703), 640, 'O'), ('la', (3704, 3706), 641, 'O'), ('sus', (3707, 3719), 642, 'O'), ('##tent', (3707, 3719), 642, 'O'), ('##ación', (3707, 3719), 642, 'O'), ('.', (3719, 3720), 643, 'O'), ('Pr', (3722, 3729), 644, 'O'), ('##ue', (3722, 3729), 644, 'O'), ('##bas', (3722, 3729), 644, 'O'), ('complement', (3730, 3745), 645, 'O'), ('##arias', (3730, 3745), 645, 'O'), ('Pre', (3746, 3753), 646, 'O'), ('##sión', (3746, 3753), 646, 'O'), ('de', (3754, 3756), 647, 'O'), ('líquido', (3757, 3764), 648, 'O'), ('ce', (3765, 3780), 649, 'O'), ('##fal', (3765, 3780), 649, 'O'), ('##or', (3765, 3780), 649, 'O'), ('##raq', (3765, 3780), 649, 'O'), ('##u', (3765, 3780), 649, 'O'), ('##íd', (3765, 3780), 649, 'O'), ('##eo', (3765, 3780), 649, 'O'), ('(', (3781, 3782), 650, 'O'), ('LC', (3782, 3785), 651, 'O'), ('##R', (3782, 3785), 651, 'O'), (')', (3785, 3786), 652, 'O'), (':', (3786, 3787), 653, 'O'), ('»', (3788, 3789), 654, 'O'), ('Dentro', (3790, 3796), 655, 'O'), ('de', (3797, 3799), 656, 'O'), ('los', (3800, 3803), 657, 'O'), ('límites', (3804, 3811), 658, 'O'), ('de', (3812, 3814), 659, 'O'), ('la', (3815, 3817), 660, 'O'), ('normal', (3818, 3828), 661, 'O'), ('##idad', (3818, 3828), 661, 'O'), ('.', (3828, 3829), 662, 'O')]\n",
      "\n",
      "\n",
      "[('Bio', (3830, 3840), 663, 'O'), ('##quí', (3830, 3840), 663, 'O'), ('##mica', (3830, 3840), 663, 'O'), ('de', (3841, 3843), 664, 'O'), ('LC', (3844, 3847), 665, 'O'), ('##R', (3844, 3847), 665, 'O'), ('»', (3848, 3849), 666, 'O'), ('Le', (3850, 3860), 667, 'O'), ('##uco', (3850, 3860), 667, 'O'), ('##cito', (3850, 3860), 667, 'O'), ('##s', (3850, 3860), 667, 'O'), ('(', (3861, 3862), 668, 'O'), ('re', (3862, 3870), 669, 'O'), ('##cu', (3862, 3870), 669, 'O'), ('##ento', (3862, 3870), 669, 'O'), (';', (3870, 3871), 670, 'O'), ('LC', (3872, 3875), 671, 'O'), ('##R', (3872, 3875), 671, 'O'), (')', (3875, 3876), 672, 'O'), ('18', (3877, 3879), 673, 'O'), ('le', (3880, 3883), 674, 'O'), ('##u', (3880, 3883), 674, 'O'), ('/', (3883, 3884), 675, 'O'), ('Μ', (3884, 3885), 676, 'O'), ('l', (3886, 3887), 677, 'O'), ('.', (3887, 3888), 678, 'O'), ('»', (3889, 3890), 679, 'O'), ('Pol', (3891, 3909), 680, 'O'), ('##imo', (3891, 3909), 680, 'O'), ('##rf', (3891, 3909), 680, 'O'), ('##onu', (3891, 3909), 680, 'O'), ('##cle', (3891, 3909), 680, 'O'), ('##ares', (3891, 3909), 680, 'O'), ('(', (3910, 3911), 681, 'O'), ('por', (3911, 3921), 682, 'O'), ('##cent', (3911, 3921), 682, 'O'), ('##aje', (3911, 3921), 682, 'O'), (';', (3921, 3922), 683, 'O'), ('LC', (3923, 3926), 684, 'O'), ('##R', (3923, 3926), 684, 'O'), (')', (3926, 3927), 685, 'O'), ('10', (3928, 3930), 686, 'O'), ('%', (3931, 3932), 687, 'O'), ('.', (3932, 3933), 688, 'O'), ('»', (3934, 3935), 689, 'O'), ('Mono', (3936, 3949), 690, 'O'), ('##nu', (3936, 3949), 690, 'O'), ('##cle', (3936, 3949), 690, 'O'), ('##ares', (3936, 3949), 690, 'O'), ('(', (3950, 3951), 691, 'O'), ('por', (3951, 3961), 692, 'O'), ('##cent', (3951, 3961), 692, 'O'), ('##aje', (3951, 3961), 692, 'O'), (';', (3961, 3962), 693, 'O'), ('LC', (3963, 3966), 694, 'O'), ('##R', (3963, 3966), 694, 'O'), (')', (3966, 3967), 695, 'O'), ('90', (3968, 3970), 696, 'O'), ('%', (3971, 3972), 697, 'O'), ('.', (3972, 3973), 698, 'O'), ('»', (3974, 3975), 699, 'O'), ('He', (3976, 3984), 700, 'O'), ('##mat', (3976, 3984), 700, 'O'), ('##íes', (3976, 3984), 700, 'O'), ('(', (3985, 3986), 701, 'O'), ('re', (3986, 3994), 702, 'O'), ('##cu', (3986, 3994), 702, 'O'), ('##ento', (3986, 3994), 702, 'O'), (';', (3994, 3995), 703, 'O'), ('LC', (3996, 3999), 704, 'O'), ('##R', (3996, 3999), 704, 'O'), (')', (3999, 4000), 705, 'O'), ('3', (4001, 4002), 706, 'O'), ('hem', (4003, 4006), 707, 'O'), ('/', (4006, 4007), 708, 'O'), ('μ', (4007, 4009), 709, 'O'), ('##l', (4007, 4009), 709, 'O'), ('.', (4009, 4010), 710, 'O'), ('»', (4011, 4012), 711, 'O'), ('G', (4013, 4020), 712, 'O'), ('##lu', (4013, 4020), 712, 'O'), ('##cosa', (4013, 4020), 712, 'O'), ('(', (4021, 4022), 713, 'O'), ('LC', (4022, 4025), 714, 'O'), ('##R', (4022, 4025), 714, 'O'), (')', (4025, 4026), 715, 'O'), ('50', (4027, 4029), 716, 'O'), ('mg', (4030, 4032), 717, 'O'), ('/', (4032, 4033), 718, 'O'), ('dl', (4033, 4035), 719, 'O'), ('.', (4035, 4036), 720, 'O'), ('»', (4037, 4038), 721, 'O'), ('Pro', (4039, 4048), 722, 'O'), ('##te', (4039, 4048), 722, 'O'), ('##ína', (4039, 4048), 722, 'O'), ('##s', (4039, 4048), 722, 'O'), ('(', (4049, 4050), 723, 'O'), ('LC', (4050, 4053), 724, 'O'), ('##R', (4050, 4053), 724, 'O'), (')', (4053, 4054), 725, 'O'), ('77', (4055, 4057), 726, 'O'), (',', (4057, 4058), 727, 'O'), ('9', (4058, 4059), 728, 'O'), ('mg', (4060, 4062), 729, 'O'), ('/', (4062, 4063), 730, 'O'), ('dl', (4063, 4065), 731, 'O'), ('.', (4065, 4066), 732, 'O'), ('»', (4067, 4068), 733, 'O'), ('Lac', (4069, 4076), 734, 'O'), ('##tato', (4069, 4076), 734, 'O'), ('(', (4077, 4078), 735, 'O'), ('LC', (4078, 4081), 736, 'O'), ('##R', (4078, 4081), 736, 'O'), (')', (4081, 4082), 737, 'O'), ('2', (4083, 4084), 738, 'O'), (',', (4084, 4085), 739, 'O'), ('7', (4085, 4086), 740, 'O'), ('mm', (4087, 4091), 741, 'O'), ('##ol', (4087, 4091), 741, 'O'), ('/', (4091, 4092), 742, 'O'), ('l', (4092, 4093), 743, 'O'), ('.', (4093, 4094), 744, 'O')]\n",
      "\n",
      "\n",
      "[('Res', (4095, 4105), 745, 'O'), ('##onan', (4095, 4105), 745, 'O'), ('##cia', (4095, 4105), 745, 'O'), ('mag', (4106, 4115), 746, 'O'), ('##nética', (4106, 4115), 746, 'O'), ('(', (4116, 4117), 747, 'O'), ('RM', (4117, 4119), 748, 'O'), (')', (4119, 4120), 749, 'O'), ('nuclear', (4121, 4128), 750, 'O'), ('de', (4129, 4131), 751, 'O'), ('c', (4132, 4138), 752, 'O'), ('##ráneo', (4132, 4138), 752, 'O'), ('con', (4139, 4142), 753, 'O'), ('contraste', (4143, 4152), 754, 'O'), ('»', (4153, 4154), 755, 'O'), ('Se', (4155, 4157), 756, 'O'), ('realiza', (4158, 4165), 757, 'O'), ('RM', (4166, 4168), 758, 'O'), ('c', (4169, 4175), 759, 'O'), ('##ráneo', (4169, 4175), 759, 'O'), ('sin', (4176, 4179), 760, 'O'), ('y', (4180, 4181), 761, 'O'), ('con', (4182, 4185), 762, 'O'), ('contraste', (4186, 4195), 763, 'O'), ('i', (4196, 4197), 764, 'O'), ('.', (4197, 4198), 765, 'O'), ('v', (4198, 4199), 766, 'O'), ('.', (4199, 4200), 767, 'O'), ('y', (4201, 4202), 768, 'O'), ('ang', (4203, 4208), 769, 'O'), ('##io', (4203, 4208), 769, 'O'), ('-', (4208, 4209), 770, 'O'), ('RM', (4209, 4211), 771, 'O'), ('de', (4212, 4214), 772, 'O'), ('seno', (4215, 4220), 773, 'O'), ('##s', (4215, 4220), 773, 'O'), ('ven', (4221, 4228), 774, 'O'), ('##osos', (4221, 4228), 774, 'O'), ('.', (4228, 4229), 775, 'O'), ('»', (4230, 4231), 776, 'O'), ('El', (4232, 4234), 777, 'O'), ('paciente', (4235, 4243), 778, 'O'), ('le', (4244, 4247), 779, 'O'), ('##e', (4244, 4247), 779, 'O'), ('y', (4248, 4249), 780, 'O'), ('firma', (4250, 4255), 781, 'O'), ('el', (4256, 4258), 782, 'O'), ('C', (4259, 4261), 783, 'O'), ('##I', (4259, 4261), 783, 'O'), ('.', (4261, 4262), 784, 'O'), ('Sin', (4263, 4266), 785, 'O'), ('ale', (4267, 4275), 786, 'O'), ('##rgia', (4267, 4275), 786, 'O'), ('##s', (4267, 4275), 786, 'O'), ('.', (4275, 4276), 787, 'O'), ('»', (4277, 4278), 788, 'O'), ('En', (4279, 4281), 789, 'O'), ('el', (4282, 4284), 790, 'O'), ('estudio', (4285, 4292), 791, 'O'), ('realizado', (4293, 4302), 792, 'O'), ('se', (4303, 4305), 793, 'O'), ('observa', (4306, 4313), 794, 'O'), ('una', (4314, 4317), 795, 'O'), ('hip', (4318, 4333), 796, 'O'), ('##erin', (4318, 4333), 796, 'O'), ('##tens', (4318, 4333), 796, 'O'), ('##idad', (4318, 4333), 796, 'O'), ('en', (4334, 4336), 797, 'O'), ('secuencia', (4337, 4347), 798, 'O'), ('##s', (4337, 4347), 798, 'O'), ('T2', (4348, 4350), 799, 'O'), ('-', (4350, 4351), 800, 'O'), ('FL', (4351, 4356), 801, 'O'), ('##A', (4351, 4356), 801, 'O'), ('##IR', (4351, 4356), 801, 'O'), ('de', (4357, 4359), 802, 'O'), ('la', (4360, 4362), 803, 'O'), ('por', (4363, 4370), 804, 'O'), ('##ción', (4363, 4370), 804, 'O'), ('media', (4371, 4377), 805, 'O'), ('##l', (4371, 4377), 805, 'O'), ('de', (4378, 4380), 806, 'O'), ('tá', (4381, 4388), 807, 'O'), ('##lam', (4381, 4388), 807, 'O'), ('##os', (4381, 4388), 807, 'O'), ('y', (4389, 4390), 808, 'O'), ('com', (4391, 4399), 809, 'O'), ('##isu', (4391, 4399), 809, 'O'), ('##ra', (4391, 4399), 809, 'O'), ('anterior', (4400, 4408), 810, 'O'), ('bila', (4409, 4418), 811, 'O'), ('##teral', (4409, 4418), 811, 'O'), ('.', (4418, 4419), 812, 'O')]\n",
      "\n",
      "\n",
      "[('También', (4420, 4427), 813, 'O'), ('están', (4428, 4433), 814, 'O'), ('afecta', (4434, 4441), 815, 'O'), ('##s', (4434, 4441), 815, 'O'), ('ambas', (4442, 4447), 816, 'O'), ('cabeza', (4448, 4455), 817, 'O'), ('##s', (4448, 4455), 817, 'O'), ('de', (4456, 4458), 818, 'O'), ('ca', (4459, 4466), 819, 'O'), ('##uda', (4459, 4466), 819, 'O'), ('##do', (4459, 4466), 819, 'O'), ('(', (4467, 4468), 820, 'O'), ('más', (4468, 4471), 821, 'O'), ('llama', (4472, 4481), 822, 'O'), ('##tivo', (4472, 4481), 822, 'O'), ('en', (4482, 4484), 823, 'O'), ('el', (4485, 4487), 824, 'O'), ('lado', (4488, 4492), 825, 'O'), ('izquierdo', (4493, 4502), 826, 'O'), (')', (4502, 4503), 827, 'O'), ('y', (4504, 4505), 828, 'O'), ('parece', (4506, 4512), 829, 'O'), ('que', (4513, 4516), 830, 'O'), ('parte', (4517, 4522), 831, 'O'), ('anterior', (4523, 4531), 832, 'O'), ('de', (4532, 4534), 833, 'O'), ('las', (4535, 4538), 834, 'O'), ('ci', (4539, 4548), 835, 'O'), ('##nti', (4539, 4548), 835, 'O'), ('##llas', (4539, 4548), 835, 'O'), ('ó', (4549, 4556), 836, 'O'), ('##ptica', (4549, 4556), 836, 'O'), ('##s', (4549, 4556), 836, 'O'), ('.', (4556, 4557), 837, 'O'), ('Las', (4558, 4561), 838, 'O'), ('les', (4562, 4570), 839, 'O'), ('##iones', (4562, 4570), 839, 'O'), ('ni', (4571, 4573), 840, 'O'), ('presentan', (4574, 4583), 841, 'O'), ('una', (4584, 4587), 842, 'O'), ('clara', (4588, 4593), 843, 'O'), ('rest', (4594, 4605), 844, 'O'), ('##ric', (4594, 4605), 844, 'O'), ('##ción', (4594, 4605), 844, 'O'), ('a', (4606, 4607), 845, 'O'), ('la', (4608, 4610), 846, 'O'), ('difusión', (4611, 4619), 847, 'O'), ('ni', (4620, 4622), 848, 'O'), ('muestran', (4623, 4631), 849, 'O'), ('cap', (4632, 4641), 850, 'O'), ('##tación', (4632, 4641), 850, 'O'), ('de', (4642, 4644), 851, 'O'), ('contraste', (4645, 4654), 852, 'O'), ('i', (4655, 4656), 853, 'O'), ('.', (4656, 4657), 854, 'O'), ('v', (4657, 4658), 855, 'O'), ('.', (4658, 4659), 856, 'O'), ('Los', (4660, 4663), 857, 'O'), ('hall', (4664, 4673), 858, 'O'), ('##azgo', (4664, 4673), 858, 'O'), ('##s', (4664, 4673), 858, 'O'), ('de', (4674, 4676), 859, 'O'), ('imagen', (4677, 4683), 860, 'O'), ('plante', (4684, 4692), 861, 'O'), ('##an', (4684, 4692), 861, 'O'), ('como', (4693, 4697), 862, 'O'), ('primera', (4698, 4705), 863, 'O'), ('posibilidad', (4706, 4717), 864, 'O'), ('que', (4718, 4721), 865, 'O'), ('se', (4722, 4724), 866, 'O'), ('trat', (4725, 4730), 867, 'O'), ('##e', (4725, 4730), 867, 'O'), ('de', (4731, 4733), 868, 'O'), ('les', (4734, 4742), 869, 'O'), ('##iones', (4734, 4742), 869, 'O'), ('in', (4743, 4756), 870, 'O'), ('##f', (4743, 4756), 870, 'O'), ('##lama', (4743, 4756), 870, 'O'), ('##toria', (4743, 4756), 870, 'O'), ('##s', (4743, 4756), 870, 'O'), ('que', (4757, 4760), 871, 'O'), ('en', (4761, 4763), 872, 'O'), ('el', (4764, 4766), 873, 'O'), ('contexto', (4767, 4775), 874, 'O'), ('del', (4776, 4779), 875, 'O'), ('paciente', (4780, 4788), 876, 'O'), ('pudiera', (4789, 4797), 877, 'O'), ('##n', (4789, 4797), 877, 'O'), ('ser', (4798, 4801), 878, 'O'), ('para', (4802, 4816), 879, 'O'), ('##neo', (4802, 4816), 879, 'O'), ('##pl', (4802, 4816), 879, 'O'), ('##ási', (4802, 4816), 879, 'O'), ('##ca', (4802, 4816), 879, 'O'), ('o', (4817, 4818), 880, 'O'), ('auto', (4819, 4829), 881, 'O'), ('##in', (4819, 4829), 881, 'O'), ('##mune', (4819, 4829), 881, 'O'), ('.', (4829, 4830), 882, 'O')]\n",
      "\n",
      "\n",
      "[('Pot', (4831, 4842), 883, 'O'), ('##encia', (4831, 4842), 883, 'O'), ('##les', (4831, 4842), 883, 'O'), ('evo', (4843, 4851), 884, 'O'), ('##cados', (4843, 4851), 884, 'O'), ('visual', (4852, 4860), 885, 'O'), ('##es', (4852, 4860), 885, 'O'), ('Come', (4861, 4872), 886, 'O'), ('##ntarios', (4861, 4872), 886, 'O'), (':', (4872, 4873), 887, 'O'), ('PE', (4874, 4877), 888, 'O'), ('##V', (4874, 4877), 888, 'O'), ('a', (4878, 4879), 889, 'O'), ('la', (4880, 4882), 890, 'O'), ('esti', (4883, 4895), 891, 'O'), ('##mula', (4883, 4895), 891, 'O'), ('##ción', (4883, 4895), 891, 'O'), ('del', (4896, 4899), 892, 'O'), ('ojo', (4900, 4903), 893, 'O'), ('derecho', (4904, 4911), 894, 'O'), ('e', (4912, 4913), 895, 'O'), ('izquierdo', (4914, 4923), 896, 'O'), ('de', (4924, 4926), 897, 'O'), ('mor', (4927, 4937), 898, 'O'), ('##fo', (4927, 4937), 898, 'O'), ('##logía', (4927, 4937), 898, 'O'), ('normal', (4938, 4944), 899, 'O'), (',', (4944, 4945), 900, 'O'), ('am', (4946, 4954), 901, 'O'), ('##pli', (4946, 4954), 901, 'O'), ('##tud', (4946, 4954), 901, 'O'), ('dis', (4955, 4965), 902, 'O'), ('##min', (4955, 4965), 902, 'O'), ('##uida', (4955, 4965), 902, 'O'), ('y', (4966, 4967), 903, 'O'), ('laten', (4968, 4976), 904, 'O'), ('##cia', (4968, 4976), 904, 'O'), ('P', (4977, 4981), 905, 'O'), ('##100', (4977, 4981), 905, 'O'), (',', (4981, 4982), 906, 'O'), ('para', (4983, 4987), 907, 'O'), ('el', (4988, 4990), 908, 'O'), ('ojo', (4991, 4994), 909, 'O'), ('derecho', (4995, 5002), 910, 'O'), ('pro', (5003, 5013), 911, 'O'), ('##long', (5003, 5013), 911, 'O'), ('##ada', (5003, 5013), 911, 'O'), ('y', (5014, 5015), 912, 'O'), ('para', (5016, 5020), 913, 'O'), ('el', (5021, 5023), 914, 'O'), ('ojo', (5024, 5027), 915, 'O'), ('izquierdo', (5028, 5037), 916, 'O'), (',', (5037, 5038), 917, 'O'), ('en', (5039, 5041), 918, 'O'), ('el', (5042, 5044), 919, 'O'), ('límite', (5045, 5051), 920, 'O'), ('de', (5052, 5054), 921, 'O'), ('la', (5055, 5057), 922, 'O'), ('normal', (5058, 5068), 923, 'O'), ('##idad', (5058, 5068), 923, 'O'), ('.', (5068, 5069), 924, 'O'), ('Con', (5070, 5082), 925, 'O'), ('##clusion', (5070, 5082), 925, 'O'), ('##es', (5070, 5082), 925, 'O'), (':', (5082, 5083), 926, 'O'), ('los', (5084, 5087), 927, 'O'), ('hall', (5088, 5097), 928, 'O'), ('##azgo', (5088, 5097), 928, 'O'), ('##s', (5088, 5097), 928, 'O'), ('en', (5098, 5100), 929, 'O'), ('los', (5101, 5104), 930, 'O'), ('PE', (5105, 5108), 931, 'O'), ('##V', (5105, 5108), 931, 'O'), ('son', (5109, 5112), 932, 'O'), ('compatible', (5113, 5124), 933, 'O'), ('##s', (5113, 5124), 933, 'O'), ('con', (5125, 5128), 934, 'O'), ('una', (5129, 5132), 935, 'O'), ('alter', (5133, 5143), 936, 'O'), ('##ación', (5133, 5143), 936, 'O'), ('de', (5144, 5146), 937, 'O'), ('con', (5147, 5157), 938, 'O'), ('##ducción', (5147, 5157), 938, 'O'), ('de', (5158, 5160), 939, 'O'), ('ambas', (5161, 5166), 940, 'O'), ('vías', (5167, 5171), 941, 'O'), ('visual', (5172, 5180), 942, 'O'), ('##es', (5172, 5180), 942, 'O'), (',', (5180, 5181), 943, 'O'), ('de', (5182, 5184), 944, 'O'), ('tipo', (5185, 5189), 945, 'O'), ('des', (5190, 5205), 946, 'O'), ('##mie', (5190, 5205), 946, 'O'), ('##lini', (5190, 5205), 946, 'O'), ('##zan', (5190, 5205), 946, 'O'), ('##te', (5190, 5205), 946, 'O'), ('(', (5206, 5207), 947, 'O'), ('con', (5207, 5210), 948, 'O'), ('posible', (5211, 5218), 949, 'O'), ('bloque', (5219, 5226), 950, 'O'), ('##o', (5219, 5226), 950, 'O'), ('de', (5227, 5229), 951, 'O'), ('la', (5230, 5232), 952, 'O'), ('con', (5233, 5243), 953, 'O'), ('##ducción', (5233, 5243), 953, 'O'), (')', (5243, 5244), 954, 'O'), ('.', (5244, 5245), 955, 'O')]\n",
      "\n",
      "\n",
      "[('Ser', (5246, 5255), 956, 'O'), ('##ología', (5246, 5255), 956, 'O'), ('in', (5256, 5266), 957, 'O'), ('##fe', (5256, 5266), 957, 'O'), ('##ccio', (5256, 5266), 957, 'O'), ('##sa', (5256, 5266), 957, 'O'), ('de', (5267, 5269), 958, 'O'), ('LC', (5270, 5273), 959, 'O'), ('##R', (5270, 5273), 959, 'O'), ('»', (5274, 5275), 960, 'O'), ('V', (5276, 5280), 961, 'O'), ('##D', (5276, 5280), 961, 'O'), ('##R', (5276, 5280), 961, 'O'), ('##L', (5276, 5280), 961, 'O'), ('en', (5281, 5283), 962, 'O'), ('líquido', (5284, 5291), 963, 'O'), ('ce', (5292, 5307), 964, 'O'), ('##fal', (5292, 5307), 964, 'O'), ('##or', (5292, 5307), 964, 'O'), ('##raq', (5292, 5307), 964, 'O'), ('##u', (5292, 5307), 964, 'O'), ('##íd', (5292, 5307), 964, 'O'), ('##eo', (5292, 5307), 964, 'O'), ('negativo', (5308, 5316), 965, 'O'), ('.', (5316, 5317), 966, 'O'), ('»', (5318, 5319), 967, 'O'), ('F', (5320, 5323), 968, 'O'), ('##TA', (5320, 5323), 968, 'O'), ('en', (5324, 5326), 969, 'O'), ('líquido', (5327, 5334), 970, 'O'), ('ce', (5335, 5350), 971, 'O'), ('##fal', (5335, 5350), 971, 'O'), ('##or', (5335, 5350), 971, 'O'), ('##raq', (5335, 5350), 971, 'O'), ('##u', (5335, 5350), 971, 'O'), ('##íd', (5335, 5350), 971, 'O'), ('##eo', (5335, 5350), 971, 'O'), ('negativo', (5351, 5359), 972, 'O'), ('.', (5359, 5360), 973, 'O'), ('»', (5361, 5362), 974, 'O'), ('Bo', (5363, 5371), 975, 'O'), ('##rre', (5363, 5371), 975, 'O'), ('##lia', (5363, 5371), 975, 'O'), ('bu', (5372, 5383), 976, 'O'), ('##rg', (5372, 5383), 976, 'O'), ('##dorf', (5372, 5383), 976, 'O'), ('##eri', (5372, 5383), 976, 'O'), ('I', (5384, 5387), 977, 'O'), ('##g', (5384, 5387), 977, 'O'), ('##G', (5384, 5387), 977, 'O'), ('negativo', (5388, 5396), 978, 'O'), ('.', (5396, 5397), 979, 'O'), ('»', (5398, 5399), 980, 'O'), ('Bo', (5400, 5408), 981, 'O'), ('##rre', (5400, 5408), 981, 'O'), ('##lia', (5400, 5408), 981, 'O'), ('bu', (5409, 5420), 982, 'O'), ('##rg', (5409, 5420), 982, 'O'), ('##dorf', (5409, 5420), 982, 'O'), ('##eri', (5409, 5420), 982, 'O'), ('I', (5421, 5424), 983, 'O'), ('##g', (5421, 5424), 983, 'O'), ('##M', (5421, 5424), 983, 'O'), ('negativo', (5425, 5433), 984, 'O'), ('.', (5433, 5434), 985, 'O'), ('»', (5435, 5436), 986, 'O'), ('A', (5437, 5439), 987, 'O'), ('##c', (5437, 5439), 987, 'O'), ('.', (5439, 5440), 988, 'O'), ('anti', (5441, 5445), 989, 'O'), ('cit', (5446, 5461), 990, 'O'), ('##ome', (5446, 5461), 990, 'O'), ('##gal', (5446, 5461), 990, 'O'), ('##ovi', (5446, 5461), 990, 'O'), ('##rus', (5446, 5461), 990, 'O'), ('I', (5462, 5465), 991, 'O'), ('##g', (5462, 5465), 991, 'O'), ('##G', (5462, 5465), 991, 'O'), ('negativo', (5466, 5474), 992, 'O'), ('.', (5474, 5475), 993, 'O'), ('»', (5476, 5477), 994, 'O'), ('A', (5478, 5480), 995, 'O'), ('##c', (5478, 5480), 995, 'O'), ('.', (5480, 5481), 996, 'O'), ('anti', (5482, 5486), 997, 'O'), ('cit', (5487, 5502), 998, 'O'), ('##ome', (5487, 5502), 998, 'O'), ('##gal', (5487, 5502), 998, 'O'), ('##ovi', (5487, 5502), 998, 'O'), ('##rus', (5487, 5502), 998, 'O'), ('I', (5503, 5506), 999, 'O'), ('##g', (5503, 5506), 999, 'O'), ('##M', (5503, 5506), 999, 'O'), ('negativo', (5507, 5515), 1000, 'O'), ('.', (5515, 5516), 1001, 'O'), ('»', (5517, 5518), 1002, 'O'), ('En', (5519, 5525), 1003, 'O'), ('##zima', (5519, 5525), 1003, 'O'), ('convertido', (5526, 5538), 1004, 'O'), ('##ra', (5526, 5538), 1004, 'O'), ('ang', (5539, 5551), 1005, 'O'), ('##iot', (5539, 5551), 1005, 'O'), ('##ensi', (5539, 5551), 1005, 'O'), ('##na', (5539, 5551), 1005, 'O'), ('(', (5552, 5553), 1006, 'O'), ('LC', (5553, 5556), 1007, 'O'), ('##R', (5553, 5556), 1007, 'O'), (')', (5556, 5557), 1008, 'O'), ('1', (5558, 5559), 1009, 'O'), (',', (5559, 5560), 1010, 'O'), ('24', (5560, 5562), 1011, 'O'), ('.', (5562, 5563), 1012, 'O'), ('Cult', (5564, 5571), 1013, 'O'), ('##ivo', (5564, 5571), 1013, 'O'), ('y', (5572, 5573), 1014, 'O'), ('tin', (5574, 5583), 1015, 'O'), ('##ciones', (5574, 5583), 1015, 'O'), ('de', (5584, 5586), 1016, 'O'), ('LC', (5587, 5590), 1017, 'O'), ('##R', (5587, 5590), 1017, 'O'), ('»', (5591, 5592), 1018, 'O'), ('Cult', (5593, 5600), 1019, 'O'), ('##ivo', (5593, 5600), 1019, 'O'), ('convencional', (5601, 5613), 1020, 'O'), ('negativo', (5614, 5622), 1021, 'O'), ('.', (5622, 5623), 1022, 'O')]\n",
      "\n",
      "\n",
      "[('»', (5624, 5625), 1023, 'O'), ('Tin', (5626, 5633), 1024, 'O'), ('##ción', (5626, 5633), 1024, 'O'), ('de', (5634, 5636), 1025, 'O'), ('Gram', (5637, 5641), 1026, 'O'), (':', (5641, 5642), 1027, 'O'), ('no', (5643, 5645), 1028, 'O'), ('se', (5646, 5648), 1029, 'O'), ('observa', (5649, 5657), 1030, 'O'), ('##n', (5649, 5657), 1030, 'O'), ('g', (5658, 5666), 1031, 'O'), ('##ér', (5658, 5666), 1031, 'O'), ('##menes', (5658, 5666), 1031, 'O'), ('.', (5666, 5667), 1032, 'O'), ('»', (5668, 5669), 1033, 'O'), ('Cult', (5670, 5677), 1034, 'O'), ('##ivo', (5670, 5677), 1034, 'O'), ('de', (5678, 5680), 1035, 'O'), ('mic', (5681, 5694), 1036, 'O'), ('##oba', (5681, 5694), 1036, 'O'), ('##cter', (5681, 5694), 1036, 'O'), ('##ias', (5681, 5694), 1036, 'O'), ('negativo', (5695, 5703), 1037, 'O'), ('.', (5703, 5704), 1038, 'O'), ('»', (5705, 5706), 1039, 'O'), ('Tin', (5707, 5714), 1040, 'O'), ('##ción', (5707, 5714), 1040, 'O'), ('tin', (5715, 5720), 1041, 'O'), ('##ta', (5715, 5720), 1041, 'O'), ('china', (5721, 5726), 1042, 'O'), ('negativa', (5727, 5735), 1043, 'O'), ('.', (5735, 5736), 1044, 'O'), ('»', (5737, 5738), 1045, 'O'), ('Cult', (5739, 5746), 1046, 'O'), ('##ivo', (5739, 5746), 1046, 'O'), ('de', (5747, 5749), 1047, 'O'), ('hon', (5750, 5756), 1048, 'O'), ('##gos', (5750, 5756), 1048, 'O'), ('negativo', (5757, 5765), 1049, 'O'), ('.', (5765, 5766), 1050, 'O'), ('Dia', (5768, 5779), 1051, 'O'), ('##gnóstico', (5768, 5779), 1051, 'O'), ('»', (5780, 5781), 1052, 'O'), ('Pa', (5782, 5792), 1053, 'O'), ('##pil', (5782, 5792), 1053, 'O'), ('##ede', (5782, 5792), 1053, 'O'), ('##ma', (5782, 5792), 1053, 'O'), ('bila', (5793, 5802), 1054, 'O'), ('##teral', (5793, 5802), 1054, 'O'), ('probablemente', (5803, 5816), 1055, 'O'), ('sec', (5817, 5827), 1056, 'O'), ('##unda', (5817, 5827), 1056, 'O'), ('##rio', (5817, 5827), 1056, 'O'), ('a', (5828, 5829), 1057, 'O'), ('auto', (5830, 5843), 1058, 'O'), ('##in', (5830, 5843), 1058, 'O'), ('##mun', (5830, 5843), 1058, 'O'), ('##idad', (5830, 5843), 1058, 'O'), ('secundaria', (5844, 5854), 1059, 'O'), ('a', (5855, 5856), 1060, 'O'), ('in', (5857, 5870), 1061, 'O'), ('##mun', (5857, 5870), 1061, 'O'), ('##ote', (5857, 5870), 1061, 'O'), ('##rap', (5857, 5870), 1061, 'O'), ('##ia', (5857, 5870), 1061, 'O'), ('.', (5870, 5871), 1062, 'O'), ('»', (5872, 5873), 1063, 'O'), ('S', (5874, 5882), 1064, 'O'), ('##ín', (5874, 5882), 1064, 'O'), ('##drome', (5874, 5882), 1064, 'O'), ('auto', (5883, 5893), 1065, 'O'), ('##in', (5883, 5893), 1065, 'O'), ('##mune', (5883, 5893), 1065, 'O'), ('sec', (5894, 5904), 1066, 'O'), ('##unda', (5894, 5904), 1066, 'O'), ('##rio', (5894, 5904), 1066, 'O'), ('a', (5905, 5906), 1067, 'O'), ('in', (5907, 5920), 1068, 'O'), ('##mun', (5907, 5920), 1068, 'O'), ('##ote', (5907, 5920), 1068, 'O'), ('##rap', (5907, 5920), 1068, 'O'), ('##ia', (5907, 5920), 1068, 'O'), ('.', (5920, 5921), 1069, 'O'), ('»', (5922, 5923), 1070, 'O'), ('Mel', (5924, 5932), 1071, 'B'), ('##ano', (5924, 5932), 1071, 'B'), ('##ma', (5924, 5932), 1071, 'B'), ('mali', (5933, 5940), 1072, 'I'), ('##gno', (5933, 5940), 1072, 'I'), ('Est', (5941, 5944), 1073, 'O'), ('.', (5944, 5945), 1074, 'O'), ('IV', (5946, 5948), 1075, 'O'), ('res', (5949, 5957), 1076, 'O'), ('##eca', (5949, 5957), 1076, 'O'), ('##do', (5949, 5957), 1076, 'O'), ('en', (5958, 5960), 1077, 'O'), ('curso', (5961, 5966), 1078, 'O'), ('de', (5967, 5969), 1079, 'O'), ('tratamiento', (5970, 5981), 1080, 'O'), ('con', (5982, 5985), 1081, 'O'), ('ni', (5986, 5995), 1082, 'O'), ('##vol', (5986, 5995), 1082, 'O'), ('##uma', (5986, 5995), 1082, 'O'), ('##b', (5986, 5995), 1082, 'O'), ('.', (5995, 5996), 1083, 'O')]\n",
      "\n",
      "\n",
      "[('Trata', (5998, 6009), 1084, 'O'), ('##miento', (5998, 6009), 1084, 'O'), ('Ini', (6010, 6019), 1085, 'O'), ('##cia', (6010, 6019), 1085, 'O'), ('##mos', (6010, 6019), 1085, 'O'), ('en', (6020, 6022), 1086, 'O'), ('planta', (6023, 6029), 1087, 'O'), ('de', (6030, 6032), 1088, 'O'), ('On', (6033, 6042), 1089, 'O'), ('##colo', (6033, 6042), 1089, 'O'), ('##gía', (6033, 6042), 1089, 'O'), ('M', (6043, 6049), 1090, 'O'), ('##éd', (6043, 6049), 1090, 'O'), ('##ica', (6043, 6049), 1090, 'O'), ('cort', (6050, 6064), 1091, 'O'), ('##ico', (6050, 6064), 1091, 'O'), ('##tera', (6050, 6064), 1091, 'O'), ('##pia', (6050, 6064), 1091, 'O'), ('con', (6065, 6068), 1092, 'O'), ('dos', (6069, 6074), 1093, 'O'), ('##is', (6069, 6074), 1093, 'O'), ('de', (6075, 6077), 1094, 'O'), ('80', (6078, 6080), 1095, 'O'), ('mg', (6081, 6083), 1096, 'O'), ('de', (6084, 6086), 1097, 'O'), ('met', (6087, 6104), 1098, 'O'), ('##il', (6087, 6104), 1098, 'O'), ('##pred', (6087, 6104), 1098, 'O'), ('##nis', (6087, 6104), 1098, 'O'), ('##olo', (6087, 6104), 1098, 'O'), ('##na', (6087, 6104), 1098, 'O'), ('intra', (6105, 6116), 1099, 'O'), ('##veno', (6105, 6116), 1099, 'O'), ('##so', (6105, 6116), 1099, 'O'), ('cada', (6117, 6121), 1100, 'O'), ('24', (6122, 6124), 1101, 'O'), ('horas', (6125, 6130), 1102, 'O'), ('.', (6130, 6131), 1103, 'O'), ('E', (6133, 6142), 1104, 'O'), ('##vol', (6133, 6142), 1104, 'O'), ('##ución', (6133, 6142), 1104, 'O'), ('Tras', (6143, 6147), 1105, 'O'), ('48', (6148, 6150), 1106, 'O'), ('horas', (6151, 6156), 1107, 'O'), ('de', (6157, 6159), 1108, 'O'), ('tratamiento', (6160, 6171), 1109, 'O'), ('refiere', (6172, 6179), 1110, 'O'), ('mejor', (6180, 6187), 1111, 'O'), ('##ía', (6180, 6187), 1111, 'O'), ('de', (6188, 6190), 1112, 'O'), ('la', (6191, 6193), 1113, 'O'), ('ag', (6194, 6201), 1114, 'O'), ('##ude', (6194, 6201), 1114, 'O'), ('##za', (6194, 6201), 1114, 'O'), ('visual', (6202, 6208), 1115, 'O'), (',', (6208, 6209), 1116, 'O'), ('ley', (6210, 6217), 1117, 'O'), ('##endo', (6210, 6217), 1117, 'O'), ('tipo', (6218, 6228), 1118, 'O'), ('##grafía', (6218, 6228), 1118, 'O'), ('de', (6229, 6231), 1119, 'O'), ('2', (6232, 6233), 1120, 'O'), ('cm', (6234, 6236), 1121, 'O'), ('a', (6237, 6238), 1122, 'O'), ('1', (6239, 6240), 1123, 'O'), (',', (6240, 6241), 1124, 'O'), ('5', (6241, 6242), 1125, 'O'), ('m', (6243, 6244), 1126, 'O'), ('.', (6244, 6245), 1127, 'O'), ('Come', (6246, 6256), 1128, 'O'), ('##nta', (6246, 6256), 1128, 'O'), ('##mos', (6246, 6256), 1128, 'O'), ('el', (6257, 6259), 1129, 'O'), ('caso', (6260, 6264), 1130, 'O'), ('nuevamente', (6265, 6275), 1131, 'O'), ('con', (6276, 6279), 1132, 'O'), ('Neu', (6280, 6290), 1133, 'O'), ('##rol', (6280, 6290), 1133, 'O'), ('##ogía', (6280, 6290), 1133, 'O'), (',', (6290, 6291), 1134, 'O'), ('con', (6292, 6304), 1135, 'O'), ('##sens', (6292, 6304), 1135, 'O'), ('##uando', (6292, 6304), 1135, 'O'), ('extra', (6305, 6312), 1136, 'O'), ('##er', (6305, 6312), 1136, 'O'), ('antic', (6313, 6324), 1137, 'O'), ('##uer', (6313, 6324), 1137, 'O'), ('##pos', (6313, 6324), 1137, 'O'), ('on', (6325, 6339), 1138, 'O'), ('##cone', (6325, 6339), 1138, 'O'), ('##uro', (6325, 6339), 1138, 'O'), ('##nale', (6325, 6339), 1138, 'O'), ('##s', (6325, 6339), 1138, 'O'), ('y', (6340, 6341), 1139, 'O'), ('realizar', (6342, 6350), 1140, 'O'), ('potencia', (6351, 6360), 1141, 'O'), ('##s', (6351, 6360), 1141, 'O'), ('evo', (6361, 6369), 1142, 'O'), ('##cados', (6361, 6369), 1142, 'O'), ('visual', (6370, 6378), 1143, 'O'), ('##es', (6370, 6378), 1143, 'O'), ('.', (6378, 6379), 1144, 'O')]\n",
      "\n",
      "\n",
      "[('El', (6380, 6382), 1145, 'O'), ('19', (6383, 6385), 1146, 'O'), ('/', (6385, 6386), 1147, 'O'), ('10', (6386, 6388), 1148, 'O'), ('/', (6388, 6389), 1149, 'O'), ('2018', (6389, 6393), 1150, 'O'), (',', (6393, 6394), 1151, 'O'), ('tras', (6395, 6399), 1152, 'O'), ('8', (6400, 6401), 1153, 'O'), ('días', (6402, 6406), 1154, 'O'), ('de', (6407, 6409), 1155, 'O'), ('ingreso', (6410, 6417), 1156, 'O'), ('y', (6418, 6419), 1157, 'O'), ('cort', (6420, 6434), 1158, 'O'), ('##ico', (6420, 6434), 1158, 'O'), ('##tera', (6420, 6434), 1158, 'O'), ('##pia', (6420, 6434), 1158, 'O'), (',', (6434, 6435), 1159, 'O'), ('el', (6436, 6438), 1160, 'O'), ('paciente', (6439, 6447), 1161, 'O'), ('presenta', (6448, 6456), 1162, 'O'), ('una', (6457, 6460), 1163, 'O'), ('franc', (6461, 6467), 1164, 'O'), ('##a', (6461, 6467), 1164, 'O'), ('mejor', (6468, 6475), 1165, 'O'), ('##ía', (6468, 6475), 1165, 'O'), (',', (6475, 6476), 1166, 'O'), ('dea', (6477, 6488), 1167, 'O'), ('##mbu', (6477, 6488), 1167, 'O'), ('##lando', (6477, 6488), 1167, 'O'), ('por', (6489, 6492), 1168, 'O'), ('la', (6493, 6495), 1169, 'O'), ('planta', (6496, 6502), 1170, 'O'), ('sin', (6503, 6506), 1171, 'O'), ('in', (6507, 6518), 1172, 'O'), ('##cide', (6507, 6518), 1172, 'O'), ('##ncias', (6507, 6518), 1172, 'O'), ('ni', (6519, 6521), 1173, 'O'), ('soporte', (6522, 6529), 1174, 'O'), ('y', (6530, 6531), 1175, 'O'), ('recuperación', (6532, 6544), 1176, 'O'), ('pro', (6545, 6555), 1177, 'O'), ('##gres', (6545, 6555), 1177, 'O'), ('##iva', (6545, 6555), 1177, 'O'), ('de', (6556, 6558), 1178, 'O'), ('la', (6559, 6561), 1179, 'O'), ('ag', (6562, 6569), 1180, 'O'), ('##ude', (6562, 6569), 1180, 'O'), ('##za', (6562, 6569), 1180, 'O'), ('visual', (6570, 6576), 1181, 'O'), ('.', (6576, 6577), 1182, 'O'), ('Dada', (6578, 6582), 1183, 'O'), ('la', (6583, 6585), 1184, 'O'), ('buena', (6586, 6591), 1185, 'O'), ('evolución', (6592, 6601), 1186, 'O'), ('se', (6602, 6604), 1187, 'O'), ('con', (6605, 6614), 1188, 'O'), ('##sens', (6605, 6614), 1188, 'O'), ('##ua', (6605, 6614), 1188, 'O'), ('alta', (6615, 6619), 1189, 'O'), ('domi', (6620, 6632), 1190, 'O'), ('##cili', (6620, 6632), 1190, 'O'), ('##aria', (6620, 6632), 1190, 'O'), (',', (6632, 6633), 1191, 'O'), ('realización', (6634, 6645), 1192, 'O'), ('amb', (6646, 6657), 1193, 'O'), ('##ulator', (6646, 6657), 1193, 'O'), ('##ia', (6646, 6657), 1193, 'O'), ('de', (6658, 6660), 1194, 'O'), ('RM', (6661, 6663), 1195, 'O'), ('de', (6664, 6666), 1196, 'O'), ('control', (6667, 6674), 1197, 'O'), ('de', (6675, 6677), 1198, 'O'), ('neu', (6678, 6686), 1199, 'O'), ('##roe', (6678, 6686), 1199, 'O'), ('##je', (6678, 6686), 1199, 'O'), ('y', (6687, 6688), 1200, 'O'), ('rev', (6689, 6697), 1201, 'O'), ('##isión', (6689, 6697), 1201, 'O'), ('en', (6698, 6700), 1202, 'O'), ('consulta', (6701, 6710), 1203, 'O'), ('##s', (6701, 6710), 1203, 'O'), ('de', (6711, 6713), 1204, 'O'), ('On', (6714, 6723), 1205, 'O'), ('##colo', (6714, 6723), 1205, 'O'), ('##gía', (6714, 6723), 1205, 'O'), ('M', (6724, 6730), 1206, 'O'), ('##éd', (6724, 6730), 1206, 'O'), ('##ica', (6724, 6730), 1206, 'O'), ('.', (6730, 6731), 1207, 'O'), ('A', (6732, 6737), 1208, 'O'), ('##cud', (6732, 6737), 1208, 'O'), ('##e', (6732, 6737), 1208, 'O'), ('a', (6738, 6739), 1209, 'O'), ('consulta', (6740, 6748), 1210, 'O'), ('de', (6749, 6751), 1211, 'O'), ('rev', (6752, 6760), 1212, 'O'), ('##isión', (6752, 6760), 1212, 'O'), ('el', (6761, 6763), 1213, 'O'), ('06', (6764, 6766), 1214, 'O'), ('/', (6766, 6767), 1215, 'O'), ('11', (6767, 6769), 1216, 'O'), ('/', (6769, 6770), 1217, 'O'), ('2018', (6770, 6774), 1218, 'O'), ('indican', (6775, 6784), 1219, 'O'), ('##do', (6775, 6784), 1219, 'O'), ('haber', (6785, 6790), 1220, 'O'), ('re', (6791, 6801), 1221, 'O'), ('##cup', (6791, 6801), 1221, 'O'), ('##erado', (6791, 6801), 1221, 'O'), ('totalmente', (6802, 6812), 1222, 'O'), ('la', (6813, 6815), 1223, 'O'), ('visión', (6816, 6822), 1224, 'O'), ('.', (6822, 6823), 1225, 'O')]\n",
      "\n",
      "\n",
      "[('Se', (6824, 6826), 1226, 'O'), ('soli', (6827, 6835), 1227, 'O'), ('##cita', (6827, 6835), 1227, 'O'), ('TC', (6836, 6838), 1228, 'O'), ('de', (6839, 6841), 1229, 'O'), ('tó', (6842, 6847), 1230, 'O'), ('##rax', (6842, 6847), 1230, 'O'), (',', (6847, 6848), 1231, 'O'), ('abdomen', (6849, 6856), 1232, 'O'), ('y', (6857, 6858), 1233, 'O'), ('pel', (6859, 6865), 1234, 'O'), ('##vis', (6859, 6865), 1234, 'O'), ('y', (6866, 6867), 1235, 'O'), ('se', (6868, 6870), 1236, 'O'), ('decide', (6871, 6877), 1237, 'O'), ('finalizar', (6878, 6887), 1238, 'O'), ('tratamiento', (6888, 6899), 1239, 'O'), (',', (6899, 6900), 1240, 'O'), ('habiendo', (6901, 6909), 1241, 'O'), ('completa', (6910, 6920), 1242, 'O'), ('##do', (6910, 6920), 1242, 'O'), ('un', (6921, 6923), 1243, 'O'), ('total', (6924, 6929), 1244, 'O'), ('de', (6930, 6932), 1245, 'O'), ('45', (6933, 6935), 1246, 'O'), ('de', (6936, 6938), 1247, 'O'), ('52', (6939, 6941), 1248, 'O'), ('semanas', (6942, 6949), 1249, 'O'), ('plan', (6950, 6962), 1250, 'O'), ('##ificada', (6950, 6962), 1250, 'O'), ('##s', (6950, 6962), 1250, 'O'), ('.', (6962, 6963), 1251, 'O'), ('El', (6964, 6966), 1252, 'O'), ('23', (6967, 6969), 1253, 'O'), ('/', (6969, 6970), 1254, 'O'), ('11', (6970, 6972), 1255, 'O'), ('/', (6972, 6973), 1256, 'O'), ('2018', (6973, 6977), 1257, 'O'), ('se', (6978, 6980), 1258, 'O'), ('lleva', (6981, 6986), 1259, 'O'), ('a', (6987, 6988), 1260, 'O'), ('cabo', (6989, 6993), 1261, 'O'), ('RM', (6994, 6996), 1262, 'O'), ('de', (6997, 6999), 1263, 'O'), ('control', (7000, 7007), 1264, 'O'), ('donde', (7008, 7013), 1265, 'O'), ('se', (7014, 7016), 1266, 'O'), ('objet', (7017, 7025), 1267, 'O'), ('##iva', (7017, 7025), 1267, 'O'), ('desaparición', (7026, 7038), 1268, 'O'), ('total', (7039, 7044), 1269, 'O'), ('de', (7045, 7047), 1270, 'O'), ('las', (7048, 7051), 1271, 'O'), ('les', (7052, 7060), 1272, 'O'), ('##iones', (7052, 7060), 1272, 'O'), ('cerebral', (7061, 7071), 1273, 'O'), ('##es', (7061, 7071), 1273, 'O'), ('previa', (7072, 7079), 1274, 'O'), ('##s', (7072, 7079), 1274, 'O'), ('.', (7079, 7080), 1275, 'O'), ('El', (7081, 7083), 1276, 'O'), ('paciente', (7084, 7092), 1277, 'O'), ('ha', (7093, 7095), 1278, 'O'), ('sido', (7096, 7100), 1279, 'O'), ('valor', (7101, 7109), 1280, 'O'), ('##ado', (7101, 7109), 1280, 'O'), ('por', (7110, 7113), 1281, 'O'), ('última', (7114, 7120), 1282, 'O'), ('vez', (7121, 7124), 1283, 'O'), ('el', (7125, 7127), 1284, 'O'), ('03', (7128, 7130), 1285, 'O'), ('/', (7130, 7131), 1286, 'O'), ('05', (7131, 7133), 1287, 'O'), ('/', (7133, 7134), 1288, 'O'), ('2019', (7134, 7138), 1289, 'O'), ('en', (7139, 7141), 1290, 'O'), ('consulta', (7142, 7150), 1291, 'O'), ('de', (7151, 7153), 1292, 'O'), ('On', (7154, 7163), 1293, 'O'), ('##colo', (7154, 7163), 1293, 'O'), ('##gía', (7154, 7163), 1293, 'O'), ('M', (7164, 7170), 1294, 'O'), ('##éd', (7164, 7170), 1294, 'O'), ('##ica', (7164, 7170), 1294, 'O'), (',', (7170, 7171), 1295, 'O'), ('en', (7172, 7185), 1296, 'O'), ('##con', (7172, 7185), 1296, 'O'), ('##tr', (7172, 7185), 1296, 'O'), ('##ándose', (7172, 7185), 1296, 'O'), ('totalmente', (7186, 7196), 1297, 'O'), ('asi', (7197, 7209), 1298, 'O'), ('##nto', (7197, 7209), 1298, 'O'), ('##mático', (7197, 7209), 1298, 'O'), ('y', (7210, 7211), 1299, 'O'), ('estable', (7212, 7219), 1300, 'O'), ('de', (7220, 7222), 1301, 'O'), ('enfermedad', (7223, 7233), 1302, 'O'), ('.', (7233, 7234), 1303, 'O')]\n",
      "\n",
      "\n"
     ]
    }
   ],
   "source": [
    "for i in range(check_id_frag, check_id_frag + train_frag[check_id]):\n",
    "    print(list(zip([tokenizer._convert_id_to_token(int(ind)) for ind in train_ind[i]][1:len(train_start_end_frag[i])+1], \n",
    "               train_start_end_frag[i], train_word_id[i], \n",
    "               [lab_encoder.inverse_transform([label])[0] if label != IGNORE_VALUE else label \\\n",
    "                for label in train_y[i][1:len(train_start_end_frag[i])+1]])))\n",
    "    print(\"\\n\")"
   ]
  },
  {
   "cell_type": "code",
   "execution_count": 58,
   "metadata": {},
   "outputs": [
    {
     "name": "stdout",
     "output_type": "stream",
     "text": [
      "[CLS] AN ##TE ##CE ##DE ##NT ##ES E H ##IS ##TO ##RI ##A PR ##E ##VI ##A Presenta ##mos el caso de un var ##ón de 67 años sin ante ##cedent ##es personales de interés , independiente para las actividades básica ##s de la vida diari ##a y vida activa , que es diagnostic ##ado en marzo de 2012 de me ##lano ##ma en región dor ##so lu ##mbar izquierda ( índice de Br ##es ##low de 4 mm y nivel 4 de Clark , con 12 mm de diámetro ) con bio ##psia de gang ##lio cent ##ine ##la positiva . [SEP] [PAD] [PAD] [PAD] [PAD] [PAD] [PAD] [PAD] [PAD] [PAD] [PAD] [PAD] [PAD] [PAD] [PAD] [PAD] [PAD] [PAD] [PAD] [PAD] [PAD] [PAD] [PAD] [PAD] [PAD] [PAD] \n",
      "\n",
      "[CLS] Se realiza ex ##ére ##sis de la lesión y li ##n ##fa ##dene ##cto ##mí ##a ing ##uin ##al radical izquierda , con resultado de una ad ##eno ##pat ##ía positiva para met ##ást ##asis de me ##lano ##ma en región ob ##tura ##tri ##z . Ini ##cia tratamiento ad ##yu ##vant ##e con inter ##fer ##ón en septiembre de 2012 con ##clu ##y ##én ##dolo en septiembre de 2013 sin in ##cide ##ncias . [SEP] [PAD] [PAD] [PAD] [PAD] [PAD] [PAD] [PAD] [PAD] [PAD] [PAD] [PAD] [PAD] [PAD] [PAD] [PAD] [PAD] [PAD] [PAD] [PAD] [PAD] [PAD] [PAD] [PAD] [PAD] [PAD] [PAD] [PAD] [PAD] [PAD] [PAD] [PAD] [PAD] [PAD] [PAD] [PAD] [PAD] [PAD] [PAD] [PAD] [PAD] [PAD] [PAD] [PAD] [PAD] [PAD] [PAD] [PAD] [PAD] [PAD] [PAD] [PAD] \n",
      "\n",
      "[CLS] En marzo de 2014 en tom ##ografía com ##put ##ari ##zada ( TC ) de control se objet ##iva ##n ad ##eno ##pat ##ías superiores al cent ##íme ##tro a nivel ing ##uin ##of ##em ##oral derecho , por lo que en junio de 2014 se lleva a cabo li ##n ##fa ##dene ##cto ##mí ##a con resultado de re ##cid ##iva gang ##lion ##ar de me ##lano ##ma . Se lleva a cabo estudio de mu ##ta ##ciones BR ##AF siendo no mu ##tado . En septiembre de 2016 se observa crecimiento de dos ad ##eno ##pat ##ías de 1 y 1 , 6 cm de diámetro a nivel de mese ##nter ##io , de ##cid ##iéndose seg ##ui ##miento mediante pruebas de imagen . [SEP] \n",
      "\n",
      "[CLS] En TC de control de junio de 2017 se visual ##iza eng ##rosa ##miento a nivel de inte ##stino del ##gado con esta ##bilidad de las ad ##eno ##pat ##ías mese ##nt ##érica ##s previamente descrita ##s , por lo que se presenta en Comité de Tu ##more ##s y se inter ##viene con ex ##ére ##sis del segmento inte ##stina ##l . La Ana ##tom ##ía Pato ##lógica resulta ##nte muestra re ##cid ##iva inte ##stina ##l de me ##lano ##ma . Dada la evolución del paciente y el buen estado general , se propone ni ##vol ##uma ##b ad ##yu ##vant ##e durante un año . El paciente ac ##epta e inicia tratamiento el 05 / 12 / 2017 . [SEP] [PAD] [PAD] [PAD] [PAD] \n",
      "\n",
      "[CLS] Ana ##mne ##sis Real ##iza 44 semanas de tratamiento hasta octubre de 2018 sin in ##cide ##ncias ni to ##xic ##idades destaca ##bles salvo as ##tenia grado 2 . En visita de control el 09 / 10 / 2018 con On ##colo ##gía M ##éd ##ica para tratamiento de semana 45 , el paciente refiere pérdida de visión de una semana de evolución con ins ##tau ##ración rápida pero pau ##latina en el trans ##curso de 1 - 2 días . Así mismo , come ##nta re ##quer ##ir desde hace un mes bas ##tón para cam ##inar y haber iniciado tam ##sul ##osi ##na una semana antes por pre ##sc ##rip ##ción de Ur ##ología por síndrome pro ##st ##ático . [SEP] [PAD] [PAD] [PAD] [PAD] \n",
      "\n",
      "[CLS] Se pau ##ta tratamiento de semana 45 y , por dicha clínica , es derivado a consulta de Of ##tal ##mol ##ogía , donde es valor ##ado el 10 / 10 / 2018 . En la ex ##plo ##ración ofta ##lm ##ológica se objet ##iva ede ##ma pa ##pila ##r bila ##teral , siendo re ##mitido a Ur ##gen ##cias para valor ##ación neu ##rol ##ógica ur ##gente . Durante la ex ##plo ##ración por Neu ##rol ##ogía de guardia , destaca dé ##ficit visual sin otras alter ##aciones destaca ##bles . Se realiza una TC de c ##ráneo con contraste sin apre ##ciar ##se les ##iones focal ##es . Se ori ##enta como posible hip ##erten ##sión intra ##cra ##nea ##l vs . [SEP] [PAD] [PAD] \n",
      "\n",
      "[CLS] afecta ##ción auto ##in ##mune del ner ##vio ó ##ptic ##o vs . menos probable farm ##aco ##lógico sec ##unda ##rio a tam ##sul ##osi ##na , ya que el pa ##pil ##ede ##ma bila ##teral va en contra de dicha et ##iol ##ogía . Finalmente se cursa ingreso a cargo de On ##colo ##gía M ##éd ##ica con fecha del 11 / 10 / 2018 . Ex ##plo ##ración física Bu ##en estado general . EC ##O ##G ##1 . Pac ##iente con ##sci ##ente , ori ##entado y cola ##borado ##r . Eu ##pne ##ico en rep ##oso : » Aus ##cul ##tación card ##iac ##a : tono ##s r ##ít ##micos y regulares . [SEP] [PAD] [PAD] [PAD] [PAD] [PAD] [PAD] [PAD] [PAD] [PAD] \n",
      "\n",
      "[CLS] » Aus ##cul ##tación pu ##lm ##onar : MV ##C . » Ex ##plo ##ración ab ##dom ##inal : gran her ##nia de pare ##d ab ##dom ##inal tras ci ##rug ##ía . No es dolor ##oso durante la pal ##pación . No pal ##pa ##mos masas ni meg ##alia ##s . Sin sign ##os de ir ##rita ##ción per ##iton ##eal . » Ex ##trem ##idades inferiores : sin ede ##mas . Sin em ##pas ##tami ##ento ge ##mel ##ar . » Ex ##plo ##ración neu ##rol ##ógica : lenguaje bien arti ##cula ##do , co ##herent ##e en contenido con barre ##ra idi ##om ##ática . Sin alter ##aciones en la producción . [SEP] [PAD] [PAD] [PAD] [PAD] [PAD] [PAD] [PAD] [PAD] [PAD] [PAD] [PAD] \n",
      "\n",
      "[CLS] Re ##f ##lej ##o o ##culo ##motor derecho ab ##oli ##do , sin otras focal ##idad aparente ##s a nivel de pares c ##rane ##ales , vías sens ##itiva ##s o motora ##s . Fuerza conserva ##da sim ##étrica bila ##teral 5 / 5 de las extrem ##idades . March ##a con aumento de la base de la sus ##tent ##ación . Pr ##ue ##bas complement ##arias Pre ##sión de líquido ce ##fal ##or ##raq ##u ##íd ##eo ( LC ##R ) : » Dentro de los límites de la normal ##idad . [SEP] [PAD] [PAD] [PAD] [PAD] [PAD] [PAD] [PAD] [PAD] [PAD] [PAD] [PAD] [PAD] [PAD] [PAD] [PAD] [PAD] [PAD] [PAD] [PAD] [PAD] [PAD] [PAD] [PAD] [PAD] [PAD] [PAD] [PAD] [PAD] [PAD] [PAD] [PAD] [PAD] [PAD] \n",
      "\n",
      "[CLS] Bio ##quí ##mica de LC ##R » Le ##uco ##cito ##s ( re ##cu ##ento ; LC ##R ) 18 le ##u / Μ l . » Pol ##imo ##rf ##onu ##cle ##ares ( por ##cent ##aje ; LC ##R ) 10 % . » Mono ##nu ##cle ##ares ( por ##cent ##aje ; LC ##R ) 90 % . » He ##mat ##íes ( re ##cu ##ento ; LC ##R ) 3 hem / μ ##l . » G ##lu ##cosa ( LC ##R ) 50 mg / dl . » Pro ##te ##ína ##s ( LC ##R ) 77 , 9 mg / dl . » Lac ##tato ( LC ##R ) 2 , 7 mm ##ol / l . [SEP] [PAD] [PAD] [PAD] [PAD] \n",
      "\n",
      "[CLS] Res ##onan ##cia mag ##nética ( RM ) nuclear de c ##ráneo con contraste » Se realiza RM c ##ráneo sin y con contraste i . v . y ang ##io - RM de seno ##s ven ##osos . » El paciente le ##e y firma el C ##I . Sin ale ##rgia ##s . » En el estudio realizado se observa una hip ##erin ##tens ##idad en secuencia ##s T2 - FL ##A ##IR de la por ##ción media ##l de tá ##lam ##os y com ##isu ##ra anterior bila ##teral . [SEP] [PAD] [PAD] [PAD] [PAD] [PAD] [PAD] [PAD] [PAD] [PAD] [PAD] [PAD] [PAD] [PAD] [PAD] [PAD] [PAD] [PAD] [PAD] [PAD] [PAD] [PAD] [PAD] [PAD] [PAD] [PAD] [PAD] [PAD] [PAD] [PAD] [PAD] [PAD] [PAD] [PAD] \n",
      "\n",
      "[CLS] También están afecta ##s ambas cabeza ##s de ca ##uda ##do ( más llama ##tivo en el lado izquierdo ) y parece que parte anterior de las ci ##nti ##llas ó ##ptica ##s . Las les ##iones ni presentan una clara rest ##ric ##ción a la difusión ni muestran cap ##tación de contraste i . v . Los hall ##azgo ##s de imagen plante ##an como primera posibilidad que se trat ##e de les ##iones in ##f ##lama ##toria ##s que en el contexto del paciente pudiera ##n ser para ##neo ##pl ##ási ##ca o auto ##in ##mune . [SEP] [PAD] [PAD] [PAD] [PAD] [PAD] [PAD] [PAD] [PAD] [PAD] [PAD] [PAD] [PAD] [PAD] [PAD] [PAD] [PAD] [PAD] [PAD] [PAD] [PAD] [PAD] [PAD] [PAD] [PAD] [PAD] [PAD] [PAD] \n",
      "\n",
      "[CLS] Pot ##encia ##les evo ##cados visual ##es Come ##ntarios : PE ##V a la esti ##mula ##ción del ojo derecho e izquierdo de mor ##fo ##logía normal , am ##pli ##tud dis ##min ##uida y laten ##cia P ##100 , para el ojo derecho pro ##long ##ada y para el ojo izquierdo , en el límite de la normal ##idad . Con ##clusion ##es : los hall ##azgo ##s en los PE ##V son compatible ##s con una alter ##ación de con ##ducción de ambas vías visual ##es , de tipo des ##mie ##lini ##zan ##te ( con posible bloque ##o de la con ##ducción ) . [SEP] [PAD] [PAD] [PAD] [PAD] [PAD] [PAD] [PAD] [PAD] [PAD] [PAD] [PAD] [PAD] [PAD] [PAD] [PAD] [PAD] [PAD] [PAD] [PAD] \n",
      "\n",
      "[CLS] Ser ##ología in ##fe ##ccio ##sa de LC ##R » V ##D ##R ##L en líquido ce ##fal ##or ##raq ##u ##íd ##eo negativo . » F ##TA en líquido ce ##fal ##or ##raq ##u ##íd ##eo negativo . » Bo ##rre ##lia bu ##rg ##dorf ##eri I ##g ##G negativo . » Bo ##rre ##lia bu ##rg ##dorf ##eri I ##g ##M negativo . » A ##c . anti cit ##ome ##gal ##ovi ##rus I ##g ##G negativo . » A ##c . anti cit ##ome ##gal ##ovi ##rus I ##g ##M negativo . » En ##zima convertido ##ra ang ##iot ##ensi ##na ( LC ##R ) 1 , 24 . Cult ##ivo y tin ##ciones de LC ##R » Cult ##ivo convencional negativo . [SEP] \n",
      "\n",
      "[CLS] » Tin ##ción de Gram : no se observa ##n g ##ér ##menes . » Cult ##ivo de mic ##oba ##cter ##ias negativo . » Tin ##ción tin ##ta china negativa . » Cult ##ivo de hon ##gos negativo . Dia ##gnóstico » Pa ##pil ##ede ##ma bila ##teral probablemente sec ##unda ##rio a auto ##in ##mun ##idad secundaria a in ##mun ##ote ##rap ##ia . » S ##ín ##drome auto ##in ##mune sec ##unda ##rio a in ##mun ##ote ##rap ##ia . » Mel ##ano ##ma mali ##gno Est . IV res ##eca ##do en curso de tratamiento con ni ##vol ##uma ##b . [SEP] [PAD] [PAD] [PAD] [PAD] [PAD] [PAD] [PAD] [PAD] [PAD] [PAD] [PAD] [PAD] [PAD] [PAD] [PAD] [PAD] [PAD] [PAD] [PAD] [PAD] [PAD] \n",
      "\n",
      "[CLS] Trata ##miento Ini ##cia ##mos en planta de On ##colo ##gía M ##éd ##ica cort ##ico ##tera ##pia con dos ##is de 80 mg de met ##il ##pred ##nis ##olo ##na intra ##veno ##so cada 24 horas . E ##vol ##ución Tras 48 horas de tratamiento refiere mejor ##ía de la ag ##ude ##za visual , ley ##endo tipo ##grafía de 2 cm a 1 , 5 m . Come ##nta ##mos el caso nuevamente con Neu ##rol ##ogía , con ##sens ##uando extra ##er antic ##uer ##pos on ##cone ##uro ##nale ##s y realizar potencia ##s evo ##cados visual ##es . [SEP] [PAD] [PAD] [PAD] [PAD] [PAD] [PAD] [PAD] [PAD] [PAD] [PAD] [PAD] [PAD] [PAD] [PAD] [PAD] [PAD] [PAD] [PAD] [PAD] [PAD] [PAD] [PAD] [PAD] [PAD] \n",
      "\n",
      "[CLS] El 19 / 10 / 2018 , tras 8 días de ingreso y cort ##ico ##tera ##pia , el paciente presenta una franc ##a mejor ##ía , dea ##mbu ##lando por la planta sin in ##cide ##ncias ni soporte y recuperación pro ##gres ##iva de la ag ##ude ##za visual . Dada la buena evolución se con ##sens ##ua alta domi ##cili ##aria , realización amb ##ulator ##ia de RM de control de neu ##roe ##je y rev ##isión en consulta ##s de On ##colo ##gía M ##éd ##ica . A ##cud ##e a consulta de rev ##isión el 06 / 11 / 2018 indican ##do haber re ##cup ##erado totalmente la visión . [SEP] [PAD] [PAD] [PAD] [PAD] [PAD] [PAD] [PAD] [PAD] [PAD] [PAD] [PAD] [PAD] \n",
      "\n",
      "[CLS] Se soli ##cita TC de tó ##rax , abdomen y pel ##vis y se decide finalizar tratamiento , habiendo completa ##do un total de 45 de 52 semanas plan ##ificada ##s . El 23 / 11 / 2018 se lleva a cabo RM de control donde se objet ##iva desaparición total de las les ##iones cerebral ##es previa ##s . El paciente ha sido valor ##ado por última vez el 03 / 05 / 2019 en consulta de On ##colo ##gía M ##éd ##ica , en ##con ##tr ##ándose totalmente asi ##nto ##mático y estable de enfermedad . [SEP] [PAD] [PAD] [PAD] [PAD] [PAD] [PAD] [PAD] [PAD] [PAD] [PAD] [PAD] [PAD] [PAD] [PAD] [PAD] [PAD] [PAD] [PAD] [PAD] [PAD] [PAD] [PAD] [PAD] [PAD] [PAD] [PAD] [PAD] [PAD] \n",
      "\n"
     ]
    }
   ],
   "source": [
    "check_id_frag = sum(train_frag[:check_id])\n",
    "for frag in train_ind[check_id_frag:check_id_frag + train_frag[check_id]]:\n",
    "    print(' '.join([tokenizer._convert_id_to_token(int(ind)) for ind in frag]), \"\\n\")"
   ]
  },
  {
   "cell_type": "markdown",
   "metadata": {},
   "source": [
    "### Development corpus\n",
    "\n",
    "Only development texts with NER annotations are considered:"
   ]
  },
  {
   "cell_type": "code",
   "execution_count": 59,
   "metadata": {},
   "outputs": [
    {
     "data": {
      "text/plain": [
       "0"
      ]
     },
     "execution_count": 59,
     "metadata": {},
     "output_type": "execute_result"
    }
   ],
   "source": [
    "# All development documents (texts) are annotated \n",
    "len(set(df_text_dev[\"doc_id\"]) - set(df_codes_dev_ner_final[\"doc_id\"]))"
   ]
  },
  {
   "cell_type": "code",
   "execution_count": 60,
   "metadata": {},
   "outputs": [],
   "source": [
    "dev_doc_list = sorted(set(df_codes_dev_ner_final[\"doc_id\"]))"
   ]
  },
  {
   "cell_type": "code",
   "execution_count": 61,
   "metadata": {},
   "outputs": [
    {
     "data": {
      "text/plain": [
       "250"
      ]
     },
     "execution_count": 61,
     "metadata": {},
     "output_type": "execute_result"
    }
   ],
   "source": [
    "len(dev_doc_list)"
   ]
  },
  {
   "cell_type": "code",
   "execution_count": 64,
   "metadata": {},
   "outputs": [],
   "source": [
    "# Sentence-Split data"
   ]
  },
  {
   "cell_type": "code",
   "execution_count": 62,
   "metadata": {},
   "outputs": [
    {
     "name": "stdout",
     "output_type": "stream",
     "text": [
      "CPU times: user 46.5 ms, sys: 20 ms, total: 66.4 ms\n",
      "Wall time: 154 ms\n"
     ]
    }
   ],
   "source": [
    "%%time\n",
    "ss_sub_corpus_path = ss_corpus_path + \"development/\"\n",
    "ss_files = [f for f in os.listdir(ss_sub_corpus_path) if os.path.isfile(ss_sub_corpus_path + f)]\n",
    "ss_dict_dev = load_ss_files(ss_files, ss_sub_corpus_path)"
   ]
  },
  {
   "cell_type": "code",
   "execution_count": 63,
   "metadata": {
    "scrolled": true
   },
   "outputs": [
    {
     "name": "stderr",
     "output_type": "stream",
     "text": [
      " 84%|████████▍ | 210/250 [00:16<00:02, 17.64it/s]"
     ]
    },
    {
     "name": "stdout",
     "output_type": "stream",
     "text": [
      "I\n",
      "doc_id      cc_onco1427\n",
      "text_ref        pT3N2Mx\n",
      "start              1928\n",
      "end                1935\n",
      "Name: 803, dtype: object\n",
      "11\n",
      "11\n",
      "[[1849 1858]\n",
      " [1859 1867]\n",
      " [1868 1872]\n",
      " [1873 1887]\n",
      " [1888 1898]\n",
      " [1899 1900]\n",
      " [1900 1905]\n",
      " [1906 1916]\n",
      " [1917 1918]\n",
      " [1919 1924]\n",
      " [1924 1925]\n",
      " [1926 1935]\n",
      " [1935 1936]\n",
      " [1937 1939]\n",
      " [1940 1948]\n",
      " [1949 1952]\n",
      " [1953 1961]\n",
      " [1962 1963]\n",
      " [1964 1971]\n",
      " [1972 1980]\n",
      " [1981 1985]\n",
      " [1986 1996]\n",
      " [1996 1997]]\n"
     ]
    },
    {
     "name": "stderr",
     "output_type": "stream",
     "text": [
      "100%|██████████| 250/250 [00:19<00:00, 12.75it/s]"
     ]
    },
    {
     "name": "stdout",
     "output_type": "stream",
     "text": [
      "CPU times: user 19.7 s, sys: 27.8 ms, total: 19.7 s\n",
      "Wall time: 19.7 s\n"
     ]
    },
    {
     "name": "stderr",
     "output_type": "stream",
     "text": [
      "\n"
     ]
    }
   ],
   "source": [
    "%%time\n",
    "dev_ind, dev_att, dev_type, dev_y, dev_frag, dev_start_end_frag, dev_word_id = ss_create_input_data_ner(df_text=df_text_dev, \n",
    "                                                  text_col=text_col, \n",
    "                                                  df_ann=df_codes_dev_ner_final, doc_list=dev_doc_list, ss_dict=ss_dict_dev,\n",
    "                                                  tokenizer=tokenizer, lab_encoder=lab_encoder, seq_len=SEQ_LEN, \n",
    "                                                  ign_value=IGNORE_VALUE, strategy=ANN_STRATEGY, greedy=GREEDY)"
   ]
  },
  {
   "cell_type": "code",
   "execution_count": 67,
   "metadata": {},
   "outputs": [],
   "source": [
    "# Sanity check"
   ]
  },
  {
   "cell_type": "code",
   "execution_count": 64,
   "metadata": {},
   "outputs": [
    {
     "data": {
      "text/plain": [
       "(2856, 128)"
      ]
     },
     "execution_count": 64,
     "metadata": {},
     "output_type": "execute_result"
    }
   ],
   "source": [
    "dev_ind.shape"
   ]
  },
  {
   "cell_type": "code",
   "execution_count": 65,
   "metadata": {},
   "outputs": [
    {
     "data": {
      "text/plain": [
       "(2856, 128)"
      ]
     },
     "execution_count": 65,
     "metadata": {},
     "output_type": "execute_result"
    }
   ],
   "source": [
    "dev_att.shape"
   ]
  },
  {
   "cell_type": "code",
   "execution_count": 66,
   "metadata": {},
   "outputs": [
    {
     "data": {
      "text/plain": [
       "(2856, 128)"
      ]
     },
     "execution_count": 66,
     "metadata": {},
     "output_type": "execute_result"
    }
   ],
   "source": [
    "dev_type.shape"
   ]
  },
  {
   "cell_type": "code",
   "execution_count": 67,
   "metadata": {
    "scrolled": true
   },
   "outputs": [
    {
     "data": {
      "text/plain": [
       "(2856, 128)"
      ]
     },
     "execution_count": 67,
     "metadata": {},
     "output_type": "execute_result"
    }
   ],
   "source": [
    "dev_y.shape"
   ]
  },
  {
   "cell_type": "code",
   "execution_count": 68,
   "metadata": {},
   "outputs": [
    {
     "data": {
      "text/plain": [
       "250"
      ]
     },
     "execution_count": 68,
     "metadata": {},
     "output_type": "execute_result"
    }
   ],
   "source": [
    "len(dev_frag)"
   ]
  },
  {
   "cell_type": "code",
   "execution_count": 69,
   "metadata": {},
   "outputs": [
    {
     "data": {
      "text/plain": [
       "2856"
      ]
     },
     "execution_count": 69,
     "metadata": {},
     "output_type": "execute_result"
    }
   ],
   "source": [
    "len(dev_start_end_frag)"
   ]
  },
  {
   "cell_type": "code",
   "execution_count": 70,
   "metadata": {},
   "outputs": [
    {
     "data": {
      "text/plain": [
       "2856"
      ]
     },
     "execution_count": 70,
     "metadata": {},
     "output_type": "execute_result"
    }
   ],
   "source": [
    "len(dev_word_id)"
   ]
  },
  {
   "cell_type": "code",
   "execution_count": 71,
   "metadata": {},
   "outputs": [
    {
     "data": {
      "text/plain": [
       "count    250.000000\n",
       "mean      11.424000\n",
       "std        5.025659\n",
       "min        3.000000\n",
       "25%        8.000000\n",
       "50%       10.000000\n",
       "75%       14.000000\n",
       "max       38.000000\n",
       "dtype: float64"
      ]
     },
     "execution_count": 71,
     "metadata": {},
     "output_type": "execute_result"
    }
   ],
   "source": [
    "# Check n_frag distribution across texts\n",
    "pd.Series(dev_frag).describe()"
   ]
  },
  {
   "cell_type": "code",
   "execution_count": 72,
   "metadata": {},
   "outputs": [],
   "source": [
    "# Inspect a randomly selected text and its encoded version\n",
    "check_id = np.random.randint(low=0, high=len(dev_doc_list), size=1)[0]"
   ]
  },
  {
   "cell_type": "code",
   "execution_count": 73,
   "metadata": {},
   "outputs": [
    {
     "data": {
      "text/plain": [
       "33"
      ]
     },
     "execution_count": 73,
     "metadata": {},
     "output_type": "execute_result"
    }
   ],
   "source": [
    "check_id"
   ]
  },
  {
   "cell_type": "code",
   "execution_count": 74,
   "metadata": {},
   "outputs": [
    {
     "data": {
      "text/plain": [
       "'cc_onco1061'"
      ]
     },
     "execution_count": 74,
     "metadata": {},
     "output_type": "execute_result"
    }
   ],
   "source": [
    "dev_doc_list[check_id]"
   ]
  },
  {
   "cell_type": "code",
   "execution_count": 75,
   "metadata": {
    "scrolled": true
   },
   "outputs": [
    {
     "data": {
      "text/plain": [
       "'Anamnesis\\nVarón de 44 años, con antecedentes de obesidad mórbida, de profesión camionero, que acude a Urgencias en repetidas ocasiones por un episodio de dorsalgia difusa. Indica molestias de 4 meses de evolución, de carácter progresivo, que no ceden a analgesia de primer escalón. Refiere empeoramiento de su estado general, no tolerando el decúbito.\\nNo astenia, no pérdida de apetito. No fiebre termometrada. No náuseas, no vómitos, no otra sintomatología de interés.\\nEn la última visita a Urgencias, refiere inestabilidad a la marcha asociada a dolor transfixiante interescapular.\\nSe le solicita una angio-TC de tórax, en la que se observó: aneurisma de aorta torácica de inicio distal a la salida de la subclavia izquierda de 4 x 5,5 x 4,3 cm que fue valorada por el Servicio Vascular, que no encontró signos de complicación.\\nAcude de nuevo a Urgencias 7 días después aquejando pérdida de fuerza y parestesias en ambos miembros inferiores, más acusado en el izquierdo, llegando a realizarse una TC de cráneo, que fue normal. Debido a la persistencia de la sintomatología, se ingresó para estudio en el Servicio de Medicina Interna, solicitando una RM dorsolumbar.\\nRehistoriando al paciente, refería retracción del pezón izquierdo desde hace 2 años, motivo por el que consultó en varias ocasiones a su médico de cabecera, y al que no se le dio valor patológico dada la obesidad que presentaba, recomendando medidas higiénico-dietéticas para su control.\\n\\nExamen físico\\nExploración neurológica: PINLA, MOEC, no alteración de pares craneales. Parestesias en el abdomen y en ambos miembros inferiores. Nivel medular sensitivo a nivel epigástrico. Pérdida de fuerza 4/5 en el miembro inferior derecho y 2/5 en el miembro inferior izquierdo.\\nAuscultación cardiaca: rítmico, sin soplos.\\nAuscultación respiratoria: hipofonesis generalizada sin ruidos patológicos sobreañadidos.\\nAbdomen: blando, globuloso, depresible, no semiología ascítica, ruidos hidroaéreos conservados, no signos de irritación peritoneal.\\nRetracción marcada del pezón izquierdo. No secreción por el pezón. No telorragia ni signos inflamatorios. Palpación de un nódulo retroareolar, pétreo, de unos 4 cm de diámetro.\\nNo se palpan adenopatías de significado patológico en ninguna estación linfática.\\n\\nPruebas complementarias\\n- Angio-TC de tórax: se revisan las imágenes, observándose un nódulo retroareolar mamario izquierdo de 4 cm de diámetro y una adenopatía axilar izquierda de 2,5 cm. El nódulo se observaba varios cortes por debajo del límite caudal del aneurisma.\\n- RM dorsolumbar: fractura patológica en D5, masa de partes blandas e invasión del canal medular y foco con pérdida de señal en D4-D8-D11 y cuerpo de esternón compatibles con metástasis óseas múltiples.\\n- Mamografía de la mama izquierda: nódulo espiculado de características malignas. BIRADS 4.\\n- Gammagrafía ósea: en las imágenes obtenidas se observa la existencia de hipercaptación ósea en D4-D5, D8, manubrio y cuerpo esternal, localizadas en lesiones ya descritas y conocidas anteriormente, asociadas a metástasis óseas y aplastamiento vertebral en el caso de D4-D5. Se observa además un foco de captación en el 6º arco costal derecho posterior y en el 2º arco costal izquierdo posterior.\\n- Biopsia de mama: carcinoma infiltrante en la mama izquierda con receptores RE+++, RP+++, HER2/neu negativo. KI 67 30%.\\n- Analítica: hemograma y coagulación sin alteraciones significativas. En la bioquímica destacaba fosfatasa alcalina en 120 UI/l, sin alteración en los niveles de transaminasas.\\n- Marcadores tumorales: normales.\\n\\nDiagnóstico\\nCompresión medular a nivel de D5 por metástasis de cáncer de mama.\\n\\nTratamiento\\nRecibe dosis única de radioterapia (8 Gy) en el segmento de la columna de D3 a D7.\\nSe inicia quimioterapia en esquema AC (adriamicina, ciclofosfamida).\\n\\nEvolución\\nEl paciente recibe 6 ciclos de AC en pauta quincenal. Buena tolerancia inicial, si bien existe progresión de la clínica neurológica hasta la paraplejia completa.\\nEl paciente decidió no continuar con el tratamiento al no observar mejoría de la clínica neurológica.\\nAl mes de la interrupción del tratamiento, los familiares comunican el exitus del paciente en su domicilio.\\n'"
      ]
     },
     "execution_count": 75,
     "metadata": {},
     "output_type": "execute_result"
    }
   ],
   "source": [
    "df_text_dev[df_text_dev[\"doc_id\"] == dev_doc_list[check_id]][text_col].values[0]"
   ]
  },
  {
   "cell_type": "code",
   "execution_count": 76,
   "metadata": {},
   "outputs": [
    {
     "data": {
      "text/html": [
       "<div>\n",
       "<style scoped>\n",
       "    .dataframe tbody tr th:only-of-type {\n",
       "        vertical-align: middle;\n",
       "    }\n",
       "\n",
       "    .dataframe tbody tr th {\n",
       "        vertical-align: top;\n",
       "    }\n",
       "\n",
       "    .dataframe thead th {\n",
       "        text-align: right;\n",
       "    }\n",
       "</style>\n",
       "<table border=\"1\" class=\"dataframe\">\n",
       "  <thead>\n",
       "    <tr style=\"text-align: right;\">\n",
       "      <th></th>\n",
       "      <th>doc_id</th>\n",
       "      <th>text_ref</th>\n",
       "      <th>start</th>\n",
       "      <th>end</th>\n",
       "    </tr>\n",
       "  </thead>\n",
       "  <tbody>\n",
       "    <tr>\n",
       "      <th>1860</th>\n",
       "      <td>cc_onco1061</td>\n",
       "      <td>metástasis</td>\n",
       "      <td>2710</td>\n",
       "      <td>2720</td>\n",
       "    </tr>\n",
       "    <tr>\n",
       "      <th>1859</th>\n",
       "      <td>cc_onco1061</td>\n",
       "      <td>malignas</td>\n",
       "      <td>2810</td>\n",
       "      <td>2818</td>\n",
       "    </tr>\n",
       "    <tr>\n",
       "      <th>1861</th>\n",
       "      <td>cc_onco1061</td>\n",
       "      <td>metástasis</td>\n",
       "      <td>3042</td>\n",
       "      <td>3052</td>\n",
       "    </tr>\n",
       "    <tr>\n",
       "      <th>1858</th>\n",
       "      <td>cc_onco1061</td>\n",
       "      <td>carcinoma infiltrante</td>\n",
       "      <td>3247</td>\n",
       "      <td>3268</td>\n",
       "    </tr>\n",
       "    <tr>\n",
       "      <th>1862</th>\n",
       "      <td>cc_onco1061</td>\n",
       "      <td>metástasis de cáncer</td>\n",
       "      <td>3610</td>\n",
       "      <td>3630</td>\n",
       "    </tr>\n",
       "  </tbody>\n",
       "</table>\n",
       "</div>"
      ],
      "text/plain": [
       "           doc_id               text_ref  start   end\n",
       "1860  cc_onco1061             metástasis   2710  2720\n",
       "1859  cc_onco1061               malignas   2810  2818\n",
       "1861  cc_onco1061             metástasis   3042  3052\n",
       "1858  cc_onco1061  carcinoma infiltrante   3247  3268\n",
       "1862  cc_onco1061   metástasis de cáncer   3610  3630"
      ]
     },
     "execution_count": 76,
     "metadata": {},
     "output_type": "execute_result"
    }
   ],
   "source": [
    "df_codes_dev_ner_final[df_codes_dev_ner_final[\"doc_id\"] == dev_doc_list[check_id]]"
   ]
  },
  {
   "cell_type": "code",
   "execution_count": 77,
   "metadata": {},
   "outputs": [],
   "source": [
    "check_id_frag = sum(dev_frag[:check_id])"
   ]
  },
  {
   "cell_type": "code",
   "execution_count": 78,
   "metadata": {},
   "outputs": [
    {
     "name": "stdout",
     "output_type": "stream",
     "text": [
      "[('Ana', (0, 9), 0, 'O'), ('##mne', (0, 9), 0, 'O'), ('##sis', (0, 9), 0, 'O'), ('Var', (10, 15), 1, 'O'), ('##ón', (10, 15), 1, 'O'), ('de', (16, 18), 2, 'O'), ('44', (19, 21), 3, 'O'), ('años', (22, 26), 4, 'O'), (',', (26, 27), 5, 'O'), ('con', (28, 31), 6, 'O'), ('ante', (32, 44), 7, 'O'), ('##cedent', (32, 44), 7, 'O'), ('##es', (32, 44), 7, 'O'), ('de', (45, 47), 8, 'O'), ('ob', (48, 56), 9, 'O'), ('##esi', (48, 56), 9, 'O'), ('##dad', (48, 56), 9, 'O'), ('mór', (57, 64), 10, 'O'), ('##bida', (57, 64), 10, 'O'), (',', (64, 65), 11, 'O'), ('de', (66, 68), 12, 'O'), ('prof', (69, 78), 13, 'O'), ('##esión', (69, 78), 13, 'O'), ('cam', (79, 88), 14, 'O'), ('##ione', (79, 88), 14, 'O'), ('##ro', (79, 88), 14, 'O'), (',', (88, 89), 15, 'O'), ('que', (90, 93), 16, 'O'), ('acu', (94, 99), 17, 'O'), ('##de', (94, 99), 17, 'O'), ('a', (100, 101), 18, 'O'), ('Ur', (102, 111), 19, 'O'), ('##gen', (102, 111), 19, 'O'), ('##cias', (102, 111), 19, 'O'), ('en', (112, 114), 20, 'O'), ('rep', (115, 124), 21, 'O'), ('##eti', (115, 124), 21, 'O'), ('##das', (115, 124), 21, 'O'), ('ocasiones', (125, 134), 22, 'O'), ('por', (135, 138), 23, 'O'), ('un', (139, 141), 24, 'O'), ('episodio', (142, 150), 25, 'O'), ('de', (151, 153), 26, 'O'), ('dorsal', (154, 163), 27, 'O'), ('##gia', (154, 163), 27, 'O'), ('di', (164, 170), 28, 'O'), ('##fusa', (164, 170), 28, 'O'), ('.', (170, 171), 29, 'O'), ('In', (172, 178), 30, 'O'), ('##dica', (172, 178), 30, 'O'), ('mol', (179, 188), 31, 'O'), ('##esti', (179, 188), 31, 'O'), ('##as', (179, 188), 31, 'O'), ('de', (189, 191), 32, 'O'), ('4', (192, 193), 33, 'O'), ('meses', (194, 199), 34, 'O'), ('de', (200, 202), 35, 'O'), ('evolución', (203, 212), 36, 'O'), (',', (212, 213), 37, 'O'), ('de', (214, 216), 38, 'O'), ('carácter', (217, 225), 39, 'O'), ('pro', (226, 236), 40, 'O'), ('##gres', (226, 236), 40, 'O'), ('##ivo', (226, 236), 40, 'O'), (',', (236, 237), 41, 'O'), ('que', (238, 241), 42, 'O'), ('no', (242, 244), 43, 'O'), ('ce', (245, 250), 44, 'O'), ('##den', (245, 250), 44, 'O'), ('a', (251, 252), 45, 'O'), ('anal', (253, 262), 46, 'O'), ('##gesi', (253, 262), 46, 'O'), ('##a', (253, 262), 46, 'O'), ('de', (263, 265), 47, 'O'), ('primer', (266, 272), 48, 'O'), ('es', (273, 280), 49, 'O'), ('##cal', (273, 280), 49, 'O'), ('##ón', (273, 280), 49, 'O'), ('.', (280, 281), 50, 'O'), ('Re', (282, 289), 51, 'O'), ('##fier', (282, 289), 51, 'O'), ('##e', (282, 289), 51, 'O'), ('em', (290, 303), 52, 'O'), ('##pe', (290, 303), 52, 'O'), ('##ora', (290, 303), 52, 'O'), ('##miento', (290, 303), 52, 'O'), ('de', (304, 306), 53, 'O'), ('su', (307, 309), 54, 'O'), ('estado', (310, 316), 55, 'O'), ('general', (317, 324), 56, 'O'), (',', (324, 325), 57, 'O'), ('no', (326, 328), 58, 'O'), ('tol', (329, 338), 59, 'O'), ('##eran', (329, 338), 59, 'O'), ('##do', (329, 338), 59, 'O'), ('el', (339, 341), 60, 'O'), ('de', (342, 350), 61, 'O'), ('##c', (342, 350), 61, 'O'), ('##ú', (342, 350), 61, 'O'), ('##bito', (342, 350), 61, 'O'), ('.', (350, 351), 62, 'O'), ('No', (352, 354), 63, 'O'), ('as', (355, 362), 64, 'O'), ('##tenia', (355, 362), 64, 'O'), (',', (362, 363), 65, 'O'), ('no', (364, 366), 66, 'O'), ('pérdida', (367, 374), 67, 'O'), ('de', (375, 377), 68, 'O'), ('ap', (378, 385), 69, 'O'), ('##eti', (378, 385), 69, 'O'), ('##to', (378, 385), 69, 'O'), ('.', (385, 386), 70, 'O'), ('No', (387, 389), 71, 'O'), ('fie', (390, 396), 72, 'O'), ('##bre', (390, 396), 72, 'O'), ('termo', (397, 409), 73, 'O'), ('##met', (397, 409), 73, 'O'), ('##rada', (397, 409), 73, 'O'), ('.', (409, 410), 74, 'O')]\n",
      "\n",
      "\n",
      "[('No', (411, 413), 75, 'O'), ('ná', (414, 421), 76, 'O'), ('##use', (414, 421), 76, 'O'), ('##as', (414, 421), 76, 'O'), (',', (421, 422), 77, 'O'), ('no', (423, 425), 78, 'O'), ('v', (426, 433), 79, 'O'), ('##óm', (426, 433), 79, 'O'), ('##itos', (426, 433), 79, 'O'), (',', (433, 434), 80, 'O'), ('no', (435, 437), 81, 'O'), ('otra', (438, 442), 82, 'O'), ('sin', (443, 457), 83, 'O'), ('##toma', (443, 457), 83, 'O'), ('##tol', (443, 457), 83, 'O'), ('##ogía', (443, 457), 83, 'O'), ('de', (458, 460), 84, 'O'), ('interés', (461, 468), 85, 'O'), ('.', (468, 469), 86, 'O'), ('En', (470, 472), 87, 'O'), ('la', (473, 475), 88, 'O'), ('última', (476, 482), 89, 'O'), ('visita', (483, 489), 90, 'O'), ('a', (490, 491), 91, 'O'), ('Ur', (492, 501), 92, 'O'), ('##gen', (492, 501), 92, 'O'), ('##cias', (492, 501), 92, 'O'), (',', (501, 502), 93, 'O'), ('refiere', (503, 510), 94, 'O'), ('in', (511, 524), 95, 'O'), ('##esta', (511, 524), 95, 'O'), ('##bilidad', (511, 524), 95, 'O'), ('a', (525, 526), 96, 'O'), ('la', (527, 529), 97, 'O'), ('marcha', (530, 536), 98, 'O'), ('as', (537, 545), 99, 'O'), ('##ociada', (537, 545), 99, 'O'), ('a', (546, 547), 100, 'O'), ('dolor', (548, 553), 101, 'O'), ('trans', (554, 567), 102, 'O'), ('##fix', (554, 567), 102, 'O'), ('##iante', (554, 567), 102, 'O'), ('interes', (568, 582), 103, 'O'), ('##cap', (568, 582), 103, 'O'), ('##ular', (568, 582), 103, 'O'), ('.', (582, 583), 104, 'O'), ('Se', (584, 586), 105, 'O'), ('le', (587, 589), 106, 'O'), ('soli', (590, 598), 107, 'O'), ('##cita', (590, 598), 107, 'O'), ('una', (599, 602), 108, 'O'), ('ang', (603, 608), 109, 'O'), ('##io', (603, 608), 109, 'O'), ('-', (608, 609), 110, 'O'), ('TC', (609, 611), 111, 'O'), ('de', (612, 614), 112, 'O'), ('tó', (615, 620), 113, 'O'), ('##rax', (615, 620), 113, 'O'), (',', (620, 621), 114, 'O'), ('en', (622, 624), 115, 'O'), ('la', (625, 627), 116, 'O'), ('que', (628, 631), 117, 'O'), ('se', (632, 634), 118, 'O'), ('ob', (635, 642), 119, 'O'), ('##ser', (635, 642), 119, 'O'), ('##vó', (635, 642), 119, 'O'), (':', (642, 643), 120, 'O'), ('ane', (644, 653), 121, 'O'), ('##uris', (644, 653), 121, 'O'), ('##ma', (644, 653), 121, 'O'), ('de', (654, 656), 122, 'O'), ('ao', (657, 662), 123, 'O'), ('##rta', (657, 662), 123, 'O'), ('to', (663, 671), 124, 'O'), ('##rá', (663, 671), 124, 'O'), ('##ci', (663, 671), 124, 'O'), ('##ca', (663, 671), 124, 'O'), ('de', (672, 674), 125, 'O'), ('inicio', (675, 681), 126, 'O'), ('dis', (682, 688), 127, 'O'), ('##tal', (682, 688), 127, 'O'), ('a', (689, 690), 128, 'O'), ('la', (691, 693), 129, 'O'), ('salida', (694, 700), 130, 'O'), ('de', (701, 703), 131, 'O'), ('la', (704, 706), 132, 'O'), ('sub', (707, 716), 133, 'O'), ('##cla', (707, 716), 133, 'O'), ('##via', (707, 716), 133, 'O'), ('izquierda', (717, 726), 134, 'O'), ('de', (727, 729), 135, 'O'), ('4', (730, 731), 136, 'O'), ('x', (732, 733), 137, 'O'), ('5', (734, 735), 138, 'O'), (',', (735, 736), 139, 'O'), ('5', (736, 737), 140, 'O'), ('x', (738, 739), 141, 'O'), ('4', (740, 741), 142, 'O'), (',', (741, 742), 143, 'O'), ('3', (742, 743), 144, 'O'), ('cm', (744, 746), 145, 'O'), ('que', (747, 750), 146, 'O'), ('fue', (751, 754), 147, 'O'), ('valor', (755, 763), 148, 'O'), ('##ada', (755, 763), 148, 'O'), ('por', (764, 767), 149, 'O'), ('el', (768, 770), 150, 'O'), ('Servicio', (771, 779), 151, 'O'), ('Vascular', (780, 788), 152, 'O'), (',', (788, 789), 153, 'O'), ('que', (790, 793), 154, 'O'), ('no', (794, 796), 155, 'O'), ('encontró', (797, 805), 156, 'O'), ('sign', (806, 812), 157, 'O'), ('##os', (806, 812), 157, 'O'), ('de', (813, 815), 158, 'O'), ('com', (816, 828), 159, 'O'), ('##pli', (816, 828), 159, 'O'), ('##cación', (816, 828), 159, 'O'), ('.', (828, 829), 160, 'O')]\n",
      "\n",
      "\n",
      "[('A', (830, 835), 161, 'O'), ('##cud', (830, 835), 161, 'O'), ('##e', (830, 835), 161, 'O'), ('de', (836, 838), 162, 'O'), ('nuevo', (839, 844), 163, 'O'), ('a', (845, 846), 164, 'O'), ('Ur', (847, 856), 165, 'O'), ('##gen', (847, 856), 165, 'O'), ('##cias', (847, 856), 165, 'O'), ('7', (857, 858), 166, 'O'), ('días', (859, 863), 167, 'O'), ('después', (864, 871), 168, 'O'), ('aq', (872, 881), 169, 'O'), ('##ue', (872, 881), 169, 'O'), ('##jan', (872, 881), 169, 'O'), ('##do', (872, 881), 169, 'O'), ('pérdida', (882, 889), 170, 'O'), ('de', (890, 892), 171, 'O'), ('fuerza', (893, 899), 172, 'O'), ('y', (900, 901), 173, 'O'), ('pares', (902, 913), 174, 'O'), ('##tesi', (902, 913), 174, 'O'), ('##as', (902, 913), 174, 'O'), ('en', (914, 916), 175, 'O'), ('ambos', (917, 922), 176, 'O'), ('miembros', (923, 931), 177, 'O'), ('inferiores', (932, 942), 178, 'O'), (',', (942, 943), 179, 'O'), ('más', (944, 947), 180, 'O'), ('acusado', (948, 955), 181, 'O'), ('en', (956, 958), 182, 'O'), ('el', (959, 961), 183, 'O'), ('izquierdo', (962, 971), 184, 'O'), (',', (971, 972), 185, 'O'), ('llegando', (973, 981), 186, 'O'), ('a', (982, 983), 187, 'O'), ('realizar', (984, 994), 188, 'O'), ('##se', (984, 994), 188, 'O'), ('una', (995, 998), 189, 'O'), ('TC', (999, 1001), 190, 'O'), ('de', (1002, 1004), 191, 'O'), ('c', (1005, 1011), 192, 'O'), ('##ráneo', (1005, 1011), 192, 'O'), (',', (1011, 1012), 193, 'O'), ('que', (1013, 1016), 194, 'O'), ('fue', (1017, 1020), 195, 'O'), ('normal', (1021, 1027), 196, 'O'), ('.', (1027, 1028), 197, 'O'), ('Debido', (1029, 1035), 198, 'O'), ('a', (1036, 1037), 199, 'O'), ('la', (1038, 1040), 200, 'O'), ('pers', (1041, 1053), 201, 'O'), ('##istencia', (1041, 1053), 201, 'O'), ('de', (1054, 1056), 202, 'O'), ('la', (1057, 1059), 203, 'O'), ('sin', (1060, 1074), 204, 'O'), ('##toma', (1060, 1074), 204, 'O'), ('##tol', (1060, 1074), 204, 'O'), ('##ogía', (1060, 1074), 204, 'O'), (',', (1074, 1075), 205, 'O'), ('se', (1076, 1078), 206, 'O'), ('ingresó', (1079, 1086), 207, 'O'), ('para', (1087, 1091), 208, 'O'), ('estudio', (1092, 1099), 209, 'O'), ('en', (1100, 1102), 210, 'O'), ('el', (1103, 1105), 211, 'O'), ('Servicio', (1106, 1114), 212, 'O'), ('de', (1115, 1117), 213, 'O'), ('Medicina', (1118, 1126), 214, 'O'), ('Inter', (1127, 1134), 215, 'O'), ('##na', (1127, 1134), 215, 'O'), (',', (1134, 1135), 216, 'O'), ('soli', (1136, 1147), 217, 'O'), ('##cita', (1136, 1147), 217, 'O'), ('##ndo', (1136, 1147), 217, 'O'), ('una', (1148, 1151), 218, 'O'), ('RM', (1152, 1154), 219, 'O'), ('dor', (1155, 1166), 220, 'O'), ('##sol', (1155, 1166), 220, 'O'), ('##umba', (1155, 1166), 220, 'O'), ('##r', (1155, 1166), 220, 'O'), ('.', (1166, 1167), 221, 'O')]\n",
      "\n",
      "\n",
      "[('Re', (1168, 1181), 222, 'O'), ('##his', (1168, 1181), 222, 'O'), ('##toria', (1168, 1181), 222, 'O'), ('##ndo', (1168, 1181), 222, 'O'), ('al', (1182, 1184), 223, 'O'), ('paciente', (1185, 1193), 224, 'O'), (',', (1193, 1194), 225, 'O'), ('refer', (1195, 1202), 226, 'O'), ('##ía', (1195, 1202), 226, 'O'), ('ret', (1203, 1213), 227, 'O'), ('##rac', (1203, 1213), 227, 'O'), ('##ción', (1203, 1213), 227, 'O'), ('del', (1214, 1217), 228, 'O'), ('pez', (1218, 1223), 229, 'O'), ('##ón', (1218, 1223), 229, 'O'), ('izquierdo', (1224, 1233), 230, 'O'), ('desde', (1234, 1239), 231, 'O'), ('hace', (1240, 1244), 232, 'O'), ('2', (1245, 1246), 233, 'O'), ('años', (1247, 1251), 234, 'O'), (',', (1251, 1252), 235, 'O'), ('motivo', (1253, 1259), 236, 'O'), ('por', (1260, 1263), 237, 'O'), ('el', (1264, 1266), 238, 'O'), ('que', (1267, 1270), 239, 'O'), ('consul', (1271, 1279), 240, 'O'), ('##tó', (1271, 1279), 240, 'O'), ('en', (1280, 1282), 241, 'O'), ('varias', (1283, 1289), 242, 'O'), ('ocasiones', (1290, 1299), 243, 'O'), ('a', (1300, 1301), 244, 'O'), ('su', (1302, 1304), 245, 'O'), ('médico', (1305, 1311), 246, 'O'), ('de', (1312, 1314), 247, 'O'), ('cabecera', (1315, 1323), 248, 'O'), (',', (1323, 1324), 249, 'O'), ('y', (1325, 1326), 250, 'O'), ('al', (1327, 1329), 251, 'O'), ('que', (1330, 1333), 252, 'O'), ('no', (1334, 1336), 253, 'O'), ('se', (1337, 1339), 254, 'O'), ('le', (1340, 1342), 255, 'O'), ('dio', (1343, 1346), 256, 'O'), ('valor', (1347, 1352), 257, 'O'), ('pat', (1353, 1363), 258, 'O'), ('##ológico', (1353, 1363), 258, 'O'), ('dada', (1364, 1368), 259, 'O'), ('la', (1369, 1371), 260, 'O'), ('ob', (1372, 1380), 261, 'O'), ('##esi', (1372, 1380), 261, 'O'), ('##dad', (1372, 1380), 261, 'O'), ('que', (1381, 1384), 262, 'O'), ('presenta', (1385, 1395), 263, 'O'), ('##ba', (1385, 1395), 263, 'O'), (',', (1395, 1396), 264, 'O'), ('re', (1397, 1409), 265, 'O'), ('##come', (1397, 1409), 265, 'O'), ('##ndan', (1397, 1409), 265, 'O'), ('##do', (1397, 1409), 265, 'O'), ('medidas', (1410, 1417), 266, 'O'), ('hi', (1418, 1427), 267, 'O'), ('##gi', (1418, 1427), 267, 'O'), ('##éni', (1418, 1427), 267, 'O'), ('##co', (1418, 1427), 267, 'O'), ('-', (1427, 1428), 268, 'O'), ('diet', (1428, 1438), 269, 'O'), ('##ética', (1428, 1438), 269, 'O'), ('##s', (1428, 1438), 269, 'O'), ('para', (1439, 1443), 270, 'O'), ('su', (1444, 1446), 271, 'O'), ('control', (1447, 1454), 272, 'O'), ('.', (1454, 1455), 273, 'O'), ('Ex', (1457, 1463), 274, 'O'), ('##amen', (1457, 1463), 274, 'O'), ('físico', (1464, 1470), 275, 'O'), ('Ex', (1471, 1482), 276, 'O'), ('##plo', (1471, 1482), 276, 'O'), ('##ración', (1471, 1482), 276, 'O'), ('neu', (1483, 1494), 277, 'O'), ('##rol', (1483, 1494), 277, 'O'), ('##ógica', (1483, 1494), 277, 'O'), (':', (1494, 1495), 278, 'O'), ('P', (1496, 1501), 279, 'O'), ('##IN', (1496, 1501), 279, 'O'), ('##LA', (1496, 1501), 279, 'O'), (',', (1501, 1502), 280, 'O'), ('MO', (1503, 1507), 281, 'O'), ('##EC', (1503, 1507), 281, 'O'), (',', (1507, 1508), 282, 'O'), ('no', (1509, 1511), 283, 'O'), ('alter', (1512, 1522), 284, 'O'), ('##ación', (1512, 1522), 284, 'O'), ('de', (1523, 1525), 285, 'O'), ('pares', (1526, 1531), 286, 'O'), ('c', (1532, 1541), 287, 'O'), ('##rane', (1532, 1541), 287, 'O'), ('##ales', (1532, 1541), 287, 'O'), ('.', (1541, 1542), 288, 'O'), ('Par', (1543, 1554), 289, 'O'), ('##estes', (1543, 1554), 289, 'O'), ('##ias', (1543, 1554), 289, 'O'), ('en', (1555, 1557), 290, 'O'), ('el', (1558, 1560), 291, 'O'), ('abdomen', (1561, 1568), 292, 'O'), ('y', (1569, 1570), 293, 'O'), ('en', (1571, 1573), 294, 'O'), ('ambos', (1574, 1579), 295, 'O'), ('miembros', (1580, 1588), 296, 'O'), ('inferiores', (1589, 1599), 297, 'O'), ('.', (1599, 1600), 298, 'O'), ('Ni', (1601, 1606), 299, 'O'), ('##vel', (1601, 1606), 299, 'O'), ('med', (1607, 1614), 300, 'O'), ('##ular', (1607, 1614), 300, 'O'), ('sens', (1615, 1624), 301, 'O'), ('##iti', (1615, 1624), 301, 'O'), ('##vo', (1615, 1624), 301, 'O'), ('a', (1625, 1626), 302, 'O'), ('nivel', (1627, 1632), 303, 'O'), ('epi', (1633, 1644), 304, 'O'), ('##g', (1633, 1644), 304, 'O'), ('##ást', (1633, 1644), 304, 'O'), ('##rico', (1633, 1644), 304, 'O'), ('.', (1644, 1645), 305, 'O')]\n",
      "\n",
      "\n",
      "[('P', (1646, 1653), 306, 'O'), ('##ér', (1646, 1653), 306, 'O'), ('##dida', (1646, 1653), 306, 'O'), ('de', (1654, 1656), 307, 'O'), ('fuerza', (1657, 1663), 308, 'O'), ('4', (1664, 1665), 309, 'O'), ('/', (1665, 1666), 310, 'O'), ('5', (1666, 1667), 311, 'O'), ('en', (1668, 1670), 312, 'O'), ('el', (1671, 1673), 313, 'O'), ('miembro', (1674, 1681), 314, 'O'), ('inferior', (1682, 1690), 315, 'O'), ('derecho', (1691, 1698), 316, 'O'), ('y', (1699, 1700), 317, 'O'), ('2', (1701, 1702), 318, 'O'), ('/', (1702, 1703), 319, 'O'), ('5', (1703, 1704), 320, 'O'), ('en', (1705, 1707), 321, 'O'), ('el', (1708, 1710), 322, 'O'), ('miembro', (1711, 1718), 323, 'O'), ('inferior', (1719, 1727), 324, 'O'), ('izquierdo', (1728, 1737), 325, 'O'), ('.', (1737, 1738), 326, 'O'), ('Aus', (1739, 1751), 327, 'O'), ('##cul', (1739, 1751), 327, 'O'), ('##tación', (1739, 1751), 327, 'O'), ('card', (1752, 1760), 328, 'O'), ('##iac', (1752, 1760), 328, 'O'), ('##a', (1752, 1760), 328, 'O'), (':', (1760, 1761), 329, 'O'), ('r', (1762, 1769), 330, 'O'), ('##ít', (1762, 1769), 330, 'O'), ('##mico', (1762, 1769), 330, 'O'), (',', (1769, 1770), 331, 'O'), ('sin', (1771, 1774), 332, 'O'), ('so', (1775, 1781), 333, 'O'), ('##plos', (1775, 1781), 333, 'O'), ('.', (1781, 1782), 334, 'O'), ('Aus', (1783, 1795), 335, 'O'), ('##cul', (1783, 1795), 335, 'O'), ('##tación', (1783, 1795), 335, 'O'), ('resp', (1796, 1808), 336, 'O'), ('##irat', (1796, 1808), 336, 'O'), ('##oria', (1796, 1808), 336, 'O'), (':', (1808, 1809), 337, 'O'), ('hip', (1810, 1821), 338, 'O'), ('##of', (1810, 1821), 338, 'O'), ('##ones', (1810, 1821), 338, 'O'), ('##is', (1810, 1821), 338, 'O'), ('generali', (1822, 1834), 339, 'O'), ('##zada', (1822, 1834), 339, 'O'), ('sin', (1835, 1838), 340, 'O'), ('ru', (1839, 1845), 341, 'O'), ('##idos', (1839, 1845), 341, 'O'), ('pat', (1846, 1857), 342, 'O'), ('##ológicos', (1846, 1857), 342, 'O'), ('sobre', (1858, 1871), 343, 'O'), ('##aña', (1858, 1871), 343, 'O'), ('##dido', (1858, 1871), 343, 'O'), ('##s', (1858, 1871), 343, 'O'), ('.', (1871, 1872), 344, 'O'), ('Abd', (1873, 1880), 345, 'O'), ('##omen', (1873, 1880), 345, 'O'), (':', (1880, 1881), 346, 'O'), ('bland', (1882, 1888), 347, 'O'), ('##o', (1882, 1888), 347, 'O'), (',', (1888, 1889), 348, 'O'), ('g', (1890, 1899), 349, 'O'), ('##lob', (1890, 1899), 349, 'O'), ('##ulos', (1890, 1899), 349, 'O'), ('##o', (1890, 1899), 349, 'O'), (',', (1899, 1900), 350, 'O'), ('de', (1901, 1911), 351, 'O'), ('##presi', (1901, 1911), 351, 'O'), ('##ble', (1901, 1911), 351, 'O'), (',', (1911, 1912), 352, 'O'), ('no', (1913, 1915), 353, 'O'), ('semi', (1916, 1926), 354, 'O'), ('##ología', (1916, 1926), 354, 'O'), ('as', (1927, 1935), 355, 'O'), ('##cí', (1927, 1935), 355, 'O'), ('##tica', (1927, 1935), 355, 'O'), (',', (1935, 1936), 356, 'O'), ('ru', (1937, 1943), 357, 'O'), ('##idos', (1937, 1943), 357, 'O'), ('hi', (1944, 1955), 358, 'O'), ('##dro', (1944, 1955), 358, 'O'), ('##a', (1944, 1955), 358, 'O'), ('##éreo', (1944, 1955), 358, 'O'), ('##s', (1944, 1955), 358, 'O'), ('conserva', (1956, 1967), 359, 'O'), ('##dos', (1956, 1967), 359, 'O'), (',', (1967, 1968), 360, 'O'), ('no', (1969, 1971), 361, 'O'), ('sign', (1972, 1978), 362, 'O'), ('##os', (1972, 1978), 362, 'O'), ('de', (1979, 1981), 363, 'O'), ('ir', (1982, 1992), 364, 'O'), ('##rita', (1982, 1992), 364, 'O'), ('##ción', (1982, 1992), 364, 'O'), ('per', (1993, 2003), 365, 'O'), ('##iton', (1993, 2003), 365, 'O'), ('##eal', (1993, 2003), 365, 'O'), ('.', (2003, 2004), 366, 'O'), ('Re', (2005, 2015), 367, 'O'), ('##tra', (2005, 2015), 367, 'O'), ('##cción', (2005, 2015), 367, 'O'), ('marcada', (2016, 2023), 368, 'O'), ('del', (2024, 2027), 369, 'O'), ('pez', (2028, 2033), 370, 'O'), ('##ón', (2028, 2033), 370, 'O'), ('izquierdo', (2034, 2043), 371, 'O'), ('.', (2043, 2044), 372, 'O'), ('No', (2045, 2047), 373, 'O'), ('sec', (2048, 2057), 374, 'O'), ('##reció', (2048, 2057), 374, 'O'), ('##n', (2048, 2057), 374, 'O'), ('por', (2058, 2061), 375, 'O'), ('el', (2062, 2064), 376, 'O'), ('pez', (2065, 2070), 377, 'O'), ('##ón', (2065, 2070), 377, 'O'), ('.', (2070, 2071), 378, 'O')]\n",
      "\n",
      "\n",
      "[('No', (2072, 2074), 379, 'O'), ('telo', (2075, 2085), 380, 'O'), ('##rra', (2075, 2085), 380, 'O'), ('##gia', (2075, 2085), 380, 'O'), ('ni', (2086, 2088), 381, 'O'), ('sign', (2089, 2095), 382, 'O'), ('##os', (2089, 2095), 382, 'O'), ('in', (2096, 2109), 383, 'O'), ('##f', (2096, 2109), 383, 'O'), ('##lama', (2096, 2109), 383, 'O'), ('##torio', (2096, 2109), 383, 'O'), ('##s', (2096, 2109), 383, 'O'), ('.', (2109, 2110), 384, 'O'), ('Pal', (2111, 2120), 385, 'O'), ('##pación', (2111, 2120), 385, 'O'), ('de', (2121, 2123), 386, 'O'), ('un', (2124, 2126), 387, 'O'), ('nó', (2127, 2133), 388, 'O'), ('##dul', (2127, 2133), 388, 'O'), ('##o', (2127, 2133), 388, 'O'), ('ret', (2134, 2146), 389, 'O'), ('##roa', (2134, 2146), 389, 'O'), ('##reo', (2134, 2146), 389, 'O'), ('##lar', (2134, 2146), 389, 'O'), (',', (2146, 2147), 390, 'O'), ('pé', (2148, 2154), 391, 'O'), ('##tre', (2148, 2154), 391, 'O'), ('##o', (2148, 2154), 391, 'O'), (',', (2154, 2155), 392, 'O'), ('de', (2156, 2158), 393, 'O'), ('unos', (2159, 2163), 394, 'O'), ('4', (2164, 2165), 395, 'O'), ('cm', (2166, 2168), 396, 'O'), ('de', (2169, 2171), 397, 'O'), ('diámetro', (2172, 2180), 398, 'O'), ('.', (2180, 2181), 399, 'O'), ('No', (2182, 2184), 400, 'O'), ('se', (2185, 2187), 401, 'O'), ('pal', (2188, 2194), 402, 'O'), ('##pan', (2188, 2194), 402, 'O'), ('ad', (2195, 2206), 403, 'O'), ('##eno', (2195, 2206), 403, 'O'), ('##pat', (2195, 2206), 403, 'O'), ('##ías', (2195, 2206), 403, 'O'), ('de', (2207, 2209), 404, 'O'), ('significado', (2210, 2221), 405, 'O'), ('pat', (2222, 2232), 406, 'O'), ('##ológico', (2222, 2232), 406, 'O'), ('en', (2233, 2235), 407, 'O'), ('ninguna', (2236, 2243), 408, 'O'), ('estación', (2244, 2252), 409, 'O'), ('li', (2253, 2262), 410, 'O'), ('##n', (2253, 2262), 410, 'O'), ('##f', (2253, 2262), 410, 'O'), ('##ática', (2253, 2262), 410, 'O'), ('.', (2262, 2263), 411, 'O'), ('Pr', (2265, 2272), 412, 'O'), ('##ue', (2265, 2272), 412, 'O'), ('##bas', (2265, 2272), 412, 'O'), ('complement', (2273, 2288), 413, 'O'), ('##arias', (2273, 2288), 413, 'O'), ('-', (2289, 2290), 414, 'O'), ('Ang', (2291, 2296), 415, 'O'), ('##io', (2291, 2296), 415, 'O'), ('-', (2296, 2297), 416, 'O'), ('TC', (2297, 2299), 417, 'O'), ('de', (2300, 2302), 418, 'O'), ('tó', (2303, 2308), 419, 'O'), ('##rax', (2303, 2308), 419, 'O'), (':', (2308, 2309), 420, 'O'), ('se', (2310, 2312), 421, 'O'), ('rev', (2313, 2320), 422, 'O'), ('##isan', (2313, 2320), 422, 'O'), ('las', (2321, 2324), 423, 'O'), ('imágenes', (2325, 2333), 424, 'O'), (',', (2333, 2334), 425, 'O'), ('ob', (2335, 2347), 426, 'O'), ('##ser', (2335, 2347), 426, 'O'), ('##ván', (2335, 2347), 426, 'O'), ('##dose', (2335, 2347), 426, 'O'), ('un', (2348, 2350), 427, 'O'), ('nó', (2351, 2357), 428, 'O'), ('##dul', (2351, 2357), 428, 'O'), ('##o', (2351, 2357), 428, 'O'), ('ret', (2358, 2370), 429, 'O'), ('##roa', (2358, 2370), 429, 'O'), ('##reo', (2358, 2370), 429, 'O'), ('##lar', (2358, 2370), 429, 'O'), ('mama', (2371, 2378), 430, 'O'), ('##rio', (2371, 2378), 430, 'O'), ('izquierdo', (2379, 2388), 431, 'O'), ('de', (2389, 2391), 432, 'O'), ('4', (2392, 2393), 433, 'O'), ('cm', (2394, 2396), 434, 'O'), ('de', (2397, 2399), 435, 'O'), ('diámetro', (2400, 2408), 436, 'O'), ('y', (2409, 2410), 437, 'O'), ('una', (2411, 2414), 438, 'O'), ('ad', (2415, 2425), 439, 'O'), ('##eno', (2415, 2425), 439, 'O'), ('##pat', (2415, 2425), 439, 'O'), ('##ía', (2415, 2425), 439, 'O'), ('a', (2426, 2432), 440, 'O'), ('##xi', (2426, 2432), 440, 'O'), ('##lar', (2426, 2432), 440, 'O'), ('izquierda', (2433, 2442), 441, 'O'), ('de', (2443, 2445), 442, 'O'), ('2', (2446, 2447), 443, 'O'), (',', (2447, 2448), 444, 'O'), ('5', (2448, 2449), 445, 'O'), ('cm', (2450, 2452), 446, 'O'), ('.', (2452, 2453), 447, 'O')]\n",
      "\n",
      "\n",
      "[('El', (2454, 2456), 448, 'O'), ('nó', (2457, 2463), 449, 'O'), ('##dul', (2457, 2463), 449, 'O'), ('##o', (2457, 2463), 449, 'O'), ('se', (2464, 2466), 450, 'O'), ('observa', (2467, 2476), 451, 'O'), ('##ba', (2467, 2476), 451, 'O'), ('varios', (2477, 2483), 452, 'O'), ('corte', (2484, 2490), 453, 'O'), ('##s', (2484, 2490), 453, 'O'), ('por', (2491, 2494), 454, 'O'), ('debajo', (2495, 2501), 455, 'O'), ('del', (2502, 2505), 456, 'O'), ('límite', (2506, 2512), 457, 'O'), ('caudal', (2513, 2519), 458, 'O'), ('del', (2520, 2523), 459, 'O'), ('ane', (2524, 2533), 460, 'O'), ('##uris', (2524, 2533), 460, 'O'), ('##ma', (2524, 2533), 460, 'O'), ('.', (2533, 2534), 461, 'O'), ('-', (2535, 2536), 462, 'O'), ('RM', (2537, 2539), 463, 'O'), ('dor', (2540, 2551), 464, 'O'), ('##sol', (2540, 2551), 464, 'O'), ('##umba', (2540, 2551), 464, 'O'), ('##r', (2540, 2551), 464, 'O'), (':', (2551, 2552), 465, 'O'), ('frac', (2553, 2561), 466, 'O'), ('##tura', (2553, 2561), 466, 'O'), ('pat', (2562, 2572), 467, 'O'), ('##ológica', (2562, 2572), 467, 'O'), ('en', (2573, 2575), 468, 'O'), ('D', (2576, 2578), 469, 'O'), ('##5', (2576, 2578), 469, 'O'), (',', (2578, 2579), 470, 'O'), ('masa', (2580, 2584), 471, 'O'), ('de', (2585, 2587), 472, 'O'), ('partes', (2588, 2594), 473, 'O'), ('bland', (2595, 2602), 474, 'O'), ('##as', (2595, 2602), 474, 'O'), ('e', (2603, 2604), 475, 'O'), ('invasión', (2605, 2613), 476, 'O'), ('del', (2614, 2617), 477, 'O'), ('canal', (2618, 2623), 478, 'O'), ('med', (2624, 2631), 479, 'O'), ('##ular', (2624, 2631), 479, 'O'), ('y', (2632, 2633), 480, 'O'), ('foc', (2634, 2638), 481, 'O'), ('##o', (2634, 2638), 481, 'O'), ('con', (2639, 2642), 482, 'O'), ('pérdida', (2643, 2650), 483, 'O'), ('de', (2651, 2653), 484, 'O'), ('señal', (2654, 2659), 485, 'O'), ('en', (2660, 2662), 486, 'O'), ('D', (2663, 2665), 487, 'O'), ('##4', (2663, 2665), 487, 'O'), ('-', (2665, 2666), 488, 'O'), ('D8', (2666, 2668), 489, 'O'), ('-', (2668, 2669), 490, 'O'), ('D1', (2669, 2672), 491, 'O'), ('##1', (2669, 2672), 491, 'O'), ('y', (2673, 2674), 492, 'O'), ('cuerpo', (2675, 2681), 493, 'O'), ('de', (2682, 2684), 494, 'O'), ('este', (2685, 2693), 495, 'O'), ('##rn', (2685, 2693), 495, 'O'), ('##ón', (2685, 2693), 495, 'O'), ('compatible', (2694, 2705), 496, 'O'), ('##s', (2694, 2705), 496, 'O'), ('con', (2706, 2709), 497, 'O'), ('met', (2710, 2720), 498, 'B'), ('##ást', (2710, 2720), 498, 'B'), ('##asis', (2710, 2720), 498, 'B'), ('ós', (2721, 2726), 499, 'O'), ('##eas', (2721, 2726), 499, 'O'), ('múltiples', (2727, 2736), 500, 'O'), ('.', (2736, 2737), 501, 'O'), ('-', (2738, 2739), 502, 'O'), ('Ma', (2740, 2750), 503, 'O'), ('##mo', (2740, 2750), 503, 'O'), ('##grafía', (2740, 2750), 503, 'O'), ('de', (2751, 2753), 504, 'O'), ('la', (2754, 2756), 505, 'O'), ('mama', (2757, 2761), 506, 'O'), ('izquierda', (2762, 2771), 507, 'O'), (':', (2771, 2772), 508, 'O'), ('nó', (2773, 2779), 509, 'O'), ('##dul', (2773, 2779), 509, 'O'), ('##o', (2773, 2779), 509, 'O'), ('es', (2780, 2790), 510, 'O'), ('##pic', (2780, 2790), 510, 'O'), ('##ulado', (2780, 2790), 510, 'O'), ('de', (2791, 2793), 511, 'O'), ('características', (2794, 2809), 512, 'O'), ('mali', (2810, 2818), 513, 'B'), ('##gna', (2810, 2818), 513, 'B'), ('##s', (2810, 2818), 513, 'B'), ('.', (2818, 2819), 514, 'O'), ('B', (2820, 2826), 515, 'O'), ('##IR', (2820, 2826), 515, 'O'), ('##AD', (2820, 2826), 515, 'O'), ('##S', (2820, 2826), 515, 'O'), ('4', (2827, 2828), 516, 'O'), ('.', (2828, 2829), 517, 'O')]\n",
      "\n",
      "\n",
      "[('-', (2830, 2831), 518, 'O'), ('Gamma', (2832, 2843), 519, 'O'), ('##grafía', (2832, 2843), 519, 'O'), ('ós', (2844, 2848), 520, 'O'), ('##ea', (2844, 2848), 520, 'O'), (':', (2848, 2849), 521, 'O'), ('en', (2850, 2852), 522, 'O'), ('las', (2853, 2856), 523, 'O'), ('imágenes', (2857, 2865), 524, 'O'), ('ob', (2866, 2875), 525, 'O'), ('##teni', (2866, 2875), 525, 'O'), ('##das', (2866, 2875), 525, 'O'), ('se', (2876, 2878), 526, 'O'), ('observa', (2879, 2886), 527, 'O'), ('la', (2887, 2889), 528, 'O'), ('existencia', (2890, 2900), 529, 'O'), ('de', (2901, 2903), 530, 'O'), ('hip', (2904, 2918), 531, 'O'), ('##er', (2904, 2918), 531, 'O'), ('##cap', (2904, 2918), 531, 'O'), ('##tación', (2904, 2918), 531, 'O'), ('ós', (2919, 2923), 532, 'O'), ('##ea', (2919, 2923), 532, 'O'), ('en', (2924, 2926), 533, 'O'), ('D', (2927, 2929), 534, 'O'), ('##4', (2927, 2929), 534, 'O'), ('-', (2929, 2930), 535, 'O'), ('D', (2930, 2932), 536, 'O'), ('##5', (2930, 2932), 536, 'O'), (',', (2932, 2933), 537, 'O'), ('D8', (2934, 2936), 538, 'O'), (',', (2936, 2937), 539, 'O'), ('man', (2938, 2946), 540, 'O'), ('##ub', (2938, 2946), 540, 'O'), ('##rio', (2938, 2946), 540, 'O'), ('y', (2947, 2948), 541, 'O'), ('cuerpo', (2949, 2955), 542, 'O'), ('esterna', (2956, 2964), 543, 'O'), ('##l', (2956, 2964), 543, 'O'), (',', (2964, 2965), 544, 'O'), ('localizada', (2966, 2977), 545, 'O'), ('##s', (2966, 2977), 545, 'O'), ('en', (2978, 2980), 546, 'O'), ('les', (2981, 2989), 547, 'O'), ('##iones', (2981, 2989), 547, 'O'), ('ya', (2990, 2992), 548, 'O'), ('descrita', (2993, 3002), 549, 'O'), ('##s', (2993, 3002), 549, 'O'), ('y', (3003, 3004), 550, 'O'), ('conocidas', (3005, 3014), 551, 'O'), ('anteriormente', (3015, 3028), 552, 'O'), (',', (3028, 3029), 553, 'O'), ('as', (3030, 3039), 554, 'O'), ('##ociada', (3030, 3039), 554, 'O'), ('##s', (3030, 3039), 554, 'O'), ('a', (3040, 3041), 555, 'O'), ('met', (3042, 3052), 556, 'B'), ('##ást', (3042, 3052), 556, 'B'), ('##asis', (3042, 3052), 556, 'B'), ('ós', (3053, 3058), 557, 'O'), ('##eas', (3053, 3058), 557, 'O'), ('y', (3059, 3060), 558, 'O'), ('ap', (3061, 3074), 559, 'O'), ('##last', (3061, 3074), 559, 'O'), ('##amiento', (3061, 3074), 559, 'O'), ('verte', (3075, 3084), 560, 'O'), ('##bral', (3075, 3084), 560, 'O'), ('en', (3085, 3087), 561, 'O'), ('el', (3088, 3090), 562, 'O'), ('caso', (3091, 3095), 563, 'O'), ('de', (3096, 3098), 564, 'O'), ('D', (3099, 3101), 565, 'O'), ('##4', (3099, 3101), 565, 'O'), ('-', (3101, 3102), 566, 'O'), ('D', (3102, 3104), 567, 'O'), ('##5', (3102, 3104), 567, 'O'), ('.', (3104, 3105), 568, 'O'), ('Se', (3106, 3108), 569, 'O'), ('observa', (3109, 3116), 570, 'O'), ('además', (3117, 3123), 571, 'O'), ('un', (3124, 3126), 572, 'O'), ('foc', (3127, 3131), 573, 'O'), ('##o', (3127, 3131), 573, 'O'), ('de', (3132, 3134), 574, 'O'), ('cap', (3135, 3144), 575, 'O'), ('##tación', (3135, 3144), 575, 'O'), ('en', (3145, 3147), 576, 'O'), ('el', (3148, 3150), 577, 'O'), ('6º', (3151, 3153), 578, 'O'), ('arco', (3154, 3158), 579, 'O'), ('costa', (3159, 3165), 580, 'O'), ('##l', (3159, 3165), 580, 'O'), ('derecho', (3166, 3173), 581, 'O'), ('posterior', (3174, 3183), 582, 'O'), ('y', (3184, 3185), 583, 'O'), ('en', (3186, 3188), 584, 'O'), ('el', (3189, 3191), 585, 'O'), ('2º', (3192, 3194), 586, 'O'), ('arco', (3195, 3199), 587, 'O'), ('costa', (3200, 3206), 588, 'O'), ('##l', (3200, 3206), 588, 'O'), ('izquierdo', (3207, 3216), 589, 'O'), ('posterior', (3217, 3226), 590, 'O'), ('.', (3226, 3227), 591, 'O')]\n",
      "\n",
      "\n",
      "[('-', (3228, 3229), 592, 'O'), ('Bio', (3230, 3237), 593, 'O'), ('##psia', (3230, 3237), 593, 'O'), ('de', (3238, 3240), 594, 'O'), ('mama', (3241, 3245), 595, 'O'), (':', (3245, 3246), 596, 'O'), ('car', (3247, 3256), 597, 'B'), ('##cino', (3247, 3256), 597, 'B'), ('##ma', (3247, 3256), 597, 'B'), ('in', (3257, 3268), 598, 'I'), ('##fil', (3257, 3268), 598, 'I'), ('##tra', (3257, 3268), 598, 'I'), ('##nte', (3257, 3268), 598, 'I'), ('en', (3269, 3271), 599, 'O'), ('la', (3272, 3274), 600, 'O'), ('mama', (3275, 3279), 601, 'O'), ('izquierda', (3280, 3289), 602, 'O'), ('con', (3290, 3293), 603, 'O'), ('receptor', (3294, 3304), 604, 'O'), ('##es', (3294, 3304), 604, 'O'), ('RE', (3305, 3307), 605, 'O'), ('+', (3307, 3308), 606, 'O'), ('+', (3308, 3309), 607, 'O'), ('+', (3309, 3310), 608, 'O'), (',', (3310, 3311), 609, 'O'), ('RP', (3312, 3314), 610, 'O'), ('+', (3314, 3315), 611, 'O'), ('+', (3315, 3316), 612, 'O'), ('+', (3316, 3317), 613, 'O'), (',', (3317, 3318), 614, 'O'), ('H', (3319, 3323), 615, 'O'), ('##ER', (3319, 3323), 615, 'O'), ('##2', (3319, 3323), 615, 'O'), ('/', (3323, 3324), 616, 'O'), ('neu', (3324, 3327), 617, 'O'), ('negativo', (3328, 3336), 618, 'O'), ('.', (3336, 3337), 619, 'O'), ('K', (3338, 3340), 620, 'O'), ('##I', (3338, 3340), 620, 'O'), ('67', (3341, 3343), 621, 'O'), ('30', (3344, 3346), 622, 'O'), ('%', (3346, 3347), 623, 'O'), ('.', (3347, 3348), 624, 'O'), ('-', (3349, 3350), 625, 'O'), ('Ana', (3351, 3360), 626, 'O'), ('##lí', (3351, 3360), 626, 'O'), ('##tica', (3351, 3360), 626, 'O'), (':', (3360, 3361), 627, 'O'), ('hem', (3362, 3371), 628, 'O'), ('##og', (3362, 3371), 628, 'O'), ('##rama', (3362, 3371), 628, 'O'), ('y', (3372, 3373), 629, 'O'), ('coa', (3374, 3385), 630, 'O'), ('##gula', (3374, 3385), 630, 'O'), ('##ción', (3374, 3385), 630, 'O'), ('sin', (3386, 3389), 631, 'O'), ('alter', (3390, 3402), 632, 'O'), ('##aciones', (3390, 3402), 632, 'O'), ('significativa', (3403, 3417), 633, 'O'), ('##s', (3403, 3417), 633, 'O'), ('.', (3417, 3418), 634, 'O'), ('En', (3419, 3421), 635, 'O'), ('la', (3422, 3424), 636, 'O'), ('bio', (3425, 3435), 637, 'O'), ('##quí', (3425, 3435), 637, 'O'), ('##mica', (3425, 3435), 637, 'O'), ('destaca', (3436, 3445), 638, 'O'), ('##ba', (3436, 3445), 638, 'O'), ('fos', (3446, 3455), 639, 'O'), ('##fat', (3446, 3455), 639, 'O'), ('##asa', (3446, 3455), 639, 'O'), ('al', (3456, 3464), 640, 'O'), ('##cali', (3456, 3464), 640, 'O'), ('##na', (3456, 3464), 640, 'O'), ('en', (3465, 3467), 641, 'O'), ('120', (3468, 3471), 642, 'O'), ('U', (3472, 3474), 643, 'O'), ('##I', (3472, 3474), 643, 'O'), ('/', (3474, 3475), 644, 'O'), ('l', (3475, 3476), 645, 'O'), (',', (3476, 3477), 646, 'O'), ('sin', (3478, 3481), 647, 'O'), ('alter', (3482, 3492), 648, 'O'), ('##ación', (3482, 3492), 648, 'O'), ('en', (3493, 3495), 649, 'O'), ('los', (3496, 3499), 650, 'O'), ('niveles', (3500, 3507), 651, 'O'), ('de', (3508, 3510), 652, 'O'), ('trans', (3511, 3524), 653, 'O'), ('##ami', (3511, 3524), 653, 'O'), ('##nas', (3511, 3524), 653, 'O'), ('##as', (3511, 3524), 653, 'O'), ('.', (3524, 3525), 654, 'O'), ('-', (3526, 3527), 655, 'O'), ('Marca', (3528, 3538), 656, 'O'), ('##dores', (3528, 3538), 656, 'O'), ('tumor', (3539, 3548), 657, 'O'), ('##ales', (3539, 3548), 657, 'O'), (':', (3548, 3549), 658, 'O'), ('normale', (3550, 3558), 659, 'O'), ('##s', (3550, 3558), 659, 'O'), ('.', (3558, 3559), 660, 'O'), ('Dia', (3561, 3572), 661, 'O'), ('##gnóstico', (3561, 3572), 661, 'O'), ('Com', (3573, 3583), 662, 'O'), ('##presión', (3573, 3583), 662, 'O'), ('med', (3584, 3591), 663, 'O'), ('##ular', (3584, 3591), 663, 'O'), ('a', (3592, 3593), 664, 'O'), ('nivel', (3594, 3599), 665, 'O'), ('de', (3600, 3602), 666, 'O'), ('D', (3603, 3605), 667, 'O'), ('##5', (3603, 3605), 667, 'O'), ('por', (3606, 3609), 668, 'O'), ('met', (3610, 3620), 669, 'B'), ('##ást', (3610, 3620), 669, 'B'), ('##asis', (3610, 3620), 669, 'B'), ('de', (3621, 3623), 670, 'I'), ('cáncer', (3624, 3630), 671, 'I'), ('de', (3631, 3633), 672, 'O'), ('mama', (3634, 3638), 673, 'O'), ('.', (3638, 3639), 674, 'O')]\n",
      "\n",
      "\n",
      "[('Trata', (3641, 3652), 675, 'O'), ('##miento', (3641, 3652), 675, 'O'), ('Rec', (3653, 3659), 676, 'O'), ('##ibe', (3653, 3659), 676, 'O'), ('dos', (3660, 3665), 677, 'O'), ('##is', (3660, 3665), 677, 'O'), ('única', (3666, 3671), 678, 'O'), ('de', (3672, 3674), 679, 'O'), ('radio', (3675, 3687), 680, 'O'), ('##tera', (3675, 3687), 680, 'O'), ('##pia', (3675, 3687), 680, 'O'), ('(', (3688, 3689), 681, 'O'), ('8', (3689, 3690), 682, 'O'), ('G', (3691, 3693), 683, 'O'), ('##y', (3691, 3693), 683, 'O'), (')', (3693, 3694), 684, 'O'), ('en', (3695, 3697), 685, 'O'), ('el', (3698, 3700), 686, 'O'), ('segmento', (3701, 3709), 687, 'O'), ('de', (3710, 3712), 688, 'O'), ('la', (3713, 3715), 689, 'O'), ('columna', (3716, 3723), 690, 'O'), ('de', (3724, 3726), 691, 'O'), ('D', (3727, 3729), 692, 'O'), ('##3', (3727, 3729), 692, 'O'), ('a', (3730, 3731), 693, 'O'), ('D', (3732, 3734), 694, 'O'), ('##7', (3732, 3734), 694, 'O'), ('.', (3734, 3735), 695, 'O'), ('Se', (3736, 3738), 696, 'O'), ('inicia', (3739, 3745), 697, 'O'), ('qui', (3746, 3759), 698, 'O'), ('##mio', (3746, 3759), 698, 'O'), ('##tera', (3746, 3759), 698, 'O'), ('##pia', (3746, 3759), 698, 'O'), ('en', (3760, 3762), 699, 'O'), ('esquema', (3763, 3770), 700, 'O'), ('AC', (3771, 3773), 701, 'O'), ('(', (3774, 3775), 702, 'O'), ('ad', (3775, 3786), 703, 'O'), ('##riam', (3775, 3786), 703, 'O'), ('##ici', (3775, 3786), 703, 'O'), ('##na', (3775, 3786), 703, 'O'), (',', (3786, 3787), 704, 'O'), ('ciclo', (3788, 3802), 705, 'O'), ('##fos', (3788, 3802), 705, 'O'), ('##fa', (3788, 3802), 705, 'O'), ('##mida', (3788, 3802), 705, 'O'), (')', (3802, 3803), 706, 'O'), ('.', (3803, 3804), 707, 'O'), ('E', (3806, 3815), 708, 'O'), ('##vol', (3806, 3815), 708, 'O'), ('##ución', (3806, 3815), 708, 'O'), ('El', (3816, 3818), 709, 'O'), ('paciente', (3819, 3827), 710, 'O'), ('recibe', (3828, 3834), 711, 'O'), ('6', (3835, 3836), 712, 'O'), ('ciclo', (3837, 3843), 713, 'O'), ('##s', (3837, 3843), 713, 'O'), ('de', (3844, 3846), 714, 'O'), ('AC', (3847, 3849), 715, 'O'), ('en', (3850, 3852), 716, 'O'), ('pau', (3853, 3858), 717, 'O'), ('##ta', (3853, 3858), 717, 'O'), ('quince', (3859, 3868), 718, 'O'), ('##nal', (3859, 3868), 718, 'O'), ('.', (3868, 3869), 719, 'O'), ('Buena', (3870, 3875), 720, 'O'), ('tol', (3876, 3886), 721, 'O'), ('##eran', (3876, 3886), 721, 'O'), ('##cia', (3876, 3886), 721, 'O'), ('inicial', (3887, 3894), 722, 'O'), (',', (3894, 3895), 723, 'O'), ('si', (3896, 3898), 724, 'O'), ('bien', (3899, 3903), 725, 'O'), ('existe', (3904, 3910), 726, 'O'), ('pro', (3911, 3921), 727, 'O'), ('##gres', (3911, 3921), 727, 'O'), ('##ión', (3911, 3921), 727, 'O'), ('de', (3922, 3924), 728, 'O'), ('la', (3925, 3927), 729, 'O'), ('clínica', (3928, 3935), 730, 'O'), ('neu', (3936, 3947), 731, 'O'), ('##rol', (3936, 3947), 731, 'O'), ('##ógica', (3936, 3947), 731, 'O'), ('hasta', (3948, 3953), 732, 'O'), ('la', (3954, 3956), 733, 'O'), ('para', (3957, 3967), 734, 'O'), ('##ple', (3957, 3967), 734, 'O'), ('##jia', (3957, 3967), 734, 'O'), ('completa', (3968, 3976), 735, 'O'), ('.', (3976, 3977), 736, 'O'), ('El', (3978, 3980), 737, 'O'), ('paciente', (3981, 3989), 738, 'O'), ('decidió', (3990, 3997), 739, 'O'), ('no', (3998, 4000), 740, 'O'), ('continuar', (4001, 4010), 741, 'O'), ('con', (4011, 4014), 742, 'O'), ('el', (4015, 4017), 743, 'O'), ('tratamiento', (4018, 4029), 744, 'O'), ('al', (4030, 4032), 745, 'O'), ('no', (4033, 4035), 746, 'O'), ('observar', (4036, 4044), 747, 'O'), ('mejor', (4045, 4052), 748, 'O'), ('##ía', (4045, 4052), 748, 'O'), ('de', (4053, 4055), 749, 'O'), ('la', (4056, 4058), 750, 'O'), ('clínica', (4059, 4066), 751, 'O'), ('neu', (4067, 4078), 752, 'O'), ('##rol', (4067, 4078), 752, 'O'), ('##ógica', (4067, 4078), 752, 'O'), ('.', (4078, 4079), 753, 'O')]\n",
      "\n",
      "\n",
      "[('Al', (4080, 4082), 754, 'O'), ('mes', (4083, 4086), 755, 'O'), ('de', (4087, 4089), 756, 'O'), ('la', (4090, 4092), 757, 'O'), ('inter', (4093, 4105), 758, 'O'), ('##rupción', (4093, 4105), 758, 'O'), ('del', (4106, 4109), 759, 'O'), ('tratamiento', (4110, 4121), 760, 'O'), (',', (4121, 4122), 761, 'O'), ('los', (4123, 4126), 762, 'O'), ('familiares', (4127, 4137), 763, 'O'), ('comunica', (4138, 4147), 764, 'O'), ('##n', (4138, 4147), 764, 'O'), ('el', (4148, 4150), 765, 'O'), ('exit', (4151, 4157), 766, 'O'), ('##us', (4151, 4157), 766, 'O'), ('del', (4158, 4161), 767, 'O'), ('paciente', (4162, 4170), 768, 'O'), ('en', (4171, 4173), 769, 'O'), ('su', (4174, 4176), 770, 'O'), ('domi', (4177, 4186), 771, 'O'), ('##cilio', (4177, 4186), 771, 'O'), ('.', (4186, 4187), 772, 'O')]\n",
      "\n",
      "\n"
     ]
    }
   ],
   "source": [
    "for i in range(check_id_frag, check_id_frag + dev_frag[check_id]):\n",
    "    print(list(zip([tokenizer._convert_id_to_token(int(ind)) for ind in dev_ind[i]][1:len(dev_start_end_frag[i])+1], \n",
    "               dev_start_end_frag[i], dev_word_id[i],\n",
    "               [lab_encoder.inverse_transform([label])[0] if label != IGNORE_VALUE else label \\\n",
    "                for label in dev_y[i][1:len(dev_start_end_frag[i])+1]])))\n",
    "    print(\"\\n\")"
   ]
  },
  {
   "cell_type": "code",
   "execution_count": 79,
   "metadata": {},
   "outputs": [
    {
     "name": "stdout",
     "output_type": "stream",
     "text": [
      "[CLS] Ana ##mne ##sis Var ##ón de 44 años , con ante ##cedent ##es de ob ##esi ##dad mór ##bida , de prof ##esión cam ##ione ##ro , que acu ##de a Ur ##gen ##cias en rep ##eti ##das ocasiones por un episodio de dorsal ##gia di ##fusa . In ##dica mol ##esti ##as de 4 meses de evolución , de carácter pro ##gres ##ivo , que no ce ##den a anal ##gesi ##a de primer es ##cal ##ón . Re ##fier ##e em ##pe ##ora ##miento de su estado general , no tol ##eran ##do el de ##c ##ú ##bito . No as ##tenia , no pérdida de ap ##eti ##to . No fie ##bre termo ##met ##rada . [SEP] [PAD] [PAD] [PAD] [PAD] [PAD] [PAD] [PAD] \n",
      "\n",
      "[CLS] No ná ##use ##as , no v ##óm ##itos , no otra sin ##toma ##tol ##ogía de interés . En la última visita a Ur ##gen ##cias , refiere in ##esta ##bilidad a la marcha as ##ociada a dolor trans ##fix ##iante interes ##cap ##ular . Se le soli ##cita una ang ##io - TC de tó ##rax , en la que se ob ##ser ##vó : ane ##uris ##ma de ao ##rta to ##rá ##ci ##ca de inicio dis ##tal a la salida de la sub ##cla ##via izquierda de 4 x 5 , 5 x 4 , 3 cm que fue valor ##ada por el Servicio Vascular , que no encontró sign ##os de com ##pli ##cación . [SEP] [PAD] [PAD] [PAD] [PAD] [PAD] [PAD] \n",
      "\n",
      "[CLS] A ##cud ##e de nuevo a Ur ##gen ##cias 7 días después aq ##ue ##jan ##do pérdida de fuerza y pares ##tesi ##as en ambos miembros inferiores , más acusado en el izquierdo , llegando a realizar ##se una TC de c ##ráneo , que fue normal . Debido a la pers ##istencia de la sin ##toma ##tol ##ogía , se ingresó para estudio en el Servicio de Medicina Inter ##na , soli ##cita ##ndo una RM dor ##sol ##umba ##r . [SEP] [PAD] [PAD] [PAD] [PAD] [PAD] [PAD] [PAD] [PAD] [PAD] [PAD] [PAD] [PAD] [PAD] [PAD] [PAD] [PAD] [PAD] [PAD] [PAD] [PAD] [PAD] [PAD] [PAD] [PAD] [PAD] [PAD] [PAD] [PAD] [PAD] [PAD] [PAD] [PAD] [PAD] [PAD] [PAD] [PAD] [PAD] [PAD] [PAD] [PAD] [PAD] [PAD] [PAD] [PAD] \n",
      "\n",
      "[CLS] Re ##his ##toria ##ndo al paciente , refer ##ía ret ##rac ##ción del pez ##ón izquierdo desde hace 2 años , motivo por el que consul ##tó en varias ocasiones a su médico de cabecera , y al que no se le dio valor pat ##ológico dada la ob ##esi ##dad que presenta ##ba , re ##come ##ndan ##do medidas hi ##gi ##éni ##co - diet ##ética ##s para su control . Ex ##amen físico Ex ##plo ##ración neu ##rol ##ógica : P ##IN ##LA , MO ##EC , no alter ##ación de pares c ##rane ##ales . Par ##estes ##ias en el abdomen y en ambos miembros inferiores . Ni ##vel med ##ular sens ##iti ##vo a nivel epi ##g ##ást ##rico . [SEP] [PAD] [PAD] \n",
      "\n",
      "[CLS] P ##ér ##dida de fuerza 4 / 5 en el miembro inferior derecho y 2 / 5 en el miembro inferior izquierdo . Aus ##cul ##tación card ##iac ##a : r ##ít ##mico , sin so ##plos . Aus ##cul ##tación resp ##irat ##oria : hip ##of ##ones ##is generali ##zada sin ru ##idos pat ##ológicos sobre ##aña ##dido ##s . Abd ##omen : bland ##o , g ##lob ##ulos ##o , de ##presi ##ble , no semi ##ología as ##cí ##tica , ru ##idos hi ##dro ##a ##éreo ##s conserva ##dos , no sign ##os de ir ##rita ##ción per ##iton ##eal . Re ##tra ##cción marcada del pez ##ón izquierdo . No sec ##reció ##n por el pez ##ón . [SEP] [PAD] [PAD] [PAD] [PAD] \n",
      "\n",
      "[CLS] No telo ##rra ##gia ni sign ##os in ##f ##lama ##torio ##s . Pal ##pación de un nó ##dul ##o ret ##roa ##reo ##lar , pé ##tre ##o , de unos 4 cm de diámetro . No se pal ##pan ad ##eno ##pat ##ías de significado pat ##ológico en ninguna estación li ##n ##f ##ática . Pr ##ue ##bas complement ##arias - Ang ##io - TC de tó ##rax : se rev ##isan las imágenes , ob ##ser ##ván ##dose un nó ##dul ##o ret ##roa ##reo ##lar mama ##rio izquierdo de 4 cm de diámetro y una ad ##eno ##pat ##ía a ##xi ##lar izquierda de 2 , 5 cm . [SEP] [PAD] [PAD] [PAD] [PAD] [PAD] [PAD] [PAD] [PAD] [PAD] [PAD] [PAD] [PAD] [PAD] [PAD] \n",
      "\n",
      "[CLS] El nó ##dul ##o se observa ##ba varios corte ##s por debajo del límite caudal del ane ##uris ##ma . - RM dor ##sol ##umba ##r : frac ##tura pat ##ológica en D ##5 , masa de partes bland ##as e invasión del canal med ##ular y foc ##o con pérdida de señal en D ##4 - D8 - D1 ##1 y cuerpo de este ##rn ##ón compatible ##s con met ##ást ##asis ós ##eas múltiples . - Ma ##mo ##grafía de la mama izquierda : nó ##dul ##o es ##pic ##ulado de características mali ##gna ##s . B ##IR ##AD ##S 4 . [SEP] [PAD] [PAD] [PAD] [PAD] [PAD] [PAD] [PAD] [PAD] [PAD] [PAD] [PAD] [PAD] [PAD] [PAD] [PAD] [PAD] [PAD] [PAD] [PAD] [PAD] [PAD] [PAD] \n",
      "\n",
      "[CLS] - Gamma ##grafía ós ##ea : en las imágenes ob ##teni ##das se observa la existencia de hip ##er ##cap ##tación ós ##ea en D ##4 - D ##5 , D8 , man ##ub ##rio y cuerpo esterna ##l , localizada ##s en les ##iones ya descrita ##s y conocidas anteriormente , as ##ociada ##s a met ##ást ##asis ós ##eas y ap ##last ##amiento verte ##bral en el caso de D ##4 - D ##5 . Se observa además un foc ##o de cap ##tación en el 6º arco costa ##l derecho posterior y en el 2º arco costa ##l izquierdo posterior . [SEP] [PAD] [PAD] [PAD] [PAD] [PAD] [PAD] [PAD] [PAD] [PAD] [PAD] [PAD] [PAD] [PAD] [PAD] [PAD] [PAD] [PAD] [PAD] [PAD] [PAD] [PAD] [PAD] \n",
      "\n",
      "[CLS] - Bio ##psia de mama : car ##cino ##ma in ##fil ##tra ##nte en la mama izquierda con receptor ##es RE + + + , RP + + + , H ##ER ##2 / neu negativo . K ##I 67 30 % . - Ana ##lí ##tica : hem ##og ##rama y coa ##gula ##ción sin alter ##aciones significativa ##s . En la bio ##quí ##mica destaca ##ba fos ##fat ##asa al ##cali ##na en 120 U ##I / l , sin alter ##ación en los niveles de trans ##ami ##nas ##as . - Marca ##dores tumor ##ales : normale ##s . Dia ##gnóstico Com ##presión med ##ular a nivel de D ##5 por met ##ást ##asis de cáncer de mama . [SEP] [PAD] [PAD] [PAD] [PAD] \n",
      "\n",
      "[CLS] Trata ##miento Rec ##ibe dos ##is única de radio ##tera ##pia ( 8 G ##y ) en el segmento de la columna de D ##3 a D ##7 . Se inicia qui ##mio ##tera ##pia en esquema AC ( ad ##riam ##ici ##na , ciclo ##fos ##fa ##mida ) . E ##vol ##ución El paciente recibe 6 ciclo ##s de AC en pau ##ta quince ##nal . Buena tol ##eran ##cia inicial , si bien existe pro ##gres ##ión de la clínica neu ##rol ##ógica hasta la para ##ple ##jia completa . El paciente decidió no continuar con el tratamiento al no observar mejor ##ía de la clínica neu ##rol ##ógica . [SEP] [PAD] [PAD] [PAD] [PAD] [PAD] [PAD] [PAD] [PAD] [PAD] [PAD] [PAD] [PAD] [PAD] [PAD] \n",
      "\n",
      "[CLS] Al mes de la inter ##rupción del tratamiento , los familiares comunica ##n el exit ##us del paciente en su domi ##cilio . [SEP] [PAD] [PAD] [PAD] [PAD] [PAD] [PAD] [PAD] [PAD] [PAD] [PAD] [PAD] [PAD] [PAD] [PAD] [PAD] [PAD] [PAD] [PAD] [PAD] [PAD] [PAD] [PAD] [PAD] [PAD] [PAD] [PAD] [PAD] [PAD] [PAD] [PAD] [PAD] [PAD] [PAD] [PAD] [PAD] [PAD] [PAD] [PAD] [PAD] [PAD] [PAD] [PAD] [PAD] [PAD] [PAD] [PAD] [PAD] [PAD] [PAD] [PAD] [PAD] [PAD] [PAD] [PAD] [PAD] [PAD] [PAD] [PAD] [PAD] [PAD] [PAD] [PAD] [PAD] [PAD] [PAD] [PAD] [PAD] [PAD] [PAD] [PAD] [PAD] [PAD] [PAD] [PAD] [PAD] [PAD] [PAD] [PAD] [PAD] [PAD] [PAD] [PAD] [PAD] [PAD] [PAD] [PAD] [PAD] [PAD] [PAD] [PAD] [PAD] [PAD] [PAD] [PAD] [PAD] [PAD] [PAD] [PAD] [PAD] [PAD] [PAD] [PAD] [PAD] \n",
      "\n"
     ]
    }
   ],
   "source": [
    "check_id_frag = sum(dev_frag[:check_id])\n",
    "for frag in dev_ind[check_id_frag:check_id_frag + dev_frag[check_id]]:\n",
    "    print(' '.join([tokenizer._convert_id_to_token(int(ind)) for ind in frag]), \"\\n\")"
   ]
  },
  {
   "cell_type": "markdown",
   "metadata": {},
   "source": [
    "### Training & Development corpus\n",
    "\n",
    "We merge the previously generated datasets:"
   ]
  },
  {
   "cell_type": "code",
   "execution_count": 80,
   "metadata": {},
   "outputs": [],
   "source": [
    "# Indices\n",
    "train_dev_ind = np.concatenate((train_ind, dev_ind))"
   ]
  },
  {
   "cell_type": "code",
   "execution_count": 81,
   "metadata": {
    "scrolled": true
   },
   "outputs": [
    {
     "data": {
      "text/plain": [
       "(13475, 128)"
      ]
     },
     "execution_count": 81,
     "metadata": {},
     "output_type": "execute_result"
    }
   ],
   "source": [
    "train_dev_ind.shape"
   ]
  },
  {
   "cell_type": "code",
   "execution_count": 82,
   "metadata": {},
   "outputs": [],
   "source": [
    "# Attention\n",
    "train_dev_att = np.concatenate((train_att, dev_att))"
   ]
  },
  {
   "cell_type": "code",
   "execution_count": 83,
   "metadata": {},
   "outputs": [
    {
     "data": {
      "text/plain": [
       "(13475, 128)"
      ]
     },
     "execution_count": 83,
     "metadata": {},
     "output_type": "execute_result"
    }
   ],
   "source": [
    "train_dev_att.shape"
   ]
  },
  {
   "cell_type": "code",
   "execution_count": 84,
   "metadata": {},
   "outputs": [],
   "source": [
    "# Type\n",
    "train_dev_type = np.concatenate((train_type, dev_type))"
   ]
  },
  {
   "cell_type": "code",
   "execution_count": 85,
   "metadata": {},
   "outputs": [
    {
     "data": {
      "text/plain": [
       "(13475, 128)"
      ]
     },
     "execution_count": 85,
     "metadata": {},
     "output_type": "execute_result"
    }
   ],
   "source": [
    "train_dev_type.shape"
   ]
  },
  {
   "cell_type": "code",
   "execution_count": 86,
   "metadata": {},
   "outputs": [],
   "source": [
    "# y\n",
    "train_dev_y = np.concatenate((train_y, dev_y))"
   ]
  },
  {
   "cell_type": "code",
   "execution_count": 87,
   "metadata": {},
   "outputs": [
    {
     "data": {
      "text/plain": [
       "(13475, 128)"
      ]
     },
     "execution_count": 87,
     "metadata": {},
     "output_type": "execute_result"
    }
   ],
   "source": [
    "train_dev_y.shape"
   ]
  },
  {
   "cell_type": "markdown",
   "metadata": {},
   "source": [
    "## Fine-tuning\n",
    "\n",
    "Using the corpus of labeled sentences, we fine-tune the model on a multi-label sentence classification task."
   ]
  },
  {
   "cell_type": "code",
   "execution_count": 88,
   "metadata": {},
   "outputs": [
    {
     "name": "stderr",
     "output_type": "stream",
     "text": [
      "Some weights of the PyTorch model were not used when initializing the TF 2.0 model TFBertForTokenClassification: ['bert.embeddings.position_ids']\n",
      "- This IS expected if you are initializing TFBertForTokenClassification from a PyTorch model trained on another task or with another architecture (e.g. initializing a TFBertForSequenceClassification model from a BertForPreTraining model).\n",
      "- This IS NOT expected if you are initializing TFBertForTokenClassification from a PyTorch model that you expect to be exactly identical (e.g. initializing a TFBertForSequenceClassification model from a BertForSequenceClassification model).\n",
      "Some weights or buffers of the TF 2.0 model TFBertForTokenClassification were not initialized from the PyTorch model and are newly initialized: ['classifier.weight', 'classifier.bias']\n",
      "You should probably TRAIN this model on a down-stream task to be able to use it for predictions and inference.\n"
     ]
    }
   ],
   "source": [
    "from transformers import TFBertForTokenClassification\n",
    "\n",
    "model = TFBertForTokenClassification.from_pretrained(model_name, from_pt=True)"
   ]
  },
  {
   "cell_type": "code",
   "execution_count": 89,
   "metadata": {},
   "outputs": [
    {
     "name": "stdout",
     "output_type": "stream",
     "text": [
      "Model: \"tf_bert_for_token_classification\"\n",
      "_________________________________________________________________\n",
      "Layer (type)                 Output Shape              Param #   \n",
      "=================================================================\n",
      "bert (TFBertMainLayer)       multiple                  177262848 \n",
      "_________________________________________________________________\n",
      "dropout_37 (Dropout)         multiple                  0         \n",
      "_________________________________________________________________\n",
      "classifier (Dense)           multiple                  1538      \n",
      "=================================================================\n",
      "Total params: 177,264,386\n",
      "Trainable params: 177,264,386\n",
      "Non-trainable params: 0\n",
      "_________________________________________________________________\n"
     ]
    }
   ],
   "source": [
    "model.summary()"
   ]
  },
  {
   "cell_type": "code",
   "execution_count": 90,
   "metadata": {},
   "outputs": [
    {
     "data": {
      "text/plain": [
       "[<transformers.models.bert.modeling_tf_bert.TFBertMainLayer at 0x7f4654782bd0>,\n",
       " <tensorflow.python.keras.layers.core.Dropout at 0x7f4603421490>,\n",
       " <tensorflow.python.keras.layers.core.Dense at 0x7f4602741790>]"
      ]
     },
     "execution_count": 90,
     "metadata": {},
     "output_type": "execute_result"
    }
   ],
   "source": [
    "model.layers"
   ]
  },
  {
   "cell_type": "code",
   "execution_count": 91,
   "metadata": {},
   "outputs": [],
   "source": [
    "from tensorflow.keras import Input, Model\n",
    "from tensorflow.keras.layers import Dense\n",
    "from tensorflow.keras.initializers import GlorotUniform\n",
    "\n",
    "input_ids = Input(shape=(SEQ_LEN,), name='input_ids', dtype='int64')\n",
    "\n",
    "num_labels = len(lab_encoder.classes_)\n",
    "\n",
    "out_seq = model.layers[0](input_ids=input_ids)[0] # take the output sub-token sequence \n",
    "out_logits = Dense(units=num_labels, kernel_initializer=GlorotUniform(seed=random_seed))(out_seq) # Multi-class classification\n",
    "\n",
    "model = Model(inputs=input_ids, outputs=out_logits)"
   ]
  },
  {
   "cell_type": "code",
   "execution_count": 92,
   "metadata": {},
   "outputs": [
    {
     "name": "stdout",
     "output_type": "stream",
     "text": [
      "Model: \"functional_1\"\n",
      "_________________________________________________________________\n",
      "Layer (type)                 Output Shape              Param #   \n",
      "=================================================================\n",
      "input_ids (InputLayer)       [(None, 128)]             0         \n",
      "_________________________________________________________________\n",
      "bert (TFBertMainLayer)       TFBaseModelOutputWithPool 177262848 \n",
      "_________________________________________________________________\n",
      "dense (Dense)                (None, 128, 3)            2307      \n",
      "=================================================================\n",
      "Total params: 177,265,155\n",
      "Trainable params: 177,265,155\n",
      "Non-trainable params: 0\n",
      "_________________________________________________________________\n"
     ]
    }
   ],
   "source": [
    "model.summary()"
   ]
  },
  {
   "cell_type": "code",
   "execution_count": 93,
   "metadata": {},
   "outputs": [
    {
     "data": {
      "text/plain": [
       "<tf.Tensor 'input_ids:0' shape=(None, 128) dtype=int64>"
      ]
     },
     "execution_count": 93,
     "metadata": {},
     "output_type": "execute_result"
    }
   ],
   "source": [
    "model.input"
   ]
  },
  {
   "cell_type": "code",
   "execution_count": 94,
   "metadata": {},
   "outputs": [
    {
     "data": {
      "text/plain": [
       "<tf.Tensor 'dense/BiasAdd:0' shape=(None, 128, 3) dtype=float32>"
      ]
     },
     "execution_count": 94,
     "metadata": {},
     "output_type": "execute_result"
    }
   ],
   "source": [
    "model.output"
   ]
  },
  {
   "cell_type": "code",
   "execution_count": 100,
   "metadata": {},
   "outputs": [
    {
     "name": "stdout",
     "output_type": "stream",
     "text": [
      "Epoch 1/88\n",
      "843/843 [==============================] - 253s 300ms/step - loss: 0.1251\n",
      "Epoch 2/88\n",
      "843/843 [==============================] - 253s 300ms/step - loss: 0.0353\n",
      "Epoch 3/88\n",
      "843/843 [==============================] - 253s 300ms/step - loss: 0.0235\n",
      "Epoch 4/88\n",
      "843/843 [==============================] - 253s 300ms/step - loss: 0.0158\n",
      "Epoch 5/88\n",
      "843/843 [==============================] - 253s 300ms/step - loss: 0.0101\n",
      "Epoch 6/88\n",
      "843/843 [==============================] - 253s 300ms/step - loss: 0.0068\n",
      "Epoch 7/88\n",
      "843/843 [==============================] - 253s 300ms/step - loss: 0.0056\n",
      "Epoch 8/88\n",
      "843/843 [==============================] - 253s 300ms/step - loss: 0.0047\n",
      "Epoch 9/88\n",
      "843/843 [==============================] - 253s 300ms/step - loss: 0.0032\n",
      "Epoch 10/88\n",
      "843/843 [==============================] - 253s 300ms/step - loss: 0.0026\n",
      "Epoch 11/88\n",
      "843/843 [==============================] - 253s 300ms/step - loss: 0.0029\n",
      "Epoch 12/88\n",
      "843/843 [==============================] - 253s 300ms/step - loss: 0.0020\n",
      "Epoch 13/88\n",
      "843/843 [==============================] - 253s 300ms/step - loss: 0.0024\n",
      "Epoch 14/88\n",
      "843/843 [==============================] - 253s 300ms/step - loss: 0.0023\n",
      "Epoch 15/88\n",
      "843/843 [==============================] - 253s 300ms/step - loss: 0.0024\n",
      "Epoch 16/88\n",
      "843/843 [==============================] - 253s 300ms/step - loss: 0.0016\n",
      "Epoch 17/88\n",
      "843/843 [==============================] - 253s 300ms/step - loss: 0.0018\n",
      "Epoch 18/88\n",
      "843/843 [==============================] - 253s 300ms/step - loss: 0.0015\n",
      "Epoch 19/88\n",
      "843/843 [==============================] - 253s 300ms/step - loss: 0.0015\n",
      "Epoch 20/88\n",
      "843/843 [==============================] - 253s 300ms/step - loss: 0.0017\n",
      "Epoch 21/88\n",
      "843/843 [==============================] - 253s 300ms/step - loss: 0.0021\n",
      "Epoch 22/88\n",
      "843/843 [==============================] - 253s 300ms/step - loss: 0.0015\n",
      "Epoch 23/88\n",
      "843/843 [==============================] - 253s 300ms/step - loss: 0.0019\n",
      "Epoch 24/88\n",
      "843/843 [==============================] - 253s 300ms/step - loss: 0.0013\n",
      "Epoch 25/88\n",
      "843/843 [==============================] - 253s 300ms/step - loss: 0.0012\n",
      "Epoch 26/88\n",
      "843/843 [==============================] - 253s 300ms/step - loss: 0.0016\n",
      "Epoch 27/88\n",
      "843/843 [==============================] - 253s 300ms/step - loss: 7.6655e-04\n",
      "Epoch 28/88\n",
      "843/843 [==============================] - 253s 300ms/step - loss: 0.0011\n",
      "Epoch 29/88\n",
      "843/843 [==============================] - 253s 300ms/step - loss: 0.0014\n",
      "Epoch 30/88\n",
      "843/843 [==============================] - 253s 300ms/step - loss: 0.0011\n",
      "Epoch 31/88\n",
      "843/843 [==============================] - 253s 300ms/step - loss: 0.0010\n",
      "Epoch 32/88\n",
      "843/843 [==============================] - 253s 300ms/step - loss: 6.5566e-04\n",
      "Epoch 33/88\n",
      "843/843 [==============================] - 253s 300ms/step - loss: 0.0014\n",
      "Epoch 34/88\n",
      "843/843 [==============================] - 253s 300ms/step - loss: 9.6132e-04\n",
      "Epoch 35/88\n",
      "843/843 [==============================] - 253s 300ms/step - loss: 7.1596e-04\n",
      "Epoch 36/88\n",
      "843/843 [==============================] - 253s 300ms/step - loss: 0.0015\n",
      "Epoch 37/88\n",
      "843/843 [==============================] - 253s 300ms/step - loss: 0.0015\n",
      "Epoch 38/88\n",
      "843/843 [==============================] - 253s 300ms/step - loss: 9.8116e-04\n",
      "Epoch 39/88\n",
      "843/843 [==============================] - 253s 300ms/step - loss: 6.2911e-04\n",
      "Epoch 40/88\n",
      "843/843 [==============================] - 253s 300ms/step - loss: 8.8442e-04\n",
      "Epoch 41/88\n",
      "843/843 [==============================] - 254s 301ms/step - loss: 0.0011\n",
      "Epoch 42/88\n",
      "843/843 [==============================] - 254s 301ms/step - loss: 0.0016\n",
      "Epoch 43/88\n",
      "843/843 [==============================] - 254s 301ms/step - loss: 0.0011\n",
      "Epoch 44/88\n",
      "843/843 [==============================] - 254s 301ms/step - loss: 6.8154e-04\n",
      "Epoch 45/88\n",
      "843/843 [==============================] - 254s 301ms/step - loss: 8.8809e-04\n",
      "Epoch 46/88\n",
      "843/843 [==============================] - 254s 301ms/step - loss: 4.7474e-04\n",
      "Epoch 47/88\n",
      "843/843 [==============================] - 254s 301ms/step - loss: 7.4353e-04\n",
      "Epoch 48/88\n",
      "843/843 [==============================] - 254s 301ms/step - loss: 7.6675e-04\n",
      "Epoch 49/88\n",
      "843/843 [==============================] - 254s 301ms/step - loss: 9.1272e-04\n",
      "Epoch 50/88\n",
      "843/843 [==============================] - 254s 301ms/step - loss: 8.1143e-04\n",
      "Epoch 51/88\n",
      "843/843 [==============================] - 254s 301ms/step - loss: 7.7287e-04\n",
      "Epoch 52/88\n",
      "843/843 [==============================] - 254s 301ms/step - loss: 9.1548e-04\n",
      "Epoch 53/88\n",
      "843/843 [==============================] - 254s 301ms/step - loss: 8.8278e-04\n",
      "Epoch 54/88\n",
      "843/843 [==============================] - 254s 301ms/step - loss: 7.4572e-04\n",
      "Epoch 55/88\n",
      "843/843 [==============================] - 254s 301ms/step - loss: 9.0738e-04\n",
      "Epoch 56/88\n",
      "843/843 [==============================] - 254s 301ms/step - loss: 6.2176e-04\n",
      "Epoch 57/88\n",
      "843/843 [==============================] - 254s 301ms/step - loss: 4.9094e-04\n",
      "Epoch 58/88\n",
      "843/843 [==============================] - 254s 301ms/step - loss: 5.0445e-04\n",
      "Epoch 59/88\n",
      "843/843 [==============================] - 254s 301ms/step - loss: 9.5573e-04\n",
      "Epoch 60/88\n",
      "843/843 [==============================] - 254s 301ms/step - loss: 6.8590e-04\n",
      "Epoch 61/88\n",
      "843/843 [==============================] - 254s 301ms/step - loss: 0.0010\n",
      "Epoch 62/88\n",
      "843/843 [==============================] - 254s 301ms/step - loss: 9.2972e-04\n",
      "Epoch 63/88\n",
      "843/843 [==============================] - 254s 301ms/step - loss: 9.9265e-04\n",
      "Epoch 64/88\n",
      "843/843 [==============================] - 254s 301ms/step - loss: 7.2164e-04\n",
      "Epoch 65/88\n",
      "843/843 [==============================] - 254s 301ms/step - loss: 3.6176e-04\n",
      "Epoch 66/88\n",
      "843/843 [==============================] - 254s 301ms/step - loss: 5.0658e-04\n",
      "Epoch 67/88\n",
      "843/843 [==============================] - 254s 301ms/step - loss: 9.1218e-04\n",
      "Epoch 68/88\n",
      "843/843 [==============================] - 254s 301ms/step - loss: 9.1527e-04\n",
      "Epoch 69/88\n",
      "843/843 [==============================] - 254s 301ms/step - loss: 6.4515e-04\n",
      "Epoch 70/88\n",
      "843/843 [==============================] - 254s 301ms/step - loss: 6.7357e-04\n",
      "Epoch 71/88\n",
      "843/843 [==============================] - 254s 301ms/step - loss: 8.1753e-04\n",
      "Epoch 72/88\n",
      "843/843 [==============================] - 254s 301ms/step - loss: 5.7214e-04\n",
      "Epoch 73/88\n",
      "843/843 [==============================] - 254s 301ms/step - loss: 9.2861e-04\n",
      "Epoch 74/88\n",
      "843/843 [==============================] - 254s 301ms/step - loss: 7.4444e-04\n",
      "Epoch 75/88\n",
      "843/843 [==============================] - 254s 301ms/step - loss: 6.4179e-04\n",
      "Epoch 76/88\n",
      "843/843 [==============================] - 254s 301ms/step - loss: 5.7419e-04\n",
      "Epoch 77/88\n",
      "843/843 [==============================] - 254s 301ms/step - loss: 7.5239e-04\n",
      "Epoch 78/88\n",
      "843/843 [==============================] - 254s 301ms/step - loss: 5.0130e-04\n",
      "Epoch 79/88\n",
      "843/843 [==============================] - 254s 301ms/step - loss: 9.2584e-04\n",
      "Epoch 80/88\n",
      "843/843 [==============================] - 254s 301ms/step - loss: 9.5520e-04\n",
      "Epoch 81/88\n",
      "843/843 [==============================] - 254s 301ms/step - loss: 4.6720e-04\n",
      "Epoch 82/88\n",
      "843/843 [==============================] - 254s 301ms/step - loss: 9.1520e-04\n",
      "Epoch 83/88\n",
      "843/843 [==============================] - 254s 301ms/step - loss: 7.0046e-04\n",
      "Epoch 84/88\n",
      "843/843 [==============================] - 254s 301ms/step - loss: 3.9421e-04\n",
      "Epoch 85/88\n",
      "843/843 [==============================] - 254s 301ms/step - loss: 5.3537e-04\n",
      "Epoch 86/88\n",
      "843/843 [==============================] - 254s 301ms/step - loss: 4.5606e-04\n",
      "Epoch 87/88\n",
      "843/843 [==============================] - 254s 301ms/step - loss: 6.3814e-04\n",
      "Epoch 88/88\n",
      "843/843 [==============================] - 254s 301ms/step - loss: 7.8579e-04\n",
      "CPU times: user 3h 54min 32s, sys: 53min 33s, total: 4h 48min 6s\n",
      "Wall time: 6h 12min 30s\n"
     ]
    }
   ],
   "source": [
    "%%time\n",
    "from tensorflow.keras import optimizers, losses\n",
    "import tensorflow_addons as tfa\n",
    "\n",
    "optimizer = tfa.optimizers.RectifiedAdam(learning_rate=LR)\n",
    "loss = TokenClassificationLoss(from_logits=LOGITS, ignore_val=IGNORE_VALUE)\n",
    "model.compile(optimizer=optimizer, loss=loss)\n",
    "\n",
    "history = model.fit(x={'input_ids': train_dev_ind}, \n",
    "                    y=train_dev_y, batch_size=BATCH_SIZE, epochs=EPOCHS, shuffle=True)"
   ]
  },
  {
   "cell_type": "markdown",
   "metadata": {},
   "source": [
    "As a sanity check procedure, we evaluate model predictions on the development set:"
   ]
  },
  {
   "cell_type": "code",
   "execution_count": 96,
   "metadata": {},
   "outputs": [
    {
     "name": "stdout",
     "output_type": "stream",
     "text": [
      "CPU times: user 10.3 s, sys: 1.33 s, total: 11.6 s\n",
      "Wall time: 15.7 s\n"
     ]
    }
   ],
   "source": [
    "%%time\n",
    "dev_preds = tf.nn.softmax(logits=model.predict({'input_ids': dev_ind}), \n",
    "                           axis=-1).numpy()"
   ]
  },
  {
   "cell_type": "code",
   "execution_count": 97,
   "metadata": {},
   "outputs": [
    {
     "data": {
      "text/plain": [
       "(2856, 128, 3)"
      ]
     },
     "execution_count": 97,
     "metadata": {},
     "output_type": "execute_result"
    }
   ],
   "source": [
    "dev_preds.shape"
   ]
  },
  {
   "cell_type": "code",
   "execution_count": 98,
   "metadata": {},
   "outputs": [],
   "source": [
    "out_dev_path = \"dev_preds/\""
   ]
  },
  {
   "cell_type": "code",
   "execution_count": 99,
   "metadata": {},
   "outputs": [
    {
     "name": "stderr",
     "output_type": "stream",
     "text": [
      "100%|██████████| 250/250 [00:00<00:00, 283.50it/s]\n",
      "100%|██████████| 250/250 [00:06<00:00, 39.00it/s]\n"
     ]
    }
   ],
   "source": [
    "write_ner_ann(df_pred_ann=ner_preds_brat_format(doc_list=dev_doc_list, fragments=dev_frag, preds=dev_preds, \n",
    "                                    start_end=dev_start_end_frag, word_id=dev_word_id, \n",
    "                                    lb_encoder=lab_encoder, df_text=df_text_dev, text_col=text_col, strategy=EVAL_STRATEGY), \n",
    "              out_path=out_dev_path)"
   ]
  },
  {
   "cell_type": "code",
   "execution_count": 105,
   "metadata": {},
   "outputs": [
    {
     "name": "stdout",
     "output_type": "stream",
     "text": [
      "\r\n",
      "-----------------------------------------------------\r\n",
      "Clinical case name\t\t\tPrecision\r\n",
      "-----------------------------------------------------\r\n",
      "cc_onco1001.ann\t\t1.0\r\n",
      "-----------------------------------------------------\r\n",
      "cc_onco1007.ann\t\t1.0\r\n",
      "-----------------------------------------------------\r\n",
      "cc_onco1008.ann\t\t1.0\r\n",
      "-----------------------------------------------------\r\n",
      "cc_onco1009.ann\t\t1.0\r\n",
      "-----------------------------------------------------\r\n",
      "cc_onco1010.ann\t\t1.0\r\n",
      "-----------------------------------------------------\r\n",
      "cc_onco1011.ann\t\t1.0\r\n",
      "-----------------------------------------------------\r\n",
      "cc_onco1012.ann\t\t1.0\r\n",
      "-----------------------------------------------------\r\n",
      "cc_onco1014.ann\t\t1.0\r\n",
      "-----------------------------------------------------\r\n",
      "cc_onco1016.ann\t\t1.0\r\n",
      "-----------------------------------------------------\r\n",
      "cc_onco1018.ann\t\t1.0\r\n",
      "-----------------------------------------------------\r\n",
      "cc_onco1019.ann\t\t1.0\r\n",
      "-----------------------------------------------------\r\n",
      "cc_onco1020.ann\t\t1.0\r\n",
      "-----------------------------------------------------\r\n",
      "cc_onco1021.ann\t\t1.0\r\n",
      "-----------------------------------------------------\r\n",
      "cc_onco1022.ann\t\t1.0\r\n",
      "-----------------------------------------------------\r\n",
      "cc_onco1025.ann\t\t1.0\r\n",
      "-----------------------------------------------------\r\n",
      "cc_onco1028.ann\t\t1.0\r\n",
      "-----------------------------------------------------\r\n",
      "cc_onco1031.ann\t\t1.0\r\n",
      "-----------------------------------------------------\r\n",
      "cc_onco1032.ann\t\t1.0\r\n",
      "-----------------------------------------------------\r\n",
      "cc_onco1033.ann\t\t1.0\r\n",
      "-----------------------------------------------------\r\n",
      "cc_onco1034.ann\t\t1.0\r\n",
      "-----------------------------------------------------\r\n",
      "cc_onco1035.ann\t\t1.0\r\n",
      "-----------------------------------------------------\r\n",
      "cc_onco1036.ann\t\t1.0\r\n",
      "-----------------------------------------------------\r\n",
      "cc_onco1041.ann\t\t1.0\r\n",
      "-----------------------------------------------------\r\n",
      "cc_onco1042.ann\t\t1.0\r\n",
      "-----------------------------------------------------\r\n",
      "cc_onco1043.ann\t\t1.0\r\n",
      "-----------------------------------------------------\r\n",
      "cc_onco1045.ann\t\t1.0\r\n",
      "-----------------------------------------------------\r\n",
      "cc_onco1047.ann\t\t1.0\r\n",
      "-----------------------------------------------------\r\n",
      "cc_onco1048.ann\t\t1.0\r\n",
      "-----------------------------------------------------\r\n",
      "cc_onco1049.ann\t\t1.0\r\n",
      "-----------------------------------------------------\r\n",
      "cc_onco1052.ann\t\t1.0\r\n",
      "-----------------------------------------------------\r\n",
      "cc_onco1054.ann\t\t1.0\r\n",
      "-----------------------------------------------------\r\n",
      "cc_onco1055.ann\t\t1.0\r\n",
      "-----------------------------------------------------\r\n",
      "cc_onco1058.ann\t\t1.0\r\n",
      "-----------------------------------------------------\r\n",
      "cc_onco1061.ann\t\t1.0\r\n",
      "-----------------------------------------------------\r\n",
      "cc_onco1062.ann\t\t1.0\r\n",
      "-----------------------------------------------------\r\n",
      "cc_onco1063.ann\t\t1.0\r\n",
      "-----------------------------------------------------\r\n",
      "cc_onco1067.ann\t\t1.0\r\n",
      "-----------------------------------------------------\r\n",
      "cc_onco1068.ann\t\t1.0\r\n",
      "-----------------------------------------------------\r\n",
      "cc_onco1069.ann\t\t1.0\r\n",
      "-----------------------------------------------------\r\n",
      "cc_onco1070.ann\t\t1.0\r\n",
      "-----------------------------------------------------\r\n",
      "cc_onco1071.ann\t\t1.0\r\n",
      "-----------------------------------------------------\r\n",
      "cc_onco1072.ann\t\t1.0\r\n",
      "-----------------------------------------------------\r\n",
      "cc_onco1073.ann\t\t1.0\r\n",
      "-----------------------------------------------------\r\n",
      "cc_onco1074.ann\t\t1.0\r\n",
      "-----------------------------------------------------\r\n",
      "cc_onco1076.ann\t\t1.0\r\n",
      "-----------------------------------------------------\r\n",
      "cc_onco1077.ann\t\t1.0\r\n",
      "-----------------------------------------------------\r\n",
      "cc_onco1079.ann\t\t1.0\r\n",
      "-----------------------------------------------------\r\n",
      "cc_onco1088.ann\t\t1.0\r\n",
      "-----------------------------------------------------\r\n",
      "cc_onco1089.ann\t\t1.0\r\n",
      "-----------------------------------------------------\r\n",
      "cc_onco1090.ann\t\t1.0\r\n",
      "-----------------------------------------------------\r\n",
      "cc_onco1091.ann\t\t1.0\r\n",
      "-----------------------------------------------------\r\n",
      "cc_onco1093.ann\t\t1.0\r\n",
      "-----------------------------------------------------\r\n",
      "cc_onco1094.ann\t\t1.0\r\n",
      "-----------------------------------------------------\r\n",
      "cc_onco1097.ann\t\t1.0\r\n",
      "-----------------------------------------------------\r\n",
      "cc_onco1098.ann\t\t1.0\r\n",
      "-----------------------------------------------------\r\n",
      "cc_onco1101.ann\t\t1.0\r\n",
      "-----------------------------------------------------\r\n",
      "cc_onco1102.ann\t\t1.0\r\n",
      "-----------------------------------------------------\r\n",
      "cc_onco1104.ann\t\t1.0\r\n",
      "-----------------------------------------------------\r\n",
      "cc_onco1111.ann\t\t1.0\r\n",
      "-----------------------------------------------------\r\n",
      "cc_onco1115.ann\t\t1.0\r\n",
      "-----------------------------------------------------\r\n",
      "cc_onco1117.ann\t\t1.0\r\n",
      "-----------------------------------------------------\r\n",
      "cc_onco1118.ann\t\t1.0\r\n",
      "-----------------------------------------------------\r\n",
      "cc_onco1121.ann\t\t1.0\r\n",
      "-----------------------------------------------------\r\n",
      "cc_onco1123.ann\t\t1.0\r\n",
      "-----------------------------------------------------\r\n",
      "cc_onco1124.ann\t\t1.0\r\n",
      "-----------------------------------------------------\r\n",
      "cc_onco1127.ann\t\t1.0\r\n",
      "-----------------------------------------------------\r\n",
      "cc_onco1130.ann\t\t1.0\r\n",
      "-----------------------------------------------------\r\n",
      "cc_onco1131.ann\t\t1.0\r\n",
      "-----------------------------------------------------\r\n",
      "cc_onco1132.ann\t\t1.0\r\n",
      "-----------------------------------------------------\r\n",
      "cc_onco1133.ann\t\t1.0\r\n",
      "-----------------------------------------------------\r\n",
      "cc_onco1137.ann\t\t1.0\r\n",
      "-----------------------------------------------------\r\n",
      "cc_onco1138.ann\t\t1.0\r\n",
      "-----------------------------------------------------\r\n",
      "cc_onco1141.ann\t\t1.0\r\n",
      "-----------------------------------------------------\r\n",
      "cc_onco1142.ann\t\t1.0\r\n",
      "-----------------------------------------------------\r\n",
      "cc_onco1143.ann\t\t1.0\r\n",
      "-----------------------------------------------------\r\n",
      "cc_onco1145.ann\t\t1.0\r\n",
      "-----------------------------------------------------\r\n",
      "cc_onco1147.ann\t\t1.0\r\n",
      "-----------------------------------------------------\r\n",
      "cc_onco1150.ann\t\t1.0\r\n",
      "-----------------------------------------------------\r\n",
      "cc_onco1151.ann\t\t1.0\r\n",
      "-----------------------------------------------------\r\n",
      "cc_onco1152.ann\t\t1.0\r\n",
      "-----------------------------------------------------\r\n",
      "cc_onco1154.ann\t\t1.0\r\n",
      "-----------------------------------------------------\r\n",
      "cc_onco1159.ann\t\t1.0\r\n",
      "-----------------------------------------------------\r\n",
      "cc_onco1163.ann\t\t1.0\r\n",
      "-----------------------------------------------------\r\n",
      "cc_onco1164.ann\t\t1.0\r\n",
      "-----------------------------------------------------\r\n",
      "cc_onco1166.ann\t\t1.0\r\n",
      "-----------------------------------------------------\r\n",
      "cc_onco1168.ann\t\t1.0\r\n",
      "-----------------------------------------------------\r\n",
      "cc_onco1170.ann\t\t1.0\r\n",
      "-----------------------------------------------------\r\n",
      "cc_onco1171.ann\t\t1.0\r\n",
      "-----------------------------------------------------\r\n",
      "cc_onco1172.ann\t\t1.0\r\n",
      "-----------------------------------------------------\r\n",
      "cc_onco1173.ann\t\t1.0\r\n",
      "-----------------------------------------------------\r\n",
      "cc_onco1175.ann\t\t1.0\r\n",
      "-----------------------------------------------------\r\n",
      "cc_onco1177.ann\t\t1.0\r\n",
      "-----------------------------------------------------\r\n",
      "cc_onco1179.ann\t\t1.0\r\n",
      "-----------------------------------------------------\r\n",
      "cc_onco1181.ann\t\t0.933\r\n",
      "-----------------------------------------------------\r\n",
      "cc_onco1183.ann\t\t1.0\r\n",
      "-----------------------------------------------------\r\n",
      "cc_onco1184.ann\t\t1.0\r\n",
      "-----------------------------------------------------\r\n",
      "cc_onco1186.ann\t\t1.0\r\n",
      "-----------------------------------------------------\r\n",
      "cc_onco1187.ann\t\t1.0\r\n",
      "-----------------------------------------------------\r\n",
      "cc_onco1188.ann\t\t1.0\r\n",
      "-----------------------------------------------------\r\n",
      "cc_onco1189.ann\t\t1.0\r\n",
      "-----------------------------------------------------\r\n",
      "cc_onco1194.ann\t\t1.0\r\n",
      "-----------------------------------------------------\r\n",
      "cc_onco1198.ann\t\t1.0\r\n",
      "-----------------------------------------------------\r\n",
      "cc_onco1199.ann\t\t1.0\r\n",
      "-----------------------------------------------------\r\n",
      "cc_onco1201.ann\t\t1.0\r\n",
      "-----------------------------------------------------\r\n",
      "cc_onco1203.ann\t\t1.0\r\n",
      "-----------------------------------------------------\r\n",
      "cc_onco1208.ann\t\t1.0\r\n",
      "-----------------------------------------------------\r\n",
      "cc_onco1211.ann\t\t1.0\r\n",
      "-----------------------------------------------------\r\n",
      "cc_onco1215.ann\t\t1.0\r\n",
      "-----------------------------------------------------\r\n",
      "cc_onco1217.ann\t\t1.0\r\n",
      "-----------------------------------------------------\r\n",
      "cc_onco1218.ann\t\t1.0\r\n",
      "-----------------------------------------------------\r\n",
      "cc_onco1221.ann\t\t1.0\r\n",
      "-----------------------------------------------------\r\n",
      "cc_onco1222.ann\t\t1.0\r\n",
      "-----------------------------------------------------\r\n",
      "cc_onco1225.ann\t\t1.0\r\n",
      "-----------------------------------------------------\r\n",
      "cc_onco1226.ann\t\t1.0\r\n",
      "-----------------------------------------------------\r\n",
      "cc_onco1227.ann\t\t1.0\r\n",
      "-----------------------------------------------------\r\n",
      "cc_onco1228.ann\t\t1.0\r\n",
      "-----------------------------------------------------\r\n",
      "cc_onco1229.ann\t\t1.0\r\n",
      "-----------------------------------------------------\r\n",
      "cc_onco1230.ann\t\t1.0\r\n",
      "-----------------------------------------------------\r\n",
      "cc_onco1232.ann\t\t1.0\r\n",
      "-----------------------------------------------------\r\n",
      "cc_onco1234.ann\t\t1.0\r\n",
      "-----------------------------------------------------\r\n",
      "cc_onco1235.ann\t\t1.0\r\n",
      "-----------------------------------------------------\r\n",
      "cc_onco1236.ann\t\t1.0\r\n",
      "-----------------------------------------------------\r\n",
      "cc_onco1237.ann\t\t1.0\r\n",
      "-----------------------------------------------------\r\n",
      "cc_onco1239.ann\t\t1.0\r\n",
      "-----------------------------------------------------\r\n",
      "cc_onco1241.ann\t\t1.0\r\n",
      "-----------------------------------------------------\r\n",
      "cc_onco1245.ann\t\t1.0\r\n",
      "-----------------------------------------------------\r\n",
      "cc_onco1253.ann\t\t1.0\r\n",
      "-----------------------------------------------------\r\n",
      "cc_onco1254.ann\t\t0.917\r\n",
      "-----------------------------------------------------\r\n",
      "cc_onco1255.ann\t\t1.0\r\n",
      "-----------------------------------------------------\r\n",
      "cc_onco1256.ann\t\t1.0\r\n",
      "-----------------------------------------------------\r\n",
      "cc_onco1257.ann\t\t1.0\r\n",
      "-----------------------------------------------------\r\n",
      "cc_onco1258.ann\t\t1.0\r\n",
      "-----------------------------------------------------\r\n",
      "cc_onco1260.ann\t\t1.0\r\n",
      "-----------------------------------------------------\r\n",
      "cc_onco1262.ann\t\t1.0\r\n",
      "-----------------------------------------------------\r\n",
      "cc_onco1264.ann\t\t1.0\r\n",
      "-----------------------------------------------------\r\n",
      "cc_onco1267.ann\t\t1.0\r\n",
      "-----------------------------------------------------\r\n",
      "cc_onco1271.ann\t\t1.0\r\n",
      "-----------------------------------------------------\r\n",
      "cc_onco1272.ann\t\t1.0\r\n",
      "-----------------------------------------------------\r\n",
      "cc_onco1273.ann\t\t1.0\r\n",
      "-----------------------------------------------------\r\n",
      "cc_onco1275.ann\t\t1.0\r\n",
      "-----------------------------------------------------\r\n",
      "cc_onco1276.ann\t\t1.0\r\n",
      "-----------------------------------------------------\r\n",
      "cc_onco1277.ann\t\t1.0\r\n",
      "-----------------------------------------------------\r\n",
      "cc_onco1280.ann\t\t1.0\r\n",
      "-----------------------------------------------------\r\n",
      "cc_onco1283.ann\t\t1.0\r\n",
      "-----------------------------------------------------\r\n",
      "cc_onco1286.ann\t\t1.0\r\n",
      "-----------------------------------------------------\r\n",
      "cc_onco1293.ann\t\t1.0\r\n",
      "-----------------------------------------------------\r\n",
      "cc_onco1295.ann\t\t1.0\r\n",
      "-----------------------------------------------------\r\n",
      "cc_onco1296.ann\t\t1.0\r\n",
      "-----------------------------------------------------\r\n",
      "cc_onco1304.ann\t\t1.0\r\n",
      "-----------------------------------------------------\r\n",
      "cc_onco1307.ann\t\t1.0\r\n",
      "-----------------------------------------------------\r\n",
      "cc_onco1308.ann\t\t1.0\r\n",
      "-----------------------------------------------------\r\n",
      "cc_onco1311.ann\t\t1.0\r\n",
      "-----------------------------------------------------\r\n",
      "cc_onco1312.ann\t\t1.0\r\n",
      "-----------------------------------------------------\r\n",
      "cc_onco1314.ann\t\t1.0\r\n",
      "-----------------------------------------------------\r\n",
      "cc_onco1315.ann\t\t1.0\r\n",
      "-----------------------------------------------------\r\n",
      "cc_onco1317.ann\t\t1.0\r\n",
      "-----------------------------------------------------\r\n",
      "cc_onco1318.ann\t\t1.0\r\n",
      "-----------------------------------------------------\r\n",
      "cc_onco1319.ann\t\t1.0\r\n",
      "-----------------------------------------------------\r\n",
      "cc_onco1320.ann\t\t1.0\r\n",
      "-----------------------------------------------------\r\n",
      "cc_onco1323.ann\t\t1.0\r\n",
      "-----------------------------------------------------\r\n",
      "cc_onco1324.ann\t\t1.0\r\n",
      "-----------------------------------------------------\r\n",
      "cc_onco1325.ann\t\t1.0\r\n",
      "-----------------------------------------------------\r\n",
      "cc_onco1326.ann\t\t1.0\r\n",
      "-----------------------------------------------------\r\n",
      "cc_onco1328.ann\t\t1.0\r\n",
      "-----------------------------------------------------\r\n",
      "cc_onco1329.ann\t\t1.0\r\n",
      "-----------------------------------------------------\r\n",
      "cc_onco1330.ann\t\t1.0\r\n",
      "-----------------------------------------------------\r\n",
      "cc_onco1331.ann\t\t1.0\r\n",
      "-----------------------------------------------------\r\n",
      "cc_onco1333.ann\t\t1.0\r\n",
      "-----------------------------------------------------\r\n",
      "cc_onco1336.ann\t\t1.0\r\n",
      "-----------------------------------------------------\r\n",
      "cc_onco1337.ann\t\t1.0\r\n",
      "-----------------------------------------------------\r\n",
      "cc_onco1338.ann\t\t1.0\r\n",
      "-----------------------------------------------------\r\n",
      "cc_onco1339.ann\t\t1.0\r\n",
      "-----------------------------------------------------\r\n",
      "cc_onco1340.ann\t\t1.0\r\n",
      "-----------------------------------------------------\r\n",
      "cc_onco1350.ann\t\t1.0\r\n",
      "-----------------------------------------------------\r\n",
      "cc_onco1351.ann\t\t1.0\r\n",
      "-----------------------------------------------------\r\n",
      "cc_onco1353.ann\t\t1.0\r\n",
      "-----------------------------------------------------\r\n",
      "cc_onco1354.ann\t\t1.0\r\n",
      "-----------------------------------------------------\r\n",
      "cc_onco1355.ann\t\t1.0\r\n",
      "-----------------------------------------------------\r\n",
      "cc_onco1356.ann\t\t1.0\r\n",
      "-----------------------------------------------------\r\n",
      "cc_onco1358.ann\t\t1.0\r\n",
      "-----------------------------------------------------\r\n",
      "cc_onco1359.ann\t\t1.0\r\n",
      "-----------------------------------------------------\r\n",
      "cc_onco1361.ann\t\t1.0\r\n",
      "-----------------------------------------------------\r\n",
      "cc_onco1363.ann\t\t1.0\r\n",
      "-----------------------------------------------------\r\n",
      "cc_onco1368.ann\t\t1.0\r\n",
      "-----------------------------------------------------\r\n",
      "cc_onco1371.ann\t\t1.0\r\n",
      "-----------------------------------------------------\r\n",
      "cc_onco1373.ann\t\t1.0\r\n",
      "-----------------------------------------------------\r\n",
      "cc_onco1376.ann\t\t1.0\r\n",
      "-----------------------------------------------------\r\n",
      "cc_onco1377.ann\t\t1.0\r\n",
      "-----------------------------------------------------\r\n",
      "cc_onco1382.ann\t\t1.0\r\n",
      "-----------------------------------------------------\r\n",
      "cc_onco1383.ann\t\t1.0\r\n",
      "-----------------------------------------------------\r\n",
      "cc_onco1384.ann\t\t1.0\r\n",
      "-----------------------------------------------------\r\n",
      "cc_onco1387.ann\t\t1.0\r\n",
      "-----------------------------------------------------\r\n",
      "cc_onco1388.ann\t\t1.0\r\n",
      "-----------------------------------------------------\r\n",
      "cc_onco1390.ann\t\t1.0\r\n",
      "-----------------------------------------------------\r\n",
      "cc_onco1391.ann\t\t1.0\r\n",
      "-----------------------------------------------------\r\n",
      "cc_onco1392.ann\t\t1.0\r\n",
      "-----------------------------------------------------\r\n",
      "cc_onco1393.ann\t\t1.0\r\n",
      "-----------------------------------------------------\r\n",
      "cc_onco1397.ann\t\t0.889\r\n",
      "-----------------------------------------------------\r\n",
      "cc_onco1402.ann\t\t1.0\r\n",
      "-----------------------------------------------------\r\n",
      "cc_onco1404.ann\t\t1.0\r\n",
      "-----------------------------------------------------\r\n",
      "cc_onco1405.ann\t\t1.0\r\n",
      "-----------------------------------------------------\r\n",
      "cc_onco1412.ann\t\t1.0\r\n",
      "-----------------------------------------------------\r\n",
      "cc_onco1415.ann\t\t1.0\r\n",
      "-----------------------------------------------------\r\n",
      "cc_onco1418.ann\t\t1.0\r\n",
      "-----------------------------------------------------\r\n",
      "cc_onco1419.ann\t\t1.0\r\n",
      "-----------------------------------------------------\r\n",
      "cc_onco1420.ann\t\t1.0\r\n",
      "-----------------------------------------------------\r\n",
      "cc_onco1424.ann\t\t1.0\r\n",
      "-----------------------------------------------------\r\n",
      "cc_onco1427.ann\t\t0.8\r\n",
      "-----------------------------------------------------\r\n",
      "cc_onco1428.ann\t\t1.0\r\n",
      "-----------------------------------------------------\r\n",
      "cc_onco1429.ann\t\t1.0\r\n",
      "-----------------------------------------------------\r\n",
      "cc_onco1432.ann\t\t1.0\r\n",
      "-----------------------------------------------------\r\n",
      "cc_onco1435.ann\t\t1.0\r\n",
      "-----------------------------------------------------\r\n",
      "cc_onco1437.ann\t\t1.0\r\n",
      "-----------------------------------------------------\r\n",
      "cc_onco1438.ann\t\t1.0\r\n",
      "-----------------------------------------------------\r\n",
      "cc_onco1444.ann\t\t1.0\r\n",
      "-----------------------------------------------------\r\n",
      "cc_onco1448.ann\t\t1.0\r\n",
      "-----------------------------------------------------\r\n",
      "cc_onco1449.ann\t\t1.0\r\n",
      "-----------------------------------------------------\r\n",
      "cc_onco1451.ann\t\t1.0\r\n",
      "-----------------------------------------------------\r\n",
      "cc_onco1459.ann\t\t1.0\r\n",
      "-----------------------------------------------------\r\n",
      "cc_onco1461.ann\t\t1.0\r\n",
      "-----------------------------------------------------\r\n",
      "cc_onco1462.ann\t\t1.0\r\n",
      "-----------------------------------------------------\r\n",
      "cc_onco1463.ann\t\t1.0\r\n",
      "-----------------------------------------------------\r\n",
      "cc_onco1467.ann\t\t1.0\r\n",
      "-----------------------------------------------------\r\n",
      "cc_onco1474.ann\t\t1.0\r\n",
      "-----------------------------------------------------\r\n",
      "cc_onco1475.ann\t\t1.0\r\n",
      "-----------------------------------------------------\r\n",
      "cc_onco1478.ann\t\t1.0\r\n",
      "-----------------------------------------------------\r\n",
      "cc_onco1482.ann\t\t1.0\r\n",
      "-----------------------------------------------------\r\n",
      "cc_onco1484.ann\t\t1.0\r\n",
      "-----------------------------------------------------\r\n",
      "cc_onco1487.ann\t\t1.0\r\n",
      "-----------------------------------------------------\r\n",
      "cc_onco1488.ann\t\t1.0\r\n",
      "-----------------------------------------------------\r\n",
      "cc_onco1490.ann\t\t1.0\r\n",
      "-----------------------------------------------------\r\n",
      "cc_onco1492.ann\t\t1.0\r\n",
      "-----------------------------------------------------\r\n",
      "cc_onco1494.ann\t\t1.0\r\n",
      "-----------------------------------------------------\r\n",
      "cc_onco1495.ann\t\t1.0\r\n",
      "-----------------------------------------------------\r\n",
      "cc_onco1497.ann\t\t1.0\r\n",
      "-----------------------------------------------------\r\n",
      "cc_onco1500.ann\t\t1.0\r\n",
      "-----------------------------------------------------\r\n",
      "cc_onco282.ann\t\t1.0\r\n",
      "-----------------------------------------------------\r\n",
      "cc_onco437.ann\t\t1.0\r\n",
      "-----------------------------------------------------\r\n",
      "cc_onco639.ann\t\t1.0\r\n",
      "-----------------------------------------------------\r\n",
      "cc_onco645.ann\t\t1.0\r\n",
      "-----------------------------------------------------\r\n",
      "cc_onco65.ann\t\t1.0\r\n",
      "-----------------------------------------------------\r\n",
      "cc_onco657.ann\t\t1.0\r\n",
      "-----------------------------------------------------\r\n",
      "cc_onco691.ann\t\t1.0\r\n",
      "-----------------------------------------------------\r\n",
      "cc_onco734.ann\t\t1.0\r\n",
      "-----------------------------------------------------\r\n",
      "cc_onco735.ann\t\t1.0\r\n",
      "-----------------------------------------------------\r\n",
      "cc_onco751.ann\t\t1.0\r\n",
      "-----------------------------------------------------\r\n",
      "cc_onco874.ann\t\t1.0\r\n",
      "-----------------------------------------------------\r\n",
      "cc_onco898.ann\t\t1.0\r\n",
      "-----------------------------------------------------\r\n",
      "cc_onco945.ann\t\t1.0\r\n",
      "-----------------------------------------------------\r\n",
      "cc_onco994.ann\t\t1.0\r\n",
      "-----------------------------------------------------\r\n",
      "\r\n",
      "-----------------------------------------------------\r\n",
      "Clinical case name\t\t\tRecall\r\n",
      "-----------------------------------------------------\r\n",
      "cc_onco1001.ann\t\t1.0\r\n",
      "-----------------------------------------------------\r\n",
      "cc_onco1007.ann\t\t1.0\r\n",
      "-----------------------------------------------------\r\n",
      "cc_onco1008.ann\t\t1.0\r\n",
      "-----------------------------------------------------\r\n",
      "cc_onco1009.ann\t\t1.0\r\n",
      "-----------------------------------------------------\r\n",
      "cc_onco1010.ann\t\t1.0\r\n",
      "-----------------------------------------------------\r\n",
      "cc_onco1011.ann\t\t0.923\r\n",
      "-----------------------------------------------------\r\n",
      "cc_onco1012.ann\t\t0.933\r\n",
      "-----------------------------------------------------\r\n",
      "cc_onco1014.ann\t\t1.0\r\n",
      "-----------------------------------------------------\r\n",
      "cc_onco1016.ann\t\t1.0\r\n",
      "-----------------------------------------------------\r\n",
      "cc_onco1018.ann\t\t1.0\r\n",
      "-----------------------------------------------------\r\n",
      "cc_onco1019.ann\t\t1.0\r\n",
      "-----------------------------------------------------\r\n",
      "cc_onco1020.ann\t\t1.0\r\n",
      "-----------------------------------------------------\r\n",
      "cc_onco1021.ann\t\t1.0\r\n",
      "-----------------------------------------------------\r\n",
      "cc_onco1022.ann\t\t1.0\r\n",
      "-----------------------------------------------------\r\n",
      "cc_onco1025.ann\t\t0.917\r\n",
      "-----------------------------------------------------\r\n",
      "cc_onco1028.ann\t\t1.0\r\n",
      "-----------------------------------------------------\r\n",
      "cc_onco1031.ann\t\t1.0\r\n",
      "-----------------------------------------------------\r\n",
      "cc_onco1032.ann\t\t1.0\r\n",
      "-----------------------------------------------------\r\n",
      "cc_onco1033.ann\t\t1.0\r\n",
      "-----------------------------------------------------\r\n",
      "cc_onco1034.ann\t\t1.0\r\n",
      "-----------------------------------------------------\r\n",
      "cc_onco1035.ann\t\t1.0\r\n",
      "-----------------------------------------------------\r\n",
      "cc_onco1036.ann\t\t1.0\r\n",
      "-----------------------------------------------------\r\n",
      "cc_onco1041.ann\t\t1.0\r\n",
      "-----------------------------------------------------\r\n",
      "cc_onco1042.ann\t\t1.0\r\n",
      "-----------------------------------------------------\r\n",
      "cc_onco1043.ann\t\t1.0\r\n",
      "-----------------------------------------------------\r\n",
      "cc_onco1045.ann\t\t1.0\r\n",
      "-----------------------------------------------------\r\n",
      "cc_onco1047.ann\t\t1.0\r\n",
      "-----------------------------------------------------\r\n",
      "cc_onco1048.ann\t\t1.0\r\n",
      "-----------------------------------------------------\r\n",
      "cc_onco1049.ann\t\t1.0\r\n",
      "-----------------------------------------------------\r\n",
      "cc_onco1052.ann\t\t1.0\r\n",
      "-----------------------------------------------------\r\n",
      "cc_onco1054.ann\t\t1.0\r\n",
      "-----------------------------------------------------\r\n",
      "cc_onco1055.ann\t\t0.889\r\n",
      "-----------------------------------------------------\r\n",
      "cc_onco1058.ann\t\t1.0\r\n",
      "-----------------------------------------------------\r\n",
      "cc_onco1061.ann\t\t1.0\r\n",
      "-----------------------------------------------------\r\n",
      "cc_onco1062.ann\t\t1.0\r\n",
      "-----------------------------------------------------\r\n",
      "cc_onco1063.ann\t\t1.0\r\n",
      "-----------------------------------------------------\r\n",
      "cc_onco1067.ann\t\t1.0\r\n",
      "-----------------------------------------------------\r\n",
      "cc_onco1068.ann\t\t1.0\r\n",
      "-----------------------------------------------------\r\n",
      "cc_onco1069.ann\t\t1.0\r\n",
      "-----------------------------------------------------\r\n",
      "cc_onco1070.ann\t\t1.0\r\n",
      "-----------------------------------------------------\r\n",
      "cc_onco1071.ann\t\t1.0\r\n",
      "-----------------------------------------------------\r\n",
      "cc_onco1072.ann\t\t1.0\r\n",
      "-----------------------------------------------------\r\n",
      "cc_onco1073.ann\t\t1.0\r\n",
      "-----------------------------------------------------\r\n",
      "cc_onco1074.ann\t\t1.0\r\n",
      "-----------------------------------------------------\r\n",
      "cc_onco1076.ann\t\t1.0\r\n",
      "-----------------------------------------------------\r\n",
      "cc_onco1077.ann\t\t0.963\r\n",
      "-----------------------------------------------------\r\n",
      "cc_onco1079.ann\t\t1.0\r\n",
      "-----------------------------------------------------\r\n",
      "cc_onco1088.ann\t\t1.0\r\n",
      "-----------------------------------------------------\r\n",
      "cc_onco1089.ann\t\t1.0\r\n",
      "-----------------------------------------------------\r\n",
      "cc_onco1090.ann\t\t1.0\r\n",
      "-----------------------------------------------------\r\n",
      "cc_onco1091.ann\t\t1.0\r\n",
      "-----------------------------------------------------\r\n",
      "cc_onco1093.ann\t\t1.0\r\n",
      "-----------------------------------------------------\r\n",
      "cc_onco1094.ann\t\t1.0\r\n",
      "-----------------------------------------------------\r\n",
      "cc_onco1097.ann\t\t1.0\r\n",
      "-----------------------------------------------------\r\n",
      "cc_onco1098.ann\t\t1.0\r\n",
      "-----------------------------------------------------\r\n",
      "cc_onco1101.ann\t\t0.955\r\n",
      "-----------------------------------------------------\r\n",
      "cc_onco1102.ann\t\t1.0\r\n",
      "-----------------------------------------------------\r\n",
      "cc_onco1104.ann\t\t1.0\r\n",
      "-----------------------------------------------------\r\n",
      "cc_onco1111.ann\t\t1.0\r\n",
      "-----------------------------------------------------\r\n",
      "cc_onco1115.ann\t\t1.0\r\n",
      "-----------------------------------------------------\r\n",
      "cc_onco1117.ann\t\t1.0\r\n",
      "-----------------------------------------------------\r\n",
      "cc_onco1118.ann\t\t1.0\r\n",
      "-----------------------------------------------------\r\n",
      "cc_onco1121.ann\t\t1.0\r\n",
      "-----------------------------------------------------\r\n",
      "cc_onco1123.ann\t\t0.929\r\n",
      "-----------------------------------------------------\r\n",
      "cc_onco1124.ann\t\t1.0\r\n",
      "-----------------------------------------------------\r\n",
      "cc_onco1127.ann\t\t1.0\r\n",
      "-----------------------------------------------------\r\n",
      "cc_onco1130.ann\t\t1.0\r\n",
      "-----------------------------------------------------\r\n",
      "cc_onco1131.ann\t\t1.0\r\n",
      "-----------------------------------------------------\r\n",
      "cc_onco1132.ann\t\t0.833\r\n",
      "-----------------------------------------------------\r\n",
      "cc_onco1133.ann\t\t1.0\r\n",
      "-----------------------------------------------------\r\n",
      "cc_onco1137.ann\t\t1.0\r\n",
      "-----------------------------------------------------\r\n",
      "cc_onco1138.ann\t\t1.0\r\n",
      "-----------------------------------------------------\r\n",
      "cc_onco1141.ann\t\t0.941\r\n",
      "-----------------------------------------------------\r\n",
      "cc_onco1142.ann\t\t1.0\r\n",
      "-----------------------------------------------------\r\n",
      "cc_onco1143.ann\t\t1.0\r\n",
      "-----------------------------------------------------\r\n",
      "cc_onco1145.ann\t\t1.0\r\n",
      "-----------------------------------------------------\r\n",
      "cc_onco1147.ann\t\t1.0\r\n",
      "-----------------------------------------------------\r\n",
      "cc_onco1150.ann\t\t1.0\r\n",
      "-----------------------------------------------------\r\n",
      "cc_onco1151.ann\t\t1.0\r\n",
      "-----------------------------------------------------\r\n",
      "cc_onco1152.ann\t\t1.0\r\n",
      "-----------------------------------------------------\r\n",
      "cc_onco1154.ann\t\t1.0\r\n",
      "-----------------------------------------------------\r\n",
      "cc_onco1159.ann\t\t1.0\r\n",
      "-----------------------------------------------------\r\n",
      "cc_onco1163.ann\t\t1.0\r\n",
      "-----------------------------------------------------\r\n",
      "cc_onco1164.ann\t\t1.0\r\n",
      "-----------------------------------------------------\r\n",
      "cc_onco1166.ann\t\t0.917\r\n",
      "-----------------------------------------------------\r\n",
      "cc_onco1168.ann\t\t1.0\r\n",
      "-----------------------------------------------------\r\n",
      "cc_onco1170.ann\t\t1.0\r\n",
      "-----------------------------------------------------\r\n",
      "cc_onco1171.ann\t\t1.0\r\n",
      "-----------------------------------------------------\r\n",
      "cc_onco1172.ann\t\t1.0\r\n",
      "-----------------------------------------------------\r\n",
      "cc_onco1173.ann\t\t0.9\r\n",
      "-----------------------------------------------------\r\n",
      "cc_onco1175.ann\t\t1.0\r\n",
      "-----------------------------------------------------\r\n",
      "cc_onco1177.ann\t\t1.0\r\n",
      "-----------------------------------------------------\r\n",
      "cc_onco1179.ann\t\t0.941\r\n",
      "-----------------------------------------------------\r\n",
      "cc_onco1181.ann\t\t0.933\r\n",
      "-----------------------------------------------------\r\n",
      "cc_onco1183.ann\t\t1.0\r\n",
      "-----------------------------------------------------\r\n",
      "cc_onco1184.ann\t\t1.0\r\n",
      "-----------------------------------------------------\r\n",
      "cc_onco1186.ann\t\t1.0\r\n",
      "-----------------------------------------------------\r\n",
      "cc_onco1187.ann\t\t1.0\r\n",
      "-----------------------------------------------------\r\n",
      "cc_onco1188.ann\t\t0.857\r\n",
      "-----------------------------------------------------\r\n",
      "cc_onco1189.ann\t\t1.0\r\n",
      "-----------------------------------------------------\r\n",
      "cc_onco1194.ann\t\t1.0\r\n",
      "-----------------------------------------------------\r\n",
      "cc_onco1198.ann\t\t1.0\r\n",
      "-----------------------------------------------------\r\n",
      "cc_onco1199.ann\t\t1.0\r\n",
      "-----------------------------------------------------\r\n",
      "cc_onco1201.ann\t\t0.846\r\n",
      "-----------------------------------------------------\r\n",
      "cc_onco1203.ann\t\t1.0\r\n",
      "-----------------------------------------------------\r\n",
      "cc_onco1208.ann\t\t1.0\r\n",
      "-----------------------------------------------------\r\n",
      "cc_onco1211.ann\t\t1.0\r\n",
      "-----------------------------------------------------\r\n",
      "cc_onco1215.ann\t\t1.0\r\n",
      "-----------------------------------------------------\r\n",
      "cc_onco1217.ann\t\t1.0\r\n",
      "-----------------------------------------------------\r\n",
      "cc_onco1218.ann\t\t0.857\r\n",
      "-----------------------------------------------------\r\n",
      "cc_onco1221.ann\t\t1.0\r\n",
      "-----------------------------------------------------\r\n",
      "cc_onco1222.ann\t\t0.667\r\n",
      "-----------------------------------------------------\r\n",
      "cc_onco1225.ann\t\t1.0\r\n",
      "-----------------------------------------------------\r\n",
      "cc_onco1226.ann\t\t1.0\r\n",
      "-----------------------------------------------------\r\n",
      "cc_onco1227.ann\t\t1.0\r\n",
      "-----------------------------------------------------\r\n",
      "cc_onco1228.ann\t\t1.0\r\n",
      "-----------------------------------------------------\r\n",
      "cc_onco1229.ann\t\t1.0\r\n",
      "-----------------------------------------------------\r\n",
      "cc_onco1230.ann\t\t1.0\r\n",
      "-----------------------------------------------------\r\n",
      "cc_onco1232.ann\t\t1.0\r\n",
      "-----------------------------------------------------\r\n",
      "cc_onco1234.ann\t\t1.0\r\n",
      "-----------------------------------------------------\r\n",
      "cc_onco1235.ann\t\t1.0\r\n",
      "-----------------------------------------------------\r\n",
      "cc_onco1236.ann\t\t1.0\r\n",
      "-----------------------------------------------------\r\n",
      "cc_onco1237.ann\t\t1.0\r\n",
      "-----------------------------------------------------\r\n",
      "cc_onco1239.ann\t\t1.0\r\n",
      "-----------------------------------------------------\r\n",
      "cc_onco1241.ann\t\t1.0\r\n",
      "-----------------------------------------------------\r\n",
      "cc_onco1245.ann\t\t1.0\r\n",
      "-----------------------------------------------------\r\n",
      "cc_onco1253.ann\t\t1.0\r\n",
      "-----------------------------------------------------\r\n",
      "cc_onco1254.ann\t\t0.786\r\n",
      "-----------------------------------------------------\r\n",
      "cc_onco1255.ann\t\t1.0\r\n",
      "-----------------------------------------------------\r\n",
      "cc_onco1256.ann\t\t1.0\r\n",
      "-----------------------------------------------------\r\n",
      "cc_onco1257.ann\t\t1.0\r\n",
      "-----------------------------------------------------\r\n",
      "cc_onco1258.ann\t\t0.929\r\n",
      "-----------------------------------------------------\r\n",
      "cc_onco1260.ann\t\t1.0\r\n",
      "-----------------------------------------------------\r\n",
      "cc_onco1262.ann\t\t1.0\r\n",
      "-----------------------------------------------------\r\n",
      "cc_onco1264.ann\t\t1.0\r\n",
      "-----------------------------------------------------\r\n",
      "cc_onco1267.ann\t\t1.0\r\n",
      "-----------------------------------------------------\r\n",
      "cc_onco1271.ann\t\t1.0\r\n",
      "-----------------------------------------------------\r\n",
      "cc_onco1272.ann\t\t1.0\r\n",
      "-----------------------------------------------------\r\n",
      "cc_onco1273.ann\t\t1.0\r\n",
      "-----------------------------------------------------\r\n",
      "cc_onco1275.ann\t\t1.0\r\n",
      "-----------------------------------------------------\r\n",
      "cc_onco1276.ann\t\t1.0\r\n",
      "-----------------------------------------------------\r\n",
      "cc_onco1277.ann\t\t1.0\r\n",
      "-----------------------------------------------------\r\n",
      "cc_onco1280.ann\t\t1.0\r\n",
      "-----------------------------------------------------\r\n",
      "cc_onco1283.ann\t\t0.947\r\n",
      "-----------------------------------------------------\r\n",
      "cc_onco1286.ann\t\t1.0\r\n",
      "-----------------------------------------------------\r\n",
      "cc_onco1293.ann\t\t1.0\r\n",
      "-----------------------------------------------------\r\n",
      "cc_onco1295.ann\t\t1.0\r\n",
      "-----------------------------------------------------\r\n",
      "cc_onco1296.ann\t\t0.941\r\n",
      "-----------------------------------------------------\r\n",
      "cc_onco1304.ann\t\t1.0\r\n",
      "-----------------------------------------------------\r\n",
      "cc_onco1307.ann\t\t1.0\r\n",
      "-----------------------------------------------------\r\n",
      "cc_onco1308.ann\t\t1.0\r\n",
      "-----------------------------------------------------\r\n",
      "cc_onco1311.ann\t\t0.909\r\n",
      "-----------------------------------------------------\r\n",
      "cc_onco1312.ann\t\t1.0\r\n",
      "-----------------------------------------------------\r\n",
      "cc_onco1314.ann\t\t1.0\r\n",
      "-----------------------------------------------------\r\n",
      "cc_onco1315.ann\t\t1.0\r\n",
      "-----------------------------------------------------\r\n",
      "cc_onco1317.ann\t\t1.0\r\n",
      "-----------------------------------------------------\r\n",
      "cc_onco1318.ann\t\t1.0\r\n",
      "-----------------------------------------------------\r\n",
      "cc_onco1319.ann\t\t1.0\r\n",
      "-----------------------------------------------------\r\n",
      "cc_onco1320.ann\t\t1.0\r\n",
      "-----------------------------------------------------\r\n",
      "cc_onco1323.ann\t\t1.0\r\n",
      "-----------------------------------------------------\r\n",
      "cc_onco1324.ann\t\t1.0\r\n",
      "-----------------------------------------------------\r\n",
      "cc_onco1325.ann\t\t0.917\r\n",
      "-----------------------------------------------------\r\n",
      "cc_onco1326.ann\t\t1.0\r\n",
      "-----------------------------------------------------\r\n",
      "cc_onco1328.ann\t\t1.0\r\n",
      "-----------------------------------------------------\r\n",
      "cc_onco1329.ann\t\t1.0\r\n",
      "-----------------------------------------------------\r\n",
      "cc_onco1330.ann\t\t1.0\r\n",
      "-----------------------------------------------------\r\n",
      "cc_onco1331.ann\t\t0.875\r\n",
      "-----------------------------------------------------\r\n",
      "cc_onco1333.ann\t\t1.0\r\n",
      "-----------------------------------------------------\r\n",
      "cc_onco1336.ann\t\t1.0\r\n",
      "-----------------------------------------------------\r\n",
      "cc_onco1337.ann\t\t1.0\r\n",
      "-----------------------------------------------------\r\n",
      "cc_onco1338.ann\t\t1.0\r\n",
      "-----------------------------------------------------\r\n",
      "cc_onco1339.ann\t\t1.0\r\n",
      "-----------------------------------------------------\r\n",
      "cc_onco1340.ann\t\t1.0\r\n",
      "-----------------------------------------------------\r\n",
      "cc_onco1350.ann\t\t1.0\r\n",
      "-----------------------------------------------------\r\n",
      "cc_onco1351.ann\t\t1.0\r\n",
      "-----------------------------------------------------\r\n",
      "cc_onco1353.ann\t\t1.0\r\n",
      "-----------------------------------------------------\r\n",
      "cc_onco1354.ann\t\t0.938\r\n",
      "-----------------------------------------------------\r\n",
      "cc_onco1355.ann\t\t1.0\r\n",
      "-----------------------------------------------------\r\n",
      "cc_onco1356.ann\t\t1.0\r\n",
      "-----------------------------------------------------\r\n",
      "cc_onco1358.ann\t\t0.9\r\n",
      "-----------------------------------------------------\r\n",
      "cc_onco1359.ann\t\t1.0\r\n",
      "-----------------------------------------------------\r\n",
      "cc_onco1361.ann\t\t1.0\r\n",
      "-----------------------------------------------------\r\n",
      "cc_onco1363.ann\t\t1.0\r\n",
      "-----------------------------------------------------\r\n",
      "cc_onco1368.ann\t\t0.917\r\n",
      "-----------------------------------------------------\r\n",
      "cc_onco1371.ann\t\t1.0\r\n",
      "-----------------------------------------------------\r\n",
      "cc_onco1373.ann\t\t1.0\r\n",
      "-----------------------------------------------------\r\n",
      "cc_onco1376.ann\t\t1.0\r\n",
      "-----------------------------------------------------\r\n",
      "cc_onco1377.ann\t\t1.0\r\n",
      "-----------------------------------------------------\r\n",
      "cc_onco1382.ann\t\t1.0\r\n",
      "-----------------------------------------------------\r\n",
      "cc_onco1383.ann\t\t1.0\r\n",
      "-----------------------------------------------------\r\n",
      "cc_onco1384.ann\t\t1.0\r\n",
      "-----------------------------------------------------\r\n",
      "cc_onco1387.ann\t\t1.0\r\n",
      "-----------------------------------------------------\r\n",
      "cc_onco1388.ann\t\t0.667\r\n",
      "-----------------------------------------------------\r\n",
      "cc_onco1390.ann\t\t1.0\r\n",
      "-----------------------------------------------------\r\n",
      "cc_onco1391.ann\t\t1.0\r\n",
      "-----------------------------------------------------\r\n",
      "cc_onco1392.ann\t\t1.0\r\n",
      "-----------------------------------------------------\r\n",
      "cc_onco1393.ann\t\t1.0\r\n",
      "-----------------------------------------------------\r\n",
      "cc_onco1397.ann\t\t0.889\r\n",
      "-----------------------------------------------------\r\n",
      "cc_onco1402.ann\t\t1.0\r\n",
      "-----------------------------------------------------\r\n",
      "cc_onco1404.ann\t\t1.0\r\n",
      "-----------------------------------------------------\r\n",
      "cc_onco1405.ann\t\t1.0\r\n",
      "-----------------------------------------------------\r\n",
      "cc_onco1412.ann\t\t1.0\r\n",
      "-----------------------------------------------------\r\n",
      "cc_onco1415.ann\t\t1.0\r\n",
      "-----------------------------------------------------\r\n",
      "cc_onco1418.ann\t\t1.0\r\n",
      "-----------------------------------------------------\r\n",
      "cc_onco1419.ann\t\t0.917\r\n",
      "-----------------------------------------------------\r\n",
      "cc_onco1420.ann\t\t1.0\r\n",
      "-----------------------------------------------------\r\n",
      "cc_onco1424.ann\t\t1.0\r\n",
      "-----------------------------------------------------\r\n",
      "cc_onco1427.ann\t\t0.8\r\n",
      "-----------------------------------------------------\r\n",
      "cc_onco1428.ann\t\t1.0\r\n",
      "-----------------------------------------------------\r\n",
      "cc_onco1429.ann\t\t1.0\r\n",
      "-----------------------------------------------------\r\n",
      "cc_onco1432.ann\t\t0.933\r\n",
      "-----------------------------------------------------\r\n",
      "cc_onco1435.ann\t\t1.0\r\n",
      "-----------------------------------------------------\r\n",
      "cc_onco1437.ann\t\t1.0\r\n",
      "-----------------------------------------------------\r\n",
      "cc_onco1438.ann\t\t1.0\r\n",
      "-----------------------------------------------------\r\n",
      "cc_onco1444.ann\t\t1.0\r\n",
      "-----------------------------------------------------\r\n",
      "cc_onco1448.ann\t\t1.0\r\n",
      "-----------------------------------------------------\r\n",
      "cc_onco1449.ann\t\t1.0\r\n",
      "-----------------------------------------------------\r\n",
      "cc_onco1451.ann\t\t1.0\r\n",
      "-----------------------------------------------------\r\n",
      "cc_onco1459.ann\t\t1.0\r\n",
      "-----------------------------------------------------\r\n",
      "cc_onco1461.ann\t\t1.0\r\n",
      "-----------------------------------------------------\r\n",
      "cc_onco1462.ann\t\t1.0\r\n",
      "-----------------------------------------------------\r\n",
      "cc_onco1463.ann\t\t1.0\r\n",
      "-----------------------------------------------------\r\n",
      "cc_onco1467.ann\t\t1.0\r\n",
      "-----------------------------------------------------\r\n",
      "cc_onco1474.ann\t\t1.0\r\n",
      "-----------------------------------------------------\r\n",
      "cc_onco1475.ann\t\t0.5\r\n",
      "-----------------------------------------------------\r\n",
      "cc_onco1478.ann\t\t1.0\r\n",
      "-----------------------------------------------------\r\n",
      "cc_onco1482.ann\t\t1.0\r\n",
      "-----------------------------------------------------\r\n",
      "cc_onco1484.ann\t\t1.0\r\n",
      "-----------------------------------------------------\r\n",
      "cc_onco1487.ann\t\t1.0\r\n",
      "-----------------------------------------------------\r\n",
      "cc_onco1488.ann\t\t1.0\r\n",
      "-----------------------------------------------------\r\n",
      "cc_onco1490.ann\t\t1.0\r\n",
      "-----------------------------------------------------\r\n",
      "cc_onco1492.ann\t\t1.0\r\n",
      "-----------------------------------------------------\r\n",
      "cc_onco1494.ann\t\t0.97\r\n",
      "-----------------------------------------------------\r\n",
      "cc_onco1495.ann\t\t1.0\r\n",
      "-----------------------------------------------------\r\n",
      "cc_onco1497.ann\t\t1.0\r\n",
      "-----------------------------------------------------\r\n",
      "cc_onco1500.ann\t\t1.0\r\n",
      "-----------------------------------------------------\r\n",
      "cc_onco282.ann\t\t1.0\r\n",
      "-----------------------------------------------------\r\n",
      "cc_onco437.ann\t\t1.0\r\n",
      "-----------------------------------------------------\r\n",
      "cc_onco639.ann\t\t1.0\r\n",
      "-----------------------------------------------------\r\n",
      "cc_onco645.ann\t\t1.0\r\n",
      "-----------------------------------------------------\r\n",
      "cc_onco65.ann\t\t1.0\r\n",
      "-----------------------------------------------------\r\n",
      "cc_onco657.ann\t\t1.0\r\n",
      "-----------------------------------------------------\r\n",
      "cc_onco691.ann\t\t1.0\r\n",
      "-----------------------------------------------------\r\n",
      "cc_onco734.ann\t\t1.0\r\n",
      "-----------------------------------------------------\r\n",
      "cc_onco735.ann\t\t1.0\r\n",
      "-----------------------------------------------------\r\n",
      "cc_onco751.ann\t\t1.0\r\n",
      "-----------------------------------------------------\r\n",
      "cc_onco874.ann\t\t1.0\r\n",
      "-----------------------------------------------------\r\n",
      "cc_onco898.ann\t\t1.0\r\n",
      "-----------------------------------------------------\r\n",
      "cc_onco945.ann\t\t1.0\r\n",
      "-----------------------------------------------------\r\n",
      "cc_onco994.ann\t\t1.0\r\n",
      "-----------------------------------------------------\r\n",
      "\r\n",
      "-----------------------------------------------------\r\n",
      "Clinical case name\t\t\tF-score\r\n",
      "-----------------------------------------------------\r\n",
      "cc_onco1001.ann\t\t1.0\r\n",
      "-----------------------------------------------------\r\n",
      "cc_onco1007.ann\t\t1.0\r\n",
      "-----------------------------------------------------\r\n",
      "cc_onco1008.ann\t\t1.0\r\n",
      "-----------------------------------------------------\r\n",
      "cc_onco1009.ann\t\t1.0\r\n",
      "-----------------------------------------------------\r\n",
      "cc_onco1010.ann\t\t1.0\r\n",
      "-----------------------------------------------------\r\n",
      "cc_onco1011.ann\t\t0.96\r\n",
      "-----------------------------------------------------\r\n",
      "cc_onco1012.ann\t\t0.966\r\n",
      "-----------------------------------------------------\r\n",
      "cc_onco1014.ann\t\t1.0\r\n",
      "-----------------------------------------------------\r\n",
      "cc_onco1016.ann\t\t1.0\r\n",
      "-----------------------------------------------------\r\n",
      "cc_onco1018.ann\t\t1.0\r\n",
      "-----------------------------------------------------\r\n",
      "cc_onco1019.ann\t\t1.0\r\n",
      "-----------------------------------------------------\r\n",
      "cc_onco1020.ann\t\t1.0\r\n",
      "-----------------------------------------------------\r\n",
      "cc_onco1021.ann\t\t1.0\r\n",
      "-----------------------------------------------------\r\n",
      "cc_onco1022.ann\t\t1.0\r\n",
      "-----------------------------------------------------\r\n",
      "cc_onco1025.ann\t\t0.957\r\n",
      "-----------------------------------------------------\r\n",
      "cc_onco1028.ann\t\t1.0\r\n",
      "-----------------------------------------------------\r\n",
      "cc_onco1031.ann\t\t1.0\r\n",
      "-----------------------------------------------------\r\n",
      "cc_onco1032.ann\t\t1.0\r\n",
      "-----------------------------------------------------\r\n",
      "cc_onco1033.ann\t\t1.0\r\n",
      "-----------------------------------------------------\r\n",
      "cc_onco1034.ann\t\t1.0\r\n",
      "-----------------------------------------------------\r\n",
      "cc_onco1035.ann\t\t1.0\r\n",
      "-----------------------------------------------------\r\n",
      "cc_onco1036.ann\t\t1.0\r\n",
      "-----------------------------------------------------\r\n",
      "cc_onco1041.ann\t\t1.0\r\n",
      "-----------------------------------------------------\r\n",
      "cc_onco1042.ann\t\t1.0\r\n",
      "-----------------------------------------------------\r\n",
      "cc_onco1043.ann\t\t1.0\r\n",
      "-----------------------------------------------------\r\n",
      "cc_onco1045.ann\t\t1.0\r\n",
      "-----------------------------------------------------\r\n",
      "cc_onco1047.ann\t\t1.0\r\n",
      "-----------------------------------------------------\r\n",
      "cc_onco1048.ann\t\t1.0\r\n",
      "-----------------------------------------------------\r\n",
      "cc_onco1049.ann\t\t1.0\r\n",
      "-----------------------------------------------------\r\n",
      "cc_onco1052.ann\t\t1.0\r\n",
      "-----------------------------------------------------\r\n",
      "cc_onco1054.ann\t\t1.0\r\n",
      "-----------------------------------------------------\r\n",
      "cc_onco1055.ann\t\t0.941\r\n",
      "-----------------------------------------------------\r\n",
      "cc_onco1058.ann\t\t1.0\r\n",
      "-----------------------------------------------------\r\n",
      "cc_onco1061.ann\t\t1.0\r\n",
      "-----------------------------------------------------\r\n",
      "cc_onco1062.ann\t\t1.0\r\n",
      "-----------------------------------------------------\r\n",
      "cc_onco1063.ann\t\t1.0\r\n",
      "-----------------------------------------------------\r\n",
      "cc_onco1067.ann\t\t1.0\r\n",
      "-----------------------------------------------------\r\n",
      "cc_onco1068.ann\t\t1.0\r\n",
      "-----------------------------------------------------\r\n",
      "cc_onco1069.ann\t\t1.0\r\n",
      "-----------------------------------------------------\r\n",
      "cc_onco1070.ann\t\t1.0\r\n",
      "-----------------------------------------------------\r\n",
      "cc_onco1071.ann\t\t1.0\r\n",
      "-----------------------------------------------------\r\n",
      "cc_onco1072.ann\t\t1.0\r\n",
      "-----------------------------------------------------\r\n",
      "cc_onco1073.ann\t\t1.0\r\n",
      "-----------------------------------------------------\r\n",
      "cc_onco1074.ann\t\t1.0\r\n",
      "-----------------------------------------------------\r\n",
      "cc_onco1076.ann\t\t1.0\r\n",
      "-----------------------------------------------------\r\n",
      "cc_onco1077.ann\t\t0.981\r\n",
      "-----------------------------------------------------\r\n",
      "cc_onco1079.ann\t\t1.0\r\n",
      "-----------------------------------------------------\r\n",
      "cc_onco1088.ann\t\t1.0\r\n",
      "-----------------------------------------------------\r\n",
      "cc_onco1089.ann\t\t1.0\r\n",
      "-----------------------------------------------------\r\n",
      "cc_onco1090.ann\t\t1.0\r\n",
      "-----------------------------------------------------\r\n",
      "cc_onco1091.ann\t\t1.0\r\n",
      "-----------------------------------------------------\r\n",
      "cc_onco1093.ann\t\t1.0\r\n",
      "-----------------------------------------------------\r\n",
      "cc_onco1094.ann\t\t1.0\r\n",
      "-----------------------------------------------------\r\n",
      "cc_onco1097.ann\t\t1.0\r\n",
      "-----------------------------------------------------\r\n",
      "cc_onco1098.ann\t\t1.0\r\n",
      "-----------------------------------------------------\r\n",
      "cc_onco1101.ann\t\t0.977\r\n",
      "-----------------------------------------------------\r\n",
      "cc_onco1102.ann\t\t1.0\r\n",
      "-----------------------------------------------------\r\n",
      "cc_onco1104.ann\t\t1.0\r\n",
      "-----------------------------------------------------\r\n",
      "cc_onco1111.ann\t\t1.0\r\n",
      "-----------------------------------------------------\r\n",
      "cc_onco1115.ann\t\t1.0\r\n",
      "-----------------------------------------------------\r\n",
      "cc_onco1117.ann\t\t1.0\r\n",
      "-----------------------------------------------------\r\n",
      "cc_onco1118.ann\t\t1.0\r\n",
      "-----------------------------------------------------\r\n",
      "cc_onco1121.ann\t\t1.0\r\n",
      "-----------------------------------------------------\r\n",
      "cc_onco1123.ann\t\t0.963\r\n",
      "-----------------------------------------------------\r\n",
      "cc_onco1124.ann\t\t1.0\r\n",
      "-----------------------------------------------------\r\n",
      "cc_onco1127.ann\t\t1.0\r\n",
      "-----------------------------------------------------\r\n",
      "cc_onco1130.ann\t\t1.0\r\n",
      "-----------------------------------------------------\r\n",
      "cc_onco1131.ann\t\t1.0\r\n",
      "-----------------------------------------------------\r\n",
      "cc_onco1132.ann\t\t0.909\r\n",
      "-----------------------------------------------------\r\n",
      "cc_onco1133.ann\t\t1.0\r\n",
      "-----------------------------------------------------\r\n",
      "cc_onco1137.ann\t\t1.0\r\n",
      "-----------------------------------------------------\r\n",
      "cc_onco1138.ann\t\t1.0\r\n",
      "-----------------------------------------------------\r\n",
      "cc_onco1141.ann\t\t0.97\r\n",
      "-----------------------------------------------------\r\n",
      "cc_onco1142.ann\t\t1.0\r\n",
      "-----------------------------------------------------\r\n",
      "cc_onco1143.ann\t\t1.0\r\n",
      "-----------------------------------------------------\r\n",
      "cc_onco1145.ann\t\t1.0\r\n",
      "-----------------------------------------------------\r\n",
      "cc_onco1147.ann\t\t1.0\r\n",
      "-----------------------------------------------------\r\n",
      "cc_onco1150.ann\t\t1.0\r\n",
      "-----------------------------------------------------\r\n",
      "cc_onco1151.ann\t\t1.0\r\n",
      "-----------------------------------------------------\r\n",
      "cc_onco1152.ann\t\t1.0\r\n",
      "-----------------------------------------------------\r\n",
      "cc_onco1154.ann\t\t1.0\r\n",
      "-----------------------------------------------------\r\n",
      "cc_onco1159.ann\t\t1.0\r\n",
      "-----------------------------------------------------\r\n",
      "cc_onco1163.ann\t\t1.0\r\n",
      "-----------------------------------------------------\r\n",
      "cc_onco1164.ann\t\t1.0\r\n",
      "-----------------------------------------------------\r\n",
      "cc_onco1166.ann\t\t0.957\r\n",
      "-----------------------------------------------------\r\n",
      "cc_onco1168.ann\t\t1.0\r\n",
      "-----------------------------------------------------\r\n",
      "cc_onco1170.ann\t\t1.0\r\n",
      "-----------------------------------------------------\r\n",
      "cc_onco1171.ann\t\t1.0\r\n",
      "-----------------------------------------------------\r\n",
      "cc_onco1172.ann\t\t1.0\r\n",
      "-----------------------------------------------------\r\n",
      "cc_onco1173.ann\t\t0.947\r\n",
      "-----------------------------------------------------\r\n",
      "cc_onco1175.ann\t\t1.0\r\n",
      "-----------------------------------------------------\r\n",
      "cc_onco1177.ann\t\t1.0\r\n",
      "-----------------------------------------------------\r\n",
      "cc_onco1179.ann\t\t0.97\r\n",
      "-----------------------------------------------------\r\n",
      "cc_onco1181.ann\t\t0.933\r\n",
      "-----------------------------------------------------\r\n",
      "cc_onco1183.ann\t\t1.0\r\n",
      "-----------------------------------------------------\r\n",
      "cc_onco1184.ann\t\t1.0\r\n",
      "-----------------------------------------------------\r\n",
      "cc_onco1186.ann\t\t1.0\r\n",
      "-----------------------------------------------------\r\n",
      "cc_onco1187.ann\t\t1.0\r\n",
      "-----------------------------------------------------\r\n",
      "cc_onco1188.ann\t\t0.923\r\n",
      "-----------------------------------------------------\r\n",
      "cc_onco1189.ann\t\t1.0\r\n",
      "-----------------------------------------------------\r\n",
      "cc_onco1194.ann\t\t1.0\r\n",
      "-----------------------------------------------------\r\n",
      "cc_onco1198.ann\t\t1.0\r\n",
      "-----------------------------------------------------\r\n",
      "cc_onco1199.ann\t\t1.0\r\n",
      "-----------------------------------------------------\r\n",
      "cc_onco1201.ann\t\t0.917\r\n",
      "-----------------------------------------------------\r\n",
      "cc_onco1203.ann\t\t1.0\r\n",
      "-----------------------------------------------------\r\n",
      "cc_onco1208.ann\t\t1.0\r\n",
      "-----------------------------------------------------\r\n",
      "cc_onco1211.ann\t\t1.0\r\n",
      "-----------------------------------------------------\r\n",
      "cc_onco1215.ann\t\t1.0\r\n",
      "-----------------------------------------------------\r\n",
      "cc_onco1217.ann\t\t1.0\r\n",
      "-----------------------------------------------------\r\n",
      "cc_onco1218.ann\t\t0.923\r\n",
      "-----------------------------------------------------\r\n",
      "cc_onco1221.ann\t\t1.0\r\n",
      "-----------------------------------------------------\r\n",
      "cc_onco1222.ann\t\t0.8\r\n",
      "-----------------------------------------------------\r\n",
      "cc_onco1225.ann\t\t1.0\r\n",
      "-----------------------------------------------------\r\n",
      "cc_onco1226.ann\t\t1.0\r\n",
      "-----------------------------------------------------\r\n",
      "cc_onco1227.ann\t\t1.0\r\n",
      "-----------------------------------------------------\r\n",
      "cc_onco1228.ann\t\t1.0\r\n",
      "-----------------------------------------------------\r\n",
      "cc_onco1229.ann\t\t1.0\r\n",
      "-----------------------------------------------------\r\n",
      "cc_onco1230.ann\t\t1.0\r\n",
      "-----------------------------------------------------\r\n",
      "cc_onco1232.ann\t\t1.0\r\n",
      "-----------------------------------------------------\r\n",
      "cc_onco1234.ann\t\t1.0\r\n",
      "-----------------------------------------------------\r\n",
      "cc_onco1235.ann\t\t1.0\r\n",
      "-----------------------------------------------------\r\n",
      "cc_onco1236.ann\t\t1.0\r\n",
      "-----------------------------------------------------\r\n",
      "cc_onco1237.ann\t\t1.0\r\n",
      "-----------------------------------------------------\r\n",
      "cc_onco1239.ann\t\t1.0\r\n",
      "-----------------------------------------------------\r\n",
      "cc_onco1241.ann\t\t1.0\r\n",
      "-----------------------------------------------------\r\n",
      "cc_onco1245.ann\t\t1.0\r\n",
      "-----------------------------------------------------\r\n",
      "cc_onco1253.ann\t\t1.0\r\n",
      "-----------------------------------------------------\r\n",
      "cc_onco1254.ann\t\t0.846\r\n",
      "-----------------------------------------------------\r\n",
      "cc_onco1255.ann\t\t1.0\r\n",
      "-----------------------------------------------------\r\n",
      "cc_onco1256.ann\t\t1.0\r\n",
      "-----------------------------------------------------\r\n",
      "cc_onco1257.ann\t\t1.0\r\n",
      "-----------------------------------------------------\r\n",
      "cc_onco1258.ann\t\t0.963\r\n",
      "-----------------------------------------------------\r\n",
      "cc_onco1260.ann\t\t1.0\r\n",
      "-----------------------------------------------------\r\n",
      "cc_onco1262.ann\t\t1.0\r\n",
      "-----------------------------------------------------\r\n",
      "cc_onco1264.ann\t\t1.0\r\n",
      "-----------------------------------------------------\r\n",
      "cc_onco1267.ann\t\t1.0\r\n",
      "-----------------------------------------------------\r\n",
      "cc_onco1271.ann\t\t1.0\r\n",
      "-----------------------------------------------------\r\n",
      "cc_onco1272.ann\t\t1.0\r\n",
      "-----------------------------------------------------\r\n",
      "cc_onco1273.ann\t\t1.0\r\n",
      "-----------------------------------------------------\r\n",
      "cc_onco1275.ann\t\t1.0\r\n",
      "-----------------------------------------------------\r\n",
      "cc_onco1276.ann\t\t1.0\r\n",
      "-----------------------------------------------------\r\n",
      "cc_onco1277.ann\t\t1.0\r\n",
      "-----------------------------------------------------\r\n",
      "cc_onco1280.ann\t\t1.0\r\n",
      "-----------------------------------------------------\r\n",
      "cc_onco1283.ann\t\t0.973\r\n",
      "-----------------------------------------------------\r\n",
      "cc_onco1286.ann\t\t1.0\r\n",
      "-----------------------------------------------------\r\n",
      "cc_onco1293.ann\t\t1.0\r\n",
      "-----------------------------------------------------\r\n",
      "cc_onco1295.ann\t\t1.0\r\n",
      "-----------------------------------------------------\r\n",
      "cc_onco1296.ann\t\t0.97\r\n",
      "-----------------------------------------------------\r\n",
      "cc_onco1304.ann\t\t1.0\r\n",
      "-----------------------------------------------------\r\n",
      "cc_onco1307.ann\t\t1.0\r\n",
      "-----------------------------------------------------\r\n",
      "cc_onco1308.ann\t\t1.0\r\n",
      "-----------------------------------------------------\r\n",
      "cc_onco1311.ann\t\t0.952\r\n",
      "-----------------------------------------------------\r\n",
      "cc_onco1312.ann\t\t1.0\r\n",
      "-----------------------------------------------------\r\n",
      "cc_onco1314.ann\t\t1.0\r\n",
      "-----------------------------------------------------\r\n",
      "cc_onco1315.ann\t\t1.0\r\n",
      "-----------------------------------------------------\r\n",
      "cc_onco1317.ann\t\t1.0\r\n",
      "-----------------------------------------------------\r\n",
      "cc_onco1318.ann\t\t1.0\r\n",
      "-----------------------------------------------------\r\n",
      "cc_onco1319.ann\t\t1.0\r\n",
      "-----------------------------------------------------\r\n",
      "cc_onco1320.ann\t\t1.0\r\n",
      "-----------------------------------------------------\r\n",
      "cc_onco1323.ann\t\t1.0\r\n",
      "-----------------------------------------------------\r\n",
      "cc_onco1324.ann\t\t1.0\r\n",
      "-----------------------------------------------------\r\n",
      "cc_onco1325.ann\t\t0.957\r\n",
      "-----------------------------------------------------\r\n",
      "cc_onco1326.ann\t\t1.0\r\n",
      "-----------------------------------------------------\r\n",
      "cc_onco1328.ann\t\t1.0\r\n",
      "-----------------------------------------------------\r\n",
      "cc_onco1329.ann\t\t1.0\r\n",
      "-----------------------------------------------------\r\n",
      "cc_onco1330.ann\t\t1.0\r\n",
      "-----------------------------------------------------\r\n",
      "cc_onco1331.ann\t\t0.933\r\n",
      "-----------------------------------------------------\r\n",
      "cc_onco1333.ann\t\t1.0\r\n",
      "-----------------------------------------------------\r\n",
      "cc_onco1336.ann\t\t1.0\r\n",
      "-----------------------------------------------------\r\n",
      "cc_onco1337.ann\t\t1.0\r\n",
      "-----------------------------------------------------\r\n",
      "cc_onco1338.ann\t\t1.0\r\n",
      "-----------------------------------------------------\r\n",
      "cc_onco1339.ann\t\t1.0\r\n",
      "-----------------------------------------------------\r\n",
      "cc_onco1340.ann\t\t1.0\r\n",
      "-----------------------------------------------------\r\n",
      "cc_onco1350.ann\t\t1.0\r\n",
      "-----------------------------------------------------\r\n",
      "cc_onco1351.ann\t\t1.0\r\n",
      "-----------------------------------------------------\r\n",
      "cc_onco1353.ann\t\t1.0\r\n",
      "-----------------------------------------------------\r\n",
      "cc_onco1354.ann\t\t0.968\r\n",
      "-----------------------------------------------------\r\n",
      "cc_onco1355.ann\t\t1.0\r\n",
      "-----------------------------------------------------\r\n",
      "cc_onco1356.ann\t\t1.0\r\n",
      "-----------------------------------------------------\r\n",
      "cc_onco1358.ann\t\t0.947\r\n",
      "-----------------------------------------------------\r\n",
      "cc_onco1359.ann\t\t1.0\r\n",
      "-----------------------------------------------------\r\n",
      "cc_onco1361.ann\t\t1.0\r\n",
      "-----------------------------------------------------\r\n",
      "cc_onco1363.ann\t\t1.0\r\n",
      "-----------------------------------------------------\r\n",
      "cc_onco1368.ann\t\t0.957\r\n",
      "-----------------------------------------------------\r\n",
      "cc_onco1371.ann\t\t1.0\r\n",
      "-----------------------------------------------------\r\n",
      "cc_onco1373.ann\t\t1.0\r\n",
      "-----------------------------------------------------\r\n",
      "cc_onco1376.ann\t\t1.0\r\n",
      "-----------------------------------------------------\r\n",
      "cc_onco1377.ann\t\t1.0\r\n",
      "-----------------------------------------------------\r\n",
      "cc_onco1382.ann\t\t1.0\r\n",
      "-----------------------------------------------------\r\n",
      "cc_onco1383.ann\t\t1.0\r\n",
      "-----------------------------------------------------\r\n",
      "cc_onco1384.ann\t\t1.0\r\n",
      "-----------------------------------------------------\r\n",
      "cc_onco1387.ann\t\t1.0\r\n",
      "-----------------------------------------------------\r\n",
      "cc_onco1388.ann\t\t0.8\r\n",
      "-----------------------------------------------------\r\n",
      "cc_onco1390.ann\t\t1.0\r\n",
      "-----------------------------------------------------\r\n",
      "cc_onco1391.ann\t\t1.0\r\n",
      "-----------------------------------------------------\r\n",
      "cc_onco1392.ann\t\t1.0\r\n",
      "-----------------------------------------------------\r\n",
      "cc_onco1393.ann\t\t1.0\r\n",
      "-----------------------------------------------------\r\n",
      "cc_onco1397.ann\t\t0.889\r\n",
      "-----------------------------------------------------\r\n",
      "cc_onco1402.ann\t\t1.0\r\n",
      "-----------------------------------------------------\r\n",
      "cc_onco1404.ann\t\t1.0\r\n",
      "-----------------------------------------------------\r\n",
      "cc_onco1405.ann\t\t1.0\r\n",
      "-----------------------------------------------------\r\n",
      "cc_onco1412.ann\t\t1.0\r\n",
      "-----------------------------------------------------\r\n",
      "cc_onco1415.ann\t\t1.0\r\n",
      "-----------------------------------------------------\r\n",
      "cc_onco1418.ann\t\t1.0\r\n",
      "-----------------------------------------------------\r\n",
      "cc_onco1419.ann\t\t0.957\r\n",
      "-----------------------------------------------------\r\n",
      "cc_onco1420.ann\t\t1.0\r\n",
      "-----------------------------------------------------\r\n",
      "cc_onco1424.ann\t\t1.0\r\n",
      "-----------------------------------------------------\r\n",
      "cc_onco1427.ann\t\t0.8\r\n",
      "-----------------------------------------------------\r\n",
      "cc_onco1428.ann\t\t1.0\r\n",
      "-----------------------------------------------------\r\n",
      "cc_onco1429.ann\t\t1.0\r\n",
      "-----------------------------------------------------\r\n",
      "cc_onco1432.ann\t\t0.966\r\n",
      "-----------------------------------------------------\r\n",
      "cc_onco1435.ann\t\t1.0\r\n",
      "-----------------------------------------------------\r\n",
      "cc_onco1437.ann\t\t1.0\r\n",
      "-----------------------------------------------------\r\n",
      "cc_onco1438.ann\t\t1.0\r\n",
      "-----------------------------------------------------\r\n",
      "cc_onco1444.ann\t\t1.0\r\n",
      "-----------------------------------------------------\r\n",
      "cc_onco1448.ann\t\t1.0\r\n",
      "-----------------------------------------------------\r\n",
      "cc_onco1449.ann\t\t1.0\r\n",
      "-----------------------------------------------------\r\n",
      "cc_onco1451.ann\t\t1.0\r\n",
      "-----------------------------------------------------\r\n",
      "cc_onco1459.ann\t\t1.0\r\n",
      "-----------------------------------------------------\r\n",
      "cc_onco1461.ann\t\t1.0\r\n",
      "-----------------------------------------------------\r\n",
      "cc_onco1462.ann\t\t1.0\r\n",
      "-----------------------------------------------------\r\n",
      "cc_onco1463.ann\t\t1.0\r\n",
      "-----------------------------------------------------\r\n",
      "cc_onco1467.ann\t\t1.0\r\n",
      "-----------------------------------------------------\r\n",
      "cc_onco1474.ann\t\t1.0\r\n",
      "-----------------------------------------------------\r\n",
      "cc_onco1475.ann\t\t0.667\r\n",
      "-----------------------------------------------------\r\n",
      "cc_onco1478.ann\t\t1.0\r\n",
      "-----------------------------------------------------\r\n",
      "cc_onco1482.ann\t\t1.0\r\n",
      "-----------------------------------------------------\r\n",
      "cc_onco1484.ann\t\t1.0\r\n",
      "-----------------------------------------------------\r\n",
      "cc_onco1487.ann\t\t1.0\r\n",
      "-----------------------------------------------------\r\n",
      "cc_onco1488.ann\t\t1.0\r\n",
      "-----------------------------------------------------\r\n",
      "cc_onco1490.ann\t\t1.0\r\n",
      "-----------------------------------------------------\r\n",
      "cc_onco1492.ann\t\t1.0\r\n",
      "-----------------------------------------------------\r\n",
      "cc_onco1494.ann\t\t0.985\r\n",
      "-----------------------------------------------------\r\n",
      "cc_onco1495.ann\t\t1.0\r\n",
      "-----------------------------------------------------\r\n",
      "cc_onco1497.ann\t\t1.0\r\n",
      "-----------------------------------------------------\r\n",
      "cc_onco1500.ann\t\t1.0\r\n",
      "-----------------------------------------------------\r\n",
      "cc_onco282.ann\t\t1.0\r\n",
      "-----------------------------------------------------\r\n",
      "cc_onco437.ann\t\t1.0\r\n",
      "-----------------------------------------------------\r\n",
      "cc_onco639.ann\t\t1.0\r\n",
      "-----------------------------------------------------\r\n",
      "cc_onco645.ann\t\t1.0\r\n",
      "-----------------------------------------------------\r\n",
      "cc_onco65.ann\t\t1.0\r\n",
      "-----------------------------------------------------\r\n",
      "cc_onco657.ann\t\t1.0\r\n",
      "-----------------------------------------------------\r\n",
      "cc_onco691.ann\t\t1.0\r\n",
      "-----------------------------------------------------\r\n",
      "cc_onco734.ann\t\t1.0\r\n",
      "-----------------------------------------------------\r\n",
      "cc_onco735.ann\t\t1.0\r\n",
      "-----------------------------------------------------\r\n",
      "cc_onco751.ann\t\t1.0\r\n",
      "-----------------------------------------------------\r\n",
      "cc_onco874.ann\t\t1.0\r\n",
      "-----------------------------------------------------\r\n",
      "cc_onco898.ann\t\t1.0\r\n",
      "-----------------------------------------------------\r\n",
      "cc_onco945.ann\t\t1.0\r\n",
      "-----------------------------------------------------\r\n",
      "cc_onco994.ann\t\t1.0\r\n",
      "-----------------------------------------------------\r\n",
      "\r\n",
      "-----------------------------------------------------\r\n",
      "Micro-average metrics\r\n",
      "-----------------------------------------------------\r\n",
      "\r\n",
      "Micro-average precision = 0.998\r\n",
      "\r\n",
      "\r\n",
      "Micro-average recall = 0.984\r\n",
      "\r\n",
      "\r\n",
      "Micro-average F-score = 0.991\r\n",
      "\r\n",
      "./dev_preds/|0.998|0.984|0.991\r\n"
     ]
    },
    {
     "name": "stdout",
     "output_type": "stream",
     "text": [
      "CPU times: user 10.7 ms, sys: 37.4 ms, total: 48.1 ms\n",
      "Wall time: 1.03 s\n"
     ]
    }
   ],
   "source": [
    "%%time\n",
    "!python ../resources/cantemist-evaluation-library/src/main.py -g ../datasets/cantemist_v6/dev-set2/cantemist-ner/ -p ./dev_preds/ -s ner "
   ]
  },
  {
   "cell_type": "markdown",
   "metadata": {},
   "source": [
    "## Test set predictions"
   ]
  },
  {
   "cell_type": "code",
   "execution_count": 101,
   "metadata": {},
   "outputs": [
    {
     "name": "stdout",
     "output_type": "stream",
     "text": [
      "CPU times: user 55.7 ms, sys: 20.1 ms, total: 75.7 ms\n",
      "Wall time: 410 ms\n"
     ]
    }
   ],
   "source": [
    "%%time\n",
    "test_path = corpus_path + \"test-set/\" + sub_task_path\n",
    "test_files = [f for f in os.listdir(test_path) if os.path.isfile(test_path + f) and f.split('.')[-1] == 'txt']\n",
    "test_data = load_text_files(test_files, test_path)\n",
    "df_text_test = pd.DataFrame({'doc_id': [s.split('.txt')[0] for s in test_files], 'raw_text': test_data})"
   ]
  },
  {
   "cell_type": "code",
   "execution_count": 102,
   "metadata": {},
   "outputs": [
    {
     "data": {
      "text/plain": [
       "(300, 2)"
      ]
     },
     "execution_count": 102,
     "metadata": {},
     "output_type": "execute_result"
    }
   ],
   "source": [
    "df_text_test.shape"
   ]
  },
  {
   "cell_type": "code",
   "execution_count": 103,
   "metadata": {},
   "outputs": [
    {
     "data": {
      "text/html": [
       "<div>\n",
       "<style scoped>\n",
       "    .dataframe tbody tr th:only-of-type {\n",
       "        vertical-align: middle;\n",
       "    }\n",
       "\n",
       "    .dataframe tbody tr th {\n",
       "        vertical-align: top;\n",
       "    }\n",
       "\n",
       "    .dataframe thead th {\n",
       "        text-align: right;\n",
       "    }\n",
       "</style>\n",
       "<table border=\"1\" class=\"dataframe\">\n",
       "  <thead>\n",
       "    <tr style=\"text-align: right;\">\n",
       "      <th></th>\n",
       "      <th>doc_id</th>\n",
       "      <th>raw_text</th>\n",
       "    </tr>\n",
       "  </thead>\n",
       "  <tbody>\n",
       "    <tr>\n",
       "      <th>0</th>\n",
       "      <td>cc_onco877</td>\n",
       "      <td>Anamnesis\\nMujer de 59 años, alérgica a penici...</td>\n",
       "    </tr>\n",
       "    <tr>\n",
       "      <th>1</th>\n",
       "      <td>cc_onco1075</td>\n",
       "      <td>Anamnesis\\nMujer de 52 años, sin alergias cono...</td>\n",
       "    </tr>\n",
       "    <tr>\n",
       "      <th>2</th>\n",
       "      <td>cc_onco1450</td>\n",
       "      <td>Anamnesis\\nMujer de 51 años de edad, sin antec...</td>\n",
       "    </tr>\n",
       "    <tr>\n",
       "      <th>3</th>\n",
       "      <td>cc_onco1165</td>\n",
       "      <td>Anamnesis\\nPaciente varón de 75 años sin hábit...</td>\n",
       "    </tr>\n",
       "    <tr>\n",
       "      <th>4</th>\n",
       "      <td>cc_onco1298</td>\n",
       "      <td>Anamnesis\\nMujer de 60 años, exfumadora de 20 ...</td>\n",
       "    </tr>\n",
       "  </tbody>\n",
       "</table>\n",
       "</div>"
      ],
      "text/plain": [
       "        doc_id                                           raw_text\n",
       "0   cc_onco877  Anamnesis\\nMujer de 59 años, alérgica a penici...\n",
       "1  cc_onco1075  Anamnesis\\nMujer de 52 años, sin alergias cono...\n",
       "2  cc_onco1450  Anamnesis\\nMujer de 51 años de edad, sin antec...\n",
       "3  cc_onco1165  Anamnesis\\nPaciente varón de 75 años sin hábit...\n",
       "4  cc_onco1298  Anamnesis\\nMujer de 60 años, exfumadora de 20 ..."
      ]
     },
     "execution_count": 103,
     "metadata": {},
     "output_type": "execute_result"
    }
   ],
   "source": [
    "df_text_test.head()"
   ]
  },
  {
   "cell_type": "code",
   "execution_count": 104,
   "metadata": {},
   "outputs": [
    {
     "data": {
      "text/plain": [
       "300"
      ]
     },
     "execution_count": 104,
     "metadata": {},
     "output_type": "execute_result"
    }
   ],
   "source": [
    "len(set(df_text_test['doc_id']))"
   ]
  },
  {
   "cell_type": "code",
   "execution_count": 105,
   "metadata": {},
   "outputs": [
    {
     "data": {
      "text/plain": [
       "'Anamnesis\\nMujer de 59 años, alérgica a penicilina y procaína. Fumadora activa (IPA: 43).\\nAntecedentes familiares: abuelo materno diagnosticado de carcinoma colon a los 70 años; madre diagnosticada de carcinoma de mama bilateral a los 50 años; padre fallecido de carcinoma gástrico a los 47 años; tres tías maternas diagnosticadas de carcinoma de mama a los 55, 56 y 57 años respectivamente; y tres primas afectas de cáncer de mama.\\nAntecedentes personales: bronquitis crónica, poliposis colónica, carcinoma ductal infiltrante clásico mama pT2pN0M0 G2 subtipo tumoral luminal a (RH: +, HER-2: negativo) intervenido en agosto de 2013 mediante tumorectomía mama izquierda (patrón round block) + biopsia selectiva ganglio centinela (negativo) y posterior QT adyuvante con esquema TC (paclitaxel-ciclofosfamida) x 4 ciclos.\\nAcude en noviembre de 2013 a visita de seguimiento tras finalizar tratamiento adyuvante. Asintomática.\\n\\nExploración física\\nTemperatura axilar 36,5ºC, tensión arterial 130/83 mm Hg, frecuencia cardiaca 90 lpm y saturación basal de oxígeno del 98 %.\\nConsciente, orientada en las tres esferas, eupneica en reposo. Buen estado general. Glasgow 15. Exploración mamaria: no se aprecian signos de inflamación, ulceración y/o asimetrías. No hay secreción ni retracción de pezón. No se palpan nódulos, masas ni adenopatías regionales. AC: tonos rítmicos, sin soplos. AP: hipoventilación en hemitórax izquierdo. Abdomen: anodino. Sin edemas ni signos de TVP en EEII.\\n\\nPruebas complementarias\\nTC con contraste: nódulos pulmonares de 10 mm en lóbulo superior derecho (LSD), que presenta amplio contacto con pleura y discreta especulación marginal (apariencia atípica para corresponder a enfermedad secundaria) y dos en lóbulo medio (LM) de bordes bien definidos, el mayor de 16 mm.\\nAnalítica general: bioquímica y hemograma sin alteraciones relevantes. Marcadores tumorales: Ca 15,3: 23,3 U/ml (0-30). CEA: 18,27 ng/ml (0-4,6).\\n\\nDiagnóstico\\n- Nódulos pulmonares a estudio.\\n- Carcinoma ductal infiltrante pT2pN0M0 luminal A.\\n\\nTratamiento\\nNo precisa tratamiento específico en este momento.\\n\\nEvolución\\nSe solicita PET/TC que confirma la existencia de nódulo de 1,3 mm en LSD con SUVmax 6,6 y nódulo de 10 mm en LM con SUVmax de 3; sin otros hallazgos.\\nTC craneoencefálica con contraste: no se evidencian imágenes que sugieran existencia de enfermedad secundaria a nivel encefálico. Espacios subaracnoideos de convexidad y sistema ventricular dentro de límites de normalidad.\\nTras presentar el caso en Comité de Tumores Tórax, se plantea intervención quirúrgica. El día 26/2/2014 se realiza resección atípica de ambos nódulos pulmonares (16 mm LSD y 12 mm LM), con resultado anatomopatológico de adenocarcinoma acinar focalmente mucosecretor de origen pulmonar G2 (perfil inmunohistoquímico, IHQ: TTF1:+). Determinación: mutación EGFR (RT-PCR Cobas®): negativa. Translocación ALK (IHQ Novocastra®): negativa.\\nTras la cirugía se solicita PET/TC que detecta hipercaptación en adenopatías 4R, 7, 10R con SUVmax hasta 4. Tras presentar el caso en comité multidisciplinar, se decide solicitar TC que no muestra hallazgos destacables y ecobroncoscopia (EBUS). Se procede a realizar punción-biopsia de adenopatías 4R y 7 resultando negativas para malignidad con hallazgos inflamatorios.\\nContinúa el seguimiento estrecho y en abril/2015 se detecta en TC nódulo pulmonar de 0,6 cm en LSD y aumento de CEA (8). En PET/TC se aprecia micronódulo LSD de 0,5 cm con SUVmax de 1,6 sospechoso de malignidad, sin más datos de enfermedad regional y/o a distancia. Se solicitan además pruebas funcionales respiratorias y broncoscopia, anodina.\\nAnte sospecha de recidiva local, se presenta nuevamente en Comité de Tumores Tórax y se plantea cirugía. Se interviene bajo anestesia general, el 25-6-2015 realizándose resección sublobar atípica en cuña de LSD, localizando nódulo en segmento posterior de LSD. El resultado anatomopatológico confirma adenocarcinoma moderadamente diferenciado de origen pulmonar pT1aN0M0 (perfil IHQ: TTF1:+, RH: -; Ki 67: 75 %). Posteriormente recibe QT adyuvante esquema cisplatino 75 mg/m2 IV d1 + VNR oral 60 mg/m2 d1y8 c/21d, x 4 ciclos con buena tolerancia y respuesta completa radiológica.\\nControles periódicos posteriores sin evidencia de enfermedad hasta que en mayo/2017 aparece en TC progresión de enfermedad con aparición de masa pulmonar izquierda, nódulos pulmonares metastásicos bilaterales, afectación metastásica ganglionar mediastínica e hiliar izquierda con diseminación ósea. Múltiples adenopatías y conglomerados mediastínicos, lesión blástica en cuerpo vertebral T5.\\nDurante la exploración física, destacaba palpación de conglomerado adenopático en región supraclavicular izquierda doloroso en la palpación.\\nSe solicitó determinación de perfil genómico con material de la biopsia de pieza quirúrgica tumoral previa a través de la plataforma Next Generation Sequencing (NGS) FoundationOne® en el que se identificaron amplificación ERBB2, mutación BRCA-1 (variante D1692fs*10), amplificación MYC, mutación TP53 (splicesite 920-1G>T), además de una alta carga mutacional (TMB-High; 42Muts/Mb).\\nSe solicitó adicionalmente determinación por inmunohistoquímica de PD-L1, encontrando expresión del mismo en menos del 1 % (sin expresión).\\nSe confirma en gammagrafía ósea presencia de múltiples metástasis óseas distribuidas en calota, parrilla costal, raquis, esternón, ambos húmeros, pelvis y fémur derecho.\\nCon todos los hallazgos clínico-radiológicos y perfil genómico e IHQ tumoral, valorando las diferentes opciones terapéuticas, se decide iniciar primera línea de QT paliativa con esquema carboplatino AUC-5+ pemetrexed 500 mg/m2 IV d1 c/21d + ácido zoledrónico 4 mg IV.\\nEn la actualidad, ha completado 2 ciclos con buena tolerancia y se ha solicitado radioterapia paliativa antiálgica sobre lesiones óseas pélvicas, debido al mal control del dolor a pesar de analgesia de tercer escalón.'"
      ]
     },
     "execution_count": 105,
     "metadata": {},
     "output_type": "execute_result"
    }
   ],
   "source": [
    "df_text_test.raw_text[0]"
   ]
  },
  {
   "cell_type": "code",
   "execution_count": 106,
   "metadata": {},
   "outputs": [],
   "source": [
    "test_doc_list = sorted(set(df_text_test[\"doc_id\"]))"
   ]
  },
  {
   "cell_type": "code",
   "execution_count": 107,
   "metadata": {},
   "outputs": [
    {
     "data": {
      "text/plain": [
       "300"
      ]
     },
     "execution_count": 107,
     "metadata": {},
     "output_type": "execute_result"
    }
   ],
   "source": [
    "len(test_doc_list)"
   ]
  },
  {
   "cell_type": "code",
   "execution_count": 113,
   "metadata": {},
   "outputs": [],
   "source": [
    "# Sentence-Split data"
   ]
  },
  {
   "cell_type": "code",
   "execution_count": 108,
   "metadata": {},
   "outputs": [
    {
     "name": "stdout",
     "output_type": "stream",
     "text": [
      "CPU times: user 583 ms, sys: 274 ms, total: 857 ms\n",
      "Wall time: 2.52 s\n"
     ]
    }
   ],
   "source": [
    "%%time\n",
    "ss_sub_corpus_path = ss_corpus_path + \"test-background/\"\n",
    "ss_files = [f for f in os.listdir(ss_sub_corpus_path) if os.path.isfile(ss_sub_corpus_path + f)]\n",
    "ss_dict_test = load_ss_files(ss_files, ss_sub_corpus_path)"
   ]
  },
  {
   "cell_type": "code",
   "execution_count": 109,
   "metadata": {},
   "outputs": [
    {
     "name": "stderr",
     "output_type": "stream",
     "text": [
      "100%|██████████| 300/300 [00:26<00:00, 11.27it/s]"
     ]
    },
    {
     "name": "stdout",
     "output_type": "stream",
     "text": [
      "CPU times: user 26.7 s, sys: 115 ms, total: 26.8 s\n",
      "Wall time: 26.7 s\n"
     ]
    },
    {
     "name": "stderr",
     "output_type": "stream",
     "text": [
      "\n"
     ]
    }
   ],
   "source": [
    "%%time\n",
    "test_ind, test_att, test_type, _, test_frag, test_start_end_frag, test_word_id = ss_create_input_data_ner(df_text=df_text_test, \n",
    "                                                  text_col=text_col, \n",
    "                                                  # Since labels are ignored, we pass df_codes_train_ner as df_ann\n",
    "                                                  df_ann=df_codes_train_ner_final, doc_list=test_doc_list, ss_dict=ss_dict_test,\n",
    "                                                  tokenizer=tokenizer, lab_encoder=lab_encoder, seq_len=SEQ_LEN, \n",
    "                                                  ign_value=IGNORE_VALUE, strategy=ANN_STRATEGY, greedy=GREEDY)"
   ]
  },
  {
   "cell_type": "code",
   "execution_count": 116,
   "metadata": {},
   "outputs": [],
   "source": [
    "# Sanity check"
   ]
  },
  {
   "cell_type": "code",
   "execution_count": 110,
   "metadata": {},
   "outputs": [
    {
     "data": {
      "text/plain": [
       "(3853, 128)"
      ]
     },
     "execution_count": 110,
     "metadata": {},
     "output_type": "execute_result"
    }
   ],
   "source": [
    "test_ind.shape"
   ]
  },
  {
   "cell_type": "code",
   "execution_count": 111,
   "metadata": {},
   "outputs": [
    {
     "data": {
      "text/plain": [
       "(3853, 128)"
      ]
     },
     "execution_count": 111,
     "metadata": {},
     "output_type": "execute_result"
    }
   ],
   "source": [
    "test_att.shape"
   ]
  },
  {
   "cell_type": "code",
   "execution_count": 112,
   "metadata": {},
   "outputs": [
    {
     "data": {
      "text/plain": [
       "(3853, 128)"
      ]
     },
     "execution_count": 112,
     "metadata": {},
     "output_type": "execute_result"
    }
   ],
   "source": [
    "test_type.shape"
   ]
  },
  {
   "cell_type": "code",
   "execution_count": 113,
   "metadata": {},
   "outputs": [
    {
     "data": {
      "text/plain": [
       "300"
      ]
     },
     "execution_count": 113,
     "metadata": {},
     "output_type": "execute_result"
    }
   ],
   "source": [
    "len(test_frag)"
   ]
  },
  {
   "cell_type": "code",
   "execution_count": 114,
   "metadata": {},
   "outputs": [
    {
     "data": {
      "text/plain": [
       "3853"
      ]
     },
     "execution_count": 114,
     "metadata": {},
     "output_type": "execute_result"
    }
   ],
   "source": [
    "len(test_start_end_frag)"
   ]
  },
  {
   "cell_type": "code",
   "execution_count": 115,
   "metadata": {},
   "outputs": [
    {
     "data": {
      "text/plain": [
       "3853"
      ]
     },
     "execution_count": 115,
     "metadata": {},
     "output_type": "execute_result"
    }
   ],
   "source": [
    "len(test_word_id)"
   ]
  },
  {
   "cell_type": "code",
   "execution_count": 116,
   "metadata": {},
   "outputs": [
    {
     "name": "stdout",
     "output_type": "stream",
     "text": [
      "CPU times: user 11.4 s, sys: 1.94 s, total: 13.3 s\n",
      "Wall time: 19 s\n"
     ]
    }
   ],
   "source": [
    "%%time\n",
    "test_preds = tf.nn.softmax(logits=model.predict({'input_ids': test_ind}), \n",
    "                           axis=-1).numpy()"
   ]
  },
  {
   "cell_type": "code",
   "execution_count": 117,
   "metadata": {},
   "outputs": [
    {
     "data": {
      "text/plain": [
       "(3853, 128, 3)"
      ]
     },
     "execution_count": 117,
     "metadata": {},
     "output_type": "execute_result"
    }
   ],
   "source": [
    "test_preds.shape"
   ]
  },
  {
   "cell_type": "code",
   "execution_count": 118,
   "metadata": {},
   "outputs": [],
   "source": [
    "out_test_path = \"test_preds/\""
   ]
  },
  {
   "cell_type": "code",
   "execution_count": 119,
   "metadata": {},
   "outputs": [
    {
     "name": "stderr",
     "output_type": "stream",
     "text": [
      "100%|██████████| 300/300 [00:01<00:00, 249.91it/s]\n",
      "100%|██████████| 300/300 [00:08<00:00, 33.87it/s]\n"
     ]
    }
   ],
   "source": [
    "write_ner_ann(df_pred_ann=ner_preds_brat_format(doc_list=test_doc_list, fragments=test_frag, preds=test_preds, \n",
    "                                    start_end=test_start_end_frag, word_id=test_word_id, lb_encoder=lab_encoder, \n",
    "                                    df_text=df_text_test, text_col=text_col, strategy=EVAL_STRATEGY), \n",
    "              out_path=out_test_path)"
   ]
  },
  {
   "cell_type": "code",
   "execution_count": null,
   "metadata": {},
   "outputs": [],
   "source": [
    "%%time\n",
    "!python ../resources/cantemist-evaluation-library/src/main.py -g ../datasets/cantemist_v6/test-set/cantemist-ner/ -p ./test_preds/ -s ner "
   ]
  },
  {
   "cell_type": "code",
   "execution_count": null,
   "metadata": {},
   "outputs": [],
   "source": [
    "# Save predictions on the test set"
   ]
  },
  {
   "cell_type": "code",
   "execution_count": 128,
   "metadata": {},
   "outputs": [],
   "source": [
    "model_name = \"mbert_galen_\" + str(random_seed)"
   ]
  },
  {
   "cell_type": "code",
   "execution_count": 129,
   "metadata": {},
   "outputs": [],
   "source": [
    "np.save(file=\"test_preds_\" + model_name + \".npy\", arr=test_preds)"
   ]
  },
  {
   "cell_type": "code",
   "execution_count": 134,
   "metadata": {},
   "outputs": [
    {
     "name": "stderr",
     "output_type": "stream",
     "text": [
      "100%|██████████| 300/300 [00:01<00:00, 251.08it/s]\n"
     ]
    }
   ],
   "source": [
    "doc_word_preds, doc_word_start_end = seq_ner_preds_brat_format(doc_list=test_doc_list, fragments=test_frag, \n",
    "                           arr_start_end=test_start_end_frag, arr_word_id=test_word_id, arr_preds=test_preds, \n",
    "                           strategy=EVAL_STRATEGY)"
   ]
  },
  {
   "cell_type": "code",
   "execution_count": 135,
   "metadata": {},
   "outputs": [],
   "source": [
    "import pickle\n",
    "\n",
    "with open(\"test_doc_word_preds_\" + model_name + \".pck\", \"wb\") as f:\n",
    "    pickle.dump(doc_word_preds, f)\n",
    "\n",
    "with open(\"test_doc_word_start_end_\" + model_name + \".pck\", \"wb\") as f:\n",
    "    pickle.dump(doc_word_start_end, f)"
   ]
  }
 ],
 "metadata": {
  "kernelspec": {
   "display_name": "Python 3",
   "language": "python",
   "name": "python3"
  },
  "language_info": {
   "codemirror_mode": {
    "name": "ipython",
    "version": 3
   },
   "file_extension": ".py",
   "mimetype": "text/x-python",
   "name": "python",
   "nbconvert_exporter": "python",
   "pygments_lexer": "ipython3",
   "version": "3.7.10"
  }
 },
 "nbformat": 4,
 "nbformat_minor": 4
}
